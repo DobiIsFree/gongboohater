{
 "cells": [
  {
   "cell_type": "code",
   "execution_count": null,
   "metadata": {},
   "outputs": [],
   "source": [
    "from sklearn.model_selection import train_test_split\n",
    "\n",
    "train_test_split( data_X,  # 독립변수데이터 배열 또는 pandas\n",
    "                 data_Y,  # 종속 변수 데이터 \n",
    "                       # data 인수에 종속변수데이터가 있으면 \n",
    "                        # 생략가능.\n",
    "                test_size=0.3 , # 검증용 데이터 비율. 1보다작음\n",
    "                random_state=0 ) # 난수 시드\n",
    "            #df 4개로 분리된다.\n",
    "            #X_train,y_train,(학습용)\n",
    "            #X_test,y_test  (검증용)\n",
    "\n",
    "실제적용\n",
    "\n",
    "train_data_x, test_data_X, train_data_y, test_data_y = train_test_split(data_X,data_Y, test_size=0.3, random_state=0)"
   ]
  },
  {
   "cell_type": "code",
   "execution_count": null,
   "metadata": {},
   "outputs": [],
   "source": [
    "train_test_split(df, test_size=0.3 , randome_stata=0)\n",
    "            # df 2개로 분리된다.\n",
    "            # df1은 학습용(독립+종속)\n",
    "            # df2는 검증용(독립+종속)\n",
    "\n",
    "실제적용\n",
    "\n",
    "train_df, test_df= train_test_split(df, test_size=0.3, randome_state=0)"
   ]
  },
  {
   "cell_type": "code",
   "execution_count": null,
   "metadata": {},
   "outputs": [],
   "source": [
    "def linear_reg(x,y):\n",
    "    xt_dot_x = np.dot(x.transpose(), x)\n",
    "    inverse_xt_dot_x = np.linalg.inv(xt_dot_x + 1e-8)\n",
    "    beta = inverse_xt_dot_x @ x.transpose() @ y\n",
    "    return beta"
   ]
  },
  {
   "cell_type": "code",
   "execution_count": null,
   "metadata": {},
   "outputs": [],
   "source": [
    "betas = []\n",
    "valid_y_hat = []\n",
    "valid_y = []\n",
    "for train_set, valid_set in kfold_fn(toy_data):\n",
    "    beta = linear_reg(*train_set)\n",
    "    betas.append(beta)\n",
    "    valid_y.append(valid_set[1])\n",
    "    valid_y_hat.append(valid_set[0] @ beta.values)"
   ]
  }
 ],
 "metadata": {
  "language_info": {
   "name": "python"
  },
  "orig_nbformat": 4
 },
 "nbformat": 4,
 "nbformat_minor": 2
}
