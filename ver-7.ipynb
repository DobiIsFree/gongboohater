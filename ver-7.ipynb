{
 "cells": [
  {
   "cell_type": "markdown",
   "id": "9e75aa64",
   "metadata": {
    "_cell_guid": "3065ea28-3415-46ef-8ec2-672826f1896a",
    "_uuid": "1b633216-f642-426b-a442-36227e786485",
    "id": "iCTA6kl3n2O1",
    "papermill": {
     "duration": 0.009146,
     "end_time": "2023-05-19T12:47:03.718351",
     "exception": false,
     "start_time": "2023-05-19T12:47:03.709205",
     "status": "completed"
    },
    "tags": []
   },
   "source": [
    "# Student Performance from Game Play Using TensorFlow Decision Forests"
   ]
  },
  {
   "cell_type": "markdown",
   "id": "e574e5aa",
   "metadata": {
    "_cell_guid": "f5f126e7-a6c7-4d10-9453-02803d77fdec",
    "_uuid": "48949e80-ac79-459e-b078-1258b02a6d19",
    "id": "zAXHC6-Tn2O5",
    "papermill": {
     "duration": 0.007588,
     "end_time": "2023-05-19T12:47:03.734019",
     "exception": false,
     "start_time": "2023-05-19T12:47:03.726431",
     "status": "completed"
    },
    "tags": []
   },
   "source": [
    "## Import the Required Libraries"
   ]
  },
  {
   "cell_type": "code",
   "execution_count": 1,
   "id": "d38723e7",
   "metadata": {
    "_cell_guid": "d9edea55-e22d-47eb-9e89-f41baf355a90",
    "_uuid": "b8016303-112b-4ba5-b173-8f7fafdd3fbc",
    "collapsed": false,
    "execution": {
     "iopub.execute_input": "2023-05-19T12:47:03.752678Z",
     "iopub.status.busy": "2023-05-19T12:47:03.751759Z",
     "iopub.status.idle": "2023-05-19T12:47:05.128655Z",
     "shell.execute_reply": "2023-05-19T12:47:05.127441Z"
    },
    "id": "IanlX-Eqn2O5",
    "jupyter": {
     "outputs_hidden": false
    },
    "papermill": {
     "duration": 1.389894,
     "end_time": "2023-05-19T12:47:05.131856",
     "exception": false,
     "start_time": "2023-05-19T12:47:03.741962",
     "status": "completed"
    },
    "tags": []
   },
   "outputs": [],
   "source": [
    "import pandas as pd\n",
    "import numpy as np\n",
    "import matplotlib.pyplot as plt\n",
    "\n",
    "from xgboost import XGBClassifier\n",
    "from sklearn.model_selection import KFold, GroupKFold\n",
    "from sklearn.metrics import f1_score"
   ]
  },
  {
   "cell_type": "markdown",
   "id": "64c947d6",
   "metadata": {
    "_cell_guid": "5be263dd-cf1e-4887-b94b-caeeea6a4aa8",
    "_uuid": "2697b3d5-0f16-4f5e-aa80-76ad489e86ae",
    "id": "22DpLVFLn2O7",
    "papermill": {
     "duration": 0.007552,
     "end_time": "2023-05-19T12:47:05.147320",
     "exception": false,
     "start_time": "2023-05-19T12:47:05.139768",
     "status": "completed"
    },
    "tags": []
   },
   "source": [
    "## Load the Dataset"
   ]
  },
  {
   "cell_type": "code",
   "execution_count": 2,
   "id": "9acec103",
   "metadata": {
    "_cell_guid": "144dcbf9-be59-440c-b31a-8216f58528cb",
    "_uuid": "0cd23222-c6e1-47b2-8149-4834fa47f2e4",
    "collapsed": false,
    "execution": {
     "iopub.execute_input": "2023-05-19T12:47:05.165685Z",
     "iopub.status.busy": "2023-05-19T12:47:05.164772Z",
     "iopub.status.idle": "2023-05-19T12:49:14.321574Z",
     "shell.execute_reply": "2023-05-19T12:49:14.320419Z"
    },
    "id": "_XItl24kn2O7",
    "jupyter": {
     "outputs_hidden": false
    },
    "papermill": {
     "duration": 129.169738,
     "end_time": "2023-05-19T12:49:14.324913",
     "exception": false,
     "start_time": "2023-05-19T12:47:05.155175",
     "status": "completed"
    },
    "tags": []
   },
   "outputs": [],
   "source": [
    "# Reference: https://www.kaggle.com/competitions/predict-student-performance-from-game-play/discussion/384359\n",
    "dtypes={\n",
    "    'elapsed_time':np.int32,\n",
    "    'event_name':'category',\n",
    "    'name':'category',\n",
    "    'level':np.uint8,\n",
    "    'room_coor_x':np.float32,\n",
    "    'room_coor_y':np.float32,\n",
    "    'screen_coor_x':np.float32,\n",
    "    'screen_coor_y':np.float32,\n",
    "    'hover_duration':np.float32,\n",
    "    'text':'category',\n",
    "    'fqid':'category',\n",
    "    'room_fqid':'category',\n",
    "    'text_fqid':'category',\n",
    "    'fullscreen':'category',\n",
    "    'hq':'category',\n",
    "    'music':'category',\n",
    "    'level_group':'category'}\n",
    "\n",
    "dataset_df = pd.read_csv('/kaggle/input/predict-student-performance-from-game-play/train.csv', dtype=dtypes)"
   ]
  },
  {
   "cell_type": "markdown",
   "id": "b31817be",
   "metadata": {
    "_cell_guid": "c65e1dff-67b0-4bb6-9b97-b6418d4173c7",
    "_uuid": "3df6b5f5-7744-40f9-bec5-bb45b9238387",
    "id": "ReNY-i3bn2O8",
    "papermill": {
     "duration": 0.007593,
     "end_time": "2023-05-19T12:49:14.340737",
     "exception": false,
     "start_time": "2023-05-19T12:49:14.333144",
     "status": "completed"
    },
    "tags": []
   },
   "source": [
    "## Load the labels"
   ]
  },
  {
   "cell_type": "code",
   "execution_count": 3,
   "id": "0ff55e2b",
   "metadata": {
    "_cell_guid": "bc6c67b2-3be1-4595-bc75-a10a50ba30d3",
    "_uuid": "e71600d9-2043-4209-8373-cf254354b3f2",
    "collapsed": false,
    "execution": {
     "iopub.execute_input": "2023-05-19T12:49:14.359189Z",
     "iopub.status.busy": "2023-05-19T12:49:14.358392Z",
     "iopub.status.idle": "2023-05-19T12:49:14.741391Z",
     "shell.execute_reply": "2023-05-19T12:49:14.740302Z"
    },
    "id": "KD4uayl2n2O9",
    "jupyter": {
     "outputs_hidden": false
    },
    "papermill": {
     "duration": 0.396145,
     "end_time": "2023-05-19T12:49:14.744700",
     "exception": false,
     "start_time": "2023-05-19T12:49:14.348555",
     "status": "completed"
    },
    "tags": []
   },
   "outputs": [],
   "source": [
    "labels = pd.read_csv('/kaggle/input/predict-student-performance-from-game-play/train_labels.csv')"
   ]
  },
  {
   "cell_type": "code",
   "execution_count": 4,
   "id": "680c42b1",
   "metadata": {
    "_cell_guid": "24c78d16-6a6a-4409-b1c3-5f1d84c0a9ac",
    "_uuid": "afd665e4-8c5e-4a6a-9c96-2c8676f97c88",
    "collapsed": false,
    "execution": {
     "iopub.execute_input": "2023-05-19T12:49:14.763285Z",
     "iopub.status.busy": "2023-05-19T12:49:14.762471Z",
     "iopub.status.idle": "2023-05-19T12:49:15.906280Z",
     "shell.execute_reply": "2023-05-19T12:49:15.905225Z"
    },
    "id": "Kva8_Dbqn2O9",
    "jupyter": {
     "outputs_hidden": false
    },
    "papermill": {
     "duration": 1.15666,
     "end_time": "2023-05-19T12:49:15.909282",
     "exception": false,
     "start_time": "2023-05-19T12:49:14.752622",
     "status": "completed"
    },
    "tags": []
   },
   "outputs": [],
   "source": [
    "labels['session'] = labels.session_id.apply(lambda x: int(x.split('_')[0]) )\n",
    "labels['q'] = labels.session_id.apply(lambda x: int(x.split('_')[-1][1:]) )"
   ]
  },
  {
   "cell_type": "markdown",
   "id": "1e354cbc",
   "metadata": {
    "_cell_guid": "485073af-b103-48c0-8e8c-60c28ddc00fc",
    "_uuid": "d4215f16-78de-4f14-b9f3-b596b03f8433",
    "id": "y5fK05dsn2O_",
    "papermill": {
     "duration": 0.007656,
     "end_time": "2023-05-19T12:49:15.924944",
     "exception": false,
     "start_time": "2023-05-19T12:49:15.917288",
     "status": "completed"
    },
    "tags": []
   },
   "source": [
    "# Prepare the dataset"
   ]
  },
  {
   "cell_type": "code",
   "execution_count": 5,
   "id": "c2f693c9",
   "metadata": {
    "_cell_guid": "9527a410-8159-421f-9ad6-f3c712fc7d87",
    "_uuid": "886d16af-f0f1-4c68-8e15-9802bd417f6e",
    "collapsed": false,
    "execution": {
     "iopub.execute_input": "2023-05-19T12:49:15.943303Z",
     "iopub.status.busy": "2023-05-19T12:49:15.942539Z",
     "iopub.status.idle": "2023-05-19T12:49:16.210687Z",
     "shell.execute_reply": "2023-05-19T12:49:16.209435Z"
    },
    "id": "cCZWGiL_n2PA",
    "jupyter": {
     "outputs_hidden": false
    },
    "papermill": {
     "duration": 0.280956,
     "end_time": "2023-05-19T12:49:16.213709",
     "exception": false,
     "start_time": "2023-05-19T12:49:15.932753",
     "status": "completed"
    },
    "tags": []
   },
   "outputs": [],
   "source": [
    "CATEGORICAL = ['event_name', 'name', 'fqid', 'room_fqid', 'text_fqid']\n",
    "NUMERICAL = ['level', 'page', 'hover_duration', 'location_x_diff', 'location_y_diff']\n",
    "\n",
    "EVENTS = dataset_df['event_name'].unique()\n",
    "NAMES = dataset_df['name'].unique()\n",
    "\n",
    "DIFFS = ['location_x_diff', 'location_y_diff']\n",
    "\n",
    "# Except: 'music', 'fullscreen', 'hq'"
   ]
  },
  {
   "cell_type": "code",
   "execution_count": 6,
   "id": "c77a2ba2",
   "metadata": {
    "execution": {
     "iopub.execute_input": "2023-05-19T12:49:16.232095Z",
     "iopub.status.busy": "2023-05-19T12:49:16.231585Z",
     "iopub.status.idle": "2023-05-19T12:49:16.248244Z",
     "shell.execute_reply": "2023-05-19T12:49:16.246872Z"
    },
    "papermill": {
     "duration": 0.029653,
     "end_time": "2023-05-19T12:49:16.251396",
     "exception": false,
     "start_time": "2023-05-19T12:49:16.221743",
     "status": "completed"
    },
    "tags": []
   },
   "outputs": [],
   "source": [
    "def feature_engineer(dataset_df):\n",
    "    dataset_df['elapsed_time_diff'] = (\n",
    "        (dataset_df['elapsed_time'] - dataset_df['elapsed_time'].shift(1))\n",
    "        .fillna(0)\n",
    "        .clip(lower=0, upper=1e9)\n",
    "    )\n",
    "    dataset_df['location_x_diff'] = (\n",
    "        (dataset_df['room_coor_x'] - dataset_df['room_coor_x'].shift(1))\n",
    "        .abs()\n",
    "    )\n",
    "    dataset_df['location_y_diff'] = (\n",
    "        (dataset_df['room_coor_y'] - dataset_df['room_coor_y'].shift(1))\n",
    "        .abs()\n",
    "    )\n",
    "    \n",
    "    dfs = []\n",
    "    \n",
    "    for c in NUMERICAL:\n",
    "        tmp = dataset_df.groupby(['session_id','level_group'])[c].agg('mean')\n",
    "        tmp.name = tmp.name + '_mean'\n",
    "        dfs.append(tmp)\n",
    "    for c in NUMERICAL:\n",
    "        tmp = dataset_df.groupby(['session_id','level_group'])[c].agg('std')\n",
    "        tmp.name = tmp.name + '_std'\n",
    "        dfs.append(tmp)\n",
    "        \n",
    "    for c in DIFFS:\n",
    "        tmp = dataset_df.groupby(['session_id', 'level_group'])[c].sum()\n",
    "        tmp.name = c + '_sum'\n",
    "        dfs.append(tmp)\n",
    "        \n",
    "    for c in EVENTS: \n",
    "        dataset_df[c] = (dataset_df.event_name == c).astype('int8')\n",
    "    for c in EVENTS: \n",
    "        tmp = dataset_df[dataset_df[c] == 1].groupby(['session_id', 'level_group'])[c].sum()\n",
    "        tmp.name = c + '_count'\n",
    "        dfs.append(tmp)\n",
    "\n",
    "    dataset_df = pd.concat(dfs,axis=1)\n",
    "    dataset_df = dataset_df.fillna(-1)\n",
    "    dataset_df = dataset_df.reset_index()\n",
    "    dataset_df = dataset_df.set_index('session_id')\n",
    "    return dataset_df"
   ]
  },
  {
   "cell_type": "code",
   "execution_count": 7,
   "id": "4a3b9a57",
   "metadata": {
    "execution": {
     "iopub.execute_input": "2023-05-19T12:49:16.271527Z",
     "iopub.status.busy": "2023-05-19T12:49:16.271044Z",
     "iopub.status.idle": "2023-05-19T12:49:44.696648Z",
     "shell.execute_reply": "2023-05-19T12:49:44.695376Z"
    },
    "papermill": {
     "duration": 28.440936,
     "end_time": "2023-05-19T12:49:44.700348",
     "exception": false,
     "start_time": "2023-05-19T12:49:16.259412",
     "status": "completed"
    },
    "tags": []
   },
   "outputs": [],
   "source": [
    "dataset_df = feature_engineer(dataset_df)"
   ]
  },
  {
   "cell_type": "code",
   "execution_count": 8,
   "id": "d36aea91",
   "metadata": {
    "execution": {
     "iopub.execute_input": "2023-05-19T12:49:44.719353Z",
     "iopub.status.busy": "2023-05-19T12:49:44.718831Z",
     "iopub.status.idle": "2023-05-19T12:49:44.723605Z",
     "shell.execute_reply": "2023-05-19T12:49:44.722512Z"
    },
    "papermill": {
     "duration": 0.017524,
     "end_time": "2023-05-19T12:49:44.726212",
     "exception": false,
     "start_time": "2023-05-19T12:49:44.708688",
     "status": "completed"
    },
    "tags": []
   },
   "outputs": [],
   "source": [
    "# corr = dataset_df.corr()\n",
    "\n",
    "# plt.figure(figsize=(15,15)) \n",
    "# sns.heatmap(corr, annot=True, cmap='Blues')\n",
    "# plt.title('Correlation Heatmap')\n",
    "# plt.show()"
   ]
  },
  {
   "cell_type": "code",
   "execution_count": 9,
   "id": "4721ba4b",
   "metadata": {
    "execution": {
     "iopub.execute_input": "2023-05-19T12:49:44.744503Z",
     "iopub.status.busy": "2023-05-19T12:49:44.744019Z",
     "iopub.status.idle": "2023-05-19T12:49:44.754523Z",
     "shell.execute_reply": "2023-05-19T12:49:44.753276Z"
    },
    "papermill": {
     "duration": 0.023497,
     "end_time": "2023-05-19T12:49:44.757866",
     "exception": false,
     "start_time": "2023-05-19T12:49:44.734369",
     "status": "completed"
    },
    "tags": []
   },
   "outputs": [],
   "source": [
    "FEATURES = [c for c in dataset_df.columns if c != 'level_group']\n",
    "ALL_USERS = dataset_df.index.unique()\n",
    "\n",
    "gkf = GroupKFold(n_splits=5)\n",
    "oof = pd.DataFrame(data=np.zeros((len(ALL_USERS),18)), index=ALL_USERS)\n",
    "models = {}\n",
    "evaluation_dict ={}"
   ]
  },
  {
   "cell_type": "code",
   "execution_count": 10,
   "id": "0bb93067",
   "metadata": {
    "execution": {
     "iopub.execute_input": "2023-05-19T12:49:44.776613Z",
     "iopub.status.busy": "2023-05-19T12:49:44.775561Z",
     "iopub.status.idle": "2023-05-19T12:49:44.785089Z",
     "shell.execute_reply": "2023-05-19T12:49:44.783939Z"
    },
    "papermill": {
     "duration": 0.021829,
     "end_time": "2023-05-19T12:49:44.787691",
     "exception": false,
     "start_time": "2023-05-19T12:49:44.765862",
     "status": "completed"
    },
    "tags": []
   },
   "outputs": [
    {
     "data": {
      "text/plain": [
       "Int64Index([20090312431273200, 20090312433251036, 20090312455206810,\n",
       "            20090313091715820, 20090313571836404, 20090314035813970,\n",
       "            20090314121766812, 20090314221187252, 20090314363702160,\n",
       "            20090314441803444,\n",
       "            ...\n",
       "            22100213081672770, 22100213133089136, 22100215032067016,\n",
       "            22100215190998610, 22100215241104530, 22100215342220508,\n",
       "            22100215460321130, 22100217104993650, 22100219442786200,\n",
       "            22100221145014656],\n",
       "           dtype='int64', name='session_id', length=23562)"
      ]
     },
     "execution_count": 10,
     "metadata": {},
     "output_type": "execute_result"
    }
   ],
   "source": [
    "ALL_USERS"
   ]
  },
  {
   "cell_type": "code",
   "execution_count": 11,
   "id": "60986548",
   "metadata": {
    "execution": {
     "iopub.execute_input": "2023-05-19T12:49:44.806842Z",
     "iopub.status.busy": "2023-05-19T12:49:44.805903Z",
     "iopub.status.idle": "2023-05-19T12:57:47.866689Z",
     "shell.execute_reply": "2023-05-19T12:57:47.864956Z"
    },
    "papermill": {
     "duration": 483.081568,
     "end_time": "2023-05-19T12:57:47.877434",
     "exception": false,
     "start_time": "2023-05-19T12:49:44.795866",
     "status": "completed"
    },
    "tags": []
   },
   "outputs": [
    {
     "name": "stdout",
     "output_type": "stream",
     "text": [
      "-------------------------\n",
      "    <<<  Fold  1  >>>\n",
      "-------------------------\n",
      "1(530), 2(564), 3(671), 4(764), 5(591), 6(527), 7(385), 8(422), 9(793), 10(603), 11(346), 12(672), 13(664), 14(837), 15(904), 16(308), 17(272), 18(503), \n",
      "-------------------------\n",
      "    <<<  Fold  2  >>>\n",
      "-------------------------\n",
      "1(781), 2(741), 3(566), 4(762), 5(704), 6(586), 7(599), 8(271), 9(585), 10(569), 11(495), 12(474), 13(390), 14(998), 15(807), 16(553), 17(459), 18(556), \n",
      "-------------------------\n",
      "    <<<  Fold  3  >>>\n",
      "-------------------------\n",
      "1(662), 2(654), 3(542), 4(784), 5(563), 6(540), 7(617), 8(350), 9(478), 10(619), 11(464), 12(419), 13(471), 14(835), 15(716), 16(321), 17(583), 18(618), \n",
      "-------------------------\n",
      "    <<<  Fold  4  >>>\n",
      "-------------------------\n",
      "1(630), 2(613), 3(494), 4(902), 5(503), 6(581), 7(488), 8(339), 9(511), 10(697), 11(462), 12(498), 13(639), 14(762), 15(664), 16(364), 17(341), 18(644), \n",
      "-------------------------\n",
      "    <<<  Fold  5  >>>\n",
      "-------------------------\n",
      "1(756), 2(662), 3(721), 4(1155), 5(619), 6(515), 7(615), 8(416), 9(562), 10(829), 11(345), 12(505), 13(686), 14(905), 15(995), 16(374), 17(453), 18(811), \n"
     ]
    }
   ],
   "source": [
    "for i, (train_index, test_index) in enumerate(gkf.split(X=dataset_df, groups=dataset_df.index)):\n",
    "    print('-'*25)\n",
    "    print('    <<<  Fold ',i+1, ' >>>')\n",
    "    print('-'*25)\n",
    "    \n",
    "    xgb_params = {\n",
    "        'objective' : 'binary:logistic',\n",
    "        'eval_metric':'logloss',\n",
    "        'learning_rate': 0.01,\n",
    "        'max_depth': 4,\n",
    "        'n_estimators': 1500,\n",
    "        'early_stopping_rounds': 50,\n",
    "        'tree_method':'hist',\n",
    "        'subsample':0.6,\n",
    "        'colsample_bytree': 0.5,\n",
    "        'use_label_encoder' : False\n",
    "    }\n",
    "    \n",
    "    for q_no in range(1,19):\n",
    "\n",
    "        # Select level group for the question based on the q_no.\n",
    "        if q_no<=3: grp = '0-4'\n",
    "        elif q_no<=13: grp = '5-12'\n",
    "        elif q_no<=22: grp = '13-22'\n",
    "\n",
    "\n",
    "        # TRAIN DATA\n",
    "        train_x = dataset_df.iloc[train_index]\n",
    "        train_x = train_x.loc[train_x.level_group == grp]\n",
    "        train_users = train_x.index.values\n",
    "        train_y = labels.loc[labels.q==q_no].set_index('session').loc[train_users]\n",
    "        \n",
    "        # VALID DATA\n",
    "        valid_x = dataset_df.iloc[test_index]\n",
    "        valid_x = valid_x.loc[valid_x.level_group == grp]\n",
    "        valid_users = valid_x.index.values\n",
    "        valid_y = labels.loc[labels.q==q_no].set_index('session').loc[valid_users]\n",
    "\n",
    "        # We will now create the Gradient Boosted Trees Model with default settings. \n",
    "        # By default the model is set to train for a classification task.\n",
    "        xgb = XGBClassifier(**xgb_params)\n",
    "        xgb.fit(train_x[FEATURES].astype('float32'), train_y['correct'],\n",
    "                eval_set=[ (valid_x[FEATURES].astype('float32'), valid_y['correct']) ],\n",
    "                verbose=0)\n",
    "        print(f'{q_no}({xgb.best_ntree_limit}), ',end='')\n",
    "        \n",
    "        # SAVE MODEL, PREDICT VALID OOF\n",
    "        models[f'{grp}_{q_no}'] = xgb\n",
    "        oof.loc[valid_users, q_no-1] = xgb.predict_proba(valid_x[FEATURES].astype('float32'))[:,1]  \n",
    "    print()"
   ]
  },
  {
   "cell_type": "code",
   "execution_count": 12,
   "id": "3da6efc4",
   "metadata": {
    "execution": {
     "iopub.execute_input": "2023-05-19T12:57:47.913589Z",
     "iopub.status.busy": "2023-05-19T12:57:47.913057Z",
     "iopub.status.idle": "2023-05-19T12:57:48.058705Z",
     "shell.execute_reply": "2023-05-19T12:57:48.057260Z"
    },
    "papermill": {
     "duration": 0.168481,
     "end_time": "2023-05-19T12:57:48.062220",
     "exception": false,
     "start_time": "2023-05-19T12:57:47.893739",
     "status": "completed"
    },
    "tags": []
   },
   "outputs": [],
   "source": [
    "true = oof.copy()\n",
    "for k in range(18):\n",
    "    # GET TRUE LABELS\n",
    "    tmp = labels.loc[labels.q == k+1].set_index('session').loc[ALL_USERS]\n",
    "    true[k] = tmp.correct.values"
   ]
  },
  {
   "cell_type": "code",
   "execution_count": 13,
   "id": "03d30acc",
   "metadata": {
    "execution": {
     "iopub.execute_input": "2023-05-19T12:57:48.097421Z",
     "iopub.status.busy": "2023-05-19T12:57:48.096141Z",
     "iopub.status.idle": "2023-05-19T12:57:54.619491Z",
     "shell.execute_reply": "2023-05-19T12:57:54.618497Z"
    },
    "papermill": {
     "duration": 6.543591,
     "end_time": "2023-05-19T12:57:54.622046",
     "exception": false,
     "start_time": "2023-05-19T12:57:48.078455",
     "status": "completed"
    },
    "tags": []
   },
   "outputs": [
    {
     "name": "stdout",
     "output_type": "stream",
     "text": [
      "0.40, 0.41, 0.42, 0.43, 0.44, 0.45, 0.46, 0.47, 0.48, 0.49, 0.50, 0.51, 0.52, 0.53, 0.54, 0.55, 0.56, 0.57, 0.58, 0.59, 0.60, 0.61, 0.62, 0.63, 0.64, 0.65, 0.66, 0.67, 0.68, 0.69, 0.70, 0.71, 0.72, 0.73, 0.74, 0.75, 0.76, 0.77, 0.78, 0.79, 0.80, "
     ]
    }
   ],
   "source": [
    "# FIND BEST THRESHOLD TO CONVERT PROBS INTO 1s AND 0s\n",
    "scores = []; thresholds = []\n",
    "best_score = 0; best_threshold = 0\n",
    "\n",
    "for threshold in np.arange(0.4,0.81,0.01):\n",
    "    print(f'{threshold:.02f}, ',end='')\n",
    "    preds = (oof.values.reshape((-1))>threshold).astype('int')\n",
    "    m = f1_score(true.values.reshape((-1)), preds, average='macro')   \n",
    "    scores.append(m)\n",
    "    thresholds.append(threshold)\n",
    "    if m>best_score:\n",
    "        best_score = m\n",
    "        best_threshold = threshold"
   ]
  },
  {
   "cell_type": "code",
   "execution_count": 14,
   "id": "167c5997",
   "metadata": {
    "execution": {
     "iopub.execute_input": "2023-05-19T12:57:54.660266Z",
     "iopub.status.busy": "2023-05-19T12:57:54.659023Z",
     "iopub.status.idle": "2023-05-19T12:57:54.986858Z",
     "shell.execute_reply": "2023-05-19T12:57:54.985751Z"
    },
    "papermill": {
     "duration": 0.349729,
     "end_time": "2023-05-19T12:57:54.989632",
     "exception": false,
     "start_time": "2023-05-19T12:57:54.639903",
     "status": "completed"
    },
    "tags": []
   },
   "outputs": [
    {
     "name": "stdout",
     "output_type": "stream",
     "text": [
      "Q0: F1 = 0.598848270044749\n",
      "Q1: F1 = 0.49463795470144134\n",
      "Q2: F1 = 0.49111776892454156\n",
      "Q3: F1 = 0.621941167226645\n",
      "Q4: F1 = 0.5809118253917721\n",
      "Q5: F1 = 0.606781114426069\n",
      "Q6: F1 = 0.5904274556688486\n",
      "Q7: F1 = 0.5358736725422728\n",
      "Q8: F1 = 0.6007794381046897\n",
      "Q9: F1 = 0.5212829163796026\n",
      "Q10: F1 = 0.5881483852721858\n",
      "Q11: F1 = 0.4959530862295987\n",
      "Q12: F1 = 0.43102374577850194\n",
      "Q13: F1 = 0.6077286849763348\n",
      "Q14: F1 = 0.49787188894124296\n",
      "Q15: F1 = 0.4648349760943598\n",
      "Q16: F1 = 0.5287923082440193\n",
      "Q17: F1 = 0.4898325664485556\n",
      "==> Overall F1 = 0.678910546029193\n"
     ]
    }
   ],
   "source": [
    "for k in range(18):\n",
    "        \n",
    "    # COMPUTE F1 SCORE PER QUESTION\n",
    "    m = f1_score(true[k].values, (oof[k].values>best_threshold).astype('int'), average='macro')\n",
    "    print(f'Q{k}: F1 =',m)\n",
    "    \n",
    "# COMPUTE F1 SCORE OVERALL\n",
    "m = f1_score(true.values.reshape((-1)), (oof.values.reshape((-1))>best_threshold).astype('int'), average='macro')\n",
    "print('==> Overall F1 =',m)"
   ]
  },
  {
   "cell_type": "code",
   "execution_count": 15,
   "id": "9d556f07",
   "metadata": {
    "execution": {
     "iopub.execute_input": "2023-05-19T12:57:55.031622Z",
     "iopub.status.busy": "2023-05-19T12:57:55.029385Z",
     "iopub.status.idle": "2023-05-19T12:57:56.022309Z",
     "shell.execute_reply": "2023-05-19T12:57:56.020656Z"
    },
    "papermill": {
     "duration": 1.017937,
     "end_time": "2023-05-19T12:57:56.025528",
     "exception": false,
     "start_time": "2023-05-19T12:57:55.007591",
     "status": "completed"
    },
    "tags": []
   },
   "outputs": [
    {
     "name": "stdout",
     "output_type": "stream",
     "text": [
      "This version of the API is not optimized and should not be used to estimate the runtime of your code on the hidden test set.\n"
     ]
    }
   ],
   "source": [
    "# Reference\n",
    "# https://www.kaggle.com/code/philculliton/basic-submission-demo\n",
    "# https://www.kaggle.com/code/cdeotte/random-forest-baseline-0-664/notebook\n",
    "\n",
    "import jo_wilder\n",
    "env = jo_wilder.make_env()\n",
    "iter_test = env.iter_test()\n",
    "\n",
    "limits = {'0-4':(1,4), '5-12':(4,14), '13-22':(14,19)}\n",
    "\n",
    "for (test, sample_submission) in iter_test:\n",
    "    # FEATURE ENGINEER TEST DATA\n",
    "    df = feature_engineer(test)\n",
    "    # INFER TEST DATA\n",
    "    grp = test.level_group.values[0]\n",
    "    a,b = limits[grp]\n",
    "    for t in range(a,b):\n",
    "        xgb = models[f'{grp}_{t}']\n",
    "        p = xgb.predict_proba(df[FEATURES].astype('float32'))[0,1]\n",
    "        mask = sample_submission.session_id.str.contains(f'q{t}')\n",
    "        sample_submission.loc[mask,'correct'] = int( p > best_threshold )\n",
    "    \n",
    "    env.predict(sample_submission)"
   ]
  },
  {
   "cell_type": "code",
   "execution_count": null,
   "id": "48a8a88e",
   "metadata": {
    "papermill": {
     "duration": 0.017617,
     "end_time": "2023-05-19T12:57:56.061378",
     "exception": false,
     "start_time": "2023-05-19T12:57:56.043761",
     "status": "completed"
    },
    "tags": []
   },
   "outputs": [],
   "source": []
  }
 ],
 "metadata": {
  "kernelspec": {
   "display_name": "Python 3",
   "language": "python",
   "name": "python3"
  },
  "language_info": {
   "codemirror_mode": {
    "name": "ipython",
    "version": 3
   },
   "file_extension": ".py",
   "mimetype": "text/x-python",
   "name": "python",
   "nbconvert_exporter": "python",
   "pygments_lexer": "ipython3",
   "version": "3.7.12"
  },
  "papermill": {
   "default_parameters": {},
   "duration": 667.403303,
   "end_time": "2023-05-19T12:57:57.311279",
   "environment_variables": {},
   "exception": null,
   "input_path": "__notebook__.ipynb",
   "output_path": "__notebook__.ipynb",
   "parameters": {},
   "start_time": "2023-05-19T12:46:49.907976",
   "version": "2.4.0"
  }
 },
 "nbformat": 4,
 "nbformat_minor": 5
}
