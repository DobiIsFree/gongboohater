{
 "cells": [
  {
   "cell_type": "markdown",
   "id": "941d4266",
   "metadata": {
    "_cell_guid": "3065ea28-3415-46ef-8ec2-672826f1896a",
    "_uuid": "1b633216-f642-426b-a442-36227e786485",
    "id": "iCTA6kl3n2O1",
    "papermill": {
     "duration": 0.006094,
     "end_time": "2023-05-25T11:49:52.722500",
     "exception": false,
     "start_time": "2023-05-25T11:49:52.716406",
     "status": "completed"
    },
    "tags": []
   },
   "source": [
    "# Student Performance from Game Play Using TensorFlow Decision Forests"
   ]
  },
  {
   "cell_type": "markdown",
   "id": "099602a2",
   "metadata": {
    "_cell_guid": "f5f126e7-a6c7-4d10-9453-02803d77fdec",
    "_uuid": "48949e80-ac79-459e-b078-1258b02a6d19",
    "id": "zAXHC6-Tn2O5",
    "papermill": {
     "duration": 0.004849,
     "end_time": "2023-05-25T11:49:52.732576",
     "exception": false,
     "start_time": "2023-05-25T11:49:52.727727",
     "status": "completed"
    },
    "tags": []
   },
   "source": [
    "## Import the Required Libraries"
   ]
  },
  {
   "cell_type": "code",
   "execution_count": 1,
   "id": "3713961d",
   "metadata": {
    "_cell_guid": "d9edea55-e22d-47eb-9e89-f41baf355a90",
    "_uuid": "b8016303-112b-4ba5-b173-8f7fafdd3fbc",
    "collapsed": false,
    "execution": {
     "iopub.execute_input": "2023-05-25T11:49:52.745020Z",
     "iopub.status.busy": "2023-05-25T11:49:52.744300Z",
     "iopub.status.idle": "2023-05-25T11:49:54.018628Z",
     "shell.execute_reply": "2023-05-25T11:49:54.017810Z"
    },
    "id": "IanlX-Eqn2O5",
    "jupyter": {
     "outputs_hidden": false
    },
    "papermill": {
     "duration": 1.28339,
     "end_time": "2023-05-25T11:49:54.021034",
     "exception": false,
     "start_time": "2023-05-25T11:49:52.737644",
     "status": "completed"
    },
    "tags": []
   },
   "outputs": [],
   "source": [
    "import pandas as pd\n",
    "import numpy as np\n",
    "import matplotlib.pyplot as plt\n",
    "\n",
    "from xgboost import XGBClassifier\n",
    "from sklearn.model_selection import KFold, GroupKFold\n",
    "from sklearn.metrics import f1_score"
   ]
  },
  {
   "cell_type": "markdown",
   "id": "29f4c2b7",
   "metadata": {
    "_cell_guid": "5be263dd-cf1e-4887-b94b-caeeea6a4aa8",
    "_uuid": "2697b3d5-0f16-4f5e-aa80-76ad489e86ae",
    "id": "22DpLVFLn2O7",
    "papermill": {
     "duration": 0.005021,
     "end_time": "2023-05-25T11:49:54.031506",
     "exception": false,
     "start_time": "2023-05-25T11:49:54.026485",
     "status": "completed"
    },
    "tags": []
   },
   "source": [
    "## Load the Dataset"
   ]
  },
  {
   "cell_type": "code",
   "execution_count": 2,
   "id": "21faa884",
   "metadata": {
    "_cell_guid": "144dcbf9-be59-440c-b31a-8216f58528cb",
    "_uuid": "0cd23222-c6e1-47b2-8149-4834fa47f2e4",
    "collapsed": false,
    "execution": {
     "iopub.execute_input": "2023-05-25T11:49:54.044140Z",
     "iopub.status.busy": "2023-05-25T11:49:54.043529Z",
     "iopub.status.idle": "2023-05-25T11:51:22.318081Z",
     "shell.execute_reply": "2023-05-25T11:51:22.316978Z"
    },
    "id": "_XItl24kn2O7",
    "jupyter": {
     "outputs_hidden": false
    },
    "papermill": {
     "duration": 88.284094,
     "end_time": "2023-05-25T11:51:22.320820",
     "exception": false,
     "start_time": "2023-05-25T11:49:54.036726",
     "status": "completed"
    },
    "tags": []
   },
   "outputs": [],
   "source": [
    "# Reference: https://www.kaggle.com/competitions/predict-student-performance-from-game-play/discussion/384359\n",
    "dtypes={\n",
    "    'elapsed_time':np.int32,\n",
    "    'event_name':'category',\n",
    "    'name':'category',\n",
    "    'level':np.uint8,\n",
    "    \n",
    "    'room_coor_x':np.float32,\n",
    "    'room_coor_y':np.float32,\n",
    "    'screen_coor_x':np.float32,\n",
    "    'screen_coor_y':np.float32,\n",
    "    \n",
    "    'hover_duration':np.float32,\n",
    "    \n",
    "    'text':'category',\n",
    "    'fqid':'category',\n",
    "    'room_fqid':'category',\n",
    "    'text_fqid':'category',\n",
    "\n",
    "    'fullscreen': np.int32,\n",
    "    'hq': np.int32,\n",
    "    'music': np.int32,\n",
    "\n",
    "    'level_group':'category'}\n",
    "\n",
    "dataset_df = pd.read_csv('/kaggle/input/predict-student-performance-from-game-play/train.csv', dtype=dtypes)"
   ]
  },
  {
   "cell_type": "markdown",
   "id": "497138ce",
   "metadata": {
    "_cell_guid": "c65e1dff-67b0-4bb6-9b97-b6418d4173c7",
    "_uuid": "3df6b5f5-7744-40f9-bec5-bb45b9238387",
    "id": "ReNY-i3bn2O8",
    "papermill": {
     "duration": 0.005108,
     "end_time": "2023-05-25T11:51:22.331623",
     "exception": false,
     "start_time": "2023-05-25T11:51:22.326515",
     "status": "completed"
    },
    "tags": []
   },
   "source": [
    "## Load the labels"
   ]
  },
  {
   "cell_type": "code",
   "execution_count": 3,
   "id": "23571023",
   "metadata": {
    "_cell_guid": "bc6c67b2-3be1-4595-bc75-a10a50ba30d3",
    "_uuid": "e71600d9-2043-4209-8373-cf254354b3f2",
    "collapsed": false,
    "execution": {
     "iopub.execute_input": "2023-05-25T11:51:22.344585Z",
     "iopub.status.busy": "2023-05-25T11:51:22.343428Z",
     "iopub.status.idle": "2023-05-25T11:51:22.688250Z",
     "shell.execute_reply": "2023-05-25T11:51:22.687151Z"
    },
    "id": "KD4uayl2n2O9",
    "jupyter": {
     "outputs_hidden": false
    },
    "papermill": {
     "duration": 0.353659,
     "end_time": "2023-05-25T11:51:22.690532",
     "exception": false,
     "start_time": "2023-05-25T11:51:22.336873",
     "status": "completed"
    },
    "tags": []
   },
   "outputs": [],
   "source": [
    "labels = pd.read_csv('/kaggle/input/predict-student-performance-from-game-play/train_labels.csv')"
   ]
  },
  {
   "cell_type": "code",
   "execution_count": 4,
   "id": "b4d1d435",
   "metadata": {
    "_cell_guid": "24c78d16-6a6a-4409-b1c3-5f1d84c0a9ac",
    "_uuid": "afd665e4-8c5e-4a6a-9c96-2c8676f97c88",
    "collapsed": false,
    "execution": {
     "iopub.execute_input": "2023-05-25T11:51:22.704108Z",
     "iopub.status.busy": "2023-05-25T11:51:22.703284Z",
     "iopub.status.idle": "2023-05-25T11:51:23.329729Z",
     "shell.execute_reply": "2023-05-25T11:51:23.327757Z"
    },
    "id": "Kva8_Dbqn2O9",
    "jupyter": {
     "outputs_hidden": false
    },
    "papermill": {
     "duration": 0.636485,
     "end_time": "2023-05-25T11:51:23.332418",
     "exception": false,
     "start_time": "2023-05-25T11:51:22.695933",
     "status": "completed"
    },
    "tags": []
   },
   "outputs": [],
   "source": [
    "labels['session'] = labels.session_id.apply(lambda x: int(x.split('_')[0]) )\n",
    "labels['q'] = labels.session_id.apply(lambda x: int(x.split('_')[-1][1:]) )"
   ]
  },
  {
   "cell_type": "markdown",
   "id": "f60cbb90",
   "metadata": {
    "_cell_guid": "485073af-b103-48c0-8e8c-60c28ddc00fc",
    "_uuid": "d4215f16-78de-4f14-b9f3-b596b03f8433",
    "id": "y5fK05dsn2O_",
    "papermill": {
     "duration": 0.004978,
     "end_time": "2023-05-25T11:51:23.342828",
     "exception": false,
     "start_time": "2023-05-25T11:51:23.337850",
     "status": "completed"
    },
    "tags": []
   },
   "source": [
    "# Prepare the dataset"
   ]
  },
  {
   "cell_type": "code",
   "execution_count": 5,
   "id": "da977a54",
   "metadata": {
    "_cell_guid": "9527a410-8159-421f-9ad6-f3c712fc7d87",
    "_uuid": "886d16af-f0f1-4c68-8e15-9802bd417f6e",
    "collapsed": false,
    "execution": {
     "iopub.execute_input": "2023-05-25T11:51:23.354857Z",
     "iopub.status.busy": "2023-05-25T11:51:23.354479Z",
     "iopub.status.idle": "2023-05-25T11:51:23.700183Z",
     "shell.execute_reply": "2023-05-25T11:51:23.698092Z"
    },
    "id": "cCZWGiL_n2PA",
    "jupyter": {
     "outputs_hidden": false
    },
    "papermill": {
     "duration": 0.355514,
     "end_time": "2023-05-25T11:51:23.703541",
     "exception": false,
     "start_time": "2023-05-25T11:51:23.348027",
     "status": "completed"
    },
    "tags": []
   },
   "outputs": [],
   "source": [
    "CATEGORICAL = ['event_name', 'name', 'fqid', 'room_fqid', 'text_fqid']\n",
    "# NUMERICAL = ['page', 'room_coor_x', 'room_coor_y', 'screen_coor_x', 'screen_coor_y',\n",
    "#             'hover_duration', 'elapsed_time_diff']\n",
    "\n",
    "NUMERICAL = ['page', 'location_x_diff', 'location_y_diff','hover_duration']\n",
    "\n",
    "OPTIONAL = ['music', 'fullscreen', 'hq']\n",
    "\n",
    "# Lots..\n",
    "NAMES = dataset_df['name'].unique()\n",
    "EVENTS = dataset_df['event_name'].unique()\n",
    "\n",
    "TEXT_LISTS = dataset_df['text'].unique()\n",
    "FQID_LISTS = dataset_df['fqid'].unique()"
   ]
  },
  {
   "cell_type": "code",
   "execution_count": 6,
   "id": "b76fc51d",
   "metadata": {
    "execution": {
     "iopub.execute_input": "2023-05-25T11:51:23.719578Z",
     "iopub.status.busy": "2023-05-25T11:51:23.718963Z",
     "iopub.status.idle": "2023-05-25T11:51:23.853830Z",
     "shell.execute_reply": "2023-05-25T11:51:23.852670Z"
    },
    "papermill": {
     "duration": 0.146743,
     "end_time": "2023-05-25T11:51:23.856483",
     "exception": false,
     "start_time": "2023-05-25T11:51:23.709740",
     "status": "completed"
    },
    "tags": []
   },
   "outputs": [],
   "source": [
    "# df.fillna(df.mean()), df.where(pd.notnull(df), df.mean(), axis='columns')\n",
    "def feature_engineer(dataset_df):\n",
    "    dataset_df['elapsed_time_diff'] = (\n",
    "        (dataset_df['elapsed_time'] - dataset_df['elapsed_time'].shift(1))\n",
    "        .fillna(0)\n",
    "        .clip(lower=0, upper=1e9)\n",
    "    )\n",
    "    dataset_df['location_x_diff'] = (\n",
    "        (dataset_df['room_coor_x'] - dataset_df['room_coor_x'].shift(1))\n",
    "        .abs()\n",
    "    )\n",
    "    dataset_df['location_y_diff'] = (\n",
    "        (dataset_df['room_coor_y'] - dataset_df['room_coor_y'].shift(1))\n",
    "        .abs()\n",
    "    )\n",
    "    \n",
    "    dfs = []\n",
    "    \n",
    "    # NUMERICAL\n",
    "    for c in NUMERICAL:\n",
    "        tmp = dataset_df.groupby(['session_id','level_group'])[c].agg('mean')\n",
    "        tmp.name = tmp.name + '_mean'\n",
    "        dfs.append(tmp)\n",
    "    for c in NUMERICAL:\n",
    "        tmp = dataset_df.groupby(['session_id','level_group'])[c].agg('std')\n",
    "        tmp.name = tmp.name + '_std'\n",
    "        dfs.append(tmp)\n",
    "    for c in NUMERICAL:\n",
    "        tmp = dataset_df.groupby(['session_id','level_group'])[c].agg('sum')\n",
    "        tmp.name = tmp.name + '_sum'\n",
    "        dfs.append(tmp)\n",
    "    for c in NUMERICAL:\n",
    "        tmp = dataset_df.groupby(['session_id','level_group'])[c].agg('max')\n",
    "        tmp.name = tmp.name + '_max'\n",
    "        dfs.append(tmp)\n",
    "    for c in NUMERICAL:\n",
    "        tmp = dataset_df.groupby(['session_id','level_group'])[c].agg('min')\n",
    "        tmp.name = tmp.name + '_min'\n",
    "        dfs.append(tmp)\n",
    "    \n",
    "    # EVNETS\n",
    "    for c in EVENTS: \n",
    "        dataset_df[c] = (dataset_df.event_name == c).astype('int8')\n",
    "    for c in EVENTS: \n",
    "        tmp = dataset_df[dataset_df[c] == 1].groupby(['session_id', 'level_group'])[c].sum()\n",
    "        tmp.name = c + '_count'\n",
    "        dfs.append(tmp)\n",
    "    for c in EVENTS: \n",
    "        tmp = dataset_df[dataset_df[c] == 1].groupby(['session_id', 'level_group'])[c].std()\n",
    "        tmp.name = c + '_std'\n",
    "        dfs.append(tmp)\n",
    "    for c in EVENTS: \n",
    "        tmp = dataset_df[dataset_df[c] == 1].groupby(['session_id', 'level_group'])[c].mean()\n",
    "        tmp.name = c + '_mean'\n",
    "        dfs.append(tmp)\n",
    "    for c in EVENTS: \n",
    "        tmp = dataset_df[dataset_df[c] == 1].groupby(['session_id', 'level_group'])[c].max()\n",
    "        tmp.name = c + '_max'\n",
    "        dfs.append(tmp)\n",
    "    for c in EVENTS: \n",
    "        tmp = dataset_df[dataset_df[c] == 1].groupby(['session_id', 'level_group'])[c].min()\n",
    "        tmp.name = c + '_min'\n",
    "        dfs.append(tmp)\n",
    "        \n",
    "    for c in EVENTS:\n",
    "        tmp = dataset_df[dataset_df[c] == 1].groupby(['session_id', 'level_group'])['elapsed_time_diff'].agg('mean')\n",
    "        tmp.name = c + '_time_average'\n",
    "        dfs.append(tmp)\n",
    "        \n",
    "        \n",
    "    #OPTIONALS\n",
    "#     for c in OPTIONAL:\n",
    "#         tmp = dataset_df.groupby(['session_id','level_group'])[c].agg('mean')\n",
    "#         tmp.name = tmp.name + '_mean'\n",
    "#         dfs.append(tmp)\n",
    "#     for c in OPTIONAL:\n",
    "#         tmp = dataset_df.groupby(['session_id','level_group'])[c].agg('std')\n",
    "#         tmp.name = tmp.name + '_std'\n",
    "#         dfs.append(tmp)\n",
    "#     for c in OPTIONAL:\n",
    "#         tmp = dataset_df.groupby(['session_id','level_group'])[c].agg('sum')\n",
    "#         tmp.name = tmp.name + '_sum'\n",
    "#         dfs.append(tmp)\n",
    "#     for c in OPTIONAL:\n",
    "#         tmp = dataset_df.groupby(['session_id','level_group'])[c].agg('min')\n",
    "#         tmp.name = tmp.name + '_min'\n",
    "#         dfs.append(tmp)\n",
    "#     for c in OPTIONAL:\n",
    "#         tmp = dataset_df.groupby(['session_id','level_group'])[c].agg('max')\n",
    "#         tmp.name = tmp.name + '_max'\n",
    "#         dfs.append(tmp)   \n",
    "        \n",
    "    dataset_df = pd.concat(dfs,axis=1)\n",
    "    dataset_df = dataset_df.fillna(-1)\n",
    "    dataset_df = dataset_df.reset_index()\n",
    "    dataset_df = dataset_df.set_index('session_id')\n",
    "    return dataset_df"
   ]
  },
  {
   "cell_type": "code",
   "execution_count": 7,
   "id": "cb5350fc",
   "metadata": {
    "execution": {
     "iopub.execute_input": "2023-05-25T11:51:23.869734Z",
     "iopub.status.busy": "2023-05-25T11:51:23.869158Z",
     "iopub.status.idle": "2023-05-25T11:52:30.070315Z",
     "shell.execute_reply": "2023-05-25T11:52:30.067909Z"
    },
    "papermill": {
     "duration": 66.213884,
     "end_time": "2023-05-25T11:52:30.076052",
     "exception": false,
     "start_time": "2023-05-25T11:51:23.862168",
     "status": "completed"
    },
    "tags": []
   },
   "outputs": [],
   "source": [
    "dataset_df = feature_engineer(dataset_df)"
   ]
  },
  {
   "cell_type": "code",
   "execution_count": 8,
   "id": "800c5b21",
   "metadata": {
    "execution": {
     "iopub.execute_input": "2023-05-25T11:52:30.091161Z",
     "iopub.status.busy": "2023-05-25T11:52:30.090752Z",
     "iopub.status.idle": "2023-05-25T11:52:30.123794Z",
     "shell.execute_reply": "2023-05-25T11:52:30.122476Z"
    },
    "papermill": {
     "duration": 0.046368,
     "end_time": "2023-05-25T11:52:30.130032",
     "exception": false,
     "start_time": "2023-05-25T11:52:30.083664",
     "status": "completed"
    },
    "tags": []
   },
   "outputs": [
    {
     "name": "stdout",
     "output_type": "stream",
     "text": [
      "<class 'pandas.core.frame.DataFrame'>\n",
      "Int64Index: 70686 entries, 20090312431273200 to 22100221145014656\n",
      "Data columns (total 87 columns):\n",
      " #   Column                           Non-Null Count  Dtype  \n",
      "---  ------                           --------------  -----  \n",
      " 0   level_group                      70686 non-null  object \n",
      " 1   page_mean                        70686 non-null  float64\n",
      " 2   location_x_diff_mean             70686 non-null  float32\n",
      " 3   location_y_diff_mean             70686 non-null  float32\n",
      " 4   hover_duration_mean              70686 non-null  float32\n",
      " 5   page_std                         70686 non-null  float64\n",
      " 6   location_x_diff_std              70686 non-null  float64\n",
      " 7   location_y_diff_std              70686 non-null  float64\n",
      " 8   hover_duration_std               70686 non-null  float64\n",
      " 9   page_sum                         70686 non-null  float64\n",
      " 10  location_x_diff_sum              70686 non-null  float32\n",
      " 11  location_y_diff_sum              70686 non-null  float32\n",
      " 12  hover_duration_sum               70686 non-null  float32\n",
      " 13  page_max                         70686 non-null  float64\n",
      " 14  location_x_diff_max              70686 non-null  float32\n",
      " 15  location_y_diff_max              70686 non-null  float32\n",
      " 16  hover_duration_max               70686 non-null  float32\n",
      " 17  page_min                         70686 non-null  float64\n",
      " 18  location_x_diff_min              70686 non-null  float32\n",
      " 19  location_y_diff_min              70686 non-null  float32\n",
      " 20  hover_duration_min               70686 non-null  float32\n",
      " 21  cutscene_click_count             70686 non-null  float64\n",
      " 22  person_click_count               70686 non-null  float64\n",
      " 23  navigate_click_count             70686 non-null  float64\n",
      " 24  observation_click_count          70686 non-null  int8   \n",
      " 25  notification_click_count         70686 non-null  int8   \n",
      " 26  object_click_count               70686 non-null  float64\n",
      " 27  object_hover_count               70686 non-null  float64\n",
      " 28  map_hover_count                  70686 non-null  float64\n",
      " 29  map_click_count                  70686 non-null  float64\n",
      " 30  checkpoint_count                 70686 non-null  int8   \n",
      " 31  notebook_click_count             70686 non-null  float64\n",
      " 32  cutscene_click_std               70686 non-null  float64\n",
      " 33  person_click_std                 70686 non-null  float64\n",
      " 34  navigate_click_std               70686 non-null  float64\n",
      " 35  observation_click_std            70686 non-null  float64\n",
      " 36  notification_click_std           70686 non-null  float64\n",
      " 37  object_click_std                 70686 non-null  float64\n",
      " 38  object_hover_std                 70686 non-null  float64\n",
      " 39  map_hover_std                    70686 non-null  float64\n",
      " 40  map_click_std                    70686 non-null  float64\n",
      " 41  checkpoint_std                   70686 non-null  float64\n",
      " 42  notebook_click_std               70686 non-null  float64\n",
      " 43  cutscene_click_mean              70686 non-null  float64\n",
      " 44  person_click_mean                70686 non-null  float64\n",
      " 45  navigate_click_mean              70686 non-null  float64\n",
      " 46  observation_click_mean           70686 non-null  float64\n",
      " 47  notification_click_mean          70686 non-null  float64\n",
      " 48  object_click_mean                70686 non-null  float64\n",
      " 49  object_hover_mean                70686 non-null  float64\n",
      " 50  map_hover_mean                   70686 non-null  float64\n",
      " 51  map_click_mean                   70686 non-null  float64\n",
      " 52  checkpoint_mean                  70686 non-null  float64\n",
      " 53  notebook_click_mean              70686 non-null  float64\n",
      " 54  cutscene_click_max               70686 non-null  int8   \n",
      " 55  person_click_max                 70686 non-null  int8   \n",
      " 56  navigate_click_max               70686 non-null  int8   \n",
      " 57  observation_click_max            70686 non-null  float64\n",
      " 58  notification_click_max           70686 non-null  int8   \n",
      " 59  object_click_max                 70686 non-null  int8   \n",
      " 60  object_hover_max                 70686 non-null  float64\n",
      " 61  map_hover_max                    70686 non-null  float64\n",
      " 62  map_click_max                    70686 non-null  int8   \n",
      " 63  checkpoint_max                   70686 non-null  float64\n",
      " 64  notebook_click_max               70686 non-null  float64\n",
      " 65  cutscene_click_min               70686 non-null  int8   \n",
      " 66  person_click_min                 70686 non-null  int8   \n",
      " 67  navigate_click_min               70686 non-null  int8   \n",
      " 68  observation_click_min            70686 non-null  float64\n",
      " 69  notification_click_min           70686 non-null  int8   \n",
      " 70  object_click_min                 70686 non-null  int8   \n",
      " 71  object_hover_min                 70686 non-null  float64\n",
      " 72  map_hover_min                    70686 non-null  float64\n",
      " 73  map_click_min                    70686 non-null  int8   \n",
      " 74  checkpoint_min                   70686 non-null  float64\n",
      " 75  notebook_click_min               70686 non-null  float64\n",
      " 76  cutscene_click_time_average      70686 non-null  float64\n",
      " 77  person_click_time_average        70686 non-null  float64\n",
      " 78  navigate_click_time_average      70686 non-null  float64\n",
      " 79  observation_click_time_average   70686 non-null  float64\n",
      " 80  notification_click_time_average  70686 non-null  float64\n",
      " 81  object_click_time_average        70686 non-null  float64\n",
      " 82  object_hover_time_average        70686 non-null  float64\n",
      " 83  map_hover_time_average           70686 non-null  float64\n",
      " 84  map_click_time_average           70686 non-null  float64\n",
      " 85  checkpoint_time_average          70686 non-null  float64\n",
      " 86  notebook_click_time_average      70686 non-null  float64\n",
      "dtypes: float32(12), float64(59), int8(15), object(1)\n",
      "memory usage: 37.1+ MB\n"
     ]
    }
   ],
   "source": [
    "dataset_df.info()"
   ]
  },
  {
   "cell_type": "code",
   "execution_count": 9,
   "id": "8414e0e8",
   "metadata": {
    "execution": {
     "iopub.execute_input": "2023-05-25T11:52:30.143783Z",
     "iopub.status.busy": "2023-05-25T11:52:30.143432Z",
     "iopub.status.idle": "2023-05-25T11:52:30.147657Z",
     "shell.execute_reply": "2023-05-25T11:52:30.146357Z"
    },
    "papermill": {
     "duration": 0.013372,
     "end_time": "2023-05-25T11:52:30.149594",
     "exception": false,
     "start_time": "2023-05-25T11:52:30.136222",
     "status": "completed"
    },
    "tags": []
   },
   "outputs": [],
   "source": [
    "# corr = dataset_df.corr()\n",
    "\n",
    "# plt.figure(figsize=(15,15)) \n",
    "# sns.heatmap(corr, annot=True, cmap='Blues')\n",
    "# plt.title('Correlation Heatmap')\n",
    "# plt.show()"
   ]
  },
  {
   "cell_type": "code",
   "execution_count": 10,
   "id": "6e691e6f",
   "metadata": {
    "execution": {
     "iopub.execute_input": "2023-05-25T11:52:30.162651Z",
     "iopub.status.busy": "2023-05-25T11:52:30.162089Z",
     "iopub.status.idle": "2023-05-25T11:52:30.170846Z",
     "shell.execute_reply": "2023-05-25T11:52:30.170112Z"
    },
    "papermill": {
     "duration": 0.017329,
     "end_time": "2023-05-25T11:52:30.172746",
     "exception": false,
     "start_time": "2023-05-25T11:52:30.155417",
     "status": "completed"
    },
    "tags": []
   },
   "outputs": [],
   "source": [
    "FEATURES = [c for c in dataset_df.columns if c != 'level_group']\n",
    "ALL_USERS = dataset_df.index.unique()\n",
    "\n",
    "gkf = GroupKFold(n_splits=5)\n",
    "oof = pd.DataFrame(data=np.zeros((len(ALL_USERS),18)), index=ALL_USERS)\n",
    "models = {}\n",
    "evaluation_dict ={}"
   ]
  },
  {
   "cell_type": "code",
   "execution_count": 11,
   "id": "836b173a",
   "metadata": {
    "execution": {
     "iopub.execute_input": "2023-05-25T11:52:30.185182Z",
     "iopub.status.busy": "2023-05-25T11:52:30.184596Z",
     "iopub.status.idle": "2023-05-25T11:52:30.188782Z",
     "shell.execute_reply": "2023-05-25T11:52:30.187451Z"
    },
    "papermill": {
     "duration": 0.012377,
     "end_time": "2023-05-25T11:52:30.190667",
     "exception": false,
     "start_time": "2023-05-25T11:52:30.178290",
     "status": "completed"
    },
    "tags": []
   },
   "outputs": [],
   "source": [
    "# ALL_USERS"
   ]
  },
  {
   "cell_type": "code",
   "execution_count": 12,
   "id": "80772572",
   "metadata": {
    "execution": {
     "iopub.execute_input": "2023-05-25T11:52:30.203768Z",
     "iopub.status.busy": "2023-05-25T11:52:30.203026Z",
     "iopub.status.idle": "2023-05-25T12:01:22.242307Z",
     "shell.execute_reply": "2023-05-25T12:01:22.241423Z"
    },
    "papermill": {
     "duration": 532.056468,
     "end_time": "2023-05-25T12:01:22.252473",
     "exception": false,
     "start_time": "2023-05-25T11:52:30.196005",
     "status": "completed"
    },
    "tags": []
   },
   "outputs": [
    {
     "name": "stdout",
     "output_type": "stream",
     "text": [
      "-------------------------\n",
      "    <<<  Fold  1  >>>\n",
      "-------------------------\n",
      "1(512), 2(366), 3(351), 4(350), 5(351), 6(271), 7(254), 8(240), 9(419), 10(575), 11(248), 12(511), 13(393), 14(359), 15(646), 16(191), 17(134), 18(341), \n",
      "-------------------------\n",
      "    <<<  Fold  2  >>>\n",
      "-------------------------\n",
      "1(453), 2(358), 3(438), 4(452), 5(275), 6(370), 7(261), 8(172), 9(306), 10(281), 11(370), 12(278), 13(307), 14(363), 15(583), 16(265), 17(335), 18(354), \n",
      "-------------------------\n",
      "    <<<  Fold  3  >>>\n",
      "-------------------------\n",
      "1(443), 2(334), 3(364), 4(310), 5(372), 6(211), 7(314), 8(177), 9(368), 10(296), 11(322), 12(189), 13(258), 14(423), 15(431), 16(237), 17(286), 18(393), \n",
      "-------------------------\n",
      "    <<<  Fold  4  >>>\n",
      "-------------------------\n",
      "1(364), 2(325), 3(328), 4(429), 5(369), 6(336), 7(372), 8(285), 9(427), 10(336), 11(301), 12(253), 13(317), 14(321), 15(397), 16(207), 17(138), 18(468), \n",
      "-------------------------\n",
      "    <<<  Fold  5  >>>\n",
      "-------------------------\n",
      "1(560), 2(348), 3(503), 4(600), 5(251), 6(292), 7(278), 8(283), 9(261), 10(413), 11(212), 12(423), 13(320), 14(484), 15(543), 16(149), 17(257), 18(380), \n"
     ]
    }
   ],
   "source": [
    "for i, (train_index, test_index) in enumerate(gkf.split(X=dataset_df, groups=dataset_df.index)):\n",
    "    print('-'*25)\n",
    "    print('    <<<  Fold ',i+1, ' >>>')\n",
    "    print('-'*25)\n",
    "    \n",
    "    # default: 0.684 ~ 0.685\n",
    "    xgb_params = {\n",
    "        'objective' : 'binary:logistic',\n",
    "        'eval_metric':'logloss',\n",
    "        'learning_rate': 0.02,\n",
    "        'max_depth': 5,\n",
    "        'n_estimators': 1000,\n",
    "        'early_stopping_rounds': 50,\n",
    "        'tree_method':'hist',\n",
    "        'subsample':0.8,\n",
    "        'colsample_bytree': 0.4,\n",
    "        'use_label_encoder' : False\n",
    "    }\n",
    "\n",
    "    xgb_params_1 = {\n",
    "        'objective' : 'binary:logistic',\n",
    "        'eval_metric':'logloss',\n",
    "        'learning_rate': 0.01,\n",
    "        'max_depth': 5,\n",
    "        'n_estimators': 1000,\n",
    "        'early_stopping_rounds': 50,\n",
    "        'tree_method':'hist',\n",
    "        'subsample':0.5,\n",
    "        'colsample_bytree': 1,\n",
    "        'use_label_encoder' : False,\n",
    "        \n",
    "        ### Parameters Tuning.. \n",
    "        'gamma': 5,\n",
    "        'min_child_weight': 10,\n",
    "        'colsample_bytree': 0.5\n",
    "    }\n",
    "    \n",
    "    xgb_params_2 = {\n",
    "        'booster': 'gbtree',\n",
    "        'tree_method': 'hist',\n",
    "        'objective': 'binary:logistic',\n",
    "        'eval_metric':'logloss',\n",
    "        'learning_rate': 0.02,\n",
    "        'alpha': 8,\n",
    "        'max_depth': 4,\n",
    "        'subsample':0.8,\n",
    "        'colsample_bytree': 0.5,\n",
    "        'seed': 42\n",
    "    }\n",
    "    \n",
    "    for q_no in range(1,19):\n",
    "\n",
    "        # Select level group for the question based on the q_no.\n",
    "        if q_no<=3: grp = '0-4'\n",
    "        elif q_no<=13: grp = '5-12'\n",
    "        elif q_no<=22: grp = '13-22'\n",
    "\n",
    "\n",
    "        # TRAIN DATA\n",
    "        train_x = dataset_df.iloc[train_index]\n",
    "        train_x = train_x.loc[train_x.level_group == grp]\n",
    "        train_users = train_x.index.values\n",
    "\n",
    "        train_y = labels.loc[labels.q==q_no].set_index('session').loc[train_users]\n",
    "        \n",
    "        # VALID DATA\n",
    "        valid_x = dataset_df.iloc[test_index]\n",
    "        valid_x = valid_x.loc[valid_x.level_group == grp]\n",
    "        valid_users = valid_x.index.values\n",
    "        valid_y = labels.loc[labels.q==q_no].set_index('session').loc[valid_users]\n",
    "\n",
    "        # We will now create the Gradient Boosted Trees Model with default settings. \n",
    "        # By default the model is set to train for a classification task.\n",
    "        xgb = XGBClassifier(**xgb_params)\n",
    "        xgb.fit(train_x[FEATURES].astype('float32'), train_y['correct'],\n",
    "                eval_set=[ (valid_x[FEATURES].astype('float32'), valid_y['correct']) ],\n",
    "                verbose=0)\n",
    "        print(f'{q_no}({xgb.best_ntree_limit}), ',end='')\n",
    "        \n",
    "        # SAVE MODEL, PREDICT VALID OOF\n",
    "        models[f'{grp}_{q_no}'] = xgb\n",
    "        oof.loc[valid_users, q_no-1] = xgb.predict_proba(valid_x[FEATURES].astype('float32'))[:,1]  \n",
    "    print()"
   ]
  },
  {
   "cell_type": "code",
   "execution_count": 13,
   "id": "4cb3c37c",
   "metadata": {
    "execution": {
     "iopub.execute_input": "2023-05-25T12:01:22.276701Z",
     "iopub.status.busy": "2023-05-25T12:01:22.275646Z",
     "iopub.status.idle": "2023-05-25T12:01:22.371790Z",
     "shell.execute_reply": "2023-05-25T12:01:22.370578Z"
    },
    "papermill": {
     "duration": 0.111129,
     "end_time": "2023-05-25T12:01:22.374541",
     "exception": false,
     "start_time": "2023-05-25T12:01:22.263412",
     "status": "completed"
    },
    "tags": []
   },
   "outputs": [],
   "source": [
    "true = oof.copy()\n",
    "for k in range(18):\n",
    "    # GET TRUE LABELS\n",
    "    tmp = labels.loc[labels.q == k+1].set_index('session').loc[ALL_USERS]\n",
    "    true[k] = tmp.correct.values"
   ]
  },
  {
   "cell_type": "code",
   "execution_count": 14,
   "id": "311eb16a",
   "metadata": {
    "execution": {
     "iopub.execute_input": "2023-05-25T12:01:22.398615Z",
     "iopub.status.busy": "2023-05-25T12:01:22.397937Z",
     "iopub.status.idle": "2023-05-25T12:01:27.053527Z",
     "shell.execute_reply": "2023-05-25T12:01:27.052331Z"
    },
    "papermill": {
     "duration": 4.670545,
     "end_time": "2023-05-25T12:01:27.055892",
     "exception": false,
     "start_time": "2023-05-25T12:01:22.385347",
     "status": "completed"
    },
    "tags": []
   },
   "outputs": [
    {
     "name": "stdout",
     "output_type": "stream",
     "text": [
      "0.40, 0.41, 0.42, 0.43, 0.44, 0.45, 0.46, 0.47, 0.48, 0.49, 0.50, 0.51, 0.52, 0.53, 0.54, 0.55, 0.56, 0.57, 0.58, 0.59, 0.60, 0.61, 0.62, 0.63, 0.64, 0.65, 0.66, 0.67, 0.68, 0.69, 0.70, 0.71, 0.72, 0.73, 0.74, 0.75, 0.76, 0.77, 0.78, 0.79, 0.80, "
     ]
    }
   ],
   "source": [
    "# FIND BEST THRESHOLD TO CONVERT PROBS INTO 1s AND 0s\n",
    "scores = []; thresholds = []\n",
    "best_score = 0; best_threshold = 0\n",
    "\n",
    "for threshold in np.arange(0.4,0.81,0.01):\n",
    "    print(f'{threshold:.02f}, ',end='')\n",
    "    preds = (oof.values.reshape((-1))>threshold).astype('int')\n",
    "    m = f1_score(true.values.reshape((-1)), preds, average='macro')   \n",
    "    scores.append(m)\n",
    "    thresholds.append(threshold)\n",
    "    if m>best_score:\n",
    "        best_score = m\n",
    "        best_threshold = threshold"
   ]
  },
  {
   "cell_type": "code",
   "execution_count": 15,
   "id": "c69bbde9",
   "metadata": {
    "execution": {
     "iopub.execute_input": "2023-05-25T12:01:27.084974Z",
     "iopub.status.busy": "2023-05-25T12:01:27.083628Z",
     "iopub.status.idle": "2023-05-25T12:01:27.336895Z",
     "shell.execute_reply": "2023-05-25T12:01:27.336142Z"
    },
    "papermill": {
     "duration": 0.270046,
     "end_time": "2023-05-25T12:01:27.338991",
     "exception": false,
     "start_time": "2023-05-25T12:01:27.068945",
     "status": "completed"
    },
    "tags": []
   },
   "outputs": [
    {
     "name": "stdout",
     "output_type": "stream",
     "text": [
      "Q0: F1 = 0.6605540452030019\n",
      "Q1: F1 = 0.498457009461083\n",
      "Q2: F1 = 0.5092449749215908\n",
      "Q3: F1 = 0.649985755748627\n",
      "Q4: F1 = 0.5942457199551855\n",
      "Q5: F1 = 0.6156240547042747\n",
      "Q6: F1 = 0.5982360760359031\n",
      "Q7: F1 = 0.5466537144682196\n",
      "Q8: F1 = 0.6086523696929441\n",
      "Q9: F1 = 0.5384789825842065\n",
      "Q10: F1 = 0.5996771868102845\n",
      "Q11: F1 = 0.5051779634002194\n",
      "Q12: F1 = 0.45114813188153485\n",
      "Q13: F1 = 0.6187648251715543\n",
      "Q14: F1 = 0.5457819916460864\n",
      "Q15: F1 = 0.47308277784152536\n",
      "Q16: F1 = 0.5505850488933345\n",
      "Q17: F1 = 0.49396030134730734\n",
      "==> Overall F1 = 0.6863881059405351\n"
     ]
    }
   ],
   "source": [
    "for k in range(18):\n",
    "        \n",
    "    # COMPUTE F1 SCORE PER QUESTION\n",
    "    m = f1_score(true[k].values, (oof[k].values>best_threshold).astype('int'), average='macro')\n",
    "    print(f'Q{k}: F1 =',m)\n",
    "    \n",
    "# COMPUTE F1 SCORE OVERALL\n",
    "m = f1_score(true.values.reshape((-1)), (oof.values.reshape((-1))>best_threshold).astype('int'), average='macro')\n",
    "print('==> Overall F1 =',m)"
   ]
  },
  {
   "cell_type": "code",
   "execution_count": 16,
   "id": "f96c90ac",
   "metadata": {
    "execution": {
     "iopub.execute_input": "2023-05-25T12:01:27.368644Z",
     "iopub.status.busy": "2023-05-25T12:01:27.367449Z",
     "iopub.status.idle": "2023-05-25T12:01:29.075883Z",
     "shell.execute_reply": "2023-05-25T12:01:29.074685Z"
    },
    "papermill": {
     "duration": 1.726474,
     "end_time": "2023-05-25T12:01:29.078727",
     "exception": false,
     "start_time": "2023-05-25T12:01:27.352253",
     "status": "completed"
    },
    "tags": []
   },
   "outputs": [
    {
     "name": "stdout",
     "output_type": "stream",
     "text": [
      "This version of the API is not optimized and should not be used to estimate the runtime of your code on the hidden test set.\n"
     ]
    }
   ],
   "source": [
    "# Reference\n",
    "# https://www.kaggle.com/code/philculliton/basic-submission-demo\n",
    "# https://www.kaggle.com/code/cdeotte/random-forest-baseline-0-664/notebook\n",
    "\n",
    "import jo_wilder\n",
    "env = jo_wilder.make_env()\n",
    "iter_test = env.iter_test()\n",
    "\n",
    "limits = {'0-4':(1,4), '5-12':(4,14), '13-22':(14,19)}\n",
    "\n",
    "for (test, sample_submission) in iter_test:\n",
    "    # FEATURE ENGINEER TEST DATA\n",
    "    df = feature_engineer(test)\n",
    "    # INFER TEST DATA\n",
    "    grp = test.level_group.values[0]\n",
    "    a,b = limits[grp]\n",
    "    for t in range(a,b):\n",
    "        xgb = models[f'{grp}_{t}']\n",
    "        p = xgb.predict_proba(df[FEATURES].astype('float32'))[0,1]\n",
    "        mask = sample_submission.session_id.str.contains(f'q{t}')\n",
    "        sample_submission.loc[mask,'correct'] = int( p > best_threshold )\n",
    "    \n",
    "    env.predict(sample_submission)"
   ]
  },
  {
   "cell_type": "code",
   "execution_count": null,
   "id": "1cee22c6",
   "metadata": {
    "papermill": {
     "duration": 0.013635,
     "end_time": "2023-05-25T12:01:29.105502",
     "exception": false,
     "start_time": "2023-05-25T12:01:29.091867",
     "status": "completed"
    },
    "tags": []
   },
   "outputs": [],
   "source": []
  },
  {
   "cell_type": "code",
   "execution_count": null,
   "id": "bf64b9dc",
   "metadata": {
    "papermill": {
     "duration": 0.013323,
     "end_time": "2023-05-25T12:01:29.133124",
     "exception": false,
     "start_time": "2023-05-25T12:01:29.119801",
     "status": "completed"
    },
    "tags": []
   },
   "outputs": [],
   "source": []
  }
 ],
 "metadata": {
  "kernelspec": {
   "display_name": "Python 3",
   "language": "python",
   "name": "python3"
  },
  "language_info": {
   "codemirror_mode": {
    "name": "ipython",
    "version": 3
   },
   "file_extension": ".py",
   "mimetype": "text/x-python",
   "name": "python",
   "nbconvert_exporter": "python",
   "pygments_lexer": "ipython3",
   "version": "3.7.12"
  },
  "papermill": {
   "default_parameters": {},
   "duration": 708.288446,
   "end_time": "2023-05-25T12:01:30.177285",
   "environment_variables": {},
   "exception": null,
   "input_path": "__notebook__.ipynb",
   "output_path": "__notebook__.ipynb",
   "parameters": {},
   "start_time": "2023-05-25T11:49:41.888839",
   "version": "2.4.0"
  }
 },
 "nbformat": 4,
 "nbformat_minor": 5
}
