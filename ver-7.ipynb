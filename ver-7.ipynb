{
 "cells": [
  {
   "cell_type": "markdown",
   "id": "8896175e",
   "metadata": {
    "_cell_guid": "3065ea28-3415-46ef-8ec2-672826f1896a",
    "_uuid": "1b633216-f642-426b-a442-36227e786485",
    "id": "iCTA6kl3n2O1",
    "papermill": {
     "duration": 0.010189,
     "end_time": "2023-05-22T14:06:09.321415",
     "exception": false,
     "start_time": "2023-05-22T14:06:09.311226",
     "status": "completed"
    },
    "tags": []
   },
   "source": [
    "# Student Performance from Game Play Using TensorFlow Decision Forests"
   ]
  },
  {
   "cell_type": "markdown",
   "id": "8daf0e21",
   "metadata": {
    "_cell_guid": "f5f126e7-a6c7-4d10-9453-02803d77fdec",
    "_uuid": "48949e80-ac79-459e-b078-1258b02a6d19",
    "id": "zAXHC6-Tn2O5",
    "papermill": {
     "duration": 0.008712,
     "end_time": "2023-05-22T14:06:09.338829",
     "exception": false,
     "start_time": "2023-05-22T14:06:09.330117",
     "status": "completed"
    },
    "tags": []
   },
   "source": [
    "## Import the Required Libraries"
   ]
  },
  {
   "cell_type": "code",
   "execution_count": 1,
   "id": "ded5d651",
   "metadata": {
    "_cell_guid": "d9edea55-e22d-47eb-9e89-f41baf355a90",
    "_uuid": "b8016303-112b-4ba5-b173-8f7fafdd3fbc",
    "collapsed": false,
    "execution": {
     "iopub.execute_input": "2023-05-22T14:06:09.358802Z",
     "iopub.status.busy": "2023-05-22T14:06:09.357919Z",
     "iopub.status.idle": "2023-05-22T14:06:10.764939Z",
     "shell.execute_reply": "2023-05-22T14:06:10.763593Z"
    },
    "id": "IanlX-Eqn2O5",
    "jupyter": {
     "outputs_hidden": false
    },
    "papermill": {
     "duration": 1.420665,
     "end_time": "2023-05-22T14:06:10.768246",
     "exception": false,
     "start_time": "2023-05-22T14:06:09.347581",
     "status": "completed"
    },
    "tags": []
   },
   "outputs": [],
   "source": [
    "import pandas as pd\n",
    "import numpy as np\n",
    "import matplotlib.pyplot as plt\n",
    "\n",
    "from xgboost import XGBClassifier\n",
    "from sklearn.model_selection import KFold, GroupKFold\n",
    "from sklearn.metrics import f1_score"
   ]
  },
  {
   "cell_type": "markdown",
   "id": "700efb13",
   "metadata": {
    "_cell_guid": "5be263dd-cf1e-4887-b94b-caeeea6a4aa8",
    "_uuid": "2697b3d5-0f16-4f5e-aa80-76ad489e86ae",
    "id": "22DpLVFLn2O7",
    "papermill": {
     "duration": 0.008118,
     "end_time": "2023-05-22T14:06:10.784899",
     "exception": false,
     "start_time": "2023-05-22T14:06:10.776781",
     "status": "completed"
    },
    "tags": []
   },
   "source": [
    "## Load the Dataset"
   ]
  },
  {
   "cell_type": "code",
   "execution_count": 2,
   "id": "9d87e735",
   "metadata": {
    "_cell_guid": "144dcbf9-be59-440c-b31a-8216f58528cb",
    "_uuid": "0cd23222-c6e1-47b2-8149-4834fa47f2e4",
    "collapsed": false,
    "execution": {
     "iopub.execute_input": "2023-05-22T14:06:10.804203Z",
     "iopub.status.busy": "2023-05-22T14:06:10.803412Z",
     "iopub.status.idle": "2023-05-22T14:08:22.800261Z",
     "shell.execute_reply": "2023-05-22T14:08:22.798894Z"
    },
    "id": "_XItl24kn2O7",
    "jupyter": {
     "outputs_hidden": false
    },
    "papermill": {
     "duration": 132.010167,
     "end_time": "2023-05-22T14:08:22.803484",
     "exception": false,
     "start_time": "2023-05-22T14:06:10.793317",
     "status": "completed"
    },
    "tags": []
   },
   "outputs": [],
   "source": [
    "# Reference: https://www.kaggle.com/competitions/predict-student-performance-from-game-play/discussion/384359\n",
    "dtypes={\n",
    "    'elapsed_time':np.int32,\n",
    "    'event_name':'category',\n",
    "    'name':'category',\n",
    "    'level':np.uint8,\n",
    "    'room_coor_x':np.float32,\n",
    "    'room_coor_y':np.float32,\n",
    "    'screen_coor_x':np.float32,\n",
    "    'screen_coor_y':np.float32,\n",
    "    'hover_duration':np.float32,\n",
    "    'text':'category',\n",
    "    'fqid':'category',\n",
    "    'room_fqid':'category',\n",
    "    'text_fqid':'category',\n",
    "    'fullscreen': np.int32,\n",
    "    'hq': np.int32,\n",
    "    'music': np.int32,\n",
    "    'level_group':'category'}\n",
    "\n",
    "dataset_df = pd.read_csv('/kaggle/input/predict-student-performance-from-game-play/train.csv', dtype=dtypes)"
   ]
  },
  {
   "cell_type": "markdown",
   "id": "5eeb2324",
   "metadata": {
    "_cell_guid": "c65e1dff-67b0-4bb6-9b97-b6418d4173c7",
    "_uuid": "3df6b5f5-7744-40f9-bec5-bb45b9238387",
    "id": "ReNY-i3bn2O8",
    "papermill": {
     "duration": 0.008191,
     "end_time": "2023-05-22T14:08:22.820751",
     "exception": false,
     "start_time": "2023-05-22T14:08:22.812560",
     "status": "completed"
    },
    "tags": []
   },
   "source": [
    "## Load the labels"
   ]
  },
  {
   "cell_type": "code",
   "execution_count": 3,
   "id": "24321fb7",
   "metadata": {
    "_cell_guid": "bc6c67b2-3be1-4595-bc75-a10a50ba30d3",
    "_uuid": "e71600d9-2043-4209-8373-cf254354b3f2",
    "collapsed": false,
    "execution": {
     "iopub.execute_input": "2023-05-22T14:08:22.840669Z",
     "iopub.status.busy": "2023-05-22T14:08:22.839492Z",
     "iopub.status.idle": "2023-05-22T14:08:23.241255Z",
     "shell.execute_reply": "2023-05-22T14:08:23.240082Z"
    },
    "id": "KD4uayl2n2O9",
    "jupyter": {
     "outputs_hidden": false
    },
    "papermill": {
     "duration": 0.414853,
     "end_time": "2023-05-22T14:08:23.244407",
     "exception": false,
     "start_time": "2023-05-22T14:08:22.829554",
     "status": "completed"
    },
    "tags": []
   },
   "outputs": [],
   "source": [
    "labels = pd.read_csv('/kaggle/input/predict-student-performance-from-game-play/train_labels.csv')"
   ]
  },
  {
   "cell_type": "code",
   "execution_count": 4,
   "id": "c850d3f2",
   "metadata": {
    "_cell_guid": "24c78d16-6a6a-4409-b1c3-5f1d84c0a9ac",
    "_uuid": "afd665e4-8c5e-4a6a-9c96-2c8676f97c88",
    "collapsed": false,
    "execution": {
     "iopub.execute_input": "2023-05-22T14:08:23.264980Z",
     "iopub.status.busy": "2023-05-22T14:08:23.263719Z",
     "iopub.status.idle": "2023-05-22T14:08:24.396669Z",
     "shell.execute_reply": "2023-05-22T14:08:24.395019Z"
    },
    "id": "Kva8_Dbqn2O9",
    "jupyter": {
     "outputs_hidden": false
    },
    "papermill": {
     "duration": 1.147245,
     "end_time": "2023-05-22T14:08:24.400333",
     "exception": false,
     "start_time": "2023-05-22T14:08:23.253088",
     "status": "completed"
    },
    "tags": []
   },
   "outputs": [],
   "source": [
    "labels['session'] = labels.session_id.apply(lambda x: int(x.split('_')[0]) )\n",
    "labels['q'] = labels.session_id.apply(lambda x: int(x.split('_')[-1][1:]) )"
   ]
  },
  {
   "cell_type": "markdown",
   "id": "464fc8ce",
   "metadata": {
    "_cell_guid": "485073af-b103-48c0-8e8c-60c28ddc00fc",
    "_uuid": "d4215f16-78de-4f14-b9f3-b596b03f8433",
    "id": "y5fK05dsn2O_",
    "papermill": {
     "duration": 0.008208,
     "end_time": "2023-05-22T14:08:24.418572",
     "exception": false,
     "start_time": "2023-05-22T14:08:24.410364",
     "status": "completed"
    },
    "tags": []
   },
   "source": [
    "# Prepare the dataset"
   ]
  },
  {
   "cell_type": "code",
   "execution_count": 5,
   "id": "f64bd68b",
   "metadata": {
    "_cell_guid": "9527a410-8159-421f-9ad6-f3c712fc7d87",
    "_uuid": "886d16af-f0f1-4c68-8e15-9802bd417f6e",
    "collapsed": false,
    "execution": {
     "iopub.execute_input": "2023-05-22T14:08:24.438312Z",
     "iopub.status.busy": "2023-05-22T14:08:24.437185Z",
     "iopub.status.idle": "2023-05-22T14:08:24.719845Z",
     "shell.execute_reply": "2023-05-22T14:08:24.718707Z"
    },
    "id": "cCZWGiL_n2PA",
    "jupyter": {
     "outputs_hidden": false
    },
    "papermill": {
     "duration": 0.295461,
     "end_time": "2023-05-22T14:08:24.722718",
     "exception": false,
     "start_time": "2023-05-22T14:08:24.427257",
     "status": "completed"
    },
    "tags": []
   },
   "outputs": [],
   "source": [
    "CATEGORICAL = ['event_name', 'name', 'fqid', 'room_fqid', 'text_fqid']\n",
    "NUMERICAL = ['level', 'page', 'hover_duration']\n",
    "\n",
    "EVENTS = dataset_df['event_name'].unique()\n",
    "NAMES = dataset_df['name'].unique()\n",
    "\n",
    "DIFFS = ['location_x_diff', 'location_y_diff']\n",
    "\n",
    "# Except: 'music', 'fullscreen', 'hq' ???\n",
    "OPTIONALS = ['music', 'fullscreen', 'hq']"
   ]
  },
  {
   "cell_type": "code",
   "execution_count": 6,
   "id": "110224f8",
   "metadata": {
    "execution": {
     "iopub.execute_input": "2023-05-22T14:08:24.743501Z",
     "iopub.status.busy": "2023-05-22T14:08:24.742351Z",
     "iopub.status.idle": "2023-05-22T14:08:24.900277Z",
     "shell.execute_reply": "2023-05-22T14:08:24.898851Z"
    },
    "papermill": {
     "duration": 0.171585,
     "end_time": "2023-05-22T14:08:24.904033",
     "exception": false,
     "start_time": "2023-05-22T14:08:24.732448",
     "status": "completed"
    },
    "tags": []
   },
   "outputs": [],
   "source": [
    "def feature_engineer(dataset_df):\n",
    "    dataset_df['elapsed_time_diff'] = (\n",
    "        (dataset_df['elapsed_time'] - dataset_df['elapsed_time'].shift(1))\n",
    "        .fillna(0)\n",
    "        .clip(lower=0, upper=1e9)\n",
    "    )\n",
    "    dataset_df['location_x_diff'] = (\n",
    "        (dataset_df['room_coor_x'] - dataset_df['room_coor_x'].shift(1))\n",
    "        .abs()\n",
    "    )\n",
    "    dataset_df['location_y_diff'] = (\n",
    "        (dataset_df['room_coor_y'] - dataset_df['room_coor_y'].shift(1))\n",
    "        .abs()\n",
    "    )\n",
    "    \n",
    "    dfs = []\n",
    "    \n",
    "    for c in NUMERICAL:\n",
    "        tmp = dataset_df.groupby(['session_id','level_group'])[c].agg('mean')\n",
    "        tmp.name = tmp.name + '_mean'\n",
    "        dfs.append(tmp)\n",
    "    for c in NUMERICAL:\n",
    "        tmp = dataset_df.groupby(['session_id','level_group'])[c].agg('std')\n",
    "        tmp.name = tmp.name + '_std'\n",
    "        dfs.append(tmp)\n",
    "    for c in NUMERICAL:\n",
    "        tmp = dataset_df.groupby(['session_id','level_group'])[c].agg('sum')\n",
    "        tmp.name = tmp.name + '_sum'\n",
    "        dfs.append(tmp)\n",
    "    for c in NUMERICAL:\n",
    "        tmp = dataset_df.groupby(['session_id','level_group'])[c].agg('max')\n",
    "        tmp.name = tmp.name + '_max'\n",
    "        dfs.append(tmp)\n",
    "    for c in NUMERICAL:\n",
    "        tmp = dataset_df.groupby(['session_id','level_group'])[c].agg('min')\n",
    "        tmp.name = tmp.name + '_min'\n",
    "        dfs.append(tmp)\n",
    "        \n",
    "    for c in DIFFS:\n",
    "        tmp = dataset_df.groupby(['session_id', 'level_group'])[c].sum()\n",
    "        tmp.name = c + '_sum'\n",
    "        dfs.append(tmp)\n",
    "        \n",
    "    for c in EVENTS: \n",
    "        dataset_df[c] = (dataset_df.event_name == c).astype('int8')\n",
    "    for c in EVENTS: \n",
    "        tmp = dataset_df[dataset_df[c] == 1].groupby(['session_id', 'level_group'])[c].sum()\n",
    "        tmp.name = c + '_count'\n",
    "        dfs.append(tmp)\n",
    "        \n",
    "    #OPTIONALS\n",
    "    for c in OPTIONALS:\n",
    "        tmp = dataset_df.groupby(['session_id','level_group'])[c].agg('mean')\n",
    "        tmp.name = tmp.name + '_mean'\n",
    "        dfs.append(tmp)\n",
    "    for c in OPTIONALS:\n",
    "        tmp = dataset_df.groupby(['session_id','level_group'])[c].agg('std')\n",
    "        tmp.name = tmp.name + '_std'\n",
    "        dfs.append(tmp)\n",
    "    for c in OPTIONALS:\n",
    "        tmp = dataset_df.groupby(['session_id','level_group'])[c].agg('sum')\n",
    "        tmp.name = tmp.name + '_sum'\n",
    "        dfs.append(tmp)\n",
    "    for c in OPTIONALS:\n",
    "        tmp = dataset_df.groupby(['session_id','level_group'])[c].agg('min')\n",
    "        tmp.name = tmp.name + '_min'\n",
    "        dfs.append(tmp)\n",
    "    for c in OPTIONALS:\n",
    "        tmp = dataset_df.groupby(['session_id','level_group'])[c].agg('max')\n",
    "        tmp.name = tmp.name + '_max'\n",
    "        dfs.append(tmp)\n",
    "\n",
    "    dataset_df = pd.concat(dfs,axis=1)\n",
    "    dataset_df = dataset_df.fillna(-1)\n",
    "    dataset_df = dataset_df.reset_index()\n",
    "    dataset_df = dataset_df.set_index('session_id')\n",
    "    return dataset_df"
   ]
  },
  {
   "cell_type": "code",
   "execution_count": 7,
   "id": "e18b6366",
   "metadata": {
    "execution": {
     "iopub.execute_input": "2023-05-22T14:08:24.924086Z",
     "iopub.status.busy": "2023-05-22T14:08:24.923622Z",
     "iopub.status.idle": "2023-05-22T14:09:21.279835Z",
     "shell.execute_reply": "2023-05-22T14:09:21.278473Z"
    },
    "papermill": {
     "duration": 56.371237,
     "end_time": "2023-05-22T14:09:21.283924",
     "exception": false,
     "start_time": "2023-05-22T14:08:24.912687",
     "status": "completed"
    },
    "tags": []
   },
   "outputs": [],
   "source": [
    "dataset_df = feature_engineer(dataset_df)"
   ]
  },
  {
   "cell_type": "code",
   "execution_count": 8,
   "id": "6fd2fc74",
   "metadata": {
    "execution": {
     "iopub.execute_input": "2023-05-22T14:09:21.303593Z",
     "iopub.status.busy": "2023-05-22T14:09:21.303038Z",
     "iopub.status.idle": "2023-05-22T14:09:21.342736Z",
     "shell.execute_reply": "2023-05-22T14:09:21.341661Z"
    },
    "papermill": {
     "duration": 0.053317,
     "end_time": "2023-05-22T14:09:21.345947",
     "exception": false,
     "start_time": "2023-05-22T14:09:21.292630",
     "status": "completed"
    },
    "tags": []
   },
   "outputs": [
    {
     "name": "stdout",
     "output_type": "stream",
     "text": [
      "<class 'pandas.core.frame.DataFrame'>\n",
      "Int64Index: 70686 entries, 20090312431273200 to 22100221145014656\n",
      "Data columns (total 44 columns):\n",
      " #   Column                    Non-Null Count  Dtype  \n",
      "---  ------                    --------------  -----  \n",
      " 0   level_group               70686 non-null  object \n",
      " 1   level_mean                70686 non-null  float64\n",
      " 2   page_mean                 70686 non-null  float64\n",
      " 3   hover_duration_mean       70686 non-null  float32\n",
      " 4   level_std                 70686 non-null  float64\n",
      " 5   page_std                  70686 non-null  float64\n",
      " 6   hover_duration_std        70686 non-null  float64\n",
      " 7   level_sum                 70686 non-null  float64\n",
      " 8   page_sum                  70686 non-null  float64\n",
      " 9   hover_duration_sum        70686 non-null  float32\n",
      " 10  level_max                 70686 non-null  uint8  \n",
      " 11  page_max                  70686 non-null  float64\n",
      " 12  hover_duration_max        70686 non-null  float32\n",
      " 13  level_min                 70686 non-null  uint8  \n",
      " 14  page_min                  70686 non-null  float64\n",
      " 15  hover_duration_min        70686 non-null  float32\n",
      " 16  location_x_diff_sum       70686 non-null  float32\n",
      " 17  location_y_diff_sum       70686 non-null  float32\n",
      " 18  cutscene_click_count      70686 non-null  float64\n",
      " 19  person_click_count        70686 non-null  float64\n",
      " 20  navigate_click_count      70686 non-null  float64\n",
      " 21  observation_click_count   70686 non-null  int8   \n",
      " 22  notification_click_count  70686 non-null  int8   \n",
      " 23  object_click_count        70686 non-null  float64\n",
      " 24  object_hover_count        70686 non-null  float64\n",
      " 25  map_hover_count           70686 non-null  float64\n",
      " 26  map_click_count           70686 non-null  float64\n",
      " 27  checkpoint_count          70686 non-null  int8   \n",
      " 28  notebook_click_count      70686 non-null  float64\n",
      " 29  music_mean                70686 non-null  float64\n",
      " 30  fullscreen_mean           70686 non-null  float64\n",
      " 31  hq_mean                   70686 non-null  float64\n",
      " 32  music_std                 70686 non-null  float64\n",
      " 33  fullscreen_std            70686 non-null  float64\n",
      " 34  hq_std                    70686 non-null  float64\n",
      " 35  music_sum                 70686 non-null  int32  \n",
      " 36  fullscreen_sum            70686 non-null  int32  \n",
      " 37  hq_sum                    70686 non-null  int32  \n",
      " 38  music_min                 70686 non-null  int32  \n",
      " 39  fullscreen_min            70686 non-null  int32  \n",
      " 40  hq_min                    70686 non-null  int32  \n",
      " 41  music_max                 70686 non-null  int32  \n",
      " 42  fullscreen_max            70686 non-null  int32  \n",
      " 43  hq_max                    70686 non-null  int32  \n",
      "dtypes: float32(6), float64(23), int32(9), int8(3), object(1), uint8(2)\n",
      "memory usage: 17.9+ MB\n"
     ]
    }
   ],
   "source": [
    "dataset_df.info()"
   ]
  },
  {
   "cell_type": "code",
   "execution_count": 9,
   "id": "6d7ba64b",
   "metadata": {
    "execution": {
     "iopub.execute_input": "2023-05-22T14:09:21.366391Z",
     "iopub.status.busy": "2023-05-22T14:09:21.365646Z",
     "iopub.status.idle": "2023-05-22T14:09:21.370150Z",
     "shell.execute_reply": "2023-05-22T14:09:21.369111Z"
    },
    "papermill": {
     "duration": 0.017743,
     "end_time": "2023-05-22T14:09:21.372843",
     "exception": false,
     "start_time": "2023-05-22T14:09:21.355100",
     "status": "completed"
    },
    "tags": []
   },
   "outputs": [],
   "source": [
    "# corr = dataset_df.corr()\n",
    "\n",
    "# plt.figure(figsize=(15,15)) \n",
    "# sns.heatmap(corr, annot=True, cmap='Blues')\n",
    "# plt.title('Correlation Heatmap')\n",
    "# plt.show()"
   ]
  },
  {
   "cell_type": "code",
   "execution_count": 10,
   "id": "596f99a1",
   "metadata": {
    "execution": {
     "iopub.execute_input": "2023-05-22T14:09:21.392893Z",
     "iopub.status.busy": "2023-05-22T14:09:21.391790Z",
     "iopub.status.idle": "2023-05-22T14:09:21.402688Z",
     "shell.execute_reply": "2023-05-22T14:09:21.401353Z"
    },
    "papermill": {
     "duration": 0.024092,
     "end_time": "2023-05-22T14:09:21.405790",
     "exception": false,
     "start_time": "2023-05-22T14:09:21.381698",
     "status": "completed"
    },
    "tags": []
   },
   "outputs": [],
   "source": [
    "FEATURES = [c for c in dataset_df.columns if c != 'level_group']\n",
    "ALL_USERS = dataset_df.index.unique()\n",
    "\n",
    "gkf = GroupKFold(n_splits=5)\n",
    "oof = pd.DataFrame(data=np.zeros((len(ALL_USERS),18)), index=ALL_USERS)\n",
    "models = {}\n",
    "evaluation_dict ={}"
   ]
  },
  {
   "cell_type": "code",
   "execution_count": 11,
   "id": "7d1f6de6",
   "metadata": {
    "execution": {
     "iopub.execute_input": "2023-05-22T14:09:21.425690Z",
     "iopub.status.busy": "2023-05-22T14:09:21.424785Z",
     "iopub.status.idle": "2023-05-22T14:09:21.429529Z",
     "shell.execute_reply": "2023-05-22T14:09:21.428467Z"
    },
    "papermill": {
     "duration": 0.017456,
     "end_time": "2023-05-22T14:09:21.432000",
     "exception": false,
     "start_time": "2023-05-22T14:09:21.414544",
     "status": "completed"
    },
    "tags": []
   },
   "outputs": [],
   "source": [
    "# ALL_USERS"
   ]
  },
  {
   "cell_type": "code",
   "execution_count": 12,
   "id": "933679d3",
   "metadata": {
    "execution": {
     "iopub.execute_input": "2023-05-22T14:09:21.452465Z",
     "iopub.status.busy": "2023-05-22T14:09:21.451622Z",
     "iopub.status.idle": "2023-05-22T14:23:14.052758Z",
     "shell.execute_reply": "2023-05-22T14:23:14.051209Z"
    },
    "papermill": {
     "duration": 832.615737,
     "end_time": "2023-05-22T14:23:14.056403",
     "exception": false,
     "start_time": "2023-05-22T14:09:21.440666",
     "status": "completed"
    },
    "tags": []
   },
   "outputs": [
    {
     "name": "stdout",
     "output_type": "stream",
     "text": [
      "-------------------------\n",
      "    <<<  Fold  1  >>>\n",
      "-------------------------\n",
      "1(116), 2(220), 3(190), 4(158), 5(98), 6(143), 7(123), 8(113), 9(124), 10(118), 11(92), 12(147), 13(138), 14(140), 15(105), 16(96), 17(98), 18(184), \n",
      "-------------------------\n",
      "    <<<  Fold  2  >>>\n",
      "-------------------------\n",
      "1(152), 2(275), 3(189), 4(145), 5(110), 6(139), 7(122), 8(90), 9(115), 10(82), 11(113), 12(164), 13(116), 14(120), 15(111), 16(143), 17(119), 18(190), \n",
      "-------------------------\n",
      "    <<<  Fold  3  >>>\n",
      "-------------------------\n",
      "1(133), 2(252), 3(190), 4(146), 5(98), 6(126), 7(150), 8(88), 9(134), 10(124), 11(114), 12(133), 13(119), 14(138), 15(96), 16(109), 17(108), 18(202), \n",
      "-------------------------\n",
      "    <<<  Fold  4  >>>\n",
      "-------------------------\n",
      "1(132), 2(249), 3(184), 4(148), 5(87), 6(139), 7(118), 8(97), 9(128), 10(82), 11(109), 12(154), 13(161), 14(119), 15(117), 16(108), 17(118), 18(197), \n",
      "-------------------------\n",
      "    <<<  Fold  5  >>>\n",
      "-------------------------\n",
      "1(140), 2(243), 3(177), 4(148), 5(109), 6(135), 7(119), 8(96), 9(138), 10(107), 11(110), 12(147), 13(144), 14(121), 15(109), 16(111), 17(122), 18(194), \n"
     ]
    }
   ],
   "source": [
    "for i, (train_index, test_index) in enumerate(gkf.split(X=dataset_df, groups=dataset_df.index)):\n",
    "    print('-'*25)\n",
    "    print('    <<<  Fold ',i+1, ' >>>')\n",
    "    print('-'*25)\n",
    "    \n",
    "    xgb_params = {\n",
    "        'objective' : 'binary:logistic',\n",
    "        'eval_metric':'logloss',\n",
    "        'learning_rate': 0.02,\n",
    "        'max_depth': 30,\n",
    "        'n_estimators': 300,\n",
    "        'early_stopping_rounds': 50,\n",
    "        'tree_method':'hist',\n",
    "        'subsample':0.6,\n",
    "        'colsample_bytree': 0.4,\n",
    "        'use_label_encoder' : False\n",
    "    }\n",
    "    \n",
    "    for q_no in range(1,19):\n",
    "\n",
    "        # Select level group for the question based on the q_no.\n",
    "        if q_no<=3: grp = '0-4'\n",
    "        elif q_no<=13: grp = '5-12'\n",
    "        elif q_no<=22: grp = '13-22'\n",
    "\n",
    "\n",
    "        # TRAIN DATA\n",
    "        train_x = dataset_df.iloc[train_index]\n",
    "        train_x = train_x.loc[train_x.level_group == grp]\n",
    "        train_users = train_x.index.values\n",
    "        train_y = labels.loc[labels.q==q_no].set_index('session').loc[train_users]\n",
    "        \n",
    "        # VALID DATA\n",
    "        valid_x = dataset_df.iloc[test_index]\n",
    "        valid_x = valid_x.loc[valid_x.level_group == grp]\n",
    "        valid_users = valid_x.index.values\n",
    "        valid_y = labels.loc[labels.q==q_no].set_index('session').loc[valid_users]\n",
    "\n",
    "        # We will now create the Gradient Boosted Trees Model with default settings. \n",
    "        # By default the model is set to train for a classification task.\n",
    "        xgb = XGBClassifier(**xgb_params)\n",
    "        xgb.fit(train_x[FEATURES].astype('float32'), train_y['correct'],\n",
    "                eval_set=[ (valid_x[FEATURES].astype('float32'), valid_y['correct']) ],\n",
    "                verbose=0)\n",
    "        print(f'{q_no}({xgb.best_ntree_limit}), ',end='')\n",
    "        \n",
    "        # SAVE MODEL, PREDICT VALID OOF\n",
    "        models[f'{grp}_{q_no}'] = xgb\n",
    "        oof.loc[valid_users, q_no-1] = xgb.predict_proba(valid_x[FEATURES].astype('float32'))[:,1]  \n",
    "    print()"
   ]
  },
  {
   "cell_type": "code",
   "execution_count": 13,
   "id": "8286a949",
   "metadata": {
    "execution": {
     "iopub.execute_input": "2023-05-22T14:23:14.093442Z",
     "iopub.status.busy": "2023-05-22T14:23:14.092069Z",
     "iopub.status.idle": "2023-05-22T14:23:14.230173Z",
     "shell.execute_reply": "2023-05-22T14:23:14.228770Z"
    },
    "papermill": {
     "duration": 0.159982,
     "end_time": "2023-05-22T14:23:14.233516",
     "exception": false,
     "start_time": "2023-05-22T14:23:14.073534",
     "status": "completed"
    },
    "tags": []
   },
   "outputs": [],
   "source": [
    "true = oof.copy()\n",
    "for k in range(18):\n",
    "    # GET TRUE LABELS\n",
    "    tmp = labels.loc[labels.q == k+1].set_index('session').loc[ALL_USERS]\n",
    "    true[k] = tmp.correct.values"
   ]
  },
  {
   "cell_type": "code",
   "execution_count": 14,
   "id": "a1e093df",
   "metadata": {
    "execution": {
     "iopub.execute_input": "2023-05-22T14:23:14.269205Z",
     "iopub.status.busy": "2023-05-22T14:23:14.268782Z",
     "iopub.status.idle": "2023-05-22T14:23:21.145606Z",
     "shell.execute_reply": "2023-05-22T14:23:21.144264Z"
    },
    "papermill": {
     "duration": 6.898471,
     "end_time": "2023-05-22T14:23:21.148931",
     "exception": false,
     "start_time": "2023-05-22T14:23:14.250460",
     "status": "completed"
    },
    "tags": []
   },
   "outputs": [
    {
     "name": "stdout",
     "output_type": "stream",
     "text": [
      "0.40, 0.41, 0.42, 0.43, 0.44, 0.45, 0.46, 0.47, 0.48, 0.49, 0.50, 0.51, 0.52, 0.53, 0.54, 0.55, 0.56, 0.57, 0.58, 0.59, 0.60, 0.61, 0.62, 0.63, 0.64, 0.65, 0.66, 0.67, 0.68, 0.69, 0.70, 0.71, 0.72, 0.73, 0.74, 0.75, 0.76, 0.77, 0.78, 0.79, 0.80, "
     ]
    }
   ],
   "source": [
    "# FIND BEST THRESHOLD TO CONVERT PROBS INTO 1s AND 0s\n",
    "scores = []; thresholds = []\n",
    "best_score = 0; best_threshold = 0\n",
    "\n",
    "for threshold in np.arange(0.4,0.81,0.01):\n",
    "    print(f'{threshold:.02f}, ',end='')\n",
    "    preds = (oof.values.reshape((-1))>threshold).astype('int')\n",
    "    m = f1_score(true.values.reshape((-1)), preds, average='macro')   \n",
    "    scores.append(m)\n",
    "    thresholds.append(threshold)\n",
    "    if m>best_score:\n",
    "        best_score = m\n",
    "        best_threshold = threshold"
   ]
  },
  {
   "cell_type": "code",
   "execution_count": 15,
   "id": "94fbf066",
   "metadata": {
    "execution": {
     "iopub.execute_input": "2023-05-22T14:23:21.189292Z",
     "iopub.status.busy": "2023-05-22T14:23:21.188415Z",
     "iopub.status.idle": "2023-05-22T14:23:21.521512Z",
     "shell.execute_reply": "2023-05-22T14:23:21.520330Z"
    },
    "papermill": {
     "duration": 0.356687,
     "end_time": "2023-05-22T14:23:21.524346",
     "exception": false,
     "start_time": "2023-05-22T14:23:21.167659",
     "status": "completed"
    },
    "tags": []
   },
   "outputs": [
    {
     "name": "stdout",
     "output_type": "stream",
     "text": [
      "Q0: F1 = 0.5821477838003539\n",
      "Q1: F1 = 0.49464879356568364\n",
      "Q2: F1 = 0.49293711636995496\n",
      "Q3: F1 = 0.6004363102066803\n",
      "Q4: F1 = 0.5649819774675591\n",
      "Q5: F1 = 0.6003737114135477\n",
      "Q6: F1 = 0.5839237557720971\n",
      "Q7: F1 = 0.5256307629893818\n",
      "Q8: F1 = 0.5940147944137488\n",
      "Q9: F1 = 0.5114067981129794\n",
      "Q10: F1 = 0.5772321159146175\n",
      "Q11: F1 = 0.4933763527011668\n",
      "Q12: F1 = 0.4501212929522861\n",
      "Q13: F1 = 0.5923293982196609\n",
      "Q14: F1 = 0.49691090712036\n",
      "Q15: F1 = 0.4896465084040894\n",
      "Q16: F1 = 0.532010144468832\n",
      "Q17: F1 = 0.4880987963733634\n",
      "==> Overall F1 = 0.6724700356554463\n"
     ]
    }
   ],
   "source": [
    "for k in range(18):\n",
    "        \n",
    "    # COMPUTE F1 SCORE PER QUESTION\n",
    "    m = f1_score(true[k].values, (oof[k].values>best_threshold).astype('int'), average='macro')\n",
    "    print(f'Q{k}: F1 =',m)\n",
    "    \n",
    "# COMPUTE F1 SCORE OVERALL\n",
    "m = f1_score(true.values.reshape((-1)), (oof.values.reshape((-1))>best_threshold).astype('int'), average='macro')\n",
    "print('==> Overall F1 =',m)"
   ]
  },
  {
   "cell_type": "code",
   "execution_count": 16,
   "id": "df78656e",
   "metadata": {
    "execution": {
     "iopub.execute_input": "2023-05-22T14:23:21.564490Z",
     "iopub.status.busy": "2023-05-22T14:23:21.563570Z",
     "iopub.status.idle": "2023-05-22T14:23:22.944939Z",
     "shell.execute_reply": "2023-05-22T14:23:22.943628Z"
    },
    "papermill": {
     "duration": 1.405071,
     "end_time": "2023-05-22T14:23:22.947935",
     "exception": false,
     "start_time": "2023-05-22T14:23:21.542864",
     "status": "completed"
    },
    "tags": []
   },
   "outputs": [
    {
     "name": "stdout",
     "output_type": "stream",
     "text": [
      "This version of the API is not optimized and should not be used to estimate the runtime of your code on the hidden test set.\n"
     ]
    }
   ],
   "source": [
    "# Reference\n",
    "# https://www.kaggle.com/code/philculliton/basic-submission-demo\n",
    "# https://www.kaggle.com/code/cdeotte/random-forest-baseline-0-664/notebook\n",
    "\n",
    "import jo_wilder\n",
    "env = jo_wilder.make_env()\n",
    "iter_test = env.iter_test()\n",
    "\n",
    "limits = {'0-4':(1,4), '5-12':(4,14), '13-22':(14,19)}\n",
    "\n",
    "for (test, sample_submission) in iter_test:\n",
    "    # FEATURE ENGINEER TEST DATA\n",
    "    df = feature_engineer(test)\n",
    "    # INFER TEST DATA\n",
    "    grp = test.level_group.values[0]\n",
    "    a,b = limits[grp]\n",
    "    for t in range(a,b):\n",
    "        xgb = models[f'{grp}_{t}']\n",
    "        p = xgb.predict_proba(df[FEATURES].astype('float32'))[0,1]\n",
    "        mask = sample_submission.session_id.str.contains(f'q{t}')\n",
    "        sample_submission.loc[mask,'correct'] = int( p > best_threshold )\n",
    "    \n",
    "    env.predict(sample_submission)"
   ]
  },
  {
   "cell_type": "code",
   "execution_count": null,
   "id": "0d5441b5",
   "metadata": {
    "papermill": {
     "duration": 0.018063,
     "end_time": "2023-05-22T14:23:22.984712",
     "exception": false,
     "start_time": "2023-05-22T14:23:22.966649",
     "status": "completed"
    },
    "tags": []
   },
   "outputs": [],
   "source": []
  },
  {
   "cell_type": "code",
   "execution_count": null,
   "id": "74054706",
   "metadata": {
    "papermill": {
     "duration": 0.018017,
     "end_time": "2023-05-22T14:23:23.021153",
     "exception": false,
     "start_time": "2023-05-22T14:23:23.003136",
     "status": "completed"
    },
    "tags": []
   },
   "outputs": [],
   "source": []
  }
 ],
 "metadata": {
  "kernelspec": {
   "display_name": "Python 3",
   "language": "python",
   "name": "python3"
  },
  "language_info": {
   "codemirror_mode": {
    "name": "ipython",
    "version": 3
   },
   "file_extension": ".py",
   "mimetype": "text/x-python",
   "name": "python",
   "nbconvert_exporter": "python",
   "pygments_lexer": "ipython3",
   "version": "3.7.12"
  },
  "papermill": {
   "default_parameters": {},
   "duration": 1049.402351,
   "end_time": "2023-05-22T14:23:24.272647",
   "environment_variables": {},
   "exception": null,
   "input_path": "__notebook__.ipynb",
   "output_path": "__notebook__.ipynb",
   "parameters": {},
   "start_time": "2023-05-22T14:05:54.870296",
   "version": "2.4.0"
  }
 },
 "nbformat": 4,
 "nbformat_minor": 5
}
