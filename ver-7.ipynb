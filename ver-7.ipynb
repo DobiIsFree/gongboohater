{
 "cells": [
  {
   "cell_type": "markdown",
   "id": "0d092433",
   "metadata": {
    "_cell_guid": "3065ea28-3415-46ef-8ec2-672826f1896a",
    "_uuid": "1b633216-f642-426b-a442-36227e786485",
    "id": "iCTA6kl3n2O1",
    "papermill": {
     "duration": 0.010248,
     "end_time": "2023-05-24T04:58:11.222140",
     "exception": false,
     "start_time": "2023-05-24T04:58:11.211892",
     "status": "completed"
    },
    "tags": []
   },
   "source": [
    "# Student Performance from Game Play Using TensorFlow Decision Forests"
   ]
  },
  {
   "cell_type": "markdown",
   "id": "4489ab20",
   "metadata": {
    "_cell_guid": "f5f126e7-a6c7-4d10-9453-02803d77fdec",
    "_uuid": "48949e80-ac79-459e-b078-1258b02a6d19",
    "id": "zAXHC6-Tn2O5",
    "papermill": {
     "duration": 0.008126,
     "end_time": "2023-05-24T04:58:11.239303",
     "exception": false,
     "start_time": "2023-05-24T04:58:11.231177",
     "status": "completed"
    },
    "tags": []
   },
   "source": [
    "## Import the Required Libraries"
   ]
  },
  {
   "cell_type": "code",
   "execution_count": 1,
   "id": "aa99d980",
   "metadata": {
    "_cell_guid": "d9edea55-e22d-47eb-9e89-f41baf355a90",
    "_uuid": "b8016303-112b-4ba5-b173-8f7fafdd3fbc",
    "collapsed": false,
    "execution": {
     "iopub.execute_input": "2023-05-24T04:58:11.259892Z",
     "iopub.status.busy": "2023-05-24T04:58:11.259055Z",
     "iopub.status.idle": "2023-05-24T04:58:12.733907Z",
     "shell.execute_reply": "2023-05-24T04:58:12.732878Z"
    },
    "id": "IanlX-Eqn2O5",
    "jupyter": {
     "outputs_hidden": false
    },
    "papermill": {
     "duration": 1.488529,
     "end_time": "2023-05-24T04:58:12.736897",
     "exception": false,
     "start_time": "2023-05-24T04:58:11.248368",
     "status": "completed"
    },
    "tags": []
   },
   "outputs": [],
   "source": [
    "import pandas as pd\n",
    "import numpy as np\n",
    "import matplotlib.pyplot as plt\n",
    "\n",
    "from xgboost import XGBClassifier\n",
    "from sklearn.model_selection import KFold, GroupKFold\n",
    "from sklearn.metrics import f1_score"
   ]
  },
  {
   "cell_type": "markdown",
   "id": "96928b19",
   "metadata": {
    "_cell_guid": "5be263dd-cf1e-4887-b94b-caeeea6a4aa8",
    "_uuid": "2697b3d5-0f16-4f5e-aa80-76ad489e86ae",
    "id": "22DpLVFLn2O7",
    "papermill": {
     "duration": 0.008283,
     "end_time": "2023-05-24T04:58:12.754126",
     "exception": false,
     "start_time": "2023-05-24T04:58:12.745843",
     "status": "completed"
    },
    "tags": []
   },
   "source": [
    "## Load the Dataset"
   ]
  },
  {
   "cell_type": "code",
   "execution_count": 2,
   "id": "a79a760e",
   "metadata": {
    "_cell_guid": "144dcbf9-be59-440c-b31a-8216f58528cb",
    "_uuid": "0cd23222-c6e1-47b2-8149-4834fa47f2e4",
    "collapsed": false,
    "execution": {
     "iopub.execute_input": "2023-05-24T04:58:12.774826Z",
     "iopub.status.busy": "2023-05-24T04:58:12.774001Z",
     "iopub.status.idle": "2023-05-24T05:00:19.448439Z",
     "shell.execute_reply": "2023-05-24T05:00:19.447223Z"
    },
    "id": "_XItl24kn2O7",
    "jupyter": {
     "outputs_hidden": false
    },
    "papermill": {
     "duration": 126.688651,
     "end_time": "2023-05-24T05:00:19.452008",
     "exception": false,
     "start_time": "2023-05-24T04:58:12.763357",
     "status": "completed"
    },
    "tags": []
   },
   "outputs": [],
   "source": [
    "# Reference: https://www.kaggle.com/competitions/predict-student-performance-from-game-play/discussion/384359\n",
    "dtypes={\n",
    "    'elapsed_time':np.int32,\n",
    "    'event_name':'category',\n",
    "    'name':'category',\n",
    "    'level':np.uint8,\n",
    "    'room_coor_x':np.float32,\n",
    "    'room_coor_y':np.float32,\n",
    "    'screen_coor_x':np.float32,\n",
    "    'screen_coor_y':np.float32,\n",
    "    'hover_duration':np.float32,\n",
    "    'text':'category',\n",
    "    'fqid':'category',\n",
    "    'room_fqid':'category',\n",
    "    'text_fqid':'category',\n",
    "    'fullscreen': np.int32,\n",
    "    'hq': np.int32,\n",
    "    'music': np.int32,\n",
    "    'level_group':'category'}\n",
    "\n",
    "dataset_df = pd.read_csv('/kaggle/input/predict-student-performance-from-game-play/train.csv', dtype=dtypes)"
   ]
  },
  {
   "cell_type": "markdown",
   "id": "5261b8b7",
   "metadata": {
    "_cell_guid": "c65e1dff-67b0-4bb6-9b97-b6418d4173c7",
    "_uuid": "3df6b5f5-7744-40f9-bec5-bb45b9238387",
    "id": "ReNY-i3bn2O8",
    "papermill": {
     "duration": 0.008273,
     "end_time": "2023-05-24T05:00:19.469372",
     "exception": false,
     "start_time": "2023-05-24T05:00:19.461099",
     "status": "completed"
    },
    "tags": []
   },
   "source": [
    "## Load the labels"
   ]
  },
  {
   "cell_type": "code",
   "execution_count": 3,
   "id": "adc0172a",
   "metadata": {
    "_cell_guid": "bc6c67b2-3be1-4595-bc75-a10a50ba30d3",
    "_uuid": "e71600d9-2043-4209-8373-cf254354b3f2",
    "collapsed": false,
    "execution": {
     "iopub.execute_input": "2023-05-24T05:00:19.488455Z",
     "iopub.status.busy": "2023-05-24T05:00:19.488026Z",
     "iopub.status.idle": "2023-05-24T05:00:19.872372Z",
     "shell.execute_reply": "2023-05-24T05:00:19.871242Z"
    },
    "id": "KD4uayl2n2O9",
    "jupyter": {
     "outputs_hidden": false
    },
    "papermill": {
     "duration": 0.397387,
     "end_time": "2023-05-24T05:00:19.875322",
     "exception": false,
     "start_time": "2023-05-24T05:00:19.477935",
     "status": "completed"
    },
    "tags": []
   },
   "outputs": [],
   "source": [
    "labels = pd.read_csv('/kaggle/input/predict-student-performance-from-game-play/train_labels.csv')"
   ]
  },
  {
   "cell_type": "code",
   "execution_count": 4,
   "id": "132f8060",
   "metadata": {
    "_cell_guid": "24c78d16-6a6a-4409-b1c3-5f1d84c0a9ac",
    "_uuid": "afd665e4-8c5e-4a6a-9c96-2c8676f97c88",
    "collapsed": false,
    "execution": {
     "iopub.execute_input": "2023-05-24T05:00:19.895395Z",
     "iopub.status.busy": "2023-05-24T05:00:19.894236Z",
     "iopub.status.idle": "2023-05-24T05:00:21.020263Z",
     "shell.execute_reply": "2023-05-24T05:00:21.019075Z"
    },
    "id": "Kva8_Dbqn2O9",
    "jupyter": {
     "outputs_hidden": false
    },
    "papermill": {
     "duration": 1.138935,
     "end_time": "2023-05-24T05:00:21.023076",
     "exception": false,
     "start_time": "2023-05-24T05:00:19.884141",
     "status": "completed"
    },
    "tags": []
   },
   "outputs": [],
   "source": [
    "labels['session'] = labels.session_id.apply(lambda x: int(x.split('_')[0]) )\n",
    "labels['q'] = labels.session_id.apply(lambda x: int(x.split('_')[-1][1:]) )"
   ]
  },
  {
   "cell_type": "markdown",
   "id": "81ee8902",
   "metadata": {
    "_cell_guid": "485073af-b103-48c0-8e8c-60c28ddc00fc",
    "_uuid": "d4215f16-78de-4f14-b9f3-b596b03f8433",
    "id": "y5fK05dsn2O_",
    "papermill": {
     "duration": 0.008243,
     "end_time": "2023-05-24T05:00:21.039805",
     "exception": false,
     "start_time": "2023-05-24T05:00:21.031562",
     "status": "completed"
    },
    "tags": []
   },
   "source": [
    "# Prepare the dataset"
   ]
  },
  {
   "cell_type": "code",
   "execution_count": 5,
   "id": "3fe155ee",
   "metadata": {
    "_cell_guid": "9527a410-8159-421f-9ad6-f3c712fc7d87",
    "_uuid": "886d16af-f0f1-4c68-8e15-9802bd417f6e",
    "collapsed": false,
    "execution": {
     "iopub.execute_input": "2023-05-24T05:00:21.059487Z",
     "iopub.status.busy": "2023-05-24T05:00:21.058351Z",
     "iopub.status.idle": "2023-05-24T05:00:21.461699Z",
     "shell.execute_reply": "2023-05-24T05:00:21.460681Z"
    },
    "id": "cCZWGiL_n2PA",
    "jupyter": {
     "outputs_hidden": false
    },
    "papermill": {
     "duration": 0.416331,
     "end_time": "2023-05-24T05:00:21.464593",
     "exception": false,
     "start_time": "2023-05-24T05:00:21.048262",
     "status": "completed"
    },
    "tags": []
   },
   "outputs": [],
   "source": [
    "CATEGORICAL = ['event_name', 'name', 'fqid', 'room_fqid', 'text_fqid']\n",
    "NUMERICAL = ['page', 'hover_duration', 'room_coor_x', 'room_coor_y', 'screen_coor_x', 'screen_coor_y']\n",
    "# 'level' \n",
    "\n",
    "EVENTS = dataset_df['event_name'].unique()\n",
    "NAMES = dataset_df['name'].unique()\n",
    "\n",
    "DIFFS = ['location_x_diff', 'location_y_diff', 'elapsed_time_diff']\n",
    "\n",
    "# Except: 'music', 'fullscreen', 'hq' ???\n",
    "OPTIONALS = ['music', 'fullscreen', 'hq']\n",
    "\n",
    "# Lots..\n",
    "TEXT_LISTS = dataset_df['text'].unique()"
   ]
  },
  {
   "cell_type": "code",
   "execution_count": 6,
   "id": "ec10abd7",
   "metadata": {
    "execution": {
     "iopub.execute_input": "2023-05-24T05:00:21.485124Z",
     "iopub.status.busy": "2023-05-24T05:00:21.484332Z",
     "iopub.status.idle": "2023-05-24T05:00:21.646274Z",
     "shell.execute_reply": "2023-05-24T05:00:21.644958Z"
    },
    "papermill": {
     "duration": 0.175058,
     "end_time": "2023-05-24T05:00:21.649378",
     "exception": false,
     "start_time": "2023-05-24T05:00:21.474320",
     "status": "completed"
    },
    "tags": []
   },
   "outputs": [],
   "source": [
    "def feature_engineer(dataset_df):\n",
    "    dataset_df['elapsed_time_diff'] = (\n",
    "        (dataset_df['elapsed_time'] - dataset_df['elapsed_time'].shift(1))\n",
    "        .fillna(0)\n",
    "        .clip(lower=0, upper=1e9)\n",
    "    )\n",
    "    dataset_df['location_x_diff'] = (\n",
    "        (dataset_df['room_coor_x'] - dataset_df['room_coor_x'].shift(1))\n",
    "        .abs()\n",
    "    )\n",
    "    dataset_df['location_y_diff'] = (\n",
    "        (dataset_df['room_coor_y'] - dataset_df['room_coor_y'].shift(1))\n",
    "        .abs()\n",
    "    )\n",
    "    \n",
    "    dfs = []\n",
    "    \n",
    "    for c in NUMERICAL:\n",
    "        tmp = dataset_df.groupby(['session_id','level_group'])[c].agg('mean')\n",
    "        tmp.name = tmp.name + '_mean'\n",
    "        dfs.append(tmp)\n",
    "    for c in NUMERICAL:\n",
    "        tmp = dataset_df.groupby(['session_id','level_group'])[c].agg('std')\n",
    "        tmp.name = tmp.name + '_std'\n",
    "        dfs.append(tmp)\n",
    "    for c in NUMERICAL:\n",
    "        tmp = dataset_df.groupby(['session_id','level_group'])[c].agg('sum')\n",
    "        tmp.name = tmp.name + '_sum'\n",
    "        dfs.append(tmp)\n",
    "    for c in NUMERICAL:\n",
    "        tmp = dataset_df.groupby(['session_id','level_group'])[c].agg('max')\n",
    "        tmp.name = tmp.name + '_max'\n",
    "        dfs.append(tmp)\n",
    "    for c in NUMERICAL:\n",
    "        tmp = dataset_df.groupby(['session_id','level_group'])[c].agg('min')\n",
    "        tmp.name = tmp.name + '_min'\n",
    "        dfs.append(tmp)\n",
    "        \n",
    "    # DIFFS\n",
    "    for c in DIFFS:\n",
    "        tmp = dataset_df.groupby(['session_id', 'level_group'])[c].sum()\n",
    "        tmp.name = c + '_sum'\n",
    "        dfs.append(tmp)\n",
    "    for c in DIFFS:\n",
    "        tmp = dataset_df.groupby(['session_id', 'level_group'])[c].std()\n",
    "        tmp.name = c + '_std'\n",
    "        dfs.append(tmp)\n",
    "    for c in DIFFS:\n",
    "        tmp = dataset_df.groupby(['session_id', 'level_group'])[c].mean()\n",
    "        tmp.name = c + '_mean'\n",
    "        dfs.append(tmp)\n",
    "    for c in DIFFS:\n",
    "        tmp = dataset_df.groupby(['session_id', 'level_group'])[c].max()\n",
    "        tmp.name = c + '_max'\n",
    "        dfs.append(tmp)\n",
    "    for c in DIFFS:\n",
    "        tmp = dataset_df.groupby(['session_id', 'level_group'])[c].min()\n",
    "        tmp.name = c + '_min'\n",
    "        dfs.append(tmp)\n",
    "    \n",
    "    # EVNETS\n",
    "    for c in EVENTS: \n",
    "        dataset_df[c] = (dataset_df.event_name == c).astype('int8')\n",
    "    for c in EVENTS: \n",
    "        tmp = dataset_df[dataset_df[c] == 1].groupby(['session_id', 'level_group'])[c].sum()\n",
    "        tmp.name = c + '_count'\n",
    "        dfs.append(tmp)\n",
    "    for c in EVENTS: \n",
    "        tmp = dataset_df[dataset_df[c] == 1].groupby(['session_id', 'level_group'])[c].std()\n",
    "        tmp.name = c + '_std'\n",
    "        dfs.append(tmp)\n",
    "    for c in EVENTS: \n",
    "        tmp = dataset_df[dataset_df[c] == 1].groupby(['session_id', 'level_group'])[c].mean()\n",
    "        tmp.name = c + '_mean'\n",
    "        dfs.append(tmp)\n",
    "    for c in EVENTS: \n",
    "        tmp = dataset_df[dataset_df[c] == 1].groupby(['session_id', 'level_group'])[c].max()\n",
    "        tmp.name = c + '_max'\n",
    "        dfs.append(tmp)\n",
    "    for c in EVENTS: \n",
    "        tmp = dataset_df[dataset_df[c] == 1].groupby(['session_id', 'level_group'])[c].min()\n",
    "        tmp.name = c + '_min'\n",
    "        dfs.append(tmp)\n",
    "        \n",
    "    for c in EVENTS:\n",
    "        tmp = dataset_df[dataset_df[c] == 1].groupby(['session_id', 'level_group'])['elapsed_time_diff'].agg('mean')\n",
    "        tmp.name = c + '_time_average'\n",
    "        dfs.append(tmp)\n",
    "        \n",
    "        \n",
    "    #OPTIONALS\n",
    "    for c in OPTIONALS:\n",
    "        tmp = dataset_df.groupby(['session_id','level_group'])[c].agg('mean')\n",
    "        tmp.name = tmp.name + '_mean'\n",
    "        dfs.append(tmp)\n",
    "    for c in OPTIONALS:\n",
    "        tmp = dataset_df.groupby(['session_id','level_group'])[c].agg('std')\n",
    "        tmp.name = tmp.name + '_std'\n",
    "        dfs.append(tmp)\n",
    "    for c in OPTIONALS:\n",
    "        tmp = dataset_df.groupby(['session_id','level_group'])[c].agg('sum')\n",
    "        tmp.name = tmp.name + '_sum'\n",
    "        dfs.append(tmp)\n",
    "    for c in OPTIONALS:\n",
    "        tmp = dataset_df.groupby(['session_id','level_group'])[c].agg('min')\n",
    "        tmp.name = tmp.name + '_min'\n",
    "        dfs.append(tmp)\n",
    "    for c in OPTIONALS:\n",
    "        tmp = dataset_df.groupby(['session_id','level_group'])[c].agg('max')\n",
    "        tmp.name = tmp.name + '_max'\n",
    "        dfs.append(tmp)   \n",
    "        \n",
    "    dataset_df = pd.concat(dfs,axis=1)\n",
    "    dataset_df = dataset_df.fillna(-1)\n",
    "    dataset_df = dataset_df.reset_index()\n",
    "    dataset_df = dataset_df.set_index('session_id')\n",
    "    return dataset_df"
   ]
  },
  {
   "cell_type": "code",
   "execution_count": 7,
   "id": "a54490e5",
   "metadata": {
    "execution": {
     "iopub.execute_input": "2023-05-24T05:00:21.668976Z",
     "iopub.status.busy": "2023-05-24T05:00:21.668174Z",
     "iopub.status.idle": "2023-05-24T05:02:43.129216Z",
     "shell.execute_reply": "2023-05-24T05:02:43.127933Z"
    },
    "papermill": {
     "duration": 141.474223,
     "end_time": "2023-05-24T05:02:43.132228",
     "exception": false,
     "start_time": "2023-05-24T05:00:21.658005",
     "status": "completed"
    },
    "tags": []
   },
   "outputs": [],
   "source": [
    "dataset_df = feature_engineer(dataset_df)"
   ]
  },
  {
   "cell_type": "code",
   "execution_count": 8,
   "id": "86bfc161",
   "metadata": {
    "execution": {
     "iopub.execute_input": "2023-05-24T05:02:43.151752Z",
     "iopub.status.busy": "2023-05-24T05:02:43.151065Z",
     "iopub.status.idle": "2023-05-24T05:02:43.172896Z",
     "shell.execute_reply": "2023-05-24T05:02:43.171879Z"
    },
    "papermill": {
     "duration": 0.035319,
     "end_time": "2023-05-24T05:02:43.176283",
     "exception": false,
     "start_time": "2023-05-24T05:02:43.140964",
     "status": "completed"
    },
    "tags": []
   },
   "outputs": [
    {
     "name": "stdout",
     "output_type": "stream",
     "text": [
      "<class 'pandas.core.frame.DataFrame'>\n",
      "Int64Index: 70686 entries, 20090312431273200 to 22100221145014656\n",
      "Columns: 127 entries, level_group to hq_max\n",
      "dtypes: float32(28), float64(74), int32(9), int8(15), object(1)\n",
      "memory usage: 52.0+ MB\n"
     ]
    }
   ],
   "source": [
    "dataset_df.info()"
   ]
  },
  {
   "cell_type": "code",
   "execution_count": 9,
   "id": "b659fa68",
   "metadata": {
    "execution": {
     "iopub.execute_input": "2023-05-24T05:02:43.196685Z",
     "iopub.status.busy": "2023-05-24T05:02:43.195974Z",
     "iopub.status.idle": "2023-05-24T05:02:43.200429Z",
     "shell.execute_reply": "2023-05-24T05:02:43.199442Z"
    },
    "papermill": {
     "duration": 0.017527,
     "end_time": "2023-05-24T05:02:43.203076",
     "exception": false,
     "start_time": "2023-05-24T05:02:43.185549",
     "status": "completed"
    },
    "tags": []
   },
   "outputs": [],
   "source": [
    "# corr = dataset_df.corr()\n",
    "\n",
    "# plt.figure(figsize=(15,15)) \n",
    "# sns.heatmap(corr, annot=True, cmap='Blues')\n",
    "# plt.title('Correlation Heatmap')\n",
    "# plt.show()"
   ]
  },
  {
   "cell_type": "code",
   "execution_count": 10,
   "id": "5b8d3c2f",
   "metadata": {
    "execution": {
     "iopub.execute_input": "2023-05-24T05:02:43.223206Z",
     "iopub.status.busy": "2023-05-24T05:02:43.222308Z",
     "iopub.status.idle": "2023-05-24T05:02:43.233184Z",
     "shell.execute_reply": "2023-05-24T05:02:43.232004Z"
    },
    "papermill": {
     "duration": 0.024418,
     "end_time": "2023-05-24T05:02:43.236148",
     "exception": false,
     "start_time": "2023-05-24T05:02:43.211730",
     "status": "completed"
    },
    "tags": []
   },
   "outputs": [],
   "source": [
    "FEATURES = [c for c in dataset_df.columns if c != 'level_group']\n",
    "ALL_USERS = dataset_df.index.unique()\n",
    "\n",
    "gkf = GroupKFold(n_splits=5)\n",
    "oof = pd.DataFrame(data=np.zeros((len(ALL_USERS),18)), index=ALL_USERS)\n",
    "models = {}\n",
    "evaluation_dict ={}"
   ]
  },
  {
   "cell_type": "code",
   "execution_count": 11,
   "id": "0bce91d6",
   "metadata": {
    "execution": {
     "iopub.execute_input": "2023-05-24T05:02:43.256597Z",
     "iopub.status.busy": "2023-05-24T05:02:43.255602Z",
     "iopub.status.idle": "2023-05-24T05:02:43.260229Z",
     "shell.execute_reply": "2023-05-24T05:02:43.259274Z"
    },
    "papermill": {
     "duration": 0.018183,
     "end_time": "2023-05-24T05:02:43.262892",
     "exception": false,
     "start_time": "2023-05-24T05:02:43.244709",
     "status": "completed"
    },
    "tags": []
   },
   "outputs": [],
   "source": [
    "# ALL_USERS"
   ]
  },
  {
   "cell_type": "code",
   "execution_count": 12,
   "id": "1fe96208",
   "metadata": {
    "execution": {
     "iopub.execute_input": "2023-05-24T05:02:43.283663Z",
     "iopub.status.busy": "2023-05-24T05:02:43.282862Z",
     "iopub.status.idle": "2023-05-24T05:17:29.740242Z",
     "shell.execute_reply": "2023-05-24T05:17:29.738426Z"
    },
    "papermill": {
     "duration": 886.472503,
     "end_time": "2023-05-24T05:17:29.744163",
     "exception": false,
     "start_time": "2023-05-24T05:02:43.271660",
     "status": "completed"
    },
    "tags": []
   },
   "outputs": [
    {
     "name": "stdout",
     "output_type": "stream",
     "text": [
      "-------------------------\n",
      "    <<<  Fold  1  >>>\n",
      "-------------------------\n",
      "1(229), 2(300), 3(306), 4(275), 5(203), 6(205), 7(162), 8(109), 9(268), 10(211), 11(159), 12(201), 13(265), 14(181), 15(238), 16(129), 17(115), 18(293), \n",
      "-------------------------\n",
      "    <<<  Fold  2  >>>\n",
      "-------------------------\n",
      "1(250), 2(341), 3(233), 4(196), 5(198), 6(193), 7(222), 8(148), 9(222), 10(192), 11(270), 12(294), 13(181), 14(239), 15(283), 16(162), 17(173), 18(273), \n",
      "-------------------------\n",
      "    <<<  Fold  3  >>>\n",
      "-------------------------\n",
      "1(226), 2(347), 3(256), 4(274), 5(184), 6(268), 7(280), 8(113), 9(196), 10(272), 11(145), 12(189), 13(180), 14(197), 15(215), 16(163), 17(148), 18(229), \n",
      "-------------------------\n",
      "    <<<  Fold  4  >>>\n",
      "-------------------------\n",
      "1(232), 2(276), 3(229), 4(279), 5(154), 6(232), 7(202), 8(150), 9(261), 10(125), 11(184), 12(228), 13(219), 14(206), 15(192), 16(154), 17(139), 18(292), \n",
      "-------------------------\n",
      "    <<<  Fold  5  >>>\n",
      "-------------------------\n",
      "1(338), 2(402), 3(255), 4(378), 5(252), 6(162), 7(198), 8(154), 9(260), 10(170), 11(151), 12(261), 13(205), 14(152), 15(328), 16(139), 17(176), 18(245), \n"
     ]
    }
   ],
   "source": [
    "for i, (train_index, test_index) in enumerate(gkf.split(X=dataset_df, groups=dataset_df.index)):\n",
    "    print('-'*25)\n",
    "    print('    <<<  Fold ',i+1, ' >>>')\n",
    "    print('-'*25)\n",
    "    \n",
    "    xgb_params = {\n",
    "        'objective' : 'binary:logistic',\n",
    "        'eval_metric':'logloss',\n",
    "        'learning_rate': 0.02,\n",
    "        'max_depth': 8,\n",
    "        'n_estimators': 1000,\n",
    "        'early_stopping_rounds': 50,\n",
    "        'tree_method':'hist',\n",
    "        'subsample':0.5,\n",
    "        'colsample_bytree': 1,\n",
    "        'use_label_encoder' : False,\n",
    "        \n",
    "        ### Parameters Tuning.. \n",
    "        'gamma': 0,\n",
    "        'min_child_weight': 10,\n",
    "    }\n",
    "    \n",
    "    for q_no in range(1,19):\n",
    "\n",
    "        # Select level group for the question based on the q_no.\n",
    "        if q_no<=3: grp = '0-4'\n",
    "        elif q_no<=13: grp = '5-12'\n",
    "        elif q_no<=22: grp = '13-22'\n",
    "\n",
    "\n",
    "        # TRAIN DATA\n",
    "        train_x = dataset_df.iloc[train_index]\n",
    "        train_x = train_x.loc[train_x.level_group == grp]\n",
    "        train_users = train_x.index.values\n",
    "        train_y = labels.loc[labels.q==q_no].set_index('session').loc[train_users]\n",
    "        \n",
    "        # VALID DATA\n",
    "        valid_x = dataset_df.iloc[test_index]\n",
    "        valid_x = valid_x.loc[valid_x.level_group == grp]\n",
    "        valid_users = valid_x.index.values\n",
    "        valid_y = labels.loc[labels.q==q_no].set_index('session').loc[valid_users]\n",
    "\n",
    "        # We will now create the Gradient Boosted Trees Model with default settings. \n",
    "        # By default the model is set to train for a classification task.\n",
    "        xgb = XGBClassifier(**xgb_params)\n",
    "        xgb.fit(train_x[FEATURES].astype('float32'), train_y['correct'],\n",
    "                eval_set=[ (valid_x[FEATURES].astype('float32'), valid_y['correct']) ],\n",
    "                verbose=0)\n",
    "        print(f'{q_no}({xgb.best_ntree_limit}), ',end='')\n",
    "        \n",
    "        # SAVE MODEL, PREDICT VALID OOF\n",
    "        models[f'{grp}_{q_no}'] = xgb\n",
    "        oof.loc[valid_users, q_no-1] = xgb.predict_proba(valid_x[FEATURES].astype('float32'))[:,1]  \n",
    "    print()"
   ]
  },
  {
   "cell_type": "code",
   "execution_count": 13,
   "id": "eb3defe7",
   "metadata": {
    "execution": {
     "iopub.execute_input": "2023-05-24T05:17:29.781930Z",
     "iopub.status.busy": "2023-05-24T05:17:29.781374Z",
     "iopub.status.idle": "2023-05-24T05:17:29.927314Z",
     "shell.execute_reply": "2023-05-24T05:17:29.926137Z"
    },
    "papermill": {
     "duration": 0.169456,
     "end_time": "2023-05-24T05:17:29.930806",
     "exception": false,
     "start_time": "2023-05-24T05:17:29.761350",
     "status": "completed"
    },
    "tags": []
   },
   "outputs": [],
   "source": [
    "true = oof.copy()\n",
    "for k in range(18):\n",
    "    # GET TRUE LABELS\n",
    "    tmp = labels.loc[labels.q == k+1].set_index('session').loc[ALL_USERS]\n",
    "    true[k] = tmp.correct.values"
   ]
  },
  {
   "cell_type": "code",
   "execution_count": 14,
   "id": "c70100b6",
   "metadata": {
    "execution": {
     "iopub.execute_input": "2023-05-24T05:17:29.968648Z",
     "iopub.status.busy": "2023-05-24T05:17:29.967462Z",
     "iopub.status.idle": "2023-05-24T05:17:36.761051Z",
     "shell.execute_reply": "2023-05-24T05:17:36.759658Z"
    },
    "papermill": {
     "duration": 6.815858,
     "end_time": "2023-05-24T05:17:36.764177",
     "exception": false,
     "start_time": "2023-05-24T05:17:29.948319",
     "status": "completed"
    },
    "tags": []
   },
   "outputs": [
    {
     "name": "stdout",
     "output_type": "stream",
     "text": [
      "0.40, 0.41, 0.42, 0.43, 0.44, 0.45, 0.46, 0.47, 0.48, 0.49, 0.50, 0.51, 0.52, 0.53, 0.54, 0.55, 0.56, 0.57, 0.58, 0.59, 0.60, 0.61, 0.62, 0.63, 0.64, 0.65, 0.66, 0.67, 0.68, 0.69, 0.70, 0.71, 0.72, 0.73, 0.74, 0.75, 0.76, 0.77, 0.78, 0.79, 0.80, "
     ]
    }
   ],
   "source": [
    "# FIND BEST THRESHOLD TO CONVERT PROBS INTO 1s AND 0s\n",
    "scores = []; thresholds = []\n",
    "best_score = 0; best_threshold = 0\n",
    "\n",
    "for threshold in np.arange(0.4,0.81,0.01):\n",
    "    print(f'{threshold:.02f}, ',end='')\n",
    "    preds = (oof.values.reshape((-1))>threshold).astype('int')\n",
    "    m = f1_score(true.values.reshape((-1)), preds, average='macro')   \n",
    "    scores.append(m)\n",
    "    thresholds.append(threshold)\n",
    "    if m>best_score:\n",
    "        best_score = m\n",
    "        best_threshold = threshold"
   ]
  },
  {
   "cell_type": "code",
   "execution_count": 15,
   "id": "a82c059c",
   "metadata": {
    "execution": {
     "iopub.execute_input": "2023-05-24T05:17:36.803223Z",
     "iopub.status.busy": "2023-05-24T05:17:36.802789Z",
     "iopub.status.idle": "2023-05-24T05:17:37.132877Z",
     "shell.execute_reply": "2023-05-24T05:17:37.131930Z"
    },
    "papermill": {
     "duration": 0.352642,
     "end_time": "2023-05-24T05:17:37.135518",
     "exception": false,
     "start_time": "2023-05-24T05:17:36.782876",
     "status": "completed"
    },
    "tags": []
   },
   "outputs": [
    {
     "name": "stdout",
     "output_type": "stream",
     "text": [
      "Q0: F1 = 0.6582966764418378\n",
      "Q1: F1 = 0.504026963273597\n",
      "Q2: F1 = 0.5090266589311435\n",
      "Q3: F1 = 0.6481953979175866\n",
      "Q4: F1 = 0.6036343346128472\n",
      "Q5: F1 = 0.6147452440289173\n",
      "Q6: F1 = 0.5990346962935981\n",
      "Q7: F1 = 0.5497688497539823\n",
      "Q8: F1 = 0.6060344507554665\n",
      "Q9: F1 = 0.5475308076312245\n",
      "Q10: F1 = 0.5976985351674858\n",
      "Q11: F1 = 0.5056053226379906\n",
      "Q12: F1 = 0.4595038117450371\n",
      "Q13: F1 = 0.6209906197590375\n",
      "Q14: F1 = 0.572254403596235\n",
      "Q15: F1 = 0.4885897621699215\n",
      "Q16: F1 = 0.5520029647005164\n",
      "Q17: F1 = 0.4906913405215834\n",
      "==> Overall F1 = 0.6859981703107745\n"
     ]
    }
   ],
   "source": [
    "for k in range(18):\n",
    "        \n",
    "    # COMPUTE F1 SCORE PER QUESTION\n",
    "    m = f1_score(true[k].values, (oof[k].values>best_threshold).astype('int'), average='macro')\n",
    "    print(f'Q{k}: F1 =',m)\n",
    "    \n",
    "# COMPUTE F1 SCORE OVERALL\n",
    "m = f1_score(true.values.reshape((-1)), (oof.values.reshape((-1))>best_threshold).astype('int'), average='macro')\n",
    "print('==> Overall F1 =',m)"
   ]
  },
  {
   "cell_type": "code",
   "execution_count": 16,
   "id": "e20cff2b",
   "metadata": {
    "execution": {
     "iopub.execute_input": "2023-05-24T05:17:37.176476Z",
     "iopub.status.busy": "2023-05-24T05:17:37.175548Z",
     "iopub.status.idle": "2023-05-24T05:17:40.321669Z",
     "shell.execute_reply": "2023-05-24T05:17:40.320444Z"
    },
    "papermill": {
     "duration": 3.169871,
     "end_time": "2023-05-24T05:17:40.324596",
     "exception": false,
     "start_time": "2023-05-24T05:17:37.154725",
     "status": "completed"
    },
    "tags": []
   },
   "outputs": [
    {
     "name": "stdout",
     "output_type": "stream",
     "text": [
      "This version of the API is not optimized and should not be used to estimate the runtime of your code on the hidden test set.\n"
     ]
    }
   ],
   "source": [
    "# Reference\n",
    "# https://www.kaggle.com/code/philculliton/basic-submission-demo\n",
    "# https://www.kaggle.com/code/cdeotte/random-forest-baseline-0-664/notebook\n",
    "\n",
    "import jo_wilder\n",
    "env = jo_wilder.make_env()\n",
    "iter_test = env.iter_test()\n",
    "\n",
    "limits = {'0-4':(1,4), '5-12':(4,14), '13-22':(14,19)}\n",
    "\n",
    "for (test, sample_submission) in iter_test:\n",
    "    # FEATURE ENGINEER TEST DATA\n",
    "    df = feature_engineer(test)\n",
    "    # INFER TEST DATA\n",
    "    grp = test.level_group.values[0]\n",
    "    a,b = limits[grp]\n",
    "    for t in range(a,b):\n",
    "        xgb = models[f'{grp}_{t}']\n",
    "        p = xgb.predict_proba(df[FEATURES].astype('float32'))[0,1]\n",
    "        mask = sample_submission.session_id.str.contains(f'q{t}')\n",
    "        sample_submission.loc[mask,'correct'] = int( p > best_threshold )\n",
    "    \n",
    "    env.predict(sample_submission)"
   ]
  },
  {
   "cell_type": "code",
   "execution_count": null,
   "id": "10e84e95",
   "metadata": {
    "papermill": {
     "duration": 0.018417,
     "end_time": "2023-05-24T05:17:40.361914",
     "exception": false,
     "start_time": "2023-05-24T05:17:40.343497",
     "status": "completed"
    },
    "tags": []
   },
   "outputs": [],
   "source": []
  },
  {
   "cell_type": "code",
   "execution_count": null,
   "id": "06b78d2a",
   "metadata": {
    "papermill": {
     "duration": 0.017929,
     "end_time": "2023-05-24T05:17:40.398373",
     "exception": false,
     "start_time": "2023-05-24T05:17:40.380444",
     "status": "completed"
    },
    "tags": []
   },
   "outputs": [],
   "source": []
  }
 ],
 "metadata": {
  "kernelspec": {
   "display_name": "Python 3",
   "language": "python",
   "name": "python3"
  },
  "language_info": {
   "codemirror_mode": {
    "name": "ipython",
    "version": 3
   },
   "file_extension": ".py",
   "mimetype": "text/x-python",
   "name": "python",
   "nbconvert_exporter": "python",
   "pygments_lexer": "ipython3",
   "version": "3.7.12"
  },
  "papermill": {
   "default_parameters": {},
   "duration": 1184.260037,
   "end_time": "2023-05-24T05:17:41.550205",
   "environment_variables": {},
   "exception": null,
   "input_path": "__notebook__.ipynb",
   "output_path": "__notebook__.ipynb",
   "parameters": {},
   "start_time": "2023-05-24T04:57:57.290168",
   "version": "2.4.0"
  }
 },
 "nbformat": 4,
 "nbformat_minor": 5
}
