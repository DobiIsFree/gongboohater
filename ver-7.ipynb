{
 "cells": [
  {
   "cell_type": "markdown",
   "id": "31b4ef52",
   "metadata": {
    "_cell_guid": "3065ea28-3415-46ef-8ec2-672826f1896a",
    "_uuid": "1b633216-f642-426b-a442-36227e786485",
    "id": "iCTA6kl3n2O1",
    "papermill": {
     "duration": 0.007387,
     "end_time": "2023-05-23T09:23:17.339741",
     "exception": false,
     "start_time": "2023-05-23T09:23:17.332354",
     "status": "completed"
    },
    "tags": []
   },
   "source": [
    "# Student Performance from Game Play Using TensorFlow Decision Forests"
   ]
  },
  {
   "cell_type": "markdown",
   "id": "7280f849",
   "metadata": {
    "_cell_guid": "f5f126e7-a6c7-4d10-9453-02803d77fdec",
    "_uuid": "48949e80-ac79-459e-b078-1258b02a6d19",
    "id": "zAXHC6-Tn2O5",
    "papermill": {
     "duration": 0.005529,
     "end_time": "2023-05-23T09:23:17.351413",
     "exception": false,
     "start_time": "2023-05-23T09:23:17.345884",
     "status": "completed"
    },
    "tags": []
   },
   "source": [
    "## Import the Required Libraries"
   ]
  },
  {
   "cell_type": "code",
   "execution_count": 1,
   "id": "5a0bf5ea",
   "metadata": {
    "_cell_guid": "d9edea55-e22d-47eb-9e89-f41baf355a90",
    "_uuid": "b8016303-112b-4ba5-b173-8f7fafdd3fbc",
    "collapsed": false,
    "execution": {
     "iopub.execute_input": "2023-05-23T09:23:17.365261Z",
     "iopub.status.busy": "2023-05-23T09:23:17.364524Z",
     "iopub.status.idle": "2023-05-23T09:23:18.454660Z",
     "shell.execute_reply": "2023-05-23T09:23:18.453596Z"
    },
    "id": "IanlX-Eqn2O5",
    "jupyter": {
     "outputs_hidden": false
    },
    "papermill": {
     "duration": 1.100147,
     "end_time": "2023-05-23T09:23:18.457407",
     "exception": false,
     "start_time": "2023-05-23T09:23:17.357260",
     "status": "completed"
    },
    "tags": []
   },
   "outputs": [],
   "source": [
    "import pandas as pd\n",
    "import numpy as np\n",
    "import matplotlib.pyplot as plt\n",
    "\n",
    "from xgboost import XGBClassifier\n",
    "from sklearn.model_selection import KFold, GroupKFold\n",
    "from sklearn.metrics import f1_score"
   ]
  },
  {
   "cell_type": "markdown",
   "id": "b6fdb11b",
   "metadata": {
    "_cell_guid": "5be263dd-cf1e-4887-b94b-caeeea6a4aa8",
    "_uuid": "2697b3d5-0f16-4f5e-aa80-76ad489e86ae",
    "id": "22DpLVFLn2O7",
    "papermill": {
     "duration": 0.006234,
     "end_time": "2023-05-23T09:23:18.470450",
     "exception": false,
     "start_time": "2023-05-23T09:23:18.464216",
     "status": "completed"
    },
    "tags": []
   },
   "source": [
    "## Load the Dataset"
   ]
  },
  {
   "cell_type": "code",
   "execution_count": 2,
   "id": "71b31248",
   "metadata": {
    "_cell_guid": "144dcbf9-be59-440c-b31a-8216f58528cb",
    "_uuid": "0cd23222-c6e1-47b2-8149-4834fa47f2e4",
    "collapsed": false,
    "execution": {
     "iopub.execute_input": "2023-05-23T09:23:18.484257Z",
     "iopub.status.busy": "2023-05-23T09:23:18.483636Z",
     "iopub.status.idle": "2023-05-23T09:24:57.272690Z",
     "shell.execute_reply": "2023-05-23T09:24:57.271665Z"
    },
    "id": "_XItl24kn2O7",
    "jupyter": {
     "outputs_hidden": false
    },
    "papermill": {
     "duration": 98.799524,
     "end_time": "2023-05-23T09:24:57.275853",
     "exception": false,
     "start_time": "2023-05-23T09:23:18.476329",
     "status": "completed"
    },
    "tags": []
   },
   "outputs": [],
   "source": [
    "# Reference: https://www.kaggle.com/competitions/predict-student-performance-from-game-play/discussion/384359\n",
    "dtypes={\n",
    "    'elapsed_time':np.int32,\n",
    "    'event_name':'category',\n",
    "    'name':'category',\n",
    "    'level':np.uint8,\n",
    "    'room_coor_x':np.float32,\n",
    "    'room_coor_y':np.float32,\n",
    "    'screen_coor_x':np.float32,\n",
    "    'screen_coor_y':np.float32,\n",
    "    'hover_duration':np.float32,\n",
    "    'text':'category',\n",
    "    'fqid':'category',\n",
    "    'room_fqid':'category',\n",
    "    'text_fqid':'category',\n",
    "    'fullscreen': np.int32,\n",
    "    'hq': np.int32,\n",
    "    'music': np.int32,\n",
    "    'level_group':'category'}\n",
    "\n",
    "dataset_df = pd.read_csv('/kaggle/input/predict-student-performance-from-game-play/train.csv', dtype=dtypes)"
   ]
  },
  {
   "cell_type": "markdown",
   "id": "11163f20",
   "metadata": {
    "_cell_guid": "c65e1dff-67b0-4bb6-9b97-b6418d4173c7",
    "_uuid": "3df6b5f5-7744-40f9-bec5-bb45b9238387",
    "id": "ReNY-i3bn2O8",
    "papermill": {
     "duration": 0.005888,
     "end_time": "2023-05-23T09:24:57.288485",
     "exception": false,
     "start_time": "2023-05-23T09:24:57.282597",
     "status": "completed"
    },
    "tags": []
   },
   "source": [
    "## Load the labels"
   ]
  },
  {
   "cell_type": "code",
   "execution_count": 3,
   "id": "9be2b7f1",
   "metadata": {
    "_cell_guid": "bc6c67b2-3be1-4595-bc75-a10a50ba30d3",
    "_uuid": "e71600d9-2043-4209-8373-cf254354b3f2",
    "collapsed": false,
    "execution": {
     "iopub.execute_input": "2023-05-23T09:24:57.302822Z",
     "iopub.status.busy": "2023-05-23T09:24:57.302164Z",
     "iopub.status.idle": "2023-05-23T09:24:57.624651Z",
     "shell.execute_reply": "2023-05-23T09:24:57.623676Z"
    },
    "id": "KD4uayl2n2O9",
    "jupyter": {
     "outputs_hidden": false
    },
    "papermill": {
     "duration": 0.332742,
     "end_time": "2023-05-23T09:24:57.627260",
     "exception": false,
     "start_time": "2023-05-23T09:24:57.294518",
     "status": "completed"
    },
    "tags": []
   },
   "outputs": [],
   "source": [
    "labels = pd.read_csv('/kaggle/input/predict-student-performance-from-game-play/train_labels.csv')"
   ]
  },
  {
   "cell_type": "code",
   "execution_count": 4,
   "id": "a9f94804",
   "metadata": {
    "_cell_guid": "24c78d16-6a6a-4409-b1c3-5f1d84c0a9ac",
    "_uuid": "afd665e4-8c5e-4a6a-9c96-2c8676f97c88",
    "collapsed": false,
    "execution": {
     "iopub.execute_input": "2023-05-23T09:24:57.641111Z",
     "iopub.status.busy": "2023-05-23T09:24:57.640429Z",
     "iopub.status.idle": "2023-05-23T09:24:58.373804Z",
     "shell.execute_reply": "2023-05-23T09:24:58.372839Z"
    },
    "id": "Kva8_Dbqn2O9",
    "jupyter": {
     "outputs_hidden": false
    },
    "papermill": {
     "duration": 0.743092,
     "end_time": "2023-05-23T09:24:58.376476",
     "exception": false,
     "start_time": "2023-05-23T09:24:57.633384",
     "status": "completed"
    },
    "tags": []
   },
   "outputs": [],
   "source": [
    "labels['session'] = labels.session_id.apply(lambda x: int(x.split('_')[0]) )\n",
    "labels['q'] = labels.session_id.apply(lambda x: int(x.split('_')[-1][1:]) )"
   ]
  },
  {
   "cell_type": "markdown",
   "id": "107d5e1f",
   "metadata": {
    "_cell_guid": "485073af-b103-48c0-8e8c-60c28ddc00fc",
    "_uuid": "d4215f16-78de-4f14-b9f3-b596b03f8433",
    "id": "y5fK05dsn2O_",
    "papermill": {
     "duration": 0.005591,
     "end_time": "2023-05-23T09:24:58.388098",
     "exception": false,
     "start_time": "2023-05-23T09:24:58.382507",
     "status": "completed"
    },
    "tags": []
   },
   "source": [
    "# Prepare the dataset"
   ]
  },
  {
   "cell_type": "code",
   "execution_count": 5,
   "id": "462a85d9",
   "metadata": {
    "_cell_guid": "9527a410-8159-421f-9ad6-f3c712fc7d87",
    "_uuid": "886d16af-f0f1-4c68-8e15-9802bd417f6e",
    "collapsed": false,
    "execution": {
     "iopub.execute_input": "2023-05-23T09:24:58.401037Z",
     "iopub.status.busy": "2023-05-23T09:24:58.400666Z",
     "iopub.status.idle": "2023-05-23T09:24:58.673335Z",
     "shell.execute_reply": "2023-05-23T09:24:58.672348Z"
    },
    "id": "cCZWGiL_n2PA",
    "jupyter": {
     "outputs_hidden": false
    },
    "papermill": {
     "duration": 0.282364,
     "end_time": "2023-05-23T09:24:58.676170",
     "exception": false,
     "start_time": "2023-05-23T09:24:58.393806",
     "status": "completed"
    },
    "tags": []
   },
   "outputs": [],
   "source": [
    "CATEGORICAL = ['event_name', 'name', 'fqid', 'room_fqid', 'text_fqid']\n",
    "NUMERICAL = ['level', 'page', 'hover_duration']\n",
    "\n",
    "EVENTS = dataset_df['event_name'].unique()\n",
    "NAMES = dataset_df['name'].unique()\n",
    "\n",
    "DIFFS = ['location_x_diff', 'location_y_diff']\n",
    "\n",
    "# Except: 'music', 'fullscreen', 'hq' ???\n",
    "OPTIONALS = ['music', 'fullscreen', 'hq']"
   ]
  },
  {
   "cell_type": "code",
   "execution_count": 6,
   "id": "999f953b",
   "metadata": {
    "execution": {
     "iopub.execute_input": "2023-05-23T09:24:58.690781Z",
     "iopub.status.busy": "2023-05-23T09:24:58.690420Z",
     "iopub.status.idle": "2023-05-23T09:24:58.820182Z",
     "shell.execute_reply": "2023-05-23T09:24:58.819095Z"
    },
    "papermill": {
     "duration": 0.139761,
     "end_time": "2023-05-23T09:24:58.823051",
     "exception": false,
     "start_time": "2023-05-23T09:24:58.683290",
     "status": "completed"
    },
    "tags": []
   },
   "outputs": [],
   "source": [
    "def feature_engineer(dataset_df):\n",
    "    dataset_df['elapsed_time_diff'] = (\n",
    "        (dataset_df['elapsed_time'] - dataset_df['elapsed_time'].shift(1))\n",
    "        .fillna(0)\n",
    "        .clip(lower=0, upper=1e9)\n",
    "    )\n",
    "    dataset_df['location_x_diff'] = (\n",
    "        (dataset_df['room_coor_x'] - dataset_df['room_coor_x'].shift(1))\n",
    "        .abs()\n",
    "    )\n",
    "    dataset_df['location_y_diff'] = (\n",
    "        (dataset_df['room_coor_y'] - dataset_df['room_coor_y'].shift(1))\n",
    "        .abs()\n",
    "    )\n",
    "    \n",
    "    dfs = []\n",
    "    \n",
    "    for c in NUMERICAL:\n",
    "        tmp = dataset_df.groupby(['session_id','level_group'])[c].agg('mean')\n",
    "        tmp.name = tmp.name + '_mean'\n",
    "        dfs.append(tmp)\n",
    "    for c in NUMERICAL:\n",
    "        tmp = dataset_df.groupby(['session_id','level_group'])[c].agg('std')\n",
    "        tmp.name = tmp.name + '_std'\n",
    "        dfs.append(tmp)\n",
    "    for c in NUMERICAL:\n",
    "        tmp = dataset_df.groupby(['session_id','level_group'])[c].agg('sum')\n",
    "        tmp.name = tmp.name + '_sum'\n",
    "        dfs.append(tmp)\n",
    "    for c in NUMERICAL:\n",
    "        tmp = dataset_df.groupby(['session_id','level_group'])[c].agg('max')\n",
    "        tmp.name = tmp.name + '_max'\n",
    "        dfs.append(tmp)\n",
    "    for c in NUMERICAL:\n",
    "        tmp = dataset_df.groupby(['session_id','level_group'])[c].agg('min')\n",
    "        tmp.name = tmp.name + '_min'\n",
    "        dfs.append(tmp)\n",
    "        \n",
    "    for c in DIFFS:\n",
    "        tmp = dataset_df.groupby(['session_id', 'level_group'])[c].sum()\n",
    "        tmp.name = c + '_sum'\n",
    "        dfs.append(tmp)\n",
    "        \n",
    "    for c in EVENTS: \n",
    "        dataset_df[c] = (dataset_df.event_name == c).astype('int8')\n",
    "    for c in EVENTS: \n",
    "        tmp = dataset_df[dataset_df[c] == 1].groupby(['session_id', 'level_group'])[c].sum()\n",
    "        tmp.name = c + '_count'\n",
    "        dfs.append(tmp)\n",
    "    for c in EVENTS: \n",
    "        tmp = dataset_df[dataset_df[c] == 1].groupby(['session_id', 'level_group'])[c].mean()\n",
    "        tmp.name = c + '_mean'\n",
    "        dfs.append(tmp)\n",
    "    for c in EVENTS: \n",
    "        tmp = dataset_df[dataset_df[c] == 1].groupby(['session_id', 'level_group'])[c].max()\n",
    "        tmp.name = c + '_max'\n",
    "        dfs.append(tmp)\n",
    "        \n",
    "    #OPTIONALS\n",
    "    for c in OPTIONALS:\n",
    "        tmp = dataset_df.groupby(['session_id','level_group'])[c].agg('mean')\n",
    "        tmp.name = tmp.name + '_mean'\n",
    "        dfs.append(tmp)\n",
    "    for c in OPTIONALS:\n",
    "        tmp = dataset_df.groupby(['session_id','level_group'])[c].agg('std')\n",
    "        tmp.name = tmp.name + '_std'\n",
    "        dfs.append(tmp)\n",
    "    for c in OPTIONALS:\n",
    "        tmp = dataset_df.groupby(['session_id','level_group'])[c].agg('sum')\n",
    "        tmp.name = tmp.name + '_sum'\n",
    "        dfs.append(tmp)\n",
    "    for c in OPTIONALS:\n",
    "        tmp = dataset_df.groupby(['session_id','level_group'])[c].agg('min')\n",
    "        tmp.name = tmp.name + '_min'\n",
    "        dfs.append(tmp)\n",
    "    for c in OPTIONALS:\n",
    "        tmp = dataset_df.groupby(['session_id','level_group'])[c].agg('max')\n",
    "        tmp.name = tmp.name + '_max'\n",
    "        dfs.append(tmp)\n",
    "\n",
    "    dataset_df = pd.concat(dfs,axis=1)\n",
    "    dataset_df = dataset_df.fillna(-1)\n",
    "    dataset_df = dataset_df.reset_index()\n",
    "    dataset_df = dataset_df.set_index('session_id')\n",
    "    return dataset_df"
   ]
  },
  {
   "cell_type": "code",
   "execution_count": 7,
   "id": "35cd57dd",
   "metadata": {
    "execution": {
     "iopub.execute_input": "2023-05-23T09:24:58.836369Z",
     "iopub.status.busy": "2023-05-23T09:24:58.836016Z",
     "iopub.status.idle": "2023-05-23T09:26:12.514175Z",
     "shell.execute_reply": "2023-05-23T09:26:12.512710Z"
    },
    "papermill": {
     "duration": 73.690983,
     "end_time": "2023-05-23T09:26:12.520035",
     "exception": false,
     "start_time": "2023-05-23T09:24:58.829052",
     "status": "completed"
    },
    "tags": []
   },
   "outputs": [],
   "source": [
    "dataset_df = feature_engineer(dataset_df)"
   ]
  },
  {
   "cell_type": "code",
   "execution_count": 8,
   "id": "84b397df",
   "metadata": {
    "execution": {
     "iopub.execute_input": "2023-05-23T09:26:12.537936Z",
     "iopub.status.busy": "2023-05-23T09:26:12.536964Z",
     "iopub.status.idle": "2023-05-23T09:26:12.575788Z",
     "shell.execute_reply": "2023-05-23T09:26:12.574693Z"
    },
    "papermill": {
     "duration": 0.049998,
     "end_time": "2023-05-23T09:26:12.579108",
     "exception": false,
     "start_time": "2023-05-23T09:26:12.529110",
     "status": "completed"
    },
    "tags": []
   },
   "outputs": [
    {
     "name": "stdout",
     "output_type": "stream",
     "text": [
      "<class 'pandas.core.frame.DataFrame'>\n",
      "Int64Index: 70686 entries, 20090312431273200 to 22100221145014656\n",
      "Data columns (total 66 columns):\n",
      " #   Column                    Non-Null Count  Dtype  \n",
      "---  ------                    --------------  -----  \n",
      " 0   level_group               70686 non-null  object \n",
      " 1   level_mean                70686 non-null  float64\n",
      " 2   page_mean                 70686 non-null  float64\n",
      " 3   hover_duration_mean       70686 non-null  float32\n",
      " 4   level_std                 70686 non-null  float64\n",
      " 5   page_std                  70686 non-null  float64\n",
      " 6   hover_duration_std        70686 non-null  float64\n",
      " 7   level_sum                 70686 non-null  float64\n",
      " 8   page_sum                  70686 non-null  float64\n",
      " 9   hover_duration_sum        70686 non-null  float32\n",
      " 10  level_max                 70686 non-null  uint8  \n",
      " 11  page_max                  70686 non-null  float64\n",
      " 12  hover_duration_max        70686 non-null  float32\n",
      " 13  level_min                 70686 non-null  uint8  \n",
      " 14  page_min                  70686 non-null  float64\n",
      " 15  hover_duration_min        70686 non-null  float32\n",
      " 16  location_x_diff_sum       70686 non-null  float32\n",
      " 17  location_y_diff_sum       70686 non-null  float32\n",
      " 18  cutscene_click_count      70686 non-null  float64\n",
      " 19  person_click_count        70686 non-null  float64\n",
      " 20  navigate_click_count      70686 non-null  float64\n",
      " 21  observation_click_count   70686 non-null  int8   \n",
      " 22  notification_click_count  70686 non-null  int8   \n",
      " 23  object_click_count        70686 non-null  float64\n",
      " 24  object_hover_count        70686 non-null  float64\n",
      " 25  map_hover_count           70686 non-null  float64\n",
      " 26  map_click_count           70686 non-null  float64\n",
      " 27  checkpoint_count          70686 non-null  int8   \n",
      " 28  notebook_click_count      70686 non-null  float64\n",
      " 29  cutscene_click_mean       70686 non-null  float64\n",
      " 30  person_click_mean         70686 non-null  float64\n",
      " 31  navigate_click_mean       70686 non-null  float64\n",
      " 32  observation_click_mean    70686 non-null  float64\n",
      " 33  notification_click_mean   70686 non-null  float64\n",
      " 34  object_click_mean         70686 non-null  float64\n",
      " 35  object_hover_mean         70686 non-null  float64\n",
      " 36  map_hover_mean            70686 non-null  float64\n",
      " 37  map_click_mean            70686 non-null  float64\n",
      " 38  checkpoint_mean           70686 non-null  float64\n",
      " 39  notebook_click_mean       70686 non-null  float64\n",
      " 40  cutscene_click_max        70686 non-null  int8   \n",
      " 41  person_click_max          70686 non-null  int8   \n",
      " 42  navigate_click_max        70686 non-null  int8   \n",
      " 43  observation_click_max     70686 non-null  float64\n",
      " 44  notification_click_max    70686 non-null  int8   \n",
      " 45  object_click_max          70686 non-null  int8   \n",
      " 46  object_hover_max          70686 non-null  float64\n",
      " 47  map_hover_max             70686 non-null  float64\n",
      " 48  map_click_max             70686 non-null  int8   \n",
      " 49  checkpoint_max            70686 non-null  float64\n",
      " 50  notebook_click_max        70686 non-null  float64\n",
      " 51  music_mean                70686 non-null  float64\n",
      " 52  fullscreen_mean           70686 non-null  float64\n",
      " 53  hq_mean                   70686 non-null  float64\n",
      " 54  music_std                 70686 non-null  float64\n",
      " 55  fullscreen_std            70686 non-null  float64\n",
      " 56  hq_std                    70686 non-null  float64\n",
      " 57  music_sum                 70686 non-null  int32  \n",
      " 58  fullscreen_sum            70686 non-null  int32  \n",
      " 59  hq_sum                    70686 non-null  int32  \n",
      " 60  music_min                 70686 non-null  int32  \n",
      " 61  fullscreen_min            70686 non-null  int32  \n",
      " 62  hq_min                    70686 non-null  int32  \n",
      " 63  music_max                 70686 non-null  int32  \n",
      " 64  fullscreen_max            70686 non-null  int32  \n",
      " 65  hq_max                    70686 non-null  int32  \n",
      "dtypes: float32(6), float64(39), int32(9), int8(9), object(1), uint8(2)\n",
      "memory usage: 26.9+ MB\n"
     ]
    }
   ],
   "source": [
    "dataset_df.info()"
   ]
  },
  {
   "cell_type": "code",
   "execution_count": 9,
   "id": "8dbb3490",
   "metadata": {
    "execution": {
     "iopub.execute_input": "2023-05-23T09:26:12.593671Z",
     "iopub.status.busy": "2023-05-23T09:26:12.593270Z",
     "iopub.status.idle": "2023-05-23T09:26:12.597440Z",
     "shell.execute_reply": "2023-05-23T09:26:12.596483Z"
    },
    "papermill": {
     "duration": 0.014084,
     "end_time": "2023-05-23T09:26:12.599606",
     "exception": false,
     "start_time": "2023-05-23T09:26:12.585522",
     "status": "completed"
    },
    "tags": []
   },
   "outputs": [],
   "source": [
    "# corr = dataset_df.corr()\n",
    "\n",
    "# plt.figure(figsize=(15,15)) \n",
    "# sns.heatmap(corr, annot=True, cmap='Blues')\n",
    "# plt.title('Correlation Heatmap')\n",
    "# plt.show()"
   ]
  },
  {
   "cell_type": "code",
   "execution_count": 10,
   "id": "e416a298",
   "metadata": {
    "execution": {
     "iopub.execute_input": "2023-05-23T09:26:12.613912Z",
     "iopub.status.busy": "2023-05-23T09:26:12.613080Z",
     "iopub.status.idle": "2023-05-23T09:26:12.622870Z",
     "shell.execute_reply": "2023-05-23T09:26:12.621810Z"
    },
    "papermill": {
     "duration": 0.019344,
     "end_time": "2023-05-23T09:26:12.625230",
     "exception": false,
     "start_time": "2023-05-23T09:26:12.605886",
     "status": "completed"
    },
    "tags": []
   },
   "outputs": [],
   "source": [
    "FEATURES = [c for c in dataset_df.columns if c != 'level_group']\n",
    "ALL_USERS = dataset_df.index.unique()\n",
    "\n",
    "gkf = GroupKFold(n_splits=5)\n",
    "oof = pd.DataFrame(data=np.zeros((len(ALL_USERS),18)), index=ALL_USERS)\n",
    "models = {}\n",
    "evaluation_dict ={}"
   ]
  },
  {
   "cell_type": "code",
   "execution_count": 11,
   "id": "b5a119ca",
   "metadata": {
    "execution": {
     "iopub.execute_input": "2023-05-23T09:26:12.639613Z",
     "iopub.status.busy": "2023-05-23T09:26:12.638702Z",
     "iopub.status.idle": "2023-05-23T09:26:12.643079Z",
     "shell.execute_reply": "2023-05-23T09:26:12.642092Z"
    },
    "papermill": {
     "duration": 0.013667,
     "end_time": "2023-05-23T09:26:12.645130",
     "exception": false,
     "start_time": "2023-05-23T09:26:12.631463",
     "status": "completed"
    },
    "tags": []
   },
   "outputs": [],
   "source": [
    "# ALL_USERS"
   ]
  },
  {
   "cell_type": "code",
   "execution_count": 12,
   "id": "054ee608",
   "metadata": {
    "execution": {
     "iopub.execute_input": "2023-05-23T09:26:12.659416Z",
     "iopub.status.busy": "2023-05-23T09:26:12.658727Z",
     "iopub.status.idle": "2023-05-23T09:32:36.392181Z",
     "shell.execute_reply": "2023-05-23T09:32:36.391195Z"
    },
    "papermill": {
     "duration": 383.75209,
     "end_time": "2023-05-23T09:32:36.403307",
     "exception": false,
     "start_time": "2023-05-23T09:26:12.651217",
     "status": "completed"
    },
    "tags": []
   },
   "outputs": [
    {
     "name": "stdout",
     "output_type": "stream",
     "text": [
      "-------------------------\n",
      "    <<<  Fold  1  >>>\n",
      "-------------------------\n",
      "1(407), 2(259), 3(259), 4(264), 5(307), 6(231), 7(167), 8(141), 9(290), 10(311), 11(155), 12(292), 13(305), 14(355), 15(325), 16(137), 17(177), 18(247), \n",
      "-------------------------\n",
      "    <<<  Fold  2  >>>\n",
      "-------------------------\n",
      "1(287), 2(531), 3(277), 4(372), 5(261), 6(273), 7(329), 8(175), 9(221), 10(273), 11(249), 12(256), 13(186), 14(453), 15(394), 16(263), 17(262), 18(307), \n",
      "-------------------------\n",
      "    <<<  Fold  3  >>>\n",
      "-------------------------\n",
      "1(273), 2(284), 3(255), 4(253), 5(182), 6(212), 7(278), 8(200), 9(230), 10(226), 11(177), 12(174), 13(164), 14(485), 15(391), 16(195), 17(240), 18(306), \n",
      "-------------------------\n",
      "    <<<  Fold  4  >>>\n",
      "-------------------------\n",
      "1(322), 2(339), 3(224), 4(324), 5(246), 6(242), 7(203), 8(165), 9(280), 10(297), 11(236), 12(240), 13(279), 14(360), 15(382), 16(168), 17(187), 18(296), \n",
      "-------------------------\n",
      "    <<<  Fold  5  >>>\n",
      "-------------------------\n",
      "1(388), 2(286), 3(310), 4(504), 5(188), 6(254), 7(307), 8(127), 9(204), 10(235), 11(272), 12(240), 13(368), 14(366), 15(365), 16(147), 17(182), 18(346), \n"
     ]
    }
   ],
   "source": [
    "for i, (train_index, test_index) in enumerate(gkf.split(X=dataset_df, groups=dataset_df.index)):\n",
    "    print('-'*25)\n",
    "    print('    <<<  Fold ',i+1, ' >>>')\n",
    "    print('-'*25)\n",
    "    \n",
    "    xgb_params = {\n",
    "        'objective' : 'binary:logistic',\n",
    "        'eval_metric':'logloss',\n",
    "        'learning_rate': 0.02,\n",
    "        'max_depth': 5,\n",
    "        'n_estimators': 1000,\n",
    "        'early_stopping_rounds': 50,\n",
    "        'tree_method':'hist',\n",
    "        'subsample':0.6,\n",
    "        'colsample_bytree': 0.4,\n",
    "        'use_label_encoder' : False\n",
    "    }\n",
    "    \n",
    "    for q_no in range(1,19):\n",
    "\n",
    "        # Select level group for the question based on the q_no.\n",
    "        if q_no<=3: grp = '0-4'\n",
    "        elif q_no<=13: grp = '5-12'\n",
    "        elif q_no<=22: grp = '13-22'\n",
    "\n",
    "\n",
    "        # TRAIN DATA\n",
    "        train_x = dataset_df.iloc[train_index]\n",
    "        train_x = train_x.loc[train_x.level_group == grp]\n",
    "        train_users = train_x.index.values\n",
    "        train_y = labels.loc[labels.q==q_no].set_index('session').loc[train_users]\n",
    "        \n",
    "        # VALID DATA\n",
    "        valid_x = dataset_df.iloc[test_index]\n",
    "        valid_x = valid_x.loc[valid_x.level_group == grp]\n",
    "        valid_users = valid_x.index.values\n",
    "        valid_y = labels.loc[labels.q==q_no].set_index('session').loc[valid_users]\n",
    "\n",
    "        # We will now create the Gradient Boosted Trees Model with default settings. \n",
    "        # By default the model is set to train for a classification task.\n",
    "        xgb = XGBClassifier(**xgb_params)\n",
    "        xgb.fit(train_x[FEATURES].astype('float32'), train_y['correct'],\n",
    "                eval_set=[ (valid_x[FEATURES].astype('float32'), valid_y['correct']) ],\n",
    "                verbose=0)\n",
    "        print(f'{q_no}({xgb.best_ntree_limit}), ',end='')\n",
    "        \n",
    "        # SAVE MODEL, PREDICT VALID OOF\n",
    "        models[f'{grp}_{q_no}'] = xgb\n",
    "        oof.loc[valid_users, q_no-1] = xgb.predict_proba(valid_x[FEATURES].astype('float32'))[:,1]  \n",
    "    print()"
   ]
  },
  {
   "cell_type": "code",
   "execution_count": 13,
   "id": "472120fb",
   "metadata": {
    "execution": {
     "iopub.execute_input": "2023-05-23T09:32:36.428463Z",
     "iopub.status.busy": "2023-05-23T09:32:36.427847Z",
     "iopub.status.idle": "2023-05-23T09:32:36.549704Z",
     "shell.execute_reply": "2023-05-23T09:32:36.548713Z"
    },
    "papermill": {
     "duration": 0.137712,
     "end_time": "2023-05-23T09:32:36.552468",
     "exception": false,
     "start_time": "2023-05-23T09:32:36.414756",
     "status": "completed"
    },
    "tags": []
   },
   "outputs": [],
   "source": [
    "true = oof.copy()\n",
    "for k in range(18):\n",
    "    # GET TRUE LABELS\n",
    "    tmp = labels.loc[labels.q == k+1].set_index('session').loc[ALL_USERS]\n",
    "    true[k] = tmp.correct.values"
   ]
  },
  {
   "cell_type": "code",
   "execution_count": 14,
   "id": "0b3f2a91",
   "metadata": {
    "execution": {
     "iopub.execute_input": "2023-05-23T09:32:36.579340Z",
     "iopub.status.busy": "2023-05-23T09:32:36.578518Z",
     "iopub.status.idle": "2023-05-23T09:32:42.990595Z",
     "shell.execute_reply": "2023-05-23T09:32:42.989622Z"
    },
    "papermill": {
     "duration": 6.428669,
     "end_time": "2023-05-23T09:32:42.993293",
     "exception": false,
     "start_time": "2023-05-23T09:32:36.564624",
     "status": "completed"
    },
    "tags": []
   },
   "outputs": [
    {
     "name": "stdout",
     "output_type": "stream",
     "text": [
      "0.40, 0.41, 0.42, 0.43, 0.44, 0.45, 0.46, 0.47, 0.48, 0.49, 0.50, 0.51, 0.52, 0.53, 0.54, 0.55, 0.56, 0.57, 0.58, 0.59, 0.60, 0.61, 0.62, 0.63, 0.64, 0.65, 0.66, 0.67, 0.68, 0.69, 0.70, 0.71, 0.72, 0.73, 0.74, 0.75, 0.76, 0.77, 0.78, 0.79, 0.80, "
     ]
    }
   ],
   "source": [
    "# FIND BEST THRESHOLD TO CONVERT PROBS INTO 1s AND 0s\n",
    "scores = []; thresholds = []\n",
    "best_score = 0; best_threshold = 0\n",
    "\n",
    "for threshold in np.arange(0.4,0.81,0.01):\n",
    "    print(f'{threshold:.02f}, ',end='')\n",
    "    preds = (oof.values.reshape((-1))>threshold).astype('int')\n",
    "    m = f1_score(true.values.reshape((-1)), preds, average='macro')   \n",
    "    scores.append(m)\n",
    "    thresholds.append(threshold)\n",
    "    if m>best_score:\n",
    "        best_score = m\n",
    "        best_threshold = threshold"
   ]
  },
  {
   "cell_type": "code",
   "execution_count": 15,
   "id": "d0af1fcc",
   "metadata": {
    "execution": {
     "iopub.execute_input": "2023-05-23T09:32:43.022446Z",
     "iopub.status.busy": "2023-05-23T09:32:43.021786Z",
     "iopub.status.idle": "2023-05-23T09:32:43.333801Z",
     "shell.execute_reply": "2023-05-23T09:32:43.332821Z"
    },
    "papermill": {
     "duration": 0.328933,
     "end_time": "2023-05-23T09:32:43.336130",
     "exception": false,
     "start_time": "2023-05-23T09:32:43.007197",
     "status": "completed"
    },
    "tags": []
   },
   "outputs": [
    {
     "name": "stdout",
     "output_type": "stream",
     "text": [
      "Q0: F1 = 0.5931361498908393\n",
      "Q1: F1 = 0.49463795470144134\n",
      "Q2: F1 = 0.4916530131744804\n",
      "Q3: F1 = 0.613907631141587\n",
      "Q4: F1 = 0.5839793872586035\n",
      "Q5: F1 = 0.6039365507760264\n",
      "Q6: F1 = 0.5859057992690886\n",
      "Q7: F1 = 0.5422893482823797\n",
      "Q8: F1 = 0.5954476330930296\n",
      "Q9: F1 = 0.5359459335309358\n",
      "Q10: F1 = 0.5877731480257126\n",
      "Q11: F1 = 0.4954905005575646\n",
      "Q12: F1 = 0.4438910188375586\n",
      "Q13: F1 = 0.6048707886002902\n",
      "Q14: F1 = 0.5169206764409329\n",
      "Q15: F1 = 0.45977548920616107\n",
      "Q16: F1 = 0.5196614699737059\n",
      "Q17: F1 = 0.4889471327836436\n",
      "==> Overall F1 = 0.6781135464257546\n"
     ]
    }
   ],
   "source": [
    "for k in range(18):\n",
    "        \n",
    "    # COMPUTE F1 SCORE PER QUESTION\n",
    "    m = f1_score(true[k].values, (oof[k].values>best_threshold).astype('int'), average='macro')\n",
    "    print(f'Q{k}: F1 =',m)\n",
    "    \n",
    "# COMPUTE F1 SCORE OVERALL\n",
    "m = f1_score(true.values.reshape((-1)), (oof.values.reshape((-1))>best_threshold).astype('int'), average='macro')\n",
    "print('==> Overall F1 =',m)"
   ]
  },
  {
   "cell_type": "code",
   "execution_count": 16,
   "id": "2e19ed46",
   "metadata": {
    "execution": {
     "iopub.execute_input": "2023-05-23T09:32:43.364532Z",
     "iopub.status.busy": "2023-05-23T09:32:43.363914Z",
     "iopub.status.idle": "2023-05-23T09:32:44.843988Z",
     "shell.execute_reply": "2023-05-23T09:32:44.843026Z"
    },
    "papermill": {
     "duration": 1.497426,
     "end_time": "2023-05-23T09:32:44.846728",
     "exception": false,
     "start_time": "2023-05-23T09:32:43.349302",
     "status": "completed"
    },
    "tags": []
   },
   "outputs": [
    {
     "name": "stdout",
     "output_type": "stream",
     "text": [
      "This version of the API is not optimized and should not be used to estimate the runtime of your code on the hidden test set.\n"
     ]
    }
   ],
   "source": [
    "# Reference\n",
    "# https://www.kaggle.com/code/philculliton/basic-submission-demo\n",
    "# https://www.kaggle.com/code/cdeotte/random-forest-baseline-0-664/notebook\n",
    "\n",
    "import jo_wilder\n",
    "env = jo_wilder.make_env()\n",
    "iter_test = env.iter_test()\n",
    "\n",
    "limits = {'0-4':(1,4), '5-12':(4,14), '13-22':(14,19)}\n",
    "\n",
    "for (test, sample_submission) in iter_test:\n",
    "    # FEATURE ENGINEER TEST DATA\n",
    "    df = feature_engineer(test)\n",
    "    # INFER TEST DATA\n",
    "    grp = test.level_group.values[0]\n",
    "    a,b = limits[grp]\n",
    "    for t in range(a,b):\n",
    "        xgb = models[f'{grp}_{t}']\n",
    "        p = xgb.predict_proba(df[FEATURES].astype('float32'))[0,1]\n",
    "        mask = sample_submission.session_id.str.contains(f'q{t}')\n",
    "        sample_submission.loc[mask,'correct'] = int( p > best_threshold )\n",
    "    \n",
    "    env.predict(sample_submission)"
   ]
  },
  {
   "cell_type": "code",
   "execution_count": null,
   "id": "634ad7ab",
   "metadata": {
    "papermill": {
     "duration": 0.012815,
     "end_time": "2023-05-23T09:32:44.872965",
     "exception": false,
     "start_time": "2023-05-23T09:32:44.860150",
     "status": "completed"
    },
    "tags": []
   },
   "outputs": [],
   "source": []
  },
  {
   "cell_type": "code",
   "execution_count": null,
   "id": "7ea68136",
   "metadata": {
    "papermill": {
     "duration": 0.012778,
     "end_time": "2023-05-23T09:32:44.898803",
     "exception": false,
     "start_time": "2023-05-23T09:32:44.886025",
     "status": "completed"
    },
    "tags": []
   },
   "outputs": [],
   "source": []
  }
 ],
 "metadata": {
  "kernelspec": {
   "display_name": "Python 3",
   "language": "python",
   "name": "python3"
  },
  "language_info": {
   "codemirror_mode": {
    "name": "ipython",
    "version": 3
   },
   "file_extension": ".py",
   "mimetype": "text/x-python",
   "name": "python",
   "nbconvert_exporter": "python",
   "pygments_lexer": "ipython3",
   "version": "3.7.12"
  },
  "papermill": {
   "default_parameters": {},
   "duration": 579.067172,
   "end_time": "2023-05-23T09:32:45.839941",
   "environment_variables": {},
   "exception": null,
   "input_path": "__notebook__.ipynb",
   "output_path": "__notebook__.ipynb",
   "parameters": {},
   "start_time": "2023-05-23T09:23:06.772769",
   "version": "2.4.0"
  }
 },
 "nbformat": 4,
 "nbformat_minor": 5
}
