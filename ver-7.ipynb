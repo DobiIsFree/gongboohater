{
 "cells": [
  {
   "cell_type": "markdown",
   "id": "e206fd87",
   "metadata": {
    "_cell_guid": "3065ea28-3415-46ef-8ec2-672826f1896a",
    "_uuid": "1b633216-f642-426b-a442-36227e786485",
    "id": "iCTA6kl3n2O1",
    "papermill": {
     "duration": 0.006168,
     "end_time": "2023-05-24T05:34:51.602672",
     "exception": false,
     "start_time": "2023-05-24T05:34:51.596504",
     "status": "completed"
    },
    "tags": []
   },
   "source": [
    "# Student Performance from Game Play Using TensorFlow Decision Forests"
   ]
  },
  {
   "cell_type": "markdown",
   "id": "d58694da",
   "metadata": {
    "_cell_guid": "f5f126e7-a6c7-4d10-9453-02803d77fdec",
    "_uuid": "48949e80-ac79-459e-b078-1258b02a6d19",
    "id": "zAXHC6-Tn2O5",
    "papermill": {
     "duration": 0.004987,
     "end_time": "2023-05-24T05:34:51.612974",
     "exception": false,
     "start_time": "2023-05-24T05:34:51.607987",
     "status": "completed"
    },
    "tags": []
   },
   "source": [
    "## Import the Required Libraries"
   ]
  },
  {
   "cell_type": "code",
   "execution_count": 1,
   "id": "96956f10",
   "metadata": {
    "_cell_guid": "d9edea55-e22d-47eb-9e89-f41baf355a90",
    "_uuid": "b8016303-112b-4ba5-b173-8f7fafdd3fbc",
    "collapsed": false,
    "execution": {
     "iopub.execute_input": "2023-05-24T05:34:51.625532Z",
     "iopub.status.busy": "2023-05-24T05:34:51.624829Z",
     "iopub.status.idle": "2023-05-24T05:34:52.921590Z",
     "shell.execute_reply": "2023-05-24T05:34:52.920124Z"
    },
    "id": "IanlX-Eqn2O5",
    "jupyter": {
     "outputs_hidden": false
    },
    "papermill": {
     "duration": 1.306582,
     "end_time": "2023-05-24T05:34:52.924756",
     "exception": false,
     "start_time": "2023-05-24T05:34:51.618174",
     "status": "completed"
    },
    "tags": []
   },
   "outputs": [],
   "source": [
    "import pandas as pd\n",
    "import numpy as np\n",
    "import matplotlib.pyplot as plt\n",
    "\n",
    "from xgboost import XGBClassifier\n",
    "from sklearn.model_selection import KFold, GroupKFold\n",
    "from sklearn.metrics import f1_score"
   ]
  },
  {
   "cell_type": "markdown",
   "id": "5a98029c",
   "metadata": {
    "_cell_guid": "5be263dd-cf1e-4887-b94b-caeeea6a4aa8",
    "_uuid": "2697b3d5-0f16-4f5e-aa80-76ad489e86ae",
    "id": "22DpLVFLn2O7",
    "papermill": {
     "duration": 0.005253,
     "end_time": "2023-05-24T05:34:52.935519",
     "exception": false,
     "start_time": "2023-05-24T05:34:52.930266",
     "status": "completed"
    },
    "tags": []
   },
   "source": [
    "## Load the Dataset"
   ]
  },
  {
   "cell_type": "code",
   "execution_count": 2,
   "id": "26fec209",
   "metadata": {
    "_cell_guid": "144dcbf9-be59-440c-b31a-8216f58528cb",
    "_uuid": "0cd23222-c6e1-47b2-8149-4834fa47f2e4",
    "collapsed": false,
    "execution": {
     "iopub.execute_input": "2023-05-24T05:34:52.948288Z",
     "iopub.status.busy": "2023-05-24T05:34:52.947592Z",
     "iopub.status.idle": "2023-05-24T05:36:19.054263Z",
     "shell.execute_reply": "2023-05-24T05:36:19.052927Z"
    },
    "id": "_XItl24kn2O7",
    "jupyter": {
     "outputs_hidden": false
    },
    "papermill": {
     "duration": 86.116733,
     "end_time": "2023-05-24T05:36:19.057504",
     "exception": false,
     "start_time": "2023-05-24T05:34:52.940771",
     "status": "completed"
    },
    "tags": []
   },
   "outputs": [],
   "source": [
    "# Reference: https://www.kaggle.com/competitions/predict-student-performance-from-game-play/discussion/384359\n",
    "dtypes={\n",
    "    'elapsed_time':np.int32,\n",
    "    'event_name':'category',\n",
    "    'name':'category',\n",
    "    'level':np.uint8,\n",
    "    'room_coor_x':np.float32,\n",
    "    'room_coor_y':np.float32,\n",
    "    'screen_coor_x':np.float32,\n",
    "    'screen_coor_y':np.float32,\n",
    "    'hover_duration':np.float32,\n",
    "    'text':'category',\n",
    "    'fqid':'category',\n",
    "    'room_fqid':'category',\n",
    "    'text_fqid':'category',\n",
    "    'fullscreen': np.int32,\n",
    "    'hq': np.int32,\n",
    "    'music': np.int32,\n",
    "    'level_group':'category'}\n",
    "\n",
    "dataset_df = pd.read_csv('/kaggle/input/predict-student-performance-from-game-play/train.csv', dtype=dtypes)"
   ]
  },
  {
   "cell_type": "markdown",
   "id": "4779b77d",
   "metadata": {
    "_cell_guid": "c65e1dff-67b0-4bb6-9b97-b6418d4173c7",
    "_uuid": "3df6b5f5-7744-40f9-bec5-bb45b9238387",
    "id": "ReNY-i3bn2O8",
    "papermill": {
     "duration": 0.005188,
     "end_time": "2023-05-24T05:36:19.068489",
     "exception": false,
     "start_time": "2023-05-24T05:36:19.063301",
     "status": "completed"
    },
    "tags": []
   },
   "source": [
    "## Load the labels"
   ]
  },
  {
   "cell_type": "code",
   "execution_count": 3,
   "id": "d9e52cab",
   "metadata": {
    "_cell_guid": "bc6c67b2-3be1-4595-bc75-a10a50ba30d3",
    "_uuid": "e71600d9-2043-4209-8373-cf254354b3f2",
    "collapsed": false,
    "execution": {
     "iopub.execute_input": "2023-05-24T05:36:19.081202Z",
     "iopub.status.busy": "2023-05-24T05:36:19.080790Z",
     "iopub.status.idle": "2023-05-24T05:36:19.404202Z",
     "shell.execute_reply": "2023-05-24T05:36:19.402903Z"
    },
    "id": "KD4uayl2n2O9",
    "jupyter": {
     "outputs_hidden": false
    },
    "papermill": {
     "duration": 0.332999,
     "end_time": "2023-05-24T05:36:19.407058",
     "exception": false,
     "start_time": "2023-05-24T05:36:19.074059",
     "status": "completed"
    },
    "tags": []
   },
   "outputs": [],
   "source": [
    "labels = pd.read_csv('/kaggle/input/predict-student-performance-from-game-play/train_labels.csv')"
   ]
  },
  {
   "cell_type": "code",
   "execution_count": 4,
   "id": "6e26d4fb",
   "metadata": {
    "_cell_guid": "24c78d16-6a6a-4409-b1c3-5f1d84c0a9ac",
    "_uuid": "afd665e4-8c5e-4a6a-9c96-2c8676f97c88",
    "collapsed": false,
    "execution": {
     "iopub.execute_input": "2023-05-24T05:36:19.419908Z",
     "iopub.status.busy": "2023-05-24T05:36:19.419446Z",
     "iopub.status.idle": "2023-05-24T05:36:20.056777Z",
     "shell.execute_reply": "2023-05-24T05:36:20.055335Z"
    },
    "id": "Kva8_Dbqn2O9",
    "jupyter": {
     "outputs_hidden": false
    },
    "papermill": {
     "duration": 0.64664,
     "end_time": "2023-05-24T05:36:20.059214",
     "exception": false,
     "start_time": "2023-05-24T05:36:19.412574",
     "status": "completed"
    },
    "tags": []
   },
   "outputs": [],
   "source": [
    "labels['session'] = labels.session_id.apply(lambda x: int(x.split('_')[0]) )\n",
    "labels['q'] = labels.session_id.apply(lambda x: int(x.split('_')[-1][1:]) )"
   ]
  },
  {
   "cell_type": "markdown",
   "id": "8800a5bb",
   "metadata": {
    "_cell_guid": "485073af-b103-48c0-8e8c-60c28ddc00fc",
    "_uuid": "d4215f16-78de-4f14-b9f3-b596b03f8433",
    "id": "y5fK05dsn2O_",
    "papermill": {
     "duration": 0.005067,
     "end_time": "2023-05-24T05:36:20.069750",
     "exception": false,
     "start_time": "2023-05-24T05:36:20.064683",
     "status": "completed"
    },
    "tags": []
   },
   "source": [
    "# Prepare the dataset"
   ]
  },
  {
   "cell_type": "code",
   "execution_count": 5,
   "id": "3de8bcf6",
   "metadata": {
    "_cell_guid": "9527a410-8159-421f-9ad6-f3c712fc7d87",
    "_uuid": "886d16af-f0f1-4c68-8e15-9802bd417f6e",
    "collapsed": false,
    "execution": {
     "iopub.execute_input": "2023-05-24T05:36:20.082791Z",
     "iopub.status.busy": "2023-05-24T05:36:20.081654Z",
     "iopub.status.idle": "2023-05-24T05:36:20.339563Z",
     "shell.execute_reply": "2023-05-24T05:36:20.338133Z"
    },
    "id": "cCZWGiL_n2PA",
    "jupyter": {
     "outputs_hidden": false
    },
    "papermill": {
     "duration": 0.267025,
     "end_time": "2023-05-24T05:36:20.342133",
     "exception": false,
     "start_time": "2023-05-24T05:36:20.075108",
     "status": "completed"
    },
    "tags": []
   },
   "outputs": [],
   "source": [
    "CATEGORICAL = ['event_name', 'name', 'fqid', 'room_fqid', 'text_fqid']\n",
    "NUMERICAL = ['page', 'hover_duration', 'room_coor_x', 'room_coor_y', 'screen_coor_x', 'screen_coor_y']\n",
    "# 'level' \n",
    "\n",
    "EVENTS = dataset_df['event_name'].unique()\n",
    "NAMES = dataset_df['name'].unique()\n",
    "\n",
    "DIFFS = ['location_x_diff', 'location_y_diff', 'elapsed_time_diff']\n",
    "\n",
    "# Except: 'music', 'fullscreen', 'hq' ???\n",
    "OPTIONALS = ['music', 'fullscreen', 'hq']\n",
    "\n",
    "# Lots..\n",
    "TEXT_LISTS = dataset_df['text'].unique()"
   ]
  },
  {
   "cell_type": "code",
   "execution_count": 6,
   "id": "7f62bed6",
   "metadata": {
    "execution": {
     "iopub.execute_input": "2023-05-24T05:36:20.355973Z",
     "iopub.status.busy": "2023-05-24T05:36:20.355068Z",
     "iopub.status.idle": "2023-05-24T05:36:20.495187Z",
     "shell.execute_reply": "2023-05-24T05:36:20.493906Z"
    },
    "papermill": {
     "duration": 0.150005,
     "end_time": "2023-05-24T05:36:20.497523",
     "exception": false,
     "start_time": "2023-05-24T05:36:20.347518",
     "status": "completed"
    },
    "tags": []
   },
   "outputs": [],
   "source": [
    "def feature_engineer(dataset_df):\n",
    "    dataset_df['elapsed_time_diff'] = (\n",
    "        (dataset_df['elapsed_time'] - dataset_df['elapsed_time'].shift(1))\n",
    "        .fillna(0)\n",
    "        .clip(lower=0, upper=1e9)\n",
    "    )\n",
    "    dataset_df['location_x_diff'] = (\n",
    "        (dataset_df['room_coor_x'] - dataset_df['room_coor_x'].shift(1))\n",
    "        .abs()\n",
    "    )\n",
    "    dataset_df['location_y_diff'] = (\n",
    "        (dataset_df['room_coor_y'] - dataset_df['room_coor_y'].shift(1))\n",
    "        .abs()\n",
    "    )\n",
    "    \n",
    "    dfs = []\n",
    "    \n",
    "    for c in NUMERICAL:\n",
    "        tmp = dataset_df.groupby(['session_id','level_group'])[c].agg('mean')\n",
    "        tmp.name = tmp.name + '_mean'\n",
    "        dfs.append(tmp)\n",
    "    for c in NUMERICAL:\n",
    "        tmp = dataset_df.groupby(['session_id','level_group'])[c].agg('std')\n",
    "        tmp.name = tmp.name + '_std'\n",
    "        dfs.append(tmp)\n",
    "    for c in NUMERICAL:\n",
    "        tmp = dataset_df.groupby(['session_id','level_group'])[c].agg('sum')\n",
    "        tmp.name = tmp.name + '_sum'\n",
    "        dfs.append(tmp)\n",
    "    for c in NUMERICAL:\n",
    "        tmp = dataset_df.groupby(['session_id','level_group'])[c].agg('max')\n",
    "        tmp.name = tmp.name + '_max'\n",
    "        dfs.append(tmp)\n",
    "    for c in NUMERICAL:\n",
    "        tmp = dataset_df.groupby(['session_id','level_group'])[c].agg('min')\n",
    "        tmp.name = tmp.name + '_min'\n",
    "        dfs.append(tmp)\n",
    "        \n",
    "    # DIFFS\n",
    "    for c in DIFFS:\n",
    "        tmp = dataset_df.groupby(['session_id', 'level_group'])[c].sum()\n",
    "        tmp.name = c + '_sum'\n",
    "        dfs.append(tmp)\n",
    "    for c in DIFFS:\n",
    "        tmp = dataset_df.groupby(['session_id', 'level_group'])[c].std()\n",
    "        tmp.name = c + '_std'\n",
    "        dfs.append(tmp)\n",
    "    for c in DIFFS:\n",
    "        tmp = dataset_df.groupby(['session_id', 'level_group'])[c].mean()\n",
    "        tmp.name = c + '_mean'\n",
    "        dfs.append(tmp)\n",
    "    for c in DIFFS:\n",
    "        tmp = dataset_df.groupby(['session_id', 'level_group'])[c].max()\n",
    "        tmp.name = c + '_max'\n",
    "        dfs.append(tmp)\n",
    "    for c in DIFFS:\n",
    "        tmp = dataset_df.groupby(['session_id', 'level_group'])[c].min()\n",
    "        tmp.name = c + '_min'\n",
    "        dfs.append(tmp)\n",
    "    \n",
    "    # EVNETS\n",
    "    for c in EVENTS: \n",
    "        dataset_df[c] = (dataset_df.event_name == c).astype('int8')\n",
    "    for c in EVENTS: \n",
    "        tmp = dataset_df[dataset_df[c] == 1].groupby(['session_id', 'level_group'])[c].sum()\n",
    "        tmp.name = c + '_count'\n",
    "        dfs.append(tmp)\n",
    "    for c in EVENTS: \n",
    "        tmp = dataset_df[dataset_df[c] == 1].groupby(['session_id', 'level_group'])[c].std()\n",
    "        tmp.name = c + '_std'\n",
    "        dfs.append(tmp)\n",
    "    for c in EVENTS: \n",
    "        tmp = dataset_df[dataset_df[c] == 1].groupby(['session_id', 'level_group'])[c].mean()\n",
    "        tmp.name = c + '_mean'\n",
    "        dfs.append(tmp)\n",
    "    for c in EVENTS: \n",
    "        tmp = dataset_df[dataset_df[c] == 1].groupby(['session_id', 'level_group'])[c].max()\n",
    "        tmp.name = c + '_max'\n",
    "        dfs.append(tmp)\n",
    "    for c in EVENTS: \n",
    "        tmp = dataset_df[dataset_df[c] == 1].groupby(['session_id', 'level_group'])[c].min()\n",
    "        tmp.name = c + '_min'\n",
    "        dfs.append(tmp)\n",
    "        \n",
    "    for c in EVENTS:\n",
    "        tmp = dataset_df[dataset_df[c] == 1].groupby(['session_id', 'level_group'])['elapsed_time_diff'].agg('mean')\n",
    "        tmp.name = c + '_time_average'\n",
    "        dfs.append(tmp)\n",
    "        \n",
    "        \n",
    "    #OPTIONALS\n",
    "    for c in OPTIONALS:\n",
    "        tmp = dataset_df.groupby(['session_id','level_group'])[c].agg('mean')\n",
    "        tmp.name = tmp.name + '_mean'\n",
    "        dfs.append(tmp)\n",
    "    for c in OPTIONALS:\n",
    "        tmp = dataset_df.groupby(['session_id','level_group'])[c].agg('std')\n",
    "        tmp.name = tmp.name + '_std'\n",
    "        dfs.append(tmp)\n",
    "    for c in OPTIONALS:\n",
    "        tmp = dataset_df.groupby(['session_id','level_group'])[c].agg('sum')\n",
    "        tmp.name = tmp.name + '_sum'\n",
    "        dfs.append(tmp)\n",
    "    for c in OPTIONALS:\n",
    "        tmp = dataset_df.groupby(['session_id','level_group'])[c].agg('min')\n",
    "        tmp.name = tmp.name + '_min'\n",
    "        dfs.append(tmp)\n",
    "    for c in OPTIONALS:\n",
    "        tmp = dataset_df.groupby(['session_id','level_group'])[c].agg('max')\n",
    "        tmp.name = tmp.name + '_max'\n",
    "        dfs.append(tmp)   \n",
    "        \n",
    "    dataset_df = pd.concat(dfs,axis=1)\n",
    "    dataset_df = dataset_df.fillna(-1)\n",
    "    dataset_df = dataset_df.reset_index()\n",
    "    dataset_df = dataset_df.set_index('session_id')\n",
    "    return dataset_df"
   ]
  },
  {
   "cell_type": "code",
   "execution_count": 7,
   "id": "285bc3ce",
   "metadata": {
    "execution": {
     "iopub.execute_input": "2023-05-24T05:36:20.512142Z",
     "iopub.status.busy": "2023-05-24T05:36:20.509773Z",
     "iopub.status.idle": "2023-05-24T05:38:02.809622Z",
     "shell.execute_reply": "2023-05-24T05:38:02.807508Z"
    },
    "papermill": {
     "duration": 102.312056,
     "end_time": "2023-05-24T05:38:02.815020",
     "exception": false,
     "start_time": "2023-05-24T05:36:20.502964",
     "status": "completed"
    },
    "tags": []
   },
   "outputs": [],
   "source": [
    "dataset_df = feature_engineer(dataset_df)"
   ]
  },
  {
   "cell_type": "code",
   "execution_count": 8,
   "id": "b90cc892",
   "metadata": {
    "execution": {
     "iopub.execute_input": "2023-05-24T05:38:02.831753Z",
     "iopub.status.busy": "2023-05-24T05:38:02.830175Z",
     "iopub.status.idle": "2023-05-24T05:38:02.849348Z",
     "shell.execute_reply": "2023-05-24T05:38:02.848588Z"
    },
    "papermill": {
     "duration": 0.031689,
     "end_time": "2023-05-24T05:38:02.854360",
     "exception": false,
     "start_time": "2023-05-24T05:38:02.822671",
     "status": "completed"
    },
    "tags": []
   },
   "outputs": [
    {
     "name": "stdout",
     "output_type": "stream",
     "text": [
      "<class 'pandas.core.frame.DataFrame'>\n",
      "Int64Index: 70686 entries, 20090312431273200 to 22100221145014656\n",
      "Columns: 127 entries, level_group to hq_max\n",
      "dtypes: float32(28), float64(74), int32(9), int8(15), object(1)\n",
      "memory usage: 52.0+ MB\n"
     ]
    }
   ],
   "source": [
    "dataset_df.info()"
   ]
  },
  {
   "cell_type": "code",
   "execution_count": 9,
   "id": "e55185f7",
   "metadata": {
    "execution": {
     "iopub.execute_input": "2023-05-24T05:38:02.868818Z",
     "iopub.status.busy": "2023-05-24T05:38:02.867429Z",
     "iopub.status.idle": "2023-05-24T05:38:02.875147Z",
     "shell.execute_reply": "2023-05-24T05:38:02.873948Z"
    },
    "papermill": {
     "duration": 0.017759,
     "end_time": "2023-05-24T05:38:02.878126",
     "exception": false,
     "start_time": "2023-05-24T05:38:02.860367",
     "status": "completed"
    },
    "tags": []
   },
   "outputs": [],
   "source": [
    "# corr = dataset_df.corr()\n",
    "\n",
    "# plt.figure(figsize=(15,15)) \n",
    "# sns.heatmap(corr, annot=True, cmap='Blues')\n",
    "# plt.title('Correlation Heatmap')\n",
    "# plt.show()"
   ]
  },
  {
   "cell_type": "code",
   "execution_count": 10,
   "id": "6d6c577c",
   "metadata": {
    "execution": {
     "iopub.execute_input": "2023-05-24T05:38:02.891494Z",
     "iopub.status.busy": "2023-05-24T05:38:02.891071Z",
     "iopub.status.idle": "2023-05-24T05:38:02.901373Z",
     "shell.execute_reply": "2023-05-24T05:38:02.900523Z"
    },
    "papermill": {
     "duration": 0.020201,
     "end_time": "2023-05-24T05:38:02.904106",
     "exception": false,
     "start_time": "2023-05-24T05:38:02.883905",
     "status": "completed"
    },
    "tags": []
   },
   "outputs": [],
   "source": [
    "FEATURES = [c for c in dataset_df.columns if c != 'level_group']\n",
    "ALL_USERS = dataset_df.index.unique()\n",
    "\n",
    "gkf = GroupKFold(n_splits=5)\n",
    "oof = pd.DataFrame(data=np.zeros((len(ALL_USERS),18)), index=ALL_USERS)\n",
    "models = {}\n",
    "evaluation_dict ={}"
   ]
  },
  {
   "cell_type": "code",
   "execution_count": 11,
   "id": "04385b35",
   "metadata": {
    "execution": {
     "iopub.execute_input": "2023-05-24T05:38:02.917899Z",
     "iopub.status.busy": "2023-05-24T05:38:02.917098Z",
     "iopub.status.idle": "2023-05-24T05:38:02.921134Z",
     "shell.execute_reply": "2023-05-24T05:38:02.920330Z"
    },
    "papermill": {
     "duration": 0.013361,
     "end_time": "2023-05-24T05:38:02.923237",
     "exception": false,
     "start_time": "2023-05-24T05:38:02.909876",
     "status": "completed"
    },
    "tags": []
   },
   "outputs": [],
   "source": [
    "# ALL_USERS"
   ]
  },
  {
   "cell_type": "code",
   "execution_count": 12,
   "id": "89554aa5",
   "metadata": {
    "execution": {
     "iopub.execute_input": "2023-05-24T05:38:02.937182Z",
     "iopub.status.busy": "2023-05-24T05:38:02.936451Z",
     "iopub.status.idle": "2023-05-24T05:59:09.198719Z",
     "shell.execute_reply": "2023-05-24T05:59:09.197922Z"
    },
    "papermill": {
     "duration": 1266.277984,
     "end_time": "2023-05-24T05:59:09.207175",
     "exception": false,
     "start_time": "2023-05-24T05:38:02.929191",
     "status": "completed"
    },
    "tags": []
   },
   "outputs": [
    {
     "name": "stdout",
     "output_type": "stream",
     "text": [
      "-------------------------\n",
      "    <<<  Fold  1  >>>\n",
      "-------------------------\n",
      "1(720), 2(717), 3(794), 4(699), 5(715), 6(485), 7(852), 8(425), 9(705), 10(533), 11(578), 12(639), 13(420), 14(764), 15(854), 16(282), 17(321), 18(711), \n",
      "-------------------------\n",
      "    <<<  Fold  2  >>>\n",
      "-------------------------\n",
      "1(670), 2(769), 3(658), 4(771), 5(611), 6(566), 7(751), 8(292), 9(760), 10(517), 11(719), 12(523), 13(564), 14(735), 15(960), 16(374), 17(361), 18(689), \n",
      "-------------------------\n",
      "    <<<  Fold  3  >>>\n",
      "-------------------------\n",
      "1(766), 2(793), 3(783), 4(789), 5(783), 6(544), 7(693), 8(360), 9(698), 10(750), 11(437), 12(418), 13(527), 14(527), 15(787), 16(399), 17(570), 18(774), \n",
      "-------------------------\n",
      "    <<<  Fold  4  >>>\n",
      "-------------------------\n",
      "1(975), 2(613), 3(563), 4(1000), 5(640), 6(614), 7(670), 8(527), 9(675), 10(755), 11(537), 12(517), 13(798), 14(609), 15(660), 16(341), 17(309), 18(848), \n",
      "-------------------------\n",
      "    <<<  Fold  5  >>>\n",
      "-------------------------\n",
      "1(982), 2(851), 3(758), 4(992), 5(615), 6(730), 7(586), 8(394), 9(569), 10(775), 11(627), 12(917), 13(677), 14(788), 15(968), 16(330), 17(429), 18(694), \n"
     ]
    }
   ],
   "source": [
    "for i, (train_index, test_index) in enumerate(gkf.split(X=dataset_df, groups=dataset_df.index)):\n",
    "    print('-'*25)\n",
    "    print('    <<<  Fold ',i+1, ' >>>')\n",
    "    print('-'*25)\n",
    "    \n",
    "#     xgb_params = {   685\n",
    "#         'objective' : 'binary:logistic',\n",
    "#         'eval_metric':'logloss',\n",
    "#         'learning_rate': 0.02,\n",
    "#         'max_depth': 8,\n",
    "#         'n_estimators': 1000,\n",
    "#         'early_stopping_rounds': 50,\n",
    "#         'tree_method':'hist',\n",
    "#         'subsample':0.5,\n",
    "#         'colsample_bytree': 1,\n",
    "#         'use_label_encoder' : False,\n",
    "        \n",
    "#         ### Parameters Tuning.. \n",
    "#         'gamma': 0,\n",
    "#         'min_child_weight': 10,\n",
    "#     }\n",
    "    xgb_params = {\n",
    "        'objective' : 'binary:logistic',\n",
    "        'eval_metric':'logloss',\n",
    "        'learning_rate': 0.01,\n",
    "        'max_depth': 5,\n",
    "        'n_estimators': 1000,\n",
    "        'early_stopping_rounds': 50,\n",
    "        'tree_method':'hist',\n",
    "        'subsample':0.5,\n",
    "        'colsample_bytree': 1,\n",
    "        'use_label_encoder' : False,\n",
    "        \n",
    "        ### Parameters Tuning.. \n",
    "        'gamma': 5,\n",
    "        'min_child_weight': 10,\n",
    "        'colsample_bytree': 0.5\n",
    "    }\n",
    "    \n",
    "    for q_no in range(1,19):\n",
    "\n",
    "        # Select level group for the question based on the q_no.\n",
    "        if q_no<=3: grp = '0-4'\n",
    "        elif q_no<=13: grp = '5-12'\n",
    "        elif q_no<=22: grp = '13-22'\n",
    "\n",
    "\n",
    "        # TRAIN DATA\n",
    "        train_x = dataset_df.iloc[train_index]\n",
    "        train_x = train_x.loc[train_x.level_group == grp]\n",
    "        train_users = train_x.index.values\n",
    "        train_y = labels.loc[labels.q==q_no].set_index('session').loc[train_users]\n",
    "        \n",
    "        # VALID DATA\n",
    "        valid_x = dataset_df.iloc[test_index]\n",
    "        valid_x = valid_x.loc[valid_x.level_group == grp]\n",
    "        valid_users = valid_x.index.values\n",
    "        valid_y = labels.loc[labels.q==q_no].set_index('session').loc[valid_users]\n",
    "\n",
    "        # We will now create the Gradient Boosted Trees Model with default settings. \n",
    "        # By default the model is set to train for a classification task.\n",
    "        xgb = XGBClassifier(**xgb_params)\n",
    "        xgb.fit(train_x[FEATURES].astype('float32'), train_y['correct'],\n",
    "                eval_set=[ (valid_x[FEATURES].astype('float32'), valid_y['correct']) ],\n",
    "                verbose=0)\n",
    "        print(f'{q_no}({xgb.best_ntree_limit}), ',end='')\n",
    "        \n",
    "        # SAVE MODEL, PREDICT VALID OOF\n",
    "        models[f'{grp}_{q_no}'] = xgb\n",
    "        oof.loc[valid_users, q_no-1] = xgb.predict_proba(valid_x[FEATURES].astype('float32'))[:,1]  \n",
    "    print()"
   ]
  },
  {
   "cell_type": "code",
   "execution_count": 13,
   "id": "c6e16984",
   "metadata": {
    "execution": {
     "iopub.execute_input": "2023-05-24T05:59:09.230786Z",
     "iopub.status.busy": "2023-05-24T05:59:09.229385Z",
     "iopub.status.idle": "2023-05-24T05:59:09.328504Z",
     "shell.execute_reply": "2023-05-24T05:59:09.327376Z"
    },
    "papermill": {
     "duration": 0.113844,
     "end_time": "2023-05-24T05:59:09.331378",
     "exception": false,
     "start_time": "2023-05-24T05:59:09.217534",
     "status": "completed"
    },
    "tags": []
   },
   "outputs": [],
   "source": [
    "true = oof.copy()\n",
    "for k in range(18):\n",
    "    # GET TRUE LABELS\n",
    "    tmp = labels.loc[labels.q == k+1].set_index('session').loc[ALL_USERS]\n",
    "    true[k] = tmp.correct.values"
   ]
  },
  {
   "cell_type": "code",
   "execution_count": 14,
   "id": "c527662d",
   "metadata": {
    "execution": {
     "iopub.execute_input": "2023-05-24T05:59:09.354303Z",
     "iopub.status.busy": "2023-05-24T05:59:09.353598Z",
     "iopub.status.idle": "2023-05-24T05:59:13.883504Z",
     "shell.execute_reply": "2023-05-24T05:59:13.882080Z"
    },
    "papermill": {
     "duration": 4.544412,
     "end_time": "2023-05-24T05:59:13.886198",
     "exception": false,
     "start_time": "2023-05-24T05:59:09.341786",
     "status": "completed"
    },
    "tags": []
   },
   "outputs": [
    {
     "name": "stdout",
     "output_type": "stream",
     "text": [
      "0.40, 0.41, 0.42, 0.43, 0.44, 0.45, 0.46, 0.47, 0.48, 0.49, 0.50, 0.51, 0.52, 0.53, 0.54, 0.55, 0.56, 0.57, 0.58, 0.59, 0.60, 0.61, 0.62, 0.63, 0.64, 0.65, 0.66, 0.67, 0.68, 0.69, 0.70, 0.71, 0.72, 0.73, 0.74, 0.75, 0.76, 0.77, 0.78, 0.79, 0.80, "
     ]
    }
   ],
   "source": [
    "# FIND BEST THRESHOLD TO CONVERT PROBS INTO 1s AND 0s\n",
    "scores = []; thresholds = []\n",
    "best_score = 0; best_threshold = 0\n",
    "\n",
    "for threshold in np.arange(0.4,0.81,0.01):\n",
    "    print(f'{threshold:.02f}, ',end='')\n",
    "    preds = (oof.values.reshape((-1))>threshold).astype('int')\n",
    "    m = f1_score(true.values.reshape((-1)), preds, average='macro')   \n",
    "    scores.append(m)\n",
    "    thresholds.append(threshold)\n",
    "    if m>best_score:\n",
    "        best_score = m\n",
    "        best_threshold = threshold"
   ]
  },
  {
   "cell_type": "code",
   "execution_count": 15,
   "id": "441d2736",
   "metadata": {
    "execution": {
     "iopub.execute_input": "2023-05-24T05:59:13.913065Z",
     "iopub.status.busy": "2023-05-24T05:59:13.912267Z",
     "iopub.status.idle": "2023-05-24T05:59:14.152119Z",
     "shell.execute_reply": "2023-05-24T05:59:14.150929Z"
    },
    "papermill": {
     "duration": 0.256963,
     "end_time": "2023-05-24T05:59:14.155302",
     "exception": false,
     "start_time": "2023-05-24T05:59:13.898339",
     "status": "completed"
    },
    "tags": []
   },
   "outputs": [
    {
     "name": "stdout",
     "output_type": "stream",
     "text": [
      "Q0: F1 = 0.6587706573649338\n",
      "Q1: F1 = 0.5096970800418412\n",
      "Q2: F1 = 0.5109772644590341\n",
      "Q3: F1 = 0.6489539410975944\n",
      "Q4: F1 = 0.6063005190041308\n",
      "Q5: F1 = 0.6129366591067963\n",
      "Q6: F1 = 0.5994069365814415\n",
      "Q7: F1 = 0.5584760953383098\n",
      "Q8: F1 = 0.6074202280777548\n",
      "Q9: F1 = 0.5529274797062084\n",
      "Q10: F1 = 0.6032630859348614\n",
      "Q11: F1 = 0.5023792650130547\n",
      "Q12: F1 = 0.4526302034444193\n",
      "Q13: F1 = 0.6171353577490364\n",
      "Q14: F1 = 0.5706156156533817\n",
      "Q15: F1 = 0.47173499642332756\n",
      "Q16: F1 = 0.544082533905314\n",
      "Q17: F1 = 0.49146016842543994\n",
      "==> Overall F1 = 0.6875999600958141\n"
     ]
    }
   ],
   "source": [
    "for k in range(18):\n",
    "        \n",
    "    # COMPUTE F1 SCORE PER QUESTION\n",
    "    m = f1_score(true[k].values, (oof[k].values>best_threshold).astype('int'), average='macro')\n",
    "    print(f'Q{k}: F1 =',m)\n",
    "    \n",
    "# COMPUTE F1 SCORE OVERALL\n",
    "m = f1_score(true.values.reshape((-1)), (oof.values.reshape((-1))>best_threshold).astype('int'), average='macro')\n",
    "print('==> Overall F1 =',m)"
   ]
  },
  {
   "cell_type": "code",
   "execution_count": 16,
   "id": "873c6c42",
   "metadata": {
    "execution": {
     "iopub.execute_input": "2023-05-24T05:59:14.182222Z",
     "iopub.status.busy": "2023-05-24T05:59:14.180713Z",
     "iopub.status.idle": "2023-05-24T05:59:16.393284Z",
     "shell.execute_reply": "2023-05-24T05:59:16.391611Z"
    },
    "papermill": {
     "duration": 2.228929,
     "end_time": "2023-05-24T05:59:16.396192",
     "exception": false,
     "start_time": "2023-05-24T05:59:14.167263",
     "status": "completed"
    },
    "tags": []
   },
   "outputs": [
    {
     "name": "stdout",
     "output_type": "stream",
     "text": [
      "This version of the API is not optimized and should not be used to estimate the runtime of your code on the hidden test set.\n"
     ]
    }
   ],
   "source": [
    "# Reference\n",
    "# https://www.kaggle.com/code/philculliton/basic-submission-demo\n",
    "# https://www.kaggle.com/code/cdeotte/random-forest-baseline-0-664/notebook\n",
    "\n",
    "import jo_wilder\n",
    "env = jo_wilder.make_env()\n",
    "iter_test = env.iter_test()\n",
    "\n",
    "limits = {'0-4':(1,4), '5-12':(4,14), '13-22':(14,19)}\n",
    "\n",
    "for (test, sample_submission) in iter_test:\n",
    "    # FEATURE ENGINEER TEST DATA\n",
    "    df = feature_engineer(test)\n",
    "    # INFER TEST DATA\n",
    "    grp = test.level_group.values[0]\n",
    "    a,b = limits[grp]\n",
    "    for t in range(a,b):\n",
    "        xgb = models[f'{grp}_{t}']\n",
    "        p = xgb.predict_proba(df[FEATURES].astype('float32'))[0,1]\n",
    "        mask = sample_submission.session_id.str.contains(f'q{t}')\n",
    "        sample_submission.loc[mask,'correct'] = int( p > best_threshold )\n",
    "    \n",
    "    env.predict(sample_submission)"
   ]
  },
  {
   "cell_type": "code",
   "execution_count": null,
   "id": "0ac6ebbb",
   "metadata": {
    "papermill": {
     "duration": 0.011666,
     "end_time": "2023-05-24T05:59:16.419901",
     "exception": false,
     "start_time": "2023-05-24T05:59:16.408235",
     "status": "completed"
    },
    "tags": []
   },
   "outputs": [],
   "source": []
  },
  {
   "cell_type": "code",
   "execution_count": null,
   "id": "1a607a4b",
   "metadata": {
    "papermill": {
     "duration": 0.011715,
     "end_time": "2023-05-24T05:59:16.444336",
     "exception": false,
     "start_time": "2023-05-24T05:59:16.432621",
     "status": "completed"
    },
    "tags": []
   },
   "outputs": [],
   "source": []
  }
 ],
 "metadata": {
  "kernelspec": {
   "display_name": "Python 3",
   "language": "python",
   "name": "python3"
  },
  "language_info": {
   "codemirror_mode": {
    "name": "ipython",
    "version": 3
   },
   "file_extension": ".py",
   "mimetype": "text/x-python",
   "name": "python",
   "nbconvert_exporter": "python",
   "pygments_lexer": "ipython3",
   "version": "3.7.12"
  },
  "papermill": {
   "default_parameters": {},
   "duration": 1476.671367,
   "end_time": "2023-05-24T05:59:17.486175",
   "environment_variables": {},
   "exception": null,
   "input_path": "__notebook__.ipynb",
   "output_path": "__notebook__.ipynb",
   "parameters": {},
   "start_time": "2023-05-24T05:34:40.814808",
   "version": "2.4.0"
  }
 },
 "nbformat": 4,
 "nbformat_minor": 5
}
