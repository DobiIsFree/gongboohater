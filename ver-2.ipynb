{
 "cells": [
  {
   "cell_type": "markdown",
   "id": "8e0227c4",
   "metadata": {
    "_cell_guid": "3065ea28-3415-46ef-8ec2-672826f1896a",
    "_uuid": "1b633216-f642-426b-a442-36227e786485",
    "id": "iCTA6kl3n2O1",
    "papermill": {
     "duration": 0.01469,
     "end_time": "2023-05-14T14:19:10.957082",
     "exception": false,
     "start_time": "2023-05-14T14:19:10.942392",
     "status": "completed"
    },
    "tags": []
   },
   "source": [
    "# Student Performance from Game Play Using TensorFlow Decision Forests"
   ]
  },
  {
   "cell_type": "markdown",
   "id": "1be718fc",
   "metadata": {
    "_cell_guid": "f5f126e7-a6c7-4d10-9453-02803d77fdec",
    "_uuid": "48949e80-ac79-459e-b078-1258b02a6d19",
    "id": "zAXHC6-Tn2O5",
    "papermill": {
     "duration": 0.012522,
     "end_time": "2023-05-14T14:19:10.983091",
     "exception": false,
     "start_time": "2023-05-14T14:19:10.970569",
     "status": "completed"
    },
    "tags": []
   },
   "source": [
    "## Import the Required Libraries"
   ]
  },
  {
   "cell_type": "code",
   "execution_count": 1,
   "id": "96329065",
   "metadata": {
    "_cell_guid": "d9edea55-e22d-47eb-9e89-f41baf355a90",
    "_uuid": "b8016303-112b-4ba5-b173-8f7fafdd3fbc",
    "collapsed": false,
    "execution": {
     "iopub.execute_input": "2023-05-14T14:19:11.011337Z",
     "iopub.status.busy": "2023-05-14T14:19:11.010583Z",
     "iopub.status.idle": "2023-05-14T14:19:20.113577Z",
     "shell.execute_reply": "2023-05-14T14:19:20.112454Z"
    },
    "id": "IanlX-Eqn2O5",
    "jupyter": {
     "outputs_hidden": false
    },
    "papermill": {
     "duration": 9.120453,
     "end_time": "2023-05-14T14:19:20.116479",
     "exception": false,
     "start_time": "2023-05-14T14:19:10.996026",
     "status": "completed"
    },
    "tags": []
   },
   "outputs": [],
   "source": [
    "import tensorflow as tf\n",
    "import tensorflow_addons as tfa\n",
    "import tensorflow_decision_forests as tfdf\n",
    "\n",
    "import pandas as pd\n",
    "import numpy as np\n",
    "import matplotlib.pyplot as plt"
   ]
  },
  {
   "cell_type": "markdown",
   "id": "a31b6fac",
   "metadata": {
    "_cell_guid": "5be263dd-cf1e-4887-b94b-caeeea6a4aa8",
    "_uuid": "2697b3d5-0f16-4f5e-aa80-76ad489e86ae",
    "id": "22DpLVFLn2O7",
    "papermill": {
     "duration": 0.011592,
     "end_time": "2023-05-14T14:19:20.140635",
     "exception": false,
     "start_time": "2023-05-14T14:19:20.129043",
     "status": "completed"
    },
    "tags": []
   },
   "source": [
    "## Load the Dataset"
   ]
  },
  {
   "cell_type": "code",
   "execution_count": 2,
   "id": "0a0cb846",
   "metadata": {
    "_cell_guid": "144dcbf9-be59-440c-b31a-8216f58528cb",
    "_uuid": "0cd23222-c6e1-47b2-8149-4834fa47f2e4",
    "collapsed": false,
    "execution": {
     "iopub.execute_input": "2023-05-14T14:19:20.167618Z",
     "iopub.status.busy": "2023-05-14T14:19:20.166616Z",
     "iopub.status.idle": "2023-05-14T14:21:14.587809Z",
     "shell.execute_reply": "2023-05-14T14:21:14.586914Z"
    },
    "id": "_XItl24kn2O7",
    "jupyter": {
     "outputs_hidden": false
    },
    "papermill": {
     "duration": 114.450666,
     "end_time": "2023-05-14T14:21:14.603575",
     "exception": false,
     "start_time": "2023-05-14T14:19:20.152909",
     "status": "completed"
    },
    "tags": []
   },
   "outputs": [
    {
     "name": "stdout",
     "output_type": "stream",
     "text": [
      "Full train dataset shape is (26296946, 20)\n"
     ]
    }
   ],
   "source": [
    "# Reference: https://www.kaggle.com/competitions/predict-student-performance-from-game-play/discussion/384359\n",
    "dtypes={\n",
    "    'elapsed_time':np.int32,\n",
    "    'event_name':'category',\n",
    "    'name':'category',\n",
    "    'level':np.uint8,\n",
    "    'room_coor_x':np.float32,\n",
    "    'room_coor_y':np.float32,\n",
    "    'screen_coor_x':np.float32,\n",
    "    'screen_coor_y':np.float32,\n",
    "    'hover_duration':np.float32,\n",
    "    'text':'category',\n",
    "    'fqid':'category',\n",
    "    'room_fqid':'category',\n",
    "    'text_fqid':'category',\n",
    "    'fullscreen':'category',\n",
    "    'hq':'category',\n",
    "    'music':'category',\n",
    "    'level_group':'category'}\n",
    "\n",
    "dataset_df = pd.read_csv('/kaggle/input/predict-student-performance-from-game-play/train.csv', dtype=dtypes)\n",
    "print(\"Full train dataset shape is {}\".format(dataset_df.shape))"
   ]
  },
  {
   "cell_type": "code",
   "execution_count": 3,
   "id": "27730ba7",
   "metadata": {
    "_cell_guid": "3d6f3782-c8df-4479-a1ca-fb9059fcdc82",
    "_uuid": "0a715f0f-3b27-48d8-9a0e-e6f64b164a46",
    "collapsed": false,
    "execution": {
     "iopub.execute_input": "2023-05-14T14:21:14.631924Z",
     "iopub.status.busy": "2023-05-14T14:21:14.631207Z",
     "iopub.status.idle": "2023-05-14T14:21:14.669183Z",
     "shell.execute_reply": "2023-05-14T14:21:14.668300Z"
    },
    "id": "-RTRVRiWn2O8",
    "jupyter": {
     "outputs_hidden": false
    },
    "papermill": {
     "duration": 0.055226,
     "end_time": "2023-05-14T14:21:14.671347",
     "exception": false,
     "start_time": "2023-05-14T14:21:14.616121",
     "status": "completed"
    },
    "tags": []
   },
   "outputs": [
    {
     "data": {
      "text/html": [
       "<div>\n",
       "<style scoped>\n",
       "    .dataframe tbody tr th:only-of-type {\n",
       "        vertical-align: middle;\n",
       "    }\n",
       "\n",
       "    .dataframe tbody tr th {\n",
       "        vertical-align: top;\n",
       "    }\n",
       "\n",
       "    .dataframe thead th {\n",
       "        text-align: right;\n",
       "    }\n",
       "</style>\n",
       "<table border=\"1\" class=\"dataframe\">\n",
       "  <thead>\n",
       "    <tr style=\"text-align: right;\">\n",
       "      <th></th>\n",
       "      <th>session_id</th>\n",
       "      <th>index</th>\n",
       "      <th>elapsed_time</th>\n",
       "      <th>event_name</th>\n",
       "      <th>name</th>\n",
       "      <th>level</th>\n",
       "      <th>page</th>\n",
       "      <th>room_coor_x</th>\n",
       "      <th>room_coor_y</th>\n",
       "      <th>screen_coor_x</th>\n",
       "      <th>screen_coor_y</th>\n",
       "      <th>hover_duration</th>\n",
       "      <th>text</th>\n",
       "      <th>fqid</th>\n",
       "      <th>room_fqid</th>\n",
       "      <th>text_fqid</th>\n",
       "      <th>fullscreen</th>\n",
       "      <th>hq</th>\n",
       "      <th>music</th>\n",
       "      <th>level_group</th>\n",
       "    </tr>\n",
       "  </thead>\n",
       "  <tbody>\n",
       "    <tr>\n",
       "      <th>0</th>\n",
       "      <td>20090312431273200</td>\n",
       "      <td>0</td>\n",
       "      <td>0</td>\n",
       "      <td>cutscene_click</td>\n",
       "      <td>basic</td>\n",
       "      <td>0</td>\n",
       "      <td>NaN</td>\n",
       "      <td>-413.991394</td>\n",
       "      <td>-159.314682</td>\n",
       "      <td>380.0</td>\n",
       "      <td>494.0</td>\n",
       "      <td>NaN</td>\n",
       "      <td>undefined</td>\n",
       "      <td>intro</td>\n",
       "      <td>tunic.historicalsociety.closet</td>\n",
       "      <td>tunic.historicalsociety.closet.intro</td>\n",
       "      <td>0</td>\n",
       "      <td>0</td>\n",
       "      <td>1</td>\n",
       "      <td>0-4</td>\n",
       "    </tr>\n",
       "    <tr>\n",
       "      <th>1</th>\n",
       "      <td>20090312431273200</td>\n",
       "      <td>1</td>\n",
       "      <td>1323</td>\n",
       "      <td>person_click</td>\n",
       "      <td>basic</td>\n",
       "      <td>0</td>\n",
       "      <td>NaN</td>\n",
       "      <td>-413.991394</td>\n",
       "      <td>-159.314682</td>\n",
       "      <td>380.0</td>\n",
       "      <td>494.0</td>\n",
       "      <td>NaN</td>\n",
       "      <td>Whatcha doing over there, Jo?</td>\n",
       "      <td>gramps</td>\n",
       "      <td>tunic.historicalsociety.closet</td>\n",
       "      <td>tunic.historicalsociety.closet.gramps.intro_0_...</td>\n",
       "      <td>0</td>\n",
       "      <td>0</td>\n",
       "      <td>1</td>\n",
       "      <td>0-4</td>\n",
       "    </tr>\n",
       "    <tr>\n",
       "      <th>2</th>\n",
       "      <td>20090312431273200</td>\n",
       "      <td>2</td>\n",
       "      <td>831</td>\n",
       "      <td>person_click</td>\n",
       "      <td>basic</td>\n",
       "      <td>0</td>\n",
       "      <td>NaN</td>\n",
       "      <td>-413.991394</td>\n",
       "      <td>-159.314682</td>\n",
       "      <td>380.0</td>\n",
       "      <td>494.0</td>\n",
       "      <td>NaN</td>\n",
       "      <td>Just talking to Teddy.</td>\n",
       "      <td>gramps</td>\n",
       "      <td>tunic.historicalsociety.closet</td>\n",
       "      <td>tunic.historicalsociety.closet.gramps.intro_0_...</td>\n",
       "      <td>0</td>\n",
       "      <td>0</td>\n",
       "      <td>1</td>\n",
       "      <td>0-4</td>\n",
       "    </tr>\n",
       "    <tr>\n",
       "      <th>3</th>\n",
       "      <td>20090312431273200</td>\n",
       "      <td>3</td>\n",
       "      <td>1147</td>\n",
       "      <td>person_click</td>\n",
       "      <td>basic</td>\n",
       "      <td>0</td>\n",
       "      <td>NaN</td>\n",
       "      <td>-413.991394</td>\n",
       "      <td>-159.314682</td>\n",
       "      <td>380.0</td>\n",
       "      <td>494.0</td>\n",
       "      <td>NaN</td>\n",
       "      <td>I gotta run to my meeting!</td>\n",
       "      <td>gramps</td>\n",
       "      <td>tunic.historicalsociety.closet</td>\n",
       "      <td>tunic.historicalsociety.closet.gramps.intro_0_...</td>\n",
       "      <td>0</td>\n",
       "      <td>0</td>\n",
       "      <td>1</td>\n",
       "      <td>0-4</td>\n",
       "    </tr>\n",
       "    <tr>\n",
       "      <th>4</th>\n",
       "      <td>20090312431273200</td>\n",
       "      <td>4</td>\n",
       "      <td>1863</td>\n",
       "      <td>person_click</td>\n",
       "      <td>basic</td>\n",
       "      <td>0</td>\n",
       "      <td>NaN</td>\n",
       "      <td>-412.991394</td>\n",
       "      <td>-159.314682</td>\n",
       "      <td>381.0</td>\n",
       "      <td>494.0</td>\n",
       "      <td>NaN</td>\n",
       "      <td>Can I come, Gramps?</td>\n",
       "      <td>gramps</td>\n",
       "      <td>tunic.historicalsociety.closet</td>\n",
       "      <td>tunic.historicalsociety.closet.gramps.intro_0_...</td>\n",
       "      <td>0</td>\n",
       "      <td>0</td>\n",
       "      <td>1</td>\n",
       "      <td>0-4</td>\n",
       "    </tr>\n",
       "  </tbody>\n",
       "</table>\n",
       "</div>"
      ],
      "text/plain": [
       "          session_id  index  elapsed_time      event_name   name  level  page  \\\n",
       "0  20090312431273200      0             0  cutscene_click  basic      0   NaN   \n",
       "1  20090312431273200      1          1323    person_click  basic      0   NaN   \n",
       "2  20090312431273200      2           831    person_click  basic      0   NaN   \n",
       "3  20090312431273200      3          1147    person_click  basic      0   NaN   \n",
       "4  20090312431273200      4          1863    person_click  basic      0   NaN   \n",
       "\n",
       "   room_coor_x  room_coor_y  screen_coor_x  screen_coor_y  hover_duration  \\\n",
       "0  -413.991394  -159.314682          380.0          494.0             NaN   \n",
       "1  -413.991394  -159.314682          380.0          494.0             NaN   \n",
       "2  -413.991394  -159.314682          380.0          494.0             NaN   \n",
       "3  -413.991394  -159.314682          380.0          494.0             NaN   \n",
       "4  -412.991394  -159.314682          381.0          494.0             NaN   \n",
       "\n",
       "                            text    fqid                       room_fqid  \\\n",
       "0                      undefined   intro  tunic.historicalsociety.closet   \n",
       "1  Whatcha doing over there, Jo?  gramps  tunic.historicalsociety.closet   \n",
       "2         Just talking to Teddy.  gramps  tunic.historicalsociety.closet   \n",
       "3     I gotta run to my meeting!  gramps  tunic.historicalsociety.closet   \n",
       "4            Can I come, Gramps?  gramps  tunic.historicalsociety.closet   \n",
       "\n",
       "                                           text_fqid fullscreen hq music  \\\n",
       "0               tunic.historicalsociety.closet.intro          0  0     1   \n",
       "1  tunic.historicalsociety.closet.gramps.intro_0_...          0  0     1   \n",
       "2  tunic.historicalsociety.closet.gramps.intro_0_...          0  0     1   \n",
       "3  tunic.historicalsociety.closet.gramps.intro_0_...          0  0     1   \n",
       "4  tunic.historicalsociety.closet.gramps.intro_0_...          0  0     1   \n",
       "\n",
       "  level_group  \n",
       "0         0-4  \n",
       "1         0-4  \n",
       "2         0-4  \n",
       "3         0-4  \n",
       "4         0-4  "
      ]
     },
     "execution_count": 3,
     "metadata": {},
     "output_type": "execute_result"
    }
   ],
   "source": [
    "# Display the first 5 examples\n",
    "dataset_df.head(5)"
   ]
  },
  {
   "cell_type": "code",
   "execution_count": 4,
   "id": "2850e00d",
   "metadata": {
    "execution": {
     "iopub.execute_input": "2023-05-14T14:21:14.698907Z",
     "iopub.status.busy": "2023-05-14T14:21:14.698131Z",
     "iopub.status.idle": "2023-05-14T14:21:14.891124Z",
     "shell.execute_reply": "2023-05-14T14:21:14.890061Z"
    },
    "papermill": {
     "duration": 0.209199,
     "end_time": "2023-05-14T14:21:14.893539",
     "exception": false,
     "start_time": "2023-05-14T14:21:14.684340",
     "status": "completed"
    },
    "tags": []
   },
   "outputs": [
    {
     "data": {
      "text/plain": [
       "navigate_click        11326433\n",
       "person_click           6052853\n",
       "cutscene_click         2703035\n",
       "object_click           2198211\n",
       "object_hover           1057085\n",
       "map_hover               945159\n",
       "notification_click      649001\n",
       "notebook_click          564544\n",
       "map_click               517242\n",
       "observation_click       212355\n",
       "checkpoint               71028\n",
       "Name: event_name, dtype: int64"
      ]
     },
     "execution_count": 4,
     "metadata": {},
     "output_type": "execute_result"
    }
   ],
   "source": [
    "dataset_df.event_name.value_counts()"
   ]
  },
  {
   "cell_type": "code",
   "execution_count": 5,
   "id": "da76b117",
   "metadata": {
    "execution": {
     "iopub.execute_input": "2023-05-14T14:21:14.923200Z",
     "iopub.status.busy": "2023-05-14T14:21:14.922450Z",
     "iopub.status.idle": "2023-05-14T14:21:14.926825Z",
     "shell.execute_reply": "2023-05-14T14:21:14.926021Z"
    },
    "papermill": {
     "duration": 0.021685,
     "end_time": "2023-05-14T14:21:14.928996",
     "exception": false,
     "start_time": "2023-05-14T14:21:14.907311",
     "status": "completed"
    },
    "tags": []
   },
   "outputs": [],
   "source": [
    "# x = dataset_df['room_coor_x']\n",
    "# y = dataset_df['room_coor_y']\n",
    "# plt.hexbin(x, y, gridsize=40)\n",
    "# plt.show()"
   ]
  },
  {
   "cell_type": "markdown",
   "id": "54e54913",
   "metadata": {
    "_cell_guid": "c65e1dff-67b0-4bb6-9b97-b6418d4173c7",
    "_uuid": "3df6b5f5-7744-40f9-bec5-bb45b9238387",
    "id": "ReNY-i3bn2O8",
    "papermill": {
     "duration": 0.013127,
     "end_time": "2023-05-14T14:21:14.955662",
     "exception": false,
     "start_time": "2023-05-14T14:21:14.942535",
     "status": "completed"
    },
    "tags": []
   },
   "source": [
    "## Load the labels"
   ]
  },
  {
   "cell_type": "code",
   "execution_count": 6,
   "id": "e6c78669",
   "metadata": {
    "_cell_guid": "bc6c67b2-3be1-4595-bc75-a10a50ba30d3",
    "_uuid": "e71600d9-2043-4209-8373-cf254354b3f2",
    "collapsed": false,
    "execution": {
     "iopub.execute_input": "2023-05-14T14:21:14.986078Z",
     "iopub.status.busy": "2023-05-14T14:21:14.985341Z",
     "iopub.status.idle": "2023-05-14T14:21:15.333953Z",
     "shell.execute_reply": "2023-05-14T14:21:15.333016Z"
    },
    "id": "KD4uayl2n2O9",
    "jupyter": {
     "outputs_hidden": false
    },
    "papermill": {
     "duration": 0.366475,
     "end_time": "2023-05-14T14:21:15.336592",
     "exception": false,
     "start_time": "2023-05-14T14:21:14.970117",
     "status": "completed"
    },
    "tags": []
   },
   "outputs": [],
   "source": [
    "labels = pd.read_csv('/kaggle/input/predict-student-performance-from-game-play/train_labels.csv')"
   ]
  },
  {
   "cell_type": "code",
   "execution_count": 7,
   "id": "f67d2a33",
   "metadata": {
    "_cell_guid": "24c78d16-6a6a-4409-b1c3-5f1d84c0a9ac",
    "_uuid": "afd665e4-8c5e-4a6a-9c96-2c8676f97c88",
    "collapsed": false,
    "execution": {
     "iopub.execute_input": "2023-05-14T14:21:15.365694Z",
     "iopub.status.busy": "2023-05-14T14:21:15.365262Z",
     "iopub.status.idle": "2023-05-14T14:21:16.439156Z",
     "shell.execute_reply": "2023-05-14T14:21:16.438128Z"
    },
    "id": "Kva8_Dbqn2O9",
    "jupyter": {
     "outputs_hidden": false
    },
    "papermill": {
     "duration": 1.091983,
     "end_time": "2023-05-14T14:21:16.442181",
     "exception": false,
     "start_time": "2023-05-14T14:21:15.350198",
     "status": "completed"
    },
    "tags": []
   },
   "outputs": [],
   "source": [
    "labels['session'] = labels.session_id.apply(lambda x: int(x.split('_')[0]) )\n",
    "labels['q'] = labels.session_id.apply(lambda x: int(x.split('_')[-1][1:]) )"
   ]
  },
  {
   "cell_type": "code",
   "execution_count": 8,
   "id": "29bc04f3",
   "metadata": {
    "_cell_guid": "c8fac932-0ca8-4862-83f1-07f4753fb1e6",
    "_uuid": "da1b04cd-838f-4e9f-8da1-82dc907f0d97",
    "collapsed": false,
    "execution": {
     "iopub.execute_input": "2023-05-14T14:21:16.469973Z",
     "iopub.status.busy": "2023-05-14T14:21:16.469579Z",
     "iopub.status.idle": "2023-05-14T14:21:16.479658Z",
     "shell.execute_reply": "2023-05-14T14:21:16.478809Z"
    },
    "id": "0eD-KZMvn2O-",
    "jupyter": {
     "outputs_hidden": false
    },
    "papermill": {
     "duration": 0.026445,
     "end_time": "2023-05-14T14:21:16.481775",
     "exception": false,
     "start_time": "2023-05-14T14:21:16.455330",
     "status": "completed"
    },
    "tags": []
   },
   "outputs": [
    {
     "data": {
      "text/html": [
       "<div>\n",
       "<style scoped>\n",
       "    .dataframe tbody tr th:only-of-type {\n",
       "        vertical-align: middle;\n",
       "    }\n",
       "\n",
       "    .dataframe tbody tr th {\n",
       "        vertical-align: top;\n",
       "    }\n",
       "\n",
       "    .dataframe thead th {\n",
       "        text-align: right;\n",
       "    }\n",
       "</style>\n",
       "<table border=\"1\" class=\"dataframe\">\n",
       "  <thead>\n",
       "    <tr style=\"text-align: right;\">\n",
       "      <th></th>\n",
       "      <th>session_id</th>\n",
       "      <th>correct</th>\n",
       "      <th>session</th>\n",
       "      <th>q</th>\n",
       "    </tr>\n",
       "  </thead>\n",
       "  <tbody>\n",
       "    <tr>\n",
       "      <th>0</th>\n",
       "      <td>20090312431273200_q1</td>\n",
       "      <td>1</td>\n",
       "      <td>20090312431273200</td>\n",
       "      <td>1</td>\n",
       "    </tr>\n",
       "    <tr>\n",
       "      <th>1</th>\n",
       "      <td>20090312433251036_q1</td>\n",
       "      <td>0</td>\n",
       "      <td>20090312433251036</td>\n",
       "      <td>1</td>\n",
       "    </tr>\n",
       "    <tr>\n",
       "      <th>2</th>\n",
       "      <td>20090312455206810_q1</td>\n",
       "      <td>1</td>\n",
       "      <td>20090312455206810</td>\n",
       "      <td>1</td>\n",
       "    </tr>\n",
       "    <tr>\n",
       "      <th>3</th>\n",
       "      <td>20090313091715820_q1</td>\n",
       "      <td>0</td>\n",
       "      <td>20090313091715820</td>\n",
       "      <td>1</td>\n",
       "    </tr>\n",
       "    <tr>\n",
       "      <th>4</th>\n",
       "      <td>20090313571836404_q1</td>\n",
       "      <td>1</td>\n",
       "      <td>20090313571836404</td>\n",
       "      <td>1</td>\n",
       "    </tr>\n",
       "  </tbody>\n",
       "</table>\n",
       "</div>"
      ],
      "text/plain": [
       "             session_id  correct            session  q\n",
       "0  20090312431273200_q1        1  20090312431273200  1\n",
       "1  20090312433251036_q1        0  20090312433251036  1\n",
       "2  20090312455206810_q1        1  20090312455206810  1\n",
       "3  20090313091715820_q1        0  20090313091715820  1\n",
       "4  20090313571836404_q1        1  20090313571836404  1"
      ]
     },
     "execution_count": 8,
     "metadata": {},
     "output_type": "execute_result"
    }
   ],
   "source": [
    "# Display the first 5 examples\n",
    "labels.head(5)"
   ]
  },
  {
   "cell_type": "markdown",
   "id": "9e89dcc6",
   "metadata": {
    "_cell_guid": "485073af-b103-48c0-8e8c-60c28ddc00fc",
    "_uuid": "d4215f16-78de-4f14-b9f3-b596b03f8433",
    "id": "y5fK05dsn2O_",
    "papermill": {
     "duration": 0.012773,
     "end_time": "2023-05-14T14:21:16.508056",
     "exception": false,
     "start_time": "2023-05-14T14:21:16.495283",
     "status": "completed"
    },
    "tags": []
   },
   "source": [
    "# Prepare the dataset"
   ]
  },
  {
   "cell_type": "code",
   "execution_count": 9,
   "id": "f3344feb",
   "metadata": {
    "_cell_guid": "9527a410-8159-421f-9ad6-f3c712fc7d87",
    "_uuid": "886d16af-f0f1-4c68-8e15-9802bd417f6e",
    "collapsed": false,
    "execution": {
     "iopub.execute_input": "2023-05-14T14:21:16.537204Z",
     "iopub.status.busy": "2023-05-14T14:21:16.536232Z",
     "iopub.status.idle": "2023-05-14T14:21:16.541053Z",
     "shell.execute_reply": "2023-05-14T14:21:16.540229Z"
    },
    "id": "cCZWGiL_n2PA",
    "jupyter": {
     "outputs_hidden": false
    },
    "papermill": {
     "duration": 0.021904,
     "end_time": "2023-05-14T14:21:16.543326",
     "exception": false,
     "start_time": "2023-05-14T14:21:16.521422",
     "status": "completed"
    },
    "tags": []
   },
   "outputs": [],
   "source": [
    "CATEGORICAL = ['event_name', 'name','fqid']\n",
    "NUMERICAL = ['level', 'hover_duration']"
   ]
  },
  {
   "cell_type": "code",
   "execution_count": 10,
   "id": "2ccba7e3",
   "metadata": {
    "_cell_guid": "296382db-98ff-4d66-83e7-6427b3d5ed34",
    "_uuid": "103d6961-f8a3-4f7e-aa15-6e5734724fea",
    "collapsed": false,
    "execution": {
     "iopub.execute_input": "2023-05-14T14:21:16.571665Z",
     "iopub.status.busy": "2023-05-14T14:21:16.571031Z",
     "iopub.status.idle": "2023-05-14T14:21:16.579389Z",
     "shell.execute_reply": "2023-05-14T14:21:16.578590Z"
    },
    "id": "nHWhAOtTn2PA",
    "jupyter": {
     "outputs_hidden": false
    },
    "papermill": {
     "duration": 0.02518,
     "end_time": "2023-05-14T14:21:16.581513",
     "exception": false,
     "start_time": "2023-05-14T14:21:16.556333",
     "status": "completed"
    },
    "tags": []
   },
   "outputs": [],
   "source": [
    "# Reference: https://www.kaggle.com/code/cdeotte/random-forest-baseline-0-664/notebook\n",
    "\n",
    "def feature_engineer(dataset_df):\n",
    "    dfs = []\n",
    "    for c in CATEGORICAL:\n",
    "        tmp = dataset_df.groupby(['session_id','level_group'])[c].agg('nunique')\n",
    "        tmp.name = tmp.name + '_nunique'\n",
    "        dfs.append(tmp)\n",
    "    for c in NUMERICAL:\n",
    "        tmp = dataset_df.groupby(['session_id','level_group'])[c].agg('mean')\n",
    "        dfs.append(tmp)\n",
    "    for c in NUMERICAL:\n",
    "        tmp = dataset_df.groupby(['session_id','level_group'])[c].agg('std')\n",
    "        tmp.name = tmp.name + '_std'\n",
    "        dfs.append(tmp)\n",
    "    dataset_df = pd.concat(dfs,axis=1)\n",
    "    dataset_df = dataset_df.fillna(-1)\n",
    "    dataset_df = dataset_df.reset_index()\n",
    "    dataset_df = dataset_df.set_index('session_id')\n",
    "    return dataset_df"
   ]
  },
  {
   "cell_type": "code",
   "execution_count": 11,
   "id": "a9301801",
   "metadata": {
    "_cell_guid": "45bc9dc9-3989-4ca7-98e4-d3afd460c63a",
    "_uuid": "01d021ca-a49b-4590-bf62-b43336a1ed3b",
    "collapsed": false,
    "execution": {
     "iopub.execute_input": "2023-05-14T14:21:16.610123Z",
     "iopub.status.busy": "2023-05-14T14:21:16.609382Z",
     "iopub.status.idle": "2023-05-14T14:21:33.418321Z",
     "shell.execute_reply": "2023-05-14T14:21:33.417453Z"
    },
    "id": "JKcoPoemn2PA",
    "jupyter": {
     "outputs_hidden": false
    },
    "papermill": {
     "duration": 16.825685,
     "end_time": "2023-05-14T14:21:33.420787",
     "exception": false,
     "start_time": "2023-05-14T14:21:16.595102",
     "status": "completed"
    },
    "tags": []
   },
   "outputs": [
    {
     "name": "stdout",
     "output_type": "stream",
     "text": [
      "Full prepared dataset shape is (70686, 8)\n"
     ]
    }
   ],
   "source": [
    "dataset_df = feature_engineer(dataset_df)\n",
    "print(\"Full prepared dataset shape is {}\".format(dataset_df.shape))"
   ]
  },
  {
   "cell_type": "markdown",
   "id": "f9f13fe9",
   "metadata": {
    "_cell_guid": "b056bb2b-a5f5-4a8f-a04b-f8a88e8a4a12",
    "_uuid": "045236c2-9366-4a08-8e9a-ca6c03e22831",
    "id": "891j7nc1n2PA",
    "papermill": {
     "duration": 0.013485,
     "end_time": "2023-05-14T14:21:33.448328",
     "exception": false,
     "start_time": "2023-05-14T14:21:33.434843",
     "status": "completed"
    },
    "tags": []
   },
   "source": [
    "Our feature engineered dataset is composed of 22 columns and 70686 entries."
   ]
  },
  {
   "cell_type": "code",
   "execution_count": 12,
   "id": "b3cc3d6c",
   "metadata": {
    "execution": {
     "iopub.execute_input": "2023-05-14T14:21:33.477709Z",
     "iopub.status.busy": "2023-05-14T14:21:33.476914Z",
     "iopub.status.idle": "2023-05-14T14:21:34.231674Z",
     "shell.execute_reply": "2023-05-14T14:21:34.230694Z"
    },
    "papermill": {
     "duration": 0.773257,
     "end_time": "2023-05-14T14:21:34.235281",
     "exception": false,
     "start_time": "2023-05-14T14:21:33.462024",
     "status": "completed"
    },
    "tags": []
   },
   "outputs": [],
   "source": [
    "# Group k Fold split data\n",
    "from sklearn.model_selection import KFold, GroupKFold\n",
    "import numpy as np\n",
    "ALL_USERS = dataset_df.index.unique()\n",
    "gkf = GroupKFold(n_splits=5)\n",
    "oof = pd.DataFrame(data=np.zeros((len(ALL_USERS), 18)), index=ALL_USERS) # set all users to 18 columns as each question & set index to session_id\n",
    "model = {}"
   ]
  },
  {
   "cell_type": "code",
   "execution_count": 13,
   "id": "0bbd0e9f",
   "metadata": {
    "execution": {
     "iopub.execute_input": "2023-05-14T14:21:34.276360Z",
     "iopub.status.busy": "2023-05-14T14:21:34.275576Z",
     "iopub.status.idle": "2023-05-14T14:21:34.311374Z",
     "shell.execute_reply": "2023-05-14T14:21:34.310501Z"
    },
    "papermill": {
     "duration": 0.059774,
     "end_time": "2023-05-14T14:21:34.314615",
     "exception": false,
     "start_time": "2023-05-14T14:21:34.254841",
     "status": "completed"
    },
    "tags": []
   },
   "outputs": [
    {
     "data": {
      "text/html": [
       "<div>\n",
       "<style scoped>\n",
       "    .dataframe tbody tr th:only-of-type {\n",
       "        vertical-align: middle;\n",
       "    }\n",
       "\n",
       "    .dataframe tbody tr th {\n",
       "        vertical-align: top;\n",
       "    }\n",
       "\n",
       "    .dataframe thead th {\n",
       "        text-align: right;\n",
       "    }\n",
       "</style>\n",
       "<table border=\"1\" class=\"dataframe\">\n",
       "  <thead>\n",
       "    <tr style=\"text-align: right;\">\n",
       "      <th></th>\n",
       "      <th>0</th>\n",
       "      <th>1</th>\n",
       "      <th>2</th>\n",
       "      <th>3</th>\n",
       "      <th>4</th>\n",
       "      <th>5</th>\n",
       "      <th>6</th>\n",
       "      <th>7</th>\n",
       "      <th>8</th>\n",
       "      <th>9</th>\n",
       "      <th>10</th>\n",
       "      <th>11</th>\n",
       "      <th>12</th>\n",
       "      <th>13</th>\n",
       "      <th>14</th>\n",
       "      <th>15</th>\n",
       "      <th>16</th>\n",
       "      <th>17</th>\n",
       "    </tr>\n",
       "    <tr>\n",
       "      <th>session_id</th>\n",
       "      <th></th>\n",
       "      <th></th>\n",
       "      <th></th>\n",
       "      <th></th>\n",
       "      <th></th>\n",
       "      <th></th>\n",
       "      <th></th>\n",
       "      <th></th>\n",
       "      <th></th>\n",
       "      <th></th>\n",
       "      <th></th>\n",
       "      <th></th>\n",
       "      <th></th>\n",
       "      <th></th>\n",
       "      <th></th>\n",
       "      <th></th>\n",
       "      <th></th>\n",
       "      <th></th>\n",
       "    </tr>\n",
       "  </thead>\n",
       "  <tbody>\n",
       "    <tr>\n",
       "      <th>20090312431273200</th>\n",
       "      <td>0.0</td>\n",
       "      <td>0.0</td>\n",
       "      <td>0.0</td>\n",
       "      <td>0.0</td>\n",
       "      <td>0.0</td>\n",
       "      <td>0.0</td>\n",
       "      <td>0.0</td>\n",
       "      <td>0.0</td>\n",
       "      <td>0.0</td>\n",
       "      <td>0.0</td>\n",
       "      <td>0.0</td>\n",
       "      <td>0.0</td>\n",
       "      <td>0.0</td>\n",
       "      <td>0.0</td>\n",
       "      <td>0.0</td>\n",
       "      <td>0.0</td>\n",
       "      <td>0.0</td>\n",
       "      <td>0.0</td>\n",
       "    </tr>\n",
       "    <tr>\n",
       "      <th>20090312433251036</th>\n",
       "      <td>0.0</td>\n",
       "      <td>0.0</td>\n",
       "      <td>0.0</td>\n",
       "      <td>0.0</td>\n",
       "      <td>0.0</td>\n",
       "      <td>0.0</td>\n",
       "      <td>0.0</td>\n",
       "      <td>0.0</td>\n",
       "      <td>0.0</td>\n",
       "      <td>0.0</td>\n",
       "      <td>0.0</td>\n",
       "      <td>0.0</td>\n",
       "      <td>0.0</td>\n",
       "      <td>0.0</td>\n",
       "      <td>0.0</td>\n",
       "      <td>0.0</td>\n",
       "      <td>0.0</td>\n",
       "      <td>0.0</td>\n",
       "    </tr>\n",
       "    <tr>\n",
       "      <th>20090312455206810</th>\n",
       "      <td>0.0</td>\n",
       "      <td>0.0</td>\n",
       "      <td>0.0</td>\n",
       "      <td>0.0</td>\n",
       "      <td>0.0</td>\n",
       "      <td>0.0</td>\n",
       "      <td>0.0</td>\n",
       "      <td>0.0</td>\n",
       "      <td>0.0</td>\n",
       "      <td>0.0</td>\n",
       "      <td>0.0</td>\n",
       "      <td>0.0</td>\n",
       "      <td>0.0</td>\n",
       "      <td>0.0</td>\n",
       "      <td>0.0</td>\n",
       "      <td>0.0</td>\n",
       "      <td>0.0</td>\n",
       "      <td>0.0</td>\n",
       "    </tr>\n",
       "    <tr>\n",
       "      <th>20090313091715820</th>\n",
       "      <td>0.0</td>\n",
       "      <td>0.0</td>\n",
       "      <td>0.0</td>\n",
       "      <td>0.0</td>\n",
       "      <td>0.0</td>\n",
       "      <td>0.0</td>\n",
       "      <td>0.0</td>\n",
       "      <td>0.0</td>\n",
       "      <td>0.0</td>\n",
       "      <td>0.0</td>\n",
       "      <td>0.0</td>\n",
       "      <td>0.0</td>\n",
       "      <td>0.0</td>\n",
       "      <td>0.0</td>\n",
       "      <td>0.0</td>\n",
       "      <td>0.0</td>\n",
       "      <td>0.0</td>\n",
       "      <td>0.0</td>\n",
       "    </tr>\n",
       "    <tr>\n",
       "      <th>20090313571836404</th>\n",
       "      <td>0.0</td>\n",
       "      <td>0.0</td>\n",
       "      <td>0.0</td>\n",
       "      <td>0.0</td>\n",
       "      <td>0.0</td>\n",
       "      <td>0.0</td>\n",
       "      <td>0.0</td>\n",
       "      <td>0.0</td>\n",
       "      <td>0.0</td>\n",
       "      <td>0.0</td>\n",
       "      <td>0.0</td>\n",
       "      <td>0.0</td>\n",
       "      <td>0.0</td>\n",
       "      <td>0.0</td>\n",
       "      <td>0.0</td>\n",
       "      <td>0.0</td>\n",
       "      <td>0.0</td>\n",
       "      <td>0.0</td>\n",
       "    </tr>\n",
       "  </tbody>\n",
       "</table>\n",
       "</div>"
      ],
      "text/plain": [
       "                    0    1    2    3    4    5    6    7    8    9    10   11  \\\n",
       "session_id                                                                      \n",
       "20090312431273200  0.0  0.0  0.0  0.0  0.0  0.0  0.0  0.0  0.0  0.0  0.0  0.0   \n",
       "20090312433251036  0.0  0.0  0.0  0.0  0.0  0.0  0.0  0.0  0.0  0.0  0.0  0.0   \n",
       "20090312455206810  0.0  0.0  0.0  0.0  0.0  0.0  0.0  0.0  0.0  0.0  0.0  0.0   \n",
       "20090313091715820  0.0  0.0  0.0  0.0  0.0  0.0  0.0  0.0  0.0  0.0  0.0  0.0   \n",
       "20090313571836404  0.0  0.0  0.0  0.0  0.0  0.0  0.0  0.0  0.0  0.0  0.0  0.0   \n",
       "\n",
       "                    12   13   14   15   16   17  \n",
       "session_id                                       \n",
       "20090312431273200  0.0  0.0  0.0  0.0  0.0  0.0  \n",
       "20090312433251036  0.0  0.0  0.0  0.0  0.0  0.0  \n",
       "20090312455206810  0.0  0.0  0.0  0.0  0.0  0.0  \n",
       "20090313091715820  0.0  0.0  0.0  0.0  0.0  0.0  \n",
       "20090313571836404  0.0  0.0  0.0  0.0  0.0  0.0  "
      ]
     },
     "execution_count": 13,
     "metadata": {},
     "output_type": "execute_result"
    }
   ],
   "source": [
    "oof.head()"
   ]
  },
  {
   "cell_type": "markdown",
   "id": "d61430da",
   "metadata": {
    "_cell_guid": "1f2937b8-bae3-437c-8de6-560e1c37a905",
    "_uuid": "42d4108f-0a69-47c7-b707-c615f6410417",
    "id": "Ij7TT3x-n2PB",
    "papermill": {
     "duration": 0.014138,
     "end_time": "2023-05-14T14:21:34.346825",
     "exception": false,
     "start_time": "2023-05-14T14:21:34.332687",
     "status": "completed"
    },
    "tags": []
   },
   "source": [
    "## Prepared dataset"
   ]
  },
  {
   "cell_type": "code",
   "execution_count": 14,
   "id": "d233c7ec",
   "metadata": {
    "_cell_guid": "29231f51-e49f-458a-b880-f8a51e82c7d9",
    "_uuid": "e169155e-f9bc-414f-a814-78c982e6b46a",
    "collapsed": false,
    "execution": {
     "iopub.execute_input": "2023-05-14T14:21:34.377193Z",
     "iopub.status.busy": "2023-05-14T14:21:34.376807Z",
     "iopub.status.idle": "2023-05-14T14:21:34.484037Z",
     "shell.execute_reply": "2023-05-14T14:21:34.482730Z"
    },
    "id": "OZfTcCJfn2PC",
    "jupyter": {
     "outputs_hidden": false
    },
    "papermill": {
     "duration": 0.125491,
     "end_time": "2023-05-14T14:21:34.486733",
     "exception": false,
     "start_time": "2023-05-14T14:21:34.361242",
     "status": "completed"
    },
    "tags": []
   },
   "outputs": [
    {
     "name": "stdout",
     "output_type": "stream",
     "text": [
      "56547 examples in training, 14139 examples in testing.\n"
     ]
    }
   ],
   "source": [
    "# split the dataset into training and testing datasets\n",
    "\n",
    "def split_dataset(dataset, test_ratio=0.20):\n",
    "    USER_LIST = dataset_df.index.unique()\n",
    "    split = int(len(USER_LIST) * (1 - 0.20))\n",
    "    return dataset.loc[USER_LIST[:split]], dataset.loc[USER_LIST[split:]]\n",
    "\n",
    "train_x, valid_x = split_dataset(dataset_df)\n",
    "print(\"{} examples in training, {} examples in testing.\".format(\n",
    "    len(train_x), len(valid_x)))"
   ]
  },
  {
   "cell_type": "markdown",
   "id": "f7969beb",
   "metadata": {
    "_cell_guid": "5ccc7b81-2cf5-4828-aafa-02f5004eaa36",
    "_uuid": "653fd608-23cc-4f26-aece-b69315787daa",
    "id": "ZnVfKZfzn2PE",
    "papermill": {
     "duration": 0.014289,
     "end_time": "2023-05-14T14:21:34.515625",
     "exception": false,
     "start_time": "2023-05-14T14:21:34.501336",
     "status": "completed"
    },
    "tags": []
   },
   "source": [
    "## Select a Model\n",
    "\n",
    "- RandomForestModel\n",
    "- GradientBoostedTreesModel\n",
    "- CartModel\n",
    "- DistributedGradientBoostedTreesModel"
   ]
  },
  {
   "cell_type": "code",
   "execution_count": 15,
   "id": "058c63ad",
   "metadata": {
    "_cell_guid": "1024bfc0-1b13-4220-8f00-52193199d5c5",
    "_uuid": "7e175861-93bd-4051-ab39-db2451a014a2",
    "collapsed": false,
    "execution": {
     "iopub.execute_input": "2023-05-14T14:21:34.550008Z",
     "iopub.status.busy": "2023-05-14T14:21:34.549264Z",
     "iopub.status.idle": "2023-05-14T14:21:34.556350Z",
     "shell.execute_reply": "2023-05-14T14:21:34.555486Z"
    },
    "id": "KZBdcVU1n2PE",
    "jupyter": {
     "outputs_hidden": false
    },
    "papermill": {
     "duration": 0.029094,
     "end_time": "2023-05-14T14:21:34.559485",
     "exception": false,
     "start_time": "2023-05-14T14:21:34.530391",
     "status": "completed"
    },
    "tags": []
   },
   "outputs": [
    {
     "data": {
      "text/plain": [
       "[tensorflow_decision_forests.keras.RandomForestModel,\n",
       " tensorflow_decision_forests.keras.GradientBoostedTreesModel,\n",
       " tensorflow_decision_forests.keras.CartModel,\n",
       " tensorflow_decision_forests.keras.DistributedGradientBoostedTreesModel]"
      ]
     },
     "execution_count": 15,
     "metadata": {},
     "output_type": "execute_result"
    }
   ],
   "source": [
    "tfdf.keras.get_all_models()"
   ]
  },
  {
   "cell_type": "markdown",
   "id": "989920b6",
   "metadata": {
    "_cell_guid": "ed120449-1fd1-4bfe-a823-0829876a63b8",
    "_uuid": "7ebd9427-fccb-4794-9299-7d7ce762dd07",
    "id": "UdibIrM-XP5-",
    "papermill": {
     "duration": 0.014474,
     "end_time": "2023-05-14T14:21:34.591217",
     "exception": false,
     "start_time": "2023-05-14T14:21:34.576743",
     "status": "completed"
    },
    "tags": []
   },
   "source": [
    "# Training"
   ]
  },
  {
   "cell_type": "code",
   "execution_count": 16,
   "id": "f17c212f",
   "metadata": {
    "_cell_guid": "5a2a9e7c-8ca4-4bcd-8438-fffe8c05d75f",
    "_uuid": "351d9e6d-e32a-4ae5-a32e-35df52c487f3",
    "collapsed": false,
    "execution": {
     "iopub.execute_input": "2023-05-14T14:21:34.621668Z",
     "iopub.status.busy": "2023-05-14T14:21:34.621247Z",
     "iopub.status.idle": "2023-05-14T14:21:34.634102Z",
     "shell.execute_reply": "2023-05-14T14:21:34.629526Z"
    },
    "id": "7Brds67Wn2PD",
    "jupyter": {
     "outputs_hidden": false
    },
    "papermill": {
     "duration": 0.031369,
     "end_time": "2023-05-14T14:21:34.636930",
     "exception": false,
     "start_time": "2023-05-14T14:21:34.605561",
     "status": "completed"
    },
    "tags": []
   },
   "outputs": [],
   "source": [
    "# Fetch the unique list of user sessions in the validation dataset. We assigned \n",
    "# `session_id` as the index of our feature engineered dataset. Hence fetching \n",
    "# the unique values in the index column will give us a list of users in the \n",
    "# validation set.\n",
    "VALID_USER_LIST = valid_x.index.unique()\n",
    "\n",
    "# Create a dataframe for storing the predictions of each question for all users\n",
    "# in the validation set.\n",
    "# For this, the required size of the data frame is: \n",
    "# (no: of users in validation set  x no of questions).\n",
    "# We will initialize all the predicted values in the data frame to zero.\n",
    "# The dataframe's index column is the user `session_id`s. \n",
    "prediction_df = pd.DataFrame(data=np.zeros((len(VALID_USER_LIST),18)), index=VALID_USER_LIST)\n",
    "\n",
    "# Create an empty dictionary to store the models created for each question.\n",
    "models = {}\n",
    "\n",
    "# Create an empty dictionary to store the evaluation score for each question.\n",
    "evaluation_dict ={}"
   ]
  },
  {
   "cell_type": "code",
   "execution_count": 17,
   "id": "cbb9123e",
   "metadata": {
    "_cell_guid": "ff4a9550-9bc1-4a54-bdf8-ff62361e7492",
    "_uuid": "dfc66f88-1fc4-4726-ac52-b5bd33b2757a",
    "collapsed": false,
    "execution": {
     "iopub.execute_input": "2023-05-14T14:21:34.669214Z",
     "iopub.status.busy": "2023-05-14T14:21:34.668167Z",
     "iopub.status.idle": "2023-05-14T14:23:21.070805Z",
     "shell.execute_reply": "2023-05-14T14:23:21.069843Z"
    },
    "id": "VBO3VCOJn2PF",
    "jupyter": {
     "outputs_hidden": false
    },
    "papermill": {
     "duration": 106.421263,
     "end_time": "2023-05-14T14:23:21.073150",
     "exception": false,
     "start_time": "2023-05-14T14:21:34.651887",
     "status": "completed"
    },
    "tags": []
   },
   "outputs": [
    {
     "name": "stdout",
     "output_type": "stream",
     "text": [
      "### q_no 1 grp 0-4\n",
      "Use /tmp/tmpak3hdzaf as temporary training directory\n"
     ]
    },
    {
     "name": "stderr",
     "output_type": "stream",
     "text": [
      "/opt/conda/lib/python3.7/site-packages/ipykernel_launcher.py:23: SettingWithCopyWarning: \n",
      "A value is trying to be set on a copy of a slice from a DataFrame.\n",
      "Try using .loc[row_indexer,col_indexer] = value instead\n",
      "\n",
      "See the caveats in the documentation: https://pandas.pydata.org/pandas-docs/stable/user_guide/indexing.html#returning-a-view-versus-a-copy\n",
      "/opt/conda/lib/python3.7/site-packages/ipykernel_launcher.py:24: SettingWithCopyWarning: \n",
      "A value is trying to be set on a copy of a slice from a DataFrame.\n",
      "Try using .loc[row_indexer,col_indexer] = value instead\n",
      "\n",
      "See the caveats in the documentation: https://pandas.pydata.org/pandas-docs/stable/user_guide/indexing.html#returning-a-view-versus-a-copy\n"
     ]
    },
    {
     "name": "stdout",
     "output_type": "stream",
     "text": [
      "Reading training dataset...\n",
      "Training dataset read in 0:00:07.827994. Found 18849 examples.\n",
      "Training model...\n"
     ]
    },
    {
     "name": "stderr",
     "output_type": "stream",
     "text": [
      "[INFO 2023-05-14T14:21:46.094806826+00:00 kernel.cc:1214] Loading model from path /tmp/tmpak3hdzaf/model/ with prefix 37b68287e46f4c88\n"
     ]
    },
    {
     "name": "stdout",
     "output_type": "stream",
     "text": [
      "Model trained in 0:00:03.977500\n",
      "Compiling model...\n"
     ]
    },
    {
     "name": "stderr",
     "output_type": "stream",
     "text": [
      "[INFO 2023-05-14T14:21:46.684138791+00:00 decision_forest.cc:661] Model loaded with 100 root(s), 145728 node(s), and 7 input feature(s).\n",
      "[INFO 2023-05-14T14:21:46.684192119+00:00 abstract_model.cc:1311] Engine \"RandomForestOptPred\" built\n",
      "[INFO 2023-05-14T14:21:46.68493589+00:00 kernel.cc:1046] Use fast generic engine\n"
     ]
    },
    {
     "name": "stdout",
     "output_type": "stream",
     "text": [
      "WARNING: AutoGraph could not transform <function simple_ml_inference_op_with_handle at 0x7bb8b1213440> and will run it as-is.\n",
      "Please report this to the TensorFlow team. When filing the bug, set the verbosity to 10 (on Linux, `export AUTOGRAPH_VERBOSITY=10`) and attach the full output.\n",
      "Cause: could not get source code\n",
      "To silence this warning, decorate the function with @tf.autograph.experimental.do_not_convert\n",
      "Model compiled.\n",
      "5/5 [==============================] - 1s 14ms/step - loss: 0.0000e+00 - accuracy: 0.7282\n",
      "5/5 [==============================] - 0s 13ms/step\n",
      "### q_no 2 grp 0-4\n",
      "Use /tmp/tmplaaldp5s as temporary training directory\n",
      "Reading training dataset...\n",
      "Training dataset read in 0:00:00.566027. Found 18849 examples.\n",
      "Training model...\n"
     ]
    },
    {
     "name": "stderr",
     "output_type": "stream",
     "text": [
      "[INFO 2023-05-14T14:21:56.584146888+00:00 kernel.cc:1214] Loading model from path /tmp/tmplaaldp5s/model/ with prefix 5ac8566dcafe4087\n",
      "[INFO 2023-05-14T14:21:56.781404843+00:00 decision_forest.cc:661] Model loaded with 100 root(s), 51904 node(s), and 7 input feature(s).\n",
      "[INFO 2023-05-14T14:21:56.781514488+00:00 abstract_model.cc:1311] Engine \"RandomForestOptPred\" built\n",
      "[INFO 2023-05-14T14:21:56.781541563+00:00 kernel.cc:1046] Use fast generic engine\n"
     ]
    },
    {
     "name": "stdout",
     "output_type": "stream",
     "text": [
      "Model trained in 0:00:02.480469\n",
      "Compiling model...\n",
      "Model compiled.\n",
      "5/5 [==============================] - 0s 13ms/step - loss: 0.0000e+00 - accuracy: 0.9756\n",
      "5/5 [==============================] - 0s 14ms/step\n",
      "### q_no 3 grp 0-4\n",
      "Use /tmp/tmpq0fl4zvt as temporary training directory\n",
      "Reading training dataset...\n",
      "Training dataset read in 0:00:00.336538. Found 18849 examples.\n",
      "Training model...\n"
     ]
    },
    {
     "name": "stderr",
     "output_type": "stream",
     "text": [
      "[INFO 2023-05-14T14:22:02.946745229+00:00 kernel.cc:1214] Loading model from path /tmp/tmpq0fl4zvt/model/ with prefix f2a1a6a8662b4511\n"
     ]
    },
    {
     "name": "stdout",
     "output_type": "stream",
     "text": [
      "Model trained in 0:00:03.208819\n",
      "Compiling model...\n",
      "Model compiled.\n"
     ]
    },
    {
     "name": "stderr",
     "output_type": "stream",
     "text": [
      "[INFO 2023-05-14T14:22:03.304987977+00:00 decision_forest.cc:661] Model loaded with 100 root(s), 91036 node(s), and 7 input feature(s).\n",
      "[INFO 2023-05-14T14:22:03.305048636+00:00 kernel.cc:1046] Use fast generic engine\n"
     ]
    },
    {
     "name": "stdout",
     "output_type": "stream",
     "text": [
      "5/5 [==============================] - 0s 15ms/step - loss: 0.0000e+00 - accuracy: 0.9353\n",
      "5/5 [==============================] - 0s 13ms/step\n",
      "### q_no 4 grp 5-12\n",
      "Use /tmp/tmpdmi0yipd as temporary training directory\n",
      "Reading training dataset...\n",
      "Training dataset read in 0:00:00.319712. Found 18849 examples.\n",
      "Training model...\n"
     ]
    },
    {
     "name": "stderr",
     "output_type": "stream",
     "text": [
      "[INFO 2023-05-14T14:22:07.683504615+00:00 kernel.cc:1214] Loading model from path /tmp/tmpdmi0yipd/model/ with prefix 6ce78c98e2b549c1\n"
     ]
    },
    {
     "name": "stdout",
     "output_type": "stream",
     "text": [
      "Model trained in 0:00:04.089105\n",
      "Compiling model...\n"
     ]
    },
    {
     "name": "stderr",
     "output_type": "stream",
     "text": [
      "[INFO 2023-05-14T14:22:08.298358558+00:00 decision_forest.cc:661] Model loaded with 100 root(s), 164566 node(s), and 7 input feature(s).\n",
      "[INFO 2023-05-14T14:22:08.298412791+00:00 abstract_model.cc:1311] Engine \"RandomForestOptPred\" built\n",
      "[INFO 2023-05-14T14:22:08.298449419+00:00 kernel.cc:1046] Use fast generic engine\n"
     ]
    },
    {
     "name": "stdout",
     "output_type": "stream",
     "text": [
      "Model compiled.\n",
      "5/5 [==============================] - 0s 13ms/step - loss: 0.0000e+00 - accuracy: 0.7914\n",
      "5/5 [==============================] - 0s 12ms/step\n",
      "### q_no 5 grp 5-12\n",
      "Use /tmp/tmp1ueoc8ao as temporary training directory\n",
      "Reading training dataset...\n",
      "Training dataset read in 0:00:00.315749. Found 18849 examples.\n",
      "Training model...\n"
     ]
    },
    {
     "name": "stderr",
     "output_type": "stream",
     "text": [
      "[INFO 2023-05-14T14:22:13.267842075+00:00 kernel.cc:1214] Loading model from path /tmp/tmp1ueoc8ao/model/ with prefix 1f0298e677914142\n"
     ]
    },
    {
     "name": "stdout",
     "output_type": "stream",
     "text": [
      "Model trained in 0:00:03.905894\n",
      "Compiling model...\n"
     ]
    },
    {
     "name": "stderr",
     "output_type": "stream",
     "text": [
      "[INFO 2023-05-14T14:22:13.963453531+00:00 decision_forest.cc:661] Model loaded with 100 root(s), 174722 node(s), and 7 input feature(s).\n",
      "[INFO 2023-05-14T14:22:13.963531539+00:00 kernel.cc:1046] Use fast generic engine\n"
     ]
    },
    {
     "name": "stdout",
     "output_type": "stream",
     "text": [
      "Model compiled.\n",
      "5/5 [==============================] - 0s 15ms/step - loss: 0.0000e+00 - accuracy: 0.6015\n",
      "5/5 [==============================] - 0s 13ms/step\n",
      "### q_no 6 grp 5-12\n",
      "Use /tmp/tmphx6b1rqm as temporary training directory\n",
      "Reading training dataset...\n",
      "Training dataset read in 0:00:00.327270. Found 18849 examples.\n",
      "Training model...\n"
     ]
    },
    {
     "name": "stderr",
     "output_type": "stream",
     "text": [
      "[INFO 2023-05-14T14:22:18.136476808+00:00 kernel.cc:1214] Loading model from path /tmp/tmphx6b1rqm/model/ with prefix e924ba2658a24685\n"
     ]
    },
    {
     "name": "stdout",
     "output_type": "stream",
     "text": [
      "Model trained in 0:00:03.754682\n",
      "Compiling model...\n"
     ]
    },
    {
     "name": "stderr",
     "output_type": "stream",
     "text": [
      "[INFO 2023-05-14T14:22:18.787818801+00:00 decision_forest.cc:661] Model loaded with 100 root(s), 164974 node(s), and 7 input feature(s).\n",
      "[INFO 2023-05-14T14:22:18.787874514+00:00 abstract_model.cc:1311] Engine \"RandomForestOptPred\" built\n",
      "[INFO 2023-05-14T14:22:18.787900585+00:00 kernel.cc:1046] Use fast generic engine\n"
     ]
    },
    {
     "name": "stdout",
     "output_type": "stream",
     "text": [
      "Model compiled.\n",
      "5/5 [==============================] - 0s 13ms/step - loss: 0.0000e+00 - accuracy: 0.7819\n",
      "5/5 [==============================] - 0s 14ms/step\n",
      "### q_no 7 grp 5-12\n",
      "Use /tmp/tmpbgu6d3lu as temporary training directory\n",
      "Reading training dataset...\n",
      "Training dataset read in 0:00:00.332664. Found 18849 examples.\n",
      "Training model...\n"
     ]
    },
    {
     "name": "stderr",
     "output_type": "stream",
     "text": [
      "[INFO 2023-05-14T14:22:24.026213465+00:00 kernel.cc:1214] Loading model from path /tmp/tmpbgu6d3lu/model/ with prefix 8a20e1d4b3154c03\n"
     ]
    },
    {
     "name": "stdout",
     "output_type": "stream",
     "text": [
      "Model trained in 0:00:03.831452\n",
      "Compiling model...\n"
     ]
    },
    {
     "name": "stderr",
     "output_type": "stream",
     "text": [
      "[INFO 2023-05-14T14:22:24.672324521+00:00 decision_forest.cc:661] Model loaded with 100 root(s), 160228 node(s), and 7 input feature(s).\n",
      "[INFO 2023-05-14T14:22:24.672388435+00:00 kernel.cc:1046] Use fast generic engine\n"
     ]
    },
    {
     "name": "stdout",
     "output_type": "stream",
     "text": [
      "Model compiled.\n",
      "5/5 [==============================] - 0s 14ms/step - loss: 0.0000e+00 - accuracy: 0.7411\n",
      "5/5 [==============================] - 0s 12ms/step\n",
      "### q_no 8 grp 5-12\n",
      "Use /tmp/tmpm3vv7g7d as temporary training directory\n",
      "Reading training dataset...\n",
      "Training dataset read in 0:00:00.329994. Found 18849 examples.\n",
      "Training model...\n"
     ]
    },
    {
     "name": "stderr",
     "output_type": "stream",
     "text": [
      "[INFO 2023-05-14T14:22:28.641529203+00:00 kernel.cc:1214] Loading model from path /tmp/tmpm3vv7g7d/model/ with prefix e57a4066c66c40c2\n"
     ]
    },
    {
     "name": "stdout",
     "output_type": "stream",
     "text": [
      "Model trained in 0:00:03.550609\n",
      "Compiling model...\n",
      "Model compiled.\n"
     ]
    },
    {
     "name": "stderr",
     "output_type": "stream",
     "text": [
      "[INFO 2023-05-14T14:22:29.153131986+00:00 decision_forest.cc:661] Model loaded with 100 root(s), 131774 node(s), and 7 input feature(s).\n",
      "[INFO 2023-05-14T14:22:29.153187529+00:00 abstract_model.cc:1311] Engine \"RandomForestOptPred\" built\n",
      "[INFO 2023-05-14T14:22:29.153213589+00:00 kernel.cc:1046] Use fast generic engine\n"
     ]
    },
    {
     "name": "stdout",
     "output_type": "stream",
     "text": [
      "5/5 [==============================] - 0s 12ms/step - loss: 0.0000e+00 - accuracy: 0.6308\n",
      "5/5 [==============================] - 0s 12ms/step\n",
      "### q_no 9 grp 5-12\n",
      "Use /tmp/tmpx6rzkbz8 as temporary training directory\n",
      "Reading training dataset...\n",
      "Training dataset read in 0:00:00.325631. Found 18849 examples.\n",
      "Training model...\n"
     ]
    },
    {
     "name": "stderr",
     "output_type": "stream",
     "text": [
      "[INFO 2023-05-14T14:22:34.557564457+00:00 kernel.cc:1214] Loading model from path /tmp/tmpx6rzkbz8/model/ with prefix 092c871416904a59\n"
     ]
    },
    {
     "name": "stdout",
     "output_type": "stream",
     "text": [
      "Model trained in 0:00:03.824778\n",
      "Compiling model...\n"
     ]
    },
    {
     "name": "stderr",
     "output_type": "stream",
     "text": [
      "[INFO 2023-05-14T14:22:35.189846678+00:00 decision_forest.cc:661] Model loaded with 100 root(s), 161216 node(s), and 7 input feature(s).\n",
      "[INFO 2023-05-14T14:22:35.189906497+00:00 kernel.cc:1046] Use fast generic engine\n"
     ]
    },
    {
     "name": "stdout",
     "output_type": "stream",
     "text": [
      "Model compiled.\n",
      "5/5 [==============================] - 0s 13ms/step - loss: 0.0000e+00 - accuracy: 0.7621\n",
      "5/5 [==============================] - 0s 14ms/step\n",
      "### q_no 10 grp 5-12\n",
      "Use /tmp/tmp9tgv4y6n as temporary training directory\n",
      "Reading training dataset...\n",
      "Training dataset read in 0:00:00.338845. Found 18849 examples.\n",
      "Training model...\n"
     ]
    },
    {
     "name": "stderr",
     "output_type": "stream",
     "text": [
      "[INFO 2023-05-14T14:22:39.699750517+00:00 kernel.cc:1214] Loading model from path /tmp/tmp9tgv4y6n/model/ with prefix b1a81bbf49e14eaf\n"
     ]
    },
    {
     "name": "stdout",
     "output_type": "stream",
     "text": [
      "Model trained in 0:00:04.105667\n",
      "Compiling model...\n"
     ]
    },
    {
     "name": "stderr",
     "output_type": "stream",
     "text": [
      "[INFO 2023-05-14T14:22:40.3149395+00:00 decision_forest.cc:661] Model loaded with 100 root(s), 156556 node(s), and 7 input feature(s).\n",
      "[INFO 2023-05-14T14:22:40.314997102+00:00 abstract_model.cc:1311] Engine \"RandomForestOptPred\" built\n",
      "[INFO 2023-05-14T14:22:40.315023741+00:00 kernel.cc:1046] Use fast generic engine\n"
     ]
    },
    {
     "name": "stdout",
     "output_type": "stream",
     "text": [
      "Model compiled.\n",
      "5/5 [==============================] - 0s 14ms/step - loss: 0.0000e+00 - accuracy: 0.5886\n",
      "5/5 [==============================] - 0s 12ms/step\n",
      "### q_no 11 grp 5-12\n",
      "Use /tmp/tmpha_ust3l as temporary training directory\n",
      "Reading training dataset...\n",
      "Training dataset read in 0:00:00.326423. Found 18849 examples.\n",
      "Training model...\n"
     ]
    },
    {
     "name": "stderr",
     "output_type": "stream",
     "text": [
      "[INFO 2023-05-14T14:22:44.197400702+00:00 kernel.cc:1214] Loading model from path /tmp/tmpha_ust3l/model/ with prefix 694e556e57274a28\n"
     ]
    },
    {
     "name": "stdout",
     "output_type": "stream",
     "text": [
      "Model trained in 0:00:03.484896\n",
      "Compiling model...\n",
      "Model compiled.\n"
     ]
    },
    {
     "name": "stderr",
     "output_type": "stream",
     "text": [
      "[INFO 2023-05-14T14:22:44.705061279+00:00 decision_forest.cc:661] Model loaded with 100 root(s), 129900 node(s), and 7 input feature(s).\n",
      "[INFO 2023-05-14T14:22:44.70512139+00:00 kernel.cc:1046] Use fast generic engine\n"
     ]
    },
    {
     "name": "stdout",
     "output_type": "stream",
     "text": [
      "5/5 [==============================] - 0s 14ms/step - loss: 0.0000e+00 - accuracy: 0.6478\n",
      "5/5 [==============================] - 0s 14ms/step\n",
      "### q_no 12 grp 5-12\n",
      "Use /tmp/tmp3_oibxyt as temporary training directory\n",
      "Reading training dataset...\n",
      "Training dataset read in 0:00:00.331785. Found 18849 examples.\n",
      "Training model...\n"
     ]
    },
    {
     "name": "stderr",
     "output_type": "stream",
     "text": [
      "[INFO 2023-05-14T14:22:48.772424302+00:00 kernel.cc:1214] Loading model from path /tmp/tmp3_oibxyt/model/ with prefix 24b96d9b2c0c4f9d\n"
     ]
    },
    {
     "name": "stdout",
     "output_type": "stream",
     "text": [
      "Model trained in 0:00:03.518737\n",
      "Compiling model...\n"
     ]
    },
    {
     "name": "stderr",
     "output_type": "stream",
     "text": [
      "[INFO 2023-05-14T14:22:49.266826155+00:00 decision_forest.cc:661] Model loaded with 100 root(s), 125994 node(s), and 7 input feature(s).\n",
      "[INFO 2023-05-14T14:22:49.266888617+00:00 kernel.cc:1046] Use fast generic engine\n"
     ]
    },
    {
     "name": "stdout",
     "output_type": "stream",
     "text": [
      "Model compiled.\n",
      "5/5 [==============================] - 0s 17ms/step - loss: 0.0000e+00 - accuracy: 0.8699\n",
      "5/5 [==============================] - 0s 12ms/step\n",
      "### q_no 13 grp 5-12\n",
      "Use /tmp/tmp25e7cxy_ as temporary training directory\n",
      "Reading training dataset...\n",
      "Training dataset read in 0:00:00.329872. Found 18849 examples.\n",
      "Training model...\n"
     ]
    },
    {
     "name": "stderr",
     "output_type": "stream",
     "text": [
      "[INFO 2023-05-14T14:22:54.716591339+00:00 kernel.cc:1214] Loading model from path /tmp/tmp25e7cxy_/model/ with prefix 2ec43036d1144c8f\n"
     ]
    },
    {
     "name": "stdout",
     "output_type": "stream",
     "text": [
      "Model trained in 0:00:03.690657\n",
      "Compiling model...\n",
      "Model compiled.\n"
     ]
    },
    {
     "name": "stderr",
     "output_type": "stream",
     "text": [
      "[INFO 2023-05-14T14:22:55.290696937+00:00 decision_forest.cc:661] Model loaded with 100 root(s), 148218 node(s), and 7 input feature(s).\n",
      "[INFO 2023-05-14T14:22:55.290751243+00:00 abstract_model.cc:1311] Engine \"RandomForestOptPred\" built\n",
      "[INFO 2023-05-14T14:22:55.290777993+00:00 kernel.cc:1046] Use fast generic engine\n"
     ]
    },
    {
     "name": "stdout",
     "output_type": "stream",
     "text": [
      "5/5 [==============================] - 0s 13ms/step - loss: 0.0000e+00 - accuracy: 0.7167\n",
      "5/5 [==============================] - 0s 12ms/step\n",
      "### q_no 14 grp 13-22\n",
      "Use /tmp/tmp_nqj7ru4 as temporary training directory\n",
      "Reading training dataset...\n",
      "Training dataset read in 0:00:00.330310. Found 18849 examples.\n",
      "Training model...\n"
     ]
    },
    {
     "name": "stderr",
     "output_type": "stream",
     "text": [
      "[INFO 2023-05-14T14:22:59.551683102+00:00 kernel.cc:1214] Loading model from path /tmp/tmp_nqj7ru4/model/ with prefix 420df92c1b3441ef\n"
     ]
    },
    {
     "name": "stdout",
     "output_type": "stream",
     "text": [
      "Model trained in 0:00:03.833282\n",
      "Compiling model...\n"
     ]
    },
    {
     "name": "stderr",
     "output_type": "stream",
     "text": [
      "[INFO 2023-05-14T14:23:00.164878495+00:00 decision_forest.cc:661] Model loaded with 100 root(s), 155906 node(s), and 7 input feature(s).\n",
      "[INFO 2023-05-14T14:23:00.164937046+00:00 kernel.cc:1046] Use fast generic engine\n"
     ]
    },
    {
     "name": "stdout",
     "output_type": "stream",
     "text": [
      "Model compiled.\n",
      "5/5 [==============================] - 0s 14ms/step - loss: 0.0000e+00 - accuracy: 0.7295\n",
      "5/5 [==============================] - 0s 14ms/step\n",
      "### q_no 15 grp 13-22\n",
      "Use /tmp/tmp_nzizt58 as temporary training directory\n",
      "Reading training dataset...\n",
      "Training dataset read in 0:00:00.354397. Found 18849 examples.\n",
      "Training model...\n"
     ]
    },
    {
     "name": "stderr",
     "output_type": "stream",
     "text": [
      "[INFO 2023-05-14T14:23:04.396953894+00:00 kernel.cc:1214] Loading model from path /tmp/tmp_nzizt58/model/ with prefix 21063291663b41ae\n"
     ]
    },
    {
     "name": "stdout",
     "output_type": "stream",
     "text": [
      "Model trained in 0:00:03.753807\n",
      "Compiling model...\n"
     ]
    },
    {
     "name": "stderr",
     "output_type": "stream",
     "text": [
      "[INFO 2023-05-14T14:23:04.988263817+00:00 decision_forest.cc:661] Model loaded with 100 root(s), 149654 node(s), and 7 input feature(s).\n",
      "[INFO 2023-05-14T14:23:04.98833091+00:00 kernel.cc:1046] Use fast generic engine\n"
     ]
    },
    {
     "name": "stdout",
     "output_type": "stream",
     "text": [
      "Model compiled.\n",
      "5/5 [==============================] - 0s 16ms/step - loss: 0.0000e+00 - accuracy: 0.5799\n",
      "5/5 [==============================] - 0s 13ms/step\n",
      "### q_no 16 grp 13-22\n",
      "Use /tmp/tmpyvhhz1ef as temporary training directory\n",
      "Reading training dataset...\n",
      "Training dataset read in 0:00:00.343473. Found 18849 examples.\n",
      "Training model...\n"
     ]
    },
    {
     "name": "stderr",
     "output_type": "stream",
     "text": [
      "[INFO 2023-05-14T14:23:08.835981418+00:00 kernel.cc:1214] Loading model from path /tmp/tmpyvhhz1ef/model/ with prefix 24a3189a716b47b6\n"
     ]
    },
    {
     "name": "stdout",
     "output_type": "stream",
     "text": [
      "Model trained in 0:00:03.173248\n",
      "Compiling model...\n",
      "Model compiled.\n"
     ]
    },
    {
     "name": "stderr",
     "output_type": "stream",
     "text": [
      "[INFO 2023-05-14T14:23:09.185709837+00:00 decision_forest.cc:661] Model loaded with 100 root(s), 86548 node(s), and 7 input feature(s).\n",
      "[INFO 2023-05-14T14:23:09.18581452+00:00 abstract_model.cc:1311] Engine \"RandomForestOptPred\" built\n",
      "[INFO 2023-05-14T14:23:09.185854288+00:00 kernel.cc:1046] Use fast generic engine\n"
     ]
    },
    {
     "name": "stdout",
     "output_type": "stream",
     "text": [
      "5/5 [==============================] - 0s 16ms/step - loss: 0.0000e+00 - accuracy: 0.7475\n",
      "5/5 [==============================] - 0s 12ms/step\n",
      "### q_no 17 grp 13-22\n",
      "Use /tmp/tmpoy5iwoa7 as temporary training directory\n",
      "Reading training dataset...\n",
      "Training dataset read in 0:00:00.320594. Found 18849 examples.\n",
      "Training model...\n"
     ]
    },
    {
     "name": "stderr",
     "output_type": "stream",
     "text": [
      "[INFO 2023-05-14T14:23:14.826124267+00:00 kernel.cc:1214] Loading model from path /tmp/tmpoy5iwoa7/model/ with prefix 437d889f36874b71\n"
     ]
    },
    {
     "name": "stdout",
     "output_type": "stream",
     "text": [
      "Model trained in 0:00:03.558785\n",
      "Compiling model...\n",
      "Model compiled.\n"
     ]
    },
    {
     "name": "stderr",
     "output_type": "stream",
     "text": [
      "[INFO 2023-05-14T14:23:15.340338662+00:00 decision_forest.cc:661] Model loaded with 100 root(s), 134100 node(s), and 7 input feature(s).\n",
      "[INFO 2023-05-14T14:23:15.340416787+00:00 kernel.cc:1046] Use fast generic engine\n"
     ]
    },
    {
     "name": "stdout",
     "output_type": "stream",
     "text": [
      "5/5 [==============================] - 0s 12ms/step - loss: 0.0000e+00 - accuracy: 0.7021\n",
      "5/5 [==============================] - 0s 12ms/step\n",
      "### q_no 18 grp 13-22\n",
      "Use /tmp/tmpy5v39885 as temporary training directory\n",
      "Reading training dataset...\n",
      "Training dataset read in 0:00:00.322273. Found 18849 examples.\n",
      "Training model...\n"
     ]
    },
    {
     "name": "stderr",
     "output_type": "stream",
     "text": [
      "[INFO 2023-05-14T14:23:20.282821718+00:00 kernel.cc:1214] Loading model from path /tmp/tmpy5v39885/model/ with prefix 6d4c791b7f514341\n"
     ]
    },
    {
     "name": "stdout",
     "output_type": "stream",
     "text": [
      "Model trained in 0:00:03.011148\n",
      "Compiling model...\n",
      "Model compiled.\n"
     ]
    },
    {
     "name": "stderr",
     "output_type": "stream",
     "text": [
      "[INFO 2023-05-14T14:23:20.584864787+00:00 decision_forest.cc:661] Model loaded with 100 root(s), 82658 node(s), and 7 input feature(s).\n",
      "[INFO 2023-05-14T14:23:20.584929684+00:00 abstract_model.cc:1311] Engine \"RandomForestOptPred\" built\n",
      "[INFO 2023-05-14T14:23:20.58495402+00:00 kernel.cc:1046] Use fast generic engine\n"
     ]
    },
    {
     "name": "stdout",
     "output_type": "stream",
     "text": [
      "5/5 [==============================] - 0s 12ms/step - loss: 0.0000e+00 - accuracy: 0.9516\n",
      "5/5 [==============================] - 0s 13ms/step\n"
     ]
    }
   ],
   "source": [
    "# Iterate through questions 1 to 18 to train models for each question, evaluate\n",
    "# the trained model and store the predicted values.\n",
    "for q_no in range(1,19):\n",
    "\n",
    "    # Select level group for the question based on the q_no.\n",
    "    if q_no<=3: grp = '0-4'\n",
    "    elif q_no<=13: grp = '5-12'\n",
    "    elif q_no<=22: grp = '13-22'\n",
    "    print(\"### q_no\", q_no, \"grp\", grp)\n",
    "    \n",
    "        \n",
    "    # Filter the rows in the datasets based on the selected level group. \n",
    "    train_df = train_x.loc[train_x.level_group == grp]\n",
    "    train_users = train_df.index.values\n",
    "    valid_df = valid_x.loc[valid_x.level_group == grp]\n",
    "    valid_users = valid_df.index.values\n",
    "\n",
    "    # Select the labels for the related q_no.\n",
    "    train_labels = labels.loc[labels.q==q_no].set_index('session').loc[train_users]\n",
    "    valid_labels = labels.loc[labels.q==q_no].set_index('session').loc[valid_users]\n",
    "\n",
    "    # Add the label to the filtered datasets.\n",
    "    train_df[\"correct\"] = train_labels[\"correct\"]\n",
    "    valid_df[\"correct\"] = valid_labels[\"correct\"]\n",
    "\n",
    "    # There's one more step required before we can train the model. \n",
    "    # We need to convert the datatset from Pandas format (pd.DataFrame)\n",
    "    # into TensorFlow Datasets format (tf.data.Dataset).\n",
    "    # TensorFlow Datasets is a high performance data loading library \n",
    "    # which is helpful when training neural networks with accelerators like GPUs and TPUs.\n",
    "    # We are omitting `level_group`, since it is not needed for training anymore.\n",
    "    train_ds = tfdf.keras.pd_dataframe_to_tf_dataset(train_df.loc[:, train_df.columns != 'level_group'], label=\"correct\")\n",
    "    valid_ds = tfdf.keras.pd_dataframe_to_tf_dataset(valid_df.loc[:, valid_df.columns != 'level_group'], label=\"correct\")\n",
    "\n",
    "    # By default the model is set to train for a classification task.\n",
    "    rfm = tfdf.keras.RandomForestModel(max_depth=15, num_trees=100)\n",
    "    rfm.compile(metrics=[\"accuracy\"])\n",
    "\n",
    "    # Train the model.\n",
    "    rfm.fit(x=train_ds)\n",
    "\n",
    "    # Store the model\n",
    "    models[f'{grp}_{q_no}'] = rfm\n",
    "\n",
    "    # Evaluate the trained model on the validation dataset and store the \n",
    "    # evaluation accuracy in the `evaluation_dict`.\n",
    "    inspector = rfm.make_inspector()\n",
    "    inspector.evaluation()\n",
    "    evaluation = rfm.evaluate(x=valid_ds,return_dict=True)\n",
    "    evaluation_dict[q_no] = evaluation[\"accuracy\"]         \n",
    "\n",
    "    # Use the trained model to make predictions on the validation dataset and \n",
    "    # store the predicted values in the `prediction_df` dataframe.\n",
    "    predict = rfm.predict(x=valid_ds)\n",
    "    prediction_df.loc[valid_users, q_no-1] = predict.flatten()"
   ]
  },
  {
   "cell_type": "markdown",
   "id": "73225a11",
   "metadata": {
    "_cell_guid": "1aeaac7b-cccc-4abe-82e1-4d5a54ab3d0f",
    "_uuid": "23236b20-17fb-42be-afb4-4bac83d2491d",
    "id": "oOdr1p-Bn2PF",
    "papermill": {
     "duration": 0.035463,
     "end_time": "2023-05-14T14:23:21.145019",
     "exception": false,
     "start_time": "2023-05-14T14:23:21.109556",
     "status": "completed"
    },
    "tags": []
   },
   "source": [
    "# Inspect the Accuracy of the models."
   ]
  },
  {
   "cell_type": "code",
   "execution_count": 18,
   "id": "e0f78b67",
   "metadata": {
    "_cell_guid": "67445bfc-da29-47d4-9ffc-11c51ad7debd",
    "_uuid": "e32bd493-52c7-4de0-aa30-56214974a5fa",
    "collapsed": false,
    "execution": {
     "iopub.execute_input": "2023-05-14T14:23:21.216900Z",
     "iopub.status.busy": "2023-05-14T14:23:21.216170Z",
     "iopub.status.idle": "2023-05-14T14:23:21.222581Z",
     "shell.execute_reply": "2023-05-14T14:23:21.221345Z"
    },
    "id": "qPOfPkm7n2PG",
    "jupyter": {
     "outputs_hidden": false
    },
    "papermill": {
     "duration": 0.04512,
     "end_time": "2023-05-14T14:23:21.224939",
     "exception": false,
     "start_time": "2023-05-14T14:23:21.179819",
     "status": "completed"
    },
    "tags": []
   },
   "outputs": [
    {
     "name": "stdout",
     "output_type": "stream",
     "text": [
      "question 1: accuracy 0.7282\n",
      "question 2: accuracy 0.9756\n",
      "question 3: accuracy 0.9353\n",
      "question 4: accuracy 0.7914\n",
      "question 5: accuracy 0.6015\n",
      "question 6: accuracy 0.7819\n",
      "question 7: accuracy 0.7411\n",
      "question 8: accuracy 0.6308\n",
      "question 9: accuracy 0.7621\n",
      "question 10: accuracy 0.5886\n",
      "question 11: accuracy 0.6478\n",
      "question 12: accuracy 0.8699\n",
      "question 13: accuracy 0.7167\n",
      "question 14: accuracy 0.7295\n",
      "question 15: accuracy 0.5799\n",
      "question 16: accuracy 0.7475\n",
      "question 17: accuracy 0.7021\n",
      "question 18: accuracy 0.9516\n",
      "\n",
      "Average accuracy 0.7489803598986732\n"
     ]
    }
   ],
   "source": [
    "for name, value in evaluation_dict.items():\n",
    "  print(f\"question {name}: accuracy {value:.4f}\")\n",
    "\n",
    "print(\"\\nAverage accuracy\", sum(evaluation_dict.values())/18)"
   ]
  },
  {
   "cell_type": "markdown",
   "id": "0d40d531",
   "metadata": {
    "_cell_guid": "86b8ba71-2b98-4fec-bbba-9f9a07a7dd82",
    "_uuid": "ca6352a8-7bdd-489d-97ab-65f39672eaa4",
    "id": "qtiCtfNCn2PG",
    "papermill": {
     "duration": 0.035513,
     "end_time": "2023-05-14T14:23:21.295990",
     "exception": false,
     "start_time": "2023-05-14T14:23:21.260477",
     "status": "completed"
    },
    "tags": []
   },
   "source": [
    "# Visualize the model"
   ]
  },
  {
   "cell_type": "code",
   "execution_count": 19,
   "id": "979da068",
   "metadata": {
    "_cell_guid": "36966217-6b97-47ee-b4ec-acacd1c252bf",
    "_uuid": "6d1bc41d-fc81-43de-8dfa-d4d0a2c9fe4a",
    "collapsed": false,
    "execution": {
     "iopub.execute_input": "2023-05-14T14:23:21.369017Z",
     "iopub.status.busy": "2023-05-14T14:23:21.368234Z",
     "iopub.status.idle": "2023-05-14T14:23:21.372386Z",
     "shell.execute_reply": "2023-05-14T14:23:21.371558Z"
    },
    "id": "od__6uAan2PG",
    "jupyter": {
     "outputs_hidden": false
    },
    "papermill": {
     "duration": 0.042565,
     "end_time": "2023-05-14T14:23:21.374380",
     "exception": false,
     "start_time": "2023-05-14T14:23:21.331815",
     "status": "completed"
    },
    "tags": []
   },
   "outputs": [],
   "source": [
    "# tfdf.model_plotter.plot_model_in_colab(models['0-4_1'], tree_idx=0, max_depth=3)"
   ]
  },
  {
   "cell_type": "markdown",
   "id": "52b44c6d",
   "metadata": {
    "_cell_guid": "93eaac23-b63f-43ad-b384-850035c351a2",
    "_uuid": "7779f607-1b05-4310-a3a8-923a9ad6a2e3",
    "id": "emVV6509n2PG",
    "papermill": {
     "duration": 0.036071,
     "end_time": "2023-05-14T14:23:21.446455",
     "exception": false,
     "start_time": "2023-05-14T14:23:21.410384",
     "status": "completed"
    },
    "tags": []
   },
   "source": [
    "# Variable importances\n",
    "\n",
    "Variable importances generally indicate how much a feature contributes to the model predictions or quality. There are several ways to identify important features using TensorFlow Decision Forests. Let us pick one model from models dict and inspect it.\n",
    "\n",
    "Let us list the available Variable Importances for Decision Trees:"
   ]
  },
  {
   "cell_type": "code",
   "execution_count": 20,
   "id": "38326a5f",
   "metadata": {
    "_cell_guid": "08da50f5-f56d-42c2-b4ea-76f82776e23f",
    "_uuid": "c7b6b9d5-20d0-4910-b01c-da3ef1536f9e",
    "collapsed": false,
    "execution": {
     "iopub.execute_input": "2023-05-14T14:23:21.520179Z",
     "iopub.status.busy": "2023-05-14T14:23:21.519430Z",
     "iopub.status.idle": "2023-05-14T14:23:21.527840Z",
     "shell.execute_reply": "2023-05-14T14:23:21.526592Z"
    },
    "id": "d_gvL9nbn2PH",
    "jupyter": {
     "outputs_hidden": false
    },
    "papermill": {
     "duration": 0.048807,
     "end_time": "2023-05-14T14:23:21.530265",
     "exception": false,
     "start_time": "2023-05-14T14:23:21.481458",
     "status": "completed"
    },
    "tags": []
   },
   "outputs": [
    {
     "name": "stdout",
     "output_type": "stream",
     "text": [
      "Available variable importances:\n",
      "\t SUM_SCORE\n",
      "\t INV_MEAN_MIN_DEPTH\n",
      "\t NUM_NODES\n",
      "\t NUM_AS_ROOT\n"
     ]
    }
   ],
   "source": [
    "inspector = models['0-4_1'].make_inspector()\n",
    "\n",
    "print(f\"Available variable importances:\")\n",
    "for importance in inspector.variable_importances().keys():\n",
    "  print(\"\\t\", importance)"
   ]
  },
  {
   "cell_type": "code",
   "execution_count": 21,
   "id": "cb9ee362",
   "metadata": {
    "_cell_guid": "d6c3231e-7d46-4666-a064-9b421da9211f",
    "_uuid": "ddbcec0c-9b87-4935-81e5-f8bfe54d7945",
    "collapsed": false,
    "execution": {
     "iopub.execute_input": "2023-05-14T14:23:21.606233Z",
     "iopub.status.busy": "2023-05-14T14:23:21.605514Z",
     "iopub.status.idle": "2023-05-14T14:23:21.612212Z",
     "shell.execute_reply": "2023-05-14T14:23:21.611340Z"
    },
    "id": "ZDsxqRrwn2PH",
    "jupyter": {
     "outputs_hidden": false
    },
    "papermill": {
     "duration": 0.047068,
     "end_time": "2023-05-14T14:23:21.614349",
     "exception": false,
     "start_time": "2023-05-14T14:23:21.567281",
     "status": "completed"
    },
    "tags": []
   },
   "outputs": [
    {
     "data": {
      "text/plain": [
       "[(\"name_nunique\" (1; #7), 48.0),\n",
       " (\"event_name_nunique\" (1; #1), 34.0),\n",
       " (\"level\" (1; #5), 15.0),\n",
       " (\"fqid_nunique\" (1; #2), 3.0)]"
      ]
     },
     "execution_count": 21,
     "metadata": {},
     "output_type": "execute_result"
    }
   ],
   "source": [
    "# Each line is: (feature name, (index of the feature), importance score)\n",
    "inspector.variable_importances()[\"NUM_AS_ROOT\"]"
   ]
  },
  {
   "cell_type": "markdown",
   "id": "ce97df8c",
   "metadata": {
    "_cell_guid": "19505e44-3c26-46dd-a296-e5bf90eea5f5",
    "_uuid": "b1975903-1ab3-42f2-a162-0108e74e871e",
    "id": "PIK5aUH-n2PH",
    "papermill": {
     "duration": 0.043027,
     "end_time": "2023-05-14T14:23:21.694851",
     "exception": false,
     "start_time": "2023-05-14T14:23:21.651824",
     "status": "completed"
    },
    "tags": []
   },
   "source": [
    "# Threshold-Moving for Imbalanced Classification"
   ]
  },
  {
   "cell_type": "code",
   "execution_count": 22,
   "id": "00cdca40",
   "metadata": {
    "_cell_guid": "afd3a94d-85cb-4b4a-8eaf-47163ab4e3d1",
    "_uuid": "e59efc3e-cbe5-4287-aa88-937b5c22ba56",
    "collapsed": false,
    "execution": {
     "iopub.execute_input": "2023-05-14T14:23:21.770940Z",
     "iopub.status.busy": "2023-05-14T14:23:21.770130Z",
     "iopub.status.idle": "2023-05-14T14:23:23.218222Z",
     "shell.execute_reply": "2023-05-14T14:23:23.217332Z"
    },
    "id": "2wptRs3In2PH",
    "jupyter": {
     "outputs_hidden": false
    },
    "papermill": {
     "duration": 1.489496,
     "end_time": "2023-05-14T14:23:23.220642",
     "exception": false,
     "start_time": "2023-05-14T14:23:21.731146",
     "status": "completed"
    },
    "tags": []
   },
   "outputs": [
    {
     "name": "stdout",
     "output_type": "stream",
     "text": [
      "Best threshold  0.7600000000000003 \tF1 score  0.6571636\n"
     ]
    }
   ],
   "source": [
    "# Create a dataframe of required size:\n",
    "# (no: of users in validation set x no: of questions) initialized to zero values\n",
    "# to store true values of the label `correct`. \n",
    "true_df = pd.DataFrame(data=np.zeros((len(VALID_USER_LIST),18)), index=VALID_USER_LIST)\n",
    "for i in range(18):\n",
    "    # Get the true labels.\n",
    "    tmp = labels.loc[labels.q == i+1].set_index('session').loc[VALID_USER_LIST]\n",
    "    true_df[i] = tmp.correct.values\n",
    "\n",
    "max_score = 0; best_threshold = 0\n",
    "\n",
    "# Loop through threshold values from 0.4 to 0.8 and select the threshold with \n",
    "# the highest `F1 score`.\n",
    "for threshold in np.arange(0.4,0.8,0.01):\n",
    "    metric = tfa.metrics.F1Score(num_classes=2,average=\"macro\",threshold=threshold)\n",
    "    y_true = tf.one_hot(true_df.values.reshape((-1)), depth=2)\n",
    "    y_pred = tf.one_hot((prediction_df.values.reshape((-1))>threshold).astype('int'), depth=2)\n",
    "    metric.update_state(y_true, y_pred)\n",
    "    f1_score = metric.result().numpy()\n",
    "    if f1_score > max_score:\n",
    "        max_score = f1_score\n",
    "        best_threshold = threshold\n",
    "        \n",
    "print(\"Best threshold \", best_threshold, \"\\tF1 score \", max_score)"
   ]
  },
  {
   "cell_type": "markdown",
   "id": "09f247a6",
   "metadata": {
    "_cell_guid": "ffe6104c-beb7-4344-8d83-24e66a2d9e1b",
    "_uuid": "6a7da7b8-a807-4e81-9b9f-67966e63bd7b",
    "id": "ezA40GQ4n2PH",
    "papermill": {
     "duration": 0.037863,
     "end_time": "2023-05-14T14:23:23.296871",
     "exception": false,
     "start_time": "2023-05-14T14:23:23.259008",
     "status": "completed"
    },
    "tags": []
   },
   "source": [
    "# Submission\n",
    "\n",
    "Here you'll use the `best_threshold` calculate in the previous cell"
   ]
  },
  {
   "cell_type": "code",
   "execution_count": 23,
   "id": "77c84615",
   "metadata": {
    "_cell_guid": "ecf3cba1-7bfe-4010-a886-2d0ec5c1159a",
    "_uuid": "60855b46-2a29-4e37-b24f-c2afe6589668",
    "collapsed": false,
    "execution": {
     "iopub.execute_input": "2023-05-14T14:23:23.374755Z",
     "iopub.status.busy": "2023-05-14T14:23:23.374024Z",
     "iopub.status.idle": "2023-05-14T14:23:26.668748Z",
     "shell.execute_reply": "2023-05-14T14:23:26.667696Z"
    },
    "id": "gHiXTnTVn2PI",
    "jupyter": {
     "outputs_hidden": false
    },
    "papermill": {
     "duration": 3.337857,
     "end_time": "2023-05-14T14:23:26.671785",
     "exception": false,
     "start_time": "2023-05-14T14:23:23.333928",
     "status": "completed"
    },
    "tags": []
   },
   "outputs": [
    {
     "name": "stdout",
     "output_type": "stream",
     "text": [
      "This version of the API is not optimized and should not be used to estimate the runtime of your code on the hidden test set.\n",
      "1/1 [==============================] - 0s 50ms/step\n",
      "1/1 [==============================] - 0s 55ms/step\n",
      "1/1 [==============================] - 0s 43ms/step\n",
      "1/1 [==============================] - 0s 45ms/step\n",
      "1/1 [==============================] - 0s 43ms/step\n",
      "1/1 [==============================] - 0s 42ms/step\n",
      "1/1 [==============================] - 0s 44ms/step\n",
      "1/1 [==============================] - 0s 41ms/step\n",
      "1/1 [==============================] - 0s 45ms/step\n",
      "1/1 [==============================] - 0s 43ms/step\n",
      "1/1 [==============================] - 0s 42ms/step\n",
      "1/1 [==============================] - 0s 42ms/step\n",
      "1/1 [==============================] - 0s 42ms/step\n",
      "1/1 [==============================] - 0s 46ms/step\n",
      "1/1 [==============================] - 0s 41ms/step\n",
      "1/1 [==============================] - 0s 44ms/step\n",
      "1/1 [==============================] - 0s 44ms/step\n",
      "1/1 [==============================] - 0s 40ms/step\n",
      "1/1 [==============================] - 0s 41ms/step\n",
      "1/1 [==============================] - 0s 41ms/step\n",
      "1/1 [==============================] - 0s 41ms/step\n",
      "1/1 [==============================] - 0s 41ms/step\n",
      "1/1 [==============================] - 0s 40ms/step\n",
      "1/1 [==============================] - 0s 42ms/step\n",
      "1/1 [==============================] - 0s 42ms/step\n",
      "1/1 [==============================] - 0s 44ms/step\n",
      "1/1 [==============================] - 0s 44ms/step\n",
      "1/1 [==============================] - 0s 43ms/step\n",
      "1/1 [==============================] - 0s 43ms/step\n",
      "1/1 [==============================] - 0s 41ms/step\n",
      "1/1 [==============================] - 0s 43ms/step\n",
      "1/1 [==============================] - 0s 42ms/step\n",
      "1/1 [==============================] - 0s 42ms/step\n",
      "1/1 [==============================] - 0s 41ms/step\n",
      "1/1 [==============================] - 0s 41ms/step\n",
      "1/1 [==============================] - 0s 42ms/step\n",
      "1/1 [==============================] - 0s 41ms/step\n",
      "1/1 [==============================] - 0s 41ms/step\n",
      "1/1 [==============================] - 0s 47ms/step\n",
      "1/1 [==============================] - 0s 40ms/step\n",
      "1/1 [==============================] - 0s 41ms/step\n",
      "1/1 [==============================] - 0s 42ms/step\n",
      "1/1 [==============================] - 0s 45ms/step\n",
      "1/1 [==============================] - 0s 43ms/step\n",
      "1/1 [==============================] - 0s 41ms/step\n",
      "1/1 [==============================] - 0s 40ms/step\n",
      "1/1 [==============================] - 0s 40ms/step\n",
      "1/1 [==============================] - 0s 42ms/step\n",
      "1/1 [==============================] - 0s 40ms/step\n",
      "1/1 [==============================] - 0s 41ms/step\n",
      "1/1 [==============================] - 0s 41ms/step\n",
      "1/1 [==============================] - 0s 39ms/step\n",
      "1/1 [==============================] - 0s 40ms/step\n",
      "1/1 [==============================] - 0s 41ms/step\n"
     ]
    }
   ],
   "source": [
    "# Reference\n",
    "# https://www.kaggle.com/code/philculliton/basic-submission-demo\n",
    "# https://www.kaggle.com/code/cdeotte/random-forest-baseline-0-664/notebook\n",
    "\n",
    "\n",
    "import jo_wilder\n",
    "env = jo_wilder.make_env()\n",
    "iter_test = env.iter_test()\n",
    "\n",
    "limits = {'0-4':(1,4), '5-12':(4,14), '13-22':(14,19)}\n",
    "\n",
    "for (test, sample_submission) in iter_test:\n",
    "    test_df = feature_engineer(test)\n",
    "    grp = test_df.level_group.values[0]\n",
    "    a,b = limits[grp]\n",
    "    for t in range(a,b):\n",
    "        gbtm = models[f'{grp}_{t}']\n",
    "        test_ds = tfdf.keras.pd_dataframe_to_tf_dataset(test_df.loc[:, test_df.columns != 'level_group'])\n",
    "        predictions = gbtm.predict(test_ds)\n",
    "        mask = sample_submission.session_id.str.contains(f'q{t}')\n",
    "        n_predictions = (predictions > best_threshold).astype(int)\n",
    "        sample_submission.loc[mask,'correct'] = n_predictions.flatten()\n",
    "    \n",
    "    env.predict(sample_submission)"
   ]
  },
  {
   "cell_type": "code",
   "execution_count": 24,
   "id": "515d3936",
   "metadata": {
    "_cell_guid": "b2f9e158-df1d-4a78-a7d6-1dcc657635f0",
    "_uuid": "3f92da60-8bbb-49bd-9315-ac65ab252862",
    "collapsed": false,
    "execution": {
     "iopub.execute_input": "2023-05-14T14:23:26.764177Z",
     "iopub.status.busy": "2023-05-14T14:23:26.763024Z",
     "iopub.status.idle": "2023-05-14T14:23:27.884556Z",
     "shell.execute_reply": "2023-05-14T14:23:27.883296Z"
    },
    "id": "iYBXokAyn2PI",
    "jupyter": {
     "outputs_hidden": false
    },
    "papermill": {
     "duration": 1.169562,
     "end_time": "2023-05-14T14:23:27.887173",
     "exception": false,
     "start_time": "2023-05-14T14:23:26.717611",
     "status": "completed"
    },
    "tags": []
   },
   "outputs": [
    {
     "name": "stdout",
     "output_type": "stream",
     "text": [
      "session_id,correct\r\n",
      "20090109393214576_q1,1\r\n",
      "20090109393214576_q2,1\r\n",
      "20090109393214576_q3,1\r\n",
      "20090109393214576_q4,1\r\n",
      "20090109393214576_q5,1\r\n",
      "20090109393214576_q6,1\r\n",
      "20090109393214576_q7,1\r\n",
      "20090109393214576_q8,0\r\n",
      "20090109393214576_q9,1\r\n"
     ]
    }
   ],
   "source": [
    "! head submission.csv"
   ]
  }
 ],
 "metadata": {
  "kernelspec": {
   "display_name": "Python 3",
   "language": "python",
   "name": "python3"
  },
  "language_info": {
   "codemirror_mode": {
    "name": "ipython",
    "version": 3
   },
   "file_extension": ".py",
   "mimetype": "text/x-python",
   "name": "python",
   "nbconvert_exporter": "python",
   "pygments_lexer": "ipython3",
   "version": "3.7.12"
  },
  "papermill": {
   "default_parameters": {},
   "duration": 272.441929,
   "end_time": "2023-05-14T14:23:30.948731",
   "environment_variables": {},
   "exception": null,
   "input_path": "__notebook__.ipynb",
   "output_path": "__notebook__.ipynb",
   "parameters": {},
   "start_time": "2023-05-14T14:18:58.506802",
   "version": "2.4.0"
  }
 },
 "nbformat": 4,
 "nbformat_minor": 5
}
