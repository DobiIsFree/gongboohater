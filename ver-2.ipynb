{
 "cells": [
  {
   "cell_type": "markdown",
   "id": "47c35cd3",
   "metadata": {
    "_cell_guid": "3065ea28-3415-46ef-8ec2-672826f1896a",
    "_uuid": "1b633216-f642-426b-a442-36227e786485",
    "id": "iCTA6kl3n2O1",
    "papermill": {
     "duration": 0.017141,
     "end_time": "2023-05-12T13:16:25.190854",
     "exception": false,
     "start_time": "2023-05-12T13:16:25.173713",
     "status": "completed"
    },
    "tags": []
   },
   "source": [
    "# Student Performance from Game Play Using TensorFlow Decision Forests"
   ]
  },
  {
   "cell_type": "markdown",
   "id": "f7dc6430",
   "metadata": {
    "_cell_guid": "f5f126e7-a6c7-4d10-9453-02803d77fdec",
    "_uuid": "48949e80-ac79-459e-b078-1258b02a6d19",
    "id": "zAXHC6-Tn2O5",
    "papermill": {
     "duration": 0.0144,
     "end_time": "2023-05-12T13:16:25.219597",
     "exception": false,
     "start_time": "2023-05-12T13:16:25.205197",
     "status": "completed"
    },
    "tags": []
   },
   "source": [
    "## Import the Required Libraries"
   ]
  },
  {
   "cell_type": "code",
   "execution_count": 1,
   "id": "bcfb8c60",
   "metadata": {
    "_cell_guid": "d9edea55-e22d-47eb-9e89-f41baf355a90",
    "_uuid": "b8016303-112b-4ba5-b173-8f7fafdd3fbc",
    "collapsed": false,
    "execution": {
     "iopub.execute_input": "2023-05-12T13:16:25.251217Z",
     "iopub.status.busy": "2023-05-12T13:16:25.250379Z",
     "iopub.status.idle": "2023-05-12T13:16:36.509215Z",
     "shell.execute_reply": "2023-05-12T13:16:36.508059Z"
    },
    "id": "IanlX-Eqn2O5",
    "jupyter": {
     "outputs_hidden": false
    },
    "papermill": {
     "duration": 11.278519,
     "end_time": "2023-05-12T13:16:36.512227",
     "exception": false,
     "start_time": "2023-05-12T13:16:25.233708",
     "status": "completed"
    },
    "tags": []
   },
   "outputs": [],
   "source": [
    "import tensorflow as tf\n",
    "import tensorflow_addons as tfa\n",
    "import tensorflow_decision_forests as tfdf\n",
    "\n",
    "import pandas as pd\n",
    "import numpy as np\n",
    "import matplotlib.pyplot as plt"
   ]
  },
  {
   "cell_type": "code",
   "execution_count": 2,
   "id": "ccc94fd3",
   "metadata": {
    "_cell_guid": "00c0ea0b-65a2-4833-9194-4e62651434ef",
    "_uuid": "f79a2139-13aa-40d1-85b3-ffbf6213c6ba",
    "collapsed": false,
    "execution": {
     "iopub.execute_input": "2023-05-12T13:16:36.545276Z",
     "iopub.status.busy": "2023-05-12T13:16:36.544152Z",
     "iopub.status.idle": "2023-05-12T13:16:36.551007Z",
     "shell.execute_reply": "2023-05-12T13:16:36.550078Z"
    },
    "id": "gLpK2yAen2O7",
    "jupyter": {
     "outputs_hidden": false
    },
    "papermill": {
     "duration": 0.027502,
     "end_time": "2023-05-12T13:16:36.553706",
     "exception": false,
     "start_time": "2023-05-12T13:16:36.526204",
     "status": "completed"
    },
    "tags": []
   },
   "outputs": [
    {
     "name": "stdout",
     "output_type": "stream",
     "text": [
      "TensorFlow Decision Forests v1.2.0\n",
      "TensorFlow Addons v0.19.0\n",
      "TensorFlow v2.11.0\n"
     ]
    }
   ],
   "source": [
    "print(\"TensorFlow Decision Forests v\" + tfdf.__version__)\n",
    "print(\"TensorFlow Addons v\" + tfa.__version__)\n",
    "print(\"TensorFlow v\" + tf.__version__)"
   ]
  },
  {
   "cell_type": "markdown",
   "id": "4289f3b5",
   "metadata": {
    "_cell_guid": "5be263dd-cf1e-4887-b94b-caeeea6a4aa8",
    "_uuid": "2697b3d5-0f16-4f5e-aa80-76ad489e86ae",
    "id": "22DpLVFLn2O7",
    "papermill": {
     "duration": 0.013636,
     "end_time": "2023-05-12T13:16:36.581280",
     "exception": false,
     "start_time": "2023-05-12T13:16:36.567644",
     "status": "completed"
    },
    "tags": []
   },
   "source": [
    "## Load the Dataset"
   ]
  },
  {
   "cell_type": "code",
   "execution_count": 3,
   "id": "378d1259",
   "metadata": {
    "_cell_guid": "144dcbf9-be59-440c-b31a-8216f58528cb",
    "_uuid": "0cd23222-c6e1-47b2-8149-4834fa47f2e4",
    "collapsed": false,
    "execution": {
     "iopub.execute_input": "2023-05-12T13:16:36.613011Z",
     "iopub.status.busy": "2023-05-12T13:16:36.612199Z",
     "iopub.status.idle": "2023-05-12T13:19:03.975608Z",
     "shell.execute_reply": "2023-05-12T13:19:03.974185Z"
    },
    "id": "_XItl24kn2O7",
    "jupyter": {
     "outputs_hidden": false
    },
    "papermill": {
     "duration": 147.398618,
     "end_time": "2023-05-12T13:19:03.994693",
     "exception": false,
     "start_time": "2023-05-12T13:16:36.596075",
     "status": "completed"
    },
    "tags": []
   },
   "outputs": [
    {
     "name": "stdout",
     "output_type": "stream",
     "text": [
      "Full train dataset shape is (26296946, 20)\n"
     ]
    }
   ],
   "source": [
    "# Reference: https://www.kaggle.com/competitions/predict-student-performance-from-game-play/discussion/384359\n",
    "dtypes={\n",
    "    'elapsed_time':np.int32,\n",
    "    'event_name':'category',\n",
    "    'name':'category',\n",
    "    'level':np.uint8,\n",
    "    'room_coor_x':np.float32,\n",
    "    'room_coor_y':np.float32,\n",
    "    'screen_coor_x':np.float32,\n",
    "    'screen_coor_y':np.float32,\n",
    "    'hover_duration':np.float32,\n",
    "    'text':'category',\n",
    "    'fqid':'category',\n",
    "    'room_fqid':'category',\n",
    "    'text_fqid':'category',\n",
    "    'fullscreen':'category',\n",
    "    'hq':'category',\n",
    "    'music':'category',\n",
    "    'level_group':'category'}\n",
    "\n",
    "dataset_df = pd.read_csv('/kaggle/input/predict-student-performance-from-game-play/train.csv', dtype=dtypes)\n",
    "print(\"Full train dataset shape is {}\".format(dataset_df.shape))"
   ]
  },
  {
   "cell_type": "code",
   "execution_count": 4,
   "id": "b925afd2",
   "metadata": {
    "_cell_guid": "3d6f3782-c8df-4479-a1ca-fb9059fcdc82",
    "_uuid": "0a715f0f-3b27-48d8-9a0e-e6f64b164a46",
    "collapsed": false,
    "execution": {
     "iopub.execute_input": "2023-05-12T13:19:04.029367Z",
     "iopub.status.busy": "2023-05-12T13:19:04.028412Z",
     "iopub.status.idle": "2023-05-12T13:19:04.074023Z",
     "shell.execute_reply": "2023-05-12T13:19:04.072483Z"
    },
    "id": "-RTRVRiWn2O8",
    "jupyter": {
     "outputs_hidden": false
    },
    "papermill": {
     "duration": 0.067121,
     "end_time": "2023-05-12T13:19:04.077123",
     "exception": false,
     "start_time": "2023-05-12T13:19:04.010002",
     "status": "completed"
    },
    "tags": []
   },
   "outputs": [
    {
     "data": {
      "text/html": [
       "<div>\n",
       "<style scoped>\n",
       "    .dataframe tbody tr th:only-of-type {\n",
       "        vertical-align: middle;\n",
       "    }\n",
       "\n",
       "    .dataframe tbody tr th {\n",
       "        vertical-align: top;\n",
       "    }\n",
       "\n",
       "    .dataframe thead th {\n",
       "        text-align: right;\n",
       "    }\n",
       "</style>\n",
       "<table border=\"1\" class=\"dataframe\">\n",
       "  <thead>\n",
       "    <tr style=\"text-align: right;\">\n",
       "      <th></th>\n",
       "      <th>session_id</th>\n",
       "      <th>index</th>\n",
       "      <th>elapsed_time</th>\n",
       "      <th>event_name</th>\n",
       "      <th>name</th>\n",
       "      <th>level</th>\n",
       "      <th>page</th>\n",
       "      <th>room_coor_x</th>\n",
       "      <th>room_coor_y</th>\n",
       "      <th>screen_coor_x</th>\n",
       "      <th>screen_coor_y</th>\n",
       "      <th>hover_duration</th>\n",
       "      <th>text</th>\n",
       "      <th>fqid</th>\n",
       "      <th>room_fqid</th>\n",
       "      <th>text_fqid</th>\n",
       "      <th>fullscreen</th>\n",
       "      <th>hq</th>\n",
       "      <th>music</th>\n",
       "      <th>level_group</th>\n",
       "    </tr>\n",
       "  </thead>\n",
       "  <tbody>\n",
       "    <tr>\n",
       "      <th>0</th>\n",
       "      <td>20090312431273200</td>\n",
       "      <td>0</td>\n",
       "      <td>0</td>\n",
       "      <td>cutscene_click</td>\n",
       "      <td>basic</td>\n",
       "      <td>0</td>\n",
       "      <td>NaN</td>\n",
       "      <td>-413.991394</td>\n",
       "      <td>-159.314682</td>\n",
       "      <td>380.0</td>\n",
       "      <td>494.0</td>\n",
       "      <td>NaN</td>\n",
       "      <td>undefined</td>\n",
       "      <td>intro</td>\n",
       "      <td>tunic.historicalsociety.closet</td>\n",
       "      <td>tunic.historicalsociety.closet.intro</td>\n",
       "      <td>0</td>\n",
       "      <td>0</td>\n",
       "      <td>1</td>\n",
       "      <td>0-4</td>\n",
       "    </tr>\n",
       "    <tr>\n",
       "      <th>1</th>\n",
       "      <td>20090312431273200</td>\n",
       "      <td>1</td>\n",
       "      <td>1323</td>\n",
       "      <td>person_click</td>\n",
       "      <td>basic</td>\n",
       "      <td>0</td>\n",
       "      <td>NaN</td>\n",
       "      <td>-413.991394</td>\n",
       "      <td>-159.314682</td>\n",
       "      <td>380.0</td>\n",
       "      <td>494.0</td>\n",
       "      <td>NaN</td>\n",
       "      <td>Whatcha doing over there, Jo?</td>\n",
       "      <td>gramps</td>\n",
       "      <td>tunic.historicalsociety.closet</td>\n",
       "      <td>tunic.historicalsociety.closet.gramps.intro_0_...</td>\n",
       "      <td>0</td>\n",
       "      <td>0</td>\n",
       "      <td>1</td>\n",
       "      <td>0-4</td>\n",
       "    </tr>\n",
       "    <tr>\n",
       "      <th>2</th>\n",
       "      <td>20090312431273200</td>\n",
       "      <td>2</td>\n",
       "      <td>831</td>\n",
       "      <td>person_click</td>\n",
       "      <td>basic</td>\n",
       "      <td>0</td>\n",
       "      <td>NaN</td>\n",
       "      <td>-413.991394</td>\n",
       "      <td>-159.314682</td>\n",
       "      <td>380.0</td>\n",
       "      <td>494.0</td>\n",
       "      <td>NaN</td>\n",
       "      <td>Just talking to Teddy.</td>\n",
       "      <td>gramps</td>\n",
       "      <td>tunic.historicalsociety.closet</td>\n",
       "      <td>tunic.historicalsociety.closet.gramps.intro_0_...</td>\n",
       "      <td>0</td>\n",
       "      <td>0</td>\n",
       "      <td>1</td>\n",
       "      <td>0-4</td>\n",
       "    </tr>\n",
       "    <tr>\n",
       "      <th>3</th>\n",
       "      <td>20090312431273200</td>\n",
       "      <td>3</td>\n",
       "      <td>1147</td>\n",
       "      <td>person_click</td>\n",
       "      <td>basic</td>\n",
       "      <td>0</td>\n",
       "      <td>NaN</td>\n",
       "      <td>-413.991394</td>\n",
       "      <td>-159.314682</td>\n",
       "      <td>380.0</td>\n",
       "      <td>494.0</td>\n",
       "      <td>NaN</td>\n",
       "      <td>I gotta run to my meeting!</td>\n",
       "      <td>gramps</td>\n",
       "      <td>tunic.historicalsociety.closet</td>\n",
       "      <td>tunic.historicalsociety.closet.gramps.intro_0_...</td>\n",
       "      <td>0</td>\n",
       "      <td>0</td>\n",
       "      <td>1</td>\n",
       "      <td>0-4</td>\n",
       "    </tr>\n",
       "    <tr>\n",
       "      <th>4</th>\n",
       "      <td>20090312431273200</td>\n",
       "      <td>4</td>\n",
       "      <td>1863</td>\n",
       "      <td>person_click</td>\n",
       "      <td>basic</td>\n",
       "      <td>0</td>\n",
       "      <td>NaN</td>\n",
       "      <td>-412.991394</td>\n",
       "      <td>-159.314682</td>\n",
       "      <td>381.0</td>\n",
       "      <td>494.0</td>\n",
       "      <td>NaN</td>\n",
       "      <td>Can I come, Gramps?</td>\n",
       "      <td>gramps</td>\n",
       "      <td>tunic.historicalsociety.closet</td>\n",
       "      <td>tunic.historicalsociety.closet.gramps.intro_0_...</td>\n",
       "      <td>0</td>\n",
       "      <td>0</td>\n",
       "      <td>1</td>\n",
       "      <td>0-4</td>\n",
       "    </tr>\n",
       "  </tbody>\n",
       "</table>\n",
       "</div>"
      ],
      "text/plain": [
       "          session_id  index  elapsed_time      event_name   name  level  page  \\\n",
       "0  20090312431273200      0             0  cutscene_click  basic      0   NaN   \n",
       "1  20090312431273200      1          1323    person_click  basic      0   NaN   \n",
       "2  20090312431273200      2           831    person_click  basic      0   NaN   \n",
       "3  20090312431273200      3          1147    person_click  basic      0   NaN   \n",
       "4  20090312431273200      4          1863    person_click  basic      0   NaN   \n",
       "\n",
       "   room_coor_x  room_coor_y  screen_coor_x  screen_coor_y  hover_duration  \\\n",
       "0  -413.991394  -159.314682          380.0          494.0             NaN   \n",
       "1  -413.991394  -159.314682          380.0          494.0             NaN   \n",
       "2  -413.991394  -159.314682          380.0          494.0             NaN   \n",
       "3  -413.991394  -159.314682          380.0          494.0             NaN   \n",
       "4  -412.991394  -159.314682          381.0          494.0             NaN   \n",
       "\n",
       "                            text    fqid                       room_fqid  \\\n",
       "0                      undefined   intro  tunic.historicalsociety.closet   \n",
       "1  Whatcha doing over there, Jo?  gramps  tunic.historicalsociety.closet   \n",
       "2         Just talking to Teddy.  gramps  tunic.historicalsociety.closet   \n",
       "3     I gotta run to my meeting!  gramps  tunic.historicalsociety.closet   \n",
       "4            Can I come, Gramps?  gramps  tunic.historicalsociety.closet   \n",
       "\n",
       "                                           text_fqid fullscreen hq music  \\\n",
       "0               tunic.historicalsociety.closet.intro          0  0     1   \n",
       "1  tunic.historicalsociety.closet.gramps.intro_0_...          0  0     1   \n",
       "2  tunic.historicalsociety.closet.gramps.intro_0_...          0  0     1   \n",
       "3  tunic.historicalsociety.closet.gramps.intro_0_...          0  0     1   \n",
       "4  tunic.historicalsociety.closet.gramps.intro_0_...          0  0     1   \n",
       "\n",
       "  level_group  \n",
       "0         0-4  \n",
       "1         0-4  \n",
       "2         0-4  \n",
       "3         0-4  \n",
       "4         0-4  "
      ]
     },
     "execution_count": 4,
     "metadata": {},
     "output_type": "execute_result"
    }
   ],
   "source": [
    "# Display the first 5 examples\n",
    "dataset_df.head(5)"
   ]
  },
  {
   "cell_type": "code",
   "execution_count": 5,
   "id": "994b3fa0",
   "metadata": {
    "execution": {
     "iopub.execute_input": "2023-05-12T13:19:04.112029Z",
     "iopub.status.busy": "2023-05-12T13:19:04.111118Z",
     "iopub.status.idle": "2023-05-12T13:19:04.336084Z",
     "shell.execute_reply": "2023-05-12T13:19:04.334926Z"
    },
    "papermill": {
     "duration": 0.245785,
     "end_time": "2023-05-12T13:19:04.338818",
     "exception": false,
     "start_time": "2023-05-12T13:19:04.093033",
     "status": "completed"
    },
    "tags": []
   },
   "outputs": [
    {
     "data": {
      "text/plain": [
       "navigate_click        11326433\n",
       "person_click           6052853\n",
       "cutscene_click         2703035\n",
       "object_click           2198211\n",
       "object_hover           1057085\n",
       "map_hover               945159\n",
       "notification_click      649001\n",
       "notebook_click          564544\n",
       "map_click               517242\n",
       "observation_click       212355\n",
       "checkpoint               71028\n",
       "Name: event_name, dtype: int64"
      ]
     },
     "execution_count": 5,
     "metadata": {},
     "output_type": "execute_result"
    }
   ],
   "source": [
    "dataset_df.event_name.value_counts()"
   ]
  },
  {
   "cell_type": "code",
   "execution_count": 6,
   "id": "17554e38",
   "metadata": {
    "execution": {
     "iopub.execute_input": "2023-05-12T13:19:04.370846Z",
     "iopub.status.busy": "2023-05-12T13:19:04.370167Z",
     "iopub.status.idle": "2023-05-12T13:19:04.374427Z",
     "shell.execute_reply": "2023-05-12T13:19:04.373407Z"
    },
    "papermill": {
     "duration": 0.023823,
     "end_time": "2023-05-12T13:19:04.377473",
     "exception": false,
     "start_time": "2023-05-12T13:19:04.353650",
     "status": "completed"
    },
    "tags": []
   },
   "outputs": [],
   "source": [
    "# x = dataset_df['room_coor_x']\n",
    "# y = dataset_df['room_coor_y']\n",
    "# plt.hexbin(x, y, gridsize=40)\n",
    "# plt.show()"
   ]
  },
  {
   "cell_type": "markdown",
   "id": "0ac15173",
   "metadata": {
    "_cell_guid": "c65e1dff-67b0-4bb6-9b97-b6418d4173c7",
    "_uuid": "3df6b5f5-7744-40f9-bec5-bb45b9238387",
    "id": "ReNY-i3bn2O8",
    "papermill": {
     "duration": 0.014876,
     "end_time": "2023-05-12T13:19:04.407189",
     "exception": false,
     "start_time": "2023-05-12T13:19:04.392313",
     "status": "completed"
    },
    "tags": []
   },
   "source": [
    "## Load the labels"
   ]
  },
  {
   "cell_type": "code",
   "execution_count": 7,
   "id": "21fe963f",
   "metadata": {
    "_cell_guid": "bc6c67b2-3be1-4595-bc75-a10a50ba30d3",
    "_uuid": "e71600d9-2043-4209-8373-cf254354b3f2",
    "collapsed": false,
    "execution": {
     "iopub.execute_input": "2023-05-12T13:19:04.440680Z",
     "iopub.status.busy": "2023-05-12T13:19:04.439803Z",
     "iopub.status.idle": "2023-05-12T13:19:04.874774Z",
     "shell.execute_reply": "2023-05-12T13:19:04.872672Z"
    },
    "id": "KD4uayl2n2O9",
    "jupyter": {
     "outputs_hidden": false
    },
    "papermill": {
     "duration": 0.456027,
     "end_time": "2023-05-12T13:19:04.878646",
     "exception": false,
     "start_time": "2023-05-12T13:19:04.422619",
     "status": "completed"
    },
    "tags": []
   },
   "outputs": [],
   "source": [
    "labels = pd.read_csv('/kaggle/input/predict-student-performance-from-game-play/train_labels.csv')"
   ]
  },
  {
   "cell_type": "code",
   "execution_count": 8,
   "id": "f2da5c58",
   "metadata": {
    "_cell_guid": "24c78d16-6a6a-4409-b1c3-5f1d84c0a9ac",
    "_uuid": "afd665e4-8c5e-4a6a-9c96-2c8676f97c88",
    "collapsed": false,
    "execution": {
     "iopub.execute_input": "2023-05-12T13:19:04.911916Z",
     "iopub.status.busy": "2023-05-12T13:19:04.911066Z",
     "iopub.status.idle": "2023-05-12T13:19:06.060270Z",
     "shell.execute_reply": "2023-05-12T13:19:06.059141Z"
    },
    "id": "Kva8_Dbqn2O9",
    "jupyter": {
     "outputs_hidden": false
    },
    "papermill": {
     "duration": 1.169798,
     "end_time": "2023-05-12T13:19:06.063728",
     "exception": false,
     "start_time": "2023-05-12T13:19:04.893930",
     "status": "completed"
    },
    "tags": []
   },
   "outputs": [],
   "source": [
    "labels['session'] = labels.session_id.apply(lambda x: int(x.split('_')[0]) )\n",
    "labels['q'] = labels.session_id.apply(lambda x: int(x.split('_')[-1][1:]) )"
   ]
  },
  {
   "cell_type": "code",
   "execution_count": 9,
   "id": "06c98566",
   "metadata": {
    "_cell_guid": "c8fac932-0ca8-4862-83f1-07f4753fb1e6",
    "_uuid": "da1b04cd-838f-4e9f-8da1-82dc907f0d97",
    "collapsed": false,
    "execution": {
     "iopub.execute_input": "2023-05-12T13:19:06.099070Z",
     "iopub.status.busy": "2023-05-12T13:19:06.098356Z",
     "iopub.status.idle": "2023-05-12T13:19:06.110870Z",
     "shell.execute_reply": "2023-05-12T13:19:06.109394Z"
    },
    "id": "0eD-KZMvn2O-",
    "jupyter": {
     "outputs_hidden": false
    },
    "papermill": {
     "duration": 0.034269,
     "end_time": "2023-05-12T13:19:06.114153",
     "exception": false,
     "start_time": "2023-05-12T13:19:06.079884",
     "status": "completed"
    },
    "tags": []
   },
   "outputs": [
    {
     "data": {
      "text/html": [
       "<div>\n",
       "<style scoped>\n",
       "    .dataframe tbody tr th:only-of-type {\n",
       "        vertical-align: middle;\n",
       "    }\n",
       "\n",
       "    .dataframe tbody tr th {\n",
       "        vertical-align: top;\n",
       "    }\n",
       "\n",
       "    .dataframe thead th {\n",
       "        text-align: right;\n",
       "    }\n",
       "</style>\n",
       "<table border=\"1\" class=\"dataframe\">\n",
       "  <thead>\n",
       "    <tr style=\"text-align: right;\">\n",
       "      <th></th>\n",
       "      <th>session_id</th>\n",
       "      <th>correct</th>\n",
       "      <th>session</th>\n",
       "      <th>q</th>\n",
       "    </tr>\n",
       "  </thead>\n",
       "  <tbody>\n",
       "    <tr>\n",
       "      <th>0</th>\n",
       "      <td>20090312431273200_q1</td>\n",
       "      <td>1</td>\n",
       "      <td>20090312431273200</td>\n",
       "      <td>1</td>\n",
       "    </tr>\n",
       "    <tr>\n",
       "      <th>1</th>\n",
       "      <td>20090312433251036_q1</td>\n",
       "      <td>0</td>\n",
       "      <td>20090312433251036</td>\n",
       "      <td>1</td>\n",
       "    </tr>\n",
       "    <tr>\n",
       "      <th>2</th>\n",
       "      <td>20090312455206810_q1</td>\n",
       "      <td>1</td>\n",
       "      <td>20090312455206810</td>\n",
       "      <td>1</td>\n",
       "    </tr>\n",
       "    <tr>\n",
       "      <th>3</th>\n",
       "      <td>20090313091715820_q1</td>\n",
       "      <td>0</td>\n",
       "      <td>20090313091715820</td>\n",
       "      <td>1</td>\n",
       "    </tr>\n",
       "    <tr>\n",
       "      <th>4</th>\n",
       "      <td>20090313571836404_q1</td>\n",
       "      <td>1</td>\n",
       "      <td>20090313571836404</td>\n",
       "      <td>1</td>\n",
       "    </tr>\n",
       "  </tbody>\n",
       "</table>\n",
       "</div>"
      ],
      "text/plain": [
       "             session_id  correct            session  q\n",
       "0  20090312431273200_q1        1  20090312431273200  1\n",
       "1  20090312433251036_q1        0  20090312433251036  1\n",
       "2  20090312455206810_q1        1  20090312455206810  1\n",
       "3  20090313091715820_q1        0  20090313091715820  1\n",
       "4  20090313571836404_q1        1  20090313571836404  1"
      ]
     },
     "execution_count": 9,
     "metadata": {},
     "output_type": "execute_result"
    }
   ],
   "source": [
    "# Display the first 5 examples\n",
    "labels.head(5)"
   ]
  },
  {
   "cell_type": "markdown",
   "id": "da33701a",
   "metadata": {
    "_cell_guid": "485073af-b103-48c0-8e8c-60c28ddc00fc",
    "_uuid": "d4215f16-78de-4f14-b9f3-b596b03f8433",
    "id": "y5fK05dsn2O_",
    "papermill": {
     "duration": 0.016301,
     "end_time": "2023-05-12T13:19:06.146818",
     "exception": false,
     "start_time": "2023-05-12T13:19:06.130517",
     "status": "completed"
    },
    "tags": []
   },
   "source": [
    "# Prepare the dataset"
   ]
  },
  {
   "cell_type": "code",
   "execution_count": 10,
   "id": "dfce4479",
   "metadata": {
    "_cell_guid": "9527a410-8159-421f-9ad6-f3c712fc7d87",
    "_uuid": "886d16af-f0f1-4c68-8e15-9802bd417f6e",
    "collapsed": false,
    "execution": {
     "iopub.execute_input": "2023-05-12T13:19:06.181341Z",
     "iopub.status.busy": "2023-05-12T13:19:06.180398Z",
     "iopub.status.idle": "2023-05-12T13:19:06.186536Z",
     "shell.execute_reply": "2023-05-12T13:19:06.185443Z"
    },
    "id": "cCZWGiL_n2PA",
    "jupyter": {
     "outputs_hidden": false
    },
    "papermill": {
     "duration": 0.02712,
     "end_time": "2023-05-12T13:19:06.189410",
     "exception": false,
     "start_time": "2023-05-12T13:19:06.162290",
     "status": "completed"
    },
    "tags": []
   },
   "outputs": [],
   "source": [
    "CATEGORICAL = ['event_name', 'name','fqid', 'room_fqid', 'text_fqid']\n",
    "NUMERICAL = ['elapsed_time','level','page','room_coor_x', 'room_coor_y', \n",
    "        'screen_coor_x', 'screen_coor_y', 'hover_duration']"
   ]
  },
  {
   "cell_type": "code",
   "execution_count": 11,
   "id": "971a4f65",
   "metadata": {
    "_cell_guid": "296382db-98ff-4d66-83e7-6427b3d5ed34",
    "_uuid": "103d6961-f8a3-4f7e-aa15-6e5734724fea",
    "collapsed": false,
    "execution": {
     "iopub.execute_input": "2023-05-12T13:19:06.224685Z",
     "iopub.status.busy": "2023-05-12T13:19:06.223769Z",
     "iopub.status.idle": "2023-05-12T13:19:06.236442Z",
     "shell.execute_reply": "2023-05-12T13:19:06.234227Z"
    },
    "id": "nHWhAOtTn2PA",
    "jupyter": {
     "outputs_hidden": false
    },
    "papermill": {
     "duration": 0.033972,
     "end_time": "2023-05-12T13:19:06.239892",
     "exception": false,
     "start_time": "2023-05-12T13:19:06.205920",
     "status": "completed"
    },
    "tags": []
   },
   "outputs": [],
   "source": [
    "# Reference: https://www.kaggle.com/code/cdeotte/random-forest-baseline-0-664/notebook\n",
    "\n",
    "def feature_engineer(dataset_df):\n",
    "    dfs = []\n",
    "    for c in CATEGORICAL:\n",
    "        tmp = dataset_df.groupby(['session_id','level_group'])[c].agg('nunique')\n",
    "        tmp.name = tmp.name + '_nunique'\n",
    "        dfs.append(tmp)\n",
    "    for c in NUMERICAL:\n",
    "        tmp = dataset_df.groupby(['session_id','level_group'])[c].agg('mean')\n",
    "        dfs.append(tmp)\n",
    "    for c in NUMERICAL:\n",
    "        tmp = dataset_df.groupby(['session_id','level_group'])[c].agg('std')\n",
    "        tmp.name = tmp.name + '_std'\n",
    "        dfs.append(tmp)\n",
    "    dataset_df = pd.concat(dfs,axis=1)\n",
    "    dataset_df = dataset_df.fillna(-1)\n",
    "    dataset_df = dataset_df.reset_index()\n",
    "    dataset_df = dataset_df.set_index('session_id')\n",
    "    return dataset_df"
   ]
  },
  {
   "cell_type": "code",
   "execution_count": 12,
   "id": "8f2faab3",
   "metadata": {
    "_cell_guid": "45bc9dc9-3989-4ca7-98e4-d3afd460c63a",
    "_uuid": "01d021ca-a49b-4590-bf62-b43336a1ed3b",
    "collapsed": false,
    "execution": {
     "iopub.execute_input": "2023-05-12T13:19:06.277016Z",
     "iopub.status.busy": "2023-05-12T13:19:06.276071Z",
     "iopub.status.idle": "2023-05-12T13:20:00.193088Z",
     "shell.execute_reply": "2023-05-12T13:20:00.191470Z"
    },
    "id": "JKcoPoemn2PA",
    "jupyter": {
     "outputs_hidden": false
    },
    "papermill": {
     "duration": 53.960552,
     "end_time": "2023-05-12T13:20:00.217250",
     "exception": false,
     "start_time": "2023-05-12T13:19:06.256698",
     "status": "completed"
    },
    "tags": []
   },
   "outputs": [
    {
     "name": "stdout",
     "output_type": "stream",
     "text": [
      "Full prepared dataset shape is (70686, 22)\n"
     ]
    }
   ],
   "source": [
    "dataset_df = feature_engineer(dataset_df)\n",
    "print(\"Full prepared dataset shape is {}\".format(dataset_df.shape))"
   ]
  },
  {
   "cell_type": "markdown",
   "id": "0fe6b7b7",
   "metadata": {
    "_cell_guid": "b056bb2b-a5f5-4a8f-a04b-f8a88e8a4a12",
    "_uuid": "045236c2-9366-4a08-8e9a-ca6c03e22831",
    "id": "891j7nc1n2PA",
    "papermill": {
     "duration": 0.016351,
     "end_time": "2023-05-12T13:20:00.250926",
     "exception": false,
     "start_time": "2023-05-12T13:20:00.234575",
     "status": "completed"
    },
    "tags": []
   },
   "source": [
    "Our feature engineered dataset is composed of 22 columns and 70686 entries."
   ]
  },
  {
   "cell_type": "code",
   "execution_count": 13,
   "id": "e5a9a57f",
   "metadata": {
    "execution": {
     "iopub.execute_input": "2023-05-12T13:20:00.284694Z",
     "iopub.status.busy": "2023-05-12T13:20:00.283733Z",
     "iopub.status.idle": "2023-05-12T13:20:01.387070Z",
     "shell.execute_reply": "2023-05-12T13:20:01.385782Z"
    },
    "papermill": {
     "duration": 1.124234,
     "end_time": "2023-05-12T13:20:01.390258",
     "exception": false,
     "start_time": "2023-05-12T13:20:00.266024",
     "status": "completed"
    },
    "tags": []
   },
   "outputs": [],
   "source": [
    "# Group k Fold split data\n",
    "from sklearn.model_selection import KFold, GroupKFold\n",
    "import numpy as np\n",
    "ALL_USERS = dataset_df.index.unique()\n",
    "gkf = GroupKFold(n_splits=5)\n",
    "oof = pd.DataFrame(data=np.zeros((len(ALL_USERS), 18)), index=ALL_USERS) # set all users to 18 columns as each question & set index to session_id\n",
    "model = {}"
   ]
  },
  {
   "cell_type": "code",
   "execution_count": 14,
   "id": "9f4a113f",
   "metadata": {
    "execution": {
     "iopub.execute_input": "2023-05-12T13:20:01.427378Z",
     "iopub.status.busy": "2023-05-12T13:20:01.426568Z",
     "iopub.status.idle": "2023-05-12T13:20:01.462217Z",
     "shell.execute_reply": "2023-05-12T13:20:01.461110Z"
    },
    "papermill": {
     "duration": 0.057554,
     "end_time": "2023-05-12T13:20:01.464929",
     "exception": false,
     "start_time": "2023-05-12T13:20:01.407375",
     "status": "completed"
    },
    "tags": []
   },
   "outputs": [
    {
     "data": {
      "text/html": [
       "<div>\n",
       "<style scoped>\n",
       "    .dataframe tbody tr th:only-of-type {\n",
       "        vertical-align: middle;\n",
       "    }\n",
       "\n",
       "    .dataframe tbody tr th {\n",
       "        vertical-align: top;\n",
       "    }\n",
       "\n",
       "    .dataframe thead th {\n",
       "        text-align: right;\n",
       "    }\n",
       "</style>\n",
       "<table border=\"1\" class=\"dataframe\">\n",
       "  <thead>\n",
       "    <tr style=\"text-align: right;\">\n",
       "      <th></th>\n",
       "      <th>0</th>\n",
       "      <th>1</th>\n",
       "      <th>2</th>\n",
       "      <th>3</th>\n",
       "      <th>4</th>\n",
       "      <th>5</th>\n",
       "      <th>6</th>\n",
       "      <th>7</th>\n",
       "      <th>8</th>\n",
       "      <th>9</th>\n",
       "      <th>10</th>\n",
       "      <th>11</th>\n",
       "      <th>12</th>\n",
       "      <th>13</th>\n",
       "      <th>14</th>\n",
       "      <th>15</th>\n",
       "      <th>16</th>\n",
       "      <th>17</th>\n",
       "    </tr>\n",
       "    <tr>\n",
       "      <th>session_id</th>\n",
       "      <th></th>\n",
       "      <th></th>\n",
       "      <th></th>\n",
       "      <th></th>\n",
       "      <th></th>\n",
       "      <th></th>\n",
       "      <th></th>\n",
       "      <th></th>\n",
       "      <th></th>\n",
       "      <th></th>\n",
       "      <th></th>\n",
       "      <th></th>\n",
       "      <th></th>\n",
       "      <th></th>\n",
       "      <th></th>\n",
       "      <th></th>\n",
       "      <th></th>\n",
       "      <th></th>\n",
       "    </tr>\n",
       "  </thead>\n",
       "  <tbody>\n",
       "    <tr>\n",
       "      <th>20090312431273200</th>\n",
       "      <td>0.0</td>\n",
       "      <td>0.0</td>\n",
       "      <td>0.0</td>\n",
       "      <td>0.0</td>\n",
       "      <td>0.0</td>\n",
       "      <td>0.0</td>\n",
       "      <td>0.0</td>\n",
       "      <td>0.0</td>\n",
       "      <td>0.0</td>\n",
       "      <td>0.0</td>\n",
       "      <td>0.0</td>\n",
       "      <td>0.0</td>\n",
       "      <td>0.0</td>\n",
       "      <td>0.0</td>\n",
       "      <td>0.0</td>\n",
       "      <td>0.0</td>\n",
       "      <td>0.0</td>\n",
       "      <td>0.0</td>\n",
       "    </tr>\n",
       "    <tr>\n",
       "      <th>20090312433251036</th>\n",
       "      <td>0.0</td>\n",
       "      <td>0.0</td>\n",
       "      <td>0.0</td>\n",
       "      <td>0.0</td>\n",
       "      <td>0.0</td>\n",
       "      <td>0.0</td>\n",
       "      <td>0.0</td>\n",
       "      <td>0.0</td>\n",
       "      <td>0.0</td>\n",
       "      <td>0.0</td>\n",
       "      <td>0.0</td>\n",
       "      <td>0.0</td>\n",
       "      <td>0.0</td>\n",
       "      <td>0.0</td>\n",
       "      <td>0.0</td>\n",
       "      <td>0.0</td>\n",
       "      <td>0.0</td>\n",
       "      <td>0.0</td>\n",
       "    </tr>\n",
       "    <tr>\n",
       "      <th>20090312455206810</th>\n",
       "      <td>0.0</td>\n",
       "      <td>0.0</td>\n",
       "      <td>0.0</td>\n",
       "      <td>0.0</td>\n",
       "      <td>0.0</td>\n",
       "      <td>0.0</td>\n",
       "      <td>0.0</td>\n",
       "      <td>0.0</td>\n",
       "      <td>0.0</td>\n",
       "      <td>0.0</td>\n",
       "      <td>0.0</td>\n",
       "      <td>0.0</td>\n",
       "      <td>0.0</td>\n",
       "      <td>0.0</td>\n",
       "      <td>0.0</td>\n",
       "      <td>0.0</td>\n",
       "      <td>0.0</td>\n",
       "      <td>0.0</td>\n",
       "    </tr>\n",
       "    <tr>\n",
       "      <th>20090313091715820</th>\n",
       "      <td>0.0</td>\n",
       "      <td>0.0</td>\n",
       "      <td>0.0</td>\n",
       "      <td>0.0</td>\n",
       "      <td>0.0</td>\n",
       "      <td>0.0</td>\n",
       "      <td>0.0</td>\n",
       "      <td>0.0</td>\n",
       "      <td>0.0</td>\n",
       "      <td>0.0</td>\n",
       "      <td>0.0</td>\n",
       "      <td>0.0</td>\n",
       "      <td>0.0</td>\n",
       "      <td>0.0</td>\n",
       "      <td>0.0</td>\n",
       "      <td>0.0</td>\n",
       "      <td>0.0</td>\n",
       "      <td>0.0</td>\n",
       "    </tr>\n",
       "    <tr>\n",
       "      <th>20090313571836404</th>\n",
       "      <td>0.0</td>\n",
       "      <td>0.0</td>\n",
       "      <td>0.0</td>\n",
       "      <td>0.0</td>\n",
       "      <td>0.0</td>\n",
       "      <td>0.0</td>\n",
       "      <td>0.0</td>\n",
       "      <td>0.0</td>\n",
       "      <td>0.0</td>\n",
       "      <td>0.0</td>\n",
       "      <td>0.0</td>\n",
       "      <td>0.0</td>\n",
       "      <td>0.0</td>\n",
       "      <td>0.0</td>\n",
       "      <td>0.0</td>\n",
       "      <td>0.0</td>\n",
       "      <td>0.0</td>\n",
       "      <td>0.0</td>\n",
       "    </tr>\n",
       "  </tbody>\n",
       "</table>\n",
       "</div>"
      ],
      "text/plain": [
       "                    0    1    2    3    4    5    6    7    8    9    10   11  \\\n",
       "session_id                                                                      \n",
       "20090312431273200  0.0  0.0  0.0  0.0  0.0  0.0  0.0  0.0  0.0  0.0  0.0  0.0   \n",
       "20090312433251036  0.0  0.0  0.0  0.0  0.0  0.0  0.0  0.0  0.0  0.0  0.0  0.0   \n",
       "20090312455206810  0.0  0.0  0.0  0.0  0.0  0.0  0.0  0.0  0.0  0.0  0.0  0.0   \n",
       "20090313091715820  0.0  0.0  0.0  0.0  0.0  0.0  0.0  0.0  0.0  0.0  0.0  0.0   \n",
       "20090313571836404  0.0  0.0  0.0  0.0  0.0  0.0  0.0  0.0  0.0  0.0  0.0  0.0   \n",
       "\n",
       "                    12   13   14   15   16   17  \n",
       "session_id                                       \n",
       "20090312431273200  0.0  0.0  0.0  0.0  0.0  0.0  \n",
       "20090312433251036  0.0  0.0  0.0  0.0  0.0  0.0  \n",
       "20090312455206810  0.0  0.0  0.0  0.0  0.0  0.0  \n",
       "20090313091715820  0.0  0.0  0.0  0.0  0.0  0.0  \n",
       "20090313571836404  0.0  0.0  0.0  0.0  0.0  0.0  "
      ]
     },
     "execution_count": 14,
     "metadata": {},
     "output_type": "execute_result"
    }
   ],
   "source": [
    "oof.head()"
   ]
  },
  {
   "cell_type": "markdown",
   "id": "febc56e3",
   "metadata": {
    "_cell_guid": "1f2937b8-bae3-437c-8de6-560e1c37a905",
    "_uuid": "42d4108f-0a69-47c7-b707-c615f6410417",
    "id": "Ij7TT3x-n2PB",
    "papermill": {
     "duration": 0.015483,
     "end_time": "2023-05-12T13:20:01.496026",
     "exception": false,
     "start_time": "2023-05-12T13:20:01.480543",
     "status": "completed"
    },
    "tags": []
   },
   "source": [
    "## Prepared dataset"
   ]
  },
  {
   "cell_type": "code",
   "execution_count": 15,
   "id": "15140595",
   "metadata": {
    "_cell_guid": "29231f51-e49f-458a-b880-f8a51e82c7d9",
    "_uuid": "e169155e-f9bc-414f-a814-78c982e6b46a",
    "collapsed": false,
    "execution": {
     "iopub.execute_input": "2023-05-12T13:20:01.532684Z",
     "iopub.status.busy": "2023-05-12T13:20:01.531736Z",
     "iopub.status.idle": "2023-05-12T13:20:01.650595Z",
     "shell.execute_reply": "2023-05-12T13:20:01.649336Z"
    },
    "id": "OZfTcCJfn2PC",
    "jupyter": {
     "outputs_hidden": false
    },
    "papermill": {
     "duration": 0.141787,
     "end_time": "2023-05-12T13:20:01.654440",
     "exception": false,
     "start_time": "2023-05-12T13:20:01.512653",
     "status": "completed"
    },
    "tags": []
   },
   "outputs": [
    {
     "name": "stdout",
     "output_type": "stream",
     "text": [
      "56547 examples in training, 14139 examples in testing.\n"
     ]
    }
   ],
   "source": [
    "# split the dataset into training and testing datasets\n",
    "\n",
    "def split_dataset(dataset, test_ratio=0.20):\n",
    "    USER_LIST = dataset_df.index.unique()\n",
    "    split = int(len(USER_LIST) * (1 - 0.20))\n",
    "    return dataset.loc[USER_LIST[:split]], dataset.loc[USER_LIST[split:]]\n",
    "\n",
    "train_x, valid_x = split_dataset(dataset_df)\n",
    "print(\"{} examples in training, {} examples in testing.\".format(\n",
    "    len(train_x), len(valid_x)))"
   ]
  },
  {
   "cell_type": "markdown",
   "id": "85964a1d",
   "metadata": {
    "_cell_guid": "5ccc7b81-2cf5-4828-aafa-02f5004eaa36",
    "_uuid": "653fd608-23cc-4f26-aece-b69315787daa",
    "id": "ZnVfKZfzn2PE",
    "papermill": {
     "duration": 0.016401,
     "end_time": "2023-05-12T13:20:01.686781",
     "exception": false,
     "start_time": "2023-05-12T13:20:01.670380",
     "status": "completed"
    },
    "tags": []
   },
   "source": [
    "## Select a Model\n",
    "\n",
    "- RandomForestModel\n",
    "- GradientBoostedTreesModel\n",
    "- CartModel\n",
    "- DistributedGradientBoostedTreesModel"
   ]
  },
  {
   "cell_type": "code",
   "execution_count": 16,
   "id": "0d860af4",
   "metadata": {
    "_cell_guid": "1024bfc0-1b13-4220-8f00-52193199d5c5",
    "_uuid": "7e175861-93bd-4051-ab39-db2451a014a2",
    "collapsed": false,
    "execution": {
     "iopub.execute_input": "2023-05-12T13:20:01.722421Z",
     "iopub.status.busy": "2023-05-12T13:20:01.721528Z",
     "iopub.status.idle": "2023-05-12T13:20:01.729149Z",
     "shell.execute_reply": "2023-05-12T13:20:01.728081Z"
    },
    "id": "KZBdcVU1n2PE",
    "jupyter": {
     "outputs_hidden": false
    },
    "papermill": {
     "duration": 0.028606,
     "end_time": "2023-05-12T13:20:01.731864",
     "exception": false,
     "start_time": "2023-05-12T13:20:01.703258",
     "status": "completed"
    },
    "tags": []
   },
   "outputs": [
    {
     "data": {
      "text/plain": [
       "[tensorflow_decision_forests.keras.RandomForestModel,\n",
       " tensorflow_decision_forests.keras.GradientBoostedTreesModel,\n",
       " tensorflow_decision_forests.keras.CartModel,\n",
       " tensorflow_decision_forests.keras.DistributedGradientBoostedTreesModel]"
      ]
     },
     "execution_count": 16,
     "metadata": {},
     "output_type": "execute_result"
    }
   ],
   "source": [
    "tfdf.keras.get_all_models()"
   ]
  },
  {
   "cell_type": "markdown",
   "id": "1c209ca7",
   "metadata": {
    "_cell_guid": "ed120449-1fd1-4bfe-a823-0829876a63b8",
    "_uuid": "7ebd9427-fccb-4794-9299-7d7ce762dd07",
    "id": "UdibIrM-XP5-",
    "papermill": {
     "duration": 0.015384,
     "end_time": "2023-05-12T13:20:01.762939",
     "exception": false,
     "start_time": "2023-05-12T13:20:01.747555",
     "status": "completed"
    },
    "tags": []
   },
   "source": [
    "# Training"
   ]
  },
  {
   "cell_type": "code",
   "execution_count": 17,
   "id": "53b584d3",
   "metadata": {
    "_cell_guid": "5a2a9e7c-8ca4-4bcd-8438-fffe8c05d75f",
    "_uuid": "351d9e6d-e32a-4ae5-a32e-35df52c487f3",
    "collapsed": false,
    "execution": {
     "iopub.execute_input": "2023-05-12T13:20:01.797013Z",
     "iopub.status.busy": "2023-05-12T13:20:01.796171Z",
     "iopub.status.idle": "2023-05-12T13:20:01.804601Z",
     "shell.execute_reply": "2023-05-12T13:20:01.803389Z"
    },
    "id": "7Brds67Wn2PD",
    "jupyter": {
     "outputs_hidden": false
    },
    "papermill": {
     "duration": 0.02918,
     "end_time": "2023-05-12T13:20:01.807760",
     "exception": false,
     "start_time": "2023-05-12T13:20:01.778580",
     "status": "completed"
    },
    "tags": []
   },
   "outputs": [],
   "source": [
    "# Fetch the unique list of user sessions in the validation dataset. We assigned \n",
    "# `session_id` as the index of our feature engineered dataset. Hence fetching \n",
    "# the unique values in the index column will give us a list of users in the \n",
    "# validation set.\n",
    "VALID_USER_LIST = valid_x.index.unique()\n",
    "\n",
    "# Create a dataframe for storing the predictions of each question for all users\n",
    "# in the validation set.\n",
    "# For this, the required size of the data frame is: \n",
    "# (no: of users in validation set  x no of questions).\n",
    "# We will initialize all the predicted values in the data frame to zero.\n",
    "# The dataframe's index column is the user `session_id`s. \n",
    "prediction_df = pd.DataFrame(data=np.zeros((len(VALID_USER_LIST),18)), index=VALID_USER_LIST)\n",
    "\n",
    "# Create an empty dictionary to store the models created for each question.\n",
    "models = {}\n",
    "\n",
    "# Create an empty dictionary to store the evaluation score for each question.\n",
    "evaluation_dict ={}"
   ]
  },
  {
   "cell_type": "code",
   "execution_count": 18,
   "id": "9be51491",
   "metadata": {
    "_cell_guid": "ff4a9550-9bc1-4a54-bdf8-ff62361e7492",
    "_uuid": "dfc66f88-1fc4-4726-ac52-b5bd33b2757a",
    "collapsed": false,
    "execution": {
     "iopub.execute_input": "2023-05-12T13:20:01.842772Z",
     "iopub.status.busy": "2023-05-12T13:20:01.841873Z",
     "iopub.status.idle": "2023-05-12T13:22:54.803454Z",
     "shell.execute_reply": "2023-05-12T13:22:54.802177Z"
    },
    "id": "VBO3VCOJn2PF",
    "jupyter": {
     "outputs_hidden": false
    },
    "papermill": {
     "duration": 172.983407,
     "end_time": "2023-05-12T13:22:54.807654",
     "exception": false,
     "start_time": "2023-05-12T13:20:01.824247",
     "status": "completed"
    },
    "tags": []
   },
   "outputs": [
    {
     "name": "stdout",
     "output_type": "stream",
     "text": [
      "### q_no 1 grp 0-4\n"
     ]
    },
    {
     "name": "stderr",
     "output_type": "stream",
     "text": [
      "/opt/conda/lib/python3.7/site-packages/ipykernel_launcher.py:23: SettingWithCopyWarning: \n",
      "A value is trying to be set on a copy of a slice from a DataFrame.\n",
      "Try using .loc[row_indexer,col_indexer] = value instead\n",
      "\n",
      "See the caveats in the documentation: https://pandas.pydata.org/pandas-docs/stable/user_guide/indexing.html#returning-a-view-versus-a-copy\n",
      "/opt/conda/lib/python3.7/site-packages/ipykernel_launcher.py:24: SettingWithCopyWarning: \n",
      "A value is trying to be set on a copy of a slice from a DataFrame.\n",
      "Try using .loc[row_indexer,col_indexer] = value instead\n",
      "\n",
      "See the caveats in the documentation: https://pandas.pydata.org/pandas-docs/stable/user_guide/indexing.html#returning-a-view-versus-a-copy\n"
     ]
    },
    {
     "name": "stdout",
     "output_type": "stream",
     "text": [
      "Use /tmp/tmp0pn_cd_v as temporary training directory\n",
      "Reading training dataset...\n",
      "Training dataset read in 0:00:09.157936. Found 18849 examples.\n",
      "Training model...\n"
     ]
    },
    {
     "name": "stderr",
     "output_type": "stream",
     "text": [
      "[INFO 2023-05-12T13:20:17.361970577+00:00 kernel.cc:1214] Loading model from path /tmp/tmp0pn_cd_v/model/ with prefix 7e905226336149b5\n"
     ]
    },
    {
     "name": "stdout",
     "output_type": "stream",
     "text": [
      "Model trained in 0:00:06.660663\n",
      "Compiling model...\n"
     ]
    },
    {
     "name": "stderr",
     "output_type": "stream",
     "text": [
      "[INFO 2023-05-12T13:20:18.062831669+00:00 decision_forest.cc:661] Model loaded with 100 root(s), 163502 node(s), and 21 input feature(s).\n",
      "[INFO 2023-05-12T13:20:18.063388535+00:00 abstract_model.cc:1311] Engine \"RandomForestOptPred\" built\n",
      "[INFO 2023-05-12T13:20:18.064710609+00:00 kernel.cc:1046] Use fast generic engine\n"
     ]
    },
    {
     "name": "stdout",
     "output_type": "stream",
     "text": [
      "WARNING: AutoGraph could not transform <function simple_ml_inference_op_with_handle at 0x7e23b4e55440> and will run it as-is.\n",
      "Please report this to the TensorFlow team. When filing the bug, set the verbosity to 10 (on Linux, `export AUTOGRAPH_VERBOSITY=10`) and attach the full output.\n",
      "Cause: could not get source code\n",
      "To silence this warning, decorate the function with @tf.autograph.experimental.do_not_convert\n",
      "Model compiled.\n",
      "5/5 [==============================] - 1s 22ms/step - loss: 0.0000e+00 - accuracy: 0.7307\n",
      "5/5 [==============================] - 0s 19ms/step\n",
      "### q_no 2 grp 0-4\n",
      "Use /tmp/tmp8nc9pxi4 as temporary training directory\n",
      "Reading training dataset...\n",
      "Training dataset read in 0:00:00.870485. Found 18849 examples.\n",
      "Training model...\n"
     ]
    },
    {
     "name": "stderr",
     "output_type": "stream",
     "text": [
      "[INFO 2023-05-12T13:20:27.393974229+00:00 kernel.cc:1214] Loading model from path /tmp/tmp8nc9pxi4/model/ with prefix 4a803b6015834dd8\n"
     ]
    },
    {
     "name": "stdout",
     "output_type": "stream",
     "text": [
      "Model trained in 0:00:03.986365\n",
      "Compiling model...\n"
     ]
    },
    {
     "name": "stderr",
     "output_type": "stream",
     "text": [
      "[INFO 2023-05-12T13:20:27.606605556+00:00 decision_forest.cc:661] Model loaded with 100 root(s), 50820 node(s), and 21 input feature(s).\n",
      "[INFO 2023-05-12T13:20:27.606977075+00:00 kernel.cc:1046] Use fast generic engine\n"
     ]
    },
    {
     "name": "stdout",
     "output_type": "stream",
     "text": [
      "Model compiled.\n",
      "5/5 [==============================] - 0s 18ms/step - loss: 0.0000e+00 - accuracy: 0.9756\n",
      "5/5 [==============================] - 0s 21ms/step\n",
      "### q_no 3 grp 0-4\n",
      "Use /tmp/tmpvc76ma2y as temporary training directory\n",
      "Reading training dataset...\n",
      "Training dataset read in 0:00:00.844749. Found 18849 examples.\n",
      "Training model...\n"
     ]
    },
    {
     "name": "stderr",
     "output_type": "stream",
     "text": [
      "[INFO 2023-05-12T13:20:34.104865355+00:00 kernel.cc:1214] Loading model from path /tmp/tmpvc76ma2y/model/ with prefix ccfabccd026c4d71\n"
     ]
    },
    {
     "name": "stdout",
     "output_type": "stream",
     "text": [
      "Model trained in 0:00:05.014725\n",
      "Compiling model...\n"
     ]
    },
    {
     "name": "stderr",
     "output_type": "stream",
     "text": [
      "[INFO 2023-05-12T13:20:34.506463495+00:00 decision_forest.cc:661] Model loaded with 100 root(s), 96322 node(s), and 21 input feature(s).\n",
      "[INFO 2023-05-12T13:20:34.506523389+00:00 abstract_model.cc:1311] Engine \"RandomForestOptPred\" built\n",
      "[INFO 2023-05-12T13:20:34.506553641+00:00 kernel.cc:1046] Use fast generic engine\n"
     ]
    },
    {
     "name": "stdout",
     "output_type": "stream",
     "text": [
      "Model compiled.\n",
      "5/5 [==============================] - 0s 20ms/step - loss: 0.0000e+00 - accuracy: 0.9351\n",
      "5/5 [==============================] - 0s 20ms/step\n",
      "### q_no 4 grp 5-12\n",
      "Use /tmp/tmpnedb52q0 as temporary training directory\n",
      "Reading training dataset...\n",
      "Training dataset read in 0:00:00.803023. Found 18849 examples.\n",
      "Training model...\n"
     ]
    },
    {
     "name": "stderr",
     "output_type": "stream",
     "text": [
      "[INFO 2023-05-12T13:20:41.587148104+00:00 kernel.cc:1214] Loading model from path /tmp/tmpnedb52q0/model/ with prefix 42ae8b79b5884537\n"
     ]
    },
    {
     "name": "stdout",
     "output_type": "stream",
     "text": [
      "Model trained in 0:00:05.984504\n",
      "Compiling model...\n"
     ]
    },
    {
     "name": "stderr",
     "output_type": "stream",
     "text": [
      "[INFO 2023-05-12T13:20:42.341385199+00:00 decision_forest.cc:661] Model loaded with 100 root(s), 175970 node(s), and 21 input feature(s).\n",
      "[INFO 2023-05-12T13:20:42.34146218+00:00 kernel.cc:1046] Use fast generic engine\n"
     ]
    },
    {
     "name": "stdout",
     "output_type": "stream",
     "text": [
      "Model compiled.\n",
      "5/5 [==============================] - 0s 22ms/step - loss: 0.0000e+00 - accuracy: 0.7942\n",
      "5/5 [==============================] - 0s 20ms/step\n",
      "### q_no 5 grp 5-12\n",
      "Use /tmp/tmpysmayj06 as temporary training directory\n",
      "Reading training dataset...\n",
      "Training dataset read in 0:00:00.779734. Found 18849 examples.\n",
      "Training model...\n"
     ]
    },
    {
     "name": "stderr",
     "output_type": "stream",
     "text": [
      "[INFO 2023-05-12T13:20:50.088155164+00:00 kernel.cc:1214] Loading model from path /tmp/tmpysmayj06/model/ with prefix d9055fa487d54ba6\n"
     ]
    },
    {
     "name": "stdout",
     "output_type": "stream",
     "text": [
      "Model trained in 0:00:06.815797\n",
      "Compiling model...\n"
     ]
    },
    {
     "name": "stderr",
     "output_type": "stream",
     "text": [
      "[INFO 2023-05-12T13:20:50.937434581+00:00 decision_forest.cc:661] Model loaded with 100 root(s), 197486 node(s), and 21 input feature(s).\n",
      "[INFO 2023-05-12T13:20:50.937497971+00:00 abstract_model.cc:1311] Engine \"RandomForestOptPred\" built\n",
      "[INFO 2023-05-12T13:20:50.937529843+00:00 kernel.cc:1046] Use fast generic engine\n"
     ]
    },
    {
     "name": "stdout",
     "output_type": "stream",
     "text": [
      "Model compiled.\n",
      "5/5 [==============================] - 0s 21ms/step - loss: 0.0000e+00 - accuracy: 0.6270\n",
      "5/5 [==============================] - 0s 22ms/step\n",
      "### q_no 6 grp 5-12\n",
      "Use /tmp/tmps5auzip4 as temporary training directory\n",
      "Reading training dataset...\n",
      "Training dataset read in 0:00:00.838875. Found 18849 examples.\n",
      "Training model...\n"
     ]
    },
    {
     "name": "stderr",
     "output_type": "stream",
     "text": [
      "[INFO 2023-05-12T13:20:58.242172455+00:00 kernel.cc:1214] Loading model from path /tmp/tmps5auzip4/model/ with prefix ecb32b088fdb432c\n"
     ]
    },
    {
     "name": "stdout",
     "output_type": "stream",
     "text": [
      "Model trained in 0:00:06.078132\n",
      "Compiling model...\n"
     ]
    },
    {
     "name": "stderr",
     "output_type": "stream",
     "text": [
      "[INFO 2023-05-12T13:20:58.960382842+00:00 decision_forest.cc:661] Model loaded with 100 root(s), 174286 node(s), and 21 input feature(s).\n",
      "[INFO 2023-05-12T13:20:58.960460276+00:00 kernel.cc:1046] Use fast generic engine\n"
     ]
    },
    {
     "name": "stdout",
     "output_type": "stream",
     "text": [
      "Model compiled.\n",
      "5/5 [==============================] - 0s 25ms/step - loss: 0.0000e+00 - accuracy: 0.7902\n",
      "5/5 [==============================] - 0s 21ms/step\n",
      "### q_no 7 grp 5-12\n",
      "Use /tmp/tmprho0o_p9 as temporary training directory\n",
      "Reading training dataset...\n",
      "Training dataset read in 0:00:00.803465. Found 18849 examples.\n",
      "Training model...\n"
     ]
    },
    {
     "name": "stderr",
     "output_type": "stream",
     "text": [
      "[INFO 2023-05-12T13:21:09.902320912+00:00 kernel.cc:1214] Loading model from path /tmp/tmprho0o_p9/model/ with prefix 7742946bae0a497d\n"
     ]
    },
    {
     "name": "stdout",
     "output_type": "stream",
     "text": [
      "Model trained in 0:00:06.244315\n",
      "Compiling model...\n"
     ]
    },
    {
     "name": "stderr",
     "output_type": "stream",
     "text": [
      "[INFO 2023-05-12T13:21:10.654015663+00:00 decision_forest.cc:661] Model loaded with 100 root(s), 180944 node(s), and 21 input feature(s).\n",
      "[INFO 2023-05-12T13:21:10.654115531+00:00 abstract_model.cc:1311] Engine \"RandomForestOptPred\" built\n",
      "[INFO 2023-05-12T13:21:10.654155574+00:00 kernel.cc:1046] Use fast generic engine\n"
     ]
    },
    {
     "name": "stdout",
     "output_type": "stream",
     "text": [
      "Model compiled.\n",
      "5/5 [==============================] - 0s 23ms/step - loss: 0.0000e+00 - accuracy: 0.7460\n",
      "5/5 [==============================] - 0s 21ms/step\n",
      "### q_no 8 grp 5-12\n",
      "Use /tmp/tmpc3fu6dlp as temporary training directory\n",
      "Reading training dataset...\n",
      "Training dataset read in 0:00:00.853254. Found 18849 examples.\n",
      "Training model...\n"
     ]
    },
    {
     "name": "stderr",
     "output_type": "stream",
     "text": [
      "[INFO 2023-05-12T13:21:21.530218856+00:00 kernel.cc:1214] Loading model from path /tmp/tmpc3fu6dlp/model/ with prefix ca1ee2347a114965\n"
     ]
    },
    {
     "name": "stdout",
     "output_type": "stream",
     "text": [
      "Model trained in 0:00:06.292519\n",
      "Compiling model...\n"
     ]
    },
    {
     "name": "stderr",
     "output_type": "stream",
     "text": [
      "[INFO 2023-05-12T13:21:22.139177443+00:00 decision_forest.cc:661] Model loaded with 100 root(s), 148534 node(s), and 21 input feature(s).\n",
      "[INFO 2023-05-12T13:21:22.139505172+00:00 abstract_model.cc:1311] Engine \"RandomForestOptPred\" built\n",
      "[INFO 2023-05-12T13:21:22.139540054+00:00 kernel.cc:1046] Use fast generic engine\n"
     ]
    },
    {
     "name": "stdout",
     "output_type": "stream",
     "text": [
      "Model compiled.\n",
      "5/5 [==============================] - 0s 21ms/step - loss: 0.0000e+00 - accuracy: 0.6374\n",
      "5/5 [==============================] - 0s 20ms/step\n",
      "### q_no 9 grp 5-12\n",
      "Use /tmp/tmp8rmqliwp as temporary training directory\n",
      "Reading training dataset...\n",
      "Training dataset read in 0:00:00.853673. Found 18849 examples.\n",
      "Training model...\n"
     ]
    },
    {
     "name": "stderr",
     "output_type": "stream",
     "text": [
      "[INFO 2023-05-12T13:21:29.567360331+00:00 kernel.cc:1214] Loading model from path /tmp/tmp8rmqliwp/model/ with prefix 4faf9e3f9af348d9\n"
     ]
    },
    {
     "name": "stdout",
     "output_type": "stream",
     "text": [
      "Model trained in 0:00:06.231668\n",
      "Compiling model...\n"
     ]
    },
    {
     "name": "stderr",
     "output_type": "stream",
     "text": [
      "[INFO 2023-05-12T13:21:30.290432111+00:00 decision_forest.cc:661] Model loaded with 100 root(s), 172382 node(s), and 21 input feature(s).\n",
      "[INFO 2023-05-12T13:21:30.29068956+00:00 kernel.cc:1046] Use fast generic engine\n"
     ]
    },
    {
     "name": "stdout",
     "output_type": "stream",
     "text": [
      "Model compiled.\n",
      "5/5 [==============================] - 0s 24ms/step - loss: 0.0000e+00 - accuracy: 0.7664\n",
      "5/5 [==============================] - 0s 21ms/step\n",
      "### q_no 10 grp 5-12\n",
      "Use /tmp/tmp6rwcxxtw as temporary training directory\n",
      "Reading training dataset...\n",
      "Training dataset read in 0:00:00.857873. Found 18849 examples.\n",
      "Training model...\n"
     ]
    },
    {
     "name": "stderr",
     "output_type": "stream",
     "text": [
      "[INFO 2023-05-12T13:21:41.123542425+00:00 kernel.cc:1214] Loading model from path /tmp/tmp6rwcxxtw/model/ with prefix 607c264a4f4a41ff\n"
     ]
    },
    {
     "name": "stdout",
     "output_type": "stream",
     "text": [
      "Model trained in 0:00:06.403152\n",
      "Compiling model...\n"
     ]
    },
    {
     "name": "stderr",
     "output_type": "stream",
     "text": [
      "[INFO 2023-05-12T13:21:41.876610801+00:00 decision_forest.cc:661] Model loaded with 100 root(s), 182310 node(s), and 21 input feature(s).\n",
      "[INFO 2023-05-12T13:21:41.876676492+00:00 abstract_model.cc:1311] Engine \"RandomForestOptPred\" built\n",
      "[INFO 2023-05-12T13:21:41.876707351+00:00 kernel.cc:1046] Use fast generic engine\n"
     ]
    },
    {
     "name": "stdout",
     "output_type": "stream",
     "text": [
      "Model compiled.\n",
      "5/5 [==============================] - 0s 21ms/step - loss: 0.0000e+00 - accuracy: 0.6017\n",
      "5/5 [==============================] - 0s 18ms/step\n",
      "### q_no 11 grp 5-12\n",
      "Use /tmp/tmp8azl_i_r as temporary training directory\n",
      "Reading training dataset...\n",
      "Training dataset read in 0:00:00.833282. Found 18849 examples.\n",
      "Training model...\n"
     ]
    },
    {
     "name": "stderr",
     "output_type": "stream",
     "text": [
      "[INFO 2023-05-12T13:21:49.226231433+00:00 kernel.cc:1214] Loading model from path /tmp/tmp8azl_i_r/model/ with prefix b03286fc8a0f40f6\n"
     ]
    },
    {
     "name": "stdout",
     "output_type": "stream",
     "text": [
      "Model trained in 0:00:06.108903\n",
      "Compiling model...\n"
     ]
    },
    {
     "name": "stderr",
     "output_type": "stream",
     "text": [
      "[INFO 2023-05-12T13:21:49.886209777+00:00 decision_forest.cc:661] Model loaded with 100 root(s), 157792 node(s), and 21 input feature(s).\n",
      "[INFO 2023-05-12T13:21:49.886325517+00:00 kernel.cc:1046] Use fast generic engine\n"
     ]
    },
    {
     "name": "stdout",
     "output_type": "stream",
     "text": [
      "Model compiled.\n",
      "5/5 [==============================] - 0s 24ms/step - loss: 0.0000e+00 - accuracy: 0.6535\n",
      "5/5 [==============================] - 0s 24ms/step\n",
      "### q_no 12 grp 5-12\n",
      "Use /tmp/tmpfww4lz0l as temporary training directory\n",
      "Reading training dataset...\n",
      "Training dataset read in 0:00:00.796881. Found 18849 examples.\n",
      "Training model...\n"
     ]
    },
    {
     "name": "stderr",
     "output_type": "stream",
     "text": [
      "[INFO 2023-05-12T13:21:56.732225519+00:00 kernel.cc:1214] Loading model from path /tmp/tmpfww4lz0l/model/ with prefix aa9d6f6d79484c64\n"
     ]
    },
    {
     "name": "stdout",
     "output_type": "stream",
     "text": [
      "Model trained in 0:00:05.542440\n",
      "Compiling model...\n"
     ]
    },
    {
     "name": "stderr",
     "output_type": "stream",
     "text": [
      "[INFO 2023-05-12T13:21:57.291829563+00:00 decision_forest.cc:661] Model loaded with 100 root(s), 131780 node(s), and 21 input feature(s).\n",
      "[INFO 2023-05-12T13:21:57.291917344+00:00 abstract_model.cc:1311] Engine \"RandomForestOptPred\" built\n",
      "[INFO 2023-05-12T13:21:57.291959454+00:00 kernel.cc:1046] Use fast generic engine\n"
     ]
    },
    {
     "name": "stdout",
     "output_type": "stream",
     "text": [
      "Model compiled.\n",
      "5/5 [==============================] - 0s 30ms/step - loss: 0.0000e+00 - accuracy: 0.8697\n",
      "5/5 [==============================] - 0s 19ms/step\n",
      "### q_no 13 grp 5-12\n",
      "Use /tmp/tmpvr6gfke3 as temporary training directory\n",
      "Reading training dataset...\n",
      "Training dataset read in 0:00:00.820401. Found 18849 examples.\n",
      "Training model...\n"
     ]
    },
    {
     "name": "stderr",
     "output_type": "stream",
     "text": [
      "[INFO 2023-05-12T13:22:04.505137891+00:00 kernel.cc:1214] Loading model from path /tmp/tmpvr6gfke3/model/ with prefix 4af669807c214452\n"
     ]
    },
    {
     "name": "stdout",
     "output_type": "stream",
     "text": [
      "Model trained in 0:00:05.884319\n",
      "Compiling model...\n"
     ]
    },
    {
     "name": "stderr",
     "output_type": "stream",
     "text": [
      "[INFO 2023-05-12T13:22:05.173260011+00:00 decision_forest.cc:661] Model loaded with 100 root(s), 158546 node(s), and 21 input feature(s).\n",
      "[INFO 2023-05-12T13:22:05.173335533+00:00 kernel.cc:1046] Use fast generic engine\n"
     ]
    },
    {
     "name": "stdout",
     "output_type": "stream",
     "text": [
      "Model compiled.\n",
      "5/5 [==============================] - 0s 18ms/step - loss: 0.0000e+00 - accuracy: 0.7208\n",
      "5/5 [==============================] - 0s 18ms/step\n",
      "### q_no 14 grp 13-22\n",
      "Use /tmp/tmpfj6rn1e_ as temporary training directory\n",
      "Reading training dataset...\n",
      "Training dataset read in 0:00:00.752295. Found 18849 examples.\n",
      "Training model...\n"
     ]
    },
    {
     "name": "stderr",
     "output_type": "stream",
     "text": [
      "[INFO 2023-05-12T13:22:12.286659035+00:00 kernel.cc:1214] Loading model from path /tmp/tmpfj6rn1e_/model/ with prefix 35c58a962cda47a9\n"
     ]
    },
    {
     "name": "stdout",
     "output_type": "stream",
     "text": [
      "Model trained in 0:00:06.162026\n",
      "Compiling model...\n"
     ]
    },
    {
     "name": "stderr",
     "output_type": "stream",
     "text": [
      "[INFO 2023-05-12T13:22:13.035159991+00:00 decision_forest.cc:661] Model loaded with 100 root(s), 184954 node(s), and 21 input feature(s).\n",
      "[INFO 2023-05-12T13:22:13.035221585+00:00 abstract_model.cc:1311] Engine \"RandomForestOptPred\" built\n",
      "[INFO 2023-05-12T13:22:13.035251445+00:00 kernel.cc:1046] Use fast generic engine\n"
     ]
    },
    {
     "name": "stdout",
     "output_type": "stream",
     "text": [
      "Model compiled.\n",
      "5/5 [==============================] - 0s 22ms/step - loss: 0.0000e+00 - accuracy: 0.7327\n",
      "5/5 [==============================] - 1s 18ms/step\n",
      "### q_no 15 grp 13-22\n",
      "Use /tmp/tmpck6jb_e2 as temporary training directory\n",
      "Reading training dataset...\n",
      "Training dataset read in 0:00:00.757092. Found 18849 examples.\n",
      "Training model...\n"
     ]
    },
    {
     "name": "stderr",
     "output_type": "stream",
     "text": [
      "[INFO 2023-05-12T13:22:20.57311848+00:00 kernel.cc:1214] Loading model from path /tmp/tmpck6jb_e2/model/ with prefix 80aba21ccdeb43c9\n"
     ]
    },
    {
     "name": "stdout",
     "output_type": "stream",
     "text": [
      "Model trained in 0:00:06.227841\n",
      "Compiling model...\n"
     ]
    },
    {
     "name": "stderr",
     "output_type": "stream",
     "text": [
      "[INFO 2023-05-12T13:22:21.357119805+00:00 decision_forest.cc:661] Model loaded with 100 root(s), 195254 node(s), and 21 input feature(s).\n",
      "[INFO 2023-05-12T13:22:21.357613545+00:00 kernel.cc:1046] Use fast generic engine\n"
     ]
    },
    {
     "name": "stdout",
     "output_type": "stream",
     "text": [
      "Model compiled.\n",
      "5/5 [==============================] - 0s 20ms/step - loss: 0.0000e+00 - accuracy: 0.5992\n",
      "5/5 [==============================] - 0s 17ms/step\n",
      "### q_no 16 grp 13-22\n",
      "Use /tmp/tmpxm10iygr as temporary training directory\n",
      "Reading training dataset...\n",
      "Training dataset read in 0:00:00.732361. Found 18849 examples.\n",
      "Training model...\n"
     ]
    },
    {
     "name": "stderr",
     "output_type": "stream",
     "text": [
      "[INFO 2023-05-12T13:22:31.135670597+00:00 kernel.cc:1214] Loading model from path /tmp/tmpxm10iygr/model/ with prefix 44e12f0a063a4851\n"
     ]
    },
    {
     "name": "stdout",
     "output_type": "stream",
     "text": [
      "Model trained in 0:00:05.146455\n",
      "Compiling model...\n"
     ]
    },
    {
     "name": "stderr",
     "output_type": "stream",
     "text": [
      "[INFO 2023-05-12T13:22:31.57177078+00:00 decision_forest.cc:661] Model loaded with 100 root(s), 109178 node(s), and 21 input feature(s).\n",
      "[INFO 2023-05-12T13:22:31.571861443+00:00 abstract_model.cc:1311] Engine \"RandomForestOptPred\" built\n",
      "[INFO 2023-05-12T13:22:31.57189283+00:00 kernel.cc:1046] Use fast generic engine\n"
     ]
    },
    {
     "name": "stdout",
     "output_type": "stream",
     "text": [
      "Model compiled.\n",
      "5/5 [==============================] - 0s 21ms/step - loss: 0.0000e+00 - accuracy: 0.7490\n",
      "5/5 [==============================] - 0s 17ms/step\n",
      "### q_no 17 grp 13-22\n",
      "Use /tmp/tmprqyixrca as temporary training directory\n",
      "Reading training dataset...\n",
      "Training dataset read in 0:00:00.771528. Found 18849 examples.\n",
      "Training model...\n"
     ]
    },
    {
     "name": "stderr",
     "output_type": "stream",
     "text": [
      "[INFO 2023-05-12T13:22:42.913089443+00:00 kernel.cc:1214] Loading model from path /tmp/tmprqyixrca/model/ with prefix e9ded384ac744d37\n"
     ]
    },
    {
     "name": "stdout",
     "output_type": "stream",
     "text": [
      "Model trained in 0:00:05.659689\n",
      "Compiling model...\n"
     ]
    },
    {
     "name": "stderr",
     "output_type": "stream",
     "text": [
      "[INFO 2023-05-12T13:22:43.46779351+00:00 decision_forest.cc:661] Model loaded with 100 root(s), 138226 node(s), and 21 input feature(s).\n",
      "[INFO 2023-05-12T13:22:43.46785803+00:00 abstract_model.cc:1311] Engine \"RandomForestOptPred\" built\n",
      "[INFO 2023-05-12T13:22:43.467887346+00:00 kernel.cc:1046] Use fast generic engine\n"
     ]
    },
    {
     "name": "stdout",
     "output_type": "stream",
     "text": [
      "Model compiled.\n",
      "5/5 [==============================] - 0s 20ms/step - loss: 0.0000e+00 - accuracy: 0.7036\n",
      "5/5 [==============================] - 0s 18ms/step\n",
      "### q_no 18 grp 13-22\n",
      "Use /tmp/tmpibu4xj33 as temporary training directory\n",
      "Reading training dataset...\n",
      "Training dataset read in 0:00:00.748622. Found 18849 examples.\n",
      "Training model...\n"
     ]
    },
    {
     "name": "stderr",
     "output_type": "stream",
     "text": [
      "[INFO 2023-05-12T13:22:53.491835231+00:00 kernel.cc:1214] Loading model from path /tmp/tmpibu4xj33/model/ with prefix 09133086a5af44a7\n"
     ]
    },
    {
     "name": "stdout",
     "output_type": "stream",
     "text": [
      "Model trained in 0:00:04.779959\n",
      "Compiling model...\n"
     ]
    },
    {
     "name": "stderr",
     "output_type": "stream",
     "text": [
      "[INFO 2023-05-12T13:22:53.863975673+00:00 decision_forest.cc:661] Model loaded with 100 root(s), 88932 node(s), and 21 input feature(s).\n",
      "[INFO 2023-05-12T13:22:53.864071483+00:00 abstract_model.cc:1311] Engine \"RandomForestOptPred\" built\n",
      "[INFO 2023-05-12T13:22:53.864111386+00:00 kernel.cc:1046] Use fast generic engine\n"
     ]
    },
    {
     "name": "stdout",
     "output_type": "stream",
     "text": [
      "Model compiled.\n",
      "5/5 [==============================] - 0s 22ms/step - loss: 0.0000e+00 - accuracy: 0.9516\n",
      "5/5 [==============================] - 0s 20ms/step\n"
     ]
    }
   ],
   "source": [
    "# Iterate through questions 1 to 18 to train models for each question, evaluate\n",
    "# the trained model and store the predicted values.\n",
    "for q_no in range(1,19):\n",
    "\n",
    "    # Select level group for the question based on the q_no.\n",
    "    if q_no<=3: grp = '0-4'\n",
    "    elif q_no<=13: grp = '5-12'\n",
    "    elif q_no<=22: grp = '13-22'\n",
    "    print(\"### q_no\", q_no, \"grp\", grp)\n",
    "    \n",
    "        \n",
    "    # Filter the rows in the datasets based on the selected level group. \n",
    "    train_df = train_x.loc[train_x.level_group == grp]\n",
    "    train_users = train_df.index.values\n",
    "    valid_df = valid_x.loc[valid_x.level_group == grp]\n",
    "    valid_users = valid_df.index.values\n",
    "\n",
    "    # Select the labels for the related q_no.\n",
    "    train_labels = labels.loc[labels.q==q_no].set_index('session').loc[train_users]\n",
    "    valid_labels = labels.loc[labels.q==q_no].set_index('session').loc[valid_users]\n",
    "\n",
    "    # Add the label to the filtered datasets.\n",
    "    train_df[\"correct\"] = train_labels[\"correct\"]\n",
    "    valid_df[\"correct\"] = valid_labels[\"correct\"]\n",
    "\n",
    "    # There's one more step required before we can train the model. \n",
    "    # We need to convert the datatset from Pandas format (pd.DataFrame)\n",
    "    # into TensorFlow Datasets format (tf.data.Dataset).\n",
    "    # TensorFlow Datasets is a high performance data loading library \n",
    "    # which is helpful when training neural networks with accelerators like GPUs and TPUs.\n",
    "    # We are omitting `level_group`, since it is not needed for training anymore.\n",
    "    train_ds = tfdf.keras.pd_dataframe_to_tf_dataset(train_df.loc[:, train_df.columns != 'level_group'], label=\"correct\")\n",
    "    valid_ds = tfdf.keras.pd_dataframe_to_tf_dataset(valid_df.loc[:, valid_df.columns != 'level_group'], label=\"correct\")\n",
    "\n",
    "    # By default the model is set to train for a classification task.\n",
    "    rfm = tfdf.keras.RandomForestModel(max_depth=15, num_trees=100)\n",
    "    rfm.compile(metrics=[\"accuracy\"])\n",
    "\n",
    "    # Train the model.\n",
    "    rfm.fit(x=train_ds)\n",
    "\n",
    "    # Store the model\n",
    "    models[f'{grp}_{q_no}'] = rfm\n",
    "\n",
    "    # Evaluate the trained model on the validation dataset and store the \n",
    "    # evaluation accuracy in the `evaluation_dict`.\n",
    "    inspector = rfm.make_inspector()\n",
    "    inspector.evaluation()\n",
    "    evaluation = rfm.evaluate(x=valid_ds,return_dict=True)\n",
    "    evaluation_dict[q_no] = evaluation[\"accuracy\"]         \n",
    "\n",
    "    # Use the trained model to make predictions on the validation dataset and \n",
    "    # store the predicted values in the `prediction_df` dataframe.\n",
    "    predict = rfm.predict(x=valid_ds)\n",
    "    prediction_df.loc[valid_users, q_no-1] = predict.flatten()"
   ]
  },
  {
   "cell_type": "markdown",
   "id": "72e82820",
   "metadata": {
    "_cell_guid": "1aeaac7b-cccc-4abe-82e1-4d5a54ab3d0f",
    "_uuid": "23236b20-17fb-42be-afb4-4bac83d2491d",
    "id": "oOdr1p-Bn2PF",
    "papermill": {
     "duration": 0.042365,
     "end_time": "2023-05-12T13:22:54.892893",
     "exception": false,
     "start_time": "2023-05-12T13:22:54.850528",
     "status": "completed"
    },
    "tags": []
   },
   "source": [
    "# Inspect the Accuracy of the models."
   ]
  },
  {
   "cell_type": "code",
   "execution_count": 19,
   "id": "f248a493",
   "metadata": {
    "_cell_guid": "67445bfc-da29-47d4-9ffc-11c51ad7debd",
    "_uuid": "e32bd493-52c7-4de0-aa30-56214974a5fa",
    "collapsed": false,
    "execution": {
     "iopub.execute_input": "2023-05-12T13:22:54.985769Z",
     "iopub.status.busy": "2023-05-12T13:22:54.984892Z",
     "iopub.status.idle": "2023-05-12T13:22:54.992813Z",
     "shell.execute_reply": "2023-05-12T13:22:54.991562Z"
    },
    "id": "qPOfPkm7n2PG",
    "jupyter": {
     "outputs_hidden": false
    },
    "papermill": {
     "duration": 0.054945,
     "end_time": "2023-05-12T13:22:54.995872",
     "exception": false,
     "start_time": "2023-05-12T13:22:54.940927",
     "status": "completed"
    },
    "tags": []
   },
   "outputs": [
    {
     "name": "stdout",
     "output_type": "stream",
     "text": [
      "question 1: accuracy 0.7307\n",
      "question 2: accuracy 0.9756\n",
      "question 3: accuracy 0.9351\n",
      "question 4: accuracy 0.7942\n",
      "question 5: accuracy 0.6270\n",
      "question 6: accuracy 0.7902\n",
      "question 7: accuracy 0.7460\n",
      "question 8: accuracy 0.6374\n",
      "question 9: accuracy 0.7664\n",
      "question 10: accuracy 0.6017\n",
      "question 11: accuracy 0.6535\n",
      "question 12: accuracy 0.8697\n",
      "question 13: accuracy 0.7208\n",
      "question 14: accuracy 0.7327\n",
      "question 15: accuracy 0.5992\n",
      "question 16: accuracy 0.7490\n",
      "question 17: accuracy 0.7036\n",
      "question 18: accuracy 0.9516\n",
      "\n",
      "Average accuracy 0.754685617155499\n"
     ]
    }
   ],
   "source": [
    "for name, value in evaluation_dict.items():\n",
    "  print(f\"question {name}: accuracy {value:.4f}\")\n",
    "\n",
    "print(\"\\nAverage accuracy\", sum(evaluation_dict.values())/18)"
   ]
  },
  {
   "cell_type": "markdown",
   "id": "e8827cb8",
   "metadata": {
    "_cell_guid": "86b8ba71-2b98-4fec-bbba-9f9a07a7dd82",
    "_uuid": "ca6352a8-7bdd-489d-97ab-65f39672eaa4",
    "id": "qtiCtfNCn2PG",
    "papermill": {
     "duration": 0.044048,
     "end_time": "2023-05-12T13:22:55.082395",
     "exception": false,
     "start_time": "2023-05-12T13:22:55.038347",
     "status": "completed"
    },
    "tags": []
   },
   "source": [
    "# Visualize the model"
   ]
  },
  {
   "cell_type": "code",
   "execution_count": 20,
   "id": "a98f3b8d",
   "metadata": {
    "_cell_guid": "36966217-6b97-47ee-b4ec-acacd1c252bf",
    "_uuid": "6d1bc41d-fc81-43de-8dfa-d4d0a2c9fe4a",
    "collapsed": false,
    "execution": {
     "iopub.execute_input": "2023-05-12T13:22:55.169508Z",
     "iopub.status.busy": "2023-05-12T13:22:55.168610Z",
     "iopub.status.idle": "2023-05-12T13:22:55.269262Z",
     "shell.execute_reply": "2023-05-12T13:22:55.268199Z"
    },
    "id": "od__6uAan2PG",
    "jupyter": {
     "outputs_hidden": false
    },
    "papermill": {
     "duration": 0.147219,
     "end_time": "2023-05-12T13:22:55.272014",
     "exception": false,
     "start_time": "2023-05-12T13:22:55.124795",
     "status": "completed"
    },
    "tags": []
   },
   "outputs": [
    {
     "data": {
      "text/html": [
       "\n",
       "<script src=\"https://d3js.org/d3.v6.min.js\"></script>\n",
       "<div id=\"tree_plot_84ca24843bb4401daba01bb64630eb57\"></div>\n",
       "<script>\n",
       "/*\n",
       " * Copyright 2021 Google LLC.\n",
       " * Licensed under the Apache License, Version 2.0 (the \"License\");\n",
       " * you may not use this file except in compliance with the License.\n",
       " * You may obtain a copy of the License at\n",
       " *\n",
       " *     https://www.apache.org/licenses/LICENSE-2.0\n",
       " *\n",
       " * Unless required by applicable law or agreed to in writing, software\n",
       " * distributed under the License is distributed on an \"AS IS\" BASIS,\n",
       " * WITHOUT WARRANTIES OR CONDITIONS OF ANY KIND, either express or implied.\n",
       " * See the License for the specific language governing permissions and\n",
       " * limitations under the License.\n",
       " */\n",
       "\n",
       "/**\n",
       " *  Plotting of decision trees generated by TF-DF.\n",
       " *\n",
       " *  A tree is a recursive structure of node objects.\n",
       " *  A node contains one or more of the following components:\n",
       " *\n",
       " *    - A value: Representing the output of the node. If the node is not a leaf,\n",
       " *      the value is only present for analysis i.e. it is not used for\n",
       " *      predictions.\n",
       " *\n",
       " *    - A condition : For non-leaf nodes, the condition (also known as split)\n",
       " *      defines a binary test to branch to the positive or negative child.\n",
       " *\n",
       " *    - An explanation: Generally a plot showing the relation between the label\n",
       " *      and the condition to give insights about the effect of the condition.\n",
       " *\n",
       " *    - Two children : For non-leaf nodes, the children nodes. The first\n",
       " *      children (i.e. \"node.children[0]\") is the negative children (drawn in\n",
       " *      red). The second children is the positive one (drawn in green).\n",
       " *\n",
       " */\n",
       "\n",
       "/**\n",
       " * Plots a single decision tree into a DOM element.\n",
       " * @param {!options} options Dictionary of configurations.\n",
       " * @param {!tree} raw_tree Recursive tree structure.\n",
       " * @param {string} canvas_id Id of the output dom element.\n",
       " */\n",
       "function display_tree(options, raw_tree, canvas_id) {\n",
       "  console.log(options);\n",
       "\n",
       "  // Determine the node placement.\n",
       "  const tree_struct = d3.tree().nodeSize(\n",
       "      [options.node_y_offset, options.node_x_offset])(d3.hierarchy(raw_tree));\n",
       "\n",
       "  // Boundaries of the node placement.\n",
       "  let x_min = Infinity;\n",
       "  let x_max = -x_min;\n",
       "  let y_min = Infinity;\n",
       "  let y_max = -x_min;\n",
       "\n",
       "  tree_struct.each(d => {\n",
       "    if (d.x > x_max) x_max = d.x;\n",
       "    if (d.x < x_min) x_min = d.x;\n",
       "    if (d.y > y_max) y_max = d.y;\n",
       "    if (d.y < y_min) y_min = d.y;\n",
       "  });\n",
       "\n",
       "  // Size of the plot.\n",
       "  const width = y_max - y_min + options.node_x_size + options.margin * 2;\n",
       "  const height = x_max - x_min + options.node_y_size + options.margin * 2 +\n",
       "      options.node_y_offset - options.node_y_size;\n",
       "\n",
       "  const plot = d3.select(canvas_id);\n",
       "\n",
       "  // Tool tip\n",
       "  options.tooltip = plot.append('div')\n",
       "                        .attr('width', 100)\n",
       "                        .attr('height', 100)\n",
       "                        .style('padding', '4px')\n",
       "                        .style('background', '#fff')\n",
       "                        .style('box-shadow', '4px 4px 0px rgba(0,0,0,0.1)')\n",
       "                        .style('border', '1px solid black')\n",
       "                        .style('font-family', 'sans-serif')\n",
       "                        .style('font-size', options.font_size)\n",
       "                        .style('position', 'absolute')\n",
       "                        .style('z-index', '10')\n",
       "                        .attr('pointer-events', 'none')\n",
       "                        .style('display', 'none');\n",
       "\n",
       "  // Create canvas\n",
       "  const svg = plot.append('svg').attr('width', width).attr('height', height);\n",
       "  const graph =\n",
       "      svg.style('overflow', 'visible')\n",
       "          .append('g')\n",
       "          .attr('font-family', 'sans-serif')\n",
       "          .attr('font-size', options.font_size)\n",
       "          .attr(\n",
       "              'transform',\n",
       "              () => `translate(${options.margin},${\n",
       "                  - x_min + options.node_y_offset / 2 + options.margin})`);\n",
       "\n",
       "  // Plot bounding box.\n",
       "  if (options.show_plot_bounding_box) {\n",
       "    svg.append('rect')\n",
       "        .attr('width', width)\n",
       "        .attr('height', height)\n",
       "        .attr('fill', 'none')\n",
       "        .attr('stroke-width', 1.0)\n",
       "        .attr('stroke', 'black');\n",
       "  }\n",
       "\n",
       "  // Draw the edges.\n",
       "  display_edges(options, graph, tree_struct);\n",
       "\n",
       "  // Draw the nodes.\n",
       "  display_nodes(options, graph, tree_struct);\n",
       "}\n",
       "\n",
       "/**\n",
       " * Draw the nodes of the tree.\n",
       " * @param {!options} options Dictionary of configurations.\n",
       " * @param {!graph} graph D3 search handle containing the graph.\n",
       " * @param {!tree_struct} tree_struct Structure of the tree (node placement,\n",
       " *     data, etc.).\n",
       " */\n",
       "function display_nodes(options, graph, tree_struct) {\n",
       "  const nodes = graph.append('g')\n",
       "                    .selectAll('g')\n",
       "                    .data(tree_struct.descendants())\n",
       "                    .join('g')\n",
       "                    .attr('transform', d => `translate(${d.y},${d.x})`);\n",
       "\n",
       "  nodes.append('rect')\n",
       "      .attr('x', 0.5)\n",
       "      .attr('y', 0.5)\n",
       "      .attr('width', options.node_x_size)\n",
       "      .attr('height', options.node_y_size)\n",
       "      .attr('stroke', 'lightgrey')\n",
       "      .attr('stroke-width', 1)\n",
       "      .attr('fill', 'white')\n",
       "      .attr('y', -options.node_y_size / 2);\n",
       "\n",
       "  // Brackets on the right of condition nodes without children.\n",
       "  non_leaf_node_without_children =\n",
       "      nodes.filter(node => node.data.condition != null && node.children == null)\n",
       "          .append('g')\n",
       "          .attr('transform', `translate(${options.node_x_size},0)`);\n",
       "\n",
       "  non_leaf_node_without_children.append('path')\n",
       "      .attr('d', 'M0,0 C 10,0 0,10 10,10')\n",
       "      .attr('fill', 'none')\n",
       "      .attr('stroke-width', 1.0)\n",
       "      .attr('stroke', '#F00');\n",
       "\n",
       "  non_leaf_node_without_children.append('path')\n",
       "      .attr('d', 'M0,0 C 10,0 0,-10 10,-10')\n",
       "      .attr('fill', 'none')\n",
       "      .attr('stroke-width', 1.0)\n",
       "      .attr('stroke', '#0F0');\n",
       "\n",
       "  const node_content = nodes.append('g').attr(\n",
       "      'transform',\n",
       "      `translate(0,${options.node_padding - options.node_y_size / 2})`);\n",
       "\n",
       "  node_content.append(node => create_node_element(options, node));\n",
       "}\n",
       "\n",
       "/**\n",
       " * Creates the D3 content for a single node.\n",
       " * @param {!options} options Dictionary of configurations.\n",
       " * @param {!node} node Node to draw.\n",
       " * @return {!d3} D3 content.\n",
       " */\n",
       "function create_node_element(options, node) {\n",
       "  // Output accumulator.\n",
       "  let output = {\n",
       "    // Content to draw.\n",
       "    content: d3.create('svg:g'),\n",
       "    // Vertical offset to the next element to draw.\n",
       "    vertical_offset: 0\n",
       "  };\n",
       "\n",
       "  // Conditions.\n",
       "  if (node.data.condition != null) {\n",
       "    display_condition(options, node.data.condition, output);\n",
       "  }\n",
       "\n",
       "  // Values.\n",
       "  if (node.data.value != null) {\n",
       "    display_value(options, node.data.value, output);\n",
       "  }\n",
       "\n",
       "  // Explanations.\n",
       "  if (node.data.explanation != null) {\n",
       "    display_explanation(options, node.data.explanation, output);\n",
       "  }\n",
       "\n",
       "  return output.content.node();\n",
       "}\n",
       "\n",
       "\n",
       "/**\n",
       " * Adds a single line of text inside of a node.\n",
       " * @param {!options} options Dictionary of configurations.\n",
       " * @param {string} text Text to display.\n",
       " * @param {!output} output Output display accumulator.\n",
       " */\n",
       "function display_node_text(options, text, output) {\n",
       "  output.content.append('text')\n",
       "      .attr('x', options.node_padding)\n",
       "      .attr('y', output.vertical_offset)\n",
       "      .attr('alignment-baseline', 'hanging')\n",
       "      .text(text);\n",
       "  output.vertical_offset += 10;\n",
       "}\n",
       "\n",
       "/**\n",
       " * Adds a single line of text inside of a node with a tooltip.\n",
       " * @param {!options} options Dictionary of configurations.\n",
       " * @param {string} text Text to display.\n",
       " * @param {string} tooltip Text in the Tooltip.\n",
       " * @param {!output} output Output display accumulator.\n",
       " */\n",
       "function display_node_text_with_tooltip(options, text, tooltip, output) {\n",
       "  const item = output.content.append('text')\n",
       "                   .attr('x', options.node_padding)\n",
       "                   .attr('alignment-baseline', 'hanging')\n",
       "                   .text(text);\n",
       "\n",
       "  add_tooltip(options, item, () => tooltip);\n",
       "  output.vertical_offset += 10;\n",
       "}\n",
       "\n",
       "/**\n",
       " * Adds a tooltip to a dom element.\n",
       " * @param {!options} options Dictionary of configurations.\n",
       " * @param {!dom} target Dom element to equip with a tooltip.\n",
       " * @param {!func} get_content Generates the html content of the tooltip.\n",
       " */\n",
       "function add_tooltip(options, target, get_content) {\n",
       "  function show(d) {\n",
       "    options.tooltip.style('display', 'block');\n",
       "    options.tooltip.html(get_content());\n",
       "  }\n",
       "\n",
       "  function hide(d) {\n",
       "    options.tooltip.style('display', 'none');\n",
       "  }\n",
       "\n",
       "  function move(d) {\n",
       "    options.tooltip.style('display', 'block');\n",
       "    options.tooltip.style('left', (d.pageX + 5) + 'px');\n",
       "    options.tooltip.style('top', d.pageY + 'px');\n",
       "  }\n",
       "\n",
       "  target.on('mouseover', show);\n",
       "  target.on('mouseout', hide);\n",
       "  target.on('mousemove', move);\n",
       "}\n",
       "\n",
       "/**\n",
       " * Adds a condition inside of a node.\n",
       " * @param {!options} options Dictionary of configurations.\n",
       " * @param {!condition} condition Condition to display.\n",
       " * @param {!output} output Output display accumulator.\n",
       " */\n",
       "function display_condition(options, condition, output) {\n",
       "  threshold_format = d3.format('r');\n",
       "\n",
       "  if (condition.type === 'IS_MISSING') {\n",
       "    display_node_text(options, `${condition.attribute} is missing`, output);\n",
       "    return;\n",
       "  }\n",
       "\n",
       "  if (condition.type === 'IS_TRUE') {\n",
       "    display_node_text(options, `${condition.attribute} is true`, output);\n",
       "    return;\n",
       "  }\n",
       "\n",
       "  if (condition.type === 'NUMERICAL_IS_HIGHER_THAN') {\n",
       "    format = d3.format('r');\n",
       "    display_node_text(\n",
       "        options,\n",
       "        `${condition.attribute} >= ${threshold_format(condition.threshold)}`,\n",
       "        output);\n",
       "    return;\n",
       "  }\n",
       "\n",
       "  if (condition.type === 'CATEGORICAL_IS_IN') {\n",
       "    display_node_text_with_tooltip(\n",
       "        options, `${condition.attribute} in [...]`,\n",
       "        `${condition.attribute} in [${condition.mask}]`, output);\n",
       "    return;\n",
       "  }\n",
       "\n",
       "  if (condition.type === 'CATEGORICAL_SET_CONTAINS') {\n",
       "    display_node_text_with_tooltip(\n",
       "        options, `${condition.attribute} intersect [...]`,\n",
       "        `${condition.attribute} intersect [${condition.mask}]`, output);\n",
       "    return;\n",
       "  }\n",
       "\n",
       "  if (condition.type === 'NUMERICAL_SPARSE_OBLIQUE') {\n",
       "    display_node_text_with_tooltip(\n",
       "        options, `Sparse oblique split...`,\n",
       "        `[${condition.attributes}]*[${condition.weights}]>=${\n",
       "            threshold_format(condition.threshold)}`,\n",
       "        output);\n",
       "    return;\n",
       "  }\n",
       "\n",
       "  display_node_text(\n",
       "      options, `Non supported condition ${condition.type}`, output);\n",
       "}\n",
       "\n",
       "/**\n",
       " * Adds a value inside of a node.\n",
       " * @param {!options} options Dictionary of configurations.\n",
       " * @param {!value} value Value to display.\n",
       " * @param {!output} output Output display accumulator.\n",
       " */\n",
       "function display_value(options, value, output) {\n",
       "  if (value.type === 'PROBABILITY') {\n",
       "    const left_margin = 0;\n",
       "    const right_margin = 50;\n",
       "    const plot_width = options.node_x_size - options.node_padding * 2 -\n",
       "        left_margin - right_margin;\n",
       "\n",
       "    let cusum = Array.from(d3.cumsum(value.distribution));\n",
       "    cusum.unshift(0);\n",
       "    const distribution_plot = output.content.append('g').attr(\n",
       "        'transform', `translate(0,${output.vertical_offset + 0.5})`);\n",
       "\n",
       "    distribution_plot.selectAll('rect')\n",
       "        .data(value.distribution)\n",
       "        .join('rect')\n",
       "        .attr('height', 10)\n",
       "        .attr(\n",
       "            'x',\n",
       "            (d, i) =>\n",
       "                (cusum[i] * plot_width + left_margin + options.node_padding))\n",
       "        .attr('width', (d, i) => d * plot_width)\n",
       "        .style('fill', (d, i) => d3.schemeSet1[i]);\n",
       "\n",
       "    const num_examples =\n",
       "        output.content.append('g')\n",
       "            .attr('transform', `translate(0,${output.vertical_offset})`)\n",
       "            .append('text')\n",
       "            .attr('x', options.node_x_size - options.node_padding)\n",
       "            .attr('alignment-baseline', 'hanging')\n",
       "            .attr('text-anchor', 'end')\n",
       "            .text(`(${value.num_examples})`);\n",
       "\n",
       "    const distribution_details = d3.create('ul');\n",
       "    distribution_details.selectAll('li')\n",
       "        .data(value.distribution)\n",
       "        .join('li')\n",
       "        .append('span')\n",
       "        .text(\n",
       "            (d, i) =>\n",
       "                'class ' + i + ': ' + d3.format('.3%')(value.distribution[i]));\n",
       "\n",
       "    add_tooltip(options, distribution_plot, () => distribution_details.html());\n",
       "    add_tooltip(options, num_examples, () => 'Number of examples');\n",
       "\n",
       "    output.vertical_offset += 10;\n",
       "    return;\n",
       "  }\n",
       "\n",
       "  if (value.type === 'REGRESSION') {\n",
       "    display_node_text(\n",
       "        options,\n",
       "        'value: ' + d3.format('r')(value.value) + ` (` +\n",
       "            d3.format('.6')(value.num_examples) + `)`,\n",
       "        output);\n",
       "    return;\n",
       "  }\n",
       "\n",
       "  display_node_text(options, `Non supported value ${value.type}`, output);\n",
       "}\n",
       "\n",
       "/**\n",
       " * Adds an explanation inside of a node.\n",
       " * @param {!options} options Dictionary of configurations.\n",
       " * @param {!explanation} explanation Explanation to display.\n",
       " * @param {!output} output Output display accumulator.\n",
       " */\n",
       "function display_explanation(options, explanation, output) {\n",
       "  // Margin before the explanation.\n",
       "  output.vertical_offset += 10;\n",
       "\n",
       "  display_node_text(\n",
       "      options, `Non supported explanation ${explanation.type}`, output);\n",
       "}\n",
       "\n",
       "\n",
       "/**\n",
       " * Draw the edges of the tree.\n",
       " * @param {!options} options Dictionary of configurations.\n",
       " * @param {!graph} graph D3 search handle containing the graph.\n",
       " * @param {!tree_struct} tree_struct Structure of the tree (node placement,\n",
       " *     data, etc.).\n",
       " */\n",
       "function display_edges(options, graph, tree_struct) {\n",
       "  // Draw an edge between a parent and a child node with a bezier.\n",
       "  function draw_single_edge(d) {\n",
       "    return 'M' + (d.source.y + options.node_x_size) + ',' + d.source.x + ' C' +\n",
       "        (d.source.y + options.node_x_size + options.edge_rounding) + ',' +\n",
       "        d.source.x + ' ' + (d.target.y - options.edge_rounding) + ',' +\n",
       "        d.target.x + ' ' + d.target.y + ',' + d.target.x;\n",
       "  }\n",
       "\n",
       "  graph.append('g')\n",
       "      .attr('fill', 'none')\n",
       "      .attr('stroke-width', 1.2)\n",
       "      .selectAll('path')\n",
       "      .data(tree_struct.links())\n",
       "      .join('path')\n",
       "      .attr('d', draw_single_edge)\n",
       "      .attr(\n",
       "          'stroke', d => (d.target === d.source.children[0]) ? '#0F0' : '#F00');\n",
       "}\n",
       "\n",
       "display_tree({\"margin\": 10, \"node_x_size\": 160, \"node_y_size\": 28, \"node_x_offset\": 180, \"node_y_offset\": 33, \"font_size\": 10, \"edge_rounding\": 20, \"node_padding\": 2, \"show_plot_bounding_box\": false}, {\"value\": {\"type\": \"PROBABILITY\", \"distribution\": [0.273277096928219, 0.726722903071781], \"num_examples\": 18849.0}, \"condition\": {\"type\": \"NUMERICAL_IS_HIGHER_THAN\", \"attribute\": \"elapsed_time\", \"threshold\": 141758.40625}, \"children\": [{\"value\": {\"type\": \"PROBABILITY\", \"distribution\": [0.3367952522255193, 0.6632047477744807], \"num_examples\": 6740.0}, \"condition\": {\"type\": \"NUMERICAL_IS_HIGHER_THAN\", \"attribute\": \"level\", \"threshold\": 1.9437716007232666}, \"children\": [{\"value\": {\"type\": \"PROBABILITY\", \"distribution\": [0.37646459500764134, 0.6235354049923586], \"num_examples\": 3926.0}, \"condition\": {\"type\": \"NUMERICAL_IS_HIGHER_THAN\", \"attribute\": \"page\", \"threshold\": -0.5}, \"children\": [{\"value\": {\"type\": \"PROBABILITY\", \"distribution\": [0.4040504648074369, 0.5959495351925631], \"num_examples\": 3012.0}, \"condition\": {\"type\": \"NUMERICAL_IS_HIGHER_THAN\", \"attribute\": \"elapsed_time\", \"threshold\": 186773.34375}}, {\"value\": {\"type\": \"PROBABILITY\", \"distribution\": [0.2855579868708972, 0.7144420131291028], \"num_examples\": 914.0}, \"condition\": {\"type\": \"NUMERICAL_IS_HIGHER_THAN\", \"attribute\": \"room_coor_x\", \"threshold\": 132.59280395507812}}]}, {\"value\": {\"type\": \"PROBABILITY\", \"distribution\": [0.2814498933901919, 0.7185501066098081], \"num_examples\": 2814.0}, \"condition\": {\"type\": \"NUMERICAL_IS_HIGHER_THAN\", \"attribute\": \"room_coor_x_std\", \"threshold\": 417.67303466796875}, \"children\": [{\"value\": {\"type\": \"PROBABILITY\", \"distribution\": [0.3060217176702863, 0.6939782823297137], \"num_examples\": 2026.0}, \"condition\": {\"type\": \"NUMERICAL_IS_HIGHER_THAN\", \"attribute\": \"screen_coor_x\", \"threshold\": 649.5166625976562}}, {\"value\": {\"type\": \"PROBABILITY\", \"distribution\": [0.2182741116751269, 0.7817258883248731], \"num_examples\": 788.0}, \"condition\": {\"type\": \"NUMERICAL_IS_HIGHER_THAN\", \"attribute\": \"page_std\", \"threshold\": 0.5169734954833984}}]}]}, {\"value\": {\"type\": \"PROBABILITY\", \"distribution\": [0.23792220662317284, 0.7620777933768271], \"num_examples\": 12109.0}, \"condition\": {\"type\": \"NUMERICAL_IS_HIGHER_THAN\", \"attribute\": \"text_fqid_nunique\", \"threshold\": 11.5}, \"children\": [{\"value\": {\"type\": \"PROBABILITY\", \"distribution\": [0.2524967433782023, 0.7475032566217976], \"num_examples\": 9212.0}, \"condition\": {\"type\": \"NUMERICAL_IS_HIGHER_THAN\", \"attribute\": \"page_std\", \"threshold\": -0.5}, \"children\": [{\"value\": {\"type\": \"PROBABILITY\", \"distribution\": [0.28401360544217685, 0.7159863945578231], \"num_examples\": 4704.0}, \"condition\": {\"type\": \"NUMERICAL_IS_HIGHER_THAN\", \"attribute\": \"screen_coor_x_std\", \"threshold\": 228.3046875}}, {\"value\": {\"type\": \"PROBABILITY\", \"distribution\": [0.21960958296362024, 0.7803904170363798], \"num_examples\": 4508.0}, \"condition\": {\"type\": \"NUMERICAL_IS_HIGHER_THAN\", \"attribute\": \"level\", \"threshold\": 1.9643914699554443}}]}, {\"value\": {\"type\": \"PROBABILITY\", \"distribution\": [0.1915774939592682, 0.8084225060407317], \"num_examples\": 2897.0}, \"condition\": {\"type\": \"NUMERICAL_IS_HIGHER_THAN\", \"attribute\": \"elapsed_time\", \"threshold\": 53118.1796875}, \"children\": [{\"value\": {\"type\": \"PROBABILITY\", \"distribution\": [0.17851500789889416, 0.8214849921011058], \"num_examples\": 2532.0}, \"condition\": {\"type\": \"NUMERICAL_IS_HIGHER_THAN\", \"attribute\": \"elapsed_time_std\", \"threshold\": 65461.234375}}, {\"value\": {\"type\": \"PROBABILITY\", \"distribution\": [0.2821917808219178, 0.7178082191780822], \"num_examples\": 365.0}, \"condition\": {\"type\": \"NUMERICAL_IS_HIGHER_THAN\", \"attribute\": \"room_coor_y\", \"threshold\": -16.2383975982666}}]}]}]}, \"#tree_plot_84ca24843bb4401daba01bb64630eb57\")\n",
       "</script>\n"
      ],
      "text/plain": [
       "<IPython.core.display.HTML object>"
      ]
     },
     "execution_count": 20,
     "metadata": {},
     "output_type": "execute_result"
    }
   ],
   "source": [
    "tfdf.model_plotter.plot_model_in_colab(models['0-4_1'], tree_idx=0, max_depth=3)"
   ]
  },
  {
   "cell_type": "markdown",
   "id": "51e16a5b",
   "metadata": {
    "_cell_guid": "93eaac23-b63f-43ad-b384-850035c351a2",
    "_uuid": "7779f607-1b05-4310-a3a8-923a9ad6a2e3",
    "id": "emVV6509n2PG",
    "papermill": {
     "duration": 0.043604,
     "end_time": "2023-05-12T13:22:55.358949",
     "exception": false,
     "start_time": "2023-05-12T13:22:55.315345",
     "status": "completed"
    },
    "tags": []
   },
   "source": [
    "# Variable importances\n",
    "\n",
    "Variable importances generally indicate how much a feature contributes to the model predictions or quality. There are several ways to identify important features using TensorFlow Decision Forests. Let us pick one model from models dict and inspect it.\n",
    "\n",
    "Let us list the available Variable Importances for Decision Trees:"
   ]
  },
  {
   "cell_type": "code",
   "execution_count": 21,
   "id": "eee2da41",
   "metadata": {
    "_cell_guid": "08da50f5-f56d-42c2-b4ea-76f82776e23f",
    "_uuid": "c7b6b9d5-20d0-4910-b01c-da3ef1536f9e",
    "collapsed": false,
    "execution": {
     "iopub.execute_input": "2023-05-12T13:22:55.448166Z",
     "iopub.status.busy": "2023-05-12T13:22:55.447228Z",
     "iopub.status.idle": "2023-05-12T13:22:55.457478Z",
     "shell.execute_reply": "2023-05-12T13:22:55.456356Z"
    },
    "id": "d_gvL9nbn2PH",
    "jupyter": {
     "outputs_hidden": false
    },
    "papermill": {
     "duration": 0.059054,
     "end_time": "2023-05-12T13:22:55.461227",
     "exception": false,
     "start_time": "2023-05-12T13:22:55.402173",
     "status": "completed"
    },
    "tags": []
   },
   "outputs": [
    {
     "name": "stdout",
     "output_type": "stream",
     "text": [
      "Available variable importances:\n",
      "\t NUM_NODES\n",
      "\t SUM_SCORE\n",
      "\t NUM_AS_ROOT\n",
      "\t INV_MEAN_MIN_DEPTH\n"
     ]
    }
   ],
   "source": [
    "inspector = models['0-4_1'].make_inspector()\n",
    "\n",
    "print(f\"Available variable importances:\")\n",
    "for importance in inspector.variable_importances().keys():\n",
    "  print(\"\\t\", importance)"
   ]
  },
  {
   "cell_type": "code",
   "execution_count": 22,
   "id": "24731661",
   "metadata": {
    "_cell_guid": "d6c3231e-7d46-4666-a064-9b421da9211f",
    "_uuid": "ddbcec0c-9b87-4935-81e5-f8bfe54d7945",
    "collapsed": false,
    "execution": {
     "iopub.execute_input": "2023-05-12T13:22:55.554493Z",
     "iopub.status.busy": "2023-05-12T13:22:55.553592Z",
     "iopub.status.idle": "2023-05-12T13:22:55.562799Z",
     "shell.execute_reply": "2023-05-12T13:22:55.561286Z"
    },
    "id": "ZDsxqRrwn2PH",
    "jupyter": {
     "outputs_hidden": false
    },
    "papermill": {
     "duration": 0.060012,
     "end_time": "2023-05-12T13:22:55.566399",
     "exception": false,
     "start_time": "2023-05-12T13:22:55.506387",
     "status": "completed"
    },
    "tags": []
   },
   "outputs": [
    {
     "data": {
      "text/plain": [
       "[(\"room_fqid_nunique\" (1; #16), 24.0),\n",
       " (\"page\" (1; #10), 17.0),\n",
       " (\"page_std\" (1; #11), 15.0),\n",
       " (\"name_nunique\" (1; #9), 13.0),\n",
       " (\"elapsed_time\" (1; #1), 12.0),\n",
       " (\"elapsed_time_std\" (1; #2), 9.0),\n",
       " (\"event_name_nunique\" (1; #3), 4.0),\n",
       " (\"level\" (1; #7), 4.0),\n",
       " (\"fqid_nunique\" (1; #4), 1.0),\n",
       " (\"text_fqid_nunique\" (1; #21), 1.0)]"
      ]
     },
     "execution_count": 22,
     "metadata": {},
     "output_type": "execute_result"
    }
   ],
   "source": [
    "# Each line is: (feature name, (index of the feature), importance score)\n",
    "inspector.variable_importances()[\"NUM_AS_ROOT\"]"
   ]
  },
  {
   "cell_type": "markdown",
   "id": "d574cbad",
   "metadata": {
    "_cell_guid": "19505e44-3c26-46dd-a296-e5bf90eea5f5",
    "_uuid": "b1975903-1ab3-42f2-a162-0108e74e871e",
    "id": "PIK5aUH-n2PH",
    "papermill": {
     "duration": 0.044787,
     "end_time": "2023-05-12T13:22:55.654751",
     "exception": false,
     "start_time": "2023-05-12T13:22:55.609964",
     "status": "completed"
    },
    "tags": []
   },
   "source": [
    "# Threshold-Moving for Imbalanced Classification\n",
    "\n",
    "Since the values of the column `correct` is fairly imbalanced, using the default threshold of `0.5` to map the predictions into classes 0 or 1 can result in poor performance. \n",
    "In such cases, to improve performance we will calculate the `F1 score` for a certain range of thresholds and try to find the best threshold aka, threshold with highest `F1 score`. Then we will use this threshold to map the predicted probabilities to class labels 0 or 1.\n",
    "\n",
    "Please note that we are using `F1 score` since it is a better metric than `accuracy` to evaluate problems with class imbalance."
   ]
  },
  {
   "cell_type": "code",
   "execution_count": 23,
   "id": "17138f9e",
   "metadata": {
    "_cell_guid": "afd3a94d-85cb-4b4a-8eaf-47163ab4e3d1",
    "_uuid": "e59efc3e-cbe5-4287-aa88-937b5c22ba56",
    "collapsed": false,
    "execution": {
     "iopub.execute_input": "2023-05-12T13:22:55.744555Z",
     "iopub.status.busy": "2023-05-12T13:22:55.743600Z",
     "iopub.status.idle": "2023-05-12T13:22:57.322349Z",
     "shell.execute_reply": "2023-05-12T13:22:57.320484Z"
    },
    "id": "2wptRs3In2PH",
    "jupyter": {
     "outputs_hidden": false
    },
    "papermill": {
     "duration": 1.62845,
     "end_time": "2023-05-12T13:22:57.326165",
     "exception": false,
     "start_time": "2023-05-12T13:22:55.697715",
     "status": "completed"
    },
    "tags": []
   },
   "outputs": [
    {
     "name": "stdout",
     "output_type": "stream",
     "text": [
      "Best threshold  0.7000000000000003 \tF1 score  0.6714021\n"
     ]
    }
   ],
   "source": [
    "# Create a dataframe of required size:\n",
    "# (no: of users in validation set x no: of questions) initialized to zero values\n",
    "# to store true values of the label `correct`. \n",
    "true_df = pd.DataFrame(data=np.zeros((len(VALID_USER_LIST),18)), index=VALID_USER_LIST)\n",
    "for i in range(18):\n",
    "    # Get the true labels.\n",
    "    tmp = labels.loc[labels.q == i+1].set_index('session').loc[VALID_USER_LIST]\n",
    "    true_df[i] = tmp.correct.values\n",
    "\n",
    "max_score = 0; best_threshold = 0\n",
    "\n",
    "# Loop through threshold values from 0.4 to 0.8 and select the threshold with \n",
    "# the highest `F1 score`.\n",
    "for threshold in np.arange(0.4,0.8,0.01):\n",
    "    metric = tfa.metrics.F1Score(num_classes=2,average=\"macro\",threshold=threshold)\n",
    "    y_true = tf.one_hot(true_df.values.reshape((-1)), depth=2)\n",
    "    y_pred = tf.one_hot((prediction_df.values.reshape((-1))>threshold).astype('int'), depth=2)\n",
    "    metric.update_state(y_true, y_pred)\n",
    "    f1_score = metric.result().numpy()\n",
    "    if f1_score > max_score:\n",
    "        max_score = f1_score\n",
    "        best_threshold = threshold\n",
    "        \n",
    "print(\"Best threshold \", best_threshold, \"\\tF1 score \", max_score)"
   ]
  },
  {
   "cell_type": "markdown",
   "id": "06dcf26b",
   "metadata": {
    "_cell_guid": "ffe6104c-beb7-4344-8d83-24e66a2d9e1b",
    "_uuid": "6a7da7b8-a807-4e81-9b9f-67966e63bd7b",
    "id": "ezA40GQ4n2PH",
    "papermill": {
     "duration": 0.043349,
     "end_time": "2023-05-12T13:22:57.412526",
     "exception": false,
     "start_time": "2023-05-12T13:22:57.369177",
     "status": "completed"
    },
    "tags": []
   },
   "source": [
    "# Submission\n",
    "\n",
    "Here you'll use the `best_threshold` calculate in the previous cell"
   ]
  },
  {
   "cell_type": "code",
   "execution_count": 24,
   "id": "08b0dcf9",
   "metadata": {
    "_cell_guid": "ecf3cba1-7bfe-4010-a886-2d0ec5c1159a",
    "_uuid": "60855b46-2a29-4e37-b24f-c2afe6589668",
    "collapsed": false,
    "execution": {
     "iopub.execute_input": "2023-05-12T13:22:57.505241Z",
     "iopub.status.busy": "2023-05-12T13:22:57.504695Z",
     "iopub.status.idle": "2023-05-12T13:23:03.876115Z",
     "shell.execute_reply": "2023-05-12T13:23:03.874475Z"
    },
    "id": "gHiXTnTVn2PI",
    "jupyter": {
     "outputs_hidden": false
    },
    "papermill": {
     "duration": 6.420961,
     "end_time": "2023-05-12T13:23:03.879254",
     "exception": false,
     "start_time": "2023-05-12T13:22:57.458293",
     "status": "completed"
    },
    "tags": []
   },
   "outputs": [
    {
     "name": "stdout",
     "output_type": "stream",
     "text": [
      "This version of the API is not optimized and should not be used to estimate the runtime of your code on the hidden test set.\n",
      "1/1 [==============================] - 0s 87ms/step\n",
      "1/1 [==============================] - 0s 95ms/step\n",
      "1/1 [==============================] - 0s 78ms/step\n",
      "1/1 [==============================] - 0s 77ms/step\n",
      "1/1 [==============================] - 0s 79ms/step\n",
      "1/1 [==============================] - 0s 75ms/step\n",
      "1/1 [==============================] - 0s 78ms/step\n",
      "1/1 [==============================] - 0s 76ms/step\n",
      "1/1 [==============================] - 0s 80ms/step\n",
      "1/1 [==============================] - 0s 80ms/step\n",
      "1/1 [==============================] - 0s 78ms/step\n",
      "1/1 [==============================] - 0s 78ms/step\n",
      "1/1 [==============================] - 0s 73ms/step\n",
      "1/1 [==============================] - 0s 77ms/step\n",
      "1/1 [==============================] - 0s 75ms/step\n",
      "1/1 [==============================] - 0s 81ms/step\n",
      "1/1 [==============================] - 0s 76ms/step\n",
      "1/1 [==============================] - 0s 75ms/step\n",
      "1/1 [==============================] - 0s 84ms/step\n",
      "1/1 [==============================] - 0s 77ms/step\n",
      "1/1 [==============================] - 0s 81ms/step\n",
      "1/1 [==============================] - 0s 84ms/step\n",
      "1/1 [==============================] - 0s 84ms/step\n",
      "1/1 [==============================] - 0s 81ms/step\n",
      "1/1 [==============================] - 0s 75ms/step\n",
      "1/1 [==============================] - 0s 79ms/step\n",
      "1/1 [==============================] - 0s 79ms/step\n",
      "1/1 [==============================] - 0s 79ms/step\n",
      "1/1 [==============================] - 0s 76ms/step\n",
      "1/1 [==============================] - 0s 75ms/step\n",
      "1/1 [==============================] - 0s 79ms/step\n",
      "1/1 [==============================] - 0s 85ms/step\n",
      "1/1 [==============================] - 0s 80ms/step\n",
      "1/1 [==============================] - 0s 79ms/step\n",
      "1/1 [==============================] - 0s 82ms/step\n",
      "1/1 [==============================] - 0s 78ms/step\n",
      "1/1 [==============================] - 0s 79ms/step\n",
      "1/1 [==============================] - 0s 79ms/step\n",
      "1/1 [==============================] - 0s 82ms/step\n",
      "1/1 [==============================] - 0s 86ms/step\n",
      "1/1 [==============================] - 0s 85ms/step\n",
      "1/1 [==============================] - 0s 88ms/step\n",
      "1/1 [==============================] - 0s 86ms/step\n",
      "1/1 [==============================] - 0s 94ms/step\n",
      "1/1 [==============================] - 0s 79ms/step\n",
      "1/1 [==============================] - 0s 85ms/step\n",
      "1/1 [==============================] - 0s 87ms/step\n",
      "1/1 [==============================] - 0s 84ms/step\n",
      "1/1 [==============================] - 0s 84ms/step\n",
      "1/1 [==============================] - 0s 81ms/step\n",
      "1/1 [==============================] - 0s 85ms/step\n",
      "1/1 [==============================] - 0s 85ms/step\n",
      "1/1 [==============================] - 0s 81ms/step\n",
      "1/1 [==============================] - 0s 79ms/step\n"
     ]
    }
   ],
   "source": [
    "# Reference\n",
    "# https://www.kaggle.com/code/philculliton/basic-submission-demo\n",
    "# https://www.kaggle.com/code/cdeotte/random-forest-baseline-0-664/notebook\n",
    "\n",
    "\n",
    "import jo_wilder\n",
    "env = jo_wilder.make_env()\n",
    "iter_test = env.iter_test()\n",
    "\n",
    "limits = {'0-4':(1,4), '5-12':(4,14), '13-22':(14,19)}\n",
    "\n",
    "for (test, sample_submission) in iter_test:\n",
    "    test_df = feature_engineer(test)\n",
    "    grp = test_df.level_group.values[0]\n",
    "    a,b = limits[grp]\n",
    "    for t in range(a,b):\n",
    "        gbtm = models[f'{grp}_{t}']\n",
    "        test_ds = tfdf.keras.pd_dataframe_to_tf_dataset(test_df.loc[:, test_df.columns != 'level_group'])\n",
    "        predictions = gbtm.predict(test_ds)\n",
    "        mask = sample_submission.session_id.str.contains(f'q{t}')\n",
    "        n_predictions = (predictions > best_threshold).astype(int)\n",
    "        sample_submission.loc[mask,'correct'] = n_predictions.flatten()\n",
    "    \n",
    "    env.predict(sample_submission)"
   ]
  },
  {
   "cell_type": "code",
   "execution_count": 25,
   "id": "7a488f10",
   "metadata": {
    "_cell_guid": "b2f9e158-df1d-4a78-a7d6-1dcc657635f0",
    "_uuid": "3f92da60-8bbb-49bd-9315-ac65ab252862",
    "collapsed": false,
    "execution": {
     "iopub.execute_input": "2023-05-12T13:23:04.009657Z",
     "iopub.status.busy": "2023-05-12T13:23:04.007955Z",
     "iopub.status.idle": "2023-05-12T13:23:05.234377Z",
     "shell.execute_reply": "2023-05-12T13:23:05.232879Z"
    },
    "id": "iYBXokAyn2PI",
    "jupyter": {
     "outputs_hidden": false
    },
    "papermill": {
     "duration": 1.295729,
     "end_time": "2023-05-12T13:23:05.237364",
     "exception": false,
     "start_time": "2023-05-12T13:23:03.941635",
     "status": "completed"
    },
    "tags": []
   },
   "outputs": [
    {
     "name": "stdout",
     "output_type": "stream",
     "text": [
      "session_id,correct\r\n",
      "20090109393214576_q1,1\r\n",
      "20090109393214576_q2,1\r\n",
      "20090109393214576_q3,1\r\n",
      "20090109393214576_q4,1\r\n",
      "20090109393214576_q5,0\r\n",
      "20090109393214576_q6,1\r\n",
      "20090109393214576_q7,1\r\n",
      "20090109393214576_q8,1\r\n",
      "20090109393214576_q9,1\r\n"
     ]
    }
   ],
   "source": [
    "! head submission.csv"
   ]
  },
  {
   "cell_type": "code",
   "execution_count": null,
   "id": "d1d75d42",
   "metadata": {
    "papermill": {
     "duration": 0.054333,
     "end_time": "2023-05-12T13:23:05.347660",
     "exception": false,
     "start_time": "2023-05-12T13:23:05.293327",
     "status": "completed"
    },
    "tags": []
   },
   "outputs": [],
   "source": []
  }
 ],
 "metadata": {
  "kernelspec": {
   "display_name": "Python 3",
   "language": "python",
   "name": "python3"
  },
  "language_info": {
   "codemirror_mode": {
    "name": "ipython",
    "version": 3
   },
   "file_extension": ".py",
   "mimetype": "text/x-python",
   "name": "python",
   "nbconvert_exporter": "python",
   "pygments_lexer": "ipython3",
   "version": "3.7.12"
  },
  "papermill": {
   "default_parameters": {},
   "duration": 418.000545,
   "end_time": "2023-05-12T13:23:08.503629",
   "environment_variables": {},
   "exception": null,
   "input_path": "__notebook__.ipynb",
   "output_path": "__notebook__.ipynb",
   "parameters": {},
   "start_time": "2023-05-12T13:16:10.503084",
   "version": "2.4.0"
  }
 },
 "nbformat": 4,
 "nbformat_minor": 5
}
