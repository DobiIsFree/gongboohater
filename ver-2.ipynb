{
 "cells": [
  {
   "cell_type": "markdown",
   "id": "85735df5",
   "metadata": {
    "_cell_guid": "3065ea28-3415-46ef-8ec2-672826f1896a",
    "_uuid": "1b633216-f642-426b-a442-36227e786485",
    "id": "iCTA6kl3n2O1",
    "papermill": {
     "duration": 0.014805,
     "end_time": "2023-05-12T13:26:01.286958",
     "exception": false,
     "start_time": "2023-05-12T13:26:01.272153",
     "status": "completed"
    },
    "tags": []
   },
   "source": [
    "# Student Performance from Game Play Using TensorFlow Decision Forests"
   ]
  },
  {
   "cell_type": "markdown",
   "id": "5ea8d2c0",
   "metadata": {
    "_cell_guid": "f5f126e7-a6c7-4d10-9453-02803d77fdec",
    "_uuid": "48949e80-ac79-459e-b078-1258b02a6d19",
    "id": "zAXHC6-Tn2O5",
    "papermill": {
     "duration": 0.013305,
     "end_time": "2023-05-12T13:26:01.313847",
     "exception": false,
     "start_time": "2023-05-12T13:26:01.300542",
     "status": "completed"
    },
    "tags": []
   },
   "source": [
    "## Import the Required Libraries"
   ]
  },
  {
   "cell_type": "code",
   "execution_count": 1,
   "id": "79b821ff",
   "metadata": {
    "_cell_guid": "d9edea55-e22d-47eb-9e89-f41baf355a90",
    "_uuid": "b8016303-112b-4ba5-b173-8f7fafdd3fbc",
    "collapsed": false,
    "execution": {
     "iopub.execute_input": "2023-05-12T13:26:01.343458Z",
     "iopub.status.busy": "2023-05-12T13:26:01.342694Z",
     "iopub.status.idle": "2023-05-12T13:26:10.360479Z",
     "shell.execute_reply": "2023-05-12T13:26:10.359423Z"
    },
    "id": "IanlX-Eqn2O5",
    "jupyter": {
     "outputs_hidden": false
    },
    "papermill": {
     "duration": 9.035996,
     "end_time": "2023-05-12T13:26:10.363475",
     "exception": false,
     "start_time": "2023-05-12T13:26:01.327479",
     "status": "completed"
    },
    "tags": []
   },
   "outputs": [],
   "source": [
    "import tensorflow as tf\n",
    "import tensorflow_addons as tfa\n",
    "import tensorflow_decision_forests as tfdf\n",
    "\n",
    "import pandas as pd\n",
    "import numpy as np\n",
    "import matplotlib.pyplot as plt"
   ]
  },
  {
   "cell_type": "code",
   "execution_count": 2,
   "id": "8f2f2148",
   "metadata": {
    "_cell_guid": "00c0ea0b-65a2-4833-9194-4e62651434ef",
    "_uuid": "f79a2139-13aa-40d1-85b3-ffbf6213c6ba",
    "collapsed": false,
    "execution": {
     "iopub.execute_input": "2023-05-12T13:26:10.395811Z",
     "iopub.status.busy": "2023-05-12T13:26:10.394758Z",
     "iopub.status.idle": "2023-05-12T13:26:10.401236Z",
     "shell.execute_reply": "2023-05-12T13:26:10.400375Z"
    },
    "id": "gLpK2yAen2O7",
    "jupyter": {
     "outputs_hidden": false
    },
    "papermill": {
     "duration": 0.026309,
     "end_time": "2023-05-12T13:26:10.403788",
     "exception": false,
     "start_time": "2023-05-12T13:26:10.377479",
     "status": "completed"
    },
    "tags": []
   },
   "outputs": [
    {
     "name": "stdout",
     "output_type": "stream",
     "text": [
      "TensorFlow Decision Forests v1.2.0\n",
      "TensorFlow Addons v0.19.0\n",
      "TensorFlow v2.11.0\n"
     ]
    }
   ],
   "source": [
    "print(\"TensorFlow Decision Forests v\" + tfdf.__version__)\n",
    "print(\"TensorFlow Addons v\" + tfa.__version__)\n",
    "print(\"TensorFlow v\" + tf.__version__)"
   ]
  },
  {
   "cell_type": "markdown",
   "id": "0dba2607",
   "metadata": {
    "_cell_guid": "5be263dd-cf1e-4887-b94b-caeeea6a4aa8",
    "_uuid": "2697b3d5-0f16-4f5e-aa80-76ad489e86ae",
    "id": "22DpLVFLn2O7",
    "papermill": {
     "duration": 0.013775,
     "end_time": "2023-05-12T13:26:10.432138",
     "exception": false,
     "start_time": "2023-05-12T13:26:10.418363",
     "status": "completed"
    },
    "tags": []
   },
   "source": [
    "## Load the Dataset"
   ]
  },
  {
   "cell_type": "code",
   "execution_count": 3,
   "id": "b68d431e",
   "metadata": {
    "_cell_guid": "144dcbf9-be59-440c-b31a-8216f58528cb",
    "_uuid": "0cd23222-c6e1-47b2-8149-4834fa47f2e4",
    "collapsed": false,
    "execution": {
     "iopub.execute_input": "2023-05-12T13:26:10.463245Z",
     "iopub.status.busy": "2023-05-12T13:26:10.462374Z",
     "iopub.status.idle": "2023-05-12T13:28:12.728645Z",
     "shell.execute_reply": "2023-05-12T13:28:12.727626Z"
    },
    "id": "_XItl24kn2O7",
    "jupyter": {
     "outputs_hidden": false
    },
    "papermill": {
     "duration": 122.298558,
     "end_time": "2023-05-12T13:28:12.745124",
     "exception": false,
     "start_time": "2023-05-12T13:26:10.446566",
     "status": "completed"
    },
    "tags": []
   },
   "outputs": [
    {
     "name": "stdout",
     "output_type": "stream",
     "text": [
      "Full train dataset shape is (26296946, 20)\n"
     ]
    }
   ],
   "source": [
    "# Reference: https://www.kaggle.com/competitions/predict-student-performance-from-game-play/discussion/384359\n",
    "dtypes={\n",
    "    'elapsed_time':np.int32,\n",
    "    'event_name':'category',\n",
    "    'name':'category',\n",
    "    'level':np.uint8,\n",
    "    'room_coor_x':np.float32,\n",
    "    'room_coor_y':np.float32,\n",
    "    'screen_coor_x':np.float32,\n",
    "    'screen_coor_y':np.float32,\n",
    "    'hover_duration':np.float32,\n",
    "    'text':'category',\n",
    "    'fqid':'category',\n",
    "    'room_fqid':'category',\n",
    "    'text_fqid':'category',\n",
    "    'fullscreen':'category',\n",
    "    'hq':'category',\n",
    "    'music':'category',\n",
    "    'level_group':'category'}\n",
    "\n",
    "dataset_df = pd.read_csv('/kaggle/input/predict-student-performance-from-game-play/train.csv', dtype=dtypes)\n",
    "print(\"Full train dataset shape is {}\".format(dataset_df.shape))"
   ]
  },
  {
   "cell_type": "code",
   "execution_count": 4,
   "id": "8b0928ba",
   "metadata": {
    "_cell_guid": "3d6f3782-c8df-4479-a1ca-fb9059fcdc82",
    "_uuid": "0a715f0f-3b27-48d8-9a0e-e6f64b164a46",
    "collapsed": false,
    "execution": {
     "iopub.execute_input": "2023-05-12T13:28:12.775536Z",
     "iopub.status.busy": "2023-05-12T13:28:12.774728Z",
     "iopub.status.idle": "2023-05-12T13:28:12.818622Z",
     "shell.execute_reply": "2023-05-12T13:28:12.817702Z"
    },
    "id": "-RTRVRiWn2O8",
    "jupyter": {
     "outputs_hidden": false
    },
    "papermill": {
     "duration": 0.061829,
     "end_time": "2023-05-12T13:28:12.820947",
     "exception": false,
     "start_time": "2023-05-12T13:28:12.759118",
     "status": "completed"
    },
    "tags": []
   },
   "outputs": [
    {
     "data": {
      "text/html": [
       "<div>\n",
       "<style scoped>\n",
       "    .dataframe tbody tr th:only-of-type {\n",
       "        vertical-align: middle;\n",
       "    }\n",
       "\n",
       "    .dataframe tbody tr th {\n",
       "        vertical-align: top;\n",
       "    }\n",
       "\n",
       "    .dataframe thead th {\n",
       "        text-align: right;\n",
       "    }\n",
       "</style>\n",
       "<table border=\"1\" class=\"dataframe\">\n",
       "  <thead>\n",
       "    <tr style=\"text-align: right;\">\n",
       "      <th></th>\n",
       "      <th>session_id</th>\n",
       "      <th>index</th>\n",
       "      <th>elapsed_time</th>\n",
       "      <th>event_name</th>\n",
       "      <th>name</th>\n",
       "      <th>level</th>\n",
       "      <th>page</th>\n",
       "      <th>room_coor_x</th>\n",
       "      <th>room_coor_y</th>\n",
       "      <th>screen_coor_x</th>\n",
       "      <th>screen_coor_y</th>\n",
       "      <th>hover_duration</th>\n",
       "      <th>text</th>\n",
       "      <th>fqid</th>\n",
       "      <th>room_fqid</th>\n",
       "      <th>text_fqid</th>\n",
       "      <th>fullscreen</th>\n",
       "      <th>hq</th>\n",
       "      <th>music</th>\n",
       "      <th>level_group</th>\n",
       "    </tr>\n",
       "  </thead>\n",
       "  <tbody>\n",
       "    <tr>\n",
       "      <th>0</th>\n",
       "      <td>20090312431273200</td>\n",
       "      <td>0</td>\n",
       "      <td>0</td>\n",
       "      <td>cutscene_click</td>\n",
       "      <td>basic</td>\n",
       "      <td>0</td>\n",
       "      <td>NaN</td>\n",
       "      <td>-413.991394</td>\n",
       "      <td>-159.314682</td>\n",
       "      <td>380.0</td>\n",
       "      <td>494.0</td>\n",
       "      <td>NaN</td>\n",
       "      <td>undefined</td>\n",
       "      <td>intro</td>\n",
       "      <td>tunic.historicalsociety.closet</td>\n",
       "      <td>tunic.historicalsociety.closet.intro</td>\n",
       "      <td>0</td>\n",
       "      <td>0</td>\n",
       "      <td>1</td>\n",
       "      <td>0-4</td>\n",
       "    </tr>\n",
       "    <tr>\n",
       "      <th>1</th>\n",
       "      <td>20090312431273200</td>\n",
       "      <td>1</td>\n",
       "      <td>1323</td>\n",
       "      <td>person_click</td>\n",
       "      <td>basic</td>\n",
       "      <td>0</td>\n",
       "      <td>NaN</td>\n",
       "      <td>-413.991394</td>\n",
       "      <td>-159.314682</td>\n",
       "      <td>380.0</td>\n",
       "      <td>494.0</td>\n",
       "      <td>NaN</td>\n",
       "      <td>Whatcha doing over there, Jo?</td>\n",
       "      <td>gramps</td>\n",
       "      <td>tunic.historicalsociety.closet</td>\n",
       "      <td>tunic.historicalsociety.closet.gramps.intro_0_...</td>\n",
       "      <td>0</td>\n",
       "      <td>0</td>\n",
       "      <td>1</td>\n",
       "      <td>0-4</td>\n",
       "    </tr>\n",
       "    <tr>\n",
       "      <th>2</th>\n",
       "      <td>20090312431273200</td>\n",
       "      <td>2</td>\n",
       "      <td>831</td>\n",
       "      <td>person_click</td>\n",
       "      <td>basic</td>\n",
       "      <td>0</td>\n",
       "      <td>NaN</td>\n",
       "      <td>-413.991394</td>\n",
       "      <td>-159.314682</td>\n",
       "      <td>380.0</td>\n",
       "      <td>494.0</td>\n",
       "      <td>NaN</td>\n",
       "      <td>Just talking to Teddy.</td>\n",
       "      <td>gramps</td>\n",
       "      <td>tunic.historicalsociety.closet</td>\n",
       "      <td>tunic.historicalsociety.closet.gramps.intro_0_...</td>\n",
       "      <td>0</td>\n",
       "      <td>0</td>\n",
       "      <td>1</td>\n",
       "      <td>0-4</td>\n",
       "    </tr>\n",
       "    <tr>\n",
       "      <th>3</th>\n",
       "      <td>20090312431273200</td>\n",
       "      <td>3</td>\n",
       "      <td>1147</td>\n",
       "      <td>person_click</td>\n",
       "      <td>basic</td>\n",
       "      <td>0</td>\n",
       "      <td>NaN</td>\n",
       "      <td>-413.991394</td>\n",
       "      <td>-159.314682</td>\n",
       "      <td>380.0</td>\n",
       "      <td>494.0</td>\n",
       "      <td>NaN</td>\n",
       "      <td>I gotta run to my meeting!</td>\n",
       "      <td>gramps</td>\n",
       "      <td>tunic.historicalsociety.closet</td>\n",
       "      <td>tunic.historicalsociety.closet.gramps.intro_0_...</td>\n",
       "      <td>0</td>\n",
       "      <td>0</td>\n",
       "      <td>1</td>\n",
       "      <td>0-4</td>\n",
       "    </tr>\n",
       "    <tr>\n",
       "      <th>4</th>\n",
       "      <td>20090312431273200</td>\n",
       "      <td>4</td>\n",
       "      <td>1863</td>\n",
       "      <td>person_click</td>\n",
       "      <td>basic</td>\n",
       "      <td>0</td>\n",
       "      <td>NaN</td>\n",
       "      <td>-412.991394</td>\n",
       "      <td>-159.314682</td>\n",
       "      <td>381.0</td>\n",
       "      <td>494.0</td>\n",
       "      <td>NaN</td>\n",
       "      <td>Can I come, Gramps?</td>\n",
       "      <td>gramps</td>\n",
       "      <td>tunic.historicalsociety.closet</td>\n",
       "      <td>tunic.historicalsociety.closet.gramps.intro_0_...</td>\n",
       "      <td>0</td>\n",
       "      <td>0</td>\n",
       "      <td>1</td>\n",
       "      <td>0-4</td>\n",
       "    </tr>\n",
       "  </tbody>\n",
       "</table>\n",
       "</div>"
      ],
      "text/plain": [
       "          session_id  index  elapsed_time      event_name   name  level  page  \\\n",
       "0  20090312431273200      0             0  cutscene_click  basic      0   NaN   \n",
       "1  20090312431273200      1          1323    person_click  basic      0   NaN   \n",
       "2  20090312431273200      2           831    person_click  basic      0   NaN   \n",
       "3  20090312431273200      3          1147    person_click  basic      0   NaN   \n",
       "4  20090312431273200      4          1863    person_click  basic      0   NaN   \n",
       "\n",
       "   room_coor_x  room_coor_y  screen_coor_x  screen_coor_y  hover_duration  \\\n",
       "0  -413.991394  -159.314682          380.0          494.0             NaN   \n",
       "1  -413.991394  -159.314682          380.0          494.0             NaN   \n",
       "2  -413.991394  -159.314682          380.0          494.0             NaN   \n",
       "3  -413.991394  -159.314682          380.0          494.0             NaN   \n",
       "4  -412.991394  -159.314682          381.0          494.0             NaN   \n",
       "\n",
       "                            text    fqid                       room_fqid  \\\n",
       "0                      undefined   intro  tunic.historicalsociety.closet   \n",
       "1  Whatcha doing over there, Jo?  gramps  tunic.historicalsociety.closet   \n",
       "2         Just talking to Teddy.  gramps  tunic.historicalsociety.closet   \n",
       "3     I gotta run to my meeting!  gramps  tunic.historicalsociety.closet   \n",
       "4            Can I come, Gramps?  gramps  tunic.historicalsociety.closet   \n",
       "\n",
       "                                           text_fqid fullscreen hq music  \\\n",
       "0               tunic.historicalsociety.closet.intro          0  0     1   \n",
       "1  tunic.historicalsociety.closet.gramps.intro_0_...          0  0     1   \n",
       "2  tunic.historicalsociety.closet.gramps.intro_0_...          0  0     1   \n",
       "3  tunic.historicalsociety.closet.gramps.intro_0_...          0  0     1   \n",
       "4  tunic.historicalsociety.closet.gramps.intro_0_...          0  0     1   \n",
       "\n",
       "  level_group  \n",
       "0         0-4  \n",
       "1         0-4  \n",
       "2         0-4  \n",
       "3         0-4  \n",
       "4         0-4  "
      ]
     },
     "execution_count": 4,
     "metadata": {},
     "output_type": "execute_result"
    }
   ],
   "source": [
    "# Display the first 5 examples\n",
    "dataset_df.head(5)"
   ]
  },
  {
   "cell_type": "code",
   "execution_count": 5,
   "id": "03f97468",
   "metadata": {
    "execution": {
     "iopub.execute_input": "2023-05-12T13:28:12.852467Z",
     "iopub.status.busy": "2023-05-12T13:28:12.851668Z",
     "iopub.status.idle": "2023-05-12T13:28:13.036003Z",
     "shell.execute_reply": "2023-05-12T13:28:13.035078Z"
    },
    "papermill": {
     "duration": 0.202705,
     "end_time": "2023-05-12T13:28:13.038479",
     "exception": false,
     "start_time": "2023-05-12T13:28:12.835774",
     "status": "completed"
    },
    "tags": []
   },
   "outputs": [
    {
     "data": {
      "text/plain": [
       "navigate_click        11326433\n",
       "person_click           6052853\n",
       "cutscene_click         2703035\n",
       "object_click           2198211\n",
       "object_hover           1057085\n",
       "map_hover               945159\n",
       "notification_click      649001\n",
       "notebook_click          564544\n",
       "map_click               517242\n",
       "observation_click       212355\n",
       "checkpoint               71028\n",
       "Name: event_name, dtype: int64"
      ]
     },
     "execution_count": 5,
     "metadata": {},
     "output_type": "execute_result"
    }
   ],
   "source": [
    "dataset_df.event_name.value_counts()"
   ]
  },
  {
   "cell_type": "code",
   "execution_count": 6,
   "id": "33029dcd",
   "metadata": {
    "execution": {
     "iopub.execute_input": "2023-05-12T13:28:13.070037Z",
     "iopub.status.busy": "2023-05-12T13:28:13.069372Z",
     "iopub.status.idle": "2023-05-12T13:28:13.073334Z",
     "shell.execute_reply": "2023-05-12T13:28:13.072472Z"
    },
    "papermill": {
     "duration": 0.022488,
     "end_time": "2023-05-12T13:28:13.075656",
     "exception": false,
     "start_time": "2023-05-12T13:28:13.053168",
     "status": "completed"
    },
    "tags": []
   },
   "outputs": [],
   "source": [
    "# x = dataset_df['room_coor_x']\n",
    "# y = dataset_df['room_coor_y']\n",
    "# plt.hexbin(x, y, gridsize=40)\n",
    "# plt.show()"
   ]
  },
  {
   "cell_type": "markdown",
   "id": "473ccde8",
   "metadata": {
    "_cell_guid": "c65e1dff-67b0-4bb6-9b97-b6418d4173c7",
    "_uuid": "3df6b5f5-7744-40f9-bec5-bb45b9238387",
    "id": "ReNY-i3bn2O8",
    "papermill": {
     "duration": 0.014628,
     "end_time": "2023-05-12T13:28:13.105240",
     "exception": false,
     "start_time": "2023-05-12T13:28:13.090612",
     "status": "completed"
    },
    "tags": []
   },
   "source": [
    "## Load the labels"
   ]
  },
  {
   "cell_type": "code",
   "execution_count": 7,
   "id": "6efbeade",
   "metadata": {
    "_cell_guid": "bc6c67b2-3be1-4595-bc75-a10a50ba30d3",
    "_uuid": "e71600d9-2043-4209-8373-cf254354b3f2",
    "collapsed": false,
    "execution": {
     "iopub.execute_input": "2023-05-12T13:28:13.137673Z",
     "iopub.status.busy": "2023-05-12T13:28:13.136873Z",
     "iopub.status.idle": "2023-05-12T13:28:13.514646Z",
     "shell.execute_reply": "2023-05-12T13:28:13.513708Z"
    },
    "id": "KD4uayl2n2O9",
    "jupyter": {
     "outputs_hidden": false
    },
    "papermill": {
     "duration": 0.397324,
     "end_time": "2023-05-12T13:28:13.517502",
     "exception": false,
     "start_time": "2023-05-12T13:28:13.120178",
     "status": "completed"
    },
    "tags": []
   },
   "outputs": [],
   "source": [
    "labels = pd.read_csv('/kaggle/input/predict-student-performance-from-game-play/train_labels.csv')"
   ]
  },
  {
   "cell_type": "code",
   "execution_count": 8,
   "id": "9e6431a0",
   "metadata": {
    "_cell_guid": "24c78d16-6a6a-4409-b1c3-5f1d84c0a9ac",
    "_uuid": "afd665e4-8c5e-4a6a-9c96-2c8676f97c88",
    "collapsed": false,
    "execution": {
     "iopub.execute_input": "2023-05-12T13:28:13.549435Z",
     "iopub.status.busy": "2023-05-12T13:28:13.548691Z",
     "iopub.status.idle": "2023-05-12T13:28:14.634861Z",
     "shell.execute_reply": "2023-05-12T13:28:14.633541Z"
    },
    "id": "Kva8_Dbqn2O9",
    "jupyter": {
     "outputs_hidden": false
    },
    "papermill": {
     "duration": 1.105377,
     "end_time": "2023-05-12T13:28:14.637688",
     "exception": false,
     "start_time": "2023-05-12T13:28:13.532311",
     "status": "completed"
    },
    "tags": []
   },
   "outputs": [],
   "source": [
    "labels['session'] = labels.session_id.apply(lambda x: int(x.split('_')[0]) )\n",
    "labels['q'] = labels.session_id.apply(lambda x: int(x.split('_')[-1][1:]) )"
   ]
  },
  {
   "cell_type": "code",
   "execution_count": 9,
   "id": "8cfc5d4b",
   "metadata": {
    "_cell_guid": "c8fac932-0ca8-4862-83f1-07f4753fb1e6",
    "_uuid": "da1b04cd-838f-4e9f-8da1-82dc907f0d97",
    "collapsed": false,
    "execution": {
     "iopub.execute_input": "2023-05-12T13:28:14.669264Z",
     "iopub.status.busy": "2023-05-12T13:28:14.668858Z",
     "iopub.status.idle": "2023-05-12T13:28:14.680228Z",
     "shell.execute_reply": "2023-05-12T13:28:14.679159Z"
    },
    "id": "0eD-KZMvn2O-",
    "jupyter": {
     "outputs_hidden": false
    },
    "papermill": {
     "duration": 0.032086,
     "end_time": "2023-05-12T13:28:14.684768",
     "exception": false,
     "start_time": "2023-05-12T13:28:14.652682",
     "status": "completed"
    },
    "tags": []
   },
   "outputs": [
    {
     "data": {
      "text/html": [
       "<div>\n",
       "<style scoped>\n",
       "    .dataframe tbody tr th:only-of-type {\n",
       "        vertical-align: middle;\n",
       "    }\n",
       "\n",
       "    .dataframe tbody tr th {\n",
       "        vertical-align: top;\n",
       "    }\n",
       "\n",
       "    .dataframe thead th {\n",
       "        text-align: right;\n",
       "    }\n",
       "</style>\n",
       "<table border=\"1\" class=\"dataframe\">\n",
       "  <thead>\n",
       "    <tr style=\"text-align: right;\">\n",
       "      <th></th>\n",
       "      <th>session_id</th>\n",
       "      <th>correct</th>\n",
       "      <th>session</th>\n",
       "      <th>q</th>\n",
       "    </tr>\n",
       "  </thead>\n",
       "  <tbody>\n",
       "    <tr>\n",
       "      <th>0</th>\n",
       "      <td>20090312431273200_q1</td>\n",
       "      <td>1</td>\n",
       "      <td>20090312431273200</td>\n",
       "      <td>1</td>\n",
       "    </tr>\n",
       "    <tr>\n",
       "      <th>1</th>\n",
       "      <td>20090312433251036_q1</td>\n",
       "      <td>0</td>\n",
       "      <td>20090312433251036</td>\n",
       "      <td>1</td>\n",
       "    </tr>\n",
       "    <tr>\n",
       "      <th>2</th>\n",
       "      <td>20090312455206810_q1</td>\n",
       "      <td>1</td>\n",
       "      <td>20090312455206810</td>\n",
       "      <td>1</td>\n",
       "    </tr>\n",
       "    <tr>\n",
       "      <th>3</th>\n",
       "      <td>20090313091715820_q1</td>\n",
       "      <td>0</td>\n",
       "      <td>20090313091715820</td>\n",
       "      <td>1</td>\n",
       "    </tr>\n",
       "    <tr>\n",
       "      <th>4</th>\n",
       "      <td>20090313571836404_q1</td>\n",
       "      <td>1</td>\n",
       "      <td>20090313571836404</td>\n",
       "      <td>1</td>\n",
       "    </tr>\n",
       "  </tbody>\n",
       "</table>\n",
       "</div>"
      ],
      "text/plain": [
       "             session_id  correct            session  q\n",
       "0  20090312431273200_q1        1  20090312431273200  1\n",
       "1  20090312433251036_q1        0  20090312433251036  1\n",
       "2  20090312455206810_q1        1  20090312455206810  1\n",
       "3  20090313091715820_q1        0  20090313091715820  1\n",
       "4  20090313571836404_q1        1  20090313571836404  1"
      ]
     },
     "execution_count": 9,
     "metadata": {},
     "output_type": "execute_result"
    }
   ],
   "source": [
    "# Display the first 5 examples\n",
    "labels.head(5)"
   ]
  },
  {
   "cell_type": "markdown",
   "id": "79214823",
   "metadata": {
    "_cell_guid": "485073af-b103-48c0-8e8c-60c28ddc00fc",
    "_uuid": "d4215f16-78de-4f14-b9f3-b596b03f8433",
    "id": "y5fK05dsn2O_",
    "papermill": {
     "duration": 0.014619,
     "end_time": "2023-05-12T13:28:14.714223",
     "exception": false,
     "start_time": "2023-05-12T13:28:14.699604",
     "status": "completed"
    },
    "tags": []
   },
   "source": [
    "# Prepare the dataset"
   ]
  },
  {
   "cell_type": "code",
   "execution_count": 10,
   "id": "3e6ee300",
   "metadata": {
    "_cell_guid": "9527a410-8159-421f-9ad6-f3c712fc7d87",
    "_uuid": "886d16af-f0f1-4c68-8e15-9802bd417f6e",
    "collapsed": false,
    "execution": {
     "iopub.execute_input": "2023-05-12T13:28:14.746037Z",
     "iopub.status.busy": "2023-05-12T13:28:14.745253Z",
     "iopub.status.idle": "2023-05-12T13:28:14.750470Z",
     "shell.execute_reply": "2023-05-12T13:28:14.749595Z"
    },
    "id": "cCZWGiL_n2PA",
    "jupyter": {
     "outputs_hidden": false
    },
    "papermill": {
     "duration": 0.023721,
     "end_time": "2023-05-12T13:28:14.752766",
     "exception": false,
     "start_time": "2023-05-12T13:28:14.729045",
     "status": "completed"
    },
    "tags": []
   },
   "outputs": [],
   "source": [
    "CATEGORICAL = ['event_name', 'name','fqid', 'room_fqid', 'text_fqid']\n",
    "NUMERICAL = ['elapsed_time','level','page','room_coor_x', 'room_coor_y', \n",
    "        'screen_coor_x', 'screen_coor_y', 'hover_duration']"
   ]
  },
  {
   "cell_type": "code",
   "execution_count": 11,
   "id": "d0845bba",
   "metadata": {
    "_cell_guid": "296382db-98ff-4d66-83e7-6427b3d5ed34",
    "_uuid": "103d6961-f8a3-4f7e-aa15-6e5734724fea",
    "collapsed": false,
    "execution": {
     "iopub.execute_input": "2023-05-12T13:28:14.784930Z",
     "iopub.status.busy": "2023-05-12T13:28:14.784124Z",
     "iopub.status.idle": "2023-05-12T13:28:14.793722Z",
     "shell.execute_reply": "2023-05-12T13:28:14.792748Z"
    },
    "id": "nHWhAOtTn2PA",
    "jupyter": {
     "outputs_hidden": false
    },
    "papermill": {
     "duration": 0.028529,
     "end_time": "2023-05-12T13:28:14.796251",
     "exception": false,
     "start_time": "2023-05-12T13:28:14.767722",
     "status": "completed"
    },
    "tags": []
   },
   "outputs": [],
   "source": [
    "# Reference: https://www.kaggle.com/code/cdeotte/random-forest-baseline-0-664/notebook\n",
    "\n",
    "def feature_engineer(dataset_df):\n",
    "    dfs = []\n",
    "    for c in CATEGORICAL:\n",
    "        tmp = dataset_df.groupby(['session_id','level_group'])[c].agg('nunique')\n",
    "        tmp.name = tmp.name + '_nunique'\n",
    "        dfs.append(tmp)\n",
    "    for c in NUMERICAL:\n",
    "        tmp = dataset_df.groupby(['session_id','level_group'])[c].agg('mean')\n",
    "        dfs.append(tmp)\n",
    "    for c in NUMERICAL:\n",
    "        tmp = dataset_df.groupby(['session_id','level_group'])[c].agg('std')\n",
    "        tmp.name = tmp.name + '_std'\n",
    "        dfs.append(tmp)\n",
    "    dataset_df = pd.concat(dfs,axis=1)\n",
    "    dataset_df = dataset_df.fillna(-1)\n",
    "    dataset_df = dataset_df.reset_index()\n",
    "    dataset_df = dataset_df.set_index('session_id')\n",
    "    return dataset_df"
   ]
  },
  {
   "cell_type": "code",
   "execution_count": 12,
   "id": "d5b4fad0",
   "metadata": {
    "_cell_guid": "45bc9dc9-3989-4ca7-98e4-d3afd460c63a",
    "_uuid": "01d021ca-a49b-4590-bf62-b43336a1ed3b",
    "collapsed": false,
    "execution": {
     "iopub.execute_input": "2023-05-12T13:28:14.828009Z",
     "iopub.status.busy": "2023-05-12T13:28:14.827204Z",
     "iopub.status.idle": "2023-05-12T13:28:53.673436Z",
     "shell.execute_reply": "2023-05-12T13:28:53.672377Z"
    },
    "id": "JKcoPoemn2PA",
    "jupyter": {
     "outputs_hidden": false
    },
    "papermill": {
     "duration": 38.875278,
     "end_time": "2023-05-12T13:28:53.686375",
     "exception": false,
     "start_time": "2023-05-12T13:28:14.811097",
     "status": "completed"
    },
    "tags": []
   },
   "outputs": [
    {
     "name": "stdout",
     "output_type": "stream",
     "text": [
      "Full prepared dataset shape is (70686, 22)\n"
     ]
    }
   ],
   "source": [
    "dataset_df = feature_engineer(dataset_df)\n",
    "print(\"Full prepared dataset shape is {}\".format(dataset_df.shape))"
   ]
  },
  {
   "cell_type": "markdown",
   "id": "d3f3e3b5",
   "metadata": {
    "_cell_guid": "b056bb2b-a5f5-4a8f-a04b-f8a88e8a4a12",
    "_uuid": "045236c2-9366-4a08-8e9a-ca6c03e22831",
    "id": "891j7nc1n2PA",
    "papermill": {
     "duration": 0.014525,
     "end_time": "2023-05-12T13:28:53.715685",
     "exception": false,
     "start_time": "2023-05-12T13:28:53.701160",
     "status": "completed"
    },
    "tags": []
   },
   "source": [
    "Our feature engineered dataset is composed of 22 columns and 70686 entries."
   ]
  },
  {
   "cell_type": "code",
   "execution_count": 13,
   "id": "c7d15d3c",
   "metadata": {
    "execution": {
     "iopub.execute_input": "2023-05-12T13:28:53.747663Z",
     "iopub.status.busy": "2023-05-12T13:28:53.746874Z",
     "iopub.status.idle": "2023-05-12T13:28:54.537888Z",
     "shell.execute_reply": "2023-05-12T13:28:54.536869Z"
    },
    "papermill": {
     "duration": 0.81024,
     "end_time": "2023-05-12T13:28:54.540585",
     "exception": false,
     "start_time": "2023-05-12T13:28:53.730345",
     "status": "completed"
    },
    "tags": []
   },
   "outputs": [],
   "source": [
    "# Group k Fold split data\n",
    "from sklearn.model_selection import KFold, GroupKFold\n",
    "import numpy as np\n",
    "ALL_USERS = dataset_df.index.unique()\n",
    "gkf = GroupKFold(n_splits=5)\n",
    "oof = pd.DataFrame(data=np.zeros((len(ALL_USERS), 18)), index=ALL_USERS) # set all users to 18 columns as each question & set index to session_id\n",
    "model = {}"
   ]
  },
  {
   "cell_type": "code",
   "execution_count": 14,
   "id": "a493bf26",
   "metadata": {
    "execution": {
     "iopub.execute_input": "2023-05-12T13:28:54.572821Z",
     "iopub.status.busy": "2023-05-12T13:28:54.572003Z",
     "iopub.status.idle": "2023-05-12T13:28:54.603756Z",
     "shell.execute_reply": "2023-05-12T13:28:54.602851Z"
    },
    "papermill": {
     "duration": 0.050541,
     "end_time": "2023-05-12T13:28:54.606102",
     "exception": false,
     "start_time": "2023-05-12T13:28:54.555561",
     "status": "completed"
    },
    "tags": []
   },
   "outputs": [
    {
     "data": {
      "text/html": [
       "<div>\n",
       "<style scoped>\n",
       "    .dataframe tbody tr th:only-of-type {\n",
       "        vertical-align: middle;\n",
       "    }\n",
       "\n",
       "    .dataframe tbody tr th {\n",
       "        vertical-align: top;\n",
       "    }\n",
       "\n",
       "    .dataframe thead th {\n",
       "        text-align: right;\n",
       "    }\n",
       "</style>\n",
       "<table border=\"1\" class=\"dataframe\">\n",
       "  <thead>\n",
       "    <tr style=\"text-align: right;\">\n",
       "      <th></th>\n",
       "      <th>0</th>\n",
       "      <th>1</th>\n",
       "      <th>2</th>\n",
       "      <th>3</th>\n",
       "      <th>4</th>\n",
       "      <th>5</th>\n",
       "      <th>6</th>\n",
       "      <th>7</th>\n",
       "      <th>8</th>\n",
       "      <th>9</th>\n",
       "      <th>10</th>\n",
       "      <th>11</th>\n",
       "      <th>12</th>\n",
       "      <th>13</th>\n",
       "      <th>14</th>\n",
       "      <th>15</th>\n",
       "      <th>16</th>\n",
       "      <th>17</th>\n",
       "    </tr>\n",
       "    <tr>\n",
       "      <th>session_id</th>\n",
       "      <th></th>\n",
       "      <th></th>\n",
       "      <th></th>\n",
       "      <th></th>\n",
       "      <th></th>\n",
       "      <th></th>\n",
       "      <th></th>\n",
       "      <th></th>\n",
       "      <th></th>\n",
       "      <th></th>\n",
       "      <th></th>\n",
       "      <th></th>\n",
       "      <th></th>\n",
       "      <th></th>\n",
       "      <th></th>\n",
       "      <th></th>\n",
       "      <th></th>\n",
       "      <th></th>\n",
       "    </tr>\n",
       "  </thead>\n",
       "  <tbody>\n",
       "    <tr>\n",
       "      <th>20090312431273200</th>\n",
       "      <td>0.0</td>\n",
       "      <td>0.0</td>\n",
       "      <td>0.0</td>\n",
       "      <td>0.0</td>\n",
       "      <td>0.0</td>\n",
       "      <td>0.0</td>\n",
       "      <td>0.0</td>\n",
       "      <td>0.0</td>\n",
       "      <td>0.0</td>\n",
       "      <td>0.0</td>\n",
       "      <td>0.0</td>\n",
       "      <td>0.0</td>\n",
       "      <td>0.0</td>\n",
       "      <td>0.0</td>\n",
       "      <td>0.0</td>\n",
       "      <td>0.0</td>\n",
       "      <td>0.0</td>\n",
       "      <td>0.0</td>\n",
       "    </tr>\n",
       "    <tr>\n",
       "      <th>20090312433251036</th>\n",
       "      <td>0.0</td>\n",
       "      <td>0.0</td>\n",
       "      <td>0.0</td>\n",
       "      <td>0.0</td>\n",
       "      <td>0.0</td>\n",
       "      <td>0.0</td>\n",
       "      <td>0.0</td>\n",
       "      <td>0.0</td>\n",
       "      <td>0.0</td>\n",
       "      <td>0.0</td>\n",
       "      <td>0.0</td>\n",
       "      <td>0.0</td>\n",
       "      <td>0.0</td>\n",
       "      <td>0.0</td>\n",
       "      <td>0.0</td>\n",
       "      <td>0.0</td>\n",
       "      <td>0.0</td>\n",
       "      <td>0.0</td>\n",
       "    </tr>\n",
       "    <tr>\n",
       "      <th>20090312455206810</th>\n",
       "      <td>0.0</td>\n",
       "      <td>0.0</td>\n",
       "      <td>0.0</td>\n",
       "      <td>0.0</td>\n",
       "      <td>0.0</td>\n",
       "      <td>0.0</td>\n",
       "      <td>0.0</td>\n",
       "      <td>0.0</td>\n",
       "      <td>0.0</td>\n",
       "      <td>0.0</td>\n",
       "      <td>0.0</td>\n",
       "      <td>0.0</td>\n",
       "      <td>0.0</td>\n",
       "      <td>0.0</td>\n",
       "      <td>0.0</td>\n",
       "      <td>0.0</td>\n",
       "      <td>0.0</td>\n",
       "      <td>0.0</td>\n",
       "    </tr>\n",
       "    <tr>\n",
       "      <th>20090313091715820</th>\n",
       "      <td>0.0</td>\n",
       "      <td>0.0</td>\n",
       "      <td>0.0</td>\n",
       "      <td>0.0</td>\n",
       "      <td>0.0</td>\n",
       "      <td>0.0</td>\n",
       "      <td>0.0</td>\n",
       "      <td>0.0</td>\n",
       "      <td>0.0</td>\n",
       "      <td>0.0</td>\n",
       "      <td>0.0</td>\n",
       "      <td>0.0</td>\n",
       "      <td>0.0</td>\n",
       "      <td>0.0</td>\n",
       "      <td>0.0</td>\n",
       "      <td>0.0</td>\n",
       "      <td>0.0</td>\n",
       "      <td>0.0</td>\n",
       "    </tr>\n",
       "    <tr>\n",
       "      <th>20090313571836404</th>\n",
       "      <td>0.0</td>\n",
       "      <td>0.0</td>\n",
       "      <td>0.0</td>\n",
       "      <td>0.0</td>\n",
       "      <td>0.0</td>\n",
       "      <td>0.0</td>\n",
       "      <td>0.0</td>\n",
       "      <td>0.0</td>\n",
       "      <td>0.0</td>\n",
       "      <td>0.0</td>\n",
       "      <td>0.0</td>\n",
       "      <td>0.0</td>\n",
       "      <td>0.0</td>\n",
       "      <td>0.0</td>\n",
       "      <td>0.0</td>\n",
       "      <td>0.0</td>\n",
       "      <td>0.0</td>\n",
       "      <td>0.0</td>\n",
       "    </tr>\n",
       "  </tbody>\n",
       "</table>\n",
       "</div>"
      ],
      "text/plain": [
       "                    0    1    2    3    4    5    6    7    8    9    10   11  \\\n",
       "session_id                                                                      \n",
       "20090312431273200  0.0  0.0  0.0  0.0  0.0  0.0  0.0  0.0  0.0  0.0  0.0  0.0   \n",
       "20090312433251036  0.0  0.0  0.0  0.0  0.0  0.0  0.0  0.0  0.0  0.0  0.0  0.0   \n",
       "20090312455206810  0.0  0.0  0.0  0.0  0.0  0.0  0.0  0.0  0.0  0.0  0.0  0.0   \n",
       "20090313091715820  0.0  0.0  0.0  0.0  0.0  0.0  0.0  0.0  0.0  0.0  0.0  0.0   \n",
       "20090313571836404  0.0  0.0  0.0  0.0  0.0  0.0  0.0  0.0  0.0  0.0  0.0  0.0   \n",
       "\n",
       "                    12   13   14   15   16   17  \n",
       "session_id                                       \n",
       "20090312431273200  0.0  0.0  0.0  0.0  0.0  0.0  \n",
       "20090312433251036  0.0  0.0  0.0  0.0  0.0  0.0  \n",
       "20090312455206810  0.0  0.0  0.0  0.0  0.0  0.0  \n",
       "20090313091715820  0.0  0.0  0.0  0.0  0.0  0.0  \n",
       "20090313571836404  0.0  0.0  0.0  0.0  0.0  0.0  "
      ]
     },
     "execution_count": 14,
     "metadata": {},
     "output_type": "execute_result"
    }
   ],
   "source": [
    "oof.head()"
   ]
  },
  {
   "cell_type": "markdown",
   "id": "e93b0467",
   "metadata": {
    "_cell_guid": "1f2937b8-bae3-437c-8de6-560e1c37a905",
    "_uuid": "42d4108f-0a69-47c7-b707-c615f6410417",
    "id": "Ij7TT3x-n2PB",
    "papermill": {
     "duration": 0.015004,
     "end_time": "2023-05-12T13:28:54.636301",
     "exception": false,
     "start_time": "2023-05-12T13:28:54.621297",
     "status": "completed"
    },
    "tags": []
   },
   "source": [
    "## Prepared dataset"
   ]
  },
  {
   "cell_type": "code",
   "execution_count": 15,
   "id": "422680a9",
   "metadata": {
    "_cell_guid": "29231f51-e49f-458a-b880-f8a51e82c7d9",
    "_uuid": "e169155e-f9bc-414f-a814-78c982e6b46a",
    "collapsed": false,
    "execution": {
     "iopub.execute_input": "2023-05-12T13:28:54.669369Z",
     "iopub.status.busy": "2023-05-12T13:28:54.668314Z",
     "iopub.status.idle": "2023-05-12T13:28:54.769361Z",
     "shell.execute_reply": "2023-05-12T13:28:54.767936Z"
    },
    "id": "OZfTcCJfn2PC",
    "jupyter": {
     "outputs_hidden": false
    },
    "papermill": {
     "duration": 0.120491,
     "end_time": "2023-05-12T13:28:54.771909",
     "exception": false,
     "start_time": "2023-05-12T13:28:54.651418",
     "status": "completed"
    },
    "tags": []
   },
   "outputs": [
    {
     "name": "stdout",
     "output_type": "stream",
     "text": [
      "56547 examples in training, 14139 examples in testing.\n"
     ]
    }
   ],
   "source": [
    "# split the dataset into training and testing datasets\n",
    "\n",
    "def split_dataset(dataset, test_ratio=0.20):\n",
    "    USER_LIST = dataset_df.index.unique()\n",
    "    split = int(len(USER_LIST) * (1 - 0.20))\n",
    "    return dataset.loc[USER_LIST[:split]], dataset.loc[USER_LIST[split:]]\n",
    "\n",
    "train_x, valid_x = split_dataset(dataset_df)\n",
    "print(\"{} examples in training, {} examples in testing.\".format(\n",
    "    len(train_x), len(valid_x)))"
   ]
  },
  {
   "cell_type": "markdown",
   "id": "b9080fe5",
   "metadata": {
    "_cell_guid": "5ccc7b81-2cf5-4828-aafa-02f5004eaa36",
    "_uuid": "653fd608-23cc-4f26-aece-b69315787daa",
    "id": "ZnVfKZfzn2PE",
    "papermill": {
     "duration": 0.015103,
     "end_time": "2023-05-12T13:28:54.802412",
     "exception": false,
     "start_time": "2023-05-12T13:28:54.787309",
     "status": "completed"
    },
    "tags": []
   },
   "source": [
    "## Select a Model\n",
    "\n",
    "- RandomForestModel\n",
    "- GradientBoostedTreesModel\n",
    "- CartModel\n",
    "- DistributedGradientBoostedTreesModel"
   ]
  },
  {
   "cell_type": "code",
   "execution_count": 16,
   "id": "e0953bab",
   "metadata": {
    "_cell_guid": "1024bfc0-1b13-4220-8f00-52193199d5c5",
    "_uuid": "7e175861-93bd-4051-ab39-db2451a014a2",
    "collapsed": false,
    "execution": {
     "iopub.execute_input": "2023-05-12T13:28:54.835412Z",
     "iopub.status.busy": "2023-05-12T13:28:54.834611Z",
     "iopub.status.idle": "2023-05-12T13:28:54.841054Z",
     "shell.execute_reply": "2023-05-12T13:28:54.840178Z"
    },
    "id": "KZBdcVU1n2PE",
    "jupyter": {
     "outputs_hidden": false
    },
    "papermill": {
     "duration": 0.025619,
     "end_time": "2023-05-12T13:28:54.843362",
     "exception": false,
     "start_time": "2023-05-12T13:28:54.817743",
     "status": "completed"
    },
    "tags": []
   },
   "outputs": [
    {
     "data": {
      "text/plain": [
       "[tensorflow_decision_forests.keras.RandomForestModel,\n",
       " tensorflow_decision_forests.keras.GradientBoostedTreesModel,\n",
       " tensorflow_decision_forests.keras.CartModel,\n",
       " tensorflow_decision_forests.keras.DistributedGradientBoostedTreesModel]"
      ]
     },
     "execution_count": 16,
     "metadata": {},
     "output_type": "execute_result"
    }
   ],
   "source": [
    "tfdf.keras.get_all_models()"
   ]
  },
  {
   "cell_type": "markdown",
   "id": "d9a81021",
   "metadata": {
    "_cell_guid": "ed120449-1fd1-4bfe-a823-0829876a63b8",
    "_uuid": "7ebd9427-fccb-4794-9299-7d7ce762dd07",
    "id": "UdibIrM-XP5-",
    "papermill": {
     "duration": 0.015182,
     "end_time": "2023-05-12T13:28:54.874032",
     "exception": false,
     "start_time": "2023-05-12T13:28:54.858850",
     "status": "completed"
    },
    "tags": []
   },
   "source": [
    "# Training"
   ]
  },
  {
   "cell_type": "code",
   "execution_count": 17,
   "id": "a5eb2078",
   "metadata": {
    "_cell_guid": "5a2a9e7c-8ca4-4bcd-8438-fffe8c05d75f",
    "_uuid": "351d9e6d-e32a-4ae5-a32e-35df52c487f3",
    "collapsed": false,
    "execution": {
     "iopub.execute_input": "2023-05-12T13:28:54.907912Z",
     "iopub.status.busy": "2023-05-12T13:28:54.907087Z",
     "iopub.status.idle": "2023-05-12T13:28:54.914937Z",
     "shell.execute_reply": "2023-05-12T13:28:54.913935Z"
    },
    "id": "7Brds67Wn2PD",
    "jupyter": {
     "outputs_hidden": false
    },
    "papermill": {
     "duration": 0.027701,
     "end_time": "2023-05-12T13:28:54.917452",
     "exception": false,
     "start_time": "2023-05-12T13:28:54.889751",
     "status": "completed"
    },
    "tags": []
   },
   "outputs": [],
   "source": [
    "# Fetch the unique list of user sessions in the validation dataset. We assigned \n",
    "# `session_id` as the index of our feature engineered dataset. Hence fetching \n",
    "# the unique values in the index column will give us a list of users in the \n",
    "# validation set.\n",
    "VALID_USER_LIST = valid_x.index.unique()\n",
    "\n",
    "# Create a dataframe for storing the predictions of each question for all users\n",
    "# in the validation set.\n",
    "# For this, the required size of the data frame is: \n",
    "# (no: of users in validation set  x no of questions).\n",
    "# We will initialize all the predicted values in the data frame to zero.\n",
    "# The dataframe's index column is the user `session_id`s. \n",
    "prediction_df = pd.DataFrame(data=np.zeros((len(VALID_USER_LIST),18)), index=VALID_USER_LIST)\n",
    "\n",
    "# Create an empty dictionary to store the models created for each question.\n",
    "models = {}\n",
    "\n",
    "# Create an empty dictionary to store the evaluation score for each question.\n",
    "evaluation_dict ={}"
   ]
  },
  {
   "cell_type": "code",
   "execution_count": 18,
   "id": "21961a4f",
   "metadata": {
    "_cell_guid": "ff4a9550-9bc1-4a54-bdf8-ff62361e7492",
    "_uuid": "dfc66f88-1fc4-4726-ac52-b5bd33b2757a",
    "collapsed": false,
    "execution": {
     "iopub.execute_input": "2023-05-12T13:28:54.951146Z",
     "iopub.status.busy": "2023-05-12T13:28:54.950391Z",
     "iopub.status.idle": "2023-05-12T13:31:42.077326Z",
     "shell.execute_reply": "2023-05-12T13:31:42.076080Z"
    },
    "id": "VBO3VCOJn2PF",
    "jupyter": {
     "outputs_hidden": false
    },
    "papermill": {
     "duration": 167.147996,
     "end_time": "2023-05-12T13:31:42.080909",
     "exception": false,
     "start_time": "2023-05-12T13:28:54.932913",
     "status": "completed"
    },
    "tags": []
   },
   "outputs": [
    {
     "name": "stdout",
     "output_type": "stream",
     "text": [
      "### q_no 1 grp 0-4\n"
     ]
    },
    {
     "name": "stderr",
     "output_type": "stream",
     "text": [
      "/opt/conda/lib/python3.7/site-packages/ipykernel_launcher.py:23: SettingWithCopyWarning: \n",
      "A value is trying to be set on a copy of a slice from a DataFrame.\n",
      "Try using .loc[row_indexer,col_indexer] = value instead\n",
      "\n",
      "See the caveats in the documentation: https://pandas.pydata.org/pandas-docs/stable/user_guide/indexing.html#returning-a-view-versus-a-copy\n",
      "/opt/conda/lib/python3.7/site-packages/ipykernel_launcher.py:24: SettingWithCopyWarning: \n",
      "A value is trying to be set on a copy of a slice from a DataFrame.\n",
      "Try using .loc[row_indexer,col_indexer] = value instead\n",
      "\n",
      "See the caveats in the documentation: https://pandas.pydata.org/pandas-docs/stable/user_guide/indexing.html#returning-a-view-versus-a-copy\n"
     ]
    },
    {
     "name": "stdout",
     "output_type": "stream",
     "text": [
      "Use /tmp/tmphk4qnmcv as temporary training directory\n",
      "Reading training dataset...\n",
      "Training dataset read in 0:00:08.422129. Found 18849 examples.\n",
      "Training model...\n"
     ]
    },
    {
     "name": "stderr",
     "output_type": "stream",
     "text": [
      "[INFO 2023-05-12T13:29:08.856744192+00:00 kernel.cc:1214] Loading model from path /tmp/tmphk4qnmcv/model/ with prefix 0dcbe9434c75417e\n"
     ]
    },
    {
     "name": "stdout",
     "output_type": "stream",
     "text": [
      "Model trained in 0:00:05.881873\n",
      "Compiling model...\n"
     ]
    },
    {
     "name": "stderr",
     "output_type": "stream",
     "text": [
      "[INFO 2023-05-12T13:29:09.509300169+00:00 decision_forest.cc:661] Model loaded with 100 root(s), 163502 node(s), and 21 input feature(s).\n",
      "[INFO 2023-05-12T13:29:09.509762929+00:00 abstract_model.cc:1311] Engine \"RandomForestOptPred\" built\n",
      "[INFO 2023-05-12T13:29:09.510748293+00:00 kernel.cc:1046] Use fast generic engine\n"
     ]
    },
    {
     "name": "stdout",
     "output_type": "stream",
     "text": [
      "WARNING: AutoGraph could not transform <function simple_ml_inference_op_with_handle at 0x7b5d5b618440> and will run it as-is.\n",
      "Please report this to the TensorFlow team. When filing the bug, set the verbosity to 10 (on Linux, `export AUTOGRAPH_VERBOSITY=10`) and attach the full output.\n",
      "Cause: could not get source code\n",
      "To silence this warning, decorate the function with @tf.autograph.experimental.do_not_convert\n",
      "Model compiled.\n",
      "5/5 [==============================] - 1s 17ms/step - loss: 0.0000e+00 - accuracy: 0.7307\n",
      "5/5 [==============================] - 0s 15ms/step\n",
      "### q_no 2 grp 0-4\n",
      "Use /tmp/tmpv_44zyfz as temporary training directory\n",
      "Reading training dataset...\n",
      "Training dataset read in 0:00:00.675423. Found 18849 examples.\n",
      "Training model...\n"
     ]
    },
    {
     "name": "stderr",
     "output_type": "stream",
     "text": [
      "[INFO 2023-05-12T13:29:17.696473789+00:00 kernel.cc:1214] Loading model from path /tmp/tmpv_44zyfz/model/ with prefix 0691e015473f4780\n",
      "[INFO 2023-05-12T13:29:17.892487173+00:00 decision_forest.cc:661] Model loaded with 100 root(s), 50820 node(s), and 21 input feature(s).\n",
      "[INFO 2023-05-12T13:29:17.892863125+00:00 kernel.cc:1046] Use fast generic engine\n"
     ]
    },
    {
     "name": "stdout",
     "output_type": "stream",
     "text": [
      "Model trained in 0:00:03.664529\n",
      "Compiling model...\n",
      "Model compiled.\n",
      "5/5 [==============================] - 0s 17ms/step - loss: 0.0000e+00 - accuracy: 0.9756\n",
      "5/5 [==============================] - 0s 15ms/step\n",
      "### q_no 3 grp 0-4\n",
      "Use /tmp/tmpcgk1flja as temporary training directory\n",
      "Reading training dataset...\n",
      "Training dataset read in 0:00:00.674221. Found 18849 examples.\n",
      "Training model...\n"
     ]
    },
    {
     "name": "stderr",
     "output_type": "stream",
     "text": [
      "[INFO 2023-05-12T13:29:23.674588663+00:00 kernel.cc:1214] Loading model from path /tmp/tmpcgk1flja/model/ with prefix ba29de1e2d7f4f42\n"
     ]
    },
    {
     "name": "stdout",
     "output_type": "stream",
     "text": [
      "Model trained in 0:00:04.608425\n",
      "Compiling model...\n"
     ]
    },
    {
     "name": "stderr",
     "output_type": "stream",
     "text": [
      "[INFO 2023-05-12T13:29:24.04839237+00:00 decision_forest.cc:661] Model loaded with 100 root(s), 96322 node(s), and 21 input feature(s).\n",
      "[INFO 2023-05-12T13:29:24.048445579+00:00 abstract_model.cc:1311] Engine \"RandomForestOptPred\" built\n",
      "[INFO 2023-05-12T13:29:24.048474133+00:00 kernel.cc:1046] Use fast generic engine\n"
     ]
    },
    {
     "name": "stdout",
     "output_type": "stream",
     "text": [
      "Model compiled.\n",
      "5/5 [==============================] - 0s 19ms/step - loss: 0.0000e+00 - accuracy: 0.9351\n",
      "5/5 [==============================] - 0s 15ms/step\n",
      "### q_no 4 grp 5-12\n",
      "Use /tmp/tmpvhver0ur as temporary training directory\n",
      "Reading training dataset...\n",
      "Training dataset read in 0:00:00.668865. Found 18849 examples.\n",
      "Training model...\n"
     ]
    },
    {
     "name": "stderr",
     "output_type": "stream",
     "text": [
      "[INFO 2023-05-12T13:29:35.802018457+00:00 kernel.cc:1214] Loading model from path /tmp/tmpvhver0ur/model/ with prefix 804639862ef7466a\n"
     ]
    },
    {
     "name": "stdout",
     "output_type": "stream",
     "text": [
      "Model trained in 0:00:05.889655\n",
      "Compiling model...\n"
     ]
    },
    {
     "name": "stderr",
     "output_type": "stream",
     "text": [
      "[INFO 2023-05-12T13:29:36.498714773+00:00 decision_forest.cc:661] Model loaded with 100 root(s), 175970 node(s), and 21 input feature(s).\n",
      "[INFO 2023-05-12T13:29:36.498775576+00:00 abstract_model.cc:1311] Engine \"RandomForestOptPred\" built\n",
      "[INFO 2023-05-12T13:29:36.498803986+00:00 kernel.cc:1046] Use fast generic engine\n"
     ]
    },
    {
     "name": "stdout",
     "output_type": "stream",
     "text": [
      "Model compiled.\n",
      "5/5 [==============================] - 0s 17ms/step - loss: 0.0000e+00 - accuracy: 0.7942\n",
      "5/5 [==============================] - 0s 16ms/step\n",
      "### q_no 5 grp 5-12\n",
      "Use /tmp/tmpw8q8tf1h as temporary training directory\n",
      "Reading training dataset...\n",
      "Training dataset read in 0:00:00.680368. Found 18849 examples.\n",
      "Training model...\n"
     ]
    },
    {
     "name": "stderr",
     "output_type": "stream",
     "text": [
      "[INFO 2023-05-12T13:29:46.982698195+00:00 kernel.cc:1214] Loading model from path /tmp/tmpw8q8tf1h/model/ with prefix 4cd808b60e404c0e\n"
     ]
    },
    {
     "name": "stdout",
     "output_type": "stream",
     "text": [
      "Model trained in 0:00:05.931626\n",
      "Compiling model...\n"
     ]
    },
    {
     "name": "stderr",
     "output_type": "stream",
     "text": [
      "[INFO 2023-05-12T13:29:47.760009369+00:00 decision_forest.cc:661] Model loaded with 100 root(s), 197486 node(s), and 21 input feature(s).\n",
      "[INFO 2023-05-12T13:29:47.760138268+00:00 abstract_model.cc:1311] Engine \"RandomForestOptPred\" built\n",
      "[INFO 2023-05-12T13:29:47.760167759+00:00 kernel.cc:1046] Use fast generic engine\n"
     ]
    },
    {
     "name": "stdout",
     "output_type": "stream",
     "text": [
      "Model compiled.\n",
      "5/5 [==============================] - 0s 17ms/step - loss: 0.0000e+00 - accuracy: 0.6270\n",
      "5/5 [==============================] - 0s 16ms/step\n",
      "### q_no 6 grp 5-12\n",
      "Use /tmp/tmp1n5d7tea as temporary training directory\n",
      "Reading training dataset...\n",
      "Training dataset read in 0:00:00.674675. Found 18849 examples.\n",
      "Training model...\n"
     ]
    },
    {
     "name": "stderr",
     "output_type": "stream",
     "text": [
      "[INFO 2023-05-12T13:29:57.969298409+00:00 kernel.cc:1214] Loading model from path /tmp/tmp1n5d7tea/model/ with prefix ef4ea6bca78c40c8\n"
     ]
    },
    {
     "name": "stdout",
     "output_type": "stream",
     "text": [
      "Model trained in 0:00:05.601917\n",
      "Compiling model...\n"
     ]
    },
    {
     "name": "stderr",
     "output_type": "stream",
     "text": [
      "[INFO 2023-05-12T13:29:58.65271164+00:00 decision_forest.cc:661] Model loaded with 100 root(s), 174286 node(s), and 21 input feature(s).\n",
      "[INFO 2023-05-12T13:29:58.653260334+00:00 abstract_model.cc:1311] Engine \"RandomForestOptPred\" built\n",
      "[INFO 2023-05-12T13:29:58.653596098+00:00 kernel.cc:1046] Use fast generic engine\n"
     ]
    },
    {
     "name": "stdout",
     "output_type": "stream",
     "text": [
      "Model compiled.\n",
      "5/5 [==============================] - 0s 16ms/step - loss: 0.0000e+00 - accuracy: 0.7902\n",
      "5/5 [==============================] - 0s 20ms/step\n",
      "### q_no 7 grp 5-12\n",
      "Use /tmp/tmpb72enu37 as temporary training directory\n",
      "Reading training dataset...\n",
      "Training dataset read in 0:00:00.692711. Found 18849 examples.\n",
      "Training model...\n"
     ]
    },
    {
     "name": "stderr",
     "output_type": "stream",
     "text": [
      "[INFO 2023-05-12T13:30:05.300726658+00:00 kernel.cc:1214] Loading model from path /tmp/tmpb72enu37/model/ with prefix daba7d81a15f46b1\n"
     ]
    },
    {
     "name": "stdout",
     "output_type": "stream",
     "text": [
      "Model trained in 0:00:05.756103\n",
      "Compiling model...\n"
     ]
    },
    {
     "name": "stderr",
     "output_type": "stream",
     "text": [
      "[INFO 2023-05-12T13:30:06.064726663+00:00 decision_forest.cc:661] Model loaded with 100 root(s), 180944 node(s), and 21 input feature(s).\n",
      "[INFO 2023-05-12T13:30:06.064805204+00:00 kernel.cc:1046] Use fast generic engine\n"
     ]
    },
    {
     "name": "stdout",
     "output_type": "stream",
     "text": [
      "Model compiled.\n",
      "5/5 [==============================] - 0s 22ms/step - loss: 0.0000e+00 - accuracy: 0.7460\n",
      "5/5 [==============================] - 0s 16ms/step\n",
      "### q_no 8 grp 5-12\n",
      "Use /tmp/tmpchf6rup9 as temporary training directory\n",
      "Reading training dataset...\n",
      "Training dataset read in 0:00:00.664060. Found 18849 examples.\n",
      "Training model...\n"
     ]
    },
    {
     "name": "stderr",
     "output_type": "stream",
     "text": [
      "[INFO 2023-05-12T13:30:16.440320985+00:00 kernel.cc:1214] Loading model from path /tmp/tmpchf6rup9/model/ with prefix 0c0e606c58a242e0\n"
     ]
    },
    {
     "name": "stdout",
     "output_type": "stream",
     "text": [
      "Model trained in 0:00:05.488264\n",
      "Compiling model...\n"
     ]
    },
    {
     "name": "stderr",
     "output_type": "stream",
     "text": [
      "[INFO 2023-05-12T13:30:17.01907429+00:00 decision_forest.cc:661] Model loaded with 100 root(s), 148534 node(s), and 21 input feature(s).\n",
      "[INFO 2023-05-12T13:30:17.019286581+00:00 abstract_model.cc:1311] Engine \"RandomForestOptPred\" built\n",
      "[INFO 2023-05-12T13:30:17.019328644+00:00 kernel.cc:1046] Use fast generic engine\n"
     ]
    },
    {
     "name": "stdout",
     "output_type": "stream",
     "text": [
      "Model compiled.\n",
      "5/5 [==============================] - 0s 15ms/step - loss: 0.0000e+00 - accuracy: 0.6374\n",
      "5/5 [==============================] - 0s 16ms/step\n",
      "### q_no 9 grp 5-12\n",
      "Use /tmp/tmpijyg1ook as temporary training directory\n",
      "Reading training dataset...\n",
      "Training dataset read in 0:00:00.665424. Found 18849 examples.\n",
      "Training model...\n"
     ]
    },
    {
     "name": "stderr",
     "output_type": "stream",
     "text": [
      "[INFO 2023-05-12T13:30:23.519590109+00:00 kernel.cc:1214] Loading model from path /tmp/tmpijyg1ook/model/ with prefix 09e682da9a3a475c\n"
     ]
    },
    {
     "name": "stdout",
     "output_type": "stream",
     "text": [
      "Model trained in 0:00:05.621674\n",
      "Compiling model...\n"
     ]
    },
    {
     "name": "stderr",
     "output_type": "stream",
     "text": [
      "[INFO 2023-05-12T13:30:24.191265486+00:00 decision_forest.cc:661] Model loaded with 100 root(s), 172382 node(s), and 21 input feature(s).\n",
      "[INFO 2023-05-12T13:30:24.191346122+00:00 kernel.cc:1046] Use fast generic engine\n"
     ]
    },
    {
     "name": "stdout",
     "output_type": "stream",
     "text": [
      "Model compiled.\n",
      "5/5 [==============================] - 0s 17ms/step - loss: 0.0000e+00 - accuracy: 0.7664\n",
      "5/5 [==============================] - 0s 15ms/step\n",
      "### q_no 10 grp 5-12\n",
      "Use /tmp/tmpb7wc002h as temporary training directory\n",
      "Reading training dataset...\n",
      "Training dataset read in 0:00:00.661357. Found 18849 examples.\n",
      "Training model...\n"
     ]
    },
    {
     "name": "stderr",
     "output_type": "stream",
     "text": [
      "[INFO 2023-05-12T13:30:30.863172026+00:00 kernel.cc:1214] Loading model from path /tmp/tmpb7wc002h/model/ with prefix e7d43bb77be346dc\n"
     ]
    },
    {
     "name": "stdout",
     "output_type": "stream",
     "text": [
      "Model trained in 0:00:05.780089\n",
      "Compiling model...\n"
     ]
    },
    {
     "name": "stderr",
     "output_type": "stream",
     "text": [
      "[INFO 2023-05-12T13:30:31.572789815+00:00 decision_forest.cc:661] Model loaded with 100 root(s), 182310 node(s), and 21 input feature(s).\n",
      "[INFO 2023-05-12T13:30:31.573046197+00:00 abstract_model.cc:1311] Engine \"RandomForestOptPred\" built\n",
      "[INFO 2023-05-12T13:30:31.573075952+00:00 kernel.cc:1046] Use fast generic engine\n"
     ]
    },
    {
     "name": "stdout",
     "output_type": "stream",
     "text": [
      "Model compiled.\n",
      "5/5 [==============================] - 0s 17ms/step - loss: 0.0000e+00 - accuracy: 0.6017\n",
      "5/5 [==============================] - 0s 15ms/step\n",
      "### q_no 11 grp 5-12\n",
      "Use /tmp/tmp52uyt7uy as temporary training directory\n",
      "Reading training dataset...\n",
      "Training dataset read in 0:00:00.668562. Found 18849 examples.\n",
      "Training model...\n"
     ]
    },
    {
     "name": "stderr",
     "output_type": "stream",
     "text": [
      "[INFO 2023-05-12T13:30:38.421243126+00:00 kernel.cc:1214] Loading model from path /tmp/tmp52uyt7uy/model/ with prefix 533836a1563246a9\n"
     ]
    },
    {
     "name": "stdout",
     "output_type": "stream",
     "text": [
      "Model trained in 0:00:05.822600\n",
      "Compiling model...\n"
     ]
    },
    {
     "name": "stderr",
     "output_type": "stream",
     "text": [
      "[INFO 2023-05-12T13:30:39.033285141+00:00 decision_forest.cc:661] Model loaded with 100 root(s), 157792 node(s), and 21 input feature(s).\n",
      "[INFO 2023-05-12T13:30:39.033820775+00:00 kernel.cc:1046] Use fast generic engine\n"
     ]
    },
    {
     "name": "stdout",
     "output_type": "stream",
     "text": [
      "Model compiled.\n",
      "5/5 [==============================] - 0s 17ms/step - loss: 0.0000e+00 - accuracy: 0.6535\n",
      "5/5 [==============================] - 0s 15ms/step\n",
      "### q_no 12 grp 5-12\n",
      "Use /tmp/tmppqnpl9eu as temporary training directory\n",
      "Reading training dataset...\n",
      "Training dataset read in 0:00:00.685330. Found 18849 examples.\n",
      "Training model...\n"
     ]
    },
    {
     "name": "stderr",
     "output_type": "stream",
     "text": [
      "[INFO 2023-05-12T13:30:45.30687431+00:00 kernel.cc:1214] Loading model from path /tmp/tmppqnpl9eu/model/ with prefix 4af2deb524f24add\n"
     ]
    },
    {
     "name": "stdout",
     "output_type": "stream",
     "text": [
      "Model trained in 0:00:05.199882\n",
      "Compiling model...\n"
     ]
    },
    {
     "name": "stderr",
     "output_type": "stream",
     "text": [
      "[INFO 2023-05-12T13:30:45.820152545+00:00 decision_forest.cc:661] Model loaded with 100 root(s), 131780 node(s), and 21 input feature(s).\n",
      "[INFO 2023-05-12T13:30:45.820578502+00:00 abstract_model.cc:1311] Engine \"RandomForestOptPred\" built\n",
      "[INFO 2023-05-12T13:30:45.820650983+00:00 kernel.cc:1046] Use fast generic engine\n"
     ]
    },
    {
     "name": "stdout",
     "output_type": "stream",
     "text": [
      "Model compiled.\n",
      "5/5 [==============================] - 0s 16ms/step - loss: 0.0000e+00 - accuracy: 0.8697\n",
      "5/5 [==============================] - 0s 16ms/step\n",
      "### q_no 13 grp 5-12\n",
      "Use /tmp/tmp_esim17d as temporary training directory\n",
      "Reading training dataset...\n",
      "Training dataset read in 0:00:00.681537. Found 18849 examples.\n",
      "Training model...\n"
     ]
    },
    {
     "name": "stderr",
     "output_type": "stream",
     "text": [
      "[INFO 2023-05-12T13:30:52.340315955+00:00 kernel.cc:1214] Loading model from path /tmp/tmp_esim17d/model/ with prefix 8f1baf65583041cd\n"
     ]
    },
    {
     "name": "stdout",
     "output_type": "stream",
     "text": [
      "Model trained in 0:00:05.521629\n",
      "Compiling model...\n"
     ]
    },
    {
     "name": "stderr",
     "output_type": "stream",
     "text": [
      "[INFO 2023-05-12T13:30:52.957714644+00:00 decision_forest.cc:661] Model loaded with 100 root(s), 158546 node(s), and 21 input feature(s).\n",
      "[INFO 2023-05-12T13:30:52.957796454+00:00 kernel.cc:1046] Use fast generic engine\n"
     ]
    },
    {
     "name": "stdout",
     "output_type": "stream",
     "text": [
      "Model compiled.\n",
      "5/5 [==============================] - 0s 16ms/step - loss: 0.0000e+00 - accuracy: 0.7208\n",
      "5/5 [==============================] - 0s 16ms/step\n",
      "### q_no 14 grp 13-22\n",
      "Use /tmp/tmp3413p30r as temporary training directory\n",
      "Reading training dataset...\n",
      "Training dataset read in 0:00:00.981331. Found 18849 examples.\n",
      "Training model...\n"
     ]
    },
    {
     "name": "stderr",
     "output_type": "stream",
     "text": [
      "[INFO 2023-05-12T13:31:04.106003402+00:00 kernel.cc:1214] Loading model from path /tmp/tmp3413p30r/model/ with prefix de1157c758894b64\n"
     ]
    },
    {
     "name": "stdout",
     "output_type": "stream",
     "text": [
      "Model trained in 0:00:05.843521\n",
      "Compiling model...\n"
     ]
    },
    {
     "name": "stderr",
     "output_type": "stream",
     "text": [
      "[INFO 2023-05-12T13:31:04.825671961+00:00 decision_forest.cc:661] Model loaded with 100 root(s), 184954 node(s), and 21 input feature(s).\n",
      "[INFO 2023-05-12T13:31:04.825766996+00:00 abstract_model.cc:1311] Engine \"RandomForestOptPred\" built\n",
      "[INFO 2023-05-12T13:31:04.825808047+00:00 kernel.cc:1046] Use fast generic engine\n"
     ]
    },
    {
     "name": "stdout",
     "output_type": "stream",
     "text": [
      "Model compiled.\n",
      "5/5 [==============================] - 0s 21ms/step - loss: 0.0000e+00 - accuracy: 0.7327\n",
      "5/5 [==============================] - 0s 15ms/step\n",
      "### q_no 15 grp 13-22\n",
      "Use /tmp/tmpo38b6qyb as temporary training directory\n",
      "Reading training dataset...\n",
      "Training dataset read in 0:00:00.678959. Found 18849 examples.\n",
      "Training model...\n"
     ]
    },
    {
     "name": "stderr",
     "output_type": "stream",
     "text": [
      "[INFO 2023-05-12T13:31:11.869795748+00:00 kernel.cc:1214] Loading model from path /tmp/tmpo38b6qyb/model/ with prefix e61db06adcfc4b75\n"
     ]
    },
    {
     "name": "stdout",
     "output_type": "stream",
     "text": [
      "Model trained in 0:00:06.176293\n",
      "Compiling model...\n"
     ]
    },
    {
     "name": "stderr",
     "output_type": "stream",
     "text": [
      "[INFO 2023-05-12T13:31:12.627897155+00:00 decision_forest.cc:661] Model loaded with 100 root(s), 195254 node(s), and 21 input feature(s).\n",
      "[INFO 2023-05-12T13:31:12.627959149+00:00 kernel.cc:1046] Use fast generic engine\n"
     ]
    },
    {
     "name": "stdout",
     "output_type": "stream",
     "text": [
      "Model compiled.\n",
      "5/5 [==============================] - 0s 19ms/step - loss: 0.0000e+00 - accuracy: 0.5992\n",
      "5/5 [==============================] - 0s 18ms/step\n",
      "### q_no 16 grp 13-22\n",
      "Use /tmp/tmpva33_xjh as temporary training directory\n",
      "Reading training dataset...\n",
      "Training dataset read in 0:00:00.692939. Found 18849 examples.\n",
      "Training model...\n"
     ]
    },
    {
     "name": "stderr",
     "output_type": "stream",
     "text": [
      "[INFO 2023-05-12T13:31:22.804676009+00:00 kernel.cc:1214] Loading model from path /tmp/tmpva33_xjh/model/ with prefix 0c25d9b505404bec\n"
     ]
    },
    {
     "name": "stdout",
     "output_type": "stream",
     "text": [
      "Model trained in 0:00:05.500332\n",
      "Compiling model...\n"
     ]
    },
    {
     "name": "stderr",
     "output_type": "stream",
     "text": [
      "[INFO 2023-05-12T13:31:23.286410657+00:00 decision_forest.cc:661] Model loaded with 100 root(s), 109178 node(s), and 21 input feature(s).\n",
      "[INFO 2023-05-12T13:31:23.286465242+00:00 abstract_model.cc:1311] Engine \"RandomForestOptPred\" built\n",
      "[INFO 2023-05-12T13:31:23.286493077+00:00 kernel.cc:1046] Use fast generic engine\n"
     ]
    },
    {
     "name": "stdout",
     "output_type": "stream",
     "text": [
      "Model compiled.\n",
      "5/5 [==============================] - 0s 22ms/step - loss: 0.0000e+00 - accuracy: 0.7490\n",
      "5/5 [==============================] - 0s 24ms/step\n",
      "### q_no 17 grp 13-22\n",
      "Use /tmp/tmpkfjpav96 as temporary training directory\n",
      "Reading training dataset...\n",
      "Training dataset read in 0:00:00.715399. Found 18849 examples.\n",
      "Training model...\n"
     ]
    },
    {
     "name": "stderr",
     "output_type": "stream",
     "text": [
      "[INFO 2023-05-12T13:31:34.486667262+00:00 kernel.cc:1214] Loading model from path /tmp/tmpkfjpav96/model/ with prefix 28d1ae2d319c47a9\n"
     ]
    },
    {
     "name": "stdout",
     "output_type": "stream",
     "text": [
      "Model trained in 0:00:05.982221\n",
      "Compiling model...\n"
     ]
    },
    {
     "name": "stderr",
     "output_type": "stream",
     "text": [
      "[INFO 2023-05-12T13:31:35.046563856+00:00 decision_forest.cc:661] Model loaded with 100 root(s), 138226 node(s), and 21 input feature(s).\n",
      "[INFO 2023-05-12T13:31:35.047319753+00:00 abstract_model.cc:1311] Engine \"RandomForestOptPred\" built\n",
      "[INFO 2023-05-12T13:31:35.047429169+00:00 kernel.cc:1046] Use fast generic engine\n"
     ]
    },
    {
     "name": "stdout",
     "output_type": "stream",
     "text": [
      "Model compiled.\n",
      "5/5 [==============================] - 0s 16ms/step - loss: 0.0000e+00 - accuracy: 0.7036\n",
      "5/5 [==============================] - 0s 17ms/step\n",
      "### q_no 18 grp 13-22\n",
      "Use /tmp/tmp6tvkcc56 as temporary training directory\n",
      "Reading training dataset...\n",
      "Training dataset read in 0:00:00.686207. Found 18849 examples.\n",
      "Training model...\n"
     ]
    },
    {
     "name": "stderr",
     "output_type": "stream",
     "text": [
      "[INFO 2023-05-12T13:31:40.816370327+00:00 kernel.cc:1214] Loading model from path /tmp/tmp6tvkcc56/model/ with prefix ed37e6ba4a6a4749\n"
     ]
    },
    {
     "name": "stdout",
     "output_type": "stream",
     "text": [
      "Model trained in 0:00:04.538869\n",
      "Compiling model...\n"
     ]
    },
    {
     "name": "stderr",
     "output_type": "stream",
     "text": [
      "[INFO 2023-05-12T13:31:41.192387729+00:00 decision_forest.cc:661] Model loaded with 100 root(s), 88932 node(s), and 21 input feature(s).\n",
      "[INFO 2023-05-12T13:31:41.19245616+00:00 kernel.cc:1046] Use fast generic engine\n"
     ]
    },
    {
     "name": "stdout",
     "output_type": "stream",
     "text": [
      "Model compiled.\n",
      "5/5 [==============================] - 0s 16ms/step - loss: 0.0000e+00 - accuracy: 0.9516\n",
      "5/5 [==============================] - 0s 16ms/step\n"
     ]
    }
   ],
   "source": [
    "# Iterate through questions 1 to 18 to train models for each question, evaluate\n",
    "# the trained model and store the predicted values.\n",
    "for q_no in range(1,19):\n",
    "\n",
    "    # Select level group for the question based on the q_no.\n",
    "    if q_no<=3: grp = '0-4'\n",
    "    elif q_no<=13: grp = '5-12'\n",
    "    elif q_no<=22: grp = '13-22'\n",
    "    print(\"### q_no\", q_no, \"grp\", grp)\n",
    "    \n",
    "        \n",
    "    # Filter the rows in the datasets based on the selected level group. \n",
    "    train_df = train_x.loc[train_x.level_group == grp]\n",
    "    train_users = train_df.index.values\n",
    "    valid_df = valid_x.loc[valid_x.level_group == grp]\n",
    "    valid_users = valid_df.index.values\n",
    "\n",
    "    # Select the labels for the related q_no.\n",
    "    train_labels = labels.loc[labels.q==q_no].set_index('session').loc[train_users]\n",
    "    valid_labels = labels.loc[labels.q==q_no].set_index('session').loc[valid_users]\n",
    "\n",
    "    # Add the label to the filtered datasets.\n",
    "    train_df[\"correct\"] = train_labels[\"correct\"]\n",
    "    valid_df[\"correct\"] = valid_labels[\"correct\"]\n",
    "\n",
    "    # There's one more step required before we can train the model. \n",
    "    # We need to convert the datatset from Pandas format (pd.DataFrame)\n",
    "    # into TensorFlow Datasets format (tf.data.Dataset).\n",
    "    # TensorFlow Datasets is a high performance data loading library \n",
    "    # which is helpful when training neural networks with accelerators like GPUs and TPUs.\n",
    "    # We are omitting `level_group`, since it is not needed for training anymore.\n",
    "    train_ds = tfdf.keras.pd_dataframe_to_tf_dataset(train_df.loc[:, train_df.columns != 'level_group'], label=\"correct\")\n",
    "    valid_ds = tfdf.keras.pd_dataframe_to_tf_dataset(valid_df.loc[:, valid_df.columns != 'level_group'], label=\"correct\")\n",
    "\n",
    "    # By default the model is set to train for a classification task.\n",
    "    rfm = tfdf.keras.RandomForestModel(max_depth=15, num_trees=100)\n",
    "    rfm.compile(metrics=[\"accuracy\"])\n",
    "\n",
    "    # Train the model.\n",
    "    rfm.fit(x=train_ds)\n",
    "\n",
    "    # Store the model\n",
    "    models[f'{grp}_{q_no}'] = rfm\n",
    "\n",
    "    # Evaluate the trained model on the validation dataset and store the \n",
    "    # evaluation accuracy in the `evaluation_dict`.\n",
    "    inspector = rfm.make_inspector()\n",
    "    inspector.evaluation()\n",
    "    evaluation = rfm.evaluate(x=valid_ds,return_dict=True)\n",
    "    evaluation_dict[q_no] = evaluation[\"accuracy\"]         \n",
    "\n",
    "    # Use the trained model to make predictions on the validation dataset and \n",
    "    # store the predicted values in the `prediction_df` dataframe.\n",
    "    predict = rfm.predict(x=valid_ds)\n",
    "    prediction_df.loc[valid_users, q_no-1] = predict.flatten()"
   ]
  },
  {
   "cell_type": "markdown",
   "id": "d3f50bd3",
   "metadata": {
    "_cell_guid": "1aeaac7b-cccc-4abe-82e1-4d5a54ab3d0f",
    "_uuid": "23236b20-17fb-42be-afb4-4bac83d2491d",
    "id": "oOdr1p-Bn2PF",
    "papermill": {
     "duration": 0.040512,
     "end_time": "2023-05-12T13:31:42.162856",
     "exception": false,
     "start_time": "2023-05-12T13:31:42.122344",
     "status": "completed"
    },
    "tags": []
   },
   "source": [
    "# Inspect the Accuracy of the models."
   ]
  },
  {
   "cell_type": "code",
   "execution_count": 19,
   "id": "c38bc3b8",
   "metadata": {
    "_cell_guid": "67445bfc-da29-47d4-9ffc-11c51ad7debd",
    "_uuid": "e32bd493-52c7-4de0-aa30-56214974a5fa",
    "collapsed": false,
    "execution": {
     "iopub.execute_input": "2023-05-12T13:31:42.246829Z",
     "iopub.status.busy": "2023-05-12T13:31:42.246010Z",
     "iopub.status.idle": "2023-05-12T13:31:42.253243Z",
     "shell.execute_reply": "2023-05-12T13:31:42.252040Z"
    },
    "id": "qPOfPkm7n2PG",
    "jupyter": {
     "outputs_hidden": false
    },
    "papermill": {
     "duration": 0.052325,
     "end_time": "2023-05-12T13:31:42.255668",
     "exception": false,
     "start_time": "2023-05-12T13:31:42.203343",
     "status": "completed"
    },
    "tags": []
   },
   "outputs": [
    {
     "name": "stdout",
     "output_type": "stream",
     "text": [
      "question 1: accuracy 0.7307\n",
      "question 2: accuracy 0.9756\n",
      "question 3: accuracy 0.9351\n",
      "question 4: accuracy 0.7942\n",
      "question 5: accuracy 0.6270\n",
      "question 6: accuracy 0.7902\n",
      "question 7: accuracy 0.7460\n",
      "question 8: accuracy 0.6374\n",
      "question 9: accuracy 0.7664\n",
      "question 10: accuracy 0.6017\n",
      "question 11: accuracy 0.6535\n",
      "question 12: accuracy 0.8697\n",
      "question 13: accuracy 0.7208\n",
      "question 14: accuracy 0.7327\n",
      "question 15: accuracy 0.5992\n",
      "question 16: accuracy 0.7490\n",
      "question 17: accuracy 0.7036\n",
      "question 18: accuracy 0.9516\n",
      "\n",
      "Average accuracy 0.754685617155499\n"
     ]
    }
   ],
   "source": [
    "for name, value in evaluation_dict.items():\n",
    "  print(f\"question {name}: accuracy {value:.4f}\")\n",
    "\n",
    "print(\"\\nAverage accuracy\", sum(evaluation_dict.values())/18)"
   ]
  },
  {
   "cell_type": "markdown",
   "id": "25ccb070",
   "metadata": {
    "_cell_guid": "86b8ba71-2b98-4fec-bbba-9f9a07a7dd82",
    "_uuid": "ca6352a8-7bdd-489d-97ab-65f39672eaa4",
    "id": "qtiCtfNCn2PG",
    "papermill": {
     "duration": 0.040085,
     "end_time": "2023-05-12T13:31:42.336318",
     "exception": false,
     "start_time": "2023-05-12T13:31:42.296233",
     "status": "completed"
    },
    "tags": []
   },
   "source": [
    "# Visualize the model"
   ]
  },
  {
   "cell_type": "code",
   "execution_count": 20,
   "id": "ced38653",
   "metadata": {
    "_cell_guid": "36966217-6b97-47ee-b4ec-acacd1c252bf",
    "_uuid": "6d1bc41d-fc81-43de-8dfa-d4d0a2c9fe4a",
    "collapsed": false,
    "execution": {
     "iopub.execute_input": "2023-05-12T13:31:42.420013Z",
     "iopub.status.busy": "2023-05-12T13:31:42.419232Z",
     "iopub.status.idle": "2023-05-12T13:31:42.423710Z",
     "shell.execute_reply": "2023-05-12T13:31:42.422731Z"
    },
    "id": "od__6uAan2PG",
    "jupyter": {
     "outputs_hidden": false
    },
    "papermill": {
     "duration": 0.049095,
     "end_time": "2023-05-12T13:31:42.426154",
     "exception": false,
     "start_time": "2023-05-12T13:31:42.377059",
     "status": "completed"
    },
    "tags": []
   },
   "outputs": [],
   "source": [
    "# tfdf.model_plotter.plot_model_in_colab(models['0-4_1'], tree_idx=0, max_depth=3)"
   ]
  },
  {
   "cell_type": "markdown",
   "id": "a962c89c",
   "metadata": {
    "_cell_guid": "93eaac23-b63f-43ad-b384-850035c351a2",
    "_uuid": "7779f607-1b05-4310-a3a8-923a9ad6a2e3",
    "id": "emVV6509n2PG",
    "papermill": {
     "duration": 0.040188,
     "end_time": "2023-05-12T13:31:42.507201",
     "exception": false,
     "start_time": "2023-05-12T13:31:42.467013",
     "status": "completed"
    },
    "tags": []
   },
   "source": [
    "# Variable importances\n",
    "\n",
    "Variable importances generally indicate how much a feature contributes to the model predictions or quality. There are several ways to identify important features using TensorFlow Decision Forests. Let us pick one model from models dict and inspect it.\n",
    "\n",
    "Let us list the available Variable Importances for Decision Trees:"
   ]
  },
  {
   "cell_type": "code",
   "execution_count": 21,
   "id": "4ddd6626",
   "metadata": {
    "_cell_guid": "08da50f5-f56d-42c2-b4ea-76f82776e23f",
    "_uuid": "c7b6b9d5-20d0-4910-b01c-da3ef1536f9e",
    "collapsed": false,
    "execution": {
     "iopub.execute_input": "2023-05-12T13:31:42.590734Z",
     "iopub.status.busy": "2023-05-12T13:31:42.589943Z",
     "iopub.status.idle": "2023-05-12T13:31:42.599110Z",
     "shell.execute_reply": "2023-05-12T13:31:42.598072Z"
    },
    "id": "d_gvL9nbn2PH",
    "jupyter": {
     "outputs_hidden": false
    },
    "papermill": {
     "duration": 0.053677,
     "end_time": "2023-05-12T13:31:42.601466",
     "exception": false,
     "start_time": "2023-05-12T13:31:42.547789",
     "status": "completed"
    },
    "tags": []
   },
   "outputs": [
    {
     "name": "stdout",
     "output_type": "stream",
     "text": [
      "Available variable importances:\n",
      "\t INV_MEAN_MIN_DEPTH\n",
      "\t NUM_NODES\n",
      "\t NUM_AS_ROOT\n",
      "\t SUM_SCORE\n"
     ]
    }
   ],
   "source": [
    "inspector = models['0-4_1'].make_inspector()\n",
    "\n",
    "print(f\"Available variable importances:\")\n",
    "for importance in inspector.variable_importances().keys():\n",
    "  print(\"\\t\", importance)"
   ]
  },
  {
   "cell_type": "code",
   "execution_count": 22,
   "id": "7b4227f4",
   "metadata": {
    "_cell_guid": "d6c3231e-7d46-4666-a064-9b421da9211f",
    "_uuid": "ddbcec0c-9b87-4935-81e5-f8bfe54d7945",
    "collapsed": false,
    "execution": {
     "iopub.execute_input": "2023-05-12T13:31:42.685133Z",
     "iopub.status.busy": "2023-05-12T13:31:42.684352Z",
     "iopub.status.idle": "2023-05-12T13:31:42.692072Z",
     "shell.execute_reply": "2023-05-12T13:31:42.691170Z"
    },
    "id": "ZDsxqRrwn2PH",
    "jupyter": {
     "outputs_hidden": false
    },
    "papermill": {
     "duration": 0.052223,
     "end_time": "2023-05-12T13:31:42.694342",
     "exception": false,
     "start_time": "2023-05-12T13:31:42.642119",
     "status": "completed"
    },
    "tags": []
   },
   "outputs": [
    {
     "data": {
      "text/plain": [
       "[(\"room_fqid_nunique\" (1; #16), 24.0),\n",
       " (\"page\" (1; #10), 17.0),\n",
       " (\"page_std\" (1; #11), 15.0),\n",
       " (\"name_nunique\" (1; #9), 13.0),\n",
       " (\"elapsed_time\" (1; #1), 12.0),\n",
       " (\"elapsed_time_std\" (1; #2), 9.0),\n",
       " (\"event_name_nunique\" (1; #3), 4.0),\n",
       " (\"level\" (1; #7), 4.0),\n",
       " (\"fqid_nunique\" (1; #4), 1.0),\n",
       " (\"text_fqid_nunique\" (1; #21), 1.0)]"
      ]
     },
     "execution_count": 22,
     "metadata": {},
     "output_type": "execute_result"
    }
   ],
   "source": [
    "# Each line is: (feature name, (index of the feature), importance score)\n",
    "inspector.variable_importances()[\"NUM_AS_ROOT\"]"
   ]
  },
  {
   "cell_type": "markdown",
   "id": "e7d5c005",
   "metadata": {
    "_cell_guid": "19505e44-3c26-46dd-a296-e5bf90eea5f5",
    "_uuid": "b1975903-1ab3-42f2-a162-0108e74e871e",
    "id": "PIK5aUH-n2PH",
    "papermill": {
     "duration": 0.040775,
     "end_time": "2023-05-12T13:31:42.775871",
     "exception": false,
     "start_time": "2023-05-12T13:31:42.735096",
     "status": "completed"
    },
    "tags": []
   },
   "source": [
    "# Threshold-Moving for Imbalanced Classification"
   ]
  },
  {
   "cell_type": "code",
   "execution_count": 23,
   "id": "fe02b3be",
   "metadata": {
    "_cell_guid": "afd3a94d-85cb-4b4a-8eaf-47163ab4e3d1",
    "_uuid": "e59efc3e-cbe5-4287-aa88-937b5c22ba56",
    "collapsed": false,
    "execution": {
     "iopub.execute_input": "2023-05-12T13:31:42.859795Z",
     "iopub.status.busy": "2023-05-12T13:31:42.858990Z",
     "iopub.status.idle": "2023-05-12T13:31:44.097099Z",
     "shell.execute_reply": "2023-05-12T13:31:44.095564Z"
    },
    "id": "2wptRs3In2PH",
    "jupyter": {
     "outputs_hidden": false
    },
    "papermill": {
     "duration": 1.283213,
     "end_time": "2023-05-12T13:31:44.100009",
     "exception": false,
     "start_time": "2023-05-12T13:31:42.816796",
     "status": "completed"
    },
    "tags": []
   },
   "outputs": [
    {
     "name": "stdout",
     "output_type": "stream",
     "text": [
      "Best threshold  0.7000000000000003 \tF1 score  0.6714021\n"
     ]
    }
   ],
   "source": [
    "# Create a dataframe of required size:\n",
    "# (no: of users in validation set x no: of questions) initialized to zero values\n",
    "# to store true values of the label `correct`. \n",
    "true_df = pd.DataFrame(data=np.zeros((len(VALID_USER_LIST),18)), index=VALID_USER_LIST)\n",
    "for i in range(18):\n",
    "    # Get the true labels.\n",
    "    tmp = labels.loc[labels.q == i+1].set_index('session').loc[VALID_USER_LIST]\n",
    "    true_df[i] = tmp.correct.values\n",
    "\n",
    "max_score = 0; best_threshold = 0\n",
    "\n",
    "# Loop through threshold values from 0.4 to 0.8 and select the threshold with \n",
    "# the highest `F1 score`.\n",
    "for threshold in np.arange(0.4,0.8,0.01):\n",
    "    metric = tfa.metrics.F1Score(num_classes=2,average=\"macro\",threshold=threshold)\n",
    "    y_true = tf.one_hot(true_df.values.reshape((-1)), depth=2)\n",
    "    y_pred = tf.one_hot((prediction_df.values.reshape((-1))>threshold).astype('int'), depth=2)\n",
    "    metric.update_state(y_true, y_pred)\n",
    "    f1_score = metric.result().numpy()\n",
    "    if f1_score > max_score:\n",
    "        max_score = f1_score\n",
    "        best_threshold = threshold\n",
    "        \n",
    "print(\"Best threshold \", best_threshold, \"\\tF1 score \", max_score)"
   ]
  },
  {
   "cell_type": "markdown",
   "id": "fe50c57e",
   "metadata": {
    "_cell_guid": "ffe6104c-beb7-4344-8d83-24e66a2d9e1b",
    "_uuid": "6a7da7b8-a807-4e81-9b9f-67966e63bd7b",
    "id": "ezA40GQ4n2PH",
    "papermill": {
     "duration": 0.040401,
     "end_time": "2023-05-12T13:31:44.181345",
     "exception": false,
     "start_time": "2023-05-12T13:31:44.140944",
     "status": "completed"
    },
    "tags": []
   },
   "source": [
    "# Submission\n",
    "\n",
    "Here you'll use the `best_threshold` calculate in the previous cell"
   ]
  },
  {
   "cell_type": "code",
   "execution_count": 24,
   "id": "0392cfb6",
   "metadata": {
    "_cell_guid": "ecf3cba1-7bfe-4010-a886-2d0ec5c1159a",
    "_uuid": "60855b46-2a29-4e37-b24f-c2afe6589668",
    "collapsed": false,
    "execution": {
     "iopub.execute_input": "2023-05-12T13:31:44.265022Z",
     "iopub.status.busy": "2023-05-12T13:31:44.264354Z",
     "iopub.status.idle": "2023-05-12T13:31:49.829942Z",
     "shell.execute_reply": "2023-05-12T13:31:49.828854Z"
    },
    "id": "gHiXTnTVn2PI",
    "jupyter": {
     "outputs_hidden": false
    },
    "papermill": {
     "duration": 5.610858,
     "end_time": "2023-05-12T13:31:49.833016",
     "exception": false,
     "start_time": "2023-05-12T13:31:44.222158",
     "status": "completed"
    },
    "tags": []
   },
   "outputs": [
    {
     "name": "stdout",
     "output_type": "stream",
     "text": [
      "This version of the API is not optimized and should not be used to estimate the runtime of your code on the hidden test set.\n",
      "1/1 [==============================] - 0s 78ms/step\n",
      "1/1 [==============================] - 0s 83ms/step\n",
      "1/1 [==============================] - 0s 69ms/step\n",
      "1/1 [==============================] - 0s 68ms/step\n",
      "1/1 [==============================] - 0s 69ms/step\n",
      "1/1 [==============================] - 0s 70ms/step\n",
      "1/1 [==============================] - 0s 67ms/step\n",
      "1/1 [==============================] - 0s 67ms/step\n",
      "1/1 [==============================] - 0s 68ms/step\n",
      "1/1 [==============================] - 0s 69ms/step\n",
      "1/1 [==============================] - 0s 70ms/step\n",
      "1/1 [==============================] - 0s 68ms/step\n",
      "1/1 [==============================] - 0s 67ms/step\n",
      "1/1 [==============================] - 0s 68ms/step\n",
      "1/1 [==============================] - 0s 67ms/step\n",
      "1/1 [==============================] - 0s 67ms/step\n",
      "1/1 [==============================] - 0s 68ms/step\n",
      "1/1 [==============================] - 0s 67ms/step\n",
      "1/1 [==============================] - 0s 67ms/step\n",
      "1/1 [==============================] - 0s 68ms/step\n",
      "1/1 [==============================] - 0s 68ms/step\n",
      "1/1 [==============================] - 0s 68ms/step\n",
      "1/1 [==============================] - 0s 67ms/step\n",
      "1/1 [==============================] - 0s 69ms/step\n",
      "1/1 [==============================] - 0s 68ms/step\n",
      "1/1 [==============================] - 0s 73ms/step\n",
      "1/1 [==============================] - 0s 69ms/step\n",
      "1/1 [==============================] - 0s 72ms/step\n",
      "1/1 [==============================] - 0s 71ms/step\n",
      "1/1 [==============================] - 0s 68ms/step\n",
      "1/1 [==============================] - 0s 72ms/step\n",
      "1/1 [==============================] - 0s 70ms/step\n",
      "1/1 [==============================] - 0s 71ms/step\n",
      "1/1 [==============================] - 0s 70ms/step\n",
      "1/1 [==============================] - 0s 68ms/step\n",
      "1/1 [==============================] - 0s 68ms/step\n",
      "1/1 [==============================] - 0s 67ms/step\n",
      "1/1 [==============================] - 0s 68ms/step\n",
      "1/1 [==============================] - 0s 67ms/step\n",
      "1/1 [==============================] - 0s 70ms/step\n",
      "1/1 [==============================] - 0s 68ms/step\n",
      "1/1 [==============================] - 0s 68ms/step\n",
      "1/1 [==============================] - 0s 67ms/step\n",
      "1/1 [==============================] - 0s 70ms/step\n",
      "1/1 [==============================] - 0s 68ms/step\n",
      "1/1 [==============================] - 0s 67ms/step\n",
      "1/1 [==============================] - 0s 68ms/step\n",
      "1/1 [==============================] - 0s 68ms/step\n",
      "1/1 [==============================] - 0s 68ms/step\n",
      "1/1 [==============================] - 0s 68ms/step\n",
      "1/1 [==============================] - 0s 85ms/step\n",
      "1/1 [==============================] - 0s 69ms/step\n",
      "1/1 [==============================] - 0s 71ms/step\n",
      "1/1 [==============================] - 0s 66ms/step\n"
     ]
    }
   ],
   "source": [
    "# Reference\n",
    "# https://www.kaggle.com/code/philculliton/basic-submission-demo\n",
    "# https://www.kaggle.com/code/cdeotte/random-forest-baseline-0-664/notebook\n",
    "\n",
    "\n",
    "import jo_wilder\n",
    "env = jo_wilder.make_env()\n",
    "iter_test = env.iter_test()\n",
    "\n",
    "limits = {'0-4':(1,4), '5-12':(4,14), '13-22':(14,19)}\n",
    "\n",
    "for (test, sample_submission) in iter_test:\n",
    "    test_df = feature_engineer(test)\n",
    "    grp = test_df.level_group.values[0]\n",
    "    a,b = limits[grp]\n",
    "    for t in range(a,b):\n",
    "        gbtm = models[f'{grp}_{t}']\n",
    "        test_ds = tfdf.keras.pd_dataframe_to_tf_dataset(test_df.loc[:, test_df.columns != 'level_group'])\n",
    "        predictions = gbtm.predict(test_ds)\n",
    "        mask = sample_submission.session_id.str.contains(f'q{t}')\n",
    "        n_predictions = (predictions > best_threshold).astype(int)\n",
    "        sample_submission.loc[mask,'correct'] = n_predictions.flatten()\n",
    "    \n",
    "    env.predict(sample_submission)"
   ]
  },
  {
   "cell_type": "code",
   "execution_count": 25,
   "id": "5bdcb7fb",
   "metadata": {
    "_cell_guid": "b2f9e158-df1d-4a78-a7d6-1dcc657635f0",
    "_uuid": "3f92da60-8bbb-49bd-9315-ac65ab252862",
    "collapsed": false,
    "execution": {
     "iopub.execute_input": "2023-05-12T13:31:49.936437Z",
     "iopub.status.busy": "2023-05-12T13:31:49.936041Z",
     "iopub.status.idle": "2023-05-12T13:31:51.116647Z",
     "shell.execute_reply": "2023-05-12T13:31:51.115316Z"
    },
    "id": "iYBXokAyn2PI",
    "jupyter": {
     "outputs_hidden": false
    },
    "papermill": {
     "duration": 1.236222,
     "end_time": "2023-05-12T13:31:51.119968",
     "exception": false,
     "start_time": "2023-05-12T13:31:49.883746",
     "status": "completed"
    },
    "tags": []
   },
   "outputs": [
    {
     "name": "stdout",
     "output_type": "stream",
     "text": [
      "session_id,correct\r\n",
      "20090109393214576_q1,1\r\n",
      "20090109393214576_q2,1\r\n",
      "20090109393214576_q3,1\r\n",
      "20090109393214576_q4,1\r\n",
      "20090109393214576_q5,0\r\n",
      "20090109393214576_q6,1\r\n",
      "20090109393214576_q7,1\r\n",
      "20090109393214576_q8,1\r\n",
      "20090109393214576_q9,1\r\n"
     ]
    }
   ],
   "source": [
    "! head submission.csv"
   ]
  },
  {
   "cell_type": "code",
   "execution_count": null,
   "id": "192eb34a",
   "metadata": {
    "papermill": {
     "duration": 0.051872,
     "end_time": "2023-05-12T13:31:51.222846",
     "exception": false,
     "start_time": "2023-05-12T13:31:51.170974",
     "status": "completed"
    },
    "tags": []
   },
   "outputs": [],
   "source": []
  }
 ],
 "metadata": {
  "kernelspec": {
   "display_name": "Python 3",
   "language": "python",
   "name": "python3"
  },
  "language_info": {
   "codemirror_mode": {
    "name": "ipython",
    "version": 3
   },
   "file_extension": ".py",
   "mimetype": "text/x-python",
   "name": "python",
   "nbconvert_exporter": "python",
   "pygments_lexer": "ipython3",
   "version": "3.7.12"
  },
  "papermill": {
   "default_parameters": {},
   "duration": 365.504333,
   "end_time": "2023-05-12T13:31:54.035134",
   "environment_variables": {},
   "exception": null,
   "input_path": "__notebook__.ipynb",
   "output_path": "__notebook__.ipynb",
   "parameters": {},
   "start_time": "2023-05-12T13:25:48.530801",
   "version": "2.4.0"
  }
 },
 "nbformat": 4,
 "nbformat_minor": 5
}
