{
 "cells": [
  {
   "cell_type": "markdown",
   "id": "3193525a",
   "metadata": {
    "_cell_guid": "3065ea28-3415-46ef-8ec2-672826f1896a",
    "_uuid": "1b633216-f642-426b-a442-36227e786485",
    "id": "iCTA6kl3n2O1",
    "papermill": {
     "duration": 0.01036,
     "end_time": "2023-06-01T03:50:14.693697",
     "exception": false,
     "start_time": "2023-06-01T03:50:14.683337",
     "status": "completed"
    },
    "tags": []
   },
   "source": [
    "# Student Performance from Game Play Using TensorFlow Decision Forests"
   ]
  },
  {
   "cell_type": "markdown",
   "id": "1c8764ba",
   "metadata": {
    "_cell_guid": "f5f126e7-a6c7-4d10-9453-02803d77fdec",
    "_uuid": "48949e80-ac79-459e-b078-1258b02a6d19",
    "id": "zAXHC6-Tn2O5",
    "papermill": {
     "duration": 0.008742,
     "end_time": "2023-06-01T03:50:14.711652",
     "exception": false,
     "start_time": "2023-06-01T03:50:14.702910",
     "status": "completed"
    },
    "tags": []
   },
   "source": [
    "## Import the Required Libraries"
   ]
  },
  {
   "cell_type": "code",
   "execution_count": 1,
   "id": "b412e896",
   "metadata": {
    "_cell_guid": "d9edea55-e22d-47eb-9e89-f41baf355a90",
    "_uuid": "b8016303-112b-4ba5-b173-8f7fafdd3fbc",
    "collapsed": false,
    "execution": {
     "iopub.execute_input": "2023-06-01T03:50:14.732209Z",
     "iopub.status.busy": "2023-06-01T03:50:14.731385Z",
     "iopub.status.idle": "2023-06-01T03:50:16.152786Z",
     "shell.execute_reply": "2023-06-01T03:50:16.151646Z"
    },
    "id": "IanlX-Eqn2O5",
    "jupyter": {
     "outputs_hidden": false
    },
    "papermill": {
     "duration": 1.43522,
     "end_time": "2023-06-01T03:50:16.155827",
     "exception": false,
     "start_time": "2023-06-01T03:50:14.720607",
     "status": "completed"
    },
    "tags": []
   },
   "outputs": [],
   "source": [
    "import pandas as pd\n",
    "import numpy as np\n",
    "import matplotlib.pyplot as plt\n",
    "\n",
    "from xgboost import XGBClassifier\n",
    "from sklearn.model_selection import KFold, GroupKFold\n",
    "from sklearn.metrics import f1_score"
   ]
  },
  {
   "cell_type": "markdown",
   "id": "9d7137a0",
   "metadata": {
    "_cell_guid": "5be263dd-cf1e-4887-b94b-caeeea6a4aa8",
    "_uuid": "2697b3d5-0f16-4f5e-aa80-76ad489e86ae",
    "id": "22DpLVFLn2O7",
    "papermill": {
     "duration": 0.008838,
     "end_time": "2023-06-01T03:50:16.174351",
     "exception": false,
     "start_time": "2023-06-01T03:50:16.165513",
     "status": "completed"
    },
    "tags": []
   },
   "source": [
    "## Load the Dataset"
   ]
  },
  {
   "cell_type": "code",
   "execution_count": 2,
   "id": "edef1a2c",
   "metadata": {
    "_cell_guid": "144dcbf9-be59-440c-b31a-8216f58528cb",
    "_uuid": "0cd23222-c6e1-47b2-8149-4834fa47f2e4",
    "collapsed": false,
    "execution": {
     "iopub.execute_input": "2023-06-01T03:50:16.195404Z",
     "iopub.status.busy": "2023-06-01T03:50:16.194633Z",
     "iopub.status.idle": "2023-06-01T03:52:17.431908Z",
     "shell.execute_reply": "2023-06-01T03:52:17.430471Z"
    },
    "id": "_XItl24kn2O7",
    "jupyter": {
     "outputs_hidden": false
    },
    "papermill": {
     "duration": 121.251836,
     "end_time": "2023-06-01T03:52:17.435362",
     "exception": false,
     "start_time": "2023-06-01T03:50:16.183526",
     "status": "completed"
    },
    "tags": []
   },
   "outputs": [],
   "source": [
    "# Reference: https://www.kaggle.com/competitions/predict-student-performance-from-game-play/discussion/384359\n",
    "dtypes={\n",
    "    'elapsed_time':np.int32,\n",
    "    'event_name':'category',\n",
    "    'name':'category',\n",
    "    'level':np.uint8,\n",
    "    \n",
    "    'room_coor_x':np.float32,\n",
    "    'room_coor_y':np.float32,\n",
    "    'screen_coor_x':np.float32,\n",
    "    'screen_coor_y':np.float32,\n",
    "    \n",
    "    'hover_duration':np.float32,\n",
    "    \n",
    "    'text':'category',\n",
    "    'fqid':'category',\n",
    "    'room_fqid':'category',\n",
    "    'text_fqid':'category',\n",
    "\n",
    "    'fullscreen': np.int32,\n",
    "    'hq': np.int32,\n",
    "    'music': np.int32,\n",
    "\n",
    "    'level_group':'category'}\n",
    "\n",
    "dataset_df = pd.read_csv('/kaggle/input/predict-student-performance-from-game-play/train.csv', dtype=dtypes)"
   ]
  },
  {
   "cell_type": "code",
   "execution_count": 3,
   "id": "4b5bab49",
   "metadata": {
    "execution": {
     "iopub.execute_input": "2023-06-01T03:52:17.455639Z",
     "iopub.status.busy": "2023-06-01T03:52:17.455196Z",
     "iopub.status.idle": "2023-06-01T03:52:17.487712Z",
     "shell.execute_reply": "2023-06-01T03:52:17.486508Z"
    },
    "papermill": {
     "duration": 0.047321,
     "end_time": "2023-06-01T03:52:17.492264",
     "exception": false,
     "start_time": "2023-06-01T03:52:17.444943",
     "status": "completed"
    },
    "tags": []
   },
   "outputs": [
    {
     "name": "stdout",
     "output_type": "stream",
     "text": [
      "<class 'pandas.core.frame.DataFrame'>\n",
      "RangeIndex: 26296946 entries, 0 to 26296945\n",
      "Data columns (total 20 columns):\n",
      " #   Column          Dtype   \n",
      "---  ------          -----   \n",
      " 0   session_id      int64   \n",
      " 1   index           int64   \n",
      " 2   elapsed_time    int32   \n",
      " 3   event_name      category\n",
      " 4   name            category\n",
      " 5   level           uint8   \n",
      " 6   page            float64 \n",
      " 7   room_coor_x     float32 \n",
      " 8   room_coor_y     float32 \n",
      " 9   screen_coor_x   float32 \n",
      " 10  screen_coor_y   float32 \n",
      " 11  hover_duration  float32 \n",
      " 12  text            category\n",
      " 13  fqid            category\n",
      " 14  room_fqid       category\n",
      " 15  text_fqid       category\n",
      " 16  fullscreen      int32   \n",
      " 17  hq              int32   \n",
      " 18  music           int32   \n",
      " 19  level_group     category\n",
      "dtypes: category(7), float32(5), float64(1), int32(4), int64(2), uint8(1)\n",
      "memory usage: 1.7 GB\n"
     ]
    }
   ],
   "source": [
    "dataset_df.info()"
   ]
  },
  {
   "cell_type": "markdown",
   "id": "87236cd9",
   "metadata": {
    "_cell_guid": "c65e1dff-67b0-4bb6-9b97-b6418d4173c7",
    "_uuid": "3df6b5f5-7744-40f9-bec5-bb45b9238387",
    "id": "ReNY-i3bn2O8",
    "papermill": {
     "duration": 0.008841,
     "end_time": "2023-06-01T03:52:17.510103",
     "exception": false,
     "start_time": "2023-06-01T03:52:17.501262",
     "status": "completed"
    },
    "tags": []
   },
   "source": [
    "## Load the labels"
   ]
  },
  {
   "cell_type": "code",
   "execution_count": 4,
   "id": "b8cf5c1a",
   "metadata": {
    "_cell_guid": "bc6c67b2-3be1-4595-bc75-a10a50ba30d3",
    "_uuid": "e71600d9-2043-4209-8373-cf254354b3f2",
    "collapsed": false,
    "execution": {
     "iopub.execute_input": "2023-06-01T03:52:17.530558Z",
     "iopub.status.busy": "2023-06-01T03:52:17.529662Z",
     "iopub.status.idle": "2023-06-01T03:52:17.950237Z",
     "shell.execute_reply": "2023-06-01T03:52:17.949203Z"
    },
    "id": "KD4uayl2n2O9",
    "jupyter": {
     "outputs_hidden": false
    },
    "papermill": {
     "duration": 0.433883,
     "end_time": "2023-06-01T03:52:17.952924",
     "exception": false,
     "start_time": "2023-06-01T03:52:17.519041",
     "status": "completed"
    },
    "tags": []
   },
   "outputs": [],
   "source": [
    "labels = pd.read_csv('/kaggle/input/predict-student-performance-from-game-play/train_labels.csv')"
   ]
  },
  {
   "cell_type": "code",
   "execution_count": 5,
   "id": "b4337a7b",
   "metadata": {
    "_cell_guid": "24c78d16-6a6a-4409-b1c3-5f1d84c0a9ac",
    "_uuid": "afd665e4-8c5e-4a6a-9c96-2c8676f97c88",
    "collapsed": false,
    "execution": {
     "iopub.execute_input": "2023-06-01T03:52:17.973684Z",
     "iopub.status.busy": "2023-06-01T03:52:17.972601Z",
     "iopub.status.idle": "2023-06-01T03:52:19.210217Z",
     "shell.execute_reply": "2023-06-01T03:52:19.205857Z"
    },
    "id": "Kva8_Dbqn2O9",
    "jupyter": {
     "outputs_hidden": false
    },
    "papermill": {
     "duration": 1.263363,
     "end_time": "2023-06-01T03:52:19.225481",
     "exception": false,
     "start_time": "2023-06-01T03:52:17.962118",
     "status": "completed"
    },
    "tags": []
   },
   "outputs": [],
   "source": [
    "labels['session'] = labels.session_id.apply(lambda x: int(x.split('_')[0]) )\n",
    "labels['q'] = labels.session_id.apply(lambda x: int(x.split('_')[-1][1:]) )"
   ]
  },
  {
   "cell_type": "markdown",
   "id": "5c1dbc73",
   "metadata": {
    "_cell_guid": "485073af-b103-48c0-8e8c-60c28ddc00fc",
    "_uuid": "d4215f16-78de-4f14-b9f3-b596b03f8433",
    "id": "y5fK05dsn2O_",
    "papermill": {
     "duration": 0.009839,
     "end_time": "2023-06-01T03:52:19.265212",
     "exception": false,
     "start_time": "2023-06-01T03:52:19.255373",
     "status": "completed"
    },
    "tags": []
   },
   "source": [
    "# Prepare the dataset"
   ]
  },
  {
   "cell_type": "code",
   "execution_count": 6,
   "id": "a952501b",
   "metadata": {
    "_cell_guid": "9527a410-8159-421f-9ad6-f3c712fc7d87",
    "_uuid": "886d16af-f0f1-4c68-8e15-9802bd417f6e",
    "collapsed": false,
    "execution": {
     "iopub.execute_input": "2023-06-01T03:52:19.288155Z",
     "iopub.status.busy": "2023-06-01T03:52:19.287515Z",
     "iopub.status.idle": "2023-06-01T03:52:19.850059Z",
     "shell.execute_reply": "2023-06-01T03:52:19.848825Z"
    },
    "id": "cCZWGiL_n2PA",
    "jupyter": {
     "outputs_hidden": false
    },
    "papermill": {
     "duration": 0.578462,
     "end_time": "2023-06-01T03:52:19.853032",
     "exception": false,
     "start_time": "2023-06-01T03:52:19.274570",
     "status": "completed"
    },
    "tags": []
   },
   "outputs": [],
   "source": [
    "CATEGORICAL = ['event_name', 'name', 'fqid', 'room_fqid', 'text_fqid']\n",
    "NUMERICAL = ['page', 'location_x_diff', 'location_y_diff','hover_duration', 'elapsed_time']\n",
    "OPTIONAL = ['music', 'fullscreen', 'hq']\n",
    "\n",
    "# Lots..\n",
    "NAMES = dataset_df['name'].unique()\n",
    "EVENTS = dataset_df['event_name'].unique()\n",
    "\n",
    "TEXT_LISTS = dataset_df['text'].unique()\n",
    "FQID_LISTS = dataset_df['fqid'].unique()"
   ]
  },
  {
   "cell_type": "code",
   "execution_count": 7,
   "id": "dc5b0944",
   "metadata": {
    "execution": {
     "iopub.execute_input": "2023-06-01T03:52:19.876226Z",
     "iopub.status.busy": "2023-06-01T03:52:19.875502Z",
     "iopub.status.idle": "2023-06-01T03:52:20.236399Z",
     "shell.execute_reply": "2023-06-01T03:52:20.234876Z"
    },
    "papermill": {
     "duration": 0.376162,
     "end_time": "2023-06-01T03:52:20.239716",
     "exception": false,
     "start_time": "2023-06-01T03:52:19.863554",
     "status": "completed"
    },
    "tags": []
   },
   "outputs": [],
   "source": [
    "# df.fillna(df.mean()), df.where(pd.notnull(df), df.mean(), axis='columns')\n",
    "def feature_engineer(dataset_df):\n",
    "    dataset_df['elapsed_time_diff'] = (\n",
    "        (dataset_df['elapsed_time'] - dataset_df['elapsed_time'].shift(1))\n",
    "        .fillna(0)\n",
    "        .clip(lower=0, upper=1e9)\n",
    "    )\n",
    "    dataset_df['location_x_diff'] = (\n",
    "        (dataset_df['room_coor_x'] - dataset_df['room_coor_x'].shift(1))\n",
    "        .abs()\n",
    "    )\n",
    "    dataset_df['location_y_diff'] = (\n",
    "        (dataset_df['room_coor_y'] - dataset_df['room_coor_y'].shift(1))\n",
    "        .abs()\n",
    "    )\n",
    "    \n",
    "    dfs = []\n",
    "    \n",
    "    # NUMERICAL\n",
    "    for c in NUMERICAL:\n",
    "        tmp = dataset_df.groupby(['session_id','level_group'])[c].agg('mean')\n",
    "        tmp.name = tmp.name + '_mean'\n",
    "        dfs.append(tmp)\n",
    "    for c in NUMERICAL:\n",
    "        tmp = dataset_df.groupby(['session_id','level_group'])[c].agg('std')\n",
    "        tmp.name = tmp.name + '_std'\n",
    "        dfs.append(tmp)\n",
    "    for c in NUMERICAL:\n",
    "        tmp = dataset_df.groupby(['session_id','level_group'])[c].agg('sum')\n",
    "        tmp.name = tmp.name + '_sum'\n",
    "        dfs.append(tmp)\n",
    "    for c in NUMERICAL:\n",
    "        tmp = dataset_df.groupby(['session_id','level_group'])[c].agg('max')\n",
    "        tmp.name = tmp.name + '_max'\n",
    "        dfs.append(tmp)\n",
    "    for c in NUMERICAL:\n",
    "        tmp = dataset_df.groupby(['session_id','level_group'])[c].agg('min')\n",
    "        tmp.name = tmp.name + '_min'\n",
    "        dfs.append(tmp)\n",
    "    \n",
    "    # EVNETS\n",
    "#     for c in EVENTS: \n",
    "#         dataset_df[c] = (dataset_df.event_name == c).astype('int8')\n",
    "#     for c in EVENTS: \n",
    "#         tmp = dataset_df[dataset_df[c] == 1].groupby(['session_id', 'level_group'])[c].sum()\n",
    "#         tmp.name = c + '_count'\n",
    "#         dfs.append(tmp)\n",
    "#     for c in EVENTS: \n",
    "#         tmp = dataset_df[dataset_df[c] == 1].groupby(['session_id', 'level_group'])[c].std()\n",
    "#         tmp.name = c + '_std'\n",
    "#         dfs.append(tmp)\n",
    "#     for c in EVENTS: \n",
    "#         tmp = dataset_df[dataset_df[c] == 1].groupby(['session_id', 'level_group'])[c].mean()\n",
    "#         tmp.name = c + '_mean'\n",
    "#         dfs.append(tmp)\n",
    "#     for c in EVENTS: \n",
    "#         tmp = dataset_df[dataset_df[c] == 1].groupby(['session_id', 'level_group'])[c].max()\n",
    "#         tmp.name = c + '_max'\n",
    "#         dfs.append(tmp)\n",
    "#     for c in EVENTS: \n",
    "#         tmp = dataset_df[dataset_df[c] == 1].groupby(['session_id', 'level_group'])[c].min()\n",
    "#         tmp.name = c + '_min'\n",
    "#         dfs.append(tmp)\n",
    "        \n",
    "#     for c in EVENTS:\n",
    "#         tmp = dataset_df[dataset_df[c] == 1].groupby(['session_id', 'level_group'])['elapsed_time_diff'].agg('mean')\n",
    "#         tmp.name = c + '_time_average'\n",
    "#         dfs.append(tmp)\n",
    "        \n",
    "        \n",
    "    #OPTIONALS\n",
    "    for c in OPTIONAL:\n",
    "        tmp = dataset_df.groupby(['session_id','level_group'])[c].agg('mean')\n",
    "        tmp.name = tmp.name + '_mean'\n",
    "        dfs.append(tmp)\n",
    "    for c in OPTIONAL:\n",
    "        tmp = dataset_df.groupby(['session_id','level_group'])[c].agg('std')\n",
    "        tmp.name = tmp.name + '_std'\n",
    "        dfs.append(tmp)\n",
    "    for c in OPTIONAL:\n",
    "        tmp = dataset_df.groupby(['session_id','level_group'])[c].agg('sum')\n",
    "        tmp.name = tmp.name + '_sum'\n",
    "        dfs.append(tmp)\n",
    "    for c in OPTIONAL:\n",
    "        tmp = dataset_df.groupby(['session_id','level_group'])[c].agg('min')\n",
    "        tmp.name = tmp.name + '_min'\n",
    "        dfs.append(tmp)\n",
    "    for c in OPTIONAL:\n",
    "        tmp = dataset_df.groupby(['session_id','level_group'])[c].agg('max')\n",
    "        tmp.name = tmp.name + '_max'\n",
    "        dfs.append(tmp)   \n",
    "        \n",
    "    dataset_df = pd.concat(dfs,axis=1)\n",
    "    dataset_df = dataset_df.fillna(-1)\n",
    "    dataset_df = dataset_df.reset_index()\n",
    "    dataset_df = dataset_df.set_index('session_id')\n",
    "    return dataset_df"
   ]
  },
  {
   "cell_type": "code",
   "execution_count": 8,
   "id": "af4218ff",
   "metadata": {
    "execution": {
     "iopub.execute_input": "2023-06-01T03:52:20.263836Z",
     "iopub.status.busy": "2023-06-01T03:52:20.263385Z",
     "iopub.status.idle": "2023-06-01T03:53:13.566813Z",
     "shell.execute_reply": "2023-06-01T03:53:13.565351Z"
    },
    "papermill": {
     "duration": 53.31946,
     "end_time": "2023-06-01T03:53:13.570151",
     "exception": false,
     "start_time": "2023-06-01T03:52:20.250691",
     "status": "completed"
    },
    "tags": []
   },
   "outputs": [],
   "source": [
    "dataset_df = feature_engineer(dataset_df)"
   ]
  },
  {
   "cell_type": "code",
   "execution_count": 9,
   "id": "7f3de787",
   "metadata": {
    "execution": {
     "iopub.execute_input": "2023-06-01T03:53:13.591743Z",
     "iopub.status.busy": "2023-06-01T03:53:13.590869Z",
     "iopub.status.idle": "2023-06-01T03:53:13.618769Z",
     "shell.execute_reply": "2023-06-01T03:53:13.617645Z"
    },
    "papermill": {
     "duration": 0.04197,
     "end_time": "2023-06-01T03:53:13.621706",
     "exception": false,
     "start_time": "2023-06-01T03:53:13.579736",
     "status": "completed"
    },
    "tags": []
   },
   "outputs": [
    {
     "name": "stdout",
     "output_type": "stream",
     "text": [
      "<class 'pandas.core.frame.DataFrame'>\n",
      "Int64Index: 70686 entries, 20090312431273200 to 22100221145014656\n",
      "Data columns (total 41 columns):\n",
      " #   Column                Non-Null Count  Dtype   \n",
      "---  ------                --------------  -----   \n",
      " 0   level_group           70686 non-null  category\n",
      " 1   page_mean             70686 non-null  float64 \n",
      " 2   location_x_diff_mean  70686 non-null  float32 \n",
      " 3   location_y_diff_mean  70686 non-null  float32 \n",
      " 4   hover_duration_mean   70686 non-null  float32 \n",
      " 5   elapsed_time_mean     70686 non-null  float64 \n",
      " 6   page_std              70686 non-null  float64 \n",
      " 7   location_x_diff_std   70686 non-null  float64 \n",
      " 8   location_y_diff_std   70686 non-null  float64 \n",
      " 9   hover_duration_std    70686 non-null  float64 \n",
      " 10  elapsed_time_std      70686 non-null  float64 \n",
      " 11  page_sum              70686 non-null  float64 \n",
      " 12  location_x_diff_sum   70686 non-null  float32 \n",
      " 13  location_y_diff_sum   70686 non-null  float32 \n",
      " 14  hover_duration_sum    70686 non-null  float32 \n",
      " 15  elapsed_time_sum      70686 non-null  float64 \n",
      " 16  page_max              70686 non-null  float64 \n",
      " 17  location_x_diff_max   70686 non-null  float32 \n",
      " 18  location_y_diff_max   70686 non-null  float32 \n",
      " 19  hover_duration_max    70686 non-null  float32 \n",
      " 20  elapsed_time_max      70686 non-null  int32   \n",
      " 21  page_min              70686 non-null  float64 \n",
      " 22  location_x_diff_min   70686 non-null  float32 \n",
      " 23  location_y_diff_min   70686 non-null  float32 \n",
      " 24  hover_duration_min    70686 non-null  float32 \n",
      " 25  elapsed_time_min      70686 non-null  int32   \n",
      " 26  music_mean            70686 non-null  float64 \n",
      " 27  fullscreen_mean       70686 non-null  float64 \n",
      " 28  hq_mean               70686 non-null  float64 \n",
      " 29  music_std             70686 non-null  float64 \n",
      " 30  fullscreen_std        70686 non-null  float64 \n",
      " 31  hq_std                70686 non-null  float64 \n",
      " 32  music_sum             70686 non-null  int32   \n",
      " 33  fullscreen_sum        70686 non-null  int32   \n",
      " 34  hq_sum                70686 non-null  int32   \n",
      " 35  music_min             70686 non-null  int32   \n",
      " 36  fullscreen_min        70686 non-null  int32   \n",
      " 37  hq_min                70686 non-null  int32   \n",
      " 38  music_max             70686 non-null  int32   \n",
      " 39  fullscreen_max        70686 non-null  int32   \n",
      " 40  hq_max                70686 non-null  int32   \n",
      "dtypes: category(1), float32(12), float64(17), int32(11)\n",
      "memory usage: 16.0 MB\n"
     ]
    }
   ],
   "source": [
    "dataset_df.info()"
   ]
  },
  {
   "cell_type": "code",
   "execution_count": 10,
   "id": "0a70134c",
   "metadata": {
    "execution": {
     "iopub.execute_input": "2023-06-01T03:53:13.642903Z",
     "iopub.status.busy": "2023-06-01T03:53:13.641803Z",
     "iopub.status.idle": "2023-06-01T03:53:13.648532Z",
     "shell.execute_reply": "2023-06-01T03:53:13.647500Z"
    },
    "papermill": {
     "duration": 0.01987,
     "end_time": "2023-06-01T03:53:13.651094",
     "exception": false,
     "start_time": "2023-06-01T03:53:13.631224",
     "status": "completed"
    },
    "tags": []
   },
   "outputs": [
    {
     "name": "stdout",
     "output_type": "stream",
     "text": [
      "#row: 70686\n",
      "#col: 41\n"
     ]
    }
   ],
   "source": [
    "num_rows, num_cols = dataset_df.shape\n",
    "\n",
    "print(\"#row:\", num_rows)\n",
    "print(\"#col:\", num_cols)"
   ]
  },
  {
   "cell_type": "code",
   "execution_count": 11,
   "id": "3c7cb0e0",
   "metadata": {
    "execution": {
     "iopub.execute_input": "2023-06-01T03:53:13.672165Z",
     "iopub.status.busy": "2023-06-01T03:53:13.671371Z",
     "iopub.status.idle": "2023-06-01T03:53:13.683271Z",
     "shell.execute_reply": "2023-06-01T03:53:13.681955Z"
    },
    "papermill": {
     "duration": 0.025627,
     "end_time": "2023-06-01T03:53:13.686132",
     "exception": false,
     "start_time": "2023-06-01T03:53:13.660505",
     "status": "completed"
    },
    "tags": []
   },
   "outputs": [],
   "source": [
    "FEATURES = [c for c in dataset_df.columns if c != 'level_group']\n",
    "ALL_USERS = dataset_df.index.unique()\n",
    "\n",
    "gkf = GroupKFold(n_splits=5)\n",
    "oof = pd.DataFrame(data=np.zeros((len(ALL_USERS),18)), index=ALL_USERS)\n",
    "models = {}\n",
    "evaluation_dict ={}"
   ]
  },
  {
   "cell_type": "code",
   "execution_count": 12,
   "id": "31fe0feb",
   "metadata": {
    "execution": {
     "iopub.execute_input": "2023-06-01T03:53:13.707477Z",
     "iopub.status.busy": "2023-06-01T03:53:13.706646Z",
     "iopub.status.idle": "2023-06-01T03:55:04.714459Z",
     "shell.execute_reply": "2023-06-01T03:55:04.713314Z"
    },
    "papermill": {
     "duration": 111.021991,
     "end_time": "2023-06-01T03:55:04.717331",
     "exception": false,
     "start_time": "2023-06-01T03:53:13.695340",
     "status": "completed"
    },
    "tags": []
   },
   "outputs": [
    {
     "name": "stdout",
     "output_type": "stream",
     "text": [
      "-------------------------\n",
      "    <<<  Fold  1  >>>\n",
      "-------------------------\n",
      "1(265), 2(58), 3(214), 4(91), 5(37), 6(51), 7(33), 8(38), 9(32), 10(32), 11(25), 12(51), 13(38), 14(46), 15(67), 16(43), 17(25), 18(47), \n",
      "-------------------------\n",
      "    <<<  Fold  2  >>>\n",
      "-------------------------\n",
      "1(56), 2(114), 3(172), 4(33), 5(46), 6(41), 7(31), 8(28), 9(43), 10(23), 11(65), 12(53), 13(39), 14(186), 15(68), 16(42), 17(74), 18(63), \n",
      "-------------------------\n",
      "    <<<  Fold  3  >>>\n",
      "-------------------------\n",
      "1(93), 2(73), 3(140), 4(49), 5(56), 6(34), 7(50), 8(32), 9(61), 10(33), 11(50), 12(35), 13(34), 14(50), 15(57), 16(44), 17(58), 18(64), \n",
      "-------------------------\n",
      "    <<<  Fold  4  >>>\n",
      "-------------------------\n",
      "1(495), 2(58), 3(45), 4(140), 5(30), 6(79), 7(28), 8(24), 9(37), 10(43), 11(45), 12(40), 13(54), 14(112), 15(230), 16(28), 17(28), 18(74), \n",
      "-------------------------\n",
      "    <<<  Fold  5  >>>\n",
      "-------------------------\n",
      "1(168), 2(59), 3(89), 4(70), 5(51), 6(48), 7(50), 8(51), 9(68), 10(62), 11(42), 12(48), 13(49), 14(36), 15(26), 16(26), 17(35), 18(64), \n"
     ]
    }
   ],
   "source": [
    "for i, (train_index, test_index) in enumerate(gkf.split(X=dataset_df, groups=dataset_df.index)):\n",
    "    print('-'*25)\n",
    "    print('    <<<  Fold ',i+1, ' >>>')\n",
    "    print('-'*25)\n",
    "    \n",
    "    # default: 0.684 ~ 0.685\n",
    "    xgb_params = {\n",
    "        'objective' : 'binary:logistic',\n",
    "        'eval_metric':'logloss',\n",
    "        'learning_rate': 0.02,\n",
    "        'max_depth': 5,\n",
    "        'n_estimators': 1000,\n",
    "        'early_stopping_rounds': 50,\n",
    "        'tree_method':'hist',\n",
    "        'subsample':0.8,\n",
    "        'colsample_bytree': 0.4,\n",
    "        'use_label_encoder' : False\n",
    "    }\n",
    "\n",
    "    xgb_params_1 = {\n",
    "        'objective' : 'binary:logistic',\n",
    "        'eval_metric':'logloss',\n",
    "        'learning_rate': 0.01,\n",
    "        'max_depth': 5,\n",
    "        'n_estimators': 1000,\n",
    "        'early_stopping_rounds': 50,\n",
    "        'tree_method':'hist',\n",
    "        'subsample':0.5,\n",
    "        'colsample_bytree': 1,\n",
    "        'use_label_encoder' : False,\n",
    "        \n",
    "        ### Parameters Tuning.. \n",
    "        'gamma': 5,\n",
    "        'min_child_weight': 8,\n",
    "        'colsample_bytree': 0.5\n",
    "    }\n",
    "    \n",
    "    xgb_params_test = {\n",
    "        'objective' : 'binary:logistic',\n",
    "        'eval_metric':'logloss',\n",
    "        'learning_rate': 0.1,\n",
    "        'max_depth': 7,\n",
    "        'n_estimators': 1000,\n",
    "        'early_stopping_rounds': 50,\n",
    "        'tree_method':'hist',\n",
    "        'subsample':0.7,\n",
    "        'colsample_bytree': 0.7,\n",
    "        'use_label_encoder' : False,\n",
    "                \n",
    "        ### Parameters Tuning.. \n",
    "        'random_state': 2,\n",
    "        'gamma': 5,\n",
    "        'min_child_weight': 1,\n",
    "        'colsample_bytree': 0.5\n",
    "    }\n",
    "    \n",
    "    for q_no in range(1,19):\n",
    "\n",
    "        # Select level group for the question based on the q_no.\n",
    "        if q_no<=3: grp = '0-4'\n",
    "        elif q_no<=13: grp = '5-12'\n",
    "        elif q_no<=22: grp = '13-22'\n",
    "\n",
    "\n",
    "        # TRAIN DATA\n",
    "        train_x = dataset_df.iloc[train_index]\n",
    "        train_x = train_x.loc[train_x.level_group == grp]\n",
    "        train_users = train_x.index.values\n",
    "        train_y = labels.loc[labels.q==q_no].set_index('session').loc[train_users]\n",
    "        \n",
    "        # VALID DATA\n",
    "        valid_x = dataset_df.iloc[test_index]\n",
    "        valid_x = valid_x.loc[valid_x.level_group == grp]\n",
    "        valid_users = valid_x.index.values\n",
    "        valid_y = labels.loc[labels.q==q_no].set_index('session').loc[valid_users]\n",
    "\n",
    "        # We will now create the Gradient Boosted Trees Model with default settings. \n",
    "        # By default the model is set to train for a classification task.\n",
    "        xgb = XGBClassifier(**xgb_params_test)\n",
    "        xgb.fit(train_x[FEATURES].astype('float32'), train_y['correct'],\n",
    "                eval_set=[ (valid_x[FEATURES].astype('float32'), valid_y['correct']) ],\n",
    "                verbose=0)\n",
    "        print(f'{q_no}({xgb.best_ntree_limit}), ',end='')\n",
    "        \n",
    "        # SAVE MODEL, PREDICT VALID OOF\n",
    "        models[f'{grp}_{q_no}'] = xgb\n",
    "        oof.loc[valid_users, q_no-1] = xgb.predict_proba(valid_x[FEATURES].astype('float32'))[:,1]  \n",
    "    print()"
   ]
  },
  {
   "cell_type": "code",
   "execution_count": 13,
   "id": "ce78acf5",
   "metadata": {
    "execution": {
     "iopub.execute_input": "2023-06-01T03:55:04.754837Z",
     "iopub.status.busy": "2023-06-01T03:55:04.754080Z",
     "iopub.status.idle": "2023-06-01T03:55:05.465409Z",
     "shell.execute_reply": "2023-06-01T03:55:05.464417Z"
    },
    "papermill": {
     "duration": 0.734537,
     "end_time": "2023-06-01T03:55:05.469217",
     "exception": false,
     "start_time": "2023-06-01T03:55:04.734680",
     "status": "completed"
    },
    "tags": []
   },
   "outputs": [
    {
     "data": {
      "text/plain": [
       "<AxesSubplot:title={'center':'Feature importance'}, xlabel='F score', ylabel='Features'>"
      ]
     },
     "execution_count": 13,
     "metadata": {},
     "output_type": "execute_result"
    },
    {
     "data": {
      "image/png": "[encoded data removed]",
      "text/plain": [
       "<Figure size 640x480 with 1 Axes>"
      ]
     },
     "metadata": {},
     "output_type": "display_data"
    }
   ],
   "source": [
    "from xgboost import plot_importance\n",
    "\n",
    "fig, ax = plt.subplots()\n",
    "plot_importance(xgb, ax=ax)"
   ]
  },
  {
   "cell_type": "code",
   "execution_count": 14,
   "id": "e424d2d8",
   "metadata": {
    "execution": {
     "iopub.execute_input": "2023-06-01T03:55:05.510310Z",
     "iopub.status.busy": "2023-06-01T03:55:05.508917Z",
     "iopub.status.idle": "2023-06-01T03:55:05.640133Z",
     "shell.execute_reply": "2023-06-01T03:55:05.639006Z"
    },
    "papermill": {
     "duration": 0.15505,
     "end_time": "2023-06-01T03:55:05.643397",
     "exception": false,
     "start_time": "2023-06-01T03:55:05.488347",
     "status": "completed"
    },
    "tags": []
   },
   "outputs": [],
   "source": [
    "true = oof.copy()\n",
    "for k in range(18):\n",
    "    # GET TRUE LABELS\n",
    "    tmp = labels.loc[labels.q == k+1].set_index('session').loc[ALL_USERS]\n",
    "    true[k] = tmp.correct.values"
   ]
  },
  {
   "cell_type": "code",
   "execution_count": 15,
   "id": "4665305c",
   "metadata": {
    "execution": {
     "iopub.execute_input": "2023-06-01T03:55:05.684190Z",
     "iopub.status.busy": "2023-06-01T03:55:05.683104Z",
     "iopub.status.idle": "2023-06-01T03:55:12.260580Z",
     "shell.execute_reply": "2023-06-01T03:55:12.259186Z"
    },
    "papermill": {
     "duration": 6.601595,
     "end_time": "2023-06-01T03:55:12.264028",
     "exception": false,
     "start_time": "2023-06-01T03:55:05.662433",
     "status": "completed"
    },
    "tags": []
   },
   "outputs": [
    {
     "name": "stdout",
     "output_type": "stream",
     "text": [
      "0.40, 0.41, 0.42, 0.43, 0.44, 0.45, 0.46, 0.47, 0.48, 0.49, 0.50, 0.51, 0.52, 0.53, 0.54, 0.55, 0.56, 0.57, 0.58, 0.59, 0.60, 0.61, 0.62, 0.63, 0.64, 0.65, 0.66, 0.67, 0.68, 0.69, 0.70, 0.71, 0.72, 0.73, 0.74, 0.75, 0.76, 0.77, 0.78, 0.79, 0.80, "
     ]
    }
   ],
   "source": [
    "# FIND BEST THRESHOLD TO CONVERT PROBS INTO 1s AND 0s\n",
    "scores = []; thresholds = []\n",
    "best_score = 0; best_threshold = 0\n",
    "\n",
    "for threshold in np.arange(0.4,0.81,0.01):\n",
    "    print(f'{threshold:.02f}, ',end='')\n",
    "    preds = (oof.values.reshape((-1))>threshold).astype('int')\n",
    "    m = f1_score(true.values.reshape((-1)), preds, average='macro')   \n",
    "    scores.append(m)\n",
    "    thresholds.append(threshold)\n",
    "    if m>best_score:\n",
    "        best_score = m\n",
    "        best_threshold = threshold"
   ]
  },
  {
   "cell_type": "code",
   "execution_count": 16,
   "id": "f086204b",
   "metadata": {
    "execution": {
     "iopub.execute_input": "2023-06-01T03:55:12.309358Z",
     "iopub.status.busy": "2023-06-01T03:55:12.308549Z",
     "iopub.status.idle": "2023-06-01T03:55:12.632307Z",
     "shell.execute_reply": "2023-06-01T03:55:12.631127Z"
    },
    "papermill": {
     "duration": 0.349898,
     "end_time": "2023-06-01T03:55:12.635150",
     "exception": false,
     "start_time": "2023-06-01T03:55:12.285252",
     "status": "completed"
    },
    "tags": []
   },
   "outputs": [
    {
     "name": "stdout",
     "output_type": "stream",
     "text": [
      "Q0: F1 = 0.6035699959298285\n",
      "Q1: F1 = 0.49463795470144134\n",
      "Q2: F1 = 0.49204532645605725\n",
      "Q3: F1 = 0.605456419203399\n",
      "Q4: F1 = 0.5691776710684273\n",
      "Q5: F1 = 0.6017411563468987\n",
      "Q6: F1 = 0.5818162222144893\n",
      "Q7: F1 = 0.5313702718345643\n",
      "Q8: F1 = 0.5908797409808685\n",
      "Q9: F1 = 0.497760889451884\n",
      "Q10: F1 = 0.5844109870613998\n",
      "Q11: F1 = 0.4895672089033321\n",
      "Q12: F1 = 0.43588060788919797\n",
      "Q13: F1 = 0.6003656300154543\n",
      "Q14: F1 = 0.4821915678695874\n",
      "Q15: F1 = 0.4783039316217421\n",
      "Q16: F1 = 0.5417930590789791\n",
      "Q17: F1 = 0.4873145045476305\n",
      "==> Overall F1 = 0.6746819736309282\n"
     ]
    }
   ],
   "source": [
    "for k in range(18):\n",
    "        \n",
    "    # COMPUTE F1 SCORE PER QUESTION\n",
    "    m = f1_score(true[k].values, (oof[k].values>best_threshold).astype('int'), average='macro')\n",
    "    print(f'Q{k}: F1 =',m)\n",
    "    \n",
    "# COMPUTE F1 SCORE OVERALL\n",
    "m = f1_score(true.values.reshape((-1)), (oof.values.reshape((-1))>best_threshold).astype('int'), average='macro')\n",
    "print('==> Overall F1 =',m)"
   ]
  },
  {
   "cell_type": "code",
   "execution_count": 17,
   "id": "d8c14294",
   "metadata": {
    "execution": {
     "iopub.execute_input": "2023-06-01T03:55:12.680373Z",
     "iopub.status.busy": "2023-06-01T03:55:12.679927Z",
     "iopub.status.idle": "2023-06-01T03:55:13.738212Z",
     "shell.execute_reply": "2023-06-01T03:55:13.737001Z"
    },
    "papermill": {
     "duration": 1.084154,
     "end_time": "2023-06-01T03:55:13.741083",
     "exception": false,
     "start_time": "2023-06-01T03:55:12.656929",
     "status": "completed"
    },
    "tags": []
   },
   "outputs": [
    {
     "name": "stdout",
     "output_type": "stream",
     "text": [
      "This version of the API is not optimized and should not be used to estimate the runtime of your code on the hidden test set.\n"
     ]
    }
   ],
   "source": [
    "# Reference\n",
    "# https://www.kaggle.com/code/philculliton/basic-submission-demo\n",
    "# https://www.kaggle.com/code/cdeotte/random-forest-baseline-0-664/notebook\n",
    "\n",
    "import jo_wilder\n",
    "env = jo_wilder.make_env()\n",
    "iter_test = env.iter_test()\n",
    "\n",
    "limits = {'0-4':(1,4), '5-12':(4,14), '13-22':(14,19)}\n",
    "\n",
    "for (test, sample_submission) in iter_test:\n",
    "    # FEATURE ENGINEER TEST DATA\n",
    "    df = feature_engineer(test)\n",
    "    # INFER TEST DATA\n",
    "    grp = test.level_group.values[0]\n",
    "    a,b = limits[grp]\n",
    "    for t in range(a,b):\n",
    "        xgb = models[f'{grp}_{t}']\n",
    "        p = xgb.predict_proba(df[FEATURES].astype('float32'))[0,1]\n",
    "        mask = sample_submission.session_id.str.contains(f'q{t}')\n",
    "        sample_submission.loc[mask,'correct'] = int( p > best_threshold )\n",
    "    \n",
    "    env.predict(sample_submission)"
   ]
  },
  {
   "cell_type": "code",
   "execution_count": 18,
   "id": "26a3e45b",
   "metadata": {
    "execution": {
     "iopub.execute_input": "2023-06-01T03:55:13.786700Z",
     "iopub.status.busy": "2023-06-01T03:55:13.786001Z",
     "iopub.status.idle": "2023-06-01T03:55:13.791929Z",
     "shell.execute_reply": "2023-06-01T03:55:13.790717Z"
    },
    "papermill": {
     "duration": 0.031943,
     "end_time": "2023-06-01T03:55:13.794914",
     "exception": false,
     "start_time": "2023-06-01T03:55:13.762971",
     "status": "completed"
    },
    "tags": []
   },
   "outputs": [],
   "source": [
    "# import jo_wilder\n",
    "# env = jo_wilder.make_env()\n",
    "# iter_test = env.iter_test()\n",
    "\n",
    "# limits = {'0-4':(1,4), '5-12':(4,14), '13-22':(14,19)}\n",
    "\n",
    "# for (test, sample_submission) in iter_test:\n",
    "#     # FEATURE ENGINEER TEST DATA\n",
    "#     test_data = feature_engineer(test)\n",
    "#     #test\n",
    "#     test_session_id = test_data.index\n",
    "#     test_session_df = pd.DataFrame(test_session_id)\n",
    "#     test_session_df.name = 'session_id'\n",
    "    \n",
    "#     test_data_for_pca = test_data.drop(['level_group'], axis=1)\n",
    "#     pca_test_result = pca.transform(test_data_for_pca)\n",
    "#     pca_test_df = pd.DataFrame(pca_test_result)\n",
    "    \n",
    "#     test_data.reset_index(drop=True, inplace=True) \n",
    "#     test_data = pd.concat([test_session_df,test_data[['level_group']],pca_test_df], axis=1)\n",
    "#     #test\n",
    "#     # INFER TEST DATA\n",
    "#     grp = test.level_group.values[0]\n",
    "#     a,b = limits[grp]\n",
    "#     for t in range(a,b):\n",
    "#         xgb = models[f'{grp}_{t}']\n",
    "#         p = xgb.predict_proba(test_data[FEATURES].astype('float32'))[0,1]\n",
    "#         mask = sample_submission.session_id.str.contains(f'q{t}')\n",
    "#         sample_submission.loc[mask,'correct'] = int( p > best_threshold )\n",
    "    \n",
    "#     env.predict(sample_submission)"
   ]
  },
  {
   "cell_type": "code",
   "execution_count": null,
   "id": "135e7737",
   "metadata": {
    "papermill": {
     "duration": 0.020912,
     "end_time": "2023-06-01T03:55:13.837340",
     "exception": false,
     "start_time": "2023-06-01T03:55:13.816428",
     "status": "completed"
    },
    "tags": []
   },
   "outputs": [],
   "source": []
  },
  {
   "cell_type": "code",
   "execution_count": null,
   "id": "1ff4e653",
   "metadata": {
    "papermill": {
     "duration": 0.020769,
     "end_time": "2023-06-01T03:55:13.879198",
     "exception": false,
     "start_time": "2023-06-01T03:55:13.858429",
     "status": "completed"
    },
    "tags": []
   },
   "outputs": [],
   "source": []
  }
 ],
 "metadata": {
  "kernelspec": {
   "display_name": "Python 3",
   "language": "python",
   "name": "python3"
  },
  "language_info": {
   "codemirror_mode": {
    "name": "ipython",
    "version": 3
   },
   "file_extension": ".py",
   "mimetype": "text/x-python",
   "name": "python",
   "nbconvert_exporter": "python",
   "pygments_lexer": "ipython3",
   "version": "3.7.12"
  },
  "papermill": {
   "default_parameters": {},
   "duration": 313.927923,
   "end_time": "2023-06-01T03:55:15.028292",
   "environment_variables": {},
   "exception": null,
   "input_path": "__notebook__.ipynb",
   "output_path": "__notebook__.ipynb",
   "parameters": {},
   "start_time": "2023-06-01T03:50:01.100369",
   "version": "2.4.0"
  }
 },
 "nbformat": 4,
 "nbformat_minor": 5
}
