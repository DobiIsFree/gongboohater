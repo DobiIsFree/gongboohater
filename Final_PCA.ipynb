{
 "cells": [
  {
   "cell_type": "markdown",
   "id": "3088e7f9",
   "metadata": {
    "_cell_guid": "3065ea28-3415-46ef-8ec2-672826f1896a",
    "_uuid": "1b633216-f642-426b-a442-36227e786485",
    "id": "iCTA6kl3n2O1",
    "papermill": {
     "duration": 0.01337,
     "end_time": "2023-06-01T00:48:07.568520",
     "exception": false,
     "start_time": "2023-06-01T00:48:07.555150",
     "status": "completed"
    },
    "tags": []
   },
   "source": [
    "# Student Performance from Game Play Using TensorFlow Decision Forests"
   ]
  },
  {
   "cell_type": "markdown",
   "id": "b4358f62",
   "metadata": {
    "_cell_guid": "f5f126e7-a6c7-4d10-9453-02803d77fdec",
    "_uuid": "48949e80-ac79-459e-b078-1258b02a6d19",
    "id": "zAXHC6-Tn2O5",
    "papermill": {
     "duration": 0.011972,
     "end_time": "2023-06-01T00:48:07.592319",
     "exception": false,
     "start_time": "2023-06-01T00:48:07.580347",
     "status": "completed"
    },
    "tags": []
   },
   "source": [
    "## Import the Required Libraries"
   ]
  },
  {
   "cell_type": "code",
   "execution_count": 1,
   "id": "a6919f41",
   "metadata": {
    "_cell_guid": "d9edea55-e22d-47eb-9e89-f41baf355a90",
    "_uuid": "b8016303-112b-4ba5-b173-8f7fafdd3fbc",
    "collapsed": false,
    "execution": {
     "iopub.execute_input": "2023-06-01T00:48:07.618327Z",
     "iopub.status.busy": "2023-06-01T00:48:07.617477Z",
     "iopub.status.idle": "2023-06-01T00:48:09.339949Z",
     "shell.execute_reply": "2023-06-01T00:48:09.338486Z"
    },
    "id": "IanlX-Eqn2O5",
    "jupyter": {
     "outputs_hidden": false
    },
    "papermill": {
     "duration": 1.739665,
     "end_time": "2023-06-01T00:48:09.343479",
     "exception": false,
     "start_time": "2023-06-01T00:48:07.603814",
     "status": "completed"
    },
    "tags": []
   },
   "outputs": [],
   "source": [
    "import pandas as pd\n",
    "import numpy as np\n",
    "import matplotlib.pyplot as plt\n",
    "\n",
    "from xgboost import XGBClassifier\n",
    "from sklearn.model_selection import KFold, GroupKFold\n",
    "from sklearn.metrics import f1_score"
   ]
  },
  {
   "cell_type": "markdown",
   "id": "4cab2dde",
   "metadata": {
    "_cell_guid": "5be263dd-cf1e-4887-b94b-caeeea6a4aa8",
    "_uuid": "2697b3d5-0f16-4f5e-aa80-76ad489e86ae",
    "id": "22DpLVFLn2O7",
    "papermill": {
     "duration": 0.010657,
     "end_time": "2023-06-01T00:48:09.365197",
     "exception": false,
     "start_time": "2023-06-01T00:48:09.354540",
     "status": "completed"
    },
    "tags": []
   },
   "source": [
    "## Load the Dataset"
   ]
  },
  {
   "cell_type": "code",
   "execution_count": 2,
   "id": "b27fe304",
   "metadata": {
    "_cell_guid": "144dcbf9-be59-440c-b31a-8216f58528cb",
    "_uuid": "0cd23222-c6e1-47b2-8149-4834fa47f2e4",
    "collapsed": false,
    "execution": {
     "iopub.execute_input": "2023-06-01T00:48:09.391368Z",
     "iopub.status.busy": "2023-06-01T00:48:09.390620Z",
     "iopub.status.idle": "2023-06-01T00:50:30.643551Z",
     "shell.execute_reply": "2023-06-01T00:50:30.641957Z"
    },
    "id": "_XItl24kn2O7",
    "jupyter": {
     "outputs_hidden": false
    },
    "papermill": {
     "duration": 141.270392,
     "end_time": "2023-06-01T00:50:30.647463",
     "exception": false,
     "start_time": "2023-06-01T00:48:09.377071",
     "status": "completed"
    },
    "tags": []
   },
   "outputs": [],
   "source": [
    "# Reference: https://www.kaggle.com/competitions/predict-student-performance-from-game-play/discussion/384359\n",
    "dtypes={\n",
    "    'elapsed_time':np.int32,\n",
    "    'event_name':'category',\n",
    "    'name':'category',\n",
    "    'level':np.uint8,\n",
    "    \n",
    "    'room_coor_x':np.float32,\n",
    "    'room_coor_y':np.float32,\n",
    "    'screen_coor_x':np.float32,\n",
    "    'screen_coor_y':np.float32,\n",
    "    \n",
    "    'hover_duration':np.float32,\n",
    "    \n",
    "    'text':'category',\n",
    "    'fqid':'category',\n",
    "    'room_fqid':'category',\n",
    "    'text_fqid':'category',\n",
    "\n",
    "    'fullscreen': np.int32,\n",
    "    'hq': np.int32,\n",
    "    'music': np.int32,\n",
    "\n",
    "    'level_group':'category'}\n",
    "\n",
    "dataset_df = pd.read_csv('/kaggle/input/predict-student-performance-from-game-play/train.csv', dtype=dtypes)"
   ]
  },
  {
   "cell_type": "code",
   "execution_count": 3,
   "id": "c63cff54",
   "metadata": {
    "execution": {
     "iopub.execute_input": "2023-06-01T00:50:30.677662Z",
     "iopub.status.busy": "2023-06-01T00:50:30.676094Z",
     "iopub.status.idle": "2023-06-01T00:50:30.707284Z",
     "shell.execute_reply": "2023-06-01T00:50:30.706111Z"
    },
    "papermill": {
     "duration": 0.051433,
     "end_time": "2023-06-01T00:50:30.711892",
     "exception": false,
     "start_time": "2023-06-01T00:50:30.660459",
     "status": "completed"
    },
    "tags": []
   },
   "outputs": [
    {
     "name": "stdout",
     "output_type": "stream",
     "text": [
      "<class 'pandas.core.frame.DataFrame'>\n",
      "RangeIndex: 26296946 entries, 0 to 26296945\n",
      "Data columns (total 20 columns):\n",
      " #   Column          Dtype   \n",
      "---  ------          -----   \n",
      " 0   session_id      int64   \n",
      " 1   index           int64   \n",
      " 2   elapsed_time    int32   \n",
      " 3   event_name      category\n",
      " 4   name            category\n",
      " 5   level           uint8   \n",
      " 6   page            float64 \n",
      " 7   room_coor_x     float32 \n",
      " 8   room_coor_y     float32 \n",
      " 9   screen_coor_x   float32 \n",
      " 10  screen_coor_y   float32 \n",
      " 11  hover_duration  float32 \n",
      " 12  text            category\n",
      " 13  fqid            category\n",
      " 14  room_fqid       category\n",
      " 15  text_fqid       category\n",
      " 16  fullscreen      int32   \n",
      " 17  hq              int32   \n",
      " 18  music           int32   \n",
      " 19  level_group     category\n",
      "dtypes: category(7), float32(5), float64(1), int32(4), int64(2), uint8(1)\n",
      "memory usage: 1.7 GB\n"
     ]
    }
   ],
   "source": [
    "dataset_df.info()"
   ]
  },
  {
   "cell_type": "markdown",
   "id": "6cb2e879",
   "metadata": {
    "_cell_guid": "c65e1dff-67b0-4bb6-9b97-b6418d4173c7",
    "_uuid": "3df6b5f5-7744-40f9-bec5-bb45b9238387",
    "id": "ReNY-i3bn2O8",
    "papermill": {
     "duration": 0.012962,
     "end_time": "2023-06-01T00:50:30.737562",
     "exception": false,
     "start_time": "2023-06-01T00:50:30.724600",
     "status": "completed"
    },
    "tags": []
   },
   "source": [
    "## Load the labels"
   ]
  },
  {
   "cell_type": "code",
   "execution_count": 4,
   "id": "169eb5ea",
   "metadata": {
    "_cell_guid": "bc6c67b2-3be1-4595-bc75-a10a50ba30d3",
    "_uuid": "e71600d9-2043-4209-8373-cf254354b3f2",
    "collapsed": false,
    "execution": {
     "iopub.execute_input": "2023-06-01T00:50:30.764078Z",
     "iopub.status.busy": "2023-06-01T00:50:30.763108Z",
     "iopub.status.idle": "2023-06-01T00:50:31.205342Z",
     "shell.execute_reply": "2023-06-01T00:50:31.203391Z"
    },
    "id": "KD4uayl2n2O9",
    "jupyter": {
     "outputs_hidden": false
    },
    "papermill": {
     "duration": 0.459259,
     "end_time": "2023-06-01T00:50:31.208721",
     "exception": false,
     "start_time": "2023-06-01T00:50:30.749462",
     "status": "completed"
    },
    "tags": []
   },
   "outputs": [],
   "source": [
    "labels = pd.read_csv('/kaggle/input/predict-student-performance-from-game-play/train_labels.csv')"
   ]
  },
  {
   "cell_type": "code",
   "execution_count": 5,
   "id": "3c8ccbb1",
   "metadata": {
    "_cell_guid": "24c78d16-6a6a-4409-b1c3-5f1d84c0a9ac",
    "_uuid": "afd665e4-8c5e-4a6a-9c96-2c8676f97c88",
    "collapsed": false,
    "execution": {
     "iopub.execute_input": "2023-06-01T00:50:31.235119Z",
     "iopub.status.busy": "2023-06-01T00:50:31.234237Z",
     "iopub.status.idle": "2023-06-01T00:50:32.421302Z",
     "shell.execute_reply": "2023-06-01T00:50:32.420189Z"
    },
    "id": "Kva8_Dbqn2O9",
    "jupyter": {
     "outputs_hidden": false
    },
    "papermill": {
     "duration": 1.204762,
     "end_time": "2023-06-01T00:50:32.424578",
     "exception": false,
     "start_time": "2023-06-01T00:50:31.219816",
     "status": "completed"
    },
    "tags": []
   },
   "outputs": [],
   "source": [
    "labels['session'] = labels.session_id.apply(lambda x: int(x.split('_')[0]) )\n",
    "labels['q'] = labels.session_id.apply(lambda x: int(x.split('_')[-1][1:]) )"
   ]
  },
  {
   "cell_type": "markdown",
   "id": "1f6baa16",
   "metadata": {
    "_cell_guid": "485073af-b103-48c0-8e8c-60c28ddc00fc",
    "_uuid": "d4215f16-78de-4f14-b9f3-b596b03f8433",
    "id": "y5fK05dsn2O_",
    "papermill": {
     "duration": 0.011924,
     "end_time": "2023-06-01T00:50:32.448389",
     "exception": false,
     "start_time": "2023-06-01T00:50:32.436465",
     "status": "completed"
    },
    "tags": []
   },
   "source": [
    "# Prepare the dataset"
   ]
  },
  {
   "cell_type": "code",
   "execution_count": 6,
   "id": "6fdb35a3",
   "metadata": {
    "_cell_guid": "9527a410-8159-421f-9ad6-f3c712fc7d87",
    "_uuid": "886d16af-f0f1-4c68-8e15-9802bd417f6e",
    "collapsed": false,
    "execution": {
     "iopub.execute_input": "2023-06-01T00:50:32.474311Z",
     "iopub.status.busy": "2023-06-01T00:50:32.473449Z",
     "iopub.status.idle": "2023-06-01T00:50:33.033403Z",
     "shell.execute_reply": "2023-06-01T00:50:33.032120Z"
    },
    "id": "cCZWGiL_n2PA",
    "jupyter": {
     "outputs_hidden": false
    },
    "papermill": {
     "duration": 0.576132,
     "end_time": "2023-06-01T00:50:33.036475",
     "exception": false,
     "start_time": "2023-06-01T00:50:32.460343",
     "status": "completed"
    },
    "tags": []
   },
   "outputs": [],
   "source": [
    "CATEGORICAL = ['event_name', 'name', 'fqid', 'room_fqid', 'text_fqid']\n",
    "NUMERICAL = ['page', 'location_x_diff', 'location_y_diff','hover_duration', 'elapsed_time']\n",
    "OPTIONAL = ['music', 'fullscreen', 'hq']\n",
    "\n",
    "# Lots..\n",
    "NAMES = dataset_df['name'].unique()\n",
    "EVENTS = dataset_df['event_name'].unique()\n",
    "\n",
    "TEXT_LISTS = dataset_df['text'].unique()\n",
    "FQID_LISTS = dataset_df['fqid'].unique()"
   ]
  },
  {
   "cell_type": "code",
   "execution_count": 7,
   "id": "0f047cf5",
   "metadata": {
    "execution": {
     "iopub.execute_input": "2023-06-01T00:50:33.062251Z",
     "iopub.status.busy": "2023-06-01T00:50:33.061470Z",
     "iopub.status.idle": "2023-06-01T00:50:33.216293Z",
     "shell.execute_reply": "2023-06-01T00:50:33.214641Z"
    },
    "papermill": {
     "duration": 0.172443,
     "end_time": "2023-06-01T00:50:33.220065",
     "exception": false,
     "start_time": "2023-06-01T00:50:33.047622",
     "status": "completed"
    },
    "tags": []
   },
   "outputs": [],
   "source": [
    "# df.fillna(df.mean()), df.where(pd.notnull(df), df.mean(), axis='columns')\n",
    "def feature_engineer(dataset_df):\n",
    "    dataset_df['elapsed_time_diff'] = (\n",
    "        (dataset_df['elapsed_time'] - dataset_df['elapsed_time'].shift(1))\n",
    "        .fillna(0)\n",
    "        .clip(lower=0, upper=1e9)\n",
    "    )\n",
    "    dataset_df['location_x_diff'] = (\n",
    "        (dataset_df['room_coor_x'] - dataset_df['room_coor_x'].shift(1))\n",
    "        .abs()\n",
    "    )\n",
    "    dataset_df['location_y_diff'] = (\n",
    "        (dataset_df['room_coor_y'] - dataset_df['room_coor_y'].shift(1))\n",
    "        .abs()\n",
    "    )\n",
    "    \n",
    "    dfs = []\n",
    "    \n",
    "    # NUMERICAL\n",
    "    for c in NUMERICAL:\n",
    "        tmp = dataset_df.groupby(['session_id','level_group'])[c].agg('mean')\n",
    "        tmp.name = tmp.name + '_mean'\n",
    "        dfs.append(tmp)\n",
    "    for c in NUMERICAL:\n",
    "        tmp = dataset_df.groupby(['session_id','level_group'])[c].agg('std')\n",
    "        tmp.name = tmp.name + '_std'\n",
    "        dfs.append(tmp)\n",
    "    for c in NUMERICAL:\n",
    "        tmp = dataset_df.groupby(['session_id','level_group'])[c].agg('sum')\n",
    "        tmp.name = tmp.name + '_sum'\n",
    "        dfs.append(tmp)\n",
    "    for c in NUMERICAL:\n",
    "        tmp = dataset_df.groupby(['session_id','level_group'])[c].agg('max')\n",
    "        tmp.name = tmp.name + '_max'\n",
    "        dfs.append(tmp)\n",
    "    for c in NUMERICAL:\n",
    "        tmp = dataset_df.groupby(['session_id','level_group'])[c].agg('min')\n",
    "        tmp.name = tmp.name + '_min'\n",
    "        dfs.append(tmp)\n",
    "    \n",
    "    # EVNETS\n",
    "#     for c in EVENTS: \n",
    "#         dataset_df[c] = (dataset_df.event_name == c).astype('int8')\n",
    "#     for c in EVENTS: \n",
    "#         tmp = dataset_df[dataset_df[c] == 1].groupby(['session_id', 'level_group'])[c].sum()\n",
    "#         tmp.name = c + '_count'\n",
    "#         dfs.append(tmp)\n",
    "#     for c in EVENTS: \n",
    "#         tmp = dataset_df[dataset_df[c] == 1].groupby(['session_id', 'level_group'])[c].std()\n",
    "#         tmp.name = c + '_std'\n",
    "#         dfs.append(tmp)\n",
    "#     for c in EVENTS: \n",
    "#         tmp = dataset_df[dataset_df[c] == 1].groupby(['session_id', 'level_group'])[c].mean()\n",
    "#         tmp.name = c + '_mean'\n",
    "#         dfs.append(tmp)\n",
    "#     for c in EVENTS: \n",
    "#         tmp = dataset_df[dataset_df[c] == 1].groupby(['session_id', 'level_group'])[c].max()\n",
    "#         tmp.name = c + '_max'\n",
    "#         dfs.append(tmp)\n",
    "#     for c in EVENTS: \n",
    "#         tmp = dataset_df[dataset_df[c] == 1].groupby(['session_id', 'level_group'])[c].min()\n",
    "#         tmp.name = c + '_min'\n",
    "#         dfs.append(tmp)\n",
    "        \n",
    "#     for c in EVENTS:\n",
    "#         tmp = dataset_df[dataset_df[c] == 1].groupby(['session_id', 'level_group'])['elapsed_time_diff'].agg('mean')\n",
    "#         tmp.name = c + '_time_average'\n",
    "#         dfs.append(tmp)\n",
    "        \n",
    "        \n",
    "    #OPTIONALS\n",
    "    for c in OPTIONAL:\n",
    "        tmp = dataset_df.groupby(['session_id','level_group'])[c].agg('mean')\n",
    "        tmp.name = tmp.name + '_mean'\n",
    "        dfs.append(tmp)\n",
    "    for c in OPTIONAL:\n",
    "        tmp = dataset_df.groupby(['session_id','level_group'])[c].agg('std')\n",
    "        tmp.name = tmp.name + '_std'\n",
    "        dfs.append(tmp)\n",
    "    for c in OPTIONAL:\n",
    "        tmp = dataset_df.groupby(['session_id','level_group'])[c].agg('sum')\n",
    "        tmp.name = tmp.name + '_sum'\n",
    "        dfs.append(tmp)\n",
    "    for c in OPTIONAL:\n",
    "        tmp = dataset_df.groupby(['session_id','level_group'])[c].agg('min')\n",
    "        tmp.name = tmp.name + '_min'\n",
    "        dfs.append(tmp)\n",
    "    for c in OPTIONAL:\n",
    "        tmp = dataset_df.groupby(['session_id','level_group'])[c].agg('max')\n",
    "        tmp.name = tmp.name + '_max'\n",
    "        dfs.append(tmp)   \n",
    "        \n",
    "    dataset_df = pd.concat(dfs,axis=1)\n",
    "    dataset_df = dataset_df.fillna(-1)\n",
    "    dataset_df = dataset_df.reset_index()\n",
    "    dataset_df = dataset_df.set_index('session_id')\n",
    "    return dataset_df"
   ]
  },
  {
   "cell_type": "code",
   "execution_count": 8,
   "id": "02ea6f56",
   "metadata": {
    "execution": {
     "iopub.execute_input": "2023-06-01T00:50:33.245914Z",
     "iopub.status.busy": "2023-06-01T00:50:33.245473Z",
     "iopub.status.idle": "2023-06-01T00:51:33.233801Z",
     "shell.execute_reply": "2023-06-01T00:51:33.230239Z"
    },
    "papermill": {
     "duration": 60.009064,
     "end_time": "2023-06-01T00:51:33.241563",
     "exception": false,
     "start_time": "2023-06-01T00:50:33.232499",
     "status": "completed"
    },
    "tags": []
   },
   "outputs": [],
   "source": [
    "dataset_df = feature_engineer(dataset_df)"
   ]
  },
  {
   "cell_type": "code",
   "execution_count": 9,
   "id": "f5d5b0cc",
   "metadata": {
    "execution": {
     "iopub.execute_input": "2023-06-01T00:51:33.272908Z",
     "iopub.status.busy": "2023-06-01T00:51:33.272090Z",
     "iopub.status.idle": "2023-06-01T00:51:33.303001Z",
     "shell.execute_reply": "2023-06-01T00:51:33.301806Z"
    },
    "papermill": {
     "duration": 0.049735,
     "end_time": "2023-06-01T00:51:33.306860",
     "exception": false,
     "start_time": "2023-06-01T00:51:33.257125",
     "status": "completed"
    },
    "tags": []
   },
   "outputs": [
    {
     "name": "stdout",
     "output_type": "stream",
     "text": [
      "<class 'pandas.core.frame.DataFrame'>\n",
      "Int64Index: 70686 entries, 20090312431273200 to 22100221145014656\n",
      "Data columns (total 41 columns):\n",
      " #   Column                Non-Null Count  Dtype   \n",
      "---  ------                --------------  -----   \n",
      " 0   level_group           70686 non-null  category\n",
      " 1   page_mean             70686 non-null  float64 \n",
      " 2   location_x_diff_mean  70686 non-null  float32 \n",
      " 3   location_y_diff_mean  70686 non-null  float32 \n",
      " 4   hover_duration_mean   70686 non-null  float32 \n",
      " 5   elapsed_time_mean     70686 non-null  float64 \n",
      " 6   page_std              70686 non-null  float64 \n",
      " 7   location_x_diff_std   70686 non-null  float64 \n",
      " 8   location_y_diff_std   70686 non-null  float64 \n",
      " 9   hover_duration_std    70686 non-null  float64 \n",
      " 10  elapsed_time_std      70686 non-null  float64 \n",
      " 11  page_sum              70686 non-null  float64 \n",
      " 12  location_x_diff_sum   70686 non-null  float32 \n",
      " 13  location_y_diff_sum   70686 non-null  float32 \n",
      " 14  hover_duration_sum    70686 non-null  float32 \n",
      " 15  elapsed_time_sum      70686 non-null  float64 \n",
      " 16  page_max              70686 non-null  float64 \n",
      " 17  location_x_diff_max   70686 non-null  float32 \n",
      " 18  location_y_diff_max   70686 non-null  float32 \n",
      " 19  hover_duration_max    70686 non-null  float32 \n",
      " 20  elapsed_time_max      70686 non-null  int32   \n",
      " 21  page_min              70686 non-null  float64 \n",
      " 22  location_x_diff_min   70686 non-null  float32 \n",
      " 23  location_y_diff_min   70686 non-null  float32 \n",
      " 24  hover_duration_min    70686 non-null  float32 \n",
      " 25  elapsed_time_min      70686 non-null  int32   \n",
      " 26  music_mean            70686 non-null  float64 \n",
      " 27  fullscreen_mean       70686 non-null  float64 \n",
      " 28  hq_mean               70686 non-null  float64 \n",
      " 29  music_std             70686 non-null  float64 \n",
      " 30  fullscreen_std        70686 non-null  float64 \n",
      " 31  hq_std                70686 non-null  float64 \n",
      " 32  music_sum             70686 non-null  int32   \n",
      " 33  fullscreen_sum        70686 non-null  int32   \n",
      " 34  hq_sum                70686 non-null  int32   \n",
      " 35  music_min             70686 non-null  int32   \n",
      " 36  fullscreen_min        70686 non-null  int32   \n",
      " 37  hq_min                70686 non-null  int32   \n",
      " 38  music_max             70686 non-null  int32   \n",
      " 39  fullscreen_max        70686 non-null  int32   \n",
      " 40  hq_max                70686 non-null  int32   \n",
      "dtypes: category(1), float32(12), float64(17), int32(11)\n",
      "memory usage: 16.0 MB\n"
     ]
    }
   ],
   "source": [
    "dataset_df.info()"
   ]
  },
  {
   "cell_type": "code",
   "execution_count": 10,
   "id": "b3047391",
   "metadata": {
    "execution": {
     "iopub.execute_input": "2023-06-01T00:51:33.335807Z",
     "iopub.status.busy": "2023-06-01T00:51:33.334581Z",
     "iopub.status.idle": "2023-06-01T00:51:33.342680Z",
     "shell.execute_reply": "2023-06-01T00:51:33.341111Z"
    },
    "papermill": {
     "duration": 0.025294,
     "end_time": "2023-06-01T00:51:33.345492",
     "exception": false,
     "start_time": "2023-06-01T00:51:33.320198",
     "status": "completed"
    },
    "tags": []
   },
   "outputs": [
    {
     "name": "stdout",
     "output_type": "stream",
     "text": [
      "#row: 70686\n",
      "#col: 41\n"
     ]
    }
   ],
   "source": [
    "num_rows, num_cols = dataset_df.shape\n",
    "\n",
    "print(\"#row:\", num_rows)\n",
    "print(\"#col:\", num_cols)"
   ]
  },
  {
   "cell_type": "code",
   "execution_count": 11,
   "id": "4ce1e1ad",
   "metadata": {
    "execution": {
     "iopub.execute_input": "2023-06-01T00:51:33.373820Z",
     "iopub.status.busy": "2023-06-01T00:51:33.372678Z",
     "iopub.status.idle": "2023-06-01T00:51:33.379949Z",
     "shell.execute_reply": "2023-06-01T00:51:33.378848Z"
    },
    "papermill": {
     "duration": 0.024097,
     "end_time": "2023-06-01T00:51:33.383147",
     "exception": false,
     "start_time": "2023-06-01T00:51:33.359050",
     "status": "completed"
    },
    "tags": []
   },
   "outputs": [],
   "source": [
    "train_session_id = dataset_df.index\n",
    "session_df = pd.DataFrame(train_session_id)\n",
    "session_df.name = 'session_id'"
   ]
  },
  {
   "cell_type": "markdown",
   "id": "84db038d",
   "metadata": {
    "papermill": {
     "duration": 0.012404,
     "end_time": "2023-06-01T00:51:33.408715",
     "exception": false,
     "start_time": "2023-06-01T00:51:33.396311",
     "status": "completed"
    },
    "tags": []
   },
   "source": [
    "## PCA"
   ]
  },
  {
   "cell_type": "code",
   "execution_count": 12,
   "id": "2ad100a3",
   "metadata": {
    "execution": {
     "iopub.execute_input": "2023-06-01T00:51:33.437281Z",
     "iopub.status.busy": "2023-06-01T00:51:33.436412Z",
     "iopub.status.idle": "2023-06-01T00:51:33.930464Z",
     "shell.execute_reply": "2023-06-01T00:51:33.929030Z"
    },
    "papermill": {
     "duration": 0.510986,
     "end_time": "2023-06-01T00:51:33.933629",
     "exception": false,
     "start_time": "2023-06-01T00:51:33.422643",
     "status": "completed"
    },
    "tags": []
   },
   "outputs": [],
   "source": [
    "from sklearn.decomposition import PCA\n",
    "\n",
    "data_for_pca = dataset_df.drop(['level_group'], axis=1)\n",
    "pca = PCA(n_components=40)\n",
    "pca_result = pca.fit_transform(data_for_pca)\n",
    "pca_dataset_df = pd.DataFrame(pca_result)\n",
    "\n",
    "dataset_df.reset_index(drop=True, inplace=True) \n",
    "dataset_df = pd.concat([session_df,dataset_df[['level_group']], pca_dataset_df], axis=1)"
   ]
  },
  {
   "cell_type": "code",
   "execution_count": 13,
   "id": "a60397c5",
   "metadata": {
    "execution": {
     "iopub.execute_input": "2023-06-01T00:51:33.959664Z",
     "iopub.status.busy": "2023-06-01T00:51:33.959176Z",
     "iopub.status.idle": "2023-06-01T00:51:33.988718Z",
     "shell.execute_reply": "2023-06-01T00:51:33.987107Z"
    },
    "papermill": {
     "duration": 0.045692,
     "end_time": "2023-06-01T00:51:33.991908",
     "exception": false,
     "start_time": "2023-06-01T00:51:33.946216",
     "status": "completed"
    },
    "tags": []
   },
   "outputs": [
    {
     "name": "stdout",
     "output_type": "stream",
     "text": [
      "<class 'pandas.core.frame.DataFrame'>\n",
      "RangeIndex: 70686 entries, 0 to 70685\n",
      "Data columns (total 42 columns):\n",
      " #   Column       Non-Null Count  Dtype   \n",
      "---  ------       --------------  -----   \n",
      " 0   session_id   70686 non-null  int64   \n",
      " 1   level_group  70686 non-null  category\n",
      " 2   0            70686 non-null  float64 \n",
      " 3   1            70686 non-null  float64 \n",
      " 4   2            70686 non-null  float64 \n",
      " 5   3            70686 non-null  float64 \n",
      " 6   4            70686 non-null  float64 \n",
      " 7   5            70686 non-null  float64 \n",
      " 8   6            70686 non-null  float64 \n",
      " 9   7            70686 non-null  float64 \n",
      " 10  8            70686 non-null  float64 \n",
      " 11  9            70686 non-null  float64 \n",
      " 12  10           70686 non-null  float64 \n",
      " 13  11           70686 non-null  float64 \n",
      " 14  12           70686 non-null  float64 \n",
      " 15  13           70686 non-null  float64 \n",
      " 16  14           70686 non-null  float64 \n",
      " 17  15           70686 non-null  float64 \n",
      " 18  16           70686 non-null  float64 \n",
      " 19  17           70686 non-null  float64 \n",
      " 20  18           70686 non-null  float64 \n",
      " 21  19           70686 non-null  float64 \n",
      " 22  20           70686 non-null  float64 \n",
      " 23  21           70686 non-null  float64 \n",
      " 24  22           70686 non-null  float64 \n",
      " 25  23           70686 non-null  float64 \n",
      " 26  24           70686 non-null  float64 \n",
      " 27  25           70686 non-null  float64 \n",
      " 28  26           70686 non-null  float64 \n",
      " 29  27           70686 non-null  float64 \n",
      " 30  28           70686 non-null  float64 \n",
      " 31  29           70686 non-null  float64 \n",
      " 32  30           70686 non-null  float64 \n",
      " 33  31           70686 non-null  float64 \n",
      " 34  32           70686 non-null  float64 \n",
      " 35  33           70686 non-null  float64 \n",
      " 36  34           70686 non-null  float64 \n",
      " 37  35           70686 non-null  float64 \n",
      " 38  36           70686 non-null  float64 \n",
      " 39  37           70686 non-null  float64 \n",
      " 40  38           70686 non-null  float64 \n",
      " 41  39           70686 non-null  float64 \n",
      "dtypes: category(1), float64(40), int64(1)\n",
      "memory usage: 22.2 MB\n"
     ]
    }
   ],
   "source": [
    "dataset_df.info()"
   ]
  },
  {
   "cell_type": "code",
   "execution_count": 14,
   "id": "00b7c21d",
   "metadata": {
    "execution": {
     "iopub.execute_input": "2023-06-01T00:51:34.021556Z",
     "iopub.status.busy": "2023-06-01T00:51:34.021110Z",
     "iopub.status.idle": "2023-06-01T00:51:34.027890Z",
     "shell.execute_reply": "2023-06-01T00:51:34.026793Z"
    },
    "papermill": {
     "duration": 0.023883,
     "end_time": "2023-06-01T00:51:34.030808",
     "exception": false,
     "start_time": "2023-06-01T00:51:34.006925",
     "status": "completed"
    },
    "tags": []
   },
   "outputs": [
    {
     "name": "stdout",
     "output_type": "stream",
     "text": [
      "#row: 70686\n",
      "#col: 42\n"
     ]
    }
   ],
   "source": [
    "num_rows, num_cols = dataset_df.shape\n",
    "\n",
    "print(\"#row:\", num_rows)\n",
    "print(\"#col:\", num_cols)"
   ]
  },
  {
   "cell_type": "code",
   "execution_count": 15,
   "id": "235a5c04",
   "metadata": {
    "execution": {
     "iopub.execute_input": "2023-06-01T00:51:34.059730Z",
     "iopub.status.busy": "2023-06-01T00:51:34.058721Z",
     "iopub.status.idle": "2023-06-01T00:51:34.063784Z",
     "shell.execute_reply": "2023-06-01T00:51:34.062689Z"
    },
    "papermill": {
     "duration": 0.022785,
     "end_time": "2023-06-01T00:51:34.067008",
     "exception": false,
     "start_time": "2023-06-01T00:51:34.044223",
     "status": "completed"
    },
    "tags": []
   },
   "outputs": [],
   "source": [
    "# dataset_df = dataset_df.drop(columns = [1, 2, 32, 39, 5, 6, 7, 8, 11, 14,19, 24, 29, 36])\n",
    "# dataset_df = dataset_df.drop(columns = [1, 2, 32, 39])"
   ]
  },
  {
   "cell_type": "code",
   "execution_count": 16,
   "id": "116023e3",
   "metadata": {
    "execution": {
     "iopub.execute_input": "2023-06-01T00:51:34.094278Z",
     "iopub.status.busy": "2023-06-01T00:51:34.093373Z",
     "iopub.status.idle": "2023-06-01T00:51:34.104384Z",
     "shell.execute_reply": "2023-06-01T00:51:34.102598Z"
    },
    "papermill": {
     "duration": 0.027997,
     "end_time": "2023-06-01T00:51:34.107723",
     "exception": false,
     "start_time": "2023-06-01T00:51:34.079726",
     "status": "completed"
    },
    "tags": []
   },
   "outputs": [],
   "source": [
    "FEATURES = [c for c in dataset_df.columns if c != 'level_group']\n",
    "# ALL_USERS = dataset_df.index.unique()\n",
    "ALL_USERS = dataset_df['session_id'].unique()\n",
    "\n",
    "\n",
    "gkf = GroupKFold(n_splits=5)\n",
    "oof = pd.DataFrame(data=np.zeros((len(ALL_USERS),18)), index=ALL_USERS)\n",
    "models = {}\n",
    "evaluation_dict ={}"
   ]
  },
  {
   "cell_type": "code",
   "execution_count": 17,
   "id": "8800a58c",
   "metadata": {
    "execution": {
     "iopub.execute_input": "2023-06-01T00:51:34.136251Z",
     "iopub.status.busy": "2023-06-01T00:51:34.135350Z",
     "iopub.status.idle": "2023-06-01T00:53:44.724576Z",
     "shell.execute_reply": "2023-06-01T00:53:44.723306Z"
    },
    "papermill": {
     "duration": 130.608846,
     "end_time": "2023-06-01T00:53:44.728145",
     "exception": false,
     "start_time": "2023-06-01T00:51:34.119299",
     "status": "completed"
    },
    "tags": []
   },
   "outputs": [
    {
     "name": "stdout",
     "output_type": "stream",
     "text": [
      "-------------------------\n",
      "    <<<  Fold  1  >>>\n",
      "-------------------------\n",
      "1(46), 2(65), 3(58), 4(42), 5(37), 6(46), 7(49), 8(35), 9(45), 10(22), 11(53), 12(39), 13(37), 14(62), 15(14), 16(34), 17(21), 18(74), \n",
      "-------------------------\n",
      "    <<<  Fold  2  >>>\n",
      "-------------------------\n",
      "1(64), 2(65), 3(60), 4(34), 5(41), 6(30), 7(30), 8(18), 9(53), 10(23), 11(19), 12(50), 13(29), 14(39), 15(43), 16(31), 17(45), 18(47), \n",
      "-------------------------\n",
      "    <<<  Fold  3  >>>\n",
      "-------------------------\n",
      "1(38), 2(59), 3(58), 4(41), 5(22), 6(36), 7(40), 8(22), 9(42), 10(36), 11(27), 12(41), 13(29), 14(32), 15(36), 16(32), 17(23), 18(73), \n",
      "-------------------------\n",
      "    <<<  Fold  4  >>>\n",
      "-------------------------\n",
      "1(48), 2(120), 3(57), 4(50), 5(43), 6(28), 7(32), 8(17), 9(28), 10(26), 11(35), 12(40), 13(34), 14(26), 15(51), 16(25), 17(21), 18(40), \n",
      "-------------------------\n",
      "    <<<  Fold  5  >>>\n",
      "-------------------------\n",
      "1(59), 2(57), 3(50), 4(78), 5(22), 6(74), 7(50), 8(27), 9(48), 10(24), 11(32), 12(51), 13(31), 14(39), 15(39), 16(32), 17(39), 18(44), \n"
     ]
    }
   ],
   "source": [
    "for i, (train_index, test_index) in enumerate(gkf.split(X=dataset_df, groups=dataset_df.index)):\n",
    "    print('-'*25)\n",
    "    print('    <<<  Fold ',i+1, ' >>>')\n",
    "    print('-'*25)\n",
    "    \n",
    "    # default: 0.684 ~ 0.685\n",
    "    xgb_params = {\n",
    "        'objective' : 'binary:logistic',\n",
    "        'eval_metric':'logloss',\n",
    "        'learning_rate': 0.02,\n",
    "        'max_depth': 5,\n",
    "        'n_estimators': 1000,\n",
    "        'early_stopping_rounds': 50,\n",
    "        'tree_method':'hist',\n",
    "        'subsample':0.8,\n",
    "        'colsample_bytree': 0.4,\n",
    "        'use_label_encoder' : False\n",
    "    }\n",
    "\n",
    "    xgb_params_1 = {\n",
    "        'objective' : 'binary:logistic',\n",
    "        'eval_metric':'logloss',\n",
    "        'learning_rate': 0.01,\n",
    "        'max_depth': 5,\n",
    "        'n_estimators': 1000,\n",
    "        'early_stopping_rounds': 50,\n",
    "        'tree_method':'hist',\n",
    "        'subsample':0.5,\n",
    "        'colsample_bytree': 1,\n",
    "        'use_label_encoder' : False,\n",
    "        \n",
    "        ### Parameters Tuning.. \n",
    "        'gamma': 5,\n",
    "        'min_child_weight': 8,\n",
    "        'colsample_bytree': 0.5\n",
    "    }\n",
    "    \n",
    "    xgb_params_test = {\n",
    "        'objective' : 'binary:logistic',\n",
    "        'eval_metric':'logloss',\n",
    "        'learning_rate': 0.1,\n",
    "        'max_depth': 7,\n",
    "        'n_estimators': 1000,\n",
    "        'early_stopping_rounds': 50,\n",
    "        'tree_method':'hist',\n",
    "        'subsample':0.7,\n",
    "        'colsample_bytree': 0.7,\n",
    "        'use_label_encoder' : False,\n",
    "                \n",
    "        ### Parameters Tuning.. \n",
    "        'random_state': 2,\n",
    "        'gamma': 5,\n",
    "        'min_child_weight': 1,\n",
    "        'colsample_bytree': 0.5\n",
    "    }\n",
    "    \n",
    "    for q_no in range(1,19):\n",
    "\n",
    "        # Select level group for the question based on the q_no.\n",
    "        if q_no<=3: grp = '0-4'\n",
    "        elif q_no<=13: grp = '5-12'\n",
    "        elif q_no<=22: grp = '13-22'\n",
    "\n",
    "\n",
    "        # TRAIN DATA\n",
    "        train_x = dataset_df.iloc[train_index]\n",
    "        train_x = train_x.loc[train_x.level_group == grp]\n",
    "#         train_users = train_x.index.values\n",
    "        train_users = train_x['session_id'].values\n",
    "\n",
    "\n",
    "        train_y = labels.loc[labels.q==q_no].set_index('session').loc[train_users]\n",
    "        \n",
    "        # VALID DATA\n",
    "        valid_x = dataset_df.iloc[test_index]\n",
    "        valid_x = valid_x.loc[valid_x.level_group == grp]\n",
    "#         valid_users = valid_x.index.values\n",
    "        valid_users = valid_x['session_id'].values\n",
    "\n",
    "        valid_y = labels.loc[labels.q==q_no].set_index('session').loc[valid_users]\n",
    "\n",
    "        # We will now create the Gradient Boosted Trees Model with default settings. \n",
    "        # By default the model is set to train for a classification task.\n",
    "        xgb = XGBClassifier(**xgb_params_test)\n",
    "        xgb.fit(train_x[FEATURES].astype('float32'), train_y['correct'],\n",
    "                eval_set=[ (valid_x[FEATURES].astype('float32'), valid_y['correct']) ],\n",
    "                verbose=0)\n",
    "        print(f'{q_no}({xgb.best_ntree_limit}), ',end='')\n",
    "        \n",
    "        # SAVE MODEL, PREDICT VALID OOF\n",
    "        models[f'{grp}_{q_no}'] = xgb\n",
    "        oof.loc[valid_users, q_no-1] = xgb.predict_proba(valid_x[FEATURES].astype('float32'))[:,1]  \n",
    "    print()"
   ]
  },
  {
   "cell_type": "code",
   "execution_count": 18,
   "id": "fa30563b",
   "metadata": {
    "execution": {
     "iopub.execute_input": "2023-06-01T00:53:44.770259Z",
     "iopub.status.busy": "2023-06-01T00:53:44.769779Z",
     "iopub.status.idle": "2023-06-01T00:53:45.581218Z",
     "shell.execute_reply": "2023-06-01T00:53:45.580066Z"
    },
    "papermill": {
     "duration": 0.835897,
     "end_time": "2023-06-01T00:53:45.584253",
     "exception": false,
     "start_time": "2023-06-01T00:53:44.748356",
     "status": "completed"
    },
    "tags": []
   },
   "outputs": [
    {
     "data": {
      "text/plain": [
       "<AxesSubplot:title={'center':'Feature importance'}, xlabel='F score', ylabel='Features'>"
      ]
     },
     "execution_count": 18,
     "metadata": {},
     "output_type": "execute_result"
    },
    {
     "data": {
      "image/png": "[encoded data removed]",
      "text/plain": [
       "<Figure size 640x480 with 1 Axes>"
      ]
     },
     "metadata": {},
     "output_type": "display_data"
    }
   ],
   "source": [
    "from xgboost import plot_importance\n",
    "\n",
    "fig, ax = plt.subplots()\n",
    "plot_importance(xgb, ax=ax)"
   ]
  },
  {
   "cell_type": "code",
   "execution_count": 19,
   "id": "5d44ca53",
   "metadata": {
    "execution": {
     "iopub.execute_input": "2023-06-01T00:53:45.630416Z",
     "iopub.status.busy": "2023-06-01T00:53:45.629369Z",
     "iopub.status.idle": "2023-06-01T00:53:45.797147Z",
     "shell.execute_reply": "2023-06-01T00:53:45.795947Z"
    },
    "papermill": {
     "duration": 0.19396,
     "end_time": "2023-06-01T00:53:45.800059",
     "exception": false,
     "start_time": "2023-06-01T00:53:45.606099",
     "status": "completed"
    },
    "tags": []
   },
   "outputs": [],
   "source": [
    "true = oof.copy()\n",
    "for k in range(18):\n",
    "    # GET TRUE LABELS\n",
    "    tmp = labels.loc[labels.q == k+1].set_index('session').loc[ALL_USERS]\n",
    "    true[k] = tmp.correct.values"
   ]
  },
  {
   "cell_type": "code",
   "execution_count": 20,
   "id": "a0d0d4fc",
   "metadata": {
    "execution": {
     "iopub.execute_input": "2023-06-01T00:53:45.845240Z",
     "iopub.status.busy": "2023-06-01T00:53:45.844308Z",
     "iopub.status.idle": "2023-06-01T00:53:53.097499Z",
     "shell.execute_reply": "2023-06-01T00:53:53.096039Z"
    },
    "papermill": {
     "duration": 7.279177,
     "end_time": "2023-06-01T00:53:53.100359",
     "exception": false,
     "start_time": "2023-06-01T00:53:45.821182",
     "status": "completed"
    },
    "tags": []
   },
   "outputs": [
    {
     "name": "stdout",
     "output_type": "stream",
     "text": [
      "0.40, 0.41, 0.42, 0.43, 0.44, 0.45, 0.46, 0.47, 0.48, 0.49, 0.50, 0.51, 0.52, 0.53, 0.54, 0.55, 0.56, 0.57, 0.58, 0.59, 0.60, 0.61, 0.62, 0.63, 0.64, 0.65, 0.66, 0.67, 0.68, 0.69, 0.70, 0.71, 0.72, 0.73, 0.74, 0.75, 0.76, 0.77, 0.78, 0.79, 0.80, "
     ]
    }
   ],
   "source": [
    "# FIND BEST THRESHOLD TO CONVERT PROBS INTO 1s AND 0s\n",
    "scores = []; thresholds = []\n",
    "best_score = 0; best_threshold = 0\n",
    "\n",
    "for threshold in np.arange(0.4,0.81,0.01):\n",
    "    print(f'{threshold:.02f}, ',end='')\n",
    "    preds = (oof.values.reshape((-1))>threshold).astype('int')\n",
    "    m = f1_score(true.values.reshape((-1)), preds, average='macro')   \n",
    "    scores.append(m)\n",
    "    thresholds.append(threshold)\n",
    "    if m>best_score:\n",
    "        best_score = m\n",
    "        best_threshold = threshold"
   ]
  },
  {
   "cell_type": "code",
   "execution_count": 21,
   "id": "b5a06da8",
   "metadata": {
    "execution": {
     "iopub.execute_input": "2023-06-01T00:53:53.150805Z",
     "iopub.status.busy": "2023-06-01T00:53:53.149671Z",
     "iopub.status.idle": "2023-06-01T00:53:53.513229Z",
     "shell.execute_reply": "2023-06-01T00:53:53.512020Z"
    },
    "papermill": {
     "duration": 0.391792,
     "end_time": "2023-06-01T00:53:53.516180",
     "exception": false,
     "start_time": "2023-06-01T00:53:53.124388",
     "status": "completed"
    },
    "tags": []
   },
   "outputs": [
    {
     "name": "stdout",
     "output_type": "stream",
     "text": [
      "Q0: F1 = 0.6126173643122067\n",
      "Q1: F1 = 0.49654118284553705\n",
      "Q2: F1 = 0.49059145038980145\n",
      "Q3: F1 = 0.607761305998608\n",
      "Q4: F1 = 0.5596763974586314\n",
      "Q5: F1 = 0.6008112077050709\n",
      "Q6: F1 = 0.5801079640539505\n",
      "Q7: F1 = 0.5226210836917788\n",
      "Q8: F1 = 0.5938312756049715\n",
      "Q9: F1 = 0.4832562915815136\n",
      "Q10: F1 = 0.5809551099240831\n",
      "Q11: F1 = 0.4897559543883049\n",
      "Q12: F1 = 0.4329638506084018\n",
      "Q13: F1 = 0.5909145973248302\n",
      "Q14: F1 = 0.4648979016692207\n",
      "Q15: F1 = 0.4886457054987019\n",
      "Q16: F1 = 0.5357445098237812\n",
      "Q17: F1 = 0.4872364039955605\n",
      "==> Overall F1 = 0.6728731561532453\n"
     ]
    }
   ],
   "source": [
    "for k in range(18):\n",
    "        \n",
    "    # COMPUTE F1 SCORE PER QUESTION\n",
    "    m = f1_score(true[k].values, (oof[k].values>best_threshold).astype('int'), average='macro')\n",
    "    print(f'Q{k}: F1 =',m)\n",
    "    \n",
    "# COMPUTE F1 SCORE OVERALL\n",
    "m = f1_score(true.values.reshape((-1)), (oof.values.reshape((-1))>best_threshold).astype('int'), average='macro')\n",
    "print('==> Overall F1 =',m)"
   ]
  },
  {
   "cell_type": "code",
   "execution_count": 22,
   "id": "590007d9",
   "metadata": {
    "execution": {
     "iopub.execute_input": "2023-06-01T00:53:53.567034Z",
     "iopub.status.busy": "2023-06-01T00:53:53.566078Z",
     "iopub.status.idle": "2023-06-01T00:53:53.572460Z",
     "shell.execute_reply": "2023-06-01T00:53:53.570879Z"
    },
    "papermill": {
     "duration": 0.035973,
     "end_time": "2023-06-01T00:53:53.575549",
     "exception": false,
     "start_time": "2023-06-01T00:53:53.539576",
     "status": "completed"
    },
    "tags": []
   },
   "outputs": [],
   "source": [
    "# # Reference\n",
    "# # https://www.kaggle.com/code/philculliton/basic-submission-demo\n",
    "# # https://www.kaggle.com/code/cdeotte/random-forest-baseline-0-664/notebook\n",
    "\n",
    "# import jo_wilder\n",
    "# env = jo_wilder.make_env()\n",
    "# iter_test = env.iter_test()\n",
    "\n",
    "# limits = {'0-4':(1,4), '5-12':(4,14), '13-22':(14,19)}\n",
    "\n",
    "# for (test, sample_submission) in iter_test:\n",
    "#     # FEATURE ENGINEER TEST DATA\n",
    "#     df = feature_engineer(test)\n",
    "#     # INFER TEST DATA\n",
    "#     grp = test.level_group.values[0]\n",
    "#     a,b = limits[grp]\n",
    "#     for t in range(a,b):\n",
    "#         xgb = models[f'{grp}_{t}']\n",
    "#         p = xgb.predict_proba(df[FEATURES].astype('float32'))[0,1]\n",
    "#         mask = sample_submission.session_id.str.contains(f'q{t}')\n",
    "#         sample_submission.loc[mask,'correct'] = int( p > best_threshold )\n",
    "    \n",
    "#     env.predict(sample_submission)"
   ]
  },
  {
   "cell_type": "code",
   "execution_count": 23,
   "id": "73e7c449",
   "metadata": {
    "execution": {
     "iopub.execute_input": "2023-06-01T00:53:53.626603Z",
     "iopub.status.busy": "2023-06-01T00:53:53.625663Z",
     "iopub.status.idle": "2023-06-01T00:53:54.864682Z",
     "shell.execute_reply": "2023-06-01T00:53:54.863337Z"
    },
    "papermill": {
     "duration": 1.268599,
     "end_time": "2023-06-01T00:53:54.868069",
     "exception": false,
     "start_time": "2023-06-01T00:53:53.599470",
     "status": "completed"
    },
    "tags": []
   },
   "outputs": [
    {
     "name": "stdout",
     "output_type": "stream",
     "text": [
      "This version of the API is not optimized and should not be used to estimate the runtime of your code on the hidden test set.\n"
     ]
    }
   ],
   "source": [
    "import jo_wilder\n",
    "env = jo_wilder.make_env()\n",
    "iter_test = env.iter_test()\n",
    "\n",
    "limits = {'0-4':(1,4), '5-12':(4,14), '13-22':(14,19)}\n",
    "\n",
    "for (test, sample_submission) in iter_test:\n",
    "    # FEATURE ENGINEER TEST DATA\n",
    "    test_data = feature_engineer(test)\n",
    "    #test\n",
    "    test_session_id = test_data.index\n",
    "    test_session_df = pd.DataFrame(test_session_id)\n",
    "    test_session_df.name = 'session_id'\n",
    "    \n",
    "    test_data_for_pca = test_data.drop(['level_group'], axis=1)\n",
    "    pca_test_result = pca.transform(test_data_for_pca)\n",
    "    pca_test_df = pd.DataFrame(pca_test_result)\n",
    "    \n",
    "    test_data.reset_index(drop=True, inplace=True) \n",
    "    test_data = pd.concat([test_session_df,test_data[['level_group']],pca_test_df], axis=1)\n",
    "    #test\n",
    "    # INFER TEST DATA\n",
    "    grp = test.level_group.values[0]\n",
    "    a,b = limits[grp]\n",
    "    for t in range(a,b):\n",
    "        xgb = models[f'{grp}_{t}']\n",
    "        p = xgb.predict_proba(test_data[FEATURES].astype('float32'))[0,1]\n",
    "        mask = sample_submission.session_id.str.contains(f'q{t}')\n",
    "        sample_submission.loc[mask,'correct'] = int( p > best_threshold )\n",
    "    \n",
    "    env.predict(sample_submission)"
   ]
  },
  {
   "cell_type": "code",
   "execution_count": null,
   "id": "edf8fd92",
   "metadata": {
    "papermill": {
     "duration": 0.022095,
     "end_time": "2023-06-01T00:53:54.913192",
     "exception": false,
     "start_time": "2023-06-01T00:53:54.891097",
     "status": "completed"
    },
    "tags": []
   },
   "outputs": [],
   "source": []
  },
  {
   "cell_type": "code",
   "execution_count": null,
   "id": "3a6c0610",
   "metadata": {
    "papermill": {
     "duration": 0.022498,
     "end_time": "2023-06-01T00:53:54.958316",
     "exception": false,
     "start_time": "2023-06-01T00:53:54.935818",
     "status": "completed"
    },
    "tags": []
   },
   "outputs": [],
   "source": []
  }
 ],
 "metadata": {
  "kernelspec": {
   "display_name": "Python 3",
   "language": "python",
   "name": "python3"
  },
  "language_info": {
   "codemirror_mode": {
    "name": "ipython",
    "version": 3
   },
   "file_extension": ".py",
   "mimetype": "text/x-python",
   "name": "python",
   "nbconvert_exporter": "python",
   "pygments_lexer": "ipython3",
   "version": "3.7.12"
  },
  "papermill": {
   "default_parameters": {},
   "duration": 364.764129,
   "end_time": "2023-06-01T00:53:56.309817",
   "environment_variables": {},
   "exception": null,
   "input_path": "__notebook__.ipynb",
   "output_path": "__notebook__.ipynb",
   "parameters": {},
   "start_time": "2023-06-01T00:47:51.545688",
   "version": "2.4.0"
  }
 },
 "nbformat": 4,
 "nbformat_minor": 5
}
