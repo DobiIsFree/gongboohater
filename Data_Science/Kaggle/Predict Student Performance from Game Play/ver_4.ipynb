{
 "cells": [
  {
   "cell_type": "markdown",
   "id": "2365958d",
   "metadata": {
    "_cell_guid": "3065ea28-3415-46ef-8ec2-672826f1896a",
    "_uuid": "1b633216-f642-426b-a442-36227e786485",
    "id": "iCTA6kl3n2O1",
    "papermill": {
     "duration": 0.011635,
     "end_time": "2023-05-16T13:00:10.037054",
     "exception": false,
     "start_time": "2023-05-16T13:00:10.025419",
     "status": "completed"
    },
    "tags": []
   },
   "source": [
    "# Student Performance from Game Play Using TensorFlow Decision Forests"
   ]
  },
  {
   "cell_type": "markdown",
   "id": "cedd819c",
   "metadata": {
    "_cell_guid": "f5f126e7-a6c7-4d10-9453-02803d77fdec",
    "_uuid": "48949e80-ac79-459e-b078-1258b02a6d19",
    "id": "zAXHC6-Tn2O5",
    "papermill": {
     "duration": 0.009426,
     "end_time": "2023-05-16T13:00:10.056170",
     "exception": false,
     "start_time": "2023-05-16T13:00:10.046744",
     "status": "completed"
    },
    "tags": []
   },
   "source": [
    "## Import the Required Libraries"
   ]
  },
  {
   "cell_type": "code",
   "execution_count": 1,
   "id": "74a8bfaf",
   "metadata": {
    "_cell_guid": "d9edea55-e22d-47eb-9e89-f41baf355a90",
    "_uuid": "b8016303-112b-4ba5-b173-8f7fafdd3fbc",
    "collapsed": false,
    "execution": {
     "iopub.execute_input": "2023-05-16T13:00:10.077381Z",
     "iopub.status.busy": "2023-05-16T13:00:10.076558Z",
     "iopub.status.idle": "2023-05-16T13:00:21.081372Z",
     "shell.execute_reply": "2023-05-16T13:00:21.079986Z"
    },
    "id": "IanlX-Eqn2O5",
    "jupyter": {
     "outputs_hidden": false
    },
    "papermill": {
     "duration": 11.019489,
     "end_time": "2023-05-16T13:00:21.085138",
     "exception": false,
     "start_time": "2023-05-16T13:00:10.065649",
     "status": "completed"
    },
    "tags": []
   },
   "outputs": [],
   "source": [
    "import tensorflow as tf\n",
    "import tensorflow_addons as tfa\n",
    "import tensorflow_decision_forests as tfdf\n",
    "\n",
    "import pandas as pd\n",
    "import numpy as np\n",
    "import matplotlib.pyplot as plt\n",
    "\n",
    "from xgboost import XGBClassifier\n",
    "from sklearn.model_selection import KFold, GroupKFold\n",
    "from sklearn.metrics import f1_score"
   ]
  },
  {
   "cell_type": "markdown",
   "id": "7d0e2def",
   "metadata": {
    "_cell_guid": "5be263dd-cf1e-4887-b94b-caeeea6a4aa8",
    "_uuid": "2697b3d5-0f16-4f5e-aa80-76ad489e86ae",
    "id": "22DpLVFLn2O7",
    "papermill": {
     "duration": 0.009192,
     "end_time": "2023-05-16T13:00:21.104387",
     "exception": false,
     "start_time": "2023-05-16T13:00:21.095195",
     "status": "completed"
    },
    "tags": []
   },
   "source": [
    "## Load the Dataset"
   ]
  },
  {
   "cell_type": "code",
   "execution_count": 2,
   "id": "42460db9",
   "metadata": {
    "_cell_guid": "144dcbf9-be59-440c-b31a-8216f58528cb",
    "_uuid": "0cd23222-c6e1-47b2-8149-4834fa47f2e4",
    "collapsed": false,
    "execution": {
     "iopub.execute_input": "2023-05-16T13:00:21.126562Z",
     "iopub.status.busy": "2023-05-16T13:00:21.125220Z",
     "iopub.status.idle": "2023-05-16T13:02:14.454480Z",
     "shell.execute_reply": "2023-05-16T13:02:14.445979Z"
    },
    "id": "_XItl24kn2O7",
    "jupyter": {
     "outputs_hidden": false
    },
    "papermill": {
     "duration": 113.357779,
     "end_time": "2023-05-16T13:02:14.471732",
     "exception": false,
     "start_time": "2023-05-16T13:00:21.113953",
     "status": "completed"
    },
    "tags": []
   },
   "outputs": [],
   "source": [
    "# Reference: https://www.kaggle.com/competitions/predict-student-performance-from-game-play/discussion/384359\n",
    "dtypes={\n",
    "    'elapsed_time':np.int32,\n",
    "    'event_name':'category',\n",
    "    'name':'category',\n",
    "    'level':np.uint8,\n",
    "    'room_coor_x':np.float32,\n",
    "    'room_coor_y':np.float32,\n",
    "    'screen_coor_x':np.float32,\n",
    "    'screen_coor_y':np.float32,\n",
    "    'hover_duration':np.float32,\n",
    "    'text':'category',\n",
    "    'fqid':'category',\n",
    "    'room_fqid':'category',\n",
    "    'text_fqid':'category',\n",
    "    'fullscreen':'category',\n",
    "    'hq':'category',\n",
    "    'music':'category',\n",
    "    'level_group':'category'}\n",
    "\n",
    "dataset_df = pd.read_csv('/kaggle/input/predict-student-performance-from-game-play/train.csv', dtype=dtypes)"
   ]
  },
  {
   "cell_type": "code",
   "execution_count": 3,
   "id": "d9bd11f1",
   "metadata": {
    "execution": {
     "iopub.execute_input": "2023-05-16T13:02:14.511830Z",
     "iopub.status.busy": "2023-05-16T13:02:14.510834Z",
     "iopub.status.idle": "2023-05-16T13:02:14.721993Z",
     "shell.execute_reply": "2023-05-16T13:02:14.720945Z"
    },
    "papermill": {
     "duration": 0.238113,
     "end_time": "2023-05-16T13:02:14.731959",
     "exception": false,
     "start_time": "2023-05-16T13:02:14.493846",
     "status": "completed"
    },
    "tags": []
   },
   "outputs": [
    {
     "data": {
      "text/plain": [
       "navigate_click        11326433\n",
       "person_click           6052853\n",
       "cutscene_click         2703035\n",
       "object_click           2198211\n",
       "object_hover           1057085\n",
       "map_hover               945159\n",
       "notification_click      649001\n",
       "notebook_click          564544\n",
       "map_click               517242\n",
       "observation_click       212355\n",
       "checkpoint               71028\n",
       "Name: event_name, dtype: int64"
      ]
     },
     "execution_count": 3,
     "metadata": {},
     "output_type": "execute_result"
    }
   ],
   "source": [
    "dataset_df.event_name.value_counts()"
   ]
  },
  {
   "cell_type": "markdown",
   "id": "fd9b85a2",
   "metadata": {
    "_cell_guid": "c65e1dff-67b0-4bb6-9b97-b6418d4173c7",
    "_uuid": "3df6b5f5-7744-40f9-bec5-bb45b9238387",
    "id": "ReNY-i3bn2O8",
    "papermill": {
     "duration": 0.011567,
     "end_time": "2023-05-16T13:02:14.759881",
     "exception": false,
     "start_time": "2023-05-16T13:02:14.748314",
     "status": "completed"
    },
    "tags": []
   },
   "source": [
    "## Load the labels"
   ]
  },
  {
   "cell_type": "code",
   "execution_count": 4,
   "id": "0b55c159",
   "metadata": {
    "_cell_guid": "bc6c67b2-3be1-4595-bc75-a10a50ba30d3",
    "_uuid": "e71600d9-2043-4209-8373-cf254354b3f2",
    "collapsed": false,
    "execution": {
     "iopub.execute_input": "2023-05-16T13:02:14.785232Z",
     "iopub.status.busy": "2023-05-16T13:02:14.784390Z",
     "iopub.status.idle": "2023-05-16T13:02:15.323164Z",
     "shell.execute_reply": "2023-05-16T13:02:15.321810Z"
    },
    "id": "KD4uayl2n2O9",
    "jupyter": {
     "outputs_hidden": false
    },
    "papermill": {
     "duration": 0.555153,
     "end_time": "2023-05-16T13:02:15.326556",
     "exception": false,
     "start_time": "2023-05-16T13:02:14.771403",
     "status": "completed"
    },
    "tags": []
   },
   "outputs": [],
   "source": [
    "labels = pd.read_csv('/kaggle/input/predict-student-performance-from-game-play/train_labels.csv')"
   ]
  },
  {
   "cell_type": "code",
   "execution_count": 5,
   "id": "44e799fc",
   "metadata": {
    "_cell_guid": "24c78d16-6a6a-4409-b1c3-5f1d84c0a9ac",
    "_uuid": "afd665e4-8c5e-4a6a-9c96-2c8676f97c88",
    "collapsed": false,
    "execution": {
     "iopub.execute_input": "2023-05-16T13:02:15.351238Z",
     "iopub.status.busy": "2023-05-16T13:02:15.350509Z",
     "iopub.status.idle": "2023-05-16T13:02:16.119813Z",
     "shell.execute_reply": "2023-05-16T13:02:16.118749Z"
    },
    "id": "Kva8_Dbqn2O9",
    "jupyter": {
     "outputs_hidden": false
    },
    "papermill": {
     "duration": 0.785546,
     "end_time": "2023-05-16T13:02:16.123278",
     "exception": false,
     "start_time": "2023-05-16T13:02:15.337732",
     "status": "completed"
    },
    "tags": []
   },
   "outputs": [],
   "source": [
    "labels['session'] = labels.session_id.apply(lambda x: int(x.split('_')[0]) )\n",
    "labels['q'] = labels.session_id.apply(lambda x: int(x.split('_')[-1][1:]) )"
   ]
  },
  {
   "cell_type": "markdown",
   "id": "549c22ce",
   "metadata": {
    "_cell_guid": "485073af-b103-48c0-8e8c-60c28ddc00fc",
    "_uuid": "d4215f16-78de-4f14-b9f3-b596b03f8433",
    "id": "y5fK05dsn2O_",
    "papermill": {
     "duration": 0.011129,
     "end_time": "2023-05-16T13:02:16.146072",
     "exception": false,
     "start_time": "2023-05-16T13:02:16.134943",
     "status": "completed"
    },
    "tags": []
   },
   "source": [
    "# Prepare the dataset"
   ]
  },
  {
   "cell_type": "code",
   "execution_count": 6,
   "id": "95860e80",
   "metadata": {
    "_cell_guid": "9527a410-8159-421f-9ad6-f3c712fc7d87",
    "_uuid": "886d16af-f0f1-4c68-8e15-9802bd417f6e",
    "collapsed": false,
    "execution": {
     "iopub.execute_input": "2023-05-16T13:02:16.172869Z",
     "iopub.status.busy": "2023-05-16T13:02:16.172359Z",
     "iopub.status.idle": "2023-05-16T13:02:16.179654Z",
     "shell.execute_reply": "2023-05-16T13:02:16.178324Z"
    },
    "id": "cCZWGiL_n2PA",
    "jupyter": {
     "outputs_hidden": false
    },
    "papermill": {
     "duration": 0.024446,
     "end_time": "2023-05-16T13:02:16.182795",
     "exception": false,
     "start_time": "2023-05-16T13:02:16.158349",
     "status": "completed"
    },
    "tags": []
   },
   "outputs": [],
   "source": [
    "CATEGORICAL = ['event_name', 'name','fqid', 'room_fqid', 'text_fqid']\n",
    "NUMERICAL = ['elapsed_time','level','page','room_coor_x', 'room_coor_y', \n",
    "        'screen_coor_x', 'screen_coor_y', 'hover_duration']\n",
    "# EVENTS = dataset_df['event_name'].unique()"
   ]
  },
  {
   "cell_type": "code",
   "execution_count": 7,
   "id": "081f5e74",
   "metadata": {
    "_cell_guid": "296382db-98ff-4d66-83e7-6427b3d5ed34",
    "_uuid": "103d6961-f8a3-4f7e-aa15-6e5734724fea",
    "collapsed": false,
    "execution": {
     "iopub.execute_input": "2023-05-16T13:02:16.209204Z",
     "iopub.status.busy": "2023-05-16T13:02:16.208711Z",
     "iopub.status.idle": "2023-05-16T13:02:16.218778Z",
     "shell.execute_reply": "2023-05-16T13:02:16.217420Z"
    },
    "id": "nHWhAOtTn2PA",
    "jupyter": {
     "outputs_hidden": false
    },
    "papermill": {
     "duration": 0.028232,
     "end_time": "2023-05-16T13:02:16.222884",
     "exception": false,
     "start_time": "2023-05-16T13:02:16.194652",
     "status": "completed"
    },
    "tags": []
   },
   "outputs": [],
   "source": [
    "# Reference: https://www.kaggle.com/code/cdeotte/random-forest-baseline-0-664/notebook\n",
    "\n",
    "def feature_engineer(dataset_df):\n",
    "    dfs = []\n",
    "    for c in CATEGORICAL:\n",
    "        tmp = dataset_df.groupby(['session_id','level_group'])[c].agg('nunique')\n",
    "        tmp.name = tmp.name + '_nunique'\n",
    "        dfs.append(tmp)\n",
    "    for c in NUMERICAL:\n",
    "        tmp = dataset_df.groupby(['session_id','level_group'])[c].agg('mean')\n",
    "        dfs.append(tmp)\n",
    "    for c in NUMERICAL:\n",
    "        tmp = dataset_df.groupby(['session_id','level_group'])[c].agg('std')\n",
    "        tmp.name = tmp.name + '_std'\n",
    "        dfs.append(tmp)\n",
    "#     for c in EVENTS: \n",
    "#         dataset_df[c] = (dataset_df.event_name == c).astype('int8')\n",
    "#     for c in EVENTS:\n",
    "#         tmp = dataset_df[dataset_df[c] == 1].groupby(['session_id', 'level_group'])['elapsed_time_diff'].agg('mean')\n",
    "#         tmp.name = c + '_time_average'\n",
    "#         dfs.append(tmp)\n",
    "    dataset_df = pd.concat(dfs,axis=1)\n",
    "    dataset_df = dataset_df.fillna(-1)\n",
    "    dataset_df = dataset_df.reset_index()\n",
    "    dataset_df = dataset_df.set_index('session_id')\n",
    "    return dataset_df"
   ]
  },
  {
   "cell_type": "code",
   "execution_count": 8,
   "id": "83d5a1ae",
   "metadata": {
    "_cell_guid": "45bc9dc9-3989-4ca7-98e4-d3afd460c63a",
    "_uuid": "01d021ca-a49b-4590-bf62-b43336a1ed3b",
    "collapsed": false,
    "execution": {
     "iopub.execute_input": "2023-05-16T13:02:16.245285Z",
     "iopub.status.busy": "2023-05-16T13:02:16.244878Z",
     "iopub.status.idle": "2023-05-16T13:02:59.349728Z",
     "shell.execute_reply": "2023-05-16T13:02:59.348492Z"
    },
    "id": "JKcoPoemn2PA",
    "jupyter": {
     "outputs_hidden": false
    },
    "papermill": {
     "duration": 43.128251,
     "end_time": "2023-05-16T13:02:59.362154",
     "exception": false,
     "start_time": "2023-05-16T13:02:16.233903",
     "status": "completed"
    },
    "tags": []
   },
   "outputs": [
    {
     "name": "stdout",
     "output_type": "stream",
     "text": [
      "Full prepared dataset shape is (70686, 22)\n"
     ]
    }
   ],
   "source": [
    "dataset_df = feature_engineer(dataset_df)\n",
    "print(\"Full prepared dataset shape is {}\".format(dataset_df.shape))\n",
    "#print(dataset_df)"
   ]
  },
  {
   "cell_type": "markdown",
   "id": "1bd39d66",
   "metadata": {
    "_cell_guid": "b056bb2b-a5f5-4a8f-a04b-f8a88e8a4a12",
    "_uuid": "045236c2-9366-4a08-8e9a-ca6c03e22831",
    "id": "891j7nc1n2PA",
    "papermill": {
     "duration": 0.009355,
     "end_time": "2023-05-16T13:02:59.381247",
     "exception": false,
     "start_time": "2023-05-16T13:02:59.371892",
     "status": "completed"
    },
    "tags": []
   },
   "source": [
    "Our feature engineered dataset is composed of 22 columns and 70686 entries."
   ]
  },
  {
   "cell_type": "code",
   "execution_count": 9,
   "id": "0fae5d96",
   "metadata": {
    "execution": {
     "iopub.execute_input": "2023-05-16T13:02:59.403532Z",
     "iopub.status.busy": "2023-05-16T13:02:59.402720Z",
     "iopub.status.idle": "2023-05-16T13:02:59.416602Z",
     "shell.execute_reply": "2023-05-16T13:02:59.415397Z"
    },
    "papermill": {
     "duration": 0.028658,
     "end_time": "2023-05-16T13:02:59.419722",
     "exception": false,
     "start_time": "2023-05-16T13:02:59.391064",
     "status": "completed"
    },
    "tags": []
   },
   "outputs": [],
   "source": [
    "# Group k Fold split data\n",
    "FEATURES = [c for c in dataset_df.columns if c != 'level_group']\n",
    "ALL_USERS = dataset_df.index.unique()\n",
    "\n",
    "gkf = GroupKFold(n_splits=5)\n",
    "oof = pd.DataFrame(data=np.zeros((len(ALL_USERS),18)), index=ALL_USERS)\n",
    "model = {}\n",
    "evaluation_dict ={}\n",
    "\n",
    "# oof.head()"
   ]
  },
  {
   "cell_type": "code",
   "execution_count": 10,
   "id": "0cbb3d12",
   "metadata": {
    "execution": {
     "iopub.execute_input": "2023-05-16T13:02:59.441944Z",
     "iopub.status.busy": "2023-05-16T13:02:59.441111Z",
     "iopub.status.idle": "2023-05-16T13:02:59.466164Z",
     "shell.execute_reply": "2023-05-16T13:02:59.464875Z"
    },
    "papermill": {
     "duration": 0.03931,
     "end_time": "2023-05-16T13:02:59.469008",
     "exception": false,
     "start_time": "2023-05-16T13:02:59.429698",
     "status": "completed"
    },
    "tags": []
   },
   "outputs": [
    {
     "data": {
      "text/html": [
       "<div>\n",
       "<style scoped>\n",
       "    .dataframe tbody tr th:only-of-type {\n",
       "        vertical-align: middle;\n",
       "    }\n",
       "\n",
       "    .dataframe tbody tr th {\n",
       "        vertical-align: top;\n",
       "    }\n",
       "\n",
       "    .dataframe thead th {\n",
       "        text-align: right;\n",
       "    }\n",
       "</style>\n",
       "<table border=\"1\" class=\"dataframe\">\n",
       "  <thead>\n",
       "    <tr style=\"text-align: right;\">\n",
       "      <th></th>\n",
       "      <th>session_id</th>\n",
       "      <th>correct</th>\n",
       "      <th>session</th>\n",
       "      <th>q</th>\n",
       "    </tr>\n",
       "  </thead>\n",
       "  <tbody>\n",
       "    <tr>\n",
       "      <th>0</th>\n",
       "      <td>20090312431273200_q1</td>\n",
       "      <td>1</td>\n",
       "      <td>20090312431273200</td>\n",
       "      <td>1</td>\n",
       "    </tr>\n",
       "    <tr>\n",
       "      <th>1</th>\n",
       "      <td>20090312433251036_q1</td>\n",
       "      <td>0</td>\n",
       "      <td>20090312433251036</td>\n",
       "      <td>1</td>\n",
       "    </tr>\n",
       "    <tr>\n",
       "      <th>2</th>\n",
       "      <td>20090312455206810_q1</td>\n",
       "      <td>1</td>\n",
       "      <td>20090312455206810</td>\n",
       "      <td>1</td>\n",
       "    </tr>\n",
       "    <tr>\n",
       "      <th>3</th>\n",
       "      <td>20090313091715820_q1</td>\n",
       "      <td>0</td>\n",
       "      <td>20090313091715820</td>\n",
       "      <td>1</td>\n",
       "    </tr>\n",
       "    <tr>\n",
       "      <th>4</th>\n",
       "      <td>20090313571836404_q1</td>\n",
       "      <td>1</td>\n",
       "      <td>20090313571836404</td>\n",
       "      <td>1</td>\n",
       "    </tr>\n",
       "  </tbody>\n",
       "</table>\n",
       "</div>"
      ],
      "text/plain": [
       "             session_id  correct            session  q\n",
       "0  20090312431273200_q1        1  20090312431273200  1\n",
       "1  20090312433251036_q1        0  20090312433251036  1\n",
       "2  20090312455206810_q1        1  20090312455206810  1\n",
       "3  20090313091715820_q1        0  20090313091715820  1\n",
       "4  20090313571836404_q1        1  20090313571836404  1"
      ]
     },
     "execution_count": 10,
     "metadata": {},
     "output_type": "execute_result"
    }
   ],
   "source": [
    "labels.head()"
   ]
  },
  {
   "cell_type": "code",
   "execution_count": 11,
   "id": "eed90621",
   "metadata": {
    "execution": {
     "iopub.execute_input": "2023-05-16T13:02:59.493289Z",
     "iopub.status.busy": "2023-05-16T13:02:59.492244Z",
     "iopub.status.idle": "2023-05-16T13:05:13.741980Z",
     "shell.execute_reply": "2023-05-16T13:05:13.740910Z"
    },
    "papermill": {
     "duration": 134.264928,
     "end_time": "2023-05-16T13:05:13.744706",
     "exception": false,
     "start_time": "2023-05-16T13:02:59.479778",
     "status": "completed"
    },
    "tags": []
   },
   "outputs": [
    {
     "name": "stdout",
     "output_type": "stream",
     "text": [
      "-------------------------\n",
      "--- Fold 1\n",
      "-------------------------\n",
      "1 , 1(175), 2 , 2(100), 3 , 3(144), 4 , 4(211), 5 , 5(163), 6 , 6(128), 7 , 7(81), 8 , 8(67), 9 , 9(239), 10 , 10(166), 11 , 11(62), 12 , 12(125), 13 , 13(114), 14 , 14(243), 15 , 15(269), 16 , 16(65), 17 , 17(60), 18 , 18(103), -------------------------\n",
      "--- Fold 2\n",
      "-------------------------\n",
      "1 , 1(174), 2 , 2(151), 3 , 3(114), 4 , 4(129), 5 , 5(108), 6 , 6(142), 7 , 7(147), 8 , 8(72), 9 , 9(173), 10 , 10(110), 11 , 11(120), 12 , 12(140), 13 , 13(70), 14 , 14(108), 15 , 15(237), 16 , 16(115), 17 , 17(111), 18 , 18(152), -------------------------\n",
      "--- Fold 3\n",
      "-------------------------\n",
      "1 , 1(191), 2 , 2(114), 3 , 3(119), 4 , 4(208), 5 , 5(155), 6 , 6(101), 7 , 7(119), 8 , 8(83), 9 , 9(100), 10 , 10(127), 11 , 11(73), 12 , 12(73), 13 , 13(114), 14 , 14(146), 15 , 15(256), 16 , 16(70), 17 , 17(89), 18 , 18(166), -------------------------\n",
      "--- Fold 4\n",
      "-------------------------\n",
      "1 , 1(186), 2 , 2(103), 3 , 3(107), 4 , 4(190), 5 , 5(115), 6 , 6(94), 7 , 7(139), 8 , 8(78), 9 , 9(123), 10 , 10(67), 11 , 11(83), 12 , 12(79), 13 , 13(219), 14 , 14(213), 15 , 15(281), 16 , 16(74), 17 , 17(80), 18 , 18(132), -------------------------\n",
      "--- Fold 5\n",
      "-------------------------\n",
      "1 , 1(174), 2 , 2(120), 3 , 3(166), 4 , 4(132), 5 , 5(125), 6 , 6(149), 7 , 7(145), 8 , 8(69), 9 , 9(98), 10 , 10(84), 11 , 11(86), 12 , 12(98), 13 , 13(180), 14 , 14(128), 15 , 15(253), 16 , 16(65), 17 , 17(83), 18 , 18(159), \n"
     ]
    }
   ],
   "source": [
    "# Compute CV score with 5 group k fold\n",
    "final_list = []\n",
    "for i, (train_idex, test_index) in enumerate(gkf.split(X= dataset_df, groups=dataset_df.index)): # we already define index (sesion_id) for group to split here.\n",
    "    # Here we know which fold contains which index, then use index to slice data in each fold.\n",
    "    print('-'*25)\n",
    "    print('--- Fold', i+1)\n",
    "    print('-'*25)\n",
    "\n",
    "    xgb_params = {\n",
    "        'objective' : 'binary:logistic',\n",
    "        'eval_metric' : 'logloss',\n",
    "        'learning_rate' : 0.05,\n",
    "        'max_depth' : 4,\n",
    "        'n_estimators' : 1000,\n",
    "        'early_stopping_rounds' : 50,\n",
    "        'tree_method' : 'hist',\n",
    "        'subsample' : 0.8,\n",
    "        'colsample_bytree' : 0.4,\n",
    "        'use_label_encoder' : False\n",
    "    }\n",
    "\n",
    "    # Iterate thru questions 1 thru 18\n",
    "    # Create data set for train each question\n",
    "    for t in range(1,19):\n",
    "        print(t, ',', end= ' ')\n",
    "\n",
    "        # Use this train data with these questions\n",
    "        # clarify each question to assign group for slice data in df\n",
    "        if t<=3: grp = '0-4'\n",
    "        elif t<=13: grp = '5-12'\n",
    "        elif t<=22: grp = '13-22'\n",
    "\n",
    "        # Train data\n",
    "        train_x = dataset_df.iloc[train_idex] # get train from index in each fold\n",
    "        train_x = train_x.loc[train_x.level_group == grp] # get train only each question that match group, slice this again because data in level session_id & level_grop\n",
    "        train_users = train_x.index.values # get all users train in each fold\n",
    "        train_y = labels.loc[labels.q==t].set_index('session').loc[train_users] # get train variable y in each question.\n",
    "        \n",
    "\n",
    "        # Valid data\n",
    "        valid_x = dataset_df.iloc[test_index]\n",
    "        valid_x = valid_x.loc[valid_x.level_group == grp]\n",
    "        valid_users = valid_x.index.values\n",
    "        valid_y = labels.loc[labels.q==t].set_index('session').loc[valid_users]\n",
    "        \n",
    "\n",
    "        # Train Model\n",
    "        # Train XGBosst\n",
    "        clf = XGBClassifier(**xgb_params)\n",
    "        clf.fit(train_x[FEATURES].astype('float32'), train_y['correct'],\n",
    "            eval_set=[(valid_x[FEATURES].astype('float32'), valid_y['correct'].astype('float32'))],\n",
    "            verbose=0\n",
    "        )\n",
    "        print(f'{t}({clf.best_ntree_limit}), ', end='')\n",
    "        \n",
    "\n",
    "        # Save model\n",
    "        model[f'{grp}_{t}'] = clf # Set model name\n",
    "        oof.loc[valid_users, t-1] = clf.predict_proba(valid_x[FEATURES].astype('float32'))[:,1] # Assign predict value to oof table in each question\n",
    "        # above out put is list such as [0.45779951 0.54220049] position 1 (class 0) is 0.45 position 2 (class 1) is 0.54 total is 1\n",
    "        # we use [:, 1] because we predict correct = 1 is class 1 then set to [:, 1] instead of [:, 0]\n",
    "print()"
   ]
  },
  {
   "cell_type": "markdown",
   "id": "bad9a040",
   "metadata": {
    "_cell_guid": "1f2937b8-bae3-437c-8de6-560e1c37a905",
    "_uuid": "42d4108f-0a69-47c7-b707-c615f6410417",
    "id": "Ij7TT3x-n2PB",
    "papermill": {
     "duration": 0.014963,
     "end_time": "2023-05-16T13:05:13.775193",
     "exception": false,
     "start_time": "2023-05-16T13:05:13.760230",
     "status": "completed"
    },
    "tags": []
   },
   "source": [
    "## Prepared dataset"
   ]
  },
  {
   "cell_type": "code",
   "execution_count": 12,
   "id": "69ab0c7a",
   "metadata": {
    "_cell_guid": "29231f51-e49f-458a-b880-f8a51e82c7d9",
    "_uuid": "e169155e-f9bc-414f-a814-78c982e6b46a",
    "collapsed": false,
    "execution": {
     "iopub.execute_input": "2023-05-16T13:05:13.808873Z",
     "iopub.status.busy": "2023-05-16T13:05:13.808052Z",
     "iopub.status.idle": "2023-05-16T13:05:13.868873Z",
     "shell.execute_reply": "2023-05-16T13:05:13.867671Z"
    },
    "id": "OZfTcCJfn2PC",
    "jupyter": {
     "outputs_hidden": false
    },
    "papermill": {
     "duration": 0.080953,
     "end_time": "2023-05-16T13:05:13.871548",
     "exception": false,
     "start_time": "2023-05-16T13:05:13.790595",
     "status": "completed"
    },
    "tags": []
   },
   "outputs": [
    {
     "name": "stdout",
     "output_type": "stream",
     "text": [
      "56547 examples in training, 14139 examples in testing.\n"
     ]
    }
   ],
   "source": [
    "# split the dataset into training and testing datasets\n",
    "\n",
    "def split_dataset(dataset, test_ratio=0.20):\n",
    "    USER_LIST = dataset_df.index.unique()\n",
    "    split = int(len(USER_LIST) * (1 - 0.20))\n",
    "    return dataset.loc[USER_LIST[:split]], dataset.loc[USER_LIST[split:]]\n",
    "\n",
    "train_x, valid_x = split_dataset(dataset_df)\n",
    "print(\"{} examples in training, {} examples in testing.\".format(\n",
    "    len(train_x), len(valid_x)))"
   ]
  },
  {
   "cell_type": "markdown",
   "id": "75073333",
   "metadata": {
    "_cell_guid": "5ccc7b81-2cf5-4828-aafa-02f5004eaa36",
    "_uuid": "653fd608-23cc-4f26-aece-b69315787daa",
    "id": "ZnVfKZfzn2PE",
    "papermill": {
     "duration": 0.015216,
     "end_time": "2023-05-16T13:05:13.902963",
     "exception": false,
     "start_time": "2023-05-16T13:05:13.887747",
     "status": "completed"
    },
    "tags": []
   },
   "source": [
    "## Select a Model\n",
    "\n",
    "- RandomForestModel\n",
    "- GradientBoostedTreesModel\n",
    "- CartModel\n",
    "- DistributedGradientBoostedTreesModel"
   ]
  },
  {
   "cell_type": "code",
   "execution_count": 13,
   "id": "84f90754",
   "metadata": {
    "_cell_guid": "1024bfc0-1b13-4220-8f00-52193199d5c5",
    "_uuid": "7e175861-93bd-4051-ab39-db2451a014a2",
    "collapsed": false,
    "execution": {
     "iopub.execute_input": "2023-05-16T13:05:13.936033Z",
     "iopub.status.busy": "2023-05-16T13:05:13.935197Z",
     "iopub.status.idle": "2023-05-16T13:05:13.942223Z",
     "shell.execute_reply": "2023-05-16T13:05:13.941219Z"
    },
    "id": "KZBdcVU1n2PE",
    "jupyter": {
     "outputs_hidden": false
    },
    "papermill": {
     "duration": 0.026189,
     "end_time": "2023-05-16T13:05:13.944405",
     "exception": false,
     "start_time": "2023-05-16T13:05:13.918216",
     "status": "completed"
    },
    "tags": []
   },
   "outputs": [
    {
     "data": {
      "text/plain": [
       "[tensorflow_decision_forests.keras.RandomForestModel,\n",
       " tensorflow_decision_forests.keras.GradientBoostedTreesModel,\n",
       " tensorflow_decision_forests.keras.CartModel,\n",
       " tensorflow_decision_forests.keras.DistributedGradientBoostedTreesModel]"
      ]
     },
     "execution_count": 13,
     "metadata": {},
     "output_type": "execute_result"
    }
   ],
   "source": [
    "tfdf.keras.get_all_models()"
   ]
  },
  {
   "cell_type": "markdown",
   "id": "ee219f6c",
   "metadata": {
    "_cell_guid": "ed120449-1fd1-4bfe-a823-0829876a63b8",
    "_uuid": "7ebd9427-fccb-4794-9299-7d7ce762dd07",
    "id": "UdibIrM-XP5-",
    "papermill": {
     "duration": 0.015117,
     "end_time": "2023-05-16T13:05:13.975061",
     "exception": false,
     "start_time": "2023-05-16T13:05:13.959944",
     "status": "completed"
    },
    "tags": []
   },
   "source": [
    "# Training"
   ]
  },
  {
   "cell_type": "code",
   "execution_count": 14,
   "id": "acd13823",
   "metadata": {
    "_cell_guid": "5a2a9e7c-8ca4-4bcd-8438-fffe8c05d75f",
    "_uuid": "351d9e6d-e32a-4ae5-a32e-35df52c487f3",
    "collapsed": false,
    "execution": {
     "iopub.execute_input": "2023-05-16T13:05:14.008403Z",
     "iopub.status.busy": "2023-05-16T13:05:14.007556Z",
     "iopub.status.idle": "2023-05-16T13:05:14.014644Z",
     "shell.execute_reply": "2023-05-16T13:05:14.013697Z"
    },
    "id": "7Brds67Wn2PD",
    "jupyter": {
     "outputs_hidden": false
    },
    "papermill": {
     "duration": 0.026718,
     "end_time": "2023-05-16T13:05:14.017187",
     "exception": false,
     "start_time": "2023-05-16T13:05:13.990469",
     "status": "completed"
    },
    "tags": []
   },
   "outputs": [],
   "source": [
    "# Fetch the unique list of user sessions in the validation dataset. We assigned \n",
    "# `session_id` as the index of our feature engineered dataset. Hence fetching \n",
    "# the unique values in the index column will give us a list of users in the \n",
    "# validation set.\n",
    "VALID_USER_LIST = valid_x.index.unique()\n",
    "\n",
    "# Create a dataframe for storing the predictions of each question for all users\n",
    "# in the validation set.\n",
    "# For this, the required size of the data frame is: \n",
    "# (no: of users in validation set  x no of questions).\n",
    "# We will initialize all the predicted values in the data frame to zero.\n",
    "# The dataframe's index column is the user `session_id`s. \n",
    "prediction_df = pd.DataFrame(data=np.zeros((len(VALID_USER_LIST),18)), index=VALID_USER_LIST)\n",
    "\n",
    "# Create an empty dictionary to store the models created for each question.\n",
    "models = {}\n",
    "\n",
    "# Create an empty dictionary to store the evaluation score for each question.\n",
    "evaluation_dict ={}"
   ]
  },
  {
   "cell_type": "code",
   "execution_count": 15,
   "id": "b6e1a250",
   "metadata": {
    "_cell_guid": "ff4a9550-9bc1-4a54-bdf8-ff62361e7492",
    "_uuid": "dfc66f88-1fc4-4726-ac52-b5bd33b2757a",
    "collapsed": false,
    "execution": {
     "iopub.execute_input": "2023-05-16T13:05:14.051582Z",
     "iopub.status.busy": "2023-05-16T13:05:14.050795Z",
     "iopub.status.idle": "2023-05-16T13:08:00.948450Z",
     "shell.execute_reply": "2023-05-16T13:08:00.947208Z"
    },
    "id": "VBO3VCOJn2PF",
    "jupyter": {
     "outputs_hidden": false
    },
    "papermill": {
     "duration": 166.918284,
     "end_time": "2023-05-16T13:08:00.951506",
     "exception": false,
     "start_time": "2023-05-16T13:05:14.033222",
     "status": "completed"
    },
    "tags": []
   },
   "outputs": [
    {
     "name": "stdout",
     "output_type": "stream",
     "text": [
      "### q_no 1 grp 0-4\n"
     ]
    },
    {
     "name": "stderr",
     "output_type": "stream",
     "text": [
      "/opt/conda/lib/python3.7/site-packages/ipykernel_launcher.py:23: SettingWithCopyWarning: \n",
      "A value is trying to be set on a copy of a slice from a DataFrame.\n",
      "Try using .loc[row_indexer,col_indexer] = value instead\n",
      "\n",
      "See the caveats in the documentation: https://pandas.pydata.org/pandas-docs/stable/user_guide/indexing.html#returning-a-view-versus-a-copy\n",
      "/opt/conda/lib/python3.7/site-packages/ipykernel_launcher.py:24: SettingWithCopyWarning: \n",
      "A value is trying to be set on a copy of a slice from a DataFrame.\n",
      "Try using .loc[row_indexer,col_indexer] = value instead\n",
      "\n",
      "See the caveats in the documentation: https://pandas.pydata.org/pandas-docs/stable/user_guide/indexing.html#returning-a-view-versus-a-copy\n"
     ]
    },
    {
     "name": "stdout",
     "output_type": "stream",
     "text": [
      "Use /tmp/tmpdm3agzwm as temporary training directory\n",
      "Reading training dataset...\n",
      "Training dataset read in 0:00:06.868485. Found 18849 examples.\n",
      "Training model...\n"
     ]
    },
    {
     "name": "stderr",
     "output_type": "stream",
     "text": [
      "[INFO 2023-05-16T13:05:26.558051753+00:00 kernel.cc:1214] Loading model from path /tmp/tmpdm3agzwm/model/ with prefix 9f97b9f0ddb54bdc\n"
     ]
    },
    {
     "name": "stdout",
     "output_type": "stream",
     "text": [
      "Model trained in 0:00:05.979862\n",
      "Compiling model...\n"
     ]
    },
    {
     "name": "stderr",
     "output_type": "stream",
     "text": [
      "[INFO 2023-05-16T13:05:27.221497218+00:00 decision_forest.cc:661] Model loaded with 100 root(s), 163502 node(s), and 21 input feature(s).\n",
      "[INFO 2023-05-16T13:05:27.221681817+00:00 abstract_model.cc:1311] Engine \"RandomForestOptPred\" built\n",
      "[INFO 2023-05-16T13:05:27.22259551+00:00 kernel.cc:1046] Use fast generic engine\n"
     ]
    },
    {
     "name": "stdout",
     "output_type": "stream",
     "text": [
      "WARNING: AutoGraph could not transform <function simple_ml_inference_op_with_handle at 0x7806bec64440> and will run it as-is.\n",
      "Please report this to the TensorFlow team. When filing the bug, set the verbosity to 10 (on Linux, `export AUTOGRAPH_VERBOSITY=10`) and attach the full output.\n",
      "Cause: could not get source code\n",
      "To silence this warning, decorate the function with @tf.autograph.experimental.do_not_convert\n",
      "Model compiled.\n",
      "5/5 [==============================] - 1s 18ms/step - loss: 0.0000e+00 - accuracy: 0.7307\n",
      "5/5 [==============================] - 0s 17ms/step\n",
      "### q_no 2 grp 0-4\n",
      "Use /tmp/tmp6ikrecv6 as temporary training directory\n",
      "Reading training dataset...\n",
      "Training dataset read in 0:00:00.625013. Found 18849 examples.\n",
      "Training model...\n",
      "Model trained in 0:00:03.706321\n"
     ]
    },
    {
     "name": "stderr",
     "output_type": "stream",
     "text": [
      "[INFO 2023-05-16T13:05:34.684457132+00:00 kernel.cc:1214] Loading model from path /tmp/tmp6ikrecv6/model/ with prefix a4eb066ad23c48f7\n",
      "[INFO 2023-05-16T13:05:34.868233127+00:00 decision_forest.cc:661] Model loaded with 100 root(s), 50820 node(s), and 21 input feature(s).\n",
      "[INFO 2023-05-16T13:05:34.868479968+00:00 kernel.cc:1046] Use fast generic engine\n"
     ]
    },
    {
     "name": "stdout",
     "output_type": "stream",
     "text": [
      "Compiling model...\n",
      "Model compiled.\n",
      "5/5 [==============================] - 0s 17ms/step - loss: 0.0000e+00 - accuracy: 0.9756\n",
      "5/5 [==============================] - 0s 14ms/step\n",
      "### q_no 3 grp 0-4\n",
      "Use /tmp/tmpt2a1wb6o as temporary training directory\n",
      "Reading training dataset...\n",
      "Training dataset read in 0:00:00.631135. Found 18849 examples.\n",
      "Training model...\n"
     ]
    },
    {
     "name": "stderr",
     "output_type": "stream",
     "text": [
      "[INFO 2023-05-16T13:05:41.480314309+00:00 kernel.cc:1214] Loading model from path /tmp/tmpt2a1wb6o/model/ with prefix b010f4d10b804e01\n"
     ]
    },
    {
     "name": "stdout",
     "output_type": "stream",
     "text": [
      "Model trained in 0:00:04.688807\n",
      "Compiling model...\n"
     ]
    },
    {
     "name": "stderr",
     "output_type": "stream",
     "text": [
      "[INFO 2023-05-16T13:05:41.836430754+00:00 decision_forest.cc:661] Model loaded with 100 root(s), 96322 node(s), and 21 input feature(s).\n",
      "[INFO 2023-05-16T13:05:41.836713424+00:00 abstract_model.cc:1311] Engine \"RandomForestOptPred\" built\n",
      "[INFO 2023-05-16T13:05:41.836762673+00:00 kernel.cc:1046] Use fast generic engine\n"
     ]
    },
    {
     "name": "stdout",
     "output_type": "stream",
     "text": [
      "Model compiled.\n",
      "5/5 [==============================] - 0s 19ms/step - loss: 0.0000e+00 - accuracy: 0.9351\n",
      "5/5 [==============================] - 0s 17ms/step\n",
      "### q_no 4 grp 5-12\n",
      "Use /tmp/tmp820sr6q1 as temporary training directory\n",
      "Reading training dataset...\n",
      "Training dataset read in 0:00:00.682603. Found 18849 examples.\n",
      "Training model...\n"
     ]
    },
    {
     "name": "stderr",
     "output_type": "stream",
     "text": [
      "[INFO 2023-05-16T13:05:53.625043252+00:00 kernel.cc:1214] Loading model from path /tmp/tmp820sr6q1/model/ with prefix 8d97965fb01448fe\n"
     ]
    },
    {
     "name": "stdout",
     "output_type": "stream",
     "text": [
      "Model trained in 0:00:05.891651\n",
      "Compiling model...\n"
     ]
    },
    {
     "name": "stderr",
     "output_type": "stream",
     "text": [
      "[INFO 2023-05-16T13:05:54.299103956+00:00 decision_forest.cc:661] Model loaded with 100 root(s), 175970 node(s), and 21 input feature(s).\n",
      "[INFO 2023-05-16T13:05:54.299175957+00:00 abstract_model.cc:1311] Engine \"RandomForestOptPred\" built\n",
      "[INFO 2023-05-16T13:05:54.299233101+00:00 kernel.cc:1046] Use fast generic engine\n"
     ]
    },
    {
     "name": "stdout",
     "output_type": "stream",
     "text": [
      "Model compiled.\n",
      "5/5 [==============================] - 0s 17ms/step - loss: 0.0000e+00 - accuracy: 0.7942\n",
      "5/5 [==============================] - 0s 17ms/step\n",
      "### q_no 5 grp 5-12\n",
      "Use /tmp/tmpgn076f7k as temporary training directory\n",
      "Reading training dataset...\n",
      "Training dataset read in 0:00:00.639706. Found 18849 examples.\n",
      "Training model...\n"
     ]
    },
    {
     "name": "stderr",
     "output_type": "stream",
     "text": [
      "[INFO 2023-05-16T13:06:01.07292359+00:00 kernel.cc:1214] Loading model from path /tmp/tmpgn076f7k/model/ with prefix e441398ce57a46e2\n"
     ]
    },
    {
     "name": "stdout",
     "output_type": "stream",
     "text": [
      "Model trained in 0:00:05.985843\n",
      "Compiling model...\n"
     ]
    },
    {
     "name": "stderr",
     "output_type": "stream",
     "text": [
      "[INFO 2023-05-16T13:06:01.817959507+00:00 decision_forest.cc:661] Model loaded with 100 root(s), 197486 node(s), and 21 input feature(s).\n",
      "[INFO 2023-05-16T13:06:01.81802818+00:00 kernel.cc:1046] Use fast generic engine\n"
     ]
    },
    {
     "name": "stdout",
     "output_type": "stream",
     "text": [
      "Model compiled.\n",
      "5/5 [==============================] - 0s 17ms/step - loss: 0.0000e+00 - accuracy: 0.6270\n",
      "5/5 [==============================] - 0s 16ms/step\n",
      "### q_no 6 grp 5-12\n",
      "Use /tmp/tmpgoojbm1t as temporary training directory\n",
      "Reading training dataset...\n",
      "Training dataset read in 0:00:00.643690. Found 18849 examples.\n",
      "Training model...\n"
     ]
    },
    {
     "name": "stderr",
     "output_type": "stream",
     "text": [
      "[INFO 2023-05-16T13:06:12.101676086+00:00 kernel.cc:1214] Loading model from path /tmp/tmpgoojbm1t/model/ with prefix 1dab2ac08dc04942\n"
     ]
    },
    {
     "name": "stdout",
     "output_type": "stream",
     "text": [
      "Model trained in 0:00:05.740921\n",
      "Compiling model...\n"
     ]
    },
    {
     "name": "stderr",
     "output_type": "stream",
     "text": [
      "[INFO 2023-05-16T13:06:12.752358803+00:00 decision_forest.cc:661] Model loaded with 100 root(s), 174286 node(s), and 21 input feature(s).\n",
      "[INFO 2023-05-16T13:06:12.752418435+00:00 abstract_model.cc:1311] Engine \"RandomForestOptPred\" built\n",
      "[INFO 2023-05-16T13:06:12.752460062+00:00 kernel.cc:1046] Use fast generic engine\n"
     ]
    },
    {
     "name": "stdout",
     "output_type": "stream",
     "text": [
      "Model compiled.\n",
      "5/5 [==============================] - 0s 16ms/step - loss: 0.0000e+00 - accuracy: 0.7902\n",
      "5/5 [==============================] - 0s 16ms/step\n",
      "### q_no 7 grp 5-12\n",
      "Use /tmp/tmpretwm83g as temporary training directory\n",
      "Reading training dataset...\n",
      "Training dataset read in 0:00:00.642347. Found 18849 examples.\n",
      "Training model...\n"
     ]
    },
    {
     "name": "stderr",
     "output_type": "stream",
     "text": [
      "[INFO 2023-05-16T13:06:19.491333531+00:00 kernel.cc:1214] Loading model from path /tmp/tmpretwm83g/model/ with prefix 5ab41d41772e4d92\n"
     ]
    },
    {
     "name": "stdout",
     "output_type": "stream",
     "text": [
      "Model trained in 0:00:06.054299\n",
      "Compiling model...\n"
     ]
    },
    {
     "name": "stderr",
     "output_type": "stream",
     "text": [
      "[INFO 2023-05-16T13:06:20.33346114+00:00 decision_forest.cc:661] Model loaded with 100 root(s), 180944 node(s), and 21 input feature(s).\n",
      "[INFO 2023-05-16T13:06:20.333637446+00:00 kernel.cc:1046] Use fast generic engine\n"
     ]
    },
    {
     "name": "stdout",
     "output_type": "stream",
     "text": [
      "Model compiled.\n",
      "5/5 [==============================] - 0s 44ms/step - loss: 0.0000e+00 - accuracy: 0.7460\n",
      "5/5 [==============================] - 0s 26ms/step\n",
      "### q_no 8 grp 5-12\n",
      "Use /tmp/tmpmppkp5qo as temporary training directory\n",
      "Reading training dataset...\n",
      "Training dataset read in 0:00:00.865917. Found 18849 examples.\n",
      "Training model...\n"
     ]
    },
    {
     "name": "stderr",
     "output_type": "stream",
     "text": [
      "[INFO 2023-05-16T13:06:28.528719612+00:00 kernel.cc:1214] Loading model from path /tmp/tmpmppkp5qo/model/ with prefix a7255c36de5643e4\n"
     ]
    },
    {
     "name": "stdout",
     "output_type": "stream",
     "text": [
      "Model trained in 0:00:06.443461\n",
      "Compiling model...\n"
     ]
    },
    {
     "name": "stderr",
     "output_type": "stream",
     "text": [
      "[INFO 2023-05-16T13:06:29.137574998+00:00 decision_forest.cc:661] Model loaded with 100 root(s), 148534 node(s), and 21 input feature(s).\n",
      "[INFO 2023-05-16T13:06:29.137765632+00:00 abstract_model.cc:1311] Engine \"RandomForestOptPred\" built\n",
      "[INFO 2023-05-16T13:06:29.137802467+00:00 kernel.cc:1046] Use fast generic engine\n"
     ]
    },
    {
     "name": "stdout",
     "output_type": "stream",
     "text": [
      "Model compiled.\n",
      "5/5 [==============================] - 0s 18ms/step - loss: 0.0000e+00 - accuracy: 0.6374\n",
      "5/5 [==============================] - 0s 16ms/step\n",
      "### q_no 9 grp 5-12\n",
      "Use /tmp/tmpyc2v06ob as temporary training directory\n",
      "Reading training dataset...\n",
      "Training dataset read in 0:00:00.720117. Found 18849 examples.\n",
      "Training model...\n"
     ]
    },
    {
     "name": "stderr",
     "output_type": "stream",
     "text": [
      "[INFO 2023-05-16T13:06:36.366427807+00:00 kernel.cc:1214] Loading model from path /tmp/tmpyc2v06ob/model/ with prefix 1ba2d9bf7de0487d\n"
     ]
    },
    {
     "name": "stdout",
     "output_type": "stream",
     "text": [
      "Model trained in 0:00:06.173126\n",
      "Compiling model...\n"
     ]
    },
    {
     "name": "stderr",
     "output_type": "stream",
     "text": [
      "[INFO 2023-05-16T13:06:37.029328169+00:00 decision_forest.cc:661] Model loaded with 100 root(s), 172382 node(s), and 21 input feature(s).\n",
      "[INFO 2023-05-16T13:06:37.029517512+00:00 kernel.cc:1046] Use fast generic engine\n"
     ]
    },
    {
     "name": "stdout",
     "output_type": "stream",
     "text": [
      "Model compiled.\n",
      "5/5 [==============================] - 0s 17ms/step - loss: 0.0000e+00 - accuracy: 0.7664\n",
      "5/5 [==============================] - 0s 17ms/step\n",
      "### q_no 10 grp 5-12\n",
      "Use /tmp/tmpyv2he38h as temporary training directory\n",
      "Reading training dataset...\n",
      "Training dataset read in 0:00:00.661088. Found 18849 examples.\n",
      "Training model...\n"
     ]
    },
    {
     "name": "stderr",
     "output_type": "stream",
     "text": [
      "[INFO 2023-05-16T13:06:47.306710997+00:00 kernel.cc:1214] Loading model from path /tmp/tmpyv2he38h/model/ with prefix e39c3d2f8fb04e59\n"
     ]
    },
    {
     "name": "stdout",
     "output_type": "stream",
     "text": [
      "Model trained in 0:00:05.995116\n",
      "Compiling model...\n"
     ]
    },
    {
     "name": "stderr",
     "output_type": "stream",
     "text": [
      "[INFO 2023-05-16T13:06:48.003027756+00:00 decision_forest.cc:661] Model loaded with 100 root(s), 182310 node(s), and 21 input feature(s).\n",
      "[INFO 2023-05-16T13:06:48.003093513+00:00 abstract_model.cc:1311] Engine \"RandomForestOptPred\" built\n",
      "[INFO 2023-05-16T13:06:48.003123947+00:00 kernel.cc:1046] Use fast generic engine\n"
     ]
    },
    {
     "name": "stdout",
     "output_type": "stream",
     "text": [
      "Model compiled.\n",
      "5/5 [==============================] - 0s 25ms/step - loss: 0.0000e+00 - accuracy: 0.6017\n",
      "5/5 [==============================] - 0s 25ms/step\n",
      "### q_no 11 grp 5-12\n",
      "Use /tmp/tmpqglpp1vg as temporary training directory\n",
      "Reading training dataset...\n",
      "Training dataset read in 0:00:00.692137. Found 18849 examples.\n",
      "Training model...\n"
     ]
    },
    {
     "name": "stderr",
     "output_type": "stream",
     "text": [
      "[INFO 2023-05-16T13:06:58.410316139+00:00 kernel.cc:1214] Loading model from path /tmp/tmpqglpp1vg/model/ with prefix f057bbb5ee4d492b\n"
     ]
    },
    {
     "name": "stdout",
     "output_type": "stream",
     "text": [
      "Model trained in 0:00:05.732655\n",
      "Compiling model...\n"
     ]
    },
    {
     "name": "stderr",
     "output_type": "stream",
     "text": [
      "[INFO 2023-05-16T13:06:59.019598312+00:00 decision_forest.cc:661] Model loaded with 100 root(s), 157792 node(s), and 21 input feature(s).\n",
      "[INFO 2023-05-16T13:06:59.019678705+00:00 abstract_model.cc:1311] Engine \"RandomForestOptPred\" built\n",
      "[INFO 2023-05-16T13:06:59.019710348+00:00 kernel.cc:1046] Use fast generic engine\n"
     ]
    },
    {
     "name": "stdout",
     "output_type": "stream",
     "text": [
      "Model compiled.\n",
      "5/5 [==============================] - 0s 18ms/step - loss: 0.0000e+00 - accuracy: 0.6535\n",
      "5/5 [==============================] - 0s 23ms/step\n",
      "### q_no 12 grp 5-12\n",
      "Use /tmp/tmp2r9pf4e9 as temporary training directory\n",
      "Reading training dataset...\n",
      "Training dataset read in 0:00:00.718082. Found 18849 examples.\n",
      "Training model...\n"
     ]
    },
    {
     "name": "stderr",
     "output_type": "stream",
     "text": [
      "[INFO 2023-05-16T13:07:05.533103993+00:00 kernel.cc:1214] Loading model from path /tmp/tmp2r9pf4e9/model/ with prefix 1845527db2094c44\n"
     ]
    },
    {
     "name": "stdout",
     "output_type": "stream",
     "text": [
      "Model trained in 0:00:05.381096\n",
      "Compiling model...\n"
     ]
    },
    {
     "name": "stderr",
     "output_type": "stream",
     "text": [
      "[INFO 2023-05-16T13:07:06.030411834+00:00 decision_forest.cc:661] Model loaded with 100 root(s), 131780 node(s), and 21 input feature(s).\n",
      "[INFO 2023-05-16T13:07:06.030916317+00:00 kernel.cc:1046] Use fast generic engine\n"
     ]
    },
    {
     "name": "stdout",
     "output_type": "stream",
     "text": [
      "Model compiled.\n",
      "5/5 [==============================] - 0s 17ms/step - loss: 0.0000e+00 - accuracy: 0.8697\n",
      "5/5 [==============================] - 0s 16ms/step\n",
      "### q_no 13 grp 5-12\n",
      "Use /tmp/tmprc0qbrhe as temporary training directory\n",
      "Reading training dataset...\n",
      "Training dataset read in 0:00:00.667128. Found 18849 examples.\n",
      "Training model...\n"
     ]
    },
    {
     "name": "stderr",
     "output_type": "stream",
     "text": [
      "[INFO 2023-05-16T13:07:12.649328982+00:00 kernel.cc:1214] Loading model from path /tmp/tmprc0qbrhe/model/ with prefix 68d72bd994a04acd\n"
     ]
    },
    {
     "name": "stdout",
     "output_type": "stream",
     "text": [
      "Model trained in 0:00:05.699602\n",
      "Compiling model...\n"
     ]
    },
    {
     "name": "stderr",
     "output_type": "stream",
     "text": [
      "[INFO 2023-05-16T13:07:13.270938885+00:00 decision_forest.cc:661] Model loaded with 100 root(s), 158546 node(s), and 21 input feature(s).\n",
      "[INFO 2023-05-16T13:07:13.270998668+00:00 abstract_model.cc:1311] Engine \"RandomForestOptPred\" built\n",
      "[INFO 2023-05-16T13:07:13.271028413+00:00 kernel.cc:1046] Use fast generic engine\n"
     ]
    },
    {
     "name": "stdout",
     "output_type": "stream",
     "text": [
      "Model compiled.\n",
      "5/5 [==============================] - 0s 18ms/step - loss: 0.0000e+00 - accuracy: 0.7208\n",
      "5/5 [==============================] - 0s 17ms/step\n",
      "### q_no 14 grp 13-22\n",
      "Use /tmp/tmpz9bgteje as temporary training directory\n",
      "Reading training dataset...\n",
      "Training dataset read in 0:00:00.665265. Found 18849 examples.\n",
      "Training model...\n"
     ]
    },
    {
     "name": "stderr",
     "output_type": "stream",
     "text": [
      "[INFO 2023-05-16T13:07:24.124683791+00:00 kernel.cc:1214] Loading model from path /tmp/tmpz9bgteje/model/ with prefix 8d95c62ad4cf47af\n"
     ]
    },
    {
     "name": "stdout",
     "output_type": "stream",
     "text": [
      "Model trained in 0:00:06.108671\n",
      "Compiling model...\n"
     ]
    },
    {
     "name": "stderr",
     "output_type": "stream",
     "text": [
      "[INFO 2023-05-16T13:07:24.86994953+00:00 decision_forest.cc:661] Model loaded with 100 root(s), 184954 node(s), and 21 input feature(s).\n",
      "[INFO 2023-05-16T13:07:24.87023732+00:00 abstract_model.cc:1311] Engine \"RandomForestOptPred\" built\n",
      "[INFO 2023-05-16T13:07:24.870419374+00:00 kernel.cc:1046] Use fast generic engine\n"
     ]
    },
    {
     "name": "stdout",
     "output_type": "stream",
     "text": [
      "Model compiled.\n",
      "5/5 [==============================] - 0s 17ms/step - loss: 0.0000e+00 - accuracy: 0.7327\n",
      "5/5 [==============================] - 0s 17ms/step\n",
      "### q_no 15 grp 13-22\n",
      "Use /tmp/tmpbx1f9abl as temporary training directory\n",
      "Reading training dataset...\n",
      "Training dataset read in 0:00:00.676253. Found 18849 examples.\n",
      "Training model...\n"
     ]
    },
    {
     "name": "stderr",
     "output_type": "stream",
     "text": [
      "[INFO 2023-05-16T13:07:31.731609958+00:00 kernel.cc:1214] Loading model from path /tmp/tmpbx1f9abl/model/ with prefix 5ae46ac7f3fe4918\n"
     ]
    },
    {
     "name": "stdout",
     "output_type": "stream",
     "text": [
      "Model trained in 0:00:06.025169\n",
      "Compiling model...\n"
     ]
    },
    {
     "name": "stderr",
     "output_type": "stream",
     "text": [
      "[INFO 2023-05-16T13:07:32.48677489+00:00 decision_forest.cc:661] Model loaded with 100 root(s), 195254 node(s), and 21 input feature(s).\n",
      "[INFO 2023-05-16T13:07:32.486847609+00:00 kernel.cc:1046] Use fast generic engine\n"
     ]
    },
    {
     "name": "stdout",
     "output_type": "stream",
     "text": [
      "Model compiled.\n",
      "5/5 [==============================] - 0s 18ms/step - loss: 0.0000e+00 - accuracy: 0.5992\n",
      "5/5 [==============================] - 0s 17ms/step\n",
      "### q_no 16 grp 13-22\n",
      "Use /tmp/tmpygkt4sd6 as temporary training directory\n",
      "Reading training dataset...\n",
      "Training dataset read in 0:00:00.666304. Found 18849 examples.\n",
      "Training model...\n"
     ]
    },
    {
     "name": "stderr",
     "output_type": "stream",
     "text": [
      "[INFO 2023-05-16T13:07:42.285691608+00:00 kernel.cc:1214] Loading model from path /tmp/tmpygkt4sd6/model/ with prefix a352032c0f724e8d\n"
     ]
    },
    {
     "name": "stdout",
     "output_type": "stream",
     "text": [
      "Model trained in 0:00:05.019262\n",
      "Compiling model...\n"
     ]
    },
    {
     "name": "stderr",
     "output_type": "stream",
     "text": [
      "[INFO 2023-05-16T13:07:42.693344538+00:00 decision_forest.cc:661] Model loaded with 100 root(s), 109178 node(s), and 21 input feature(s).\n",
      "[INFO 2023-05-16T13:07:42.693503826+00:00 abstract_model.cc:1311] Engine \"RandomForestOptPred\" built\n",
      "[INFO 2023-05-16T13:07:42.693535472+00:00 kernel.cc:1046] Use fast generic engine\n"
     ]
    },
    {
     "name": "stdout",
     "output_type": "stream",
     "text": [
      "Model compiled.\n",
      "5/5 [==============================] - 0s 18ms/step - loss: 0.0000e+00 - accuracy: 0.7490\n",
      "5/5 [==============================] - 0s 16ms/step\n",
      "### q_no 17 grp 13-22\n",
      "Use /tmp/tmprf_m246i as temporary training directory\n",
      "Reading training dataset...\n",
      "Training dataset read in 0:00:00.658047. Found 18849 examples.\n",
      "Training model...\n"
     ]
    },
    {
     "name": "stderr",
     "output_type": "stream",
     "text": [
      "[INFO 2023-05-16T13:07:49.245768003+00:00 kernel.cc:1214] Loading model from path /tmp/tmprf_m246i/model/ with prefix dd60152a92f94ece\n"
     ]
    },
    {
     "name": "stdout",
     "output_type": "stream",
     "text": [
      "Model trained in 0:00:05.479447\n",
      "Compiling model...\n"
     ]
    },
    {
     "name": "stderr",
     "output_type": "stream",
     "text": [
      "[INFO 2023-05-16T13:07:49.759043094+00:00 decision_forest.cc:661] Model loaded with 100 root(s), 138226 node(s), and 21 input feature(s).\n",
      "[INFO 2023-05-16T13:07:49.759157505+00:00 kernel.cc:1046] Use fast generic engine\n"
     ]
    },
    {
     "name": "stdout",
     "output_type": "stream",
     "text": [
      "Model compiled.\n",
      "5/5 [==============================] - 0s 20ms/step - loss: 0.0000e+00 - accuracy: 0.7036\n",
      "5/5 [==============================] - 0s 16ms/step\n",
      "### q_no 18 grp 13-22\n",
      "Use /tmp/tmp1hppt3ld as temporary training directory\n",
      "Reading training dataset...\n",
      "Training dataset read in 0:00:00.694890. Found 18849 examples.\n",
      "Training model...\n"
     ]
    },
    {
     "name": "stderr",
     "output_type": "stream",
     "text": [
      "[INFO 2023-05-16T13:07:59.789164374+00:00 kernel.cc:1214] Loading model from path /tmp/tmp1hppt3ld/model/ with prefix dfe659bbb3cc436f\n"
     ]
    },
    {
     "name": "stdout",
     "output_type": "stream",
     "text": [
      "Model trained in 0:00:04.595550\n",
      "Compiling model...\n"
     ]
    },
    {
     "name": "stderr",
     "output_type": "stream",
     "text": [
      "[INFO 2023-05-16T13:08:00.122097685+00:00 decision_forest.cc:661] Model loaded with 100 root(s), 88932 node(s), and 21 input feature(s).\n",
      "[INFO 2023-05-16T13:08:00.122216942+00:00 abstract_model.cc:1311] Engine \"RandomForestOptPred\" built\n",
      "[INFO 2023-05-16T13:08:00.122257514+00:00 kernel.cc:1046] Use fast generic engine\n"
     ]
    },
    {
     "name": "stdout",
     "output_type": "stream",
     "text": [
      "Model compiled.\n",
      "5/5 [==============================] - 0s 16ms/step - loss: 0.0000e+00 - accuracy: 0.9516\n",
      "5/5 [==============================] - 0s 15ms/step\n"
     ]
    }
   ],
   "source": [
    "# Iterate through questions 1 to 18 to train models for each question, evaluate\n",
    "# the trained model and store the predicted values.\n",
    "for q_no in range(1,19):\n",
    "\n",
    "    # Select level group for the question based on the q_no.\n",
    "    if q_no<=3: grp = '0-4'\n",
    "    elif q_no<=13: grp = '5-12'\n",
    "    elif q_no<=22: grp = '13-22'\n",
    "    print(\"### q_no\", q_no, \"grp\", grp)\n",
    "    \n",
    "        \n",
    "    # Filter the rows in the datasets based on the selected level group. \n",
    "    train_df = train_x.loc[train_x.level_group == grp]\n",
    "    train_users = train_df.index.values\n",
    "    valid_df = valid_x.loc[valid_x.level_group == grp]\n",
    "    valid_users = valid_df.index.values\n",
    "\n",
    "    # Select the labels for the related q_no.\n",
    "    train_labels = labels.loc[labels.q==q_no].set_index('session').loc[train_users]\n",
    "    valid_labels = labels.loc[labels.q==q_no].set_index('session').loc[valid_users]\n",
    "\n",
    "    # Add the label to the filtered datasets.\n",
    "    train_df[\"correct\"] = train_labels[\"correct\"]\n",
    "    valid_df[\"correct\"] = valid_labels[\"correct\"]\n",
    "\n",
    "    # There's one more step required before we can train the model. \n",
    "    # We need to convert the datatset from Pandas format (pd.DataFrame)\n",
    "    # into TensorFlow Datasets format (tf.data.Dataset).\n",
    "    # TensorFlow Datasets is a high performance data loading library \n",
    "    # which is helpful when training neural networks with accelerators like GPUs and TPUs.\n",
    "    # We are omitting `level_group`, since it is not needed for training anymore.\n",
    "    train_ds = tfdf.keras.pd_dataframe_to_tf_dataset(train_df.loc[:, train_df.columns != 'level_group'], label=\"correct\")\n",
    "    valid_ds = tfdf.keras.pd_dataframe_to_tf_dataset(valid_df.loc[:, valid_df.columns != 'level_group'], label=\"correct\")\n",
    "\n",
    "    # By default the model is set to train for a classification task.\n",
    "    rfm = tfdf.keras.RandomForestModel(max_depth=15, num_trees=100)\n",
    "    rfm.compile(metrics=[\"accuracy\"])\n",
    "\n",
    "    # Train the model.\n",
    "    rfm.fit(x=train_ds)\n",
    "\n",
    "    # Store the model\n",
    "    models[f'{grp}_{q_no}'] = rfm\n",
    "\n",
    "    # Evaluate the trained model on the validation dataset and store the \n",
    "    # evaluation accuracy in the `evaluation_dict`.\n",
    "    inspector = rfm.make_inspector()\n",
    "    inspector.evaluation()\n",
    "    evaluation = rfm.evaluate(x=valid_ds,return_dict=True)\n",
    "    evaluation_dict[q_no] = evaluation[\"accuracy\"]         \n",
    "\n",
    "    # Use the trained model to make predictions on the validation dataset and \n",
    "    # store the predicted values in the `prediction_df` dataframe.\n",
    "    predict = rfm.predict(x=valid_ds)\n",
    "    prediction_df.loc[valid_users, q_no-1] = predict.flatten()"
   ]
  },
  {
   "cell_type": "markdown",
   "id": "7f7dd132",
   "metadata": {
    "_cell_guid": "1aeaac7b-cccc-4abe-82e1-4d5a54ab3d0f",
    "_uuid": "23236b20-17fb-42be-afb4-4bac83d2491d",
    "id": "oOdr1p-Bn2PF",
    "papermill": {
     "duration": 0.033184,
     "end_time": "2023-05-16T13:08:01.018390",
     "exception": false,
     "start_time": "2023-05-16T13:08:00.985206",
     "status": "completed"
    },
    "tags": []
   },
   "source": [
    "# Inspect the Accuracy of the models."
   ]
  },
  {
   "cell_type": "code",
   "execution_count": 16,
   "id": "a37f9e04",
   "metadata": {
    "_cell_guid": "67445bfc-da29-47d4-9ffc-11c51ad7debd",
    "_uuid": "e32bd493-52c7-4de0-aa30-56214974a5fa",
    "collapsed": false,
    "execution": {
     "iopub.execute_input": "2023-05-16T13:08:01.094640Z",
     "iopub.status.busy": "2023-05-16T13:08:01.094032Z",
     "iopub.status.idle": "2023-05-16T13:08:01.101685Z",
     "shell.execute_reply": "2023-05-16T13:08:01.100598Z"
    },
    "id": "qPOfPkm7n2PG",
    "jupyter": {
     "outputs_hidden": false
    },
    "papermill": {
     "duration": 0.052176,
     "end_time": "2023-05-16T13:08:01.104082",
     "exception": false,
     "start_time": "2023-05-16T13:08:01.051906",
     "status": "completed"
    },
    "tags": []
   },
   "outputs": [
    {
     "name": "stdout",
     "output_type": "stream",
     "text": [
      "question 1: accuracy 0.7307\n",
      "question 2: accuracy 0.9756\n",
      "question 3: accuracy 0.9351\n",
      "question 4: accuracy 0.7942\n",
      "question 5: accuracy 0.6270\n",
      "question 6: accuracy 0.7902\n",
      "question 7: accuracy 0.7460\n",
      "question 8: accuracy 0.6374\n",
      "question 9: accuracy 0.7664\n",
      "question 10: accuracy 0.6017\n",
      "question 11: accuracy 0.6535\n",
      "question 12: accuracy 0.8697\n",
      "question 13: accuracy 0.7208\n",
      "question 14: accuracy 0.7327\n",
      "question 15: accuracy 0.5992\n",
      "question 16: accuracy 0.7490\n",
      "question 17: accuracy 0.7036\n",
      "question 18: accuracy 0.9516\n",
      "\n",
      "Average accuracy 0.754685617155499\n"
     ]
    }
   ],
   "source": [
    "for name, value in evaluation_dict.items():\n",
    "  print(f\"question {name}: accuracy {value:.4f}\")\n",
    "\n",
    "print(\"\\nAverage accuracy\", sum(evaluation_dict.values())/18)"
   ]
  },
  {
   "cell_type": "markdown",
   "id": "dff0d272",
   "metadata": {
    "_cell_guid": "86b8ba71-2b98-4fec-bbba-9f9a07a7dd82",
    "_uuid": "ca6352a8-7bdd-489d-97ab-65f39672eaa4",
    "id": "qtiCtfNCn2PG",
    "papermill": {
     "duration": 0.032658,
     "end_time": "2023-05-16T13:08:01.169335",
     "exception": false,
     "start_time": "2023-05-16T13:08:01.136677",
     "status": "completed"
    },
    "tags": []
   },
   "source": [
    "# Visualize the model"
   ]
  },
  {
   "cell_type": "code",
   "execution_count": 17,
   "id": "3428c497",
   "metadata": {
    "_cell_guid": "36966217-6b97-47ee-b4ec-acacd1c252bf",
    "_uuid": "6d1bc41d-fc81-43de-8dfa-d4d0a2c9fe4a",
    "collapsed": false,
    "execution": {
     "iopub.execute_input": "2023-05-16T13:08:01.237426Z",
     "iopub.status.busy": "2023-05-16T13:08:01.236588Z",
     "iopub.status.idle": "2023-05-16T13:08:01.241099Z",
     "shell.execute_reply": "2023-05-16T13:08:01.240158Z"
    },
    "id": "od__6uAan2PG",
    "jupyter": {
     "outputs_hidden": false
    },
    "papermill": {
     "duration": 0.041482,
     "end_time": "2023-05-16T13:08:01.243420",
     "exception": false,
     "start_time": "2023-05-16T13:08:01.201938",
     "status": "completed"
    },
    "tags": []
   },
   "outputs": [],
   "source": [
    "# tfdf.model_plotter.plot_model_in_colab(models['0-4_1'], tree_idx=0, max_depth=3)"
   ]
  },
  {
   "cell_type": "markdown",
   "id": "a3588a85",
   "metadata": {
    "_cell_guid": "93eaac23-b63f-43ad-b384-850035c351a2",
    "_uuid": "7779f607-1b05-4310-a3a8-923a9ad6a2e3",
    "id": "emVV6509n2PG",
    "papermill": {
     "duration": 0.032461,
     "end_time": "2023-05-16T13:08:01.308409",
     "exception": false,
     "start_time": "2023-05-16T13:08:01.275948",
     "status": "completed"
    },
    "tags": []
   },
   "source": [
    "# Variable importances\n",
    "\n",
    "Variable importances generally indicate how much a feature contributes to the model predictions or quality. There are several ways to identify important features using TensorFlow Decision Forests. Let us pick one model from models dict and inspect it.\n",
    "\n",
    "Let us list the available Variable Importances for Decision Trees:"
   ]
  },
  {
   "cell_type": "code",
   "execution_count": 18,
   "id": "d007d9b5",
   "metadata": {
    "_cell_guid": "08da50f5-f56d-42c2-b4ea-76f82776e23f",
    "_uuid": "c7b6b9d5-20d0-4910-b01c-da3ef1536f9e",
    "collapsed": false,
    "execution": {
     "iopub.execute_input": "2023-05-16T13:08:01.376369Z",
     "iopub.status.busy": "2023-05-16T13:08:01.375580Z",
     "iopub.status.idle": "2023-05-16T13:08:01.384425Z",
     "shell.execute_reply": "2023-05-16T13:08:01.383141Z"
    },
    "id": "d_gvL9nbn2PH",
    "jupyter": {
     "outputs_hidden": false
    },
    "papermill": {
     "duration": 0.045834,
     "end_time": "2023-05-16T13:08:01.386815",
     "exception": false,
     "start_time": "2023-05-16T13:08:01.340981",
     "status": "completed"
    },
    "tags": []
   },
   "outputs": [
    {
     "name": "stdout",
     "output_type": "stream",
     "text": [
      "Available variable importances:\n",
      "\t NUM_AS_ROOT\n",
      "\t SUM_SCORE\n",
      "\t INV_MEAN_MIN_DEPTH\n",
      "\t NUM_NODES\n"
     ]
    }
   ],
   "source": [
    "inspector = models['0-4_1'].make_inspector()\n",
    "\n",
    "print(f\"Available variable importances:\")\n",
    "for importance in inspector.variable_importances().keys():\n",
    "  print(\"\\t\", importance)"
   ]
  },
  {
   "cell_type": "code",
   "execution_count": 19,
   "id": "8a14b337",
   "metadata": {
    "_cell_guid": "d6c3231e-7d46-4666-a064-9b421da9211f",
    "_uuid": "ddbcec0c-9b87-4935-81e5-f8bfe54d7945",
    "collapsed": false,
    "execution": {
     "iopub.execute_input": "2023-05-16T13:08:01.455402Z",
     "iopub.status.busy": "2023-05-16T13:08:01.454494Z",
     "iopub.status.idle": "2023-05-16T13:08:01.462276Z",
     "shell.execute_reply": "2023-05-16T13:08:01.461184Z"
    },
    "id": "ZDsxqRrwn2PH",
    "jupyter": {
     "outputs_hidden": false
    },
    "papermill": {
     "duration": 0.045075,
     "end_time": "2023-05-16T13:08:01.464657",
     "exception": false,
     "start_time": "2023-05-16T13:08:01.419582",
     "status": "completed"
    },
    "tags": []
   },
   "outputs": [
    {
     "data": {
      "text/plain": [
       "[(\"room_fqid_nunique\" (1; #16), 24.0),\n",
       " (\"page\" (1; #10), 17.0),\n",
       " (\"page_std\" (1; #11), 15.0),\n",
       " (\"name_nunique\" (1; #9), 13.0),\n",
       " (\"elapsed_time\" (1; #1), 12.0),\n",
       " (\"elapsed_time_std\" (1; #2), 9.0),\n",
       " (\"event_name_nunique\" (1; #3), 4.0),\n",
       " (\"level\" (1; #7), 4.0),\n",
       " (\"fqid_nunique\" (1; #4), 1.0),\n",
       " (\"text_fqid_nunique\" (1; #21), 1.0)]"
      ]
     },
     "execution_count": 19,
     "metadata": {},
     "output_type": "execute_result"
    }
   ],
   "source": [
    "# Each line is: (feature name, (index of the feature), importance score)\n",
    "inspector.variable_importances()[\"NUM_AS_ROOT\"]"
   ]
  },
  {
   "cell_type": "markdown",
   "id": "38f3a16c",
   "metadata": {
    "_cell_guid": "19505e44-3c26-46dd-a296-e5bf90eea5f5",
    "_uuid": "b1975903-1ab3-42f2-a162-0108e74e871e",
    "id": "PIK5aUH-n2PH",
    "papermill": {
     "duration": 0.032972,
     "end_time": "2023-05-16T13:08:01.530916",
     "exception": false,
     "start_time": "2023-05-16T13:08:01.497944",
     "status": "completed"
    },
    "tags": []
   },
   "source": [
    "# Threshold-Moving for Imbalanced Classification"
   ]
  },
  {
   "cell_type": "code",
   "execution_count": 20,
   "id": "0c8dea2f",
   "metadata": {
    "_cell_guid": "afd3a94d-85cb-4b4a-8eaf-47163ab4e3d1",
    "_uuid": "e59efc3e-cbe5-4287-aa88-937b5c22ba56",
    "collapsed": false,
    "execution": {
     "iopub.execute_input": "2023-05-16T13:08:01.600501Z",
     "iopub.status.busy": "2023-05-16T13:08:01.599703Z",
     "iopub.status.idle": "2023-05-16T13:08:02.710820Z",
     "shell.execute_reply": "2023-05-16T13:08:02.709454Z"
    },
    "id": "2wptRs3In2PH",
    "jupyter": {
     "outputs_hidden": false
    },
    "papermill": {
     "duration": 1.149842,
     "end_time": "2023-05-16T13:08:02.714216",
     "exception": false,
     "start_time": "2023-05-16T13:08:01.564374",
     "status": "completed"
    },
    "tags": []
   },
   "outputs": [
    {
     "name": "stdout",
     "output_type": "stream",
     "text": [
      "Best threshold  0.7000000000000003 \tF1 score  0.6714021\n"
     ]
    }
   ],
   "source": [
    "# Create a dataframe of required size:\n",
    "# (no: of users in validation set x no: of questions) initialized to zero values\n",
    "# to store true values of the label `correct`. \n",
    "true_df = pd.DataFrame(data=np.zeros((len(VALID_USER_LIST),18)), index=VALID_USER_LIST)\n",
    "for i in range(18):\n",
    "    # Get the true labels.\n",
    "    tmp = labels.loc[labels.q == i+1].set_index('session').loc[VALID_USER_LIST]\n",
    "    true_df[i] = tmp.correct.values\n",
    "\n",
    "max_score = 0; best_threshold = 0\n",
    "\n",
    "# Loop through threshold values from 0.4 to 0.8 and select the threshold with \n",
    "# the highest `F1 score`.\n",
    "for threshold in np.arange(0.4,0.8,0.01):\n",
    "    metric = tfa.metrics.F1Score(num_classes=2,average=\"macro\",threshold=threshold)\n",
    "    y_true = tf.one_hot(true_df.values.reshape((-1)), depth=2)\n",
    "    y_pred = tf.one_hot((prediction_df.values.reshape((-1))>threshold).astype('int'), depth=2)\n",
    "    metric.update_state(y_true, y_pred)\n",
    "    f1_score = metric.result().numpy()\n",
    "    if f1_score > max_score:\n",
    "        max_score = f1_score\n",
    "        best_threshold = threshold\n",
    "        \n",
    "print(\"Best threshold \", best_threshold, \"\\tF1 score \", max_score)"
   ]
  },
  {
   "cell_type": "markdown",
   "id": "b4e45a54",
   "metadata": {
    "_cell_guid": "ffe6104c-beb7-4344-8d83-24e66a2d9e1b",
    "_uuid": "6a7da7b8-a807-4e81-9b9f-67966e63bd7b",
    "id": "ezA40GQ4n2PH",
    "papermill": {
     "duration": 0.032514,
     "end_time": "2023-05-16T13:08:02.781104",
     "exception": false,
     "start_time": "2023-05-16T13:08:02.748590",
     "status": "completed"
    },
    "tags": []
   },
   "source": [
    "# Submission\n",
    "\n",
    "Here you'll use the `best_threshold` calculate in the previous cell"
   ]
  },
  {
   "cell_type": "code",
   "execution_count": 21,
   "id": "d8690ecb",
   "metadata": {
    "_cell_guid": "ecf3cba1-7bfe-4010-a886-2d0ec5c1159a",
    "_uuid": "60855b46-2a29-4e37-b24f-c2afe6589668",
    "collapsed": false,
    "execution": {
     "iopub.execute_input": "2023-05-16T13:08:02.849934Z",
     "iopub.status.busy": "2023-05-16T13:08:02.849093Z",
     "iopub.status.idle": "2023-05-16T13:08:08.197205Z",
     "shell.execute_reply": "2023-05-16T13:08:08.196131Z"
    },
    "id": "gHiXTnTVn2PI",
    "jupyter": {
     "outputs_hidden": false
    },
    "papermill": {
     "duration": 5.38588,
     "end_time": "2023-05-16T13:08:08.200090",
     "exception": false,
     "start_time": "2023-05-16T13:08:02.814210",
     "status": "completed"
    },
    "tags": []
   },
   "outputs": [
    {
     "name": "stdout",
     "output_type": "stream",
     "text": [
      "This version of the API is not optimized and should not be used to estimate the runtime of your code on the hidden test set.\n",
      "1/1 [==============================] - 0s 75ms/step\n",
      "1/1 [==============================] - 0s 73ms/step\n",
      "1/1 [==============================] - 0s 68ms/step\n",
      "1/1 [==============================] - 0s 66ms/step\n",
      "1/1 [==============================] - 0s 69ms/step\n",
      "1/1 [==============================] - 0s 70ms/step\n",
      "1/1 [==============================] - 0s 68ms/step\n",
      "1/1 [==============================] - 0s 68ms/step\n",
      "1/1 [==============================] - 0s 67ms/step\n",
      "1/1 [==============================] - 0s 68ms/step\n",
      "1/1 [==============================] - 0s 69ms/step\n",
      "1/1 [==============================] - 0s 68ms/step\n",
      "1/1 [==============================] - 0s 68ms/step\n",
      "1/1 [==============================] - 0s 68ms/step\n",
      "1/1 [==============================] - 0s 69ms/step\n",
      "1/1 [==============================] - 0s 66ms/step\n",
      "1/1 [==============================] - 0s 71ms/step\n",
      "1/1 [==============================] - 0s 68ms/step\n",
      "1/1 [==============================] - 0s 67ms/step\n",
      "1/1 [==============================] - 0s 68ms/step\n",
      "1/1 [==============================] - 0s 68ms/step\n",
      "1/1 [==============================] - 0s 66ms/step\n",
      "1/1 [==============================] - 0s 67ms/step\n",
      "1/1 [==============================] - 0s 66ms/step\n",
      "1/1 [==============================] - 0s 70ms/step\n",
      "1/1 [==============================] - 0s 66ms/step\n",
      "1/1 [==============================] - 0s 66ms/step\n",
      "1/1 [==============================] - 0s 64ms/step\n",
      "1/1 [==============================] - 0s 65ms/step\n",
      "1/1 [==============================] - 0s 71ms/step\n",
      "1/1 [==============================] - 0s 67ms/step\n",
      "1/1 [==============================] - 0s 67ms/step\n",
      "1/1 [==============================] - 0s 66ms/step\n",
      "1/1 [==============================] - 0s 67ms/step\n",
      "1/1 [==============================] - 0s 66ms/step\n",
      "1/1 [==============================] - 0s 65ms/step\n",
      "1/1 [==============================] - 0s 68ms/step\n",
      "1/1 [==============================] - 0s 70ms/step\n",
      "1/1 [==============================] - 0s 65ms/step\n",
      "1/1 [==============================] - 0s 68ms/step\n",
      "1/1 [==============================] - 0s 67ms/step\n",
      "1/1 [==============================] - 0s 66ms/step\n",
      "1/1 [==============================] - 0s 66ms/step\n",
      "1/1 [==============================] - 0s 66ms/step\n",
      "1/1 [==============================] - 0s 66ms/step\n",
      "1/1 [==============================] - 0s 67ms/step\n",
      "1/1 [==============================] - 0s 68ms/step\n",
      "1/1 [==============================] - 0s 66ms/step\n",
      "1/1 [==============================] - 0s 69ms/step\n",
      "1/1 [==============================] - 0s 67ms/step\n",
      "1/1 [==============================] - 0s 67ms/step\n",
      "1/1 [==============================] - 0s 66ms/step\n",
      "1/1 [==============================] - 0s 69ms/step\n",
      "1/1 [==============================] - 0s 69ms/step\n"
     ]
    }
   ],
   "source": [
    "# Reference\n",
    "# https://www.kaggle.com/code/philculliton/basic-submission-demo\n",
    "# https://www.kaggle.com/code/cdeotte/random-forest-baseline-0-664/notebook\n",
    "\n",
    "\n",
    "import jo_wilder\n",
    "env = jo_wilder.make_env()\n",
    "iter_test = env.iter_test()\n",
    "\n",
    "limits = {'0-4':(1,4), '5-12':(4,14), '13-22':(14,19)}\n",
    "\n",
    "for (test, sample_submission) in iter_test:\n",
    "    test_df = feature_engineer(test)\n",
    "    grp = test_df.level_group.values[0]\n",
    "    a,b = limits[grp]\n",
    "    for t in range(a,b):\n",
    "        gbtm = models[f'{grp}_{t}']\n",
    "        test_ds = tfdf.keras.pd_dataframe_to_tf_dataset(test_df.loc[:, test_df.columns != 'level_group'])\n",
    "        predictions = gbtm.predict(test_ds)\n",
    "        mask = sample_submission.session_id.str.contains(f'q{t}')\n",
    "        n_predictions = (predictions > best_threshold).astype(int)\n",
    "        sample_submission.loc[mask,'correct'] = n_predictions.flatten()\n",
    "    \n",
    "    env.predict(sample_submission)"
   ]
  },
  {
   "cell_type": "code",
   "execution_count": 22,
   "id": "4d29d4cf",
   "metadata": {
    "_cell_guid": "b2f9e158-df1d-4a78-a7d6-1dcc657635f0",
    "_uuid": "3f92da60-8bbb-49bd-9315-ac65ab252862",
    "collapsed": false,
    "execution": {
     "iopub.execute_input": "2023-05-16T13:08:08.283653Z",
     "iopub.status.busy": "2023-05-16T13:08:08.282339Z",
     "iopub.status.idle": "2023-05-16T13:08:09.381842Z",
     "shell.execute_reply": "2023-05-16T13:08:09.380480Z"
    },
    "id": "iYBXokAyn2PI",
    "jupyter": {
     "outputs_hidden": false
    },
    "papermill": {
     "duration": 1.143798,
     "end_time": "2023-05-16T13:08:09.384732",
     "exception": false,
     "start_time": "2023-05-16T13:08:08.240934",
     "status": "completed"
    },
    "tags": []
   },
   "outputs": [
    {
     "name": "stdout",
     "output_type": "stream",
     "text": [
      "session_id,correct\r\n",
      "20090109393214576_q1,1\r\n",
      "20090109393214576_q2,1\r\n",
      "20090109393214576_q3,1\r\n",
      "20090109393214576_q4,1\r\n",
      "20090109393214576_q5,0\r\n",
      "20090109393214576_q6,1\r\n",
      "20090109393214576_q7,1\r\n",
      "20090109393214576_q8,1\r\n",
      "20090109393214576_q9,1\r\n"
     ]
    }
   ],
   "source": [
    "! head submission.csv"
   ]
  },
  {
   "cell_type": "code",
   "execution_count": null,
   "id": "101a3c83",
   "metadata": {
    "papermill": {
     "duration": 0.039385,
     "end_time": "2023-05-16T13:08:09.464340",
     "exception": false,
     "start_time": "2023-05-16T13:08:09.424955",
     "status": "completed"
    },
    "tags": []
   },
   "outputs": [],
   "source": []
  }
 ],
 "metadata": {
  "kernelspec": {
   "display_name": "Python 3",
   "language": "python",
   "name": "python3"
  },
  "language_info": {
   "codemirror_mode": {
    "name": "ipython",
    "version": 3
   },
   "file_extension": ".py",
   "mimetype": "text/x-python",
   "name": "python",
   "nbconvert_exporter": "python",
   "pygments_lexer": "ipython3",
   "version": "3.7.12"
  },
  "papermill": {
   "default_parameters": {},
   "duration": 494.658956,
   "end_time": "2023-05-16T13:08:12.684788",
   "environment_variables": {},
   "exception": null,
   "input_path": "__notebook__.ipynb",
   "output_path": "__notebook__.ipynb",
   "parameters": {},
   "start_time": "2023-05-16T12:59:58.025832",
   "version": "2.4.0"
  }
 },
 "nbformat": 4,
 "nbformat_minor": 5
}
