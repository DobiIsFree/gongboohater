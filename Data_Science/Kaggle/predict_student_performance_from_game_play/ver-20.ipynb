{
 "cells": [
  {
   "cell_type": "markdown",
   "id": "f2b1d175",
   "metadata": {
    "_cell_guid": "3065ea28-3415-46ef-8ec2-672826f1896a",
    "_uuid": "1b633216-f642-426b-a442-36227e786485",
    "id": "iCTA6kl3n2O1",
    "papermill": {
     "duration": 0.012726,
     "end_time": "2023-05-26T06:36:10.310632",
     "exception": false,
     "start_time": "2023-05-26T06:36:10.297906",
     "status": "completed"
    },
    "tags": []
   },
   "source": [
    "# Student Performance from Game Play Using TensorFlow Decision Forests"
   ]
  },
  {
   "cell_type": "markdown",
   "id": "63342eb5",
   "metadata": {
    "_cell_guid": "f5f126e7-a6c7-4d10-9453-02803d77fdec",
    "_uuid": "48949e80-ac79-459e-b078-1258b02a6d19",
    "id": "zAXHC6-Tn2O5",
    "papermill": {
     "duration": 0.007835,
     "end_time": "2023-05-26T06:36:10.329528",
     "exception": false,
     "start_time": "2023-05-26T06:36:10.321693",
     "status": "completed"
    },
    "tags": []
   },
   "source": [
    "## Import the Required Libraries"
   ]
  },
  {
   "cell_type": "code",
   "execution_count": 1,
   "id": "a3761968",
   "metadata": {
    "_cell_guid": "d9edea55-e22d-47eb-9e89-f41baf355a90",
    "_uuid": "b8016303-112b-4ba5-b173-8f7fafdd3fbc",
    "collapsed": false,
    "execution": {
     "iopub.execute_input": "2023-05-26T06:36:10.346463Z",
     "iopub.status.busy": "2023-05-26T06:36:10.346072Z",
     "iopub.status.idle": "2023-05-26T06:36:11.646472Z",
     "shell.execute_reply": "2023-05-26T06:36:11.645535Z"
    },
    "id": "IanlX-Eqn2O5",
    "jupyter": {
     "outputs_hidden": false
    },
    "papermill": {
     "duration": 1.312028,
     "end_time": "2023-05-26T06:36:11.649158",
     "exception": false,
     "start_time": "2023-05-26T06:36:10.337130",
     "status": "completed"
    },
    "tags": []
   },
   "outputs": [],
   "source": [
    "import pandas as pd\n",
    "import numpy as np\n",
    "import matplotlib.pyplot as plt\n",
    "\n",
    "from xgboost import XGBClassifier\n",
    "from sklearn.model_selection import KFold, GroupKFold\n",
    "from sklearn.metrics import f1_score"
   ]
  },
  {
   "cell_type": "markdown",
   "id": "86ac28da",
   "metadata": {
    "_cell_guid": "5be263dd-cf1e-4887-b94b-caeeea6a4aa8",
    "_uuid": "2697b3d5-0f16-4f5e-aa80-76ad489e86ae",
    "id": "22DpLVFLn2O7",
    "papermill": {
     "duration": 0.007466,
     "end_time": "2023-05-26T06:36:11.664274",
     "exception": false,
     "start_time": "2023-05-26T06:36:11.656808",
     "status": "completed"
    },
    "tags": []
   },
   "source": [
    "## Load the Dataset"
   ]
  },
  {
   "cell_type": "code",
   "execution_count": 2,
   "id": "9b44f57e",
   "metadata": {
    "_cell_guid": "144dcbf9-be59-440c-b31a-8216f58528cb",
    "_uuid": "0cd23222-c6e1-47b2-8149-4834fa47f2e4",
    "collapsed": false,
    "execution": {
     "iopub.execute_input": "2023-05-26T06:36:11.681935Z",
     "iopub.status.busy": "2023-05-26T06:36:11.681122Z",
     "iopub.status.idle": "2023-05-26T06:37:58.772952Z",
     "shell.execute_reply": "2023-05-26T06:37:58.771659Z"
    },
    "id": "_XItl24kn2O7",
    "jupyter": {
     "outputs_hidden": false
    },
    "papermill": {
     "duration": 107.10458,
     "end_time": "2023-05-26T06:37:58.776415",
     "exception": false,
     "start_time": "2023-05-26T06:36:11.671835",
     "status": "completed"
    },
    "tags": []
   },
   "outputs": [],
   "source": [
    "# Reference: https://www.kaggle.com/competitions/predict-student-performance-from-game-play/discussion/384359\n",
    "dtypes={\n",
    "    'elapsed_time':np.int32,\n",
    "    'event_name':'category',\n",
    "    'name':'category',\n",
    "    'level':np.uint8,\n",
    "    \n",
    "    'room_coor_x':np.float32,\n",
    "    'room_coor_y':np.float32,\n",
    "    'screen_coor_x':np.float32,\n",
    "    'screen_coor_y':np.float32,\n",
    "    \n",
    "    'hover_duration':np.float32,\n",
    "    \n",
    "    'text':'category',\n",
    "    'fqid':'category',\n",
    "    'room_fqid':'category',\n",
    "    'text_fqid':'category',\n",
    "\n",
    "    'fullscreen': np.int32,\n",
    "    'hq': np.int32,\n",
    "    'music': np.int32,\n",
    "\n",
    "    'level_group':'category'}\n",
    "\n",
    "dataset_df = pd.read_csv('/kaggle/input/predict-student-performance-from-game-play/train.csv', dtype=dtypes)"
   ]
  },
  {
   "cell_type": "markdown",
   "id": "291fc3d6",
   "metadata": {
    "_cell_guid": "c65e1dff-67b0-4bb6-9b97-b6418d4173c7",
    "_uuid": "3df6b5f5-7744-40f9-bec5-bb45b9238387",
    "id": "ReNY-i3bn2O8",
    "papermill": {
     "duration": 0.007665,
     "end_time": "2023-05-26T06:37:58.793085",
     "exception": false,
     "start_time": "2023-05-26T06:37:58.785420",
     "status": "completed"
    },
    "tags": []
   },
   "source": [
    "## Load the labels"
   ]
  },
  {
   "cell_type": "code",
   "execution_count": 3,
   "id": "9343e6e8",
   "metadata": {
    "_cell_guid": "bc6c67b2-3be1-4595-bc75-a10a50ba30d3",
    "_uuid": "e71600d9-2043-4209-8373-cf254354b3f2",
    "collapsed": false,
    "execution": {
     "iopub.execute_input": "2023-05-26T06:37:58.811160Z",
     "iopub.status.busy": "2023-05-26T06:37:58.810402Z",
     "iopub.status.idle": "2023-05-26T06:37:59.167116Z",
     "shell.execute_reply": "2023-05-26T06:37:59.165963Z"
    },
    "id": "KD4uayl2n2O9",
    "jupyter": {
     "outputs_hidden": false
    },
    "papermill": {
     "duration": 0.369031,
     "end_time": "2023-05-26T06:37:59.170093",
     "exception": false,
     "start_time": "2023-05-26T06:37:58.801062",
     "status": "completed"
    },
    "tags": []
   },
   "outputs": [],
   "source": [
    "labels = pd.read_csv('/kaggle/input/predict-student-performance-from-game-play/train_labels.csv')"
   ]
  },
  {
   "cell_type": "code",
   "execution_count": 4,
   "id": "f17fd306",
   "metadata": {
    "_cell_guid": "24c78d16-6a6a-4409-b1c3-5f1d84c0a9ac",
    "_uuid": "afd665e4-8c5e-4a6a-9c96-2c8676f97c88",
    "collapsed": false,
    "execution": {
     "iopub.execute_input": "2023-05-26T06:37:59.189787Z",
     "iopub.status.busy": "2023-05-26T06:37:59.188942Z",
     "iopub.status.idle": "2023-05-26T06:37:59.924178Z",
     "shell.execute_reply": "2023-05-26T06:37:59.922837Z"
    },
    "id": "Kva8_Dbqn2O9",
    "jupyter": {
     "outputs_hidden": false
    },
    "papermill": {
     "duration": 0.747901,
     "end_time": "2023-05-26T06:37:59.927249",
     "exception": false,
     "start_time": "2023-05-26T06:37:59.179348",
     "status": "completed"
    },
    "tags": []
   },
   "outputs": [],
   "source": [
    "labels['session'] = labels.session_id.apply(lambda x: int(x.split('_')[0]) )\n",
    "labels['q'] = labels.session_id.apply(lambda x: int(x.split('_')[-1][1:]) )"
   ]
  },
  {
   "cell_type": "markdown",
   "id": "f6391fd1",
   "metadata": {
    "_cell_guid": "485073af-b103-48c0-8e8c-60c28ddc00fc",
    "_uuid": "d4215f16-78de-4f14-b9f3-b596b03f8433",
    "id": "y5fK05dsn2O_",
    "papermill": {
     "duration": 0.007444,
     "end_time": "2023-05-26T06:37:59.942898",
     "exception": false,
     "start_time": "2023-05-26T06:37:59.935454",
     "status": "completed"
    },
    "tags": []
   },
   "source": [
    "# Prepare the dataset"
   ]
  },
  {
   "cell_type": "code",
   "execution_count": 5,
   "id": "95b7a2c2",
   "metadata": {
    "_cell_guid": "9527a410-8159-421f-9ad6-f3c712fc7d87",
    "_uuid": "886d16af-f0f1-4c68-8e15-9802bd417f6e",
    "collapsed": false,
    "execution": {
     "iopub.execute_input": "2023-05-26T06:37:59.961263Z",
     "iopub.status.busy": "2023-05-26T06:37:59.960021Z",
     "iopub.status.idle": "2023-05-26T06:38:00.506528Z",
     "shell.execute_reply": "2023-05-26T06:38:00.505360Z"
    },
    "id": "cCZWGiL_n2PA",
    "jupyter": {
     "outputs_hidden": false
    },
    "papermill": {
     "duration": 0.558541,
     "end_time": "2023-05-26T06:38:00.509168",
     "exception": false,
     "start_time": "2023-05-26T06:37:59.950627",
     "status": "completed"
    },
    "tags": []
   },
   "outputs": [],
   "source": [
    "CATEGORICAL = ['event_name', 'name', 'fqid', 'room_fqid', 'text_fqid']\n",
    "# NUMERICAL = ['page', 'room_coor_x', 'room_coor_y', 'screen_coor_x', 'screen_coor_y',\n",
    "#             'hover_duration', 'elapsed_time_diff']\n",
    "\n",
    "NUMERICAL = ['page', 'location_x_diff', 'location_y_diff','hover_duration']\n",
    "\n",
    "OPTIONAL = ['music', 'fullscreen', 'hq']\n",
    "\n",
    "# Lots..\n",
    "NAMES = dataset_df['name'].unique()\n",
    "EVENTS = dataset_df['event_name'].unique()\n",
    "\n",
    "TEXT_LISTS = dataset_df['text'].unique()\n",
    "FQID_LISTS = dataset_df['fqid'].unique()"
   ]
  },
  {
   "cell_type": "code",
   "execution_count": 6,
   "id": "585a7931",
   "metadata": {
    "execution": {
     "iopub.execute_input": "2023-05-26T06:38:00.526982Z",
     "iopub.status.busy": "2023-05-26T06:38:00.526306Z",
     "iopub.status.idle": "2023-05-26T06:38:00.667342Z",
     "shell.execute_reply": "2023-05-26T06:38:00.666017Z"
    },
    "papermill": {
     "duration": 0.153308,
     "end_time": "2023-05-26T06:38:00.670258",
     "exception": false,
     "start_time": "2023-05-26T06:38:00.516950",
     "status": "completed"
    },
    "tags": []
   },
   "outputs": [],
   "source": [
    "# df.fillna(df.mean()), df.where(pd.notnull(df), df.mean(), axis='columns')\n",
    "def feature_engineer(dataset_df):\n",
    "    dataset_df['elapsed_time_diff'] = (\n",
    "        (dataset_df['elapsed_time'] - dataset_df['elapsed_time'].shift(1))\n",
    "        .fillna(0)\n",
    "        .clip(lower=0, upper=1e9)\n",
    "    )\n",
    "    dataset_df['location_x_diff'] = (\n",
    "        (dataset_df['room_coor_x'] - dataset_df['room_coor_x'].shift(1))\n",
    "        .abs()\n",
    "    )\n",
    "    dataset_df['location_y_diff'] = (\n",
    "        (dataset_df['room_coor_y'] - dataset_df['room_coor_y'].shift(1))\n",
    "        .abs()\n",
    "    )\n",
    "    \n",
    "    dfs = []\n",
    "    \n",
    "    # NUMERICAL\n",
    "    for c in NUMERICAL:\n",
    "        tmp = dataset_df.groupby(['session_id','level_group'])[c].agg('mean')\n",
    "        tmp.name = tmp.name + '_mean'\n",
    "        dfs.append(tmp)\n",
    "    for c in NUMERICAL:\n",
    "        tmp = dataset_df.groupby(['session_id','level_group'])[c].agg('std')\n",
    "        tmp.name = tmp.name + '_std'\n",
    "        dfs.append(tmp)\n",
    "    for c in NUMERICAL:\n",
    "        tmp = dataset_df.groupby(['session_id','level_group'])[c].agg('sum')\n",
    "        tmp.name = tmp.name + '_sum'\n",
    "        dfs.append(tmp)\n",
    "    for c in NUMERICAL:\n",
    "        tmp = dataset_df.groupby(['session_id','level_group'])[c].agg('max')\n",
    "        tmp.name = tmp.name + '_max'\n",
    "        dfs.append(tmp)\n",
    "    for c in NUMERICAL:\n",
    "        tmp = dataset_df.groupby(['session_id','level_group'])[c].agg('min')\n",
    "        tmp.name = tmp.name + '_min'\n",
    "        dfs.append(tmp)\n",
    "    \n",
    "    # EVNETS\n",
    "    for c in EVENTS: \n",
    "        dataset_df[c] = (dataset_df.event_name == c).astype('int8')\n",
    "    for c in EVENTS: \n",
    "        tmp = dataset_df[dataset_df[c] == 1].groupby(['session_id', 'level_group'])[c].sum()\n",
    "        tmp.name = c + '_count'\n",
    "        dfs.append(tmp)\n",
    "    for c in EVENTS: \n",
    "        tmp = dataset_df[dataset_df[c] == 1].groupby(['session_id', 'level_group'])[c].std()\n",
    "        tmp.name = c + '_std'\n",
    "        dfs.append(tmp)\n",
    "    for c in EVENTS: \n",
    "        tmp = dataset_df[dataset_df[c] == 1].groupby(['session_id', 'level_group'])[c].mean()\n",
    "        tmp.name = c + '_mean'\n",
    "        dfs.append(tmp)\n",
    "    for c in EVENTS: \n",
    "        tmp = dataset_df[dataset_df[c] == 1].groupby(['session_id', 'level_group'])[c].max()\n",
    "        tmp.name = c + '_max'\n",
    "        dfs.append(tmp)\n",
    "    for c in EVENTS: \n",
    "        tmp = dataset_df[dataset_df[c] == 1].groupby(['session_id', 'level_group'])[c].min()\n",
    "        tmp.name = c + '_min'\n",
    "        dfs.append(tmp)\n",
    "        \n",
    "    for c in EVENTS:\n",
    "        tmp = dataset_df[dataset_df[c] == 1].groupby(['session_id', 'level_group'])['elapsed_time_diff'].agg('mean')\n",
    "        tmp.name = c + '_time_average'\n",
    "        dfs.append(tmp)\n",
    "        \n",
    "        \n",
    "    #OPTIONALS\n",
    "    for c in OPTIONAL:\n",
    "        tmp = dataset_df.groupby(['session_id','level_group'])[c].agg('mean')\n",
    "        tmp.name = tmp.name + '_mean'\n",
    "        dfs.append(tmp)\n",
    "    for c in OPTIONAL:\n",
    "        tmp = dataset_df.groupby(['session_id','level_group'])[c].agg('std')\n",
    "        tmp.name = tmp.name + '_std'\n",
    "        dfs.append(tmp)\n",
    "    for c in OPTIONAL:\n",
    "        tmp = dataset_df.groupby(['session_id','level_group'])[c].agg('sum')\n",
    "        tmp.name = tmp.name + '_sum'\n",
    "        dfs.append(tmp)\n",
    "    for c in OPTIONAL:\n",
    "        tmp = dataset_df.groupby(['session_id','level_group'])[c].agg('min')\n",
    "        tmp.name = tmp.name + '_min'\n",
    "        dfs.append(tmp)\n",
    "    for c in OPTIONAL:\n",
    "        tmp = dataset_df.groupby(['session_id','level_group'])[c].agg('max')\n",
    "        tmp.name = tmp.name + '_max'\n",
    "        dfs.append(tmp)   \n",
    "        \n",
    "    dataset_df = pd.concat(dfs,axis=1)\n",
    "    dataset_df = dataset_df.fillna(-1)\n",
    "    dataset_df = dataset_df.reset_index()\n",
    "    dataset_df = dataset_df.set_index('session_id')\n",
    "    return dataset_df"
   ]
  },
  {
   "cell_type": "code",
   "execution_count": 7,
   "id": "663380f6",
   "metadata": {
    "execution": {
     "iopub.execute_input": "2023-05-26T06:38:00.687678Z",
     "iopub.status.busy": "2023-05-26T06:38:00.687262Z",
     "iopub.status.idle": "2023-05-26T06:39:42.521609Z",
     "shell.execute_reply": "2023-05-26T06:39:42.520451Z"
    },
    "papermill": {
     "duration": 101.847015,
     "end_time": "2023-05-26T06:39:42.525026",
     "exception": false,
     "start_time": "2023-05-26T06:38:00.678011",
     "status": "completed"
    },
    "tags": []
   },
   "outputs": [],
   "source": [
    "dataset_df = feature_engineer(dataset_df)"
   ]
  },
  {
   "cell_type": "code",
   "execution_count": 8,
   "id": "07d469d0",
   "metadata": {
    "execution": {
     "iopub.execute_input": "2023-05-26T06:39:42.542805Z",
     "iopub.status.busy": "2023-05-26T06:39:42.542353Z",
     "iopub.status.idle": "2023-05-26T06:39:42.548673Z",
     "shell.execute_reply": "2023-05-26T06:39:42.547588Z"
    },
    "papermill": {
     "duration": 0.01938,
     "end_time": "2023-05-26T06:39:42.552465",
     "exception": false,
     "start_time": "2023-05-26T06:39:42.533085",
     "status": "completed"
    },
    "tags": []
   },
   "outputs": [
    {
     "name": "stdout",
     "output_type": "stream",
     "text": [
      "#row: 70686\n",
      "#col: 102\n"
     ]
    }
   ],
   "source": [
    "num_rows, num_cols = dataset_df.shape\n",
    "\n",
    "print(\"#row:\", num_rows)\n",
    "print(\"#col:\", num_cols)"
   ]
  },
  {
   "cell_type": "code",
   "execution_count": 9,
   "id": "5dcc46b7",
   "metadata": {
    "execution": {
     "iopub.execute_input": "2023-05-26T06:39:42.573223Z",
     "iopub.status.busy": "2023-05-26T06:39:42.572314Z",
     "iopub.status.idle": "2023-05-26T06:39:42.578727Z",
     "shell.execute_reply": "2023-05-26T06:39:42.577596Z"
    },
    "papermill": {
     "duration": 0.020655,
     "end_time": "2023-05-26T06:39:42.581162",
     "exception": false,
     "start_time": "2023-05-26T06:39:42.560507",
     "status": "completed"
    },
    "tags": []
   },
   "outputs": [],
   "source": [
    "train_session_id = dataset_df.index\n",
    "session_df = pd.DataFrame(train_session_id)\n",
    "session_df.name = 'session_id'"
   ]
  },
  {
   "cell_type": "code",
   "execution_count": 10,
   "id": "c9307fbe",
   "metadata": {
    "execution": {
     "iopub.execute_input": "2023-05-26T06:39:42.599333Z",
     "iopub.status.busy": "2023-05-26T06:39:42.598442Z",
     "iopub.status.idle": "2023-05-26T06:39:43.654843Z",
     "shell.execute_reply": "2023-05-26T06:39:43.653831Z"
    },
    "papermill": {
     "duration": 1.068475,
     "end_time": "2023-05-26T06:39:43.657460",
     "exception": false,
     "start_time": "2023-05-26T06:39:42.588985",
     "status": "completed"
    },
    "tags": []
   },
   "outputs": [],
   "source": [
    "from sklearn.decomposition import PCA\n",
    "\n",
    "data_for_pca = dataset_df.drop(['level_group'], axis=1)\n",
    "pca = PCA(n_components=40)\n",
    "pca_result = pca.fit_transform(data_for_pca)\n",
    "pca_dataset_df = pd.DataFrame(pca_result)\n",
    "\n",
    "dataset_df.reset_index(drop=True, inplace=True) \n",
    "dataset_df = pd.concat([session_df,dataset_df[['level_group']], pca_dataset_df], axis=1)"
   ]
  },
  {
   "cell_type": "code",
   "execution_count": 11,
   "id": "e70a1c3e",
   "metadata": {
    "execution": {
     "iopub.execute_input": "2023-05-26T06:39:43.675704Z",
     "iopub.status.busy": "2023-05-26T06:39:43.674596Z",
     "iopub.status.idle": "2023-05-26T06:39:43.679237Z",
     "shell.execute_reply": "2023-05-26T06:39:43.678339Z"
    },
    "papermill": {
     "duration": 0.017442,
     "end_time": "2023-05-26T06:39:43.682940",
     "exception": false,
     "start_time": "2023-05-26T06:39:43.665498",
     "status": "completed"
    },
    "tags": []
   },
   "outputs": [],
   "source": [
    "# dataset_df.info()"
   ]
  },
  {
   "cell_type": "code",
   "execution_count": 12,
   "id": "9bce47c5",
   "metadata": {
    "execution": {
     "iopub.execute_input": "2023-05-26T06:39:43.700732Z",
     "iopub.status.busy": "2023-05-26T06:39:43.699932Z",
     "iopub.status.idle": "2023-05-26T06:39:43.706078Z",
     "shell.execute_reply": "2023-05-26T06:39:43.704828Z"
    },
    "papermill": {
     "duration": 0.017636,
     "end_time": "2023-05-26T06:39:43.708311",
     "exception": false,
     "start_time": "2023-05-26T06:39:43.690675",
     "status": "completed"
    },
    "tags": []
   },
   "outputs": [
    {
     "name": "stdout",
     "output_type": "stream",
     "text": [
      "#row: 70686\n",
      "#col: 42\n"
     ]
    }
   ],
   "source": [
    "num_rows, num_cols = dataset_df.shape\n",
    "\n",
    "print(\"#row:\", num_rows)\n",
    "print(\"#col:\", num_cols)"
   ]
  },
  {
   "cell_type": "code",
   "execution_count": 13,
   "id": "b91d3416",
   "metadata": {
    "execution": {
     "iopub.execute_input": "2023-05-26T06:39:43.726591Z",
     "iopub.status.busy": "2023-05-26T06:39:43.725714Z",
     "iopub.status.idle": "2023-05-26T06:39:43.738467Z",
     "shell.execute_reply": "2023-05-26T06:39:43.737041Z"
    },
    "papermill": {
     "duration": 0.024866,
     "end_time": "2023-05-26T06:39:43.741107",
     "exception": false,
     "start_time": "2023-05-26T06:39:43.716241",
     "status": "completed"
    },
    "tags": []
   },
   "outputs": [],
   "source": [
    "# dataset_df = dataset_df.drop(columns = [1, 2, 32, 39, 5, 6, 7, 8, 11, 14,19, 24, 29, 36])\n",
    "dataset_df = dataset_df.drop(columns = [1, 2, 32, 39])"
   ]
  },
  {
   "cell_type": "code",
   "execution_count": 14,
   "id": "79d28be8",
   "metadata": {
    "execution": {
     "iopub.execute_input": "2023-05-26T06:39:43.759402Z",
     "iopub.status.busy": "2023-05-26T06:39:43.758554Z",
     "iopub.status.idle": "2023-05-26T06:39:43.765216Z",
     "shell.execute_reply": "2023-05-26T06:39:43.763780Z"
    },
    "papermill": {
     "duration": 0.018468,
     "end_time": "2023-05-26T06:39:43.767561",
     "exception": false,
     "start_time": "2023-05-26T06:39:43.749093",
     "status": "completed"
    },
    "tags": []
   },
   "outputs": [
    {
     "name": "stdout",
     "output_type": "stream",
     "text": [
      "#row: 70686\n",
      "#col: 38\n"
     ]
    }
   ],
   "source": [
    "num_rows, num_cols = dataset_df.shape\n",
    "\n",
    "print(\"#row:\", num_rows)\n",
    "print(\"#col:\", num_cols)"
   ]
  },
  {
   "cell_type": "code",
   "execution_count": 15,
   "id": "37554b86",
   "metadata": {
    "execution": {
     "iopub.execute_input": "2023-05-26T06:39:43.786268Z",
     "iopub.status.busy": "2023-05-26T06:39:43.785413Z",
     "iopub.status.idle": "2023-05-26T06:39:43.794534Z",
     "shell.execute_reply": "2023-05-26T06:39:43.793404Z"
    },
    "papermill": {
     "duration": 0.021556,
     "end_time": "2023-05-26T06:39:43.797225",
     "exception": false,
     "start_time": "2023-05-26T06:39:43.775669",
     "status": "completed"
    },
    "tags": []
   },
   "outputs": [],
   "source": [
    "FEATURES = [c for c in dataset_df.columns if c != 'level_group']\n",
    "# ALL_USERS = dataset_df.index.unique()\n",
    "ALL_USERS = dataset_df['session_id'].unique()\n",
    "\n",
    "\n",
    "gkf = GroupKFold(n_splits=5)\n",
    "oof = pd.DataFrame(data=np.zeros((len(ALL_USERS),18)), index=ALL_USERS)\n",
    "models = {}\n",
    "evaluation_dict ={}"
   ]
  },
  {
   "cell_type": "code",
   "execution_count": 16,
   "id": "b0376802",
   "metadata": {
    "execution": {
     "iopub.execute_input": "2023-05-26T06:39:43.815515Z",
     "iopub.status.busy": "2023-05-26T06:39:43.814723Z",
     "iopub.status.idle": "2023-05-26T06:39:43.819005Z",
     "shell.execute_reply": "2023-05-26T06:39:43.818090Z"
    },
    "papermill": {
     "duration": 0.01631,
     "end_time": "2023-05-26T06:39:43.821498",
     "exception": false,
     "start_time": "2023-05-26T06:39:43.805188",
     "status": "completed"
    },
    "tags": []
   },
   "outputs": [],
   "source": [
    "# ALL_USERS"
   ]
  },
  {
   "cell_type": "code",
   "execution_count": 17,
   "id": "0dec1134",
   "metadata": {
    "execution": {
     "iopub.execute_input": "2023-05-26T06:39:43.840592Z",
     "iopub.status.busy": "2023-05-26T06:39:43.839825Z",
     "iopub.status.idle": "2023-05-26T06:51:27.673048Z",
     "shell.execute_reply": "2023-05-26T06:51:27.671807Z"
    },
    "papermill": {
     "duration": 703.846442,
     "end_time": "2023-05-26T06:51:27.676099",
     "exception": false,
     "start_time": "2023-05-26T06:39:43.829657",
     "status": "completed"
    },
    "tags": []
   },
   "outputs": [
    {
     "name": "stdout",
     "output_type": "stream",
     "text": [
      "-------------------------\n",
      "    <<<  Fold  1  >>>\n",
      "-------------------------\n",
      "1(642), 2(748), 3(587), 4(706), 5(624), 6(830), 7(871), 8(396), 9(657), 10(620), 11(523), 12(562), 13(518), 14(931), 15(584), 16(444), 17(271), 18(764), \n",
      "-------------------------\n",
      "    <<<  Fold  2  >>>\n",
      "-------------------------\n",
      "1(846), 2(848), 3(754), 4(1000), 5(739), 6(678), 7(822), 8(347), 9(777), 10(623), 11(397), 12(746), 13(635), 14(960), 15(990), 16(402), 17(426), 18(810), \n",
      "-------------------------\n",
      "    <<<  Fold  3  >>>\n",
      "-------------------------\n",
      "1(630), 2(687), 3(496), 4(990), 5(663), 6(754), 7(834), 8(474), 9(589), 10(600), 11(471), 12(578), 13(425), 14(779), 15(998), 16(349), 17(415), 18(806), \n",
      "-------------------------\n",
      "    <<<  Fold  4  >>>\n",
      "-------------------------\n",
      "1(810), 2(999), 3(524), 4(983), 5(792), 6(641), 7(618), 8(233), 9(523), 10(509), 11(734), 12(518), 13(748), 14(805), 15(1000), 16(288), 17(364), 18(575), \n",
      "-------------------------\n",
      "    <<<  Fold  5  >>>\n",
      "-------------------------\n",
      "1(802), 2(741), 3(668), 4(999), 5(643), 6(828), 7(642), 8(386), 9(637), 10(602), 11(435), 12(606), 13(660), 14(882), 15(968), 16(400), 17(390), 18(736), \n"
     ]
    }
   ],
   "source": [
    "for i, (train_index, test_index) in enumerate(gkf.split(X=dataset_df, groups=dataset_df.index)):\n",
    "    print('-'*25)\n",
    "    print('    <<<  Fold ',i+1, ' >>>')\n",
    "    print('-'*25)\n",
    "    \n",
    "    # default: 0.684 ~ 0.685\n",
    "    xgb_params = {\n",
    "        'objective' : 'binary:logistic',\n",
    "        'eval_metric':'logloss',\n",
    "        'learning_rate': 0.02,\n",
    "        'max_depth': 5,\n",
    "        'n_estimators': 1000,\n",
    "        'early_stopping_rounds': 50,\n",
    "        'tree_method':'hist',\n",
    "        'subsample':0.8,\n",
    "        'colsample_bytree': 0.4,\n",
    "        'use_label_encoder' : False\n",
    "    }\n",
    "\n",
    "    xgb_params_1 = {\n",
    "        'objective' : 'binary:logistic',\n",
    "        'eval_metric':'logloss',\n",
    "        'learning_rate': 0.01,\n",
    "        'max_depth': 5,\n",
    "        'n_estimators': 1000,\n",
    "        'early_stopping_rounds': 50,\n",
    "        'tree_method':'hist',\n",
    "        'subsample':0.5,\n",
    "        'colsample_bytree': 1,\n",
    "        'use_label_encoder' : False,\n",
    "        \n",
    "        ### Parameters Tuning.. \n",
    "        'gamma': 5,\n",
    "        'min_child_weight': 8,\n",
    "        'colsample_bytree': 0.5\n",
    "    }\n",
    "    \n",
    "    xgb_params_2 = {\n",
    "        'objective' : 'binary:logistic',\n",
    "        'eval_metric':'logloss',\n",
    "        'learning_rate': 0.01,\n",
    "        'max_depth': 10,\n",
    "        'n_estimators': 100,\n",
    "        'early_stopping_rounds': 50,\n",
    "        'tree_method':'hist',\n",
    "        'subsample':0.5,\n",
    "        'colsample_bytree': 1,\n",
    "        'use_label_encoder' : False,\n",
    "        \n",
    "        ### Parameters Tuning.. \n",
    "        'gamma': 5,\n",
    "        'min_child_weight': 10,\n",
    "        'colsample_bytree': 0.8\n",
    "    }\n",
    "    \n",
    "    for q_no in range(1,19):\n",
    "\n",
    "        # Select level group for the question based on the q_no.\n",
    "        if q_no<=3: grp = '0-4'\n",
    "        elif q_no<=13: grp = '5-12'\n",
    "        elif q_no<=22: grp = '13-22'\n",
    "\n",
    "\n",
    "        # TRAIN DATA\n",
    "        train_x = dataset_df.iloc[train_index]\n",
    "        train_x = train_x.loc[train_x.level_group == grp]\n",
    "#         train_users = train_x.index.values\n",
    "        train_users = train_x['session_id'].values\n",
    "\n",
    "\n",
    "        train_y = labels.loc[labels.q==q_no].set_index('session').loc[train_users]\n",
    "        \n",
    "        # VALID DATA\n",
    "        valid_x = dataset_df.iloc[test_index]\n",
    "        valid_x = valid_x.loc[valid_x.level_group == grp]\n",
    "#         valid_users = valid_x.index.values\n",
    "        valid_users = valid_x['session_id'].values\n",
    "\n",
    "        valid_y = labels.loc[labels.q==q_no].set_index('session').loc[valid_users]\n",
    "\n",
    "        # We will now create the Gradient Boosted Trees Model with default settings. \n",
    "        # By default the model is set to train for a classification task.\n",
    "        xgb = XGBClassifier(**xgb_params_1)\n",
    "        xgb.fit(train_x[FEATURES].astype('float32'), train_y['correct'],\n",
    "                eval_set=[ (valid_x[FEATURES].astype('float32'), valid_y['correct']) ],\n",
    "                verbose=0)\n",
    "        print(f'{q_no}({xgb.best_ntree_limit}), ',end='')\n",
    "        \n",
    "        # SAVE MODEL, PREDICT VALID OOF\n",
    "        models[f'{grp}_{q_no}'] = xgb\n",
    "        oof.loc[valid_users, q_no-1] = xgb.predict_proba(valid_x[FEATURES].astype('float32'))[:,1]  \n",
    "    print()"
   ]
  },
  {
   "cell_type": "code",
   "execution_count": 18,
   "id": "5c0e5a6f",
   "metadata": {
    "execution": {
     "iopub.execute_input": "2023-05-26T06:51:27.706184Z",
     "iopub.status.busy": "2023-05-26T06:51:27.705741Z",
     "iopub.status.idle": "2023-05-26T06:51:27.710375Z",
     "shell.execute_reply": "2023-05-26T06:51:27.709266Z"
    },
    "papermill": {
     "duration": 0.022641,
     "end_time": "2023-05-26T06:51:27.712810",
     "exception": false,
     "start_time": "2023-05-26T06:51:27.690169",
     "status": "completed"
    },
    "tags": []
   },
   "outputs": [],
   "source": [
    "# from xgboost import plot_importance\n",
    "\n",
    "# fig, ax = plt.subplots()\n",
    "# plot_importance(xgb, ax=ax)"
   ]
  },
  {
   "cell_type": "code",
   "execution_count": 19,
   "id": "1995f316",
   "metadata": {
    "execution": {
     "iopub.execute_input": "2023-05-26T06:51:27.742880Z",
     "iopub.status.busy": "2023-05-26T06:51:27.742035Z",
     "iopub.status.idle": "2023-05-26T06:51:27.875999Z",
     "shell.execute_reply": "2023-05-26T06:51:27.874855Z"
    },
    "papermill": {
     "duration": 0.151899,
     "end_time": "2023-05-26T06:51:27.878621",
     "exception": false,
     "start_time": "2023-05-26T06:51:27.726722",
     "status": "completed"
    },
    "tags": []
   },
   "outputs": [],
   "source": [
    "true = oof.copy()\n",
    "for k in range(18):\n",
    "    # GET TRUE LABELS\n",
    "    tmp = labels.loc[labels.q == k+1].set_index('session').loc[ALL_USERS]\n",
    "    true[k] = tmp.correct.values"
   ]
  },
  {
   "cell_type": "code",
   "execution_count": 20,
   "id": "ece9f196",
   "metadata": {
    "execution": {
     "iopub.execute_input": "2023-05-26T06:51:27.907778Z",
     "iopub.status.busy": "2023-05-26T06:51:27.907147Z",
     "iopub.status.idle": "2023-05-26T06:51:34.528644Z",
     "shell.execute_reply": "2023-05-26T06:51:34.527556Z"
    },
    "papermill": {
     "duration": 6.638989,
     "end_time": "2023-05-26T06:51:34.531189",
     "exception": false,
     "start_time": "2023-05-26T06:51:27.892200",
     "status": "completed"
    },
    "tags": []
   },
   "outputs": [
    {
     "name": "stdout",
     "output_type": "stream",
     "text": [
      "0.40, 0.41, 0.42, 0.43, 0.44, 0.45, 0.46, 0.47, 0.48, 0.49, 0.50, 0.51, 0.52, 0.53, 0.54, 0.55, 0.56, 0.57, 0.58, 0.59, 0.60, 0.61, 0.62, 0.63, 0.64, 0.65, 0.66, 0.67, 0.68, 0.69, 0.70, 0.71, 0.72, 0.73, 0.74, 0.75, 0.76, 0.77, 0.78, 0.79, 0.80, "
     ]
    }
   ],
   "source": [
    "# FIND BEST THRESHOLD TO CONVERT PROBS INTO 1s AND 0s\n",
    "scores = []; thresholds = []\n",
    "best_score = 0; best_threshold = 0\n",
    "\n",
    "for threshold in np.arange(0.4,0.81,0.01):\n",
    "    print(f'{threshold:.02f}, ',end='')\n",
    "    preds = (oof.values.reshape((-1))>threshold).astype('int')\n",
    "    m = f1_score(true.values.reshape((-1)), preds, average='macro')   \n",
    "    scores.append(m)\n",
    "    thresholds.append(threshold)\n",
    "    if m>best_score:\n",
    "        best_score = m\n",
    "        best_threshold = threshold"
   ]
  },
  {
   "cell_type": "code",
   "execution_count": 21,
   "id": "a399c0fe",
   "metadata": {
    "execution": {
     "iopub.execute_input": "2023-05-26T06:51:34.565150Z",
     "iopub.status.busy": "2023-05-26T06:51:34.563871Z",
     "iopub.status.idle": "2023-05-26T06:51:34.897156Z",
     "shell.execute_reply": "2023-05-26T06:51:34.895973Z"
    },
    "papermill": {
     "duration": 0.35304,
     "end_time": "2023-05-26T06:51:34.899676",
     "exception": false,
     "start_time": "2023-05-26T06:51:34.546636",
     "status": "completed"
    },
    "tags": []
   },
   "outputs": [
    {
     "name": "stdout",
     "output_type": "stream",
     "text": [
      "Q0: F1 = 0.6034665432496664\n",
      "Q1: F1 = 0.49463795470144134\n",
      "Q2: F1 = 0.4916699116572477\n",
      "Q3: F1 = 0.6405942039236724\n",
      "Q4: F1 = 0.5878853958318808\n",
      "Q5: F1 = 0.6113794488147599\n",
      "Q6: F1 = 0.5964178976296806\n",
      "Q7: F1 = 0.5427710322820194\n",
      "Q8: F1 = 0.6026004794969142\n",
      "Q9: F1 = 0.5165332308667123\n",
      "Q10: F1 = 0.5997895921690916\n",
      "Q11: F1 = 0.4992310271938978\n",
      "Q12: F1 = 0.43453036303513976\n",
      "Q13: F1 = 0.60875545062588\n",
      "Q14: F1 = 0.5009143847537622\n",
      "Q15: F1 = 0.4746282575403679\n",
      "Q16: F1 = 0.5429366871558828\n",
      "Q17: F1 = 0.49238909117190405\n",
      "==> Overall F1 = 0.6814449893244425\n"
     ]
    }
   ],
   "source": [
    "for k in range(18):\n",
    "        \n",
    "    # COMPUTE F1 SCORE PER QUESTION\n",
    "    m = f1_score(true[k].values, (oof[k].values>best_threshold).astype('int'), average='macro')\n",
    "    print(f'Q{k}: F1 =',m)\n",
    "    \n",
    "# COMPUTE F1 SCORE OVERALL\n",
    "m = f1_score(true.values.reshape((-1)), (oof.values.reshape((-1))>best_threshold).astype('int'), average='macro')\n",
    "print('==> Overall F1 =',m)"
   ]
  },
  {
   "cell_type": "code",
   "execution_count": 22,
   "id": "5e66d42a",
   "metadata": {
    "execution": {
     "iopub.execute_input": "2023-05-26T06:51:34.931673Z",
     "iopub.status.busy": "2023-05-26T06:51:34.930582Z",
     "iopub.status.idle": "2023-05-26T06:51:34.935789Z",
     "shell.execute_reply": "2023-05-26T06:51:34.934878Z"
    },
    "papermill": {
     "duration": 0.023585,
     "end_time": "2023-05-26T06:51:34.938070",
     "exception": false,
     "start_time": "2023-05-26T06:51:34.914485",
     "status": "completed"
    },
    "tags": []
   },
   "outputs": [],
   "source": [
    "# # Reference\n",
    "# # https://www.kaggle.com/code/philculliton/basic-submission-demo\n",
    "# # https://www.kaggle.com/code/cdeotte/random-forest-baseline-0-664/notebook\n",
    "\n",
    "# import jo_wilder\n",
    "# env = jo_wilder.make_env()\n",
    "# iter_test = env.iter_test()\n",
    "\n",
    "# limits = {'0-4':(1,4), '5-12':(4,14), '13-22':(14,19)}\n",
    "\n",
    "# for (test, sample_submission) in iter_test:\n",
    "#     # FEATURE ENGINEER TEST DATA\n",
    "#     df = feature_engineer(test)\n",
    "#     # INFER TEST DATA\n",
    "#     grp = test.level_group.values[0]\n",
    "#     a,b = limits[grp]\n",
    "#     for t in range(a,b):\n",
    "#         xgb = models[f'{grp}_{t}']\n",
    "#         p = xgb.predict_proba(df[FEATURES].astype('float32'))[0,1]\n",
    "#         mask = sample_submission.session_id.str.contains(f'q{t}')\n",
    "#         sample_submission.loc[mask,'correct'] = int( p > best_threshold )\n",
    "    \n",
    "#     env.predict(sample_submission)"
   ]
  },
  {
   "cell_type": "code",
   "execution_count": 23,
   "id": "625cf4e2",
   "metadata": {
    "execution": {
     "iopub.execute_input": "2023-05-26T06:51:34.970370Z",
     "iopub.status.busy": "2023-05-26T06:51:34.969537Z",
     "iopub.status.idle": "2023-05-26T06:51:37.115137Z",
     "shell.execute_reply": "2023-05-26T06:51:37.113974Z"
    },
    "papermill": {
     "duration": 2.165119,
     "end_time": "2023-05-26T06:51:37.118000",
     "exception": false,
     "start_time": "2023-05-26T06:51:34.952881",
     "status": "completed"
    },
    "tags": []
   },
   "outputs": [
    {
     "name": "stdout",
     "output_type": "stream",
     "text": [
      "This version of the API is not optimized and should not be used to estimate the runtime of your code on the hidden test set.\n"
     ]
    }
   ],
   "source": [
    "import jo_wilder\n",
    "env = jo_wilder.make_env()\n",
    "iter_test = env.iter_test()\n",
    "\n",
    "limits = {'0-4':(1,4), '5-12':(4,14), '13-22':(14,19)}\n",
    "\n",
    "for (test, sample_submission) in iter_test:\n",
    "    # FEATURE ENGINEER TEST DATA\n",
    "    test_data = feature_engineer(test)\n",
    "    #test\n",
    "    test_session_id = test_data.index\n",
    "    test_session_df = pd.DataFrame(test_session_id)\n",
    "    test_session_df.name = 'session_id'\n",
    "    \n",
    "    test_data_for_pca = test_data.drop(['level_group'], axis=1)\n",
    "    pca_test_result = pca.transform(test_data_for_pca)\n",
    "    pca_test_df = pd.DataFrame(pca_test_result)\n",
    "    \n",
    "    test_data.reset_index(drop=True, inplace=True) \n",
    "    test_data = pd.concat([test_session_df,test_data[['level_group']],pca_test_df], axis=1)\n",
    "    #test\n",
    "    # INFER TEST DATA\n",
    "    grp = test.level_group.values[0]\n",
    "    a,b = limits[grp]\n",
    "    for t in range(a,b):\n",
    "        xgb = models[f'{grp}_{t}']\n",
    "        p = xgb.predict_proba(test_data[FEATURES].astype('float32'))[0,1]\n",
    "        mask = sample_submission.session_id.str.contains(f'q{t}')\n",
    "        sample_submission.loc[mask,'correct'] = int( p > best_threshold )\n",
    "    \n",
    "    env.predict(sample_submission)"
   ]
  },
  {
   "cell_type": "code",
   "execution_count": null,
   "id": "e4f5717e",
   "metadata": {
    "papermill": {
     "duration": 0.014459,
     "end_time": "2023-05-26T06:51:37.147400",
     "exception": false,
     "start_time": "2023-05-26T06:51:37.132941",
     "status": "completed"
    },
    "tags": []
   },
   "outputs": [],
   "source": []
  },
  {
   "cell_type": "code",
   "execution_count": null,
   "id": "b2af4afc",
   "metadata": {
    "papermill": {
     "duration": 0.014479,
     "end_time": "2023-05-26T06:51:37.176819",
     "exception": false,
     "start_time": "2023-05-26T06:51:37.162340",
     "status": "completed"
    },
    "tags": []
   },
   "outputs": [],
   "source": []
  }
 ],
 "metadata": {
  "kernelspec": {
   "display_name": "Python 3",
   "language": "python",
   "name": "python3"
  },
  "language_info": {
   "codemirror_mode": {
    "name": "ipython",
    "version": 3
   },
   "file_extension": ".py",
   "mimetype": "text/x-python",
   "name": "python",
   "nbconvert_exporter": "python",
   "pygments_lexer": "ipython3",
   "version": "3.7.12"
  },
  "papermill": {
   "default_parameters": {},
   "duration": 939.457587,
   "end_time": "2023-05-26T06:51:38.216441",
   "environment_variables": {},
   "exception": null,
   "input_path": "__notebook__.ipynb",
   "output_path": "__notebook__.ipynb",
   "parameters": {},
   "start_time": "2023-05-26T06:35:58.758854",
   "version": "2.4.0"
  }
 },
 "nbformat": 4,
 "nbformat_minor": 5
}
