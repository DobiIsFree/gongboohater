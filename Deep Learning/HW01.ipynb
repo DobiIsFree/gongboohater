{
  "nbformat": 4,
  "nbformat_minor": 0,
  "metadata": {
    "colab": {
      "provenance": [],
      "collapsed_sections": [
        "H2HKloPmxJNW"
      ],
      "authorship_tag": "ABX9TyO8Elv0UE3o7RML1DYXnpi9",
      "include_colab_link": true
    },
    "kernelspec": {
      "name": "python3",
      "display_name": "Python 3"
    },
    "language_info": {
      "name": "python"
    }
  },
  "cells": [
    {
      "cell_type": "markdown",
      "metadata": {
        "id": "view-in-github",
        "colab_type": "text"
      },
      "source": [
        "<a href=\"https://colab.research.google.com/github/DobiIsFree/gongboohater/blob/main/HW01.ipynb\" target=\"_parent\"><img src=\"https://colab.research.google.com/assets/colab-badge.svg\" alt=\"Open In Colab\"/></a>"
      ]
    },
    {
      "cell_type": "markdown",
      "source": [
        "# Homework 01"
      ],
      "metadata": {
        "id": "ZIcttiAbxEpc"
      }
    },
    {
      "cell_type": "markdown",
      "source": [
        "## Regression (California housing dataset)\n",
        "\n",
        "- keras functional API\n"
      ],
      "metadata": {
        "id": "H2HKloPmxJNW"
      }
    },
    {
      "cell_type": "code",
      "source": [
        "import matplotlib.pyplot as plt\n",
        "import tensorflow as tf\n",
        "from tensorflow import keras\n",
        "from sklearn.datasets import fetch_california_housing\n",
        "\n",
        "housing = fetch_california_housing()\n",
        "# print(housing.keys())\n",
        "# print(housing.feature_names)\n",
        "\n",
        "x_data = housing.data # (20640, 8)\n",
        "y_data = housing.target # (20640, )"
      ],
      "metadata": {
        "id": "ymIFLyMcxFxQ"
      },
      "execution_count": null,
      "outputs": []
    },
    {
      "cell_type": "code",
      "source": [
        "from sklearn import model_selection\n",
        "# model_selection 모듈로부터 train_test_split 함수를 사용해\n",
        "# 전체 dataset을 train, test dataset으로 분리한다.\n",
        "\n",
        "# test_size = 0.2 (전체 dataset에서 20%를 테스트로 활용하고 나머지는 train으로 활용)\n",
        "x_train, x_test, y_train, y_test = model_selection.train_test_split(x_data, y_data, test_size = 0.2)\n",
        "\n",
        "\n",
        "# 데이터 표준화\n",
        "from sklearn.preprocessing import StandardScaler\n",
        "\n",
        "scaler = StandardScaler()\n",
        "# fit_transform: 입력된 데이터의 평균, 표준편차 계산해 저장 -> 저장된 평균과 표준편차로 입력된 데이터 표준화\n",
        "x_train_scaled = scaler.fit_transform(x_train)\n",
        "x_test_scaled = scaler.fit_transform(x_test) # 변환 과정"
      ],
      "metadata": {
        "id": "5SVpSrxehUdR"
      },
      "execution_count": null,
      "outputs": []
    },
    {
      "cell_type": "code",
      "source": [
        "from keras import layers, models\n",
        "\n",
        "input_shape1 = (x_train_scaled.shape[1], )\n",
        "input_shape2 = (x_train_scaled.shape[1], )\n",
        "print(input_shape1)\n",
        "\n",
        "input1 = layers.Input(shape=input_shape1)\n",
        "hidden1_1st = layers.Dense(4, activation='relu')(input1)\n",
        "hidden1_2nd = layers.Dense(2, activation='relu')(hidden1_1st)\n",
        "output1 = layers.Dense(1, activation='linear')(hidden1_2nd)\n",
        "\n",
        "regr_model_func1 = models.Model(input1, output1)\n",
        "\n",
        "regr_model_func1.compile(loss='mean_squared_error')\n",
        "regr_model_func1.summary()"
      ],
      "metadata": {
        "colab": {
          "base_uri": "https://localhost:8080/"
        },
        "id": "KJIL6GJoxuaX",
        "outputId": "fcf2e69b-e903-4343-834b-a3f0c99e1eeb"
      },
      "execution_count": null,
      "outputs": [
        {
          "output_type": "stream",
          "name": "stdout",
          "text": [
            "(8,)\n",
            "Model: \"model_18\"\n",
            "_________________________________________________________________\n",
            " Layer (type)                Output Shape              Param #   \n",
            "=================================================================\n",
            " input_19 (InputLayer)       [(None, 8)]               0         \n",
            "                                                                 \n",
            " dense_91 (Dense)            (None, 4)                 36        \n",
            "                                                                 \n",
            " dense_92 (Dense)            (None, 2)                 10        \n",
            "                                                                 \n",
            " dense_93 (Dense)            (None, 1)                 3         \n",
            "                                                                 \n",
            "=================================================================\n",
            "Total params: 49\n",
            "Trainable params: 49\n",
            "Non-trainable params: 0\n",
            "_________________________________________________________________\n"
          ]
        }
      ]
    },
    {
      "cell_type": "code",
      "source": [
        "input2 = layers.Input(shape=input_shape2)\n",
        "hidden2_1st = layers.Dense(16, activation='relu')(input2)\n",
        "hidden2_2nd = layers.Dense(8, activation='relu')(hidden2_1st)\n",
        "hidden2_3rd = layers.Dense(4, activation='relu')(hidden2_2nd)\n",
        "hidden2_4th = layers.Dense(2, activation='relu')(hidden2_3rd)\n",
        "output2 = layers.Dense(1, activation='linear')(hidden2_4th)\n",
        "\n",
        "regr_model_func2 = models.Model(input2, output2)\n",
        "\n",
        "regr_model_func2.compile(loss='mean_squared_error')\n",
        "regr_model_func2.summary()"
      ],
      "metadata": {
        "colab": {
          "base_uri": "https://localhost:8080/"
        },
        "id": "hRYXBKqNtM3Q",
        "outputId": "746e557d-89b4-454a-f7bc-0b64ad0ad3f1"
      },
      "execution_count": null,
      "outputs": [
        {
          "output_type": "stream",
          "name": "stdout",
          "text": [
            "Model: \"model_19\"\n",
            "_________________________________________________________________\n",
            " Layer (type)                Output Shape              Param #   \n",
            "=================================================================\n",
            " input_20 (InputLayer)       [(None, 8)]               0         \n",
            "                                                                 \n",
            " dense_94 (Dense)            (None, 16)                144       \n",
            "                                                                 \n",
            " dense_95 (Dense)            (None, 8)                 136       \n",
            "                                                                 \n",
            " dense_96 (Dense)            (None, 4)                 36        \n",
            "                                                                 \n",
            " dense_97 (Dense)            (None, 2)                 10        \n",
            "                                                                 \n",
            " dense_98 (Dense)            (None, 1)                 3         \n",
            "                                                                 \n",
            "=================================================================\n",
            "Total params: 329\n",
            "Trainable params: 329\n",
            "Non-trainable params: 0\n",
            "_________________________________________________________________\n"
          ]
        }
      ]
    },
    {
      "cell_type": "code",
      "source": [
        "history1 = regr_model_func1.fit(x_train_scaled, y_train, validation_data = [x_test_scaled, y_test], epochs=100)"
      ],
      "metadata": {
        "colab": {
          "base_uri": "https://localhost:8080/"
        },
        "id": "sHISGw6Tzt5k",
        "outputId": "10b582bf-f3c5-475d-f02e-bcd96c4002a3"
      },
      "execution_count": null,
      "outputs": [
        {
          "output_type": "stream",
          "name": "stdout",
          "text": [
            "Epoch 1/100\n",
            "516/516 [==============================] - 1s 2ms/step - loss: 4.2992 - val_loss: 1.5473\n",
            "Epoch 2/100\n",
            "516/516 [==============================] - 1s 2ms/step - loss: 0.8941 - val_loss: 0.6109\n",
            "Epoch 3/100\n",
            "516/516 [==============================] - 1s 2ms/step - loss: 0.5450 - val_loss: 0.5127\n",
            "Epoch 4/100\n",
            "516/516 [==============================] - 1s 3ms/step - loss: 0.4623 - val_loss: 0.4661\n",
            "Epoch 5/100\n",
            "516/516 [==============================] - 1s 3ms/step - loss: 0.4270 - val_loss: 0.4398\n",
            "Epoch 6/100\n",
            "516/516 [==============================] - 1s 2ms/step - loss: 0.4142 - val_loss: 0.4344\n",
            "Epoch 7/100\n",
            "516/516 [==============================] - 1s 2ms/step - loss: 0.4084 - val_loss: 0.4316\n",
            "Epoch 8/100\n",
            "516/516 [==============================] - 1s 3ms/step - loss: 0.4047 - val_loss: 0.4317\n",
            "Epoch 9/100\n",
            "516/516 [==============================] - 2s 3ms/step - loss: 0.4006 - val_loss: 0.4252\n",
            "Epoch 10/100\n",
            "516/516 [==============================] - 1s 3ms/step - loss: 0.3971 - val_loss: 0.4228\n",
            "Epoch 11/100\n",
            "516/516 [==============================] - 2s 3ms/step - loss: 0.3934 - val_loss: 0.4219\n",
            "Epoch 12/100\n",
            "516/516 [==============================] - 2s 4ms/step - loss: 0.3909 - val_loss: 0.4195\n",
            "Epoch 13/100\n",
            "516/516 [==============================] - 3s 5ms/step - loss: 0.3902 - val_loss: 0.4179\n",
            "Epoch 14/100\n",
            "516/516 [==============================] - 2s 4ms/step - loss: 0.3874 - val_loss: 0.4125\n",
            "Epoch 15/100\n",
            "516/516 [==============================] - 2s 3ms/step - loss: 0.3851 - val_loss: 0.4137\n",
            "Epoch 16/100\n",
            "516/516 [==============================] - 2s 3ms/step - loss: 0.3849 - val_loss: 0.4194\n",
            "Epoch 17/100\n",
            "516/516 [==============================] - 2s 3ms/step - loss: 0.3847 - val_loss: 0.4079\n",
            "Epoch 18/100\n",
            "516/516 [==============================] - 2s 4ms/step - loss: 0.3836 - val_loss: 0.4105\n",
            "Epoch 19/100\n",
            "516/516 [==============================] - 3s 5ms/step - loss: 0.3827 - val_loss: 0.4118\n",
            "Epoch 20/100\n",
            "516/516 [==============================] - 3s 5ms/step - loss: 0.3820 - val_loss: 0.4109\n",
            "Epoch 21/100\n",
            "516/516 [==============================] - 2s 3ms/step - loss: 0.3817 - val_loss: 0.4122\n",
            "Epoch 22/100\n",
            "516/516 [==============================] - 2s 4ms/step - loss: 0.3838 - val_loss: 0.4133\n",
            "Epoch 23/100\n",
            "516/516 [==============================] - 1s 2ms/step - loss: 0.3828 - val_loss: 0.4118\n",
            "Epoch 24/100\n",
            "516/516 [==============================] - 1s 2ms/step - loss: 0.3821 - val_loss: 0.4110\n",
            "Epoch 25/100\n",
            "516/516 [==============================] - 1s 2ms/step - loss: 0.3802 - val_loss: 0.4113\n",
            "Epoch 26/100\n",
            "516/516 [==============================] - 1s 2ms/step - loss: 0.3786 - val_loss: 0.4082\n",
            "Epoch 27/100\n",
            "516/516 [==============================] - 1s 2ms/step - loss: 0.3776 - val_loss: 0.4125\n",
            "Epoch 28/100\n",
            "516/516 [==============================] - 1s 2ms/step - loss: 0.3767 - val_loss: 0.4158\n",
            "Epoch 29/100\n",
            "516/516 [==============================] - 1s 3ms/step - loss: 0.3757 - val_loss: 0.4069\n",
            "Epoch 30/100\n",
            "516/516 [==============================] - 1s 2ms/step - loss: 0.3751 - val_loss: 0.4078\n",
            "Epoch 31/100\n",
            "516/516 [==============================] - 1s 2ms/step - loss: 0.3743 - val_loss: 0.4106\n",
            "Epoch 32/100\n",
            "516/516 [==============================] - 1s 2ms/step - loss: 0.3746 - val_loss: 0.4156\n",
            "Epoch 33/100\n",
            "516/516 [==============================] - 1s 2ms/step - loss: 0.3733 - val_loss: 0.4142\n",
            "Epoch 34/100\n",
            "516/516 [==============================] - 1s 2ms/step - loss: 0.3732 - val_loss: 0.4139\n",
            "Epoch 35/100\n",
            "516/516 [==============================] - 1s 2ms/step - loss: 0.3727 - val_loss: 0.4174\n",
            "Epoch 36/100\n",
            "516/516 [==============================] - 1s 2ms/step - loss: 0.3724 - val_loss: 0.4089\n",
            "Epoch 37/100\n",
            "516/516 [==============================] - 1s 2ms/step - loss: 0.3726 - val_loss: 0.4095\n",
            "Epoch 38/100\n",
            "516/516 [==============================] - 1s 2ms/step - loss: 0.3722 - val_loss: 0.4133\n",
            "Epoch 39/100\n",
            "516/516 [==============================] - 1s 2ms/step - loss: 0.3717 - val_loss: 0.4105\n",
            "Epoch 40/100\n",
            "516/516 [==============================] - 1s 2ms/step - loss: 0.3720 - val_loss: 0.4158\n",
            "Epoch 41/100\n",
            "516/516 [==============================] - 1s 2ms/step - loss: 0.3715 - val_loss: 0.4156\n",
            "Epoch 42/100\n",
            "516/516 [==============================] - 1s 2ms/step - loss: 0.3707 - val_loss: 0.4054\n",
            "Epoch 43/100\n",
            "516/516 [==============================] - 1s 2ms/step - loss: 0.3712 - val_loss: 0.4146\n",
            "Epoch 44/100\n",
            "516/516 [==============================] - 1s 2ms/step - loss: 0.3705 - val_loss: 0.4125\n",
            "Epoch 45/100\n",
            "516/516 [==============================] - 1s 2ms/step - loss: 0.3703 - val_loss: 0.4141\n",
            "Epoch 46/100\n",
            "516/516 [==============================] - 1s 2ms/step - loss: 0.3702 - val_loss: 0.4083\n",
            "Epoch 47/100\n",
            "516/516 [==============================] - 1s 2ms/step - loss: 0.3703 - val_loss: 0.4099\n",
            "Epoch 48/100\n",
            "516/516 [==============================] - 1s 2ms/step - loss: 0.3711 - val_loss: 0.4115\n",
            "Epoch 49/100\n",
            "516/516 [==============================] - 1s 2ms/step - loss: 0.3697 - val_loss: 0.4077\n",
            "Epoch 50/100\n",
            "516/516 [==============================] - 1s 2ms/step - loss: 0.3696 - val_loss: 0.4144\n",
            "Epoch 51/100\n",
            "516/516 [==============================] - 1s 2ms/step - loss: 0.3695 - val_loss: 0.4184\n",
            "Epoch 52/100\n",
            "516/516 [==============================] - 1s 2ms/step - loss: 0.3692 - val_loss: 0.4124\n",
            "Epoch 53/100\n",
            "516/516 [==============================] - 1s 2ms/step - loss: 0.3695 - val_loss: 0.4090\n",
            "Epoch 54/100\n",
            "516/516 [==============================] - 1s 2ms/step - loss: 0.3695 - val_loss: 0.4129\n",
            "Epoch 55/100\n",
            "516/516 [==============================] - 1s 2ms/step - loss: 0.3695 - val_loss: 0.4107\n",
            "Epoch 56/100\n",
            "516/516 [==============================] - 1s 2ms/step - loss: 0.3692 - val_loss: 0.4088\n",
            "Epoch 57/100\n",
            "516/516 [==============================] - 1s 2ms/step - loss: 0.3686 - val_loss: 0.4129\n",
            "Epoch 58/100\n",
            "516/516 [==============================] - 1s 2ms/step - loss: 0.3689 - val_loss: 0.4169\n",
            "Epoch 59/100\n",
            "516/516 [==============================] - 1s 2ms/step - loss: 0.3690 - val_loss: 0.4093\n",
            "Epoch 60/100\n",
            "516/516 [==============================] - 1s 2ms/step - loss: 0.3687 - val_loss: 0.4102\n",
            "Epoch 61/100\n",
            "516/516 [==============================] - 1s 2ms/step - loss: 0.3686 - val_loss: 0.4127\n",
            "Epoch 62/100\n",
            "516/516 [==============================] - 1s 2ms/step - loss: 0.3683 - val_loss: 0.4120\n",
            "Epoch 63/100\n",
            "516/516 [==============================] - 1s 2ms/step - loss: 0.3687 - val_loss: 0.4121\n",
            "Epoch 64/100\n",
            "516/516 [==============================] - 1s 2ms/step - loss: 0.3680 - val_loss: 0.4093\n",
            "Epoch 65/100\n",
            "516/516 [==============================] - 1s 2ms/step - loss: 0.3682 - val_loss: 0.4132\n",
            "Epoch 66/100\n",
            "516/516 [==============================] - 1s 2ms/step - loss: 0.3680 - val_loss: 0.4128\n",
            "Epoch 67/100\n",
            "516/516 [==============================] - 1s 3ms/step - loss: 0.3680 - val_loss: 0.4071\n",
            "Epoch 68/100\n",
            "516/516 [==============================] - 1s 3ms/step - loss: 0.3679 - val_loss: 0.4161\n",
            "Epoch 69/100\n",
            "516/516 [==============================] - 1s 2ms/step - loss: 0.3679 - val_loss: 0.4227\n",
            "Epoch 70/100\n",
            "516/516 [==============================] - 1s 2ms/step - loss: 0.3682 - val_loss: 0.4148\n",
            "Epoch 71/100\n",
            "516/516 [==============================] - 1s 2ms/step - loss: 0.3676 - val_loss: 0.4130\n",
            "Epoch 72/100\n",
            "516/516 [==============================] - 1s 2ms/step - loss: 0.3672 - val_loss: 0.4150\n",
            "Epoch 73/100\n",
            "516/516 [==============================] - 1s 2ms/step - loss: 0.3678 - val_loss: 0.4183\n",
            "Epoch 74/100\n",
            "516/516 [==============================] - 1s 2ms/step - loss: 0.3677 - val_loss: 0.4119\n",
            "Epoch 75/100\n",
            "516/516 [==============================] - 1s 2ms/step - loss: 0.3670 - val_loss: 0.4172\n",
            "Epoch 76/100\n",
            "516/516 [==============================] - 1s 2ms/step - loss: 0.3670 - val_loss: 0.4121\n",
            "Epoch 77/100\n",
            "516/516 [==============================] - 1s 2ms/step - loss: 0.3664 - val_loss: 0.4098\n",
            "Epoch 78/100\n",
            "516/516 [==============================] - 1s 2ms/step - loss: 0.3654 - val_loss: 0.4202\n",
            "Epoch 79/100\n",
            "516/516 [==============================] - 1s 2ms/step - loss: 0.3651 - val_loss: 0.4082\n",
            "Epoch 80/100\n",
            "516/516 [==============================] - 1s 3ms/step - loss: 0.3645 - val_loss: 0.4143\n",
            "Epoch 81/100\n",
            "516/516 [==============================] - 1s 3ms/step - loss: 0.3651 - val_loss: 0.4077\n",
            "Epoch 82/100\n",
            "516/516 [==============================] - 1s 2ms/step - loss: 0.3647 - val_loss: 0.4108\n",
            "Epoch 83/100\n",
            "516/516 [==============================] - 1s 2ms/step - loss: 0.3637 - val_loss: 0.4107\n",
            "Epoch 84/100\n",
            "516/516 [==============================] - 1s 2ms/step - loss: 0.3633 - val_loss: 0.4096\n",
            "Epoch 85/100\n",
            "516/516 [==============================] - 1s 2ms/step - loss: 0.3632 - val_loss: 0.4125\n",
            "Epoch 86/100\n",
            "516/516 [==============================] - 1s 2ms/step - loss: 0.3630 - val_loss: 0.4103\n",
            "Epoch 87/100\n",
            "516/516 [==============================] - 1s 2ms/step - loss: 0.3624 - val_loss: 0.4168\n",
            "Epoch 88/100\n",
            "516/516 [==============================] - 1s 2ms/step - loss: 0.3621 - val_loss: 0.4119\n",
            "Epoch 89/100\n",
            "516/516 [==============================] - 1s 2ms/step - loss: 0.3623 - val_loss: 0.4116\n",
            "Epoch 90/100\n",
            "516/516 [==============================] - 1s 2ms/step - loss: 0.3622 - val_loss: 0.4167\n",
            "Epoch 91/100\n",
            "516/516 [==============================] - 1s 2ms/step - loss: 0.3617 - val_loss: 0.4158\n",
            "Epoch 92/100\n",
            "516/516 [==============================] - 1s 2ms/step - loss: 0.3613 - val_loss: 0.4131\n",
            "Epoch 93/100\n",
            "516/516 [==============================] - 1s 3ms/step - loss: 0.3619 - val_loss: 0.4176\n",
            "Epoch 94/100\n",
            "516/516 [==============================] - 1s 2ms/step - loss: 0.3611 - val_loss: 0.4104\n",
            "Epoch 95/100\n",
            "516/516 [==============================] - 1s 2ms/step - loss: 0.3609 - val_loss: 0.4121\n",
            "Epoch 96/100\n",
            "516/516 [==============================] - 1s 2ms/step - loss: 0.3612 - val_loss: 0.4132\n",
            "Epoch 97/100\n",
            "516/516 [==============================] - 1s 2ms/step - loss: 0.3605 - val_loss: 0.4095\n",
            "Epoch 98/100\n",
            "516/516 [==============================] - 1s 2ms/step - loss: 0.3606 - val_loss: 0.4099\n",
            "Epoch 99/100\n",
            "516/516 [==============================] - 1s 2ms/step - loss: 0.3600 - val_loss: 0.4158\n",
            "Epoch 100/100\n",
            "516/516 [==============================] - 1s 2ms/step - loss: 0.3598 - val_loss: 0.4153\n"
          ]
        }
      ]
    },
    {
      "cell_type": "code",
      "source": [
        "history2 = regr_model_func2.fit(x_train_scaled, y_train, validation_data = [x_test_scaled, y_test], epochs=100)"
      ],
      "metadata": {
        "colab": {
          "base_uri": "https://localhost:8080/"
        },
        "id": "rRJaHF7-vnk0",
        "outputId": "bc387184-92dd-4717-96b5-2954db169011"
      },
      "execution_count": null,
      "outputs": [
        {
          "output_type": "stream",
          "name": "stdout",
          "text": [
            "Epoch 1/100\n",
            "516/516 [==============================] - 2s 2ms/step - loss: 1.2596 - val_loss: 0.5953\n",
            "Epoch 2/100\n",
            "516/516 [==============================] - 1s 2ms/step - loss: 0.5164 - val_loss: 0.4790\n",
            "Epoch 3/100\n",
            "516/516 [==============================] - 1s 2ms/step - loss: 0.4338 - val_loss: 0.4560\n",
            "Epoch 4/100\n",
            "516/516 [==============================] - 1s 3ms/step - loss: 0.4023 - val_loss: 0.4237\n",
            "Epoch 5/100\n",
            "516/516 [==============================] - 2s 3ms/step - loss: 0.3853 - val_loss: 0.4203\n",
            "Epoch 6/100\n",
            "516/516 [==============================] - 1s 2ms/step - loss: 0.3727 - val_loss: 0.4112\n",
            "Epoch 7/100\n",
            "516/516 [==============================] - 1s 2ms/step - loss: 0.3643 - val_loss: 0.4096\n",
            "Epoch 8/100\n",
            "516/516 [==============================] - 1s 2ms/step - loss: 0.3587 - val_loss: 0.4102\n",
            "Epoch 9/100\n",
            "516/516 [==============================] - 1s 2ms/step - loss: 0.3555 - val_loss: 0.4093\n",
            "Epoch 10/100\n",
            "516/516 [==============================] - 1s 2ms/step - loss: 0.3520 - val_loss: 0.4023\n",
            "Epoch 11/100\n",
            "516/516 [==============================] - 1s 2ms/step - loss: 0.3478 - val_loss: 0.3932\n",
            "Epoch 12/100\n",
            "516/516 [==============================] - 1s 2ms/step - loss: 0.3464 - val_loss: 0.3994\n",
            "Epoch 13/100\n",
            "516/516 [==============================] - 1s 2ms/step - loss: 0.3429 - val_loss: 0.4149\n",
            "Epoch 14/100\n",
            "516/516 [==============================] - 1s 2ms/step - loss: 0.3407 - val_loss: 0.3987\n",
            "Epoch 15/100\n",
            "516/516 [==============================] - 1s 2ms/step - loss: 0.3387 - val_loss: 0.4350\n",
            "Epoch 16/100\n",
            "516/516 [==============================] - 1s 3ms/step - loss: 0.3367 - val_loss: 0.3940\n",
            "Epoch 17/100\n",
            "516/516 [==============================] - 1s 2ms/step - loss: 0.3358 - val_loss: 0.3910\n",
            "Epoch 18/100\n",
            "516/516 [==============================] - 2s 3ms/step - loss: 0.3328 - val_loss: 0.3992\n",
            "Epoch 19/100\n",
            "516/516 [==============================] - 1s 2ms/step - loss: 0.3322 - val_loss: 0.3951\n",
            "Epoch 20/100\n",
            "516/516 [==============================] - 1s 2ms/step - loss: 0.3305 - val_loss: 0.3899\n",
            "Epoch 21/100\n",
            "516/516 [==============================] - 1s 2ms/step - loss: 0.3282 - val_loss: 0.4074\n",
            "Epoch 22/100\n",
            "516/516 [==============================] - 1s 2ms/step - loss: 0.3281 - val_loss: 0.3992\n",
            "Epoch 23/100\n",
            "516/516 [==============================] - 1s 2ms/step - loss: 0.3265 - val_loss: 0.4062\n",
            "Epoch 24/100\n",
            "516/516 [==============================] - 1s 2ms/step - loss: 0.3249 - val_loss: 0.4346\n",
            "Epoch 25/100\n",
            "516/516 [==============================] - 1s 2ms/step - loss: 0.3243 - val_loss: 0.4115\n",
            "Epoch 26/100\n",
            "516/516 [==============================] - 1s 2ms/step - loss: 0.3227 - val_loss: 0.3865\n",
            "Epoch 27/100\n",
            "516/516 [==============================] - 1s 3ms/step - loss: 0.3229 - val_loss: 0.3968\n",
            "Epoch 28/100\n",
            "516/516 [==============================] - 1s 3ms/step - loss: 0.3203 - val_loss: 0.3928\n",
            "Epoch 29/100\n",
            "516/516 [==============================] - 1s 2ms/step - loss: 0.3195 - val_loss: 0.3879\n",
            "Epoch 30/100\n",
            "516/516 [==============================] - 1s 2ms/step - loss: 0.3176 - val_loss: 0.4276\n",
            "Epoch 31/100\n",
            "516/516 [==============================] - 1s 2ms/step - loss: 0.3167 - val_loss: 0.3981\n",
            "Epoch 32/100\n",
            "516/516 [==============================] - 1s 2ms/step - loss: 0.3152 - val_loss: 0.3894\n",
            "Epoch 33/100\n",
            "516/516 [==============================] - 1s 2ms/step - loss: 0.3139 - val_loss: 0.3988\n",
            "Epoch 34/100\n",
            "516/516 [==============================] - 1s 2ms/step - loss: 0.3130 - val_loss: 0.3901\n",
            "Epoch 35/100\n",
            "516/516 [==============================] - 1s 2ms/step - loss: 0.3123 - val_loss: 0.3937\n",
            "Epoch 36/100\n",
            "516/516 [==============================] - 1s 2ms/step - loss: 0.3107 - val_loss: 0.3825\n",
            "Epoch 37/100\n",
            "516/516 [==============================] - 1s 2ms/step - loss: 0.3097 - val_loss: 0.4031\n",
            "Epoch 38/100\n",
            "516/516 [==============================] - 1s 2ms/step - loss: 0.3078 - val_loss: 0.3905\n",
            "Epoch 39/100\n",
            "516/516 [==============================] - 1s 3ms/step - loss: 0.3073 - val_loss: 0.3822\n",
            "Epoch 40/100\n",
            "516/516 [==============================] - 1s 2ms/step - loss: 0.3057 - val_loss: 0.3944\n",
            "Epoch 41/100\n",
            "516/516 [==============================] - 1s 2ms/step - loss: 0.3056 - val_loss: 0.4033\n",
            "Epoch 42/100\n",
            "516/516 [==============================] - 1s 2ms/step - loss: 0.3044 - val_loss: 0.4044\n",
            "Epoch 43/100\n",
            "516/516 [==============================] - 1s 2ms/step - loss: 0.3018 - val_loss: 0.3908\n",
            "Epoch 44/100\n",
            "516/516 [==============================] - 1s 2ms/step - loss: 0.3003 - val_loss: 0.3819\n",
            "Epoch 45/100\n",
            "516/516 [==============================] - 1s 2ms/step - loss: 0.2992 - val_loss: 0.3793\n",
            "Epoch 46/100\n",
            "516/516 [==============================] - 1s 2ms/step - loss: 0.2977 - val_loss: 0.3905\n",
            "Epoch 47/100\n",
            "516/516 [==============================] - 1s 2ms/step - loss: 0.2964 - val_loss: 0.3763\n",
            "Epoch 48/100\n",
            "516/516 [==============================] - 1s 2ms/step - loss: 0.2952 - val_loss: 0.3814\n",
            "Epoch 49/100\n",
            "516/516 [==============================] - 1s 2ms/step - loss: 0.2950 - val_loss: 0.3789\n",
            "Epoch 50/100\n",
            "516/516 [==============================] - 1s 2ms/step - loss: 0.2938 - val_loss: 0.3953\n",
            "Epoch 51/100\n",
            "516/516 [==============================] - 1s 3ms/step - loss: 0.2925 - val_loss: 0.4344\n",
            "Epoch 52/100\n",
            "516/516 [==============================] - 1s 2ms/step - loss: 0.2907 - val_loss: 0.3871\n",
            "Epoch 53/100\n",
            "516/516 [==============================] - 1s 2ms/step - loss: 0.2910 - val_loss: 0.3765\n",
            "Epoch 54/100\n",
            "516/516 [==============================] - 1s 2ms/step - loss: 0.2903 - val_loss: 0.3658\n",
            "Epoch 55/100\n",
            "516/516 [==============================] - 1s 2ms/step - loss: 0.2891 - val_loss: 0.3669\n",
            "Epoch 56/100\n",
            "516/516 [==============================] - 1s 2ms/step - loss: 0.2883 - val_loss: 0.3928\n",
            "Epoch 57/100\n",
            "516/516 [==============================] - 1s 2ms/step - loss: 0.2881 - val_loss: 0.3630\n",
            "Epoch 58/100\n",
            "516/516 [==============================] - 1s 2ms/step - loss: 0.2882 - val_loss: 0.3719\n",
            "Epoch 59/100\n",
            "516/516 [==============================] - 1s 2ms/step - loss: 0.2869 - val_loss: 0.4035\n",
            "Epoch 60/100\n",
            "516/516 [==============================] - 1s 2ms/step - loss: 0.2858 - val_loss: 0.3662\n",
            "Epoch 61/100\n",
            "516/516 [==============================] - 1s 2ms/step - loss: 0.2850 - val_loss: 0.3870\n",
            "Epoch 62/100\n",
            "516/516 [==============================] - 1s 2ms/step - loss: 0.2846 - val_loss: 0.3666\n",
            "Epoch 63/100\n",
            "516/516 [==============================] - 2s 3ms/step - loss: 0.2845 - val_loss: 0.3756\n",
            "Epoch 64/100\n",
            "516/516 [==============================] - 1s 2ms/step - loss: 0.2846 - val_loss: 0.3639\n",
            "Epoch 65/100\n",
            "516/516 [==============================] - 1s 2ms/step - loss: 0.2834 - val_loss: 0.4001\n",
            "Epoch 66/100\n",
            "516/516 [==============================] - 1s 2ms/step - loss: 0.2825 - val_loss: 0.3803\n",
            "Epoch 67/100\n",
            "516/516 [==============================] - 1s 2ms/step - loss: 0.2830 - val_loss: 0.3760\n",
            "Epoch 68/100\n",
            "516/516 [==============================] - 1s 2ms/step - loss: 0.2828 - val_loss: 0.3833\n",
            "Epoch 69/100\n",
            "516/516 [==============================] - 1s 2ms/step - loss: 0.2815 - val_loss: 0.3749\n",
            "Epoch 70/100\n",
            "516/516 [==============================] - 1s 2ms/step - loss: 0.2829 - val_loss: 0.3902\n",
            "Epoch 71/100\n",
            "516/516 [==============================] - 1s 2ms/step - loss: 0.2810 - val_loss: 0.3809\n",
            "Epoch 72/100\n",
            "516/516 [==============================] - 1s 2ms/step - loss: 0.2822 - val_loss: 0.3681\n",
            "Epoch 73/100\n",
            "516/516 [==============================] - 1s 2ms/step - loss: 0.2814 - val_loss: 0.3710\n",
            "Epoch 74/100\n",
            "516/516 [==============================] - 1s 3ms/step - loss: 0.2806 - val_loss: 0.3668\n",
            "Epoch 75/100\n",
            "516/516 [==============================] - 1s 3ms/step - loss: 0.2799 - val_loss: 0.3552\n",
            "Epoch 76/100\n",
            "516/516 [==============================] - 1s 2ms/step - loss: 0.2803 - val_loss: 0.3985\n",
            "Epoch 77/100\n",
            "516/516 [==============================] - 1s 2ms/step - loss: 0.2797 - val_loss: 0.3891\n",
            "Epoch 78/100\n",
            "516/516 [==============================] - 1s 2ms/step - loss: 0.2805 - val_loss: 0.3995\n",
            "Epoch 79/100\n",
            "516/516 [==============================] - 1s 2ms/step - loss: 0.2801 - val_loss: 0.3712\n",
            "Epoch 80/100\n",
            "516/516 [==============================] - 1s 2ms/step - loss: 0.2791 - val_loss: 0.3913\n",
            "Epoch 81/100\n",
            "516/516 [==============================] - 1s 2ms/step - loss: 0.2794 - val_loss: 0.3898\n",
            "Epoch 82/100\n",
            "516/516 [==============================] - 1s 2ms/step - loss: 0.2796 - val_loss: 0.3704\n",
            "Epoch 83/100\n",
            "516/516 [==============================] - 1s 2ms/step - loss: 0.2796 - val_loss: 0.3741\n",
            "Epoch 84/100\n",
            "516/516 [==============================] - 1s 2ms/step - loss: 0.2796 - val_loss: 0.3646\n",
            "Epoch 85/100\n",
            "516/516 [==============================] - 1s 2ms/step - loss: 0.2785 - val_loss: 0.3835\n",
            "Epoch 86/100\n",
            "516/516 [==============================] - 1s 3ms/step - loss: 0.2794 - val_loss: 0.3862\n",
            "Epoch 87/100\n",
            "516/516 [==============================] - 2s 5ms/step - loss: 0.2783 - val_loss: 0.3809\n",
            "Epoch 88/100\n",
            "516/516 [==============================] - 2s 3ms/step - loss: 0.2782 - val_loss: 0.3908\n",
            "Epoch 89/100\n",
            "516/516 [==============================] - 1s 2ms/step - loss: 0.2777 - val_loss: 0.3762\n",
            "Epoch 90/100\n",
            "516/516 [==============================] - 1s 2ms/step - loss: 0.2774 - val_loss: 0.3817\n",
            "Epoch 91/100\n",
            "516/516 [==============================] - 1s 2ms/step - loss: 0.2777 - val_loss: 0.3777\n",
            "Epoch 92/100\n",
            "516/516 [==============================] - 1s 2ms/step - loss: 0.2778 - val_loss: 0.3773\n",
            "Epoch 93/100\n",
            "516/516 [==============================] - 1s 2ms/step - loss: 0.2773 - val_loss: 0.3683\n",
            "Epoch 94/100\n",
            "516/516 [==============================] - 1s 2ms/step - loss: 0.2783 - val_loss: 0.3692\n",
            "Epoch 95/100\n",
            "516/516 [==============================] - 1s 2ms/step - loss: 0.2772 - val_loss: 0.3959\n",
            "Epoch 96/100\n",
            "516/516 [==============================] - 1s 2ms/step - loss: 0.2771 - val_loss: 0.3706\n",
            "Epoch 97/100\n",
            "516/516 [==============================] - 1s 3ms/step - loss: 0.2760 - val_loss: 0.3721\n",
            "Epoch 98/100\n",
            "516/516 [==============================] - 2s 3ms/step - loss: 0.2768 - val_loss: 0.3790\n",
            "Epoch 99/100\n",
            "516/516 [==============================] - 1s 2ms/step - loss: 0.2763 - val_loss: 0.3774\n",
            "Epoch 100/100\n",
            "516/516 [==============================] - 1s 2ms/step - loss: 0.2762 - val_loss: 0.3674\n"
          ]
        }
      ]
    },
    {
      "cell_type": "code",
      "source": [
        "plt.subplot(2,2,1)\n",
        "plt.plot(history1.history['loss'])\n",
        "plt.plot(history1.history['val_loss'])\n",
        "plt.title('Mean Squared Error')\n",
        "plt.xlabel('MSE')\n",
        "plt.ylabel('epoch')\n",
        "plt.legend(['train', 'test'], loc='upper left')\n",
        "\n",
        "plt.subplot(2,2,2)\n",
        "plt.plot(history2.history['loss'])\n",
        "plt.plot(history2.history['val_loss'])\n",
        "plt.title('Mean Squared Error')\n",
        "plt.xlabel('MSE')\n",
        "plt.ylabel('epoch')\n",
        "plt.legend(['train', 'test'], loc='upper left')\n",
        "\n",
        "plt.show()"
      ],
      "metadata": {
        "colab": {
          "base_uri": "https://localhost:8080/",
          "height": 270
        },
        "id": "ZRFPSJGwtzhN",
        "outputId": "24ee0d93-3c0c-4564-ac6b-4abe1373a5bb"
      },
      "execution_count": null,
      "outputs": [
        {
          "output_type": "display_data",
          "data": {
            "text/plain": [
              "<Figure size 640x480 with 2 Axes>"
            ],
            "image/png": "[encoded data removed]"
          },
          "metadata": {}
        }
      ]
    },
    {
      "cell_type": "markdown",
      "source": [
        "## Classification (MNIST dataset)"
      ],
      "metadata": {
        "id": "yKqHQjfVxNll"
      }
    },
    {
      "cell_type": "markdown",
      "source": [
        "- 28x28 pixel 이미지에 0~9까지의 숫자가 적혀있는 손글씨 데이터셋\n",
        "- 70,000개의 이미지와 레이블로 이루어져 있다"
      ],
      "metadata": {
        "id": "tHzEF11x8BPh"
      }
    },
    {
      "cell_type": "code",
      "source": [
        "import numpy as np\n",
        "import matplotlib.pyplot as plt\n",
        "import tensorflow as tf\n",
        "from tensorflow import keras\n",
        "from sklearn.datasets import fetch_openml\n",
        "\n",
        "mnist = fetch_openml('mnist_784')\n",
        "print(mnist.keys())"
      ],
      "metadata": {
        "colab": {
          "base_uri": "https://localhost:8080/"
        },
        "id": "hjZky67Y7_Ks",
        "outputId": "af24de61-ec1e-4267-e69e-4b368dd6f609"
      },
      "execution_count": null,
      "outputs": [
        {
          "output_type": "stream",
          "name": "stderr",
          "text": [
            "/usr/local/lib/python3.9/dist-packages/sklearn/datasets/_openml.py:968: FutureWarning: The default value of `parser` will change from `'liac-arff'` to `'auto'` in 1.4. You can set `parser='auto'` to silence this warning. Therefore, an `ImportError` will be raised from 1.4 if the dataset is dense and pandas is not installed. Note that the pandas parser may return different data types. See the Notes Section in fetch_openml's API doc for details.\n",
            "  warn(\n"
          ]
        },
        {
          "output_type": "stream",
          "name": "stdout",
          "text": [
            "dict_keys(['data', 'target', 'frame', 'categories', 'feature_names', 'target_names', 'DESCR', 'details', 'url'])\n"
          ]
        }
      ]
    },
    {
      "cell_type": "code",
      "source": [
        "x_data = mnist.data # 이미지 픽셀값\n",
        "y_data = mnist.target # 해당 이미지가 나타내는 숫자 레이블\n",
        "\n",
        "# print(x_data.shape)\n",
        "# print(y_data.shape)"
      ],
      "metadata": {
        "id": "7dqWIdek8c0r"
      },
      "execution_count": null,
      "outputs": []
    },
    {
      "cell_type": "code",
      "source": [
        "from sklearn import model_selection\n",
        "\n",
        "# train, test 데이터로 분할하기\n",
        "x_train, x_test, y_train, y_test = model_selection.train_test_split(x_data, y_data, test_size = 0.2)"
      ],
      "metadata": {
        "id": "ETaq-hxPCDZl"
      },
      "execution_count": null,
      "outputs": []
    },
    {
      "cell_type": "code",
      "source": [
        "from sklearn.preprocessing import MinMaxScaler\n",
        "\n",
        "scaler = MinMaxScaler() # feature scaling 을 위한 함수\n",
        "# 데이터 범위를 0~1 사이의 값으로 조정한다\n",
        "x_train_scaled = scaler.fit_transform(x_train)\n",
        "x_test_scaled = scaler.fit_transform(x_test)"
      ],
      "metadata": {
        "id": "IfZbRyQQCQ90"
      },
      "execution_count": null,
      "outputs": []
    },
    {
      "cell_type": "code",
      "source": [
        "from sklearn.preprocessing import LabelBinarizer\n",
        "# y_train, y_test의 각 클래스에 대해 이진 벡터로 변환\n",
        "encoder = LabelBinarizer()\n",
        "y_train_onehot = encoder.fit_transform(y_train)\n",
        "y_test_onehot = encoder.fit_transform(y_test)"
      ],
      "metadata": {
        "id": "aKYjmwG_CohD"
      },
      "execution_count": null,
      "outputs": []
    },
    {
      "cell_type": "code",
      "source": [
        "from sklearn import metrics\n",
        "from keras import layers, models\n",
        "\n",
        "input_shape = (x_train_scaled.shape[1], )\n",
        "\n",
        "print(input_shape) # 28 * 28 = 784"
      ],
      "metadata": {
        "colab": {
          "base_uri": "https://localhost:8080/"
        },
        "id": "SlULkmUDpxWU",
        "outputId": "3a999740-1f98-4386-90f1-9fd8924add8e"
      },
      "execution_count": null,
      "outputs": [
        {
          "output_type": "stream",
          "name": "stdout",
          "text": [
            "(784,)\n"
          ]
        }
      ]
    },
    {
      "cell_type": "markdown",
      "source": [
        "### sequential API"
      ],
      "metadata": {
        "id": "k0xPSMLbSWA7"
      }
    },
    {
      "cell_type": "code",
      "source": [
        "clf_model_seq = models.Sequential()\n",
        "# 첫 번째 층은 input_shape로 입력 크기를 지정\n",
        "# 두 번째 층은 이전 층의 출력 크기를 알고 있어 크기 지정 X\n",
        "# activation func으로 relu와 softmax를 사용한다\n",
        "clf_model_seq.add(layers.Dense(units=100, activation='relu', input_shape=input_shape))\n",
        "clf_model_seq.add(layers.Dense(units=50, activation='relu'))\n",
        "clf_model_seq.add(layers.Dense(units=20, activation='relu'))\n",
        "clf_model_seq.add(layers.Dense(units=10, activation='softmax'))\n",
        "\n",
        "# multi-class classification 문제 -> categorical_crossentropy 손실 함수 사용\n",
        "clf_model_seq.compile(loss='categorical_crossentropy', metrics='accuracy')\n",
        "clf_model_seq.summary()"
      ],
      "metadata": {
        "colab": {
          "base_uri": "https://localhost:8080/"
        },
        "id": "wjRSbgLyNxQA",
        "outputId": "f9da9aa0-cdc2-4ddf-daf2-f37f205dfd07"
      },
      "execution_count": null,
      "outputs": [
        {
          "output_type": "stream",
          "name": "stdout",
          "text": [
            "Model: \"sequential_5\"\n",
            "_________________________________________________________________\n",
            " Layer (type)                Output Shape              Param #   \n",
            "=================================================================\n",
            " dense_99 (Dense)            (None, 100)               78500     \n",
            "                                                                 \n",
            " dense_100 (Dense)           (None, 50)                5050      \n",
            "                                                                 \n",
            " dense_101 (Dense)           (None, 20)                1020      \n",
            "                                                                 \n",
            " dense_102 (Dense)           (None, 10)                210       \n",
            "                                                                 \n",
            "=================================================================\n",
            "Total params: 84,780\n",
            "Trainable params: 84,780\n",
            "Non-trainable params: 0\n",
            "_________________________________________________________________\n"
          ]
        }
      ]
    },
    {
      "cell_type": "code",
      "source": [
        "history = clf_model_seq.fit(x_train_scaled, y_train_onehot, validation_data = [x_test_scaled, y_test_onehot], batch_size = 32, epochs = 50)"
      ],
      "metadata": {
        "colab": {
          "base_uri": "https://localhost:8080/"
        },
        "id": "cyhaImmpRu6W",
        "outputId": "cd5c1b7b-b8ba-4f17-9d45-b40923463b9b"
      },
      "execution_count": null,
      "outputs": [
        {
          "output_type": "stream",
          "name": "stdout",
          "text": [
            "Epoch 1/50\n",
            "1750/1750 [==============================] - 10s 5ms/step - loss: 0.2873 - accuracy: 0.9161 - val_loss: 0.1670 - val_accuracy: 0.9509\n",
            "Epoch 2/50\n",
            "1750/1750 [==============================] - 8s 5ms/step - loss: 0.1237 - accuracy: 0.9635 - val_loss: 0.1297 - val_accuracy: 0.9641\n",
            "Epoch 3/50\n",
            "1750/1750 [==============================] - 5s 3ms/step - loss: 0.0923 - accuracy: 0.9727 - val_loss: 0.1184 - val_accuracy: 0.9667\n",
            "Epoch 4/50\n",
            "1750/1750 [==============================] - 6s 4ms/step - loss: 0.0744 - accuracy: 0.9782 - val_loss: 0.1045 - val_accuracy: 0.9714\n",
            "Epoch 5/50\n",
            "1750/1750 [==============================] - 5s 3ms/step - loss: 0.0627 - accuracy: 0.9818 - val_loss: 0.1125 - val_accuracy: 0.9693\n",
            "Epoch 6/50\n",
            "1750/1750 [==============================] - 6s 3ms/step - loss: 0.0539 - accuracy: 0.9840 - val_loss: 0.1077 - val_accuracy: 0.9735\n",
            "Epoch 7/50\n",
            "1750/1750 [==============================] - 6s 3ms/step - loss: 0.0472 - accuracy: 0.9862 - val_loss: 0.1252 - val_accuracy: 0.9692\n",
            "Epoch 8/50\n",
            "1750/1750 [==============================] - 5s 3ms/step - loss: 0.0392 - accuracy: 0.9885 - val_loss: 0.1238 - val_accuracy: 0.9724\n",
            "Epoch 9/50\n",
            "1750/1750 [==============================] - 6s 4ms/step - loss: 0.0345 - accuracy: 0.9898 - val_loss: 0.1154 - val_accuracy: 0.9751\n",
            "Epoch 10/50\n",
            "1750/1750 [==============================] - 5s 3ms/step - loss: 0.0338 - accuracy: 0.9901 - val_loss: 0.1317 - val_accuracy: 0.9735\n",
            "Epoch 11/50\n",
            "1750/1750 [==============================] - 6s 3ms/step - loss: 0.0286 - accuracy: 0.9917 - val_loss: 0.1396 - val_accuracy: 0.9728\n",
            "Epoch 12/50\n",
            "1750/1750 [==============================] - 6s 3ms/step - loss: 0.0270 - accuracy: 0.9924 - val_loss: 0.1871 - val_accuracy: 0.9675\n",
            "Epoch 13/50\n",
            "1750/1750 [==============================] - 6s 4ms/step - loss: 0.0243 - accuracy: 0.9932 - val_loss: 0.1428 - val_accuracy: 0.9764\n",
            "Epoch 14/50\n",
            "1750/1750 [==============================] - 5s 3ms/step - loss: 0.0232 - accuracy: 0.9937 - val_loss: 0.1675 - val_accuracy: 0.9744\n",
            "Epoch 15/50\n",
            "1750/1750 [==============================] - 6s 3ms/step - loss: 0.0205 - accuracy: 0.9943 - val_loss: 0.1683 - val_accuracy: 0.9735\n",
            "Epoch 16/50\n",
            "1750/1750 [==============================] - 6s 4ms/step - loss: 0.0187 - accuracy: 0.9951 - val_loss: 0.1970 - val_accuracy: 0.9704\n",
            "Epoch 17/50\n",
            "1750/1750 [==============================] - 6s 3ms/step - loss: 0.0173 - accuracy: 0.9948 - val_loss: 0.1710 - val_accuracy: 0.9764\n",
            "Epoch 18/50\n",
            "1750/1750 [==============================] - 6s 4ms/step - loss: 0.0147 - accuracy: 0.9961 - val_loss: 0.2029 - val_accuracy: 0.9740\n",
            "Epoch 19/50\n",
            "1750/1750 [==============================] - 5s 3ms/step - loss: 0.0146 - accuracy: 0.9958 - val_loss: 0.1944 - val_accuracy: 0.9749\n",
            "Epoch 20/50\n",
            "1750/1750 [==============================] - 6s 4ms/step - loss: 0.0125 - accuracy: 0.9965 - val_loss: 0.2153 - val_accuracy: 0.9742\n",
            "Epoch 21/50\n",
            "1750/1750 [==============================] - 6s 3ms/step - loss: 0.0124 - accuracy: 0.9965 - val_loss: 0.2030 - val_accuracy: 0.9751\n",
            "Epoch 22/50\n",
            "1750/1750 [==============================] - 6s 4ms/step - loss: 0.0115 - accuracy: 0.9971 - val_loss: 0.2083 - val_accuracy: 0.9748\n",
            "Epoch 23/50\n",
            "1750/1750 [==============================] - 6s 3ms/step - loss: 0.0106 - accuracy: 0.9975 - val_loss: 0.2218 - val_accuracy: 0.9764\n",
            "Epoch 24/50\n",
            "1750/1750 [==============================] - 6s 4ms/step - loss: 0.0121 - accuracy: 0.9971 - val_loss: 0.2304 - val_accuracy: 0.9742\n",
            "Epoch 25/50\n",
            "1750/1750 [==============================] - 5s 3ms/step - loss: 0.0100 - accuracy: 0.9973 - val_loss: 0.2213 - val_accuracy: 0.9754\n",
            "Epoch 26/50\n",
            "1750/1750 [==============================] - 6s 4ms/step - loss: 0.0101 - accuracy: 0.9976 - val_loss: 0.2394 - val_accuracy: 0.9753\n",
            "Epoch 27/50\n",
            "1750/1750 [==============================] - 5s 3ms/step - loss: 0.0082 - accuracy: 0.9977 - val_loss: 0.2602 - val_accuracy: 0.9729\n",
            "Epoch 28/50\n",
            "1750/1750 [==============================] - 6s 3ms/step - loss: 0.0074 - accuracy: 0.9978 - val_loss: 0.2573 - val_accuracy: 0.9751\n",
            "Epoch 29/50\n",
            "1750/1750 [==============================] - 6s 3ms/step - loss: 0.0068 - accuracy: 0.9982 - val_loss: 0.2502 - val_accuracy: 0.9756\n",
            "Epoch 30/50\n",
            "1750/1750 [==============================] - 5s 3ms/step - loss: 0.0091 - accuracy: 0.9977 - val_loss: 0.2586 - val_accuracy: 0.9738\n",
            "Epoch 31/50\n",
            "1750/1750 [==============================] - 7s 4ms/step - loss: 0.0076 - accuracy: 0.9980 - val_loss: 0.2588 - val_accuracy: 0.9749\n",
            "Epoch 32/50\n",
            "1750/1750 [==============================] - 5s 3ms/step - loss: 0.0071 - accuracy: 0.9979 - val_loss: 0.2666 - val_accuracy: 0.9747\n",
            "Epoch 33/50\n",
            "1750/1750 [==============================] - 6s 4ms/step - loss: 0.0070 - accuracy: 0.9982 - val_loss: 0.3032 - val_accuracy: 0.9744\n",
            "Epoch 34/50\n",
            "1750/1750 [==============================] - 5s 3ms/step - loss: 0.0068 - accuracy: 0.9982 - val_loss: 0.2962 - val_accuracy: 0.9745\n",
            "Epoch 35/50\n",
            "1750/1750 [==============================] - 6s 4ms/step - loss: 0.0051 - accuracy: 0.9986 - val_loss: 0.2958 - val_accuracy: 0.9752\n",
            "Epoch 36/50\n",
            "1750/1750 [==============================] - 5s 3ms/step - loss: 0.0062 - accuracy: 0.9983 - val_loss: 0.3068 - val_accuracy: 0.9743\n",
            "Epoch 37/50\n",
            "1750/1750 [==============================] - 6s 3ms/step - loss: 0.0050 - accuracy: 0.9987 - val_loss: 0.3373 - val_accuracy: 0.9748\n",
            "Epoch 38/50\n",
            "1750/1750 [==============================] - 5s 3ms/step - loss: 0.0059 - accuracy: 0.9985 - val_loss: 0.2916 - val_accuracy: 0.9746\n",
            "Epoch 39/50\n",
            "1750/1750 [==============================] - 6s 3ms/step - loss: 0.0050 - accuracy: 0.9986 - val_loss: 0.2980 - val_accuracy: 0.9764\n",
            "Epoch 40/50\n",
            "1750/1750 [==============================] - 6s 3ms/step - loss: 0.0055 - accuracy: 0.9987 - val_loss: 0.3296 - val_accuracy: 0.9754\n",
            "Epoch 41/50\n",
            "1750/1750 [==============================] - 5s 3ms/step - loss: 0.0072 - accuracy: 0.9982 - val_loss: 0.3079 - val_accuracy: 0.9760\n",
            "Epoch 42/50\n",
            "1750/1750 [==============================] - 6s 3ms/step - loss: 0.0041 - accuracy: 0.9990 - val_loss: 0.3065 - val_accuracy: 0.9762\n",
            "Epoch 43/50\n",
            "1750/1750 [==============================] - 5s 3ms/step - loss: 0.0030 - accuracy: 0.9992 - val_loss: 0.3228 - val_accuracy: 0.9760\n",
            "Epoch 44/50\n",
            "1750/1750 [==============================] - 6s 4ms/step - loss: 0.0040 - accuracy: 0.9990 - val_loss: 0.3480 - val_accuracy: 0.9762\n",
            "Epoch 45/50\n",
            "1750/1750 [==============================] - 5s 3ms/step - loss: 0.0032 - accuracy: 0.9991 - val_loss: 0.3244 - val_accuracy: 0.9766\n",
            "Epoch 46/50\n",
            "1750/1750 [==============================] - 6s 4ms/step - loss: 0.0028 - accuracy: 0.9992 - val_loss: 0.3291 - val_accuracy: 0.9756\n",
            "Epoch 47/50\n",
            "1750/1750 [==============================] - 5s 3ms/step - loss: 0.0033 - accuracy: 0.9991 - val_loss: 0.3467 - val_accuracy: 0.9760\n",
            "Epoch 48/50\n",
            "1750/1750 [==============================] - 6s 3ms/step - loss: 0.0017 - accuracy: 0.9995 - val_loss: 0.3204 - val_accuracy: 0.9764\n",
            "Epoch 49/50\n",
            "1750/1750 [==============================] - 6s 3ms/step - loss: 0.0024 - accuracy: 0.9994 - val_loss: 0.3367 - val_accuracy: 0.9761\n",
            "Epoch 50/50\n",
            "1750/1750 [==============================] - 5s 3ms/step - loss: 0.0015 - accuracy: 0.9996 - val_loss: 0.3338 - val_accuracy: 0.9771\n"
          ]
        }
      ]
    },
    {
      "cell_type": "code",
      "source": [
        "plt.subplot(2,2,1)\n",
        "plt.plot(history.history['accuracy'])\n",
        "plt.plot(history.history['val_accuracy'])\n",
        "plt.title('Classification Accuracy')\n",
        "plt.ylabel('accuracy')\n",
        "plt.xlabel('epoch')\n",
        "plt.legend(['train', 'test'], loc='upper left')\n",
        "\n",
        "plt.subplot(2,2,2)\n",
        "plt.plot(history.history['loss'])\n",
        "plt.plot(history.history['val_loss'])\n",
        "plt.title('Loss')\n",
        "plt.ylabel('loss')\n",
        "plt.xlabel('epoch')\n",
        "plt.legend(['train', 'test'], loc='upper left')\n",
        "\n",
        "plt.show()"
      ],
      "metadata": {
        "colab": {
          "base_uri": "https://localhost:8080/",
          "height": 270
        },
        "id": "S82J-RVJRysQ",
        "outputId": "c52c59d5-1af6-40ba-f75d-42b92aa93785"
      },
      "execution_count": null,
      "outputs": [
        {
          "output_type": "display_data",
          "data": {
            "text/plain": [
              "<Figure size 640x480 with 2 Axes>"
            ],
            "image/png": "[encoded data removed]"
          },
          "metadata": {}
        }
      ]
    },
    {
      "cell_type": "markdown",
      "source": [
        "### functional API\n",
        "\n",
        "- layers.Input(): 입력 레이어 정의, input_shape를 통해 입력의 형태 지정\n",
        "- layers.Dense()로 hidden layer를 추가한다"
      ],
      "metadata": {
        "id": "bSRSJjSvxXZs"
      }
    },
    {
      "cell_type": "code",
      "source": [
        "input_shape = (x_train_scaled.shape[1], )\n",
        "\n",
        "input = layers.Input(shape=input_shape)\n",
        "hidden_1st = layers.Dense(30, activation='relu')(input)\n",
        "hidden_2nd = layers.Dense(15, activation='relu')(hidden_1st)\n",
        "output = layers.Dense(10, activation='softmax')(hidden_2nd)\n",
        "\n",
        "\n",
        "clf_model_func = models.Model(input, output)\n",
        "\n",
        "clf_model_func.compile(loss='categorical_crossentropy', metrics=['accuracy'])\n",
        "clf_model_func.summary()"
      ],
      "metadata": {
        "colab": {
          "base_uri": "https://localhost:8080/"
        },
        "id": "EAtkNpdJxPIx",
        "outputId": "5b07376a-d548-4ff1-f18b-97ba1e9a7dc9"
      },
      "execution_count": null,
      "outputs": [
        {
          "output_type": "stream",
          "name": "stdout",
          "text": [
            "Model: \"model_6\"\n",
            "_________________________________________________________________\n",
            " Layer (type)                Output Shape              Param #   \n",
            "=================================================================\n",
            " input_7 (InputLayer)        [(None, 784)]             0         \n",
            "                                                                 \n",
            " dense_18 (Dense)            (None, 30)                23550     \n",
            "                                                                 \n",
            " dense_19 (Dense)            (None, 15)                465       \n",
            "                                                                 \n",
            " dense_20 (Dense)            (None, 10)                160       \n",
            "                                                                 \n",
            "=================================================================\n",
            "Total params: 24,175\n",
            "Trainable params: 24,175\n",
            "Non-trainable params: 0\n",
            "_________________________________________________________________\n"
          ]
        }
      ]
    },
    {
      "cell_type": "code",
      "source": [
        "history = clf_model_func.fit(x_train_scaled, y_train_onehot, validation_data = [x_test_scaled, y_test_onehot], batch_size = 32, epochs=50)"
      ],
      "metadata": {
        "colab": {
          "base_uri": "https://localhost:8080/"
        },
        "id": "mgQx_CglTmJy",
        "outputId": "30a9d864-bdea-42e5-b740-7e955127408e"
      },
      "execution_count": null,
      "outputs": [
        {
          "output_type": "stream",
          "name": "stdout",
          "text": [
            "Epoch 1/50\n",
            "1750/1750 [==============================] - 6s 3ms/step - loss: 0.3891 - accuracy: 0.8882 - val_loss: 0.2386 - val_accuracy: 0.9306\n",
            "Epoch 2/50\n",
            "1750/1750 [==============================] - 4s 2ms/step - loss: 0.2027 - accuracy: 0.9417 - val_loss: 0.2009 - val_accuracy: 0.9427\n",
            "Epoch 3/50\n",
            "1750/1750 [==============================] - 4s 2ms/step - loss: 0.1624 - accuracy: 0.9531 - val_loss: 0.1742 - val_accuracy: 0.9491\n",
            "Epoch 4/50\n",
            "1750/1750 [==============================] - 5s 3ms/step - loss: 0.1411 - accuracy: 0.9589 - val_loss: 0.1597 - val_accuracy: 0.9554\n",
            "Epoch 5/50\n",
            "1750/1750 [==============================] - 4s 2ms/step - loss: 0.1269 - accuracy: 0.9636 - val_loss: 0.1547 - val_accuracy: 0.9569\n",
            "Epoch 6/50\n",
            "1750/1750 [==============================] - 5s 3ms/step - loss: 0.1156 - accuracy: 0.9666 - val_loss: 0.1419 - val_accuracy: 0.9601\n",
            "Epoch 7/50\n",
            "1750/1750 [==============================] - 5s 3ms/step - loss: 0.1070 - accuracy: 0.9693 - val_loss: 0.1569 - val_accuracy: 0.9556\n",
            "Epoch 8/50\n",
            "1750/1750 [==============================] - 4s 2ms/step - loss: 0.1006 - accuracy: 0.9713 - val_loss: 0.1428 - val_accuracy: 0.9591\n",
            "Epoch 9/50\n",
            "1750/1750 [==============================] - 6s 3ms/step - loss: 0.0947 - accuracy: 0.9728 - val_loss: 0.1567 - val_accuracy: 0.9573\n",
            "Epoch 10/50\n",
            "1750/1750 [==============================] - 4s 2ms/step - loss: 0.0903 - accuracy: 0.9743 - val_loss: 0.1490 - val_accuracy: 0.9613\n",
            "Epoch 11/50\n",
            "1750/1750 [==============================] - 4s 2ms/step - loss: 0.0863 - accuracy: 0.9752 - val_loss: 0.1515 - val_accuracy: 0.9607\n",
            "Epoch 12/50\n",
            "1750/1750 [==============================] - 5s 3ms/step - loss: 0.0817 - accuracy: 0.9764 - val_loss: 0.1482 - val_accuracy: 0.9624\n",
            "Epoch 13/50\n",
            "1750/1750 [==============================] - 4s 2ms/step - loss: 0.0778 - accuracy: 0.9776 - val_loss: 0.1561 - val_accuracy: 0.9602\n",
            "Epoch 14/50\n",
            "1750/1750 [==============================] - 4s 2ms/step - loss: 0.0752 - accuracy: 0.9786 - val_loss: 0.1489 - val_accuracy: 0.9631\n",
            "Epoch 15/50\n",
            "1750/1750 [==============================] - 5s 3ms/step - loss: 0.0720 - accuracy: 0.9794 - val_loss: 0.1578 - val_accuracy: 0.9614\n",
            "Epoch 16/50\n",
            "1750/1750 [==============================] - 4s 2ms/step - loss: 0.0694 - accuracy: 0.9799 - val_loss: 0.1543 - val_accuracy: 0.9610\n",
            "Epoch 17/50\n",
            "1750/1750 [==============================] - 6s 4ms/step - loss: 0.0682 - accuracy: 0.9807 - val_loss: 0.1543 - val_accuracy: 0.9642\n",
            "Epoch 18/50\n",
            "1750/1750 [==============================] - 4s 2ms/step - loss: 0.0649 - accuracy: 0.9814 - val_loss: 0.1608 - val_accuracy: 0.9609\n",
            "Epoch 19/50\n",
            "1750/1750 [==============================] - 4s 2ms/step - loss: 0.0630 - accuracy: 0.9817 - val_loss: 0.1650 - val_accuracy: 0.9624\n",
            "Epoch 20/50\n",
            "1750/1750 [==============================] - 5s 3ms/step - loss: 0.0610 - accuracy: 0.9826 - val_loss: 0.1616 - val_accuracy: 0.9631\n",
            "Epoch 21/50\n",
            "1750/1750 [==============================] - 4s 3ms/step - loss: 0.0598 - accuracy: 0.9822 - val_loss: 0.1845 - val_accuracy: 0.9603\n",
            "Epoch 22/50\n",
            "1750/1750 [==============================] - 4s 2ms/step - loss: 0.0593 - accuracy: 0.9829 - val_loss: 0.1753 - val_accuracy: 0.9631\n",
            "Epoch 23/50\n",
            "1750/1750 [==============================] - 5s 3ms/step - loss: 0.0565 - accuracy: 0.9839 - val_loss: 0.1831 - val_accuracy: 0.9626\n",
            "Epoch 24/50\n",
            "1750/1750 [==============================] - 4s 2ms/step - loss: 0.0555 - accuracy: 0.9841 - val_loss: 0.1744 - val_accuracy: 0.9631\n",
            "Epoch 25/50\n",
            "1750/1750 [==============================] - 5s 3ms/step - loss: 0.0543 - accuracy: 0.9851 - val_loss: 0.1787 - val_accuracy: 0.9636\n",
            "Epoch 26/50\n",
            "1750/1750 [==============================] - 5s 3ms/step - loss: 0.0509 - accuracy: 0.9855 - val_loss: 0.1817 - val_accuracy: 0.9626\n",
            "Epoch 27/50\n",
            "1750/1750 [==============================] - 4s 2ms/step - loss: 0.0507 - accuracy: 0.9858 - val_loss: 0.2226 - val_accuracy: 0.9564\n",
            "Epoch 28/50\n",
            "1750/1750 [==============================] - 5s 3ms/step - loss: 0.0501 - accuracy: 0.9854 - val_loss: 0.1953 - val_accuracy: 0.9624\n",
            "Epoch 29/50\n",
            "1750/1750 [==============================] - 4s 2ms/step - loss: 0.0497 - accuracy: 0.9859 - val_loss: 0.1978 - val_accuracy: 0.9604\n",
            "Epoch 30/50\n",
            "1750/1750 [==============================] - 4s 3ms/step - loss: 0.0480 - accuracy: 0.9865 - val_loss: 0.2164 - val_accuracy: 0.9614\n",
            "Epoch 31/50\n",
            "1750/1750 [==============================] - 5s 3ms/step - loss: 0.0471 - accuracy: 0.9866 - val_loss: 0.2133 - val_accuracy: 0.9614\n",
            "Epoch 32/50\n",
            "1750/1750 [==============================] - 4s 3ms/step - loss: 0.0453 - accuracy: 0.9871 - val_loss: 0.2039 - val_accuracy: 0.9628\n",
            "Epoch 33/50\n",
            "1750/1750 [==============================] - 4s 2ms/step - loss: 0.0438 - accuracy: 0.9879 - val_loss: 0.2104 - val_accuracy: 0.9609\n",
            "Epoch 34/50\n",
            "1750/1750 [==============================] - 5s 3ms/step - loss: 0.0445 - accuracy: 0.9879 - val_loss: 0.2207 - val_accuracy: 0.9619\n",
            "Epoch 35/50\n",
            "1750/1750 [==============================] - 4s 2ms/step - loss: 0.0433 - accuracy: 0.9880 - val_loss: 0.2206 - val_accuracy: 0.9606\n",
            "Epoch 36/50\n",
            "1750/1750 [==============================] - 5s 3ms/step - loss: 0.0435 - accuracy: 0.9879 - val_loss: 0.2213 - val_accuracy: 0.9614\n",
            "Epoch 37/50\n",
            "1750/1750 [==============================] - 5s 3ms/step - loss: 0.0409 - accuracy: 0.9882 - val_loss: 0.2339 - val_accuracy: 0.9602\n",
            "Epoch 38/50\n",
            "1750/1750 [==============================] - 4s 3ms/step - loss: 0.0408 - accuracy: 0.9886 - val_loss: 0.2416 - val_accuracy: 0.9617\n",
            "Epoch 39/50\n",
            "1750/1750 [==============================] - 5s 3ms/step - loss: 0.0400 - accuracy: 0.9886 - val_loss: 0.2468 - val_accuracy: 0.9594\n",
            "Epoch 40/50\n",
            "1750/1750 [==============================] - 4s 3ms/step - loss: 0.0392 - accuracy: 0.9892 - val_loss: 0.2424 - val_accuracy: 0.9601\n",
            "Epoch 41/50\n",
            "1750/1750 [==============================] - 4s 3ms/step - loss: 0.0385 - accuracy: 0.9894 - val_loss: 0.2636 - val_accuracy: 0.9586\n",
            "Epoch 42/50\n",
            "1750/1750 [==============================] - 5s 3ms/step - loss: 0.0382 - accuracy: 0.9892 - val_loss: 0.2549 - val_accuracy: 0.9580\n",
            "Epoch 43/50\n",
            "1750/1750 [==============================] - 4s 2ms/step - loss: 0.0378 - accuracy: 0.9894 - val_loss: 0.2511 - val_accuracy: 0.9606\n",
            "Epoch 44/50\n",
            "1750/1750 [==============================] - 5s 3ms/step - loss: 0.0374 - accuracy: 0.9897 - val_loss: 0.2634 - val_accuracy: 0.9601\n",
            "Epoch 45/50\n",
            "1750/1750 [==============================] - 5s 3ms/step - loss: 0.0365 - accuracy: 0.9894 - val_loss: 0.2769 - val_accuracy: 0.9600\n",
            "Epoch 46/50\n",
            "1750/1750 [==============================] - 4s 2ms/step - loss: 0.0346 - accuracy: 0.9906 - val_loss: 0.2657 - val_accuracy: 0.9625\n",
            "Epoch 47/50\n",
            "1750/1750 [==============================] - 5s 3ms/step - loss: 0.0351 - accuracy: 0.9901 - val_loss: 0.2748 - val_accuracy: 0.9598\n",
            "Epoch 48/50\n",
            "1750/1750 [==============================] - 4s 2ms/step - loss: 0.0334 - accuracy: 0.9905 - val_loss: 0.2693 - val_accuracy: 0.9577\n",
            "Epoch 49/50\n",
            "1750/1750 [==============================] - 4s 2ms/step - loss: 0.0333 - accuracy: 0.9902 - val_loss: 0.2799 - val_accuracy: 0.9597\n",
            "Epoch 50/50\n",
            "1750/1750 [==============================] - 5s 3ms/step - loss: 0.0334 - accuracy: 0.9910 - val_loss: 0.2928 - val_accuracy: 0.9595\n"
          ]
        }
      ]
    },
    {
      "cell_type": "code",
      "source": [
        "plt.subplot(2,2,1)\n",
        "plt.plot(history.history['accuracy'])\n",
        "plt.plot(history.history['val_accuracy'])\n",
        "plt.title('Classification Accuracy')\n",
        "plt.ylabel('accuracy')\n",
        "plt.xlabel('epoch')\n",
        "plt.legend(['train', 'test'], loc='upper left')\n",
        "\n",
        "plt.subplot(2,2,2)\n",
        "plt.plot(history.history['loss'])\n",
        "plt.plot(history.history['val_loss'])\n",
        "plt.plot('Loss')\n",
        "plt.ylabel('loss')\n",
        "plt.xlabel('epoch')\n",
        "plt.legend(['train', 'test'], loc='upper left')\n",
        "\n",
        "plt.show()"
      ],
      "metadata": {
        "colab": {
          "base_uri": "https://localhost:8080/",
          "height": 270
        },
        "id": "dPe0leGRTnYN",
        "outputId": "806a7de3-c9c3-41ae-fd8a-5b1eee3a059d"
      },
      "execution_count": null,
      "outputs": [
        {
          "output_type": "display_data",
          "data": {
            "text/plain": [
              "<Figure size 640x480 with 2 Axes>"
            ],
            "image/png": "[encoded data removed]"
          },
          "metadata": {}
        }
      ]
    },
    {
      "cell_type": "code",
      "source": [],
      "metadata": {
        "id": "L6Jvxg_lYByl"
      },
      "execution_count": null,
      "outputs": []
    }
  ]
}
